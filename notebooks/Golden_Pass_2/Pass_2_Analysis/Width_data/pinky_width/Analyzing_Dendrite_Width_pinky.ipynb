{
 "cells": [
  {
   "cell_type": "code",
   "execution_count": 1,
   "metadata": {},
   "outputs": [
    {
     "data": {
      "text/plain": [
       "'\\nPurpose; \\nTo rerun the dendritic width and length calculations on the run 2 pinky data\\n\\nOBSERVATIONS: \\nHad to limit the width to be below 1000 or else had 4 significant outliers\\nHave not rerun the stats yet\\n\\n\\n'"
      ]
     },
     "execution_count": 1,
     "metadata": {},
     "output_type": "execute_result"
    }
   ],
   "source": [
    "\"\"\"\n",
    "Purpose; \n",
    "To rerun the dendritic width and length calculations on the run 2 pinky data\n",
    "\n",
    "OBSERVATIONS: \n",
    "Had to limit the width to be below 1000 or else had 4 significant outliers\n",
    "Have not rerun the stats yet\n",
    "\n",
    "\n",
    "\"\"\""
   ]
  },
  {
   "cell_type": "code",
   "execution_count": 2,
   "metadata": {},
   "outputs": [],
   "source": [
    "import numpy as np\n",
    "import datajoint as dj\n",
    "import time\n",
    "import os\n",
    "import datetime\n",
    "\n",
    "#for supressing the output\n",
    "import os, contextlib\n",
    "import pathlib\n",
    "import subprocess\n",
    "\n",
    "#for error counting\n",
    "from collections import Counter\n",
    "\n",
    "#for reading in the new raw_skeleton files\n",
    "import csv\n",
    "import pandas as pd\n",
    "from tqdm import tqdm\n",
    "\n",
    "\n",
    "\n",
    "#for filtering\n",
    "import math\n",
    "from pykdtree.kdtree import KDTree\n",
    "\n",
    "import seaborn as sns"
   ]
  },
  {
   "cell_type": "code",
   "execution_count": 3,
   "metadata": {},
   "outputs": [
    {
     "name": "stdout",
     "output_type": "stream",
     "text": [
      "Connecting celiib@10.28.0.34:3306\n"
     ]
    }
   ],
   "source": [
    "#setting the address and the username\n",
    "dj.config['database.host'] = '10.28.0.34'\n",
    "dj.config['database.user'] = 'celiib'\n",
    "dj.config['database.password'] = 'newceliipass'\n",
    "dj.config['safemode']=True\n",
    "dj.config[\"display.limit\"] = 20\n",
    "\n",
    "schema = dj.schema('microns_pinky')\n",
    "ta3p100 = dj.create_virtual_module('pinky', 'microns_pinky')\n"
   ]
  },
  {
   "cell_type": "code",
   "execution_count": 4,
   "metadata": {},
   "outputs": [
    {
     "ename": "NameError",
     "evalue": "name 'pinky' is not defined",
     "output_type": "error",
     "traceback": [
      "\u001b[0;31m---------------------------------------------------------------------------\u001b[0m",
      "\u001b[0;31mNameError\u001b[0m                                 Traceback (most recent call last)",
      "\u001b[0;32m<ipython-input-4-77a329af0eb3>\u001b[0m in \u001b[0;36m<module>\u001b[0;34m\u001b[0m\n\u001b[0;32m----> 1\u001b[0;31m \u001b[0mpinky\u001b[0m\u001b[0;34m.\u001b[0m\u001b[0mNeurite\u001b[0m\u001b[0;34m\u001b[0m\u001b[0;34m\u001b[0m\u001b[0m\n\u001b[0m",
      "\u001b[0;31mNameError\u001b[0m: name 'pinky' is not defined"
     ]
    }
   ],
   "source": []
  },
  {
   "cell_type": "code",
   "execution_count": null,
   "metadata": {},
   "outputs": [],
   "source": [
    "#lose 10 dendrite segments to not having matching skeleton\n",
    "len(ta3p100.DendriteWidth()),len(ta3p100.DendriteWidth() & \"min_width_max>0\")"
   ]
  },
  {
   "cell_type": "code",
   "execution_count": null,
   "metadata": {},
   "outputs": [],
   "source": [
    "ta3p100.DendriteWidth & \"min_width_max<0\""
   ]
  },
  {
   "cell_type": "code",
   "execution_count": null,
   "metadata": {},
   "outputs": [],
   "source": [
    "dendrite_accepted = ta3p100.DendriteWidth() & \"min_width_max>0\""
   ]
  },
  {
   "cell_type": "code",
   "execution_count": null,
   "metadata": {},
   "outputs": [],
   "source": [
    "#get the distribution of all the 95 %\n",
    "#pull down the 95 percentile\n",
    "width_95_all = dendrite_accepted.fetch(\"min_width_perc_95\")\n",
    "#sns.set()\n",
    "width_95_all\n",
    "\n"
   ]
  },
  {
   "cell_type": "code",
   "execution_count": null,
   "metadata": {},
   "outputs": [],
   "source": [
    "dendrite_accepted & \"min_width_perc_95>10000\""
   ]
  },
  {
   "cell_type": "code",
   "execution_count": null,
   "metadata": {},
   "outputs": [],
   "source": [
    "#BECAUSE THE COMPONENT INDEX ISN'T ALWAYS THE LARGEST \n",
    "#get the list of the largest dendrite components and filter away the smaller ones\n",
    "\"\"\"\n",
    "Iterate over all dendrites in orphan\n",
    "1) pull down the segment_ids\n",
    "2) make unique segments ids (turn into set)\n",
    "3) For each unique segment id pull down all component index and n_vertex_indices Compartment Rows from the start table:\n",
    "a. Get the index of the highest vertex count\n",
    "b. Save the segment_id, component_index and n_vertex_indices as a dict\n",
    "c. Add it to the list of dicts\n",
    "\n",
    "Use the list of dicts to restrict the width table\n",
    "\n",
    "\"\"\"\n",
    "\n",
    "start_table = (ta3p100.CompartmentOrphan.ComponentOrphan() & \"compartment_type='Dendrite'\").proj(\"n_vertex_indices\")\n"
   ]
  },
  {
   "cell_type": "code",
   "execution_count": null,
   "metadata": {},
   "outputs": [],
   "source": [
    "start_table = (ta3p100.CompartmentOrphan.ComponentOrphan() & \"compartment_type='Dendrite'\").proj(\"n_vertex_indices\")\n",
    "seg_ids = start_table.fetch(\"segment_id\")\n",
    "len(seg_ids),len(set(seg_ids))\n",
    "\n",
    "component_total = []\n",
    "for s in set(seg_ids):\n",
    "    print(s)\n",
    "    seg_data = (start_table & \"segment_id=\"+str(s)).fetch(\"component_index\",\"n_vertex_indices\")\n",
    "    print(seg_data)\n",
    "    components = seg_data[0]\n",
    "    n_vertices = seg_data[1]\n",
    "    print(components)\n",
    "    print(n_vertices)\n",
    "    \n",
    "    #get the maximum n_vertices \n",
    "    n_verts_max = max(n_vertices)\n",
    "    components_max = components[n_vertices == n_verts_max][0]\n",
    "    \n",
    "    print(n_verts_max)\n",
    "    print(components_max)\n",
    "    \n",
    "    new_dict = dict(segment_id=s,component_index=components_max,n_vertex_indices=n_verts_max)\n",
    "    component_total.append(new_dict)\n",
    "\n"
   ]
  },
  {
   "cell_type": "code",
   "execution_count": null,
   "metadata": {},
   "outputs": [],
   "source": [
    "len(seg_ids),len(set(seg_ids))"
   ]
  },
  {
   "cell_type": "code",
   "execution_count": null,
   "metadata": {},
   "outputs": [],
   "source": [
    "#restrict starter table by dicts to make sure worked\n",
    "start_table & component_total & \"component_index>0\""
   ]
  },
  {
   "cell_type": "code",
   "execution_count": null,
   "metadata": {},
   "outputs": [],
   "source": [
    "id = 648518346341373109\n",
    "ta3p100.CompartmentOrphan.ComponentOrphan() & \"compartment_type='Dendrite'\" & \"segment_id=\"+str(id)"
   ]
  },
  {
   "cell_type": "code",
   "execution_count": null,
   "metadata": {},
   "outputs": [],
   "source": [
    "#only want to do orphan width\n",
    "dendrite_accepted & component_total & \"compartment_type='Dendrite'\" & \"min_width_perc_95>800\""
   ]
  },
  {
   "cell_type": "markdown",
   "metadata": {},
   "source": [
    "# Beginning of Analysis"
   ]
  },
  {
   "cell_type": "code",
   "execution_count": null,
   "metadata": {},
   "outputs": [],
   "source": [
    "print(len(ta3p100.DendriteWidth() & \"min_width_max>0\"))\n",
    "print(len(ta3p100.DendriteWidth() & \"min_width_max>0\" & ta3p100.CompartmentOrphan.ComponentOrphan.proj()))\n",
    "print(len(ta3p100.DendriteWidth() & \"min_width_max>0\" & ta3p100.CompartmentOrphan.ComponentOrphan.proj() & \"compartment_type='Dendrite'\"))\n",
    "print(len(ta3p100.DendriteWidth() & \"min_width_max>0\" & ta3p100.CompartmentOrphan.ComponentOrphan.proj() & \"compartment_type='Dendrite'\" & component_total))\n",
    "\n"
   ]
  },
  {
   "cell_type": "code",
   "execution_count": null,
   "metadata": {},
   "outputs": [],
   "source": [
    "dendrite_accepted = (ta3p100.DendriteWidth() & \"min_width_max>0\" & ta3p100.CompartmentOrphan.ComponentOrphan.proj() & \"compartment_type='Dendrite'\" & component_total)\n",
    "dendrite_accepted"
   ]
  },
  {
   "cell_type": "code",
   "execution_count": null,
   "metadata": {},
   "outputs": [],
   "source": [
    "percentages_to_fetch = [\"min_width_perc_50\",\"min_width_perc_55\",\"min_width_perc_60\",\n",
    "                      \"min_width_perc_65\",\"min_width_perc_70\",\"min_width_perc_75\",\n",
    "                       \"min_width_perc_80\",\"min_width_perc_85\",\"min_width_perc_90\",\n",
    "                       \"min_width_perc_95\",\"min_width_max\"]\n",
    "min_width_percentiles = dendrite_accepted.fetch(\"min_width_perc_50\",\"min_width_perc_55\",\"min_width_perc_60\",\n",
    "                      \"min_width_perc_65\",\"min_width_perc_70\",\"min_width_perc_75\",\n",
    "                       \"min_width_perc_80\",\"min_width_perc_85\",\"min_width_perc_90\",\n",
    "                       \"min_width_perc_95\",\"min_width_max\")"
   ]
  },
  {
   "cell_type": "code",
   "execution_count": null,
   "metadata": {},
   "outputs": [],
   "source": [
    "import matplotlib\n",
    "import matplotlib.pyplot as plt\n",
    "import seaborn as sns\n",
    "sns.set()\n",
    "\n",
    "# plt.figure(i)\n",
    "#     sns.countplot(x=col, data=df1)\n",
    "\n",
    "for i,perc in enumerate(min_width_percentiles):\n",
    "    plt.figure(i)\n",
    "    plt.title(percentages_to_fetch[i])\n",
    "    sns.distplot(perc)"
   ]
  },
  {
   "cell_type": "code",
   "execution_count": null,
   "metadata": {},
   "outputs": [],
   "source": [
    "#finding neurites to show\n",
    "orphan_300 = (dendrite_accepted & \"min_width_perc_80>295\" & \"min_width_perc_80<300\").fetch(\"segment_id\")[0]\n",
    "orphan_450 = (dendrite_accepted & \"min_width_perc_80>445\" & \"min_width_perc_80<455\").fetch(\"segment_id\")[0]\n",
    "orphan_600 = (dendrite_accepted & \"min_width_perc_80>595\" & \"min_width_perc_80<605\").fetch(\"segment_id\")[:5]\n",
    "print(orphan_300)\n",
    "print(orphan_450)\n",
    "print(orphan_600)"
   ]
  },
  {
   "cell_type": "code",
   "execution_count": null,
   "metadata": {},
   "outputs": [],
   "source": [
    "#finding neurites to show\n",
    "orphan_300 = (dendrite_accepted & \"min_width_perc_95>295\" & \"min_width_perc_95<300\").fetch(\"segment_id\")[0:2]\n",
    "orphan_450 = (dendrite_accepted & \"min_width_perc_95>495\" & \"min_width_perc_95<505\").fetch(\"segment_id\")[0:2]\n",
    "orphan_600 = (dendrite_accepted & \"min_width_perc_95>595\" & \"min_width_perc_95<605\").fetch(\"segment_id\")[:5]\n",
    "print(orphan_300)\n",
    "print(orphan_450)\n",
    "print(orphan_600)"
   ]
  },
  {
   "cell_type": "code",
   "execution_count": null,
   "metadata": {},
   "outputs": [],
   "source": [
    "#finding neurites to show\n",
    "orphan_300 = (dendrite_accepted & \"min_width_perc_95>295\" & \"min_width_perc_80<300\").fetch(\"segment_id\")[0:2]\n",
    "orphan_450 = (dendrite_accepted & \"min_width_perc_90>445\" & \"min_width_perc_80<455\").fetch(\"segment_id\")[0:2]\n",
    "orphan_600 = (dendrite_accepted & \"min_width_perc_90>595\" & \"min_width_perc_80<605\").fetch(\"segment_id\")[:5]\n",
    "print(orphan_300)\n",
    "print(orphan_450)\n",
    "print(orphan_600)"
   ]
  },
  {
   "cell_type": "markdown",
   "metadata": {},
   "source": [
    "# Jake wants to do the stark difference of 0.1, 0.5 and 0.9 percentile parts"
   ]
  },
  {
   "cell_type": "code",
   "execution_count": null,
   "metadata": {},
   "outputs": [],
   "source": [
    "perc_95_data = dendrite_accepted.fetch(\"min_width_perc_95\")\n",
    "sns.distplot(perc_95_data)\n"
   ]
  },
  {
   "cell_type": "code",
   "execution_count": null,
   "metadata": {},
   "outputs": [],
   "source": [
    "#find the percentiles\n",
    "percentile_numbers = [10,50,90]\n",
    "\n",
    "percentile_list= []\n",
    "for pn in percentile_numbers:\n",
    "    percentile_list.append(np.percentile(perc_95_data,pn))\n",
    "# percentile_list = [np.percentile(perc_95_data,10),\n",
    "#                    np.percentile(perc_95_data,50),\n",
    "#                   np.percentile(perc_95_data,90),\n",
    "#                   ]\n",
    "\n",
    "print(percentile_list)"
   ]
  },
  {
   "cell_type": "code",
   "execution_count": null,
   "metadata": {},
   "outputs": [],
   "source": [
    "for i,perc in enumerate(percentile_list):\n",
    "    print(\"Segments for Percentile: \"+str(percentile_numbers[i]))\n",
    "    orphan_segemnts = (dendrite_accepted & \"min_width_perc_95>\" + str(perc-5) & \"min_width_perc_95<\"+ str(perc+5)).fetch(\"segment_id\")[0:5]\n",
    "    print(orphan_segemnts)"
   ]
  },
  {
   "cell_type": "markdown",
   "metadata": {},
   "source": [
    "# make Official looking graph for 95th percentile"
   ]
  },
  {
   "cell_type": "code",
   "execution_count": null,
   "metadata": {},
   "outputs": [],
   "source": [
    "dendrite_accepted.fetch(\"min_width_perc_95\")"
   ]
  },
  {
   "cell_type": "code",
   "execution_count": null,
   "metadata": {},
   "outputs": [],
   "source": [
    "import seaborn as sns\n",
    "sns.set()\n",
    "\n",
    "ax =  sns.distplot(dendrite_accepted.fetch(\"min_width_perc_95\"),kde=False)\n",
    "ax.tick_params(axis='x', which='major', labelsize=15)\n",
    "ax.tick_params(axis='y', which='major', labelsize=14)\n",
    "ax.set_ylabel(\"Count\",fontdict=dict(fontsize=20))\n",
    "ax.set_xlabel(\"dendrite width (nm)\",fontdict=dict(fontsize=20))\n",
    "ax.set_title(\"Orphan Dendrite Width Distribution\",fontdict=dict(fontsize=20))\n",
    "ax.set"
   ]
  },
  {
   "cell_type": "code",
   "execution_count": null,
   "metadata": {},
   "outputs": [],
   "source": []
  },
  {
   "cell_type": "code",
   "execution_count": null,
   "metadata": {},
   "outputs": [],
   "source": [
    "import seaborn as sns\n",
    "sns.set()\n",
    "\n",
    "ax =  sns.distplot(ta3p100.SignificantOrphanDendriteWidthLength.fetch(\"skeleton_length\")/1000,kde=False)\n",
    "ax.tick_params(axis='x', which='major', labelsize=15)\n",
    "ax.tick_params(axis='y', which='major', labelsize=14)\n",
    "ax.set_ylabel(\"Count\",fontdict=dict(fontsize=20))\n",
    "ax.set_xlabel(\"dendrite length (microns)\",fontdict=dict(fontsize=20))\n",
    "ax.set_title(\"Orphan Dendrite Length Distribution\",fontdict=dict(fontsize=20))\n",
    "ax.set"
   ]
  },
  {
   "cell_type": "markdown",
   "metadata": {},
   "source": [
    "# Redoing the Plot in the same manner as Stelios"
   ]
  },
  {
   "cell_type": "code",
   "execution_count": null,
   "metadata": {},
   "outputs": [],
   "source": [
    "help(plt.xticks)"
   ]
  },
  {
   "cell_type": "code",
   "execution_count": null,
   "metadata": {},
   "outputs": [],
   "source": [
    "\n",
    "\n",
    "fig, axs = plt.subplots(1, len(params), figsize=(n_axrow*scale,n_axcol*scale))"
   ]
  },
  {
   "cell_type": "code",
   "execution_count": null,
   "metadata": {},
   "outputs": [],
   "source": [
    "import matplotlib.pyplot as plt\n",
    "plt.hist(ta3p100.SignificantOrphanDendriteWidthLength.fetch(\"skeleton_length\")/1000,bins=50,color='k') \n",
    "plt.xlabel(\"dendrite length (microns)\", fontsize=15)\n",
    "plt.ylabel('Count', fontsize=15)\n",
    "plt.title(\"Orphan Dendrite Length Distribution\",fontsize=15)\n",
    "plt.xticks(fontsize=15)\n",
    "plt.yticks(fontsize=15)\n",
    "plt.grid(b=None)\n",
    "plt.\n",
    "sns.despine()\n"
   ]
  },
  {
   "cell_type": "code",
   "execution_count": null,
   "metadata": {},
   "outputs": [],
   "source": [
    "\"\"\"\n",
    "import seaborn as sns\n",
    "sns.set()\n",
    "\n",
    "ax =  sns.distplot(dendrite_accepted.fetch(\"min_width_perc_95\"),kde=False)\n",
    "ax.tick_params(axis='x', which='major', labelsize=15)\n",
    "ax.tick_params(axis='y', which='major', labelsize=14)\n",
    "ax.set_ylabel(\"Count\",fontdict=dict(fontsize=20))\n",
    "ax.set_xlabel(\"dendrite width (nm)\",fontdict=dict(fontsize=20))\n",
    "ax.set_title(\"Orphan Dendrite Width Distribution\",fontdict=dict(fontsize=20))\n",
    "ax.set\n",
    "\n",
    "\n",
    "\"\"\"\n",
    "\n",
    "import matplotlib.pyplot as plt\n",
    "plt.hist(ta3p100.SignificantOrphanDendriteWidthLength.fetch(\"width\")/1000,bins=50,color='k') \n",
    "plt.xlabel(\"dendrite width (nm)\", fontsize=15)\n",
    "plt.ylabel('Count', fontsize=15)\n",
    "plt.title(\"Orphan Dendrite Width Distribution\",fontsize=15)\n",
    "plt.xticks(fontsize=15)\n",
    "plt.yticks(fontsize=15)\n",
    "plt.grid(b=None)\n",
    "sns.despine()\n"
   ]
  },
  {
   "cell_type": "code",
   "execution_count": null,
   "metadata": {},
   "outputs": [],
   "source": [
    "print(plt.__version__)"
   ]
  },
  {
   "cell_type": "code",
   "execution_count": null,
   "metadata": {},
   "outputs": [],
   "source": [
    "params = [ta3p100.SignificantOrphanDendriteWidthLength.fetch(\"width\"),ta3p100.SignificantOrphanDendriteWidthLength.fetch(\"skeleton_length\")/1000]\n",
    "scale=2\n",
    "n_axrow = len(params)\n",
    "n_axcol = 1\n",
    "fig, axs = plt.subplots(1, len(params), figsize=(n_axrow*scale,n_axcol*scale))\n",
    "for ax, param, title in zip(axs, params, titles):\n",
    "    ax.hist(param, bins=50, color='k')\n",
    "    ax.set_xlabel(title, fontsize=15)\n",
    "axs[0].set_ylabel('Number of Axons', fontsize=15)\n",
    "fig.suptitle('Intrinsic Orphan Axon Properties', fontsize=25, y=1.02)\n",
    "# sns.despine()\n",
    "fig.set_dpi(150)"
   ]
  },
  {
   "cell_type": "code",
   "execution_count": null,
   "metadata": {},
   "outputs": [],
   "source": [
    "\"\"\"\n",
    "************ CODE THAT FINDS THE \n",
    "\"\"\""
   ]
  },
  {
   "cell_type": "code",
   "execution_count": null,
   "metadata": {},
   "outputs": [],
   "source": [
    "min_width_perc_50 = np.percentile(widths, 50),\n",
    "min_width_perc_55 = np.percentile(widths, 55),\n",
    "min_width_perc_60 = np.percentile(widths, 60),\n",
    "min_width_perc_65 = np.percentile(widths, 65),\n",
    "min_width_perc_70 = np.percentile(widths, 70),\n",
    "min_width_perc_75 = np.percentile(widths, 75),\n",
    "min_width_perc_80 = np.percentile(widths, 80),\n",
    "min_width_perc_85 = np.percentile(widths, 85),\n",
    "min_width_perc_90 = np.percentile(widths, 90),\n",
    "min_width_perc_95 = np.percentile(widths, 95),\n",
    "min_width_max = np.max(widths)\n",
    "\n",
    "print(min_width_perc_50)\n",
    "print(min_width_perc_55)\n",
    "print(min_width_perc_60)\n",
    "print(min_width_perc_65)\n",
    "print(min_width_perc_70)\n",
    "print(min_width_perc_75)\n",
    "print(min_width_perc_80)\n",
    "print(min_width_perc_85)\n",
    "print(min_width_perc_90)\n",
    "print(min_width_perc_95)\n",
    "print(min_width_max)"
   ]
  },
  {
   "cell_type": "code",
   "execution_count": null,
   "metadata": {},
   "outputs": [],
   "source": [
    "print(widths.shape)\n",
    "np.max(widths[widths<1000])"
   ]
  },
  {
   "cell_type": "code",
   "execution_count": null,
   "metadata": {},
   "outputs": [],
   "source": [
    "import matplotlib.pyplot as plt\n",
    "\n",
    "widths = ta3p100.SignificantOrphanDendriteWidthLength.fetch(\"width\")\n",
    "lengths = ta3p100.SignificantOrphanDendriteWidthLength.fetch(\"skeleton_length\")/1000\n"
   ]
  },
  {
   "cell_type": "code",
   "execution_count": null,
   "metadata": {},
   "outputs": [],
   "source": [
    "lengths = lengths[widths < 1000]\n",
    "widths = widths[widths < 1000]\n",
    "\n",
    "\n",
    "fig, (ax1, ax2) = plt.subplots(1,2)\n",
    "\n",
    "ax1.hist(widths, bins=50, color='k')\n",
    "ax2.hist(lengths, bins=50, color='k')\n",
    "\n",
    "ax1.tick_params(labelsize=12)\n",
    "ax2.tick_params(labelsize=12)\n",
    "ax1.set_xlim([200,1000])\n",
    "ax1.set_xlabel('dendrite width ($\\mu m$)', fontsize=12)\n",
    "ax2.set_xlabel('dendrite length (per 100 $\\mu m$)', fontsize=12)\n",
    "\n",
    "ax1.set_ylabel('Number of Orphan Dendrites', fontsize=12)\n",
    "fig.set_size_inches(8,3)\n",
    "fig.set_dpi(300)\n",
    "\n",
    "#plt.grid(False)\n",
    "ax1.grid(b=None)\n",
    "ax2.grid(b=None)\n",
    "sns.despine()"
   ]
  },
  {
   "cell_type": "code",
   "execution_count": null,
   "metadata": {},
   "outputs": [],
   "source": []
  },
  {
   "cell_type": "code",
   "execution_count": null,
   "metadata": {},
   "outputs": [],
   "source": [
    "help(ax.set_ylabel)\n",
    "\n",
    "fontdict=dict(fontsize=13)"
   ]
  },
  {
   "cell_type": "code",
   "execution_count": null,
   "metadata": {},
   "outputs": [],
   "source": [
    "perc_95_data = dendrite_accepted.fetch(\"min_width_perc_95\")\n",
    "\n",
    "import matplotlib.pyplot as plt\n",
    "\n",
    "\n",
    "plt.hist(perc_95_data,color = '#2977E7',label='shaft')\n",
    "# plt.plot([0,len(x)],[0.5,0.5],color=\"#322FE7\",label='shaft_threshold')\n",
    "# plt.plot(range(0,len(y)),y,color=\"#E7803C\",label='spine head')\n",
    "# plt.plot([0,len(x)],[0.6,0.6],color=\"#E73035\",label='spine_head_threshold')\n",
    "\n",
    "# plt.ylabel('proportion',fontsize=18)\n",
    "# plt.xlabel('neurite index (spine head sorted)',fontsize=18)\n",
    "# plt.legend(loc=3)\n",
    "\n",
    "\n",
    "# plt.tick_params(axis='x', which='major', labelsize=13)\n",
    "# plt.tick_params(axis='y', which='major', labelsize=18)\n",
    "\n",
    "plt.show()\n"
   ]
  },
  {
   "cell_type": "code",
   "execution_count": null,
   "metadata": {},
   "outputs": [],
   "source": []
  },
  {
   "cell_type": "code",
   "execution_count": null,
   "metadata": {},
   "outputs": [],
   "source": [
    "dendrite_labels = [\"Apical\",\"Basal\",\"Oblique\",\"Dendrite\"]\n",
    "\n",
    "\n",
    "#dj.U(\"segment_id\").aggr(ta3p100.CompartmentFinal.ComponentFinal() & [dict(compartment_type=x) for x in dendrite_labels]\n",
    "#ta3p100.CompartmentFinal.ComponentFinal() & [dict(compartment_type=x) for x in dendrite_labels] & \"n_vertex_indices>500\"\n",
    "exhitatory = dj.U(\"segment_id\").aggr(ta3p100.CompartmentFinal.ComponentFinal() & [dict(compartment_type=x) for x in dendrite_labels] & \"n_vertex_indices>500\",\n",
    "                       dendrite_vertex_count=\"sum(n_vertex_indices)\")\n",
    "\n",
    "\n",
    "\n"
   ]
  },
  {
   "cell_type": "code",
   "execution_count": null,
   "metadata": {},
   "outputs": [],
   "source": [
    "dendrite_labels = [\"Apical\",\"Basal\",\"Oblique\",\"Dendrite\"]\n",
    "\n",
    "\n",
    "#dj.U(\"segment_id\").aggr(ta3p100.CompartmentFinal.ComponentFinal() & [dict(compartment_type=x) for x in dendrite_labels]\n",
    "#ta3p100.CompartmentFinal.ComponentFinal() & [dict(compartment_type=x) for x in dendrite_labels] & \"n_vertex_indices>500\"\n",
    "exhitatory = dj.U(\"segment_id\").aggr(ta3p100.CompartmentFinal.ComponentFinal() & [dict(compartment_type=x) for x in dendrite_labels] & \"n_vertex_indices>500\",\n",
    "                       dendrite_vertex_count=\"sum(n_vertex_indices)\")\n",
    "\n",
    "orphan = dj.U(\"segment_id\").aggr(ta3p100.CompartmentOrphan.ComponentOrphan() & [dict(compartment_type=x) for x in dendrite_labels] & \"n_vertex_indices>500\",\n",
    "                       dendrite_vertex_count=\"sum(n_vertex_indices)\")\n",
    "\n",
    "restriction_threshold = 15000\n",
    "dendrite_restriction = ((exhitatory & \"dendrite_vertex_count>\" + str(restriction_threshold)).proj() + \n",
    "                            (orphan & \"dendrite_vertex_count>\" + str(restriction_threshold)).proj()) - ta3p100.SegmentExclude.proj()\n",
    "\n",
    "#dendrite_restriction\n",
    "\n"
   ]
  },
  {
   "cell_type": "markdown",
   "metadata": {},
   "source": [
    "# FINDING THE NUMBERS FOR THE FINAL REPORT"
   ]
  },
  {
   "cell_type": "code",
   "execution_count": null,
   "metadata": {},
   "outputs": [],
   "source": [
    "\"\"\"\n",
    "Orphaned dendritic segments ranged in total length from XX um to XX um,\n",
    " Maximum (95th percentile) dendritic width varied from XX um to XXum\n",
    " Synapse density ranged from XX synapses/100 um to XX, with densities \n",
    "[higher/lower] on L5 trunks compared to the small and medium-diameter dendrites.\n",
    "\"\"\"\n"
   ]
  },
  {
   "cell_type": "code",
   "execution_count": null,
   "metadata": {},
   "outputs": [],
   "source": [
    "#searching for the widths\n",
    "fat_orphan_dendrites = (ta3p100.CompartmentOrphan.ComponentOrphan() & \"compartment_type='Dendrite'\" & \n",
    "        (ta3p100.SignificantOrphanDendriteWidthLength() & \"width > 600\"))"
   ]
  },
  {
   "cell_type": "code",
   "execution_count": null,
   "metadata": {},
   "outputs": [],
   "source": [
    "#Orphaned dendritic segments ranged in total length from XX um to XX um,\n",
    "#Maximum (95th percentile) dendritic width varied from XX um to XXum\n",
    "skeleton_length = ta3p100.SignificantOrphanDendriteWidthLength.fetch(\"skeleton_length\")\n",
    "print(\"min(skeleton_length) = \" + str(min(skeleton_length/1000)))\n",
    "print(\"max(skeleton_length) = \" + str(max(skeleton_length/1000)))"
   ]
  },
  {
   "cell_type": "code",
   "execution_count": null,
   "metadata": {},
   "outputs": [],
   "source": [
    "#Maximum (95th percentile) dendritic width varied from XX um to XXum\n",
    "width_data = ta3p100.SignificantOrphanDendriteWidthLength.fetch(\"width\")\n",
    "print(\"min(width_data) = \" + str(min(width_data)))\n",
    "print(\"max(width_data) = \" + str(max(width_data)))"
   ]
  },
  {
   "cell_type": "code",
   "execution_count": null,
   "metadata": {},
   "outputs": [],
   "source": [
    "#table that aggregates number of synapses over postsyn\n",
    "postsyn_n_synapses = dj.U(\"postsyn\").aggr(ta3p100.Synapse,n_synapses=\"count(*)\")\n",
    "postsyn_data = postsyn_n_synapses.fetch(\"postsyn\",\"n_synapses\")"
   ]
  },
  {
   "cell_type": "code",
   "execution_count": null,
   "metadata": {},
   "outputs": [],
   "source": [
    "postsyn = postsyn_data[0]\n",
    "n_synapses = postsyn_data[1]\n",
    "\n",
    "n_synapses_lookup = dict()\n",
    "for i,p in enumerate(postsyn):\n",
    "    n_synapses_lookup[str(p)] = n_synapses[i]\n"
   ]
  },
  {
   "cell_type": "code",
   "execution_count": null,
   "metadata": {},
   "outputs": [],
   "source": [
    "from tqdm import tqdm\n",
    "import matplotlib.pyplot as plt\n",
    "\"\"\"\n",
    "Synapse density ranged from XX synapses/100 um to XX, with densities \n",
    "[higher/lower] on L5 trunks compared to the small and medium-diameter dendrites.\n",
    "\"\"\"\n",
    "l5_width_threshold = 700\n",
    "\n",
    "# l5_apicals = (ta3p100.SignificantOrphanDendriteWidthLength & \"width>=\"+str(l5_width_threshold) )\n",
    "# others = (ta3p100.SignificantOrphanDendriteWidthLength & \"width<\"+str(l5_width_threshold) )\n",
    "\n",
    "#get widths and synaptic density and see if there is difference\n",
    "orphan_data = ta3p100.SignificantOrphanDendriteWidthLength.fetch(\"segment_id\",\"width\",\"skeleton_length\")\n",
    "segment_id = orphan_data[0]\n",
    "orphan_width = orphan_data[1]\n",
    "skeleton_length = orphan_data[2]\n",
    "\n",
    "orphan_synapse_density = []\n",
    "for i,seg_id in tqdm(enumerate(segment_id)):\n",
    "    key = dict(postsyn=seg_id)\n",
    "    #get the number of synapses\n",
    "    n_syn = n_synapses_lookup[str(seg_id)]\n",
    "    \n",
    "    #get the length of the dendrite\n",
    "    length_nm = skeleton_length[i]\n",
    "\n",
    "    #calculate the synapse density\n",
    "    density = n_syn/(length_nm*1000*100)\n",
    "    \n",
    "    orphan_synapse_density.append(density*1000000000)\n",
    "    \n",
    "print(min(orphan_synapse_density))\n",
    "print(max(orphan_synapse_density))\n",
    "\n",
    "\n",
    "\n",
    "\n",
    "# l5_synapse_density = []\n",
    "# other_synapse_density = []\n",
    "\n",
    "# for l5 in l5_apicals:\n",
    "#     key = dict(postsyn=l5)\n",
    "#     #get the number of synapses\n",
    "#     n_syn = (postsyn_n_synapses & key).fetch1(\"n_synapses\")\n",
    "    \n",
    "#     #get the length of the dendrite\n",
    "#     length_nm = (ta3p100.SignificantOrphanDendriteWidthLength & \"segment_id=\" + str(l5)).fetch1(\"skeleton_length\")\n",
    "    \n",
    "#     #calculate the synapse density\n",
    "#     density = n_syn/(length_nm*1000*100)\n",
    "    \n",
    "#     l5_synapse_density.append(density)\n",
    "\n",
    "# for l5 in others:\n",
    "#     key = dict(postsyn=l5)\n",
    "#     #get the number of synapses\n",
    "#     n_syn = (postsyn_n_synapses & key).fetch1(\"n_synapses\")\n",
    "    \n",
    "#     #get the length of the dendrite\n",
    "#     length_nm = (ta3p100.SignificantOrphanDendriteWidthLength & \"segment_id=\" + str(l5)).fetch1(\"skeleton_length\")\n",
    "    \n",
    "#     #calculate the synapse density\n",
    "#     density = n_syn/(length_nm*1000*100)\n",
    "    \n",
    "#     l5_synapse_density.append(density)\n",
    "    \n",
    "    \n"
   ]
  },
  {
   "cell_type": "code",
   "execution_count": null,
   "metadata": {},
   "outputs": [],
   "source": [
    "print(min(orphan_synapse_density))\n",
    "print(max(orphan_synapse_density))"
   ]
  },
  {
   "cell_type": "code",
   "execution_count": null,
   "metadata": {},
   "outputs": [],
   "source": [
    "#plot the distribution\n",
    "plt.scatter(x = orphan_width,y = orphan_synapse_density)\n",
    "\n",
    "ax = sns.scatterplot(orphan_width,orphan_synapse_density)\n",
    "ax.tick_params(axis='x', which='major', labelsize=15)\n",
    "ax.tick_params(axis='y', which='major', labelsize=14)\n",
    "ax.set_ylabel(\"synaptic density \\nsyn/100 microns\",fontdict=dict(fontsize=20))\n",
    "ax.set_xlabel(\"Width of orphan (nm)\",fontdict=dict(fontsize=20))\n",
    "ax.set_title(\"Orphan Dendrite Synapse Density vs. Width\",fontdict=dict(fontsize=20))\n",
    "ax.set\n",
    "# plt.xlabel(\"width of orphan (nm)\")\n",
    "# plt.show()\n",
    "    "
   ]
  },
  {
   "cell_type": "code",
   "execution_count": null,
   "metadata": {},
   "outputs": [],
   "source": [
    "l5_width_threshold = 700\n",
    "\n",
    "\n",
    "l5_orphan_data = (ta3p100.SignificantOrphanDendriteWidthLength & \n",
    "               \"width>=\"+str(l5_width_threshold)).fetch(\"segment_id\",\"width\",\"skeleton_length\")\n",
    "l5_segment_id = l5_orphan_data[0]\n",
    "l5_orphan_width = l5_orphan_data[1]\n",
    "l5_skeleton_length = l5_orphan_data[2]\n",
    "\n",
    "orphan_data = (ta3p100.SignificantOrphanDendriteWidthLength & \n",
    "               \"width<\"+str(l5_width_threshold)).fetch(\"segment_id\",\"width\",\"skeleton_length\")\n",
    "segment_id = orphan_data[0]\n",
    "orphan_width = orphan_data[1]\n",
    "skeleton_length = orphan_data[2]\n",
    "\n",
    "\n",
    "l5_synapse_density = []\n",
    "other_synapse_density = []\n",
    "\n",
    "for i,seg_id in tqdm(enumerate(l5_segment_id)):\n",
    "    key = dict(postsyn=seg_id)\n",
    "    #get the number of synapses\n",
    "    n_syn = n_synapses_lookup[str(seg_id)]\n",
    "    \n",
    "    #get the length of the dendrite\n",
    "    length_nm = l5_skeleton_length[i]\n",
    "\n",
    "    #calculate the synapse density\n",
    "    density = n_syn/(length_nm*1000*100)\n",
    "    \n",
    "    l5_synapse_density.append(density*1000000000)\n",
    "    \n",
    "for i,seg_id in tqdm(enumerate(segment_id)):\n",
    "    key = dict(postsyn=seg_id)\n",
    "    #get the number of synapses\n",
    "    n_syn = n_synapses_lookup[str(seg_id)]\n",
    "    \n",
    "    #get the length of the dendrite\n",
    "    length_nm = skeleton_length[i]\n",
    "\n",
    "    #calculate the synapse density\n",
    "    density = n_syn/(length_nm*1000*100)\n",
    "    \n",
    "    other_synapse_density.append(density*1000000000)"
   ]
  },
  {
   "cell_type": "code",
   "execution_count": null,
   "metadata": {},
   "outputs": [],
   "source": [
    "import math\n",
    "print(\"L5 Synapse Density Statistics (Width >=700 nm )\")\n",
    "print(\"count = \" + str(len(l5_synapse_density)))\n",
    "print(\"max synapse density = \" + str(max(l5_synapse_density)))\n",
    "print(\"mean synapse density = \" + str(np.mean(l5_synapse_density)))\n",
    "print(\"median synapse density = \" + str(np.median(l5_synapse_density)))\n",
    "print(\"min synapse density = \" + str(min(l5_synapse_density)))\n",
    "print(\"\\n\\n\")\n",
    "print(\"Non L5 Synapse Density Statistics (Width <700 nm )\")\n",
    "print(\"count = \" + str(len(other_synapse_density)))\n",
    "print(\"max synapse density = \" + str(max(other_synapse_density)))\n",
    "print(\"mean synapse density = \" + str(np.mean(other_synapse_density)))\n",
    "print(\"median synapse density = \" + str(np.median(other_synapse_density)))\n",
    "print(\"min synapse density = \" + str(min(other_synapse_density)))"
   ]
  },
  {
   "cell_type": "code",
   "execution_count": null,
   "metadata": {},
   "outputs": [],
   "source": [
    "l5_synapse_density\n",
    "key = dict(postsyn=648518346345770568)\n",
    "#get the number of synapses\n",
    "n_syn = (postsyn_n_synapses & key).fetch1(\"n_synapses\")\n",
    "\n",
    "#get the length of the dendrite\n",
    "length_nm = (ta3p100.SignificantOrphanDendriteWidthLength & \"segment_id=\" + str(648518346345770568)).fetch1(\"skeleton_length\")\n",
    "\n",
    "#calculate the synapse density\n",
    "density = n_syn/(length_nm*1000*100)\n",
    "\n",
    "l5_synapse_density.append(density)"
   ]
  },
  {
   "cell_type": "code",
   "execution_count": null,
   "metadata": {},
   "outputs": [],
   "source": [
    "(ta3p100.Synapse() & \"postsyn=648518346341379951\") - ta3p100.SynapseExcludeFinal"
   ]
  },
  {
   "cell_type": "code",
   "execution_count": null,
   "metadata": {},
   "outputs": [],
   "source": [
    "sizes = (ta3p100.CompartmentFinal.ComponentFinal & \"compartment_type='Apical'\").fetch(\"n_vertex_indices\")\n",
    "max(sizes)\n",
    "\n"
   ]
  },
  {
   "cell_type": "code",
   "execution_count": null,
   "metadata": {},
   "outputs": [],
   "source": []
  }
 ],
 "metadata": {
  "kernelspec": {
   "display_name": "Python 3",
   "language": "python",
   "name": "python3"
  },
  "language_info": {
   "codemirror_mode": {
    "name": "ipython",
    "version": 3
   },
   "file_extension": ".py",
   "mimetype": "text/x-python",
   "name": "python",
   "nbconvert_exporter": "python",
   "pygments_lexer": "ipython3",
   "version": "3.6.8"
  }
 },
 "nbformat": 4,
 "nbformat_minor": 4
}
