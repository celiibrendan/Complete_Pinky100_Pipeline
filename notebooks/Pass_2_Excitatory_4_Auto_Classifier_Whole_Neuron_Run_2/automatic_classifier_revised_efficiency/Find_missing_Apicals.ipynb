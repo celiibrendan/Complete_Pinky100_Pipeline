{
 "cells": [
  {
   "cell_type": "code",
   "execution_count": 2,
   "metadata": {},
   "outputs": [],
   "source": [
    "from whole_neuron_classifier_datajoint_adapted import extract_branches_whole_neuron\n",
    "import datajoint as dj\n",
    "import numpy as np\n",
    "import datajoint as dj\n",
    "import trimesh\n",
    "import time"
   ]
  },
  {
   "cell_type": "code",
   "execution_count": 3,
   "metadata": {},
   "outputs": [
    {
     "name": "stdout",
     "output_type": "stream",
     "text": [
      "Connecting celiib@10.28.0.34:3306\n"
     ]
    }
   ],
   "source": [
    "dj.config['database.host'] = '10.28.0.34'\n",
    "dj.config['database.user'] = 'celiib'\n",
    "dj.config['database.password'] = 'newceliipass'\n",
    "dj.config[\"display.limit\"] = 20\n",
    "    \n",
    "#schema = dj.schema('microns_ta3p100')\n",
    "#ta3p100 = dj.create_virtual_module('ta3p100', 'microns_ta3p100')\n",
    "schema = dj.schema(\"microns_pinky\")\n",
    "pinky = dj.create_virtual_module(\"pinky\",\"microns_pinky\")\n"
   ]
  },
  {
   "cell_type": "code",
   "execution_count": 5,
   "metadata": {},
   "outputs": [
    {
     "data": {
      "text/html": [
       "\n",
       "        \n",
       "        <style type=\"text/css\">\n",
       "            .Relation{\n",
       "                border-collapse:collapse;\n",
       "            }\n",
       "            .Relation th{\n",
       "                background: #A0A0A0; color: #ffffff; padding:4px; border:#f0e0e0 1px solid;\n",
       "                font-weight: normal; font-family: monospace; font-size: 100%;\n",
       "            }\n",
       "            .Relation td{\n",
       "                padding:4px; border:#f0e0e0 1px solid; font-size:100%;\n",
       "            }\n",
       "            .Relation tr:nth-child(odd){\n",
       "                background: #ffffff;\n",
       "            }\n",
       "            .Relation tr:nth-child(even){\n",
       "                background: #f3f1ff;\n",
       "            }\n",
       "            /* Tooltip container */\n",
       "            .djtooltip {\n",
       "            }\n",
       "            /* Tooltip text */\n",
       "            .djtooltip .djtooltiptext {\n",
       "                visibility: hidden;\n",
       "                width: 120px;\n",
       "                background-color: black;\n",
       "                color: #fff;\n",
       "                text-align: center;\n",
       "                padding: 5px 0;\n",
       "                border-radius: 6px;\n",
       "                /* Position the tooltip text - see examples below! */\n",
       "                position: absolute;\n",
       "                z-index: 1;\n",
       "            }\n",
       "            #primary {\n",
       "                font-weight: bold;\n",
       "                color: black;\n",
       "            }\n",
       "\n",
       "            #nonprimary {\n",
       "                font-weight: normal;\n",
       "                color: white;\n",
       "            }\n",
       "\n",
       "            /* Show the tooltip text when you mouse over the tooltip container */\n",
       "            .djtooltip:hover .djtooltiptext {\n",
       "                visibility: visible;\n",
       "            }\n",
       "        </style>\n",
       "        \n",
       "        <b>creates the labels for the mesh table</b>\n",
       "            <div style=\"max-height:1000px;max-width:1500px;overflow:auto;\">\n",
       "            <table border=\"1\" class=\"Relation\">\n",
       "                <thead> <tr style=\"text-align: right;\"> <th> <div class=\"djtooltip\">\n",
       "                                <p id=\"primary\">segmentation</p>\n",
       "                                <span class=\"djtooltiptext\">segmentation id</span>\n",
       "                            </div></th><th><div class=\"djtooltip\">\n",
       "                                <p id=\"primary\">segment_id</p>\n",
       "                                <span class=\"djtooltiptext\">segment id unique within each Segmentation</span>\n",
       "                            </div></th><th><div class=\"djtooltip\">\n",
       "                                <p id=\"primary\">decimation_ratio</p>\n",
       "                                <span class=\"djtooltiptext\"></span>\n",
       "                            </div></th><th><div class=\"djtooltip\">\n",
       "                                <p id=\"nonprimary\">vertices</p>\n",
       "                                <span class=\"djtooltiptext\">label data for the vertices</span>\n",
       "                            </div></th><th><div class=\"djtooltip\">\n",
       "                                <p id=\"nonprimary\">triangles</p>\n",
       "                                <span class=\"djtooltiptext\">label data for the faces</span>\n",
       "                            </div> </th> </tr> </thead>\n",
       "                <tbody> <tr> <td>3</td>\n",
       "<td>648518346341371119</td>\n",
       "<td>0.35</td>\n",
       "<td>=BLOB=</td>\n",
       "<td>=BLOB=</td></tr><tr><td>3</td>\n",
       "<td>648518346349386137</td>\n",
       "<td>0.35</td>\n",
       "<td>=BLOB=</td>\n",
       "<td>=BLOB=</td></tr><tr><td>3</td>\n",
       "<td>648518346349470171</td>\n",
       "<td>0.35</td>\n",
       "<td>=BLOB=</td>\n",
       "<td>=BLOB=</td></tr><tr><td>3</td>\n",
       "<td>648518346349471156</td>\n",
       "<td>0.35</td>\n",
       "<td>=BLOB=</td>\n",
       "<td>=BLOB=</td></tr><tr><td>3</td>\n",
       "<td>648518346349471500</td>\n",
       "<td>0.35</td>\n",
       "<td>=BLOB=</td>\n",
       "<td>=BLOB=</td></tr><tr><td>3</td>\n",
       "<td>648518346349471562</td>\n",
       "<td>0.35</td>\n",
       "<td>=BLOB=</td>\n",
       "<td>=BLOB=</td></tr><tr><td>3</td>\n",
       "<td>648518346349471565</td>\n",
       "<td>0.35</td>\n",
       "<td>=BLOB=</td>\n",
       "<td>=BLOB=</td></tr><tr><td>3</td>\n",
       "<td>648518346349471910</td>\n",
       "<td>0.35</td>\n",
       "<td>=BLOB=</td>\n",
       "<td>=BLOB=</td></tr><tr><td>3</td>\n",
       "<td>648518346349472574</td>\n",
       "<td>0.35</td>\n",
       "<td>=BLOB=</td>\n",
       "<td>=BLOB=</td></tr><tr><td>3</td>\n",
       "<td>648518346349472601</td>\n",
       "<td>0.35</td>\n",
       "<td>=BLOB=</td>\n",
       "<td>=BLOB=</td></tr><tr><td>3</td>\n",
       "<td>648518346349473044</td>\n",
       "<td>0.35</td>\n",
       "<td>=BLOB=</td>\n",
       "<td>=BLOB=</td></tr><tr><td>3</td>\n",
       "<td>648518346349473160</td>\n",
       "<td>0.35</td>\n",
       "<td>=BLOB=</td>\n",
       "<td>=BLOB=</td></tr><tr><td>3</td>\n",
       "<td>648518346349473583</td>\n",
       "<td>0.35</td>\n",
       "<td>=BLOB=</td>\n",
       "<td>=BLOB=</td></tr><tr><td>3</td>\n",
       "<td>648518346349473597</td>\n",
       "<td>0.35</td>\n",
       "<td>=BLOB=</td>\n",
       "<td>=BLOB=</td></tr><tr><td>3</td>\n",
       "<td>648518346349473804</td>\n",
       "<td>0.35</td>\n",
       "<td>=BLOB=</td>\n",
       "<td>=BLOB=</td></tr><tr><td>3</td>\n",
       "<td>648518346349473811</td>\n",
       "<td>0.35</td>\n",
       "<td>=BLOB=</td>\n",
       "<td>=BLOB=</td></tr><tr><td>3</td>\n",
       "<td>648518346349473813</td>\n",
       "<td>0.35</td>\n",
       "<td>=BLOB=</td>\n",
       "<td>=BLOB=</td></tr><tr><td>3</td>\n",
       "<td>648518346349473821</td>\n",
       "<td>0.35</td>\n",
       "<td>=BLOB=</td>\n",
       "<td>=BLOB=</td></tr><tr><td>3</td>\n",
       "<td>648518346349473830</td>\n",
       "<td>0.35</td>\n",
       "<td>=BLOB=</td>\n",
       "<td>=BLOB=</td></tr><tr><td>3</td>\n",
       "<td>648518346349473833</td>\n",
       "<td>0.35</td>\n",
       "<td>=BLOB=</td>\n",
       "<td>=BLOB=</td> </tr> </tbody>\n",
       "            </table>\n",
       "            <p>...</p>\n",
       "            <p>Total: 326</p></div>\n",
       "            "
      ],
      "text/plain": [
       "*segmentation  *segment_id    *decimation_ra vertices   triangles \n",
       "+------------+ +------------+ +------------+ +--------+ +--------+\n",
       "3              64851834634137 0.35           =BLOB=     =BLOB=    \n",
       "3              64851834634938 0.35           =BLOB=     =BLOB=    \n",
       "3              64851834634947 0.35           =BLOB=     =BLOB=    \n",
       "3              64851834634947 0.35           =BLOB=     =BLOB=    \n",
       "3              64851834634947 0.35           =BLOB=     =BLOB=    \n",
       "3              64851834634947 0.35           =BLOB=     =BLOB=    \n",
       "3              64851834634947 0.35           =BLOB=     =BLOB=    \n",
       "3              64851834634947 0.35           =BLOB=     =BLOB=    \n",
       "3              64851834634947 0.35           =BLOB=     =BLOB=    \n",
       "3              64851834634947 0.35           =BLOB=     =BLOB=    \n",
       "3              64851834634947 0.35           =BLOB=     =BLOB=    \n",
       "3              64851834634947 0.35           =BLOB=     =BLOB=    \n",
       "3              64851834634947 0.35           =BLOB=     =BLOB=    \n",
       "3              64851834634947 0.35           =BLOB=     =BLOB=    \n",
       "3              64851834634947 0.35           =BLOB=     =BLOB=    \n",
       "3              64851834634947 0.35           =BLOB=     =BLOB=    \n",
       "3              64851834634947 0.35           =BLOB=     =BLOB=    \n",
       "3              64851834634947 0.35           =BLOB=     =BLOB=    \n",
       "3              64851834634947 0.35           =BLOB=     =BLOB=    \n",
       "3              64851834634947 0.35           =BLOB=     =BLOB=    \n",
       "   ...\n",
       " (Total: 326)"
      ]
     },
     "execution_count": 5,
     "metadata": {},
     "output_type": "execute_result"
    }
   ],
   "source": [
    "pinky.WholeAutoAnnotationsClusters3()"
   ]
  },
  {
   "cell_type": "code",
   "execution_count": 4,
   "metadata": {},
   "outputs": [],
   "source": [
    "segment_ids,traingles = (pinky.WholeAutoAnnotationsClusters3 & \"segment_id = 648518346349473821\").fetch(\"segment_id\",\"triangles\")"
   ]
  },
  {
   "cell_type": "code",
   "execution_count": 5,
   "metadata": {},
   "outputs": [],
   "source": [
    "tri_example = traingles[0]"
   ]
  },
  {
   "cell_type": "code",
   "execution_count": 8,
   "metadata": {},
   "outputs": [
    {
     "data": {
      "text/plain": [
       "(array([   449,    450,    451, ..., 476721, 476722, 476723]),)"
      ]
     },
     "execution_count": 8,
     "metadata": {},
     "output_type": "execute_result"
    }
   ],
   "source": [
    "np.where(tri_example == 2)"
   ]
  },
  {
   "cell_type": "code",
   "execution_count": null,
   "metadata": {},
   "outputs": [],
   "source": [
    "# iterate through and find the ones that weren't\n",
    "for id,tri in "
   ]
  }
 ],
 "metadata": {
  "kernelspec": {
   "display_name": "Python 3",
   "language": "python",
   "name": "python3"
  },
  "language_info": {
   "codemirror_mode": {
    "name": "ipython",
    "version": 3
   },
   "file_extension": ".py",
   "mimetype": "text/x-python",
   "name": "python",
   "nbconvert_exporter": "python",
   "pygments_lexer": "ipython3",
   "version": "3.6.8"
  }
 },
 "nbformat": 4,
 "nbformat_minor": 4
}
