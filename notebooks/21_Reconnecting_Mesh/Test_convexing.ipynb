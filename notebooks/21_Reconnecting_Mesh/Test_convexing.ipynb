{
 "cells": [
  {
   "cell_type": "code",
   "execution_count": 1,
   "metadata": {},
   "outputs": [],
   "source": [
    "import trimesh\n",
    "import numpy as np"
   ]
  },
  {
   "cell_type": "code",
   "execution_count": 3,
   "metadata": {},
   "outputs": [],
   "source": [
    "new_mesh = trimesh.load_mesh(\"in_out_filtered_mesh.off\")"
   ]
  },
  {
   "cell_type": "code",
   "execution_count": 5,
   "metadata": {},
   "outputs": [],
   "source": [
    "import numpy as np\n",
    "#stores the correspondence face to face of adjacency\n",
    "face_adjacency = new_mesh.face_adjacency \n",
    "#returns angle between adjacent faces referenced by face_adjacency\n",
    "face_adjacency_angles = new_mesh.face_adjacency_angles \n",
    "#returns true or false for face if locally convex\n",
    "face_adjacency_convex = new_mesh.face_adjacency_convex \n",
    "\n",
    "#gives the indexes of the unshared vertices not on the common edge (so 2 vertices)\n",
    "face_adjacency_unshared = new_mesh.face_adjacency_unshared\n",
    "#finds projection of non-shared vertex of a triangle onto its adjacent face (emphasis on face)\n",
    "face_adjacency_projections = new_mesh.face_adjacency_projections\n",
    "#approximate radius of a cylinder that fints inside adjacent faces\n",
    "face_adjacency_radius = new_mesh.face_adjacency_radius\n",
    "\n",
    "#perpendicular projection of the non-shared vertice onto the shared edge (emphasis on edge)of two faces\n",
    "face_adjacency_span = new_mesh.face_adjacency_span"
   ]
  },
  {
   "cell_type": "code",
   "execution_count": null,
   "metadata": {},
   "outputs": [],
   "source": [
    "#compile a dictionary that corresponds to the face\n",
    "convex_dict = []\n",
    "for k in new_mesh.faces: \n",
    "    temp_dict = dict(face_adjacency_angles=[],\n",
    "                     face_adjacency_convex=[],\n",
    "                     face_adjacency_projections=[],\n",
    "                     face_adjacency_radius=[],\n",
    "                     face_adjacency_span=[],\n",
    "    "
   ]
  }
 ],
 "metadata": {
  "kernelspec": {
   "display_name": "Python 3",
   "language": "python",
   "name": "python3"
  },
  "language_info": {
   "codemirror_mode": {
    "name": "ipython",
    "version": 3
   },
   "file_extension": ".py",
   "mimetype": "text/x-python",
   "name": "python",
   "nbconvert_exporter": "python",
   "pygments_lexer": "ipython3",
   "version": "3.6.5"
  }
 },
 "nbformat": 4,
 "nbformat_minor": 2
}
