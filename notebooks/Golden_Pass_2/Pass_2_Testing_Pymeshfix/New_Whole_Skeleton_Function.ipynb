{
 "cells": [
  {
   "cell_type": "code",
   "execution_count": 1,
   "metadata": {},
   "outputs": [
    {
     "name": "stdout",
     "output_type": "stream",
     "text": [
      "Connecting celiib@10.28.0.34:3306\n"
     ]
    }
   ],
   "source": [
    "import datajoint as dj\n",
    "import numpy as np\n",
    "import calcification_Module as cm\n",
    "\n",
    "import trimesh\n",
    "import pymeshfix\n",
    "\n",
    "pinky = dj.create_virtual_module(\"pinky\",\"microns_pinky\")\n",
    "scehma = dj.schema(\"microns_pinky\")\n"
   ]
  },
  {
   "cell_type": "markdown",
   "metadata": {},
   "source": [
    "# Helper Functions"
   ]
  },
  {
   "cell_type": "code",
   "execution_count": 2,
   "metadata": {},
   "outputs": [],
   "source": [
    "#what the repair function does: \n",
    "def repair_celii(tin, verbose=False, joincomp=True, remove_smallest_components=True,clean=True):\n",
    "    \"\"\"\n",
    "    Performs mesh repair using default cleaning procedure using a tin object.\n",
    "    Internal function.  Use CleanFromFile or CleanFromVF.\n",
    "    \"\"\"\n",
    "\n",
    "    # Keep only the largest component (i.e. with most triangles)\n",
    "    if remove_smallest_components:\n",
    "        sc = tin.remove_smallest_components()\n",
    "        if sc and verbose:\n",
    "            print('Removed %d small components' % sc)\n",
    "\n",
    "    # join closest components\n",
    "    if joincomp:\n",
    "        tin.join_closest_components()\n",
    "    \n",
    "    if tin.boundaries():\n",
    "        if verbose:\n",
    "            print('Patching holes...')\n",
    "        holespatched = tin.fill_small_boundaries()\n",
    "        if verbose:\n",
    "            print('Patched %d holes' % holespatched)\n",
    "    \n",
    "    \n",
    "        \n",
    "    tin.boundaries()\n",
    "    if clean == True:\n",
    "        # Perform mesh cleaning\n",
    "        if verbose:\n",
    "            print('Fixing degeneracies and intersections')\n",
    "        result = tin.clean()\n",
    "    else:\n",
    "        print(\"Skipping the degenerative cleaning\")\n",
    "        result = False\n",
    "\n",
    "    # Check boundaries again\n",
    "    if tin.boundaries():\n",
    "        if verbose:\n",
    "            print('Patching holes...')\n",
    "        holespatched = tin.fill_small_boundaries()\n",
    "        if verbose:\n",
    "            print('Patched %d holes' % holespatched)\n",
    "    \n",
    "        if verbose:\n",
    "            print('Performing final check...')\n",
    "        if clean == True:\n",
    "            if verbose:\n",
    "                print('Fixing degeneracies and intersections')\n",
    "            result = tin.clean()\n",
    "        else:\n",
    "            print(\"Skipping the degenerative cleaning\")\n",
    "            result = False\n",
    "\n",
    "    if result:\n",
    "        warnings.warn('MeshFix could not fix everything')"
   ]
  },
  {
   "cell_type": "code",
   "execution_count": 3,
   "metadata": {},
   "outputs": [],
   "source": [
    "import warnings\n",
    "from pymeshfix import _meshfix\n",
    "def clean_from_arrays_celii(v, f, verbose=False, joincomp=False,\n",
    "                      remove_smallest_components=True,clean=True):\n",
    "    \"\"\"\n",
    "    Performs default cleaning procedure on vertex and face arrays\n",
    "    Returns cleaned vertex and face arrays\n",
    "    \n",
    "    Parameters\n",
    "    ----------\n",
    "    v : numpy.ndarray\n",
    "        Numpy n x 3 array of vertices\n",
    "    f : numpy.ndarray\n",
    "        Numpy n x 3 array of faces.\n",
    "    verbose : bool, optional\n",
    "        Prints progress to stdout.  Default True.\n",
    "    joincomp : bool, optional\n",
    "        Attempts to join nearby open components.  Default False\n",
    "    remove_smallest_components : bool, optional\n",
    "        Remove all but the largest isolated component from the mesh\n",
    "        before beginning the repair process.  Default True.\n",
    "    Examples\n",
    "    --------\n",
    "    >>>\n",
    "    >>> CleanFromFile('inmesh.ply', 'outmesh.ply')\n",
    "    \"\"\"\n",
    "    # Create mesh object and load from file\n",
    "    tin = _meshfix.PyTMesh(verbose)\n",
    "    tin.load_array(v, f)\n",
    "\n",
    "    # repari and return vertex and face arrays\n",
    "    repair_celii(tin, verbose, joincomp, remove_smallest_components,clean)\n",
    "    return tin.return_arrays()"
   ]
  },
  {
   "cell_type": "code",
   "execution_count": 4,
   "metadata": {},
   "outputs": [],
   "source": [
    "def pymeshfix_no_degenerative(input_file=\"\",input_verts=[],input_faces=[],output_file=\"\"):\n",
    "    if input_file != \"\":\n",
    "        new_mesh = trimesh.load_mesh(input_file,process=False)\n",
    "        input_verts = new_mesh.vertices\n",
    "        input_faces = new_mesh.faces\n",
    "        \n",
    "    cleaned_verts, cleaned_triangles= clean_from_arrays_celii(input_verts,input_faces,verbose=True,joincomp=True,remove_smallest_components=False,clean=False)\n",
    "    cleaned_mesh = make_trimesh_object(cleaned_verts,cleaned_triangles)\n",
    "    if output_file != \"\":\n",
    "        cleaned_mesh.export(output_file)\n",
    "        #add an extra line to the file\n",
    "        with open(output_file,\"a\") as file:\n",
    "            file.write(\"\\n\")\n",
    "    else:\n",
    "        return cleaned_mesh.vertices,cleaned_mesh.faces\n",
    "    \n",
    "    "
   ]
  },
  {
   "cell_type": "code",
   "execution_count": 5,
   "metadata": {},
   "outputs": [],
   "source": [
    "import subprocess\n",
    "def meshlab_fix_manifold_path_specific_mls(path_and_filename,segment_id=-1,meshlab_script=\"\"):\n",
    "    #fix the path if it comes with the extension\n",
    "    if path_and_filename[-4:] == \".off\":\n",
    "        path_and_filename = path_and_filename[:-4]\n",
    "    \n",
    "    input_mesh = path_and_filename + \".off\"\n",
    "    output_mesh = path_and_filename+\"_mls.off\"\n",
    "    \n",
    "    #print(\"input_mesh = \" + str(input_mesh))\n",
    "    #print(\"output_mesh = \" + str(output_mesh))\n",
    "    if meshlab_script == \"\":\n",
    "        meshlab_script = str(pathlib.Path.cwd()) + \"/\" + \"remeshing_remove_non_man_edges.mls\"\n",
    "    \n",
    "    print(\"meshlab_script = \" + str(meshlab_script))\n",
    "    #print(\"starting meshlabserver fixing non-manifolds\")\n",
    "    subprocess_result_1 = run_meshlab_script(meshlab_script,\n",
    "                      input_mesh,\n",
    "                      output_mesh)\n",
    "    #print(\"Poisson subprocess_result= \"+ str(subprocess_result_1))\n",
    "    \n",
    "    if str(subprocess_result_1)[-13:] != \"returncode=0)\":\n",
    "        raise Exception('neuron' + str(segment_id) + \n",
    "                         ' did not fix the manifold edges')\n",
    "    \n",
    "    return output_mesh\n",
    "\n",
    "def run_meshlab_script(mlx_script,input_mesh_file,output_mesh_file):\n",
    "    script_command = (\" -i \" + str(input_mesh_file) + \" -o \" + \n",
    "                                    str(output_mesh_file) + \" -s \" + str(mlx_script))\n",
    "    #return script_command\n",
    "    print('xvfb-run -a -s \"-screen 0 800x600x24\" meshlabserver $@ ' + script_command)\n",
    "    subprocess_result = subprocess.run('xvfb-run -a -s \"-screen 0 800x600x24\" meshlabserver $@ ' + \n",
    "                   script_command,shell=True)\n",
    "    \n",
    "    return subprocess_result\n"
   ]
  },
  {
   "cell_type": "code",
   "execution_count": 6,
   "metadata": {},
   "outputs": [],
   "source": [
    "# Keep only the largest component (i.e. with most triangles)\n",
    "def get_largest_piece(v,f,verbose=True):\n",
    "    \n",
    "\n",
    "    # Create mesh object and load from file\n",
    "    tin = _meshfix.PyTMesh(verbose)\n",
    "    tin.load_array(v, f)\n",
    "\n",
    "    sc = tin.remove_smallest_components()\n",
    "    if sc and verbose:\n",
    "        print('Removed %d small components' % sc)\n",
    "        \n",
    "    return tin.return_arrays()"
   ]
  },
  {
   "cell_type": "code",
   "execution_count": 7,
   "metadata": {},
   "outputs": [],
   "source": [
    "def read_skeleton_revised(file_path):\n",
    "    with open(file_path) as f:\n",
    "        bones = np.array([])\n",
    "        for line in f.readlines():\n",
    "            #print(line)\n",
    "            line = (np.array(line.split()[1:], float).reshape(-1, 3))\n",
    "            #print(line[:-1])\n",
    "            #print(line[1:])\n",
    "\n",
    "            #print(bones.size)\n",
    "            if bones.size <= 0:\n",
    "                bones = np.stack((line[:-1],line[1:]),axis=1)\n",
    "            else:\n",
    "                bones = np.vstack((bones,(np.stack((line[:-1],line[1:]),axis=1))))\n",
    "            #print(bones)\n",
    "\n",
    "\n",
    "    return np.array(bones).astype(float)"
   ]
  },
  {
   "cell_type": "code",
   "execution_count": 8,
   "metadata": {},
   "outputs": [],
   "source": [
    "def make_trimesh_object(verts,triangles):\n",
    "    new_mesh = trimesh.Trimesh()\n",
    "    new_mesh.faces = triangles\n",
    "    new_mesh.vertices = verts\n",
    "    return new_mesh"
   ]
  },
  {
   "cell_type": "markdown",
   "metadata": {},
   "source": [
    "# actual skeletonization"
   ]
  },
  {
   "cell_type": "code",
   "execution_count": 15,
   "metadata": {},
   "outputs": [],
   "source": [
    "import datajoint as dj\n",
    "segment_id=648518346349507130 #works well\n",
    "\n",
    "pinky = dj.create_virtual_module(\"pinky\",\"microns_pinky\")\n",
    "\n",
    "search_key = dict(segmentation=3,segment_id=segment_id)\n",
    "\n",
    "verts,faces = (pinky.Mesh() & search_key).fetch1(\"vertices\",\"triangles\")\n",
    "#starting_mesh = trimesh.Trimesh(verts,faces,process=False)\n",
    "\n",
    "#v,f = get_largest_piece(verts,faces)\n",
    "#starting_mesh_largest = make_trimesh_object(v,f)\n",
    "\n",
    "#starting_mesh.export(\"./dendrite_branches/starting_mesh.off\")"
   ]
  },
  {
   "cell_type": "code",
   "execution_count": 16,
   "metadata": {},
   "outputs": [
    {
     "name": "stdout",
     "output_type": "stream",
     "text": [
      "Patching holes...\n",
      "Patched 15 holes\n",
      "Skipping the degenerative cleaning\n",
      "output_file = ./dendrite_branches/current_mesh.off\n",
      "meshlab_script = remove_duplicate_verts.mls\n",
      "xvfb-run -a -s \"-screen 0 800x600x24\" meshlabserver $@  -i ./dendrite_branches/current_mesh.off -o ./dendrite_branches/current_mesh_mls.off -s remove_duplicate_verts.mls\n",
      "meshlab_script = pymesh_fix_substitute.mls\n",
      "xvfb-run -a -s \"-screen 0 800x600x24\" meshlabserver $@  -i ./dendrite_branches/current_mesh_mls.off -o ./dendrite_branches/current_mesh_mls_mls.off -s pymesh_fix_substitute.mls\n"
     ]
    }
   ],
   "source": [
    "output_file=\"./dendrite_branches/current_mesh.off\"\n",
    "\n",
    "pymeshfix_no_degenerative(input_verts = verts,input_faces=faces,\n",
    "                          output_file=output_file)\n",
    "\n",
    "meshlab_script = \"remove_duplicate_verts.mls\"\n",
    "\n",
    "print(\"output_file = \" + str(output_file))\n",
    "output_mesh = meshlab_fix_manifold_path_specific_mls(output_file,search_key[\"segment_id\"],meshlab_script)\n",
    "\n",
    "meshlab_script_2 = \"pymesh_fix_substitute.mls\"\n",
    "output_mesh = meshlab_fix_manifold_path_specific_mls(output_mesh,search_key[\"segment_id\"],meshlab_script_2)"
   ]
  },
  {
   "cell_type": "code",
   "execution_count": 17,
   "metadata": {},
   "outputs": [
    {
     "data": {
      "text/plain": [
       "'./dendrite_branches/current_mesh_mls_mls.off'"
      ]
     },
     "execution_count": 17,
     "metadata": {},
     "output_type": "execute_result"
    }
   ],
   "source": [
    "output_mesh"
   ]
  },
  {
   "cell_type": "code",
   "execution_count": null,
   "metadata": {},
   "outputs": [],
   "source": [
    "cm.calcification(output_mesh[:-4])\n",
    "\n",
    "#from Stitcher_vp2_without_edges_check import stitch_skeleton_with_degree_check\n",
    "#show the output mesh\n",
    "print(\"output_mesh = \" + str(output_mesh))\n",
    "output_trimesh = trimesh.load_mesh(output_mesh)\n",
    "\n",
    "#read in the skeleton files into an array\n",
    "total_edges = read_skeleton_revised(output_mesh[:-4]+\"_skeleton.cgal\")\n",
    "#total_edges_stitched = stitch_skeleton_with_degree_check(total_edges)"
   ]
  },
  {
   "cell_type": "code",
   "execution_count": null,
   "metadata": {},
   "outputs": [],
   "source": []
  }
 ],
 "metadata": {
  "kernelspec": {
   "display_name": "Python 3",
   "language": "python",
   "name": "python3"
  },
  "language_info": {
   "codemirror_mode": {
    "name": "ipython",
    "version": 3
   },
   "file_extension": ".py",
   "mimetype": "text/x-python",
   "name": "python",
   "nbconvert_exporter": "python",
   "pygments_lexer": "ipython3",
   "version": "3.6.5"
  }
 },
 "nbformat": 4,
 "nbformat_minor": 2
}
