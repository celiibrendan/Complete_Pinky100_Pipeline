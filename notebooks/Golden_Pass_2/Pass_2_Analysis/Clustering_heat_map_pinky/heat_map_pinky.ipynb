{
 "cells": [
  {
   "cell_type": "code",
   "execution_count": 1,
   "metadata": {},
   "outputs": [],
   "source": [
    "import datajoint as dj\n",
    "import numpy as np\n",
    "import time\n",
    "\n",
    "import pandas as pd\n",
    "import seaborn as sns\n",
    "sns.set() #sets the asethetics parameters in what set"
   ]
  },
  {
   "cell_type": "code",
   "execution_count": 2,
   "metadata": {},
   "outputs": [
    {
     "name": "stdout",
     "output_type": "stream",
     "text": [
      "Connecting celiib@10.28.0.34:3306\n"
     ]
    }
   ],
   "source": [
    "#setting the address and the username\n",
    "dj.config['database.host'] = '10.28.0.34'\n",
    "dj.config['database.user'] = 'celiib'\n",
    "dj.config['database.password'] = 'newceliipass'\n",
    "dj.config['safemode']=True\n",
    "dj.config[\"display.limit\"] = 20\n",
    "\n",
    "schema = dj.schema('microns_pinky')\n",
    "pinky = dj.create_virtual_module('pinky', 'microns_pinky')\n"
   ]
  },
  {
   "cell_type": "code",
   "execution_count": 3,
   "metadata": {},
   "outputs": [],
   "source": [
    "#creates the table with spine data without the spine label\n",
    "#how to filter out the spine proportion\n",
    "\n",
    "#have to first remove the ones that have only spine synapses\n",
    "\n",
    "\n",
    "neurite_targets_no_spine = (pinky.NeuriteTargetsRevised() & \"spine_num<total\").proj(spine_head_prop=\"spine_head_prop/(1-spine_prop)\",\n",
    "                                                         spine_neck_prop=\"spine_neck_prop/(1-spine_prop)\",\n",
    "                                                         shaft_prop=\"shaft_prop/(1-spine_prop)\",\n",
    "                                                         non_spine_prop=\"non_spine_prop/(1-spine_prop)\",\n",
    "                                                         total=\"total-spine_num\")\n",
    "\n"
   ]
  },
  {
   "cell_type": "code",
   "execution_count": 4,
   "metadata": {},
   "outputs": [
    {
     "name": "stdout",
     "output_type": "stream",
     "text": [
      "30088\n",
      "1666\n",
      "2912\n",
      "5312\n",
      "10102\n"
     ]
    }
   ],
   "source": [
    "#different lengths based on the number of synapses threshold\n",
    "\n",
    "print(len(neurite_targets_no_spine))\n",
    "print(len(neurite_targets_no_spine & \"total>12\"))\n",
    "print(len(neurite_targets_no_spine & \"total>10\")) \n",
    "print(len(neurite_targets_no_spine & \"total>8\")) \n",
    "print(len(neurite_targets_no_spine & \"total>6\")) "
   ]
  },
  {
   "cell_type": "code",
   "execution_count": 5,
   "metadata": {},
   "outputs": [
    {
     "data": {
      "text/html": [
       "\n",
       "        \n",
       "        <style type=\"text/css\">\n",
       "            .Relation{\n",
       "                border-collapse:collapse;\n",
       "            }\n",
       "            .Relation th{\n",
       "                background: #A0A0A0; color: #ffffff; padding:4px; border:#f0e0e0 1px solid;\n",
       "                font-weight: normal; font-family: monospace; font-size: 100%;\n",
       "            }\n",
       "            .Relation td{\n",
       "                padding:4px; border:#f0e0e0 1px solid; font-size:100%;\n",
       "            }\n",
       "            .Relation tr:nth-child(odd){\n",
       "                background: #ffffff;\n",
       "            }\n",
       "            .Relation tr:nth-child(even){\n",
       "                background: #f3f1ff;\n",
       "            }\n",
       "            /* Tooltip container */\n",
       "            .djtooltip {\n",
       "            }\n",
       "            /* Tooltip text */\n",
       "            .djtooltip .djtooltiptext {\n",
       "                visibility: hidden;\n",
       "                width: 120px;\n",
       "                background-color: black;\n",
       "                color: #fff;\n",
       "                text-align: center;\n",
       "                padding: 5px 0;\n",
       "                border-radius: 6px;\n",
       "                /* Position the tooltip text - see examples below! */\n",
       "                position: absolute;\n",
       "                z-index: 1;\n",
       "            }\n",
       "            #primary {\n",
       "                font-weight: bold;\n",
       "                color: black;\n",
       "            }\n",
       "\n",
       "            #nonprimary {\n",
       "                font-weight: normal;\n",
       "                color: white;\n",
       "            }\n",
       "\n",
       "            /* Show the tooltip text when you mouse over the tooltip container */\n",
       "            .djtooltip:hover .djtooltiptext {\n",
       "                visibility: visible;\n",
       "            }\n",
       "        </style>\n",
       "        \n",
       "        \n",
       "            <div style=\"max-height:1000px;max-width:1500px;overflow:auto;\">\n",
       "            <table border=\"1\" class=\"Relation\">\n",
       "                <thead> <tr style=\"text-align: right;\"> <th> <div class=\"djtooltip\">\n",
       "                                <p id=\"primary\">segmentation</p>\n",
       "                                <span class=\"djtooltiptext\">segmentation id</span>\n",
       "                            </div></th><th><div class=\"djtooltip\">\n",
       "                                <p id=\"primary\">segment_id</p>\n",
       "                                <span class=\"djtooltiptext\">segment id unique within each Segmentation</span>\n",
       "                            </div></th><th><div class=\"djtooltip\">\n",
       "                                <p id=\"nonprimary\">spine_head_prop</p>\n",
       "                                <span class=\"djtooltiptext\">calculated attribute</span>\n",
       "                            </div></th><th><div class=\"djtooltip\">\n",
       "                                <p id=\"nonprimary\">spine_neck_prop</p>\n",
       "                                <span class=\"djtooltiptext\">calculated attribute</span>\n",
       "                            </div></th><th><div class=\"djtooltip\">\n",
       "                                <p id=\"nonprimary\">shaft_prop</p>\n",
       "                                <span class=\"djtooltiptext\">calculated attribute</span>\n",
       "                            </div></th><th><div class=\"djtooltip\">\n",
       "                                <p id=\"nonprimary\">non_spine_prop</p>\n",
       "                                <span class=\"djtooltiptext\">calculated attribute</span>\n",
       "                            </div></th><th><div class=\"djtooltip\">\n",
       "                                <p id=\"nonprimary\">total</p>\n",
       "                                <span class=\"djtooltiptext\">calculated attribute</span>\n",
       "                            </div> </th> </tr> </thead>\n",
       "                <tbody> <tr> <td>3</td>\n",
       "<td>648518346341351514</td>\n",
       "<td>0.6666666942614097</td>\n",
       "<td>0.11111111295076065</td>\n",
       "<td>0.2222222259015213</td>\n",
       "<td>0.0</td>\n",
       "<td>9.0</td></tr><tr><td>3</td>\n",
       "<td>648518346341351518</td>\n",
       "<td>0.8571428656578064</td>\n",
       "<td>0.1428571492433548</td>\n",
       "<td>0.0</td>\n",
       "<td>0.0</td>\n",
       "<td>7.0</td></tr><tr><td>3</td>\n",
       "<td>648518346341351525</td>\n",
       "<td>0.75</td>\n",
       "<td>0.0833333358168602</td>\n",
       "<td>0.1666666716337204</td>\n",
       "<td>0.0</td>\n",
       "<td>12.0</td></tr><tr><td>3</td>\n",
       "<td>648518346341351631</td>\n",
       "<td>0.8181818127632141</td>\n",
       "<td>0.09090909361839294</td>\n",
       "<td>0.09090909361839294</td>\n",
       "<td>0.0</td>\n",
       "<td>22.0</td></tr><tr><td>3</td>\n",
       "<td>648518346341351695</td>\n",
       "<td>0.6666666865348816</td>\n",
       "<td>0.2222222238779068</td>\n",
       "<td>0.1111111119389534</td>\n",
       "<td>0.0</td>\n",
       "<td>9.0</td></tr><tr><td>3</td>\n",
       "<td>648518346341351719</td>\n",
       "<td>0.8571428571428571</td>\n",
       "<td>0.0</td>\n",
       "<td>0.14285714285714285</td>\n",
       "<td>0.0</td>\n",
       "<td>7.0</td></tr><tr><td>3</td>\n",
       "<td>648518346341351767</td>\n",
       "<td>0.7777777658200559</td>\n",
       "<td>0.11111111295076065</td>\n",
       "<td>0.11111111295076065</td>\n",
       "<td>0.0</td>\n",
       "<td>9.0</td></tr><tr><td>3</td>\n",
       "<td>648518346341351896</td>\n",
       "<td>0.8181818127632141</td>\n",
       "<td>0.09090909361839294</td>\n",
       "<td>0.09090909361839294</td>\n",
       "<td>0.0</td>\n",
       "<td>11.0</td></tr><tr><td>3</td>\n",
       "<td>648518346341351904</td>\n",
       "<td>0.0</td>\n",
       "<td>0.1428571492433548</td>\n",
       "<td>0.8571428656578064</td>\n",
       "<td>0.0</td>\n",
       "<td>7.0</td></tr><tr><td>3</td>\n",
       "<td>648518346341351978</td>\n",
       "<td>0.8749999883584678</td>\n",
       "<td>0.0</td>\n",
       "<td>0.12500000232830644</td>\n",
       "<td>0.0</td>\n",
       "<td>8.0</td></tr><tr><td>3</td>\n",
       "<td>648518346341351998</td>\n",
       "<td>0.7692307902158365</td>\n",
       "<td>0.0</td>\n",
       "<td>0.23076923385527007</td>\n",
       "<td>0.0</td>\n",
       "<td>13.0</td></tr><tr><td>3</td>\n",
       "<td>648518346341351999</td>\n",
       "<td>0.8750000157160684</td>\n",
       "<td>0.1250000010477379</td>\n",
       "<td>0.0</td>\n",
       "<td>0.0</td>\n",
       "<td>8.0</td></tr><tr><td>3</td>\n",
       "<td>648518346341352071</td>\n",
       "<td>0.5714285714285714</td>\n",
       "<td>0.14285714285714285</td>\n",
       "<td>0.2857142857142857</td>\n",
       "<td>0.0</td>\n",
       "<td>7.0</td></tr><tr><td>3</td>\n",
       "<td>648518346341352081</td>\n",
       "<td>0.4000000131130219</td>\n",
       "<td>0.10000000327825548</td>\n",
       "<td>0.5000000163912773</td>\n",
       "<td>0.0</td>\n",
       "<td>10.0</td></tr><tr><td>3</td>\n",
       "<td>648518346341352126</td>\n",
       "<td>0.375</td>\n",
       "<td>0.5</td>\n",
       "<td>0.125</td>\n",
       "<td>0.0</td>\n",
       "<td>8.0</td></tr><tr><td>3</td>\n",
       "<td>648518346341352182</td>\n",
       "<td>0.75</td>\n",
       "<td>0.125</td>\n",
       "<td>0.125</td>\n",
       "<td>0.0</td>\n",
       "<td>8.0</td></tr><tr><td>3</td>\n",
       "<td>648518346341352225</td>\n",
       "<td>0.8571428656578064</td>\n",
       "<td>0.0</td>\n",
       "<td>0.1428571492433548</td>\n",
       "<td>0.0</td>\n",
       "<td>7.0</td></tr><tr><td>3</td>\n",
       "<td>648518346341352296</td>\n",
       "<td>0.75</td>\n",
       "<td>0.0</td>\n",
       "<td>0.25</td>\n",
       "<td>0.0</td>\n",
       "<td>8.0</td></tr><tr><td>3</td>\n",
       "<td>648518346341352299</td>\n",
       "<td>0.7500000325962902</td>\n",
       "<td>0.08333332867672044</td>\n",
       "<td>0.16666667597989246</td>\n",
       "<td>0.0</td>\n",
       "<td>12.0</td></tr><tr><td>3</td>\n",
       "<td>648518346341352300</td>\n",
       "<td>0.875</td>\n",
       "<td>0.0</td>\n",
       "<td>0.125</td>\n",
       "<td>0.0</td>\n",
       "<td>8.0</td> </tr> </tbody>\n",
       "            </table>\n",
       "            <p>...</p>\n",
       "            <p>Total: 10102</p></div>\n",
       "            "
      ],
      "text/plain": [
       "*segmentation  *segment_id    spine_head_pro spine_neck_pro shaft_prop     non_spine_prop total    \n",
       "+------------+ +------------+ +------------+ +------------+ +------------+ +------------+ +-------+\n",
       "3              64851834634135 0.666666694261 0.111111112950 0.222222225901 0.0            9.0      \n",
       "3              64851834634135 0.857142865657 0.142857149243 0.0            0.0            7.0      \n",
       "3              64851834634135 0.75           0.083333335816 0.166666671633 0.0            12.0     \n",
       "3              64851834634135 0.818181812763 0.090909093618 0.090909093618 0.0            22.0     \n",
       "3              64851834634135 0.666666686534 0.222222223877 0.111111111938 0.0            9.0      \n",
       "3              64851834634135 0.857142857142 0.0            0.142857142857 0.0            7.0      \n",
       "3              64851834634135 0.777777765820 0.111111112950 0.111111112950 0.0            9.0      \n",
       "3              64851834634135 0.818181812763 0.090909093618 0.090909093618 0.0            11.0     \n",
       "3              64851834634135 0.0            0.142857149243 0.857142865657 0.0            7.0      \n",
       "3              64851834634135 0.874999988358 0.0            0.125000002328 0.0            8.0      \n",
       "3              64851834634135 0.769230790215 0.0            0.230769233855 0.0            13.0     \n",
       "3              64851834634135 0.875000015716 0.125000001047 0.0            0.0            8.0      \n",
       "3              64851834634135 0.571428571428 0.142857142857 0.285714285714 0.0            7.0      \n",
       "3              64851834634135 0.400000013113 0.100000003278 0.500000016391 0.0            10.0     \n",
       "3              64851834634135 0.375          0.5            0.125          0.0            8.0      \n",
       "3              64851834634135 0.75           0.125          0.125          0.0            8.0      \n",
       "3              64851834634135 0.857142865657 0.0            0.142857149243 0.0            7.0      \n",
       "3              64851834634135 0.75           0.0            0.25           0.0            8.0      \n",
       "3              64851834634135 0.750000032596 0.083333328676 0.166666675979 0.0            12.0     \n",
       "3              64851834634135 0.875          0.0            0.125          0.0            8.0      \n",
       "   ...\n",
       " (Total: 10102)"
      ]
     },
     "execution_count": 5,
     "metadata": {},
     "output_type": "execute_result"
    }
   ],
   "source": [
    "neurite_targets_no_spine_6 = (neurite_targets_no_spine & \"total>6\")\n",
    "neurite_targets_no_spine_6"
   ]
  },
  {
   "cell_type": "code",
   "execution_count": 6,
   "metadata": {},
   "outputs": [
    {
     "ename": "InternalError",
     "evalue": "(1054, \"Unknown column 'axon_prop' in 'where clause'\")",
     "output_type": "error",
     "traceback": [
      "\u001b[0;31m---------------------------------------------------------------------------\u001b[0m",
      "\u001b[0;31mInternalError\u001b[0m                             Traceback (most recent call last)",
      "\u001b[0;32m<ipython-input-6-50a358bbe984>\u001b[0m in \u001b[0;36m<module>\u001b[0;34m\u001b[0m\n\u001b[1;32m      1\u001b[0m \u001b[0;31m#manually find the groups\u001b[0m\u001b[0;34m\u001b[0m\u001b[0;34m\u001b[0m\u001b[0;34m\u001b[0m\u001b[0m\n\u001b[1;32m      2\u001b[0m \u001b[0maxon_group\u001b[0m \u001b[0;34m=\u001b[0m \u001b[0mneurite_targets_no_spine_6\u001b[0m \u001b[0;34m&\u001b[0m \u001b[0;34m\"axon_prop>0\"\u001b[0m\u001b[0;34m\u001b[0m\u001b[0;34m\u001b[0m\u001b[0m\n\u001b[0;32m----> 3\u001b[0;31m \u001b[0mprint\u001b[0m\u001b[0;34m(\u001b[0m\u001b[0;34m\"Axon group = \"\u001b[0m \u001b[0;34m+\u001b[0m \u001b[0mstr\u001b[0m\u001b[0;34m(\u001b[0m\u001b[0mlen\u001b[0m\u001b[0;34m(\u001b[0m\u001b[0maxon_group\u001b[0m\u001b[0;34m)\u001b[0m\u001b[0;34m)\u001b[0m\u001b[0;34m)\u001b[0m\u001b[0;34m\u001b[0m\u001b[0;34m\u001b[0m\u001b[0m\n\u001b[0m\u001b[1;32m      4\u001b[0m \u001b[0msoma_group\u001b[0m \u001b[0;34m=\u001b[0m \u001b[0;34m(\u001b[0m\u001b[0mneurite_targets_no_spine_6\u001b[0m \u001b[0;34m-\u001b[0m \u001b[0maxon_group\u001b[0m\u001b[0;34m.\u001b[0m\u001b[0mproj\u001b[0m\u001b[0;34m(\u001b[0m\u001b[0;34m)\u001b[0m\u001b[0;34m)\u001b[0m \u001b[0;34m&\u001b[0m \u001b[0;34m\"soma_prop>=0.25\"\u001b[0m\u001b[0;34m\u001b[0m\u001b[0;34m\u001b[0m\u001b[0m\n\u001b[1;32m      5\u001b[0m \u001b[0mprint\u001b[0m\u001b[0;34m(\u001b[0m\u001b[0;34m\"Soma group = \"\u001b[0m \u001b[0;34m+\u001b[0m \u001b[0mstr\u001b[0m\u001b[0;34m(\u001b[0m\u001b[0mlen\u001b[0m\u001b[0;34m(\u001b[0m\u001b[0msoma_group\u001b[0m\u001b[0;34m)\u001b[0m\u001b[0;34m)\u001b[0m\u001b[0;34m)\u001b[0m\u001b[0;34m\u001b[0m\u001b[0;34m\u001b[0m\u001b[0m\n",
      "\u001b[0;32m/usr/local/lib/python3.6/dist-packages/datajoint/expression.py\u001b[0m in \u001b[0;36m__len__\u001b[0;34m(self)\u001b[0m\n\u001b[1;32m    506\u001b[0m             ' FROM {from_}{where}'.format(\n\u001b[1;32m    507\u001b[0m                 \u001b[0mfrom_\u001b[0m\u001b[0;34m=\u001b[0m\u001b[0mself\u001b[0m\u001b[0;34m.\u001b[0m\u001b[0mfrom_clause\u001b[0m\u001b[0;34m,\u001b[0m\u001b[0;34m\u001b[0m\u001b[0;34m\u001b[0m\u001b[0m\n\u001b[0;32m--> 508\u001b[0;31m                 where=self.where_clause)).fetchone()[0]\n\u001b[0m\u001b[1;32m    509\u001b[0m \u001b[0;34m\u001b[0m\u001b[0m\n\u001b[1;32m    510\u001b[0m     \u001b[0;32mdef\u001b[0m \u001b[0m__bool__\u001b[0m\u001b[0;34m(\u001b[0m\u001b[0mself\u001b[0m\u001b[0;34m)\u001b[0m\u001b[0;34m:\u001b[0m\u001b[0;34m\u001b[0m\u001b[0;34m\u001b[0m\u001b[0m\n",
      "\u001b[0;32m/usr/local/lib/python3.6/dist-packages/datajoint/connection.py\u001b[0m in \u001b[0;36mquery\u001b[0;34m(self, query, args, as_dict, suppress_warnings, reconnect)\u001b[0m\n\u001b[1;32m    145\u001b[0m                     \u001b[0;31m# suppress all warnings arising from underlying SQL library\u001b[0m\u001b[0;34m\u001b[0m\u001b[0;34m\u001b[0m\u001b[0;34m\u001b[0m\u001b[0m\n\u001b[1;32m    146\u001b[0m                     \u001b[0mwarnings\u001b[0m\u001b[0;34m.\u001b[0m\u001b[0msimplefilter\u001b[0m\u001b[0;34m(\u001b[0m\u001b[0;34m\"ignore\"\u001b[0m\u001b[0;34m)\u001b[0m\u001b[0;34m\u001b[0m\u001b[0;34m\u001b[0m\u001b[0m\n\u001b[0;32m--> 147\u001b[0;31m                 \u001b[0mcur\u001b[0m\u001b[0;34m.\u001b[0m\u001b[0mexecute\u001b[0m\u001b[0;34m(\u001b[0m\u001b[0mquery\u001b[0m\u001b[0;34m,\u001b[0m \u001b[0margs\u001b[0m\u001b[0;34m)\u001b[0m\u001b[0;34m\u001b[0m\u001b[0;34m\u001b[0m\u001b[0m\n\u001b[0m\u001b[1;32m    148\u001b[0m         \u001b[0;32mexcept\u001b[0m \u001b[0;34m(\u001b[0m\u001b[0merr\u001b[0m\u001b[0;34m.\u001b[0m\u001b[0mInterfaceError\u001b[0m\u001b[0;34m,\u001b[0m \u001b[0merr\u001b[0m\u001b[0;34m.\u001b[0m\u001b[0mOperationalError\u001b[0m\u001b[0;34m)\u001b[0m \u001b[0;32mas\u001b[0m \u001b[0me\u001b[0m\u001b[0;34m:\u001b[0m\u001b[0;34m\u001b[0m\u001b[0;34m\u001b[0m\u001b[0m\n\u001b[1;32m    149\u001b[0m             \u001b[0;32mif\u001b[0m \u001b[0mis_connection_error\u001b[0m\u001b[0;34m(\u001b[0m\u001b[0me\u001b[0m\u001b[0;34m)\u001b[0m \u001b[0;32mand\u001b[0m \u001b[0mreconnect\u001b[0m\u001b[0;34m:\u001b[0m\u001b[0;34m\u001b[0m\u001b[0;34m\u001b[0m\u001b[0m\n",
      "\u001b[0;32m/usr/local/lib/python3.6/dist-packages/pymysql/cursors.py\u001b[0m in \u001b[0;36mexecute\u001b[0;34m(self, query, args)\u001b[0m\n\u001b[1;32m    168\u001b[0m         \u001b[0mquery\u001b[0m \u001b[0;34m=\u001b[0m \u001b[0mself\u001b[0m\u001b[0;34m.\u001b[0m\u001b[0mmogrify\u001b[0m\u001b[0;34m(\u001b[0m\u001b[0mquery\u001b[0m\u001b[0;34m,\u001b[0m \u001b[0margs\u001b[0m\u001b[0;34m)\u001b[0m\u001b[0;34m\u001b[0m\u001b[0;34m\u001b[0m\u001b[0m\n\u001b[1;32m    169\u001b[0m \u001b[0;34m\u001b[0m\u001b[0m\n\u001b[0;32m--> 170\u001b[0;31m         \u001b[0mresult\u001b[0m \u001b[0;34m=\u001b[0m \u001b[0mself\u001b[0m\u001b[0;34m.\u001b[0m\u001b[0m_query\u001b[0m\u001b[0;34m(\u001b[0m\u001b[0mquery\u001b[0m\u001b[0;34m)\u001b[0m\u001b[0;34m\u001b[0m\u001b[0;34m\u001b[0m\u001b[0m\n\u001b[0m\u001b[1;32m    171\u001b[0m         \u001b[0mself\u001b[0m\u001b[0;34m.\u001b[0m\u001b[0m_executed\u001b[0m \u001b[0;34m=\u001b[0m \u001b[0mquery\u001b[0m\u001b[0;34m\u001b[0m\u001b[0;34m\u001b[0m\u001b[0m\n\u001b[1;32m    172\u001b[0m         \u001b[0;32mreturn\u001b[0m \u001b[0mresult\u001b[0m\u001b[0;34m\u001b[0m\u001b[0;34m\u001b[0m\u001b[0m\n",
      "\u001b[0;32m/usr/local/lib/python3.6/dist-packages/pymysql/cursors.py\u001b[0m in \u001b[0;36m_query\u001b[0;34m(self, q)\u001b[0m\n\u001b[1;32m    326\u001b[0m         \u001b[0mself\u001b[0m\u001b[0;34m.\u001b[0m\u001b[0m_last_executed\u001b[0m \u001b[0;34m=\u001b[0m \u001b[0mq\u001b[0m\u001b[0;34m\u001b[0m\u001b[0;34m\u001b[0m\u001b[0m\n\u001b[1;32m    327\u001b[0m         \u001b[0mself\u001b[0m\u001b[0;34m.\u001b[0m\u001b[0m_clear_result\u001b[0m\u001b[0;34m(\u001b[0m\u001b[0;34m)\u001b[0m\u001b[0;34m\u001b[0m\u001b[0;34m\u001b[0m\u001b[0m\n\u001b[0;32m--> 328\u001b[0;31m         \u001b[0mconn\u001b[0m\u001b[0;34m.\u001b[0m\u001b[0mquery\u001b[0m\u001b[0;34m(\u001b[0m\u001b[0mq\u001b[0m\u001b[0;34m)\u001b[0m\u001b[0;34m\u001b[0m\u001b[0;34m\u001b[0m\u001b[0m\n\u001b[0m\u001b[1;32m    329\u001b[0m         \u001b[0mself\u001b[0m\u001b[0;34m.\u001b[0m\u001b[0m_do_get_result\u001b[0m\u001b[0;34m(\u001b[0m\u001b[0;34m)\u001b[0m\u001b[0;34m\u001b[0m\u001b[0;34m\u001b[0m\u001b[0m\n\u001b[1;32m    330\u001b[0m         \u001b[0;32mreturn\u001b[0m \u001b[0mself\u001b[0m\u001b[0;34m.\u001b[0m\u001b[0mrowcount\u001b[0m\u001b[0;34m\u001b[0m\u001b[0;34m\u001b[0m\u001b[0m\n",
      "\u001b[0;32m/usr/local/lib/python3.6/dist-packages/pymysql/connections.py\u001b[0m in \u001b[0;36mquery\u001b[0;34m(self, sql, unbuffered)\u001b[0m\n\u001b[1;32m    515\u001b[0m                 \u001b[0msql\u001b[0m \u001b[0;34m=\u001b[0m \u001b[0msql\u001b[0m\u001b[0;34m.\u001b[0m\u001b[0mencode\u001b[0m\u001b[0;34m(\u001b[0m\u001b[0mself\u001b[0m\u001b[0;34m.\u001b[0m\u001b[0mencoding\u001b[0m\u001b[0;34m,\u001b[0m \u001b[0;34m'surrogateescape'\u001b[0m\u001b[0;34m)\u001b[0m\u001b[0;34m\u001b[0m\u001b[0;34m\u001b[0m\u001b[0m\n\u001b[1;32m    516\u001b[0m         \u001b[0mself\u001b[0m\u001b[0;34m.\u001b[0m\u001b[0m_execute_command\u001b[0m\u001b[0;34m(\u001b[0m\u001b[0mCOMMAND\u001b[0m\u001b[0;34m.\u001b[0m\u001b[0mCOM_QUERY\u001b[0m\u001b[0;34m,\u001b[0m \u001b[0msql\u001b[0m\u001b[0;34m)\u001b[0m\u001b[0;34m\u001b[0m\u001b[0;34m\u001b[0m\u001b[0m\n\u001b[0;32m--> 517\u001b[0;31m         \u001b[0mself\u001b[0m\u001b[0;34m.\u001b[0m\u001b[0m_affected_rows\u001b[0m \u001b[0;34m=\u001b[0m \u001b[0mself\u001b[0m\u001b[0;34m.\u001b[0m\u001b[0m_read_query_result\u001b[0m\u001b[0;34m(\u001b[0m\u001b[0munbuffered\u001b[0m\u001b[0;34m=\u001b[0m\u001b[0munbuffered\u001b[0m\u001b[0;34m)\u001b[0m\u001b[0;34m\u001b[0m\u001b[0;34m\u001b[0m\u001b[0m\n\u001b[0m\u001b[1;32m    518\u001b[0m         \u001b[0;32mreturn\u001b[0m \u001b[0mself\u001b[0m\u001b[0;34m.\u001b[0m\u001b[0m_affected_rows\u001b[0m\u001b[0;34m\u001b[0m\u001b[0;34m\u001b[0m\u001b[0m\n\u001b[1;32m    519\u001b[0m \u001b[0;34m\u001b[0m\u001b[0m\n",
      "\u001b[0;32m/usr/local/lib/python3.6/dist-packages/pymysql/connections.py\u001b[0m in \u001b[0;36m_read_query_result\u001b[0;34m(self, unbuffered)\u001b[0m\n\u001b[1;32m    730\u001b[0m         \u001b[0;32melse\u001b[0m\u001b[0;34m:\u001b[0m\u001b[0;34m\u001b[0m\u001b[0;34m\u001b[0m\u001b[0m\n\u001b[1;32m    731\u001b[0m             \u001b[0mresult\u001b[0m \u001b[0;34m=\u001b[0m \u001b[0mMySQLResult\u001b[0m\u001b[0;34m(\u001b[0m\u001b[0mself\u001b[0m\u001b[0;34m)\u001b[0m\u001b[0;34m\u001b[0m\u001b[0;34m\u001b[0m\u001b[0m\n\u001b[0;32m--> 732\u001b[0;31m             \u001b[0mresult\u001b[0m\u001b[0;34m.\u001b[0m\u001b[0mread\u001b[0m\u001b[0;34m(\u001b[0m\u001b[0;34m)\u001b[0m\u001b[0;34m\u001b[0m\u001b[0;34m\u001b[0m\u001b[0m\n\u001b[0m\u001b[1;32m    733\u001b[0m         \u001b[0mself\u001b[0m\u001b[0;34m.\u001b[0m\u001b[0m_result\u001b[0m \u001b[0;34m=\u001b[0m \u001b[0mresult\u001b[0m\u001b[0;34m\u001b[0m\u001b[0;34m\u001b[0m\u001b[0m\n\u001b[1;32m    734\u001b[0m         \u001b[0;32mif\u001b[0m \u001b[0mresult\u001b[0m\u001b[0;34m.\u001b[0m\u001b[0mserver_status\u001b[0m \u001b[0;32mis\u001b[0m \u001b[0;32mnot\u001b[0m \u001b[0;32mNone\u001b[0m\u001b[0;34m:\u001b[0m\u001b[0;34m\u001b[0m\u001b[0;34m\u001b[0m\u001b[0m\n",
      "\u001b[0;32m/usr/local/lib/python3.6/dist-packages/pymysql/connections.py\u001b[0m in \u001b[0;36mread\u001b[0;34m(self)\u001b[0m\n\u001b[1;32m   1073\u001b[0m     \u001b[0;32mdef\u001b[0m \u001b[0mread\u001b[0m\u001b[0;34m(\u001b[0m\u001b[0mself\u001b[0m\u001b[0;34m)\u001b[0m\u001b[0;34m:\u001b[0m\u001b[0;34m\u001b[0m\u001b[0;34m\u001b[0m\u001b[0m\n\u001b[1;32m   1074\u001b[0m         \u001b[0;32mtry\u001b[0m\u001b[0;34m:\u001b[0m\u001b[0;34m\u001b[0m\u001b[0;34m\u001b[0m\u001b[0m\n\u001b[0;32m-> 1075\u001b[0;31m             \u001b[0mfirst_packet\u001b[0m \u001b[0;34m=\u001b[0m \u001b[0mself\u001b[0m\u001b[0;34m.\u001b[0m\u001b[0mconnection\u001b[0m\u001b[0;34m.\u001b[0m\u001b[0m_read_packet\u001b[0m\u001b[0;34m(\u001b[0m\u001b[0;34m)\u001b[0m\u001b[0;34m\u001b[0m\u001b[0;34m\u001b[0m\u001b[0m\n\u001b[0m\u001b[1;32m   1076\u001b[0m \u001b[0;34m\u001b[0m\u001b[0m\n\u001b[1;32m   1077\u001b[0m             \u001b[0;32mif\u001b[0m \u001b[0mfirst_packet\u001b[0m\u001b[0;34m.\u001b[0m\u001b[0mis_ok_packet\u001b[0m\u001b[0;34m(\u001b[0m\u001b[0;34m)\u001b[0m\u001b[0;34m:\u001b[0m\u001b[0;34m\u001b[0m\u001b[0;34m\u001b[0m\u001b[0m\n",
      "\u001b[0;32m/usr/local/lib/python3.6/dist-packages/pymysql/connections.py\u001b[0m in \u001b[0;36m_read_packet\u001b[0;34m(self, packet_type)\u001b[0m\n\u001b[1;32m    682\u001b[0m \u001b[0;34m\u001b[0m\u001b[0m\n\u001b[1;32m    683\u001b[0m         \u001b[0mpacket\u001b[0m \u001b[0;34m=\u001b[0m \u001b[0mpacket_type\u001b[0m\u001b[0;34m(\u001b[0m\u001b[0mbuff\u001b[0m\u001b[0;34m,\u001b[0m \u001b[0mself\u001b[0m\u001b[0;34m.\u001b[0m\u001b[0mencoding\u001b[0m\u001b[0;34m)\u001b[0m\u001b[0;34m\u001b[0m\u001b[0;34m\u001b[0m\u001b[0m\n\u001b[0;32m--> 684\u001b[0;31m         \u001b[0mpacket\u001b[0m\u001b[0;34m.\u001b[0m\u001b[0mcheck_error\u001b[0m\u001b[0;34m(\u001b[0m\u001b[0;34m)\u001b[0m\u001b[0;34m\u001b[0m\u001b[0;34m\u001b[0m\u001b[0m\n\u001b[0m\u001b[1;32m    685\u001b[0m         \u001b[0;32mreturn\u001b[0m \u001b[0mpacket\u001b[0m\u001b[0;34m\u001b[0m\u001b[0;34m\u001b[0m\u001b[0m\n\u001b[1;32m    686\u001b[0m \u001b[0;34m\u001b[0m\u001b[0m\n",
      "\u001b[0;32m/usr/local/lib/python3.6/dist-packages/pymysql/protocol.py\u001b[0m in \u001b[0;36mcheck_error\u001b[0;34m(self)\u001b[0m\n\u001b[1;32m    218\u001b[0m             \u001b[0merrno\u001b[0m \u001b[0;34m=\u001b[0m \u001b[0mself\u001b[0m\u001b[0;34m.\u001b[0m\u001b[0mread_uint16\u001b[0m\u001b[0;34m(\u001b[0m\u001b[0;34m)\u001b[0m\u001b[0;34m\u001b[0m\u001b[0;34m\u001b[0m\u001b[0m\n\u001b[1;32m    219\u001b[0m             \u001b[0;32mif\u001b[0m \u001b[0mDEBUG\u001b[0m\u001b[0;34m:\u001b[0m \u001b[0mprint\u001b[0m\u001b[0;34m(\u001b[0m\u001b[0;34m\"errno =\"\u001b[0m\u001b[0;34m,\u001b[0m \u001b[0merrno\u001b[0m\u001b[0;34m)\u001b[0m\u001b[0;34m\u001b[0m\u001b[0;34m\u001b[0m\u001b[0m\n\u001b[0;32m--> 220\u001b[0;31m             \u001b[0merr\u001b[0m\u001b[0;34m.\u001b[0m\u001b[0mraise_mysql_exception\u001b[0m\u001b[0;34m(\u001b[0m\u001b[0mself\u001b[0m\u001b[0;34m.\u001b[0m\u001b[0m_data\u001b[0m\u001b[0;34m)\u001b[0m\u001b[0;34m\u001b[0m\u001b[0;34m\u001b[0m\u001b[0m\n\u001b[0m\u001b[1;32m    221\u001b[0m \u001b[0;34m\u001b[0m\u001b[0m\n\u001b[1;32m    222\u001b[0m     \u001b[0;32mdef\u001b[0m \u001b[0mdump\u001b[0m\u001b[0;34m(\u001b[0m\u001b[0mself\u001b[0m\u001b[0;34m)\u001b[0m\u001b[0;34m:\u001b[0m\u001b[0;34m\u001b[0m\u001b[0;34m\u001b[0m\u001b[0m\n",
      "\u001b[0;32m/usr/local/lib/python3.6/dist-packages/pymysql/err.py\u001b[0m in \u001b[0;36mraise_mysql_exception\u001b[0;34m(data)\u001b[0m\n\u001b[1;32m    107\u001b[0m         \u001b[0merrval\u001b[0m \u001b[0;34m=\u001b[0m \u001b[0mdata\u001b[0m\u001b[0;34m[\u001b[0m\u001b[0;36m3\u001b[0m\u001b[0;34m:\u001b[0m\u001b[0;34m]\u001b[0m\u001b[0;34m.\u001b[0m\u001b[0mdecode\u001b[0m\u001b[0;34m(\u001b[0m\u001b[0;34m'utf-8'\u001b[0m\u001b[0;34m,\u001b[0m \u001b[0;34m'replace'\u001b[0m\u001b[0;34m)\u001b[0m\u001b[0;34m\u001b[0m\u001b[0;34m\u001b[0m\u001b[0m\n\u001b[1;32m    108\u001b[0m     \u001b[0merrorclass\u001b[0m \u001b[0;34m=\u001b[0m \u001b[0merror_map\u001b[0m\u001b[0;34m.\u001b[0m\u001b[0mget\u001b[0m\u001b[0;34m(\u001b[0m\u001b[0merrno\u001b[0m\u001b[0;34m,\u001b[0m \u001b[0mInternalError\u001b[0m\u001b[0;34m)\u001b[0m\u001b[0;34m\u001b[0m\u001b[0;34m\u001b[0m\u001b[0m\n\u001b[0;32m--> 109\u001b[0;31m     \u001b[0;32mraise\u001b[0m \u001b[0merrorclass\u001b[0m\u001b[0;34m(\u001b[0m\u001b[0merrno\u001b[0m\u001b[0;34m,\u001b[0m \u001b[0merrval\u001b[0m\u001b[0;34m)\u001b[0m\u001b[0;34m\u001b[0m\u001b[0;34m\u001b[0m\u001b[0m\n\u001b[0m",
      "\u001b[0;31mInternalError\u001b[0m: (1054, \"Unknown column 'axon_prop' in 'where clause'\")"
     ]
    }
   ],
   "source": [
    "#manually find the groups\n",
    "axon_group = neurite_targets_no_spine_6 & \"axon_prop>0\"\n",
    "print(\"Axon group = \" + str(len(axon_group)))\n",
    "soma_group = (neurite_targets_no_spine_6 - axon_group.proj()) & \"soma_prop>=0.25\"\n",
    "print(\"Soma group = \" + str(len(soma_group)))"
   ]
  },
  {
   "cell_type": "code",
   "execution_count": null,
   "metadata": {},
   "outputs": [],
   "source": [
    "#remove the axon and soma groups\n",
    "neurite_targets_no_spine_6_without_axon_soma = neurite_targets_no_spine_6 - axon_group.proj() - soma_group.proj()\n",
    "len(neurite_targets_no_spine_6_without_axon_soma)/len(neurite_targets_no_spine_6)"
   ]
  },
  {
   "cell_type": "code",
   "execution_count": null,
   "metadata": {},
   "outputs": [],
   "source": [
    "#get the portions of groups first\n",
    "head_group = neurite_targets_no_spine_6 & \"spine_head_prop>0.6\"\n",
    "head_group"
   ]
  },
  {
   "cell_type": "code",
   "execution_count": null,
   "metadata": {},
   "outputs": [],
   "source": [
    "#get the portions of groups first\n",
    "shaft_group = neurite_targets_no_spine_6 & \"spine_head_prop<=0.6\" & \"shaft_prop>=0.5\"\n",
    "shaft_group"
   ]
  },
  {
   "cell_type": "code",
   "execution_count": null,
   "metadata": {},
   "outputs": [],
   "source": []
  },
  {
   "cell_type": "code",
   "execution_count": null,
   "metadata": {},
   "outputs": [],
   "source": [
    "unused = (neurite_targets_no_spine_6 - shaft_group.proj()) - head_group.proj()\n",
    "unused"
   ]
  },
  {
   "cell_type": "code",
   "execution_count": null,
   "metadata": {},
   "outputs": [],
   "source": [
    "#check that the lengths are the same\n",
    "print(len(neurite_targets_no_spine_6))\n",
    "print(len(shaft_group) + len(head_group) + len(unused))"
   ]
  },
  {
   "cell_type": "code",
   "execution_count": null,
   "metadata": {},
   "outputs": [],
   "source": [
    "\n",
    "#pull down the head data and sort\n",
    "head_data = head_group.fetch(as_dict=True)\n",
    "\n",
    "head_df = pd.DataFrame(head_data)\n",
    "head_df_base = head_df.drop(columns=['segmentation', 'segment_id',\"total\",\"non_spine_prop\",\"spine_neck_prop\"])\n",
    "\n",
    "spine_df_base_head_shaft_sort = head_df_base.sort_values(['spine_head_prop','shaft_prop'], ascending=[False,True])\n",
    "spine_df_base_head_shaft_sort\n",
    "\n"
   ]
  },
  {
   "cell_type": "code",
   "execution_count": null,
   "metadata": {},
   "outputs": [],
   "source": [
    "#heat map of spine heads\n",
    "spine_head_shaft_sort = sns.heatmap(spine_df_base_head_shaft_sort)"
   ]
  },
  {
   "cell_type": "code",
   "execution_count": null,
   "metadata": {},
   "outputs": [],
   "source": [
    "\n",
    "#pull down the head data and sort\n",
    "shaft_data = shaft_group.fetch(as_dict=True)\n",
    "\n",
    "shaft_df = pd.DataFrame(shaft_data)\n",
    "shaft_df_base = shaft_df.drop(columns=['segmentation', 'segment_id',\"total\",\"non_spine_prop\",\"spine_neck_prop\"])\n",
    "\n",
    "shaft_df_base_head_shaft_sort = shaft_df_base.sort_values(['shaft_prop','spine_head_prop'], ascending=[True,False])\n",
    "#shaft_df_base_head_shaft_sort\n",
    "\n"
   ]
  },
  {
   "cell_type": "code",
   "execution_count": null,
   "metadata": {},
   "outputs": [],
   "source": [
    "sns.heatmap(shaft_df_base_head_shaft_sort)"
   ]
  },
  {
   "cell_type": "code",
   "execution_count": null,
   "metadata": {},
   "outputs": [],
   "source": [
    "\n",
    "#pull down the head data and sort\n",
    "unused_data = unused.fetch(as_dict=True)\n",
    "\n",
    "unused_df = pd.DataFrame(unused_data)\n",
    "unused_df_base = unused_df.drop(columns=['segmentation', 'segment_id',\"total\",\"non_spine_prop\",\"spine_neck_prop\"])\n",
    "\n",
    "unused_df_base_head_shaft_sort = unused_df_base.sort_values(['shaft_prop','spine_head_prop'], ascending=[True,False])\n",
    "unused_df_base_head_shaft_sort\n",
    "\n"
   ]
  },
  {
   "cell_type": "code",
   "execution_count": null,
   "metadata": {},
   "outputs": [],
   "source": [
    "sns.heatmap(unused_df_base)"
   ]
  },
  {
   "cell_type": "code",
   "execution_count": null,
   "metadata": {},
   "outputs": [],
   "source": [
    "#### CAN'T END UP DOING NANS!\n",
    "# nans = pd.DataFrame([dict(spine_head_prop=np.nan,shaft_prop=np.nan)]*100)\n",
    "# sns.heatmap(nans)"
   ]
  },
  {
   "cell_type": "code",
   "execution_count": null,
   "metadata": {},
   "outputs": [],
   "source": [
    "# total = spine_df_base_head_shaft_sort +  shaft_df_base_head_shaft_sort + unused_df_base_head_shaft_sort\n",
    "\n",
    "\n",
    "\n",
    "# total = pd.concat(spine_df_base_head_shaft_sort,\n",
    "#           unused_df_base_head_shaft_sort,\n",
    "#          shaft_df_base_head_shaft_sort)"
   ]
  },
  {
   "cell_type": "code",
   "execution_count": null,
   "metadata": {},
   "outputs": [],
   "source": [
    "sns.heatmap(unused_df_base_head_shaft_sort)"
   ]
  },
  {
   "cell_type": "code",
   "execution_count": null,
   "metadata": {},
   "outputs": [],
   "source": [
    "sns.heatmap(pd.concat([spine_df_base_head_shaft_sort,\n",
    "          unused_df_base_head_shaft_sort,\n",
    "         shaft_df_base_head_shaft_sort]))"
   ]
  },
  {
   "cell_type": "markdown",
   "metadata": {},
   "source": [
    "# Creating the Spine Groups"
   ]
  },
  {
   "cell_type": "code",
   "execution_count": null,
   "metadata": {},
   "outputs": [],
   "source": [
    "#look up datajoint table that has the clusters\n",
    "@schema\n",
    "class SpineClustersKey(dj.Lookup):\n",
    "    definition=\"\"\"\n",
    "    cluster_id : tinyint unsigned #numeric label of cluster\n",
    "    ---\n",
    "    description : varchar(16) #descriptive name of cluster\n",
    "    threshold   : float #the proportion cut off for the group based on the category\n",
    "    \"\"\"\n",
    "    "
   ]
  },
  {
   "cell_type": "code",
   "execution_count": null,
   "metadata": {},
   "outputs": [],
   "source": [
    "cluster_descriptions = [\"Soma\",\"Axon\",\"Spine Head\",\"Shaft\",\"Unused\"]\n",
    "cluster_thresholds = [0.25,0.0001,0.6,0.5,0]\n",
    "\n",
    "clusters_dict = [dict(cluster_id=i,description=cd,threshold=ct) for i,(cd,ct) in enumerate(zip(cluster_descriptions,cluster_thresholds))]\n",
    "clusters_dict"
   ]
  },
  {
   "cell_type": "code",
   "execution_count": null,
   "metadata": {},
   "outputs": [],
   "source": [
    "SpineClustersKey.insert(clusters_dict,skip_duplicates=True)"
   ]
  },
  {
   "cell_type": "code",
   "execution_count": null,
   "metadata": {},
   "outputs": [],
   "source": [
    "SpineClustersKey()"
   ]
  },
  {
   "cell_type": "code",
   "execution_count": null,
   "metadata": {},
   "outputs": [],
   "source": []
  },
  {
   "cell_type": "code",
   "execution_count": null,
   "metadata": {},
   "outputs": [],
   "source": [
    "## Creates the table that holds all of the segment groups\n",
    "@schema\n",
    "class SpineClusters(dj.Manual):\n",
    "    definition=\"\"\"\n",
    "    -> pinky.Neurite\n",
    "    ---\n",
    "    ->SpineClustersKey\n",
    "    \"\"\""
   ]
  },
  {
   "cell_type": "code",
   "execution_count": null,
   "metadata": {},
   "outputs": [],
   "source": [
    "possible_groups = [soma_group,axon_group,head_group,shaft_group,unused]\n",
    "descriptors = [0,1,2,3,4]\n",
    "for i,table in enumerate(possible_groups):\n",
    "    new_table = table.proj(cluster_id=str(descriptors[i]))\n",
    "    SpineClusters.insert(new_table,skip_duplicates=True)\n",
    "    "
   ]
  },
  {
   "cell_type": "code",
   "execution_count": null,
   "metadata": {},
   "outputs": [],
   "source": []
  }
 ],
 "metadata": {
  "kernelspec": {
   "display_name": "Python 3",
   "language": "python",
   "name": "python3"
  },
  "language_info": {
   "codemirror_mode": {
    "name": "ipython",
    "version": 3
   },
   "file_extension": ".py",
   "mimetype": "text/x-python",
   "name": "python",
   "nbconvert_exporter": "python",
   "pygments_lexer": "ipython3",
   "version": "3.6.8"
  }
 },
 "nbformat": 4,
 "nbformat_minor": 4
}
