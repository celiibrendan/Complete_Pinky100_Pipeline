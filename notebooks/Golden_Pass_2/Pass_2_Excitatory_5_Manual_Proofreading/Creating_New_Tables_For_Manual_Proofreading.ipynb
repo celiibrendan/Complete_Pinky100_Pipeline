{
 "cells": [
  {
   "cell_type": "code",
   "execution_count": 40,
   "metadata": {},
   "outputs": [],
   "source": [
    "import datajoint as dj\n",
    "import numpy as np"
   ]
  },
  {
   "cell_type": "code",
   "execution_count": 41,
   "metadata": {},
   "outputs": [],
   "source": [
    "\n",
    "\n",
    "ta3p100 = dj.create_virtual_module(\"ta3p100\",\"microns_ta3p100\")\n",
    "ta3 = dj.create_virtual_module(\"ta3\",\"microns_ta3\")\n",
    "pinky = dj.create_virtual_module(\"pinky\",\"microns_pinky\")\n",
    "pinky_nda = dj.create_virtual_module(\"pinky_nda\",\"microns_pinky_nda\")\n",
    "\n",
    "schema = dj.schema(\"microns_pinky\")"
   ]
  },
  {
   "cell_type": "code",
   "execution_count": 45,
   "metadata": {},
   "outputs": [
    {
     "data": {
      "text/html": [
       "\n",
       "        \n",
       "        <style type=\"text/css\">\n",
       "            .Relation{\n",
       "                border-collapse:collapse;\n",
       "            }\n",
       "            .Relation th{\n",
       "                background: #A0A0A0; color: #ffffff; padding:4px; border:#f0e0e0 1px solid;\n",
       "                font-weight: normal; font-family: monospace; font-size: 100%;\n",
       "            }\n",
       "            .Relation td{\n",
       "                padding:4px; border:#f0e0e0 1px solid; font-size:100%;\n",
       "            }\n",
       "            .Relation tr:nth-child(odd){\n",
       "                background: #ffffff;\n",
       "            }\n",
       "            .Relation tr:nth-child(even){\n",
       "                background: #f3f1ff;\n",
       "            }\n",
       "            /* Tooltip container */\n",
       "            .djtooltip {\n",
       "            }\n",
       "            /* Tooltip text */\n",
       "            .djtooltip .djtooltiptext {\n",
       "                visibility: hidden;\n",
       "                width: 120px;\n",
       "                background-color: black;\n",
       "                color: #fff;\n",
       "                text-align: center;\n",
       "                padding: 5px 0;\n",
       "                border-radius: 6px;\n",
       "                /* Position the tooltip text - see examples below! */\n",
       "                position: absolute;\n",
       "                z-index: 1;\n",
       "            }\n",
       "            #primary {\n",
       "                font-weight: bold;\n",
       "                color: black;\n",
       "            }\n",
       "\n",
       "            #nonprimary {\n",
       "                font-weight: normal;\n",
       "                color: white;\n",
       "            }\n",
       "\n",
       "            /* Show the tooltip text when you mouse over the tooltip container */\n",
       "            .djtooltip:hover .djtooltiptext {\n",
       "                visibility: visible;\n",
       "            }\n",
       "        </style>\n",
       "        \n",
       "        <b></b>\n",
       "            <div style=\"max-height:1000px;max-width:1500px;overflow:auto;\">\n",
       "            <table border=\"1\" class=\"Relation\">\n",
       "                <thead> <tr style=\"text-align: right;\"> <th> <div class=\"djtooltip\">\n",
       "                                <p id=\"primary\">segmentation</p>\n",
       "                                <span class=\"djtooltiptext\">segmentation id</span>\n",
       "                            </div></th><th><div class=\"djtooltip\">\n",
       "                                <p id=\"primary\">segment_id</p>\n",
       "                                <span class=\"djtooltiptext\">segment id unique within each Segmentation</span>\n",
       "                            </div></th><th><div class=\"djtooltip\">\n",
       "                                <p id=\"primary\">decimation_ratio</p>\n",
       "                                <span class=\"djtooltiptext\"></span>\n",
       "                            </div></th><th><div class=\"djtooltip\">\n",
       "                                <p id=\"primary\">author_original</p>\n",
       "                                <span class=\"djtooltiptext\">name of last editor</span>\n",
       "                            </div></th><th><div class=\"djtooltip\">\n",
       "                                <p id=\"primary\">author_proofreader</p>\n",
       "                                <span class=\"djtooltiptext\">name of last editor</span>\n",
       "                            </div></th><th><div class=\"djtooltip\">\n",
       "                                <p id=\"primary\">date_time</p>\n",
       "                                <span class=\"djtooltiptext\">the last time it was edited</span>\n",
       "                            </div></th><th><div class=\"djtooltip\">\n",
       "                                <p id=\"nonprimary\">vertices</p>\n",
       "                                <span class=\"djtooltiptext\">label data for the vertices</span>\n",
       "                            </div></th><th><div class=\"djtooltip\">\n",
       "                                <p id=\"nonprimary\">triangles</p>\n",
       "                                <span class=\"djtooltiptext\">label data for the faces</span>\n",
       "                            </div></th><th><div class=\"djtooltip\">\n",
       "                                <p id=\"nonprimary\">edges</p>\n",
       "                                <span class=\"djtooltiptext\">label data for the edges</span>\n",
       "                            </div></th><th><div class=\"djtooltip\">\n",
       "                                <p id=\"nonprimary\">status</p>\n",
       "                                <span class=\"djtooltiptext\">the index of the status descriptor that can be references by the StatusKey</span>\n",
       "                            </div> </th> </tr> </thead>\n",
       "                <tbody> <tr> <td>3</td>\n",
       "<td>648518346341371119</td>\n",
       "<td>0.35</td>\n",
       "<td>computer_Auto</td>\n",
       "<td>celiib</td>\n",
       "<td>2019-06-11 18:52:17</td>\n",
       "<td>=BLOB=</td>\n",
       "<td>=BLOB=</td>\n",
       "<td>=BLOB=</td>\n",
       "<td>complete</td></tr><tr><td>3</td>\n",
       "<td>648518346349386137</td>\n",
       "<td>0.35</td>\n",
       "<td>computer_Auto</td>\n",
       "<td>celiib</td>\n",
       "<td>2019-06-11 18:53:38</td>\n",
       "<td>=BLOB=</td>\n",
       "<td>=BLOB=</td>\n",
       "<td>=BLOB=</td>\n",
       "<td>complete</td></tr><tr><td>3</td>\n",
       "<td>648518346349470171</td>\n",
       "<td>0.35</td>\n",
       "<td>computer_Auto</td>\n",
       "<td>celiib</td>\n",
       "<td>2019-06-11 18:49:31</td>\n",
       "<td>=BLOB=</td>\n",
       "<td>=BLOB=</td>\n",
       "<td>=BLOB=</td>\n",
       "<td>complete</td></tr><tr><td>3</td>\n",
       "<td>648518346349471156</td>\n",
       "<td>0.35</td>\n",
       "<td>computer_Auto</td>\n",
       "<td>celiib</td>\n",
       "<td>2019-06-12 13:53:20</td>\n",
       "<td>=BLOB=</td>\n",
       "<td>=BLOB=</td>\n",
       "<td>=BLOB=</td>\n",
       "<td>complete</td></tr><tr><td>3</td>\n",
       "<td>648518346349471500</td>\n",
       "<td>0.35</td>\n",
       "<td>computer_Auto</td>\n",
       "<td>celiib</td>\n",
       "<td>2019-06-12 14:18:35</td>\n",
       "<td>=BLOB=</td>\n",
       "<td>=BLOB=</td>\n",
       "<td>=BLOB=</td>\n",
       "<td>complete</td></tr><tr><td>3</td>\n",
       "<td>648518346349471562</td>\n",
       "<td>0.35</td>\n",
       "<td>computer_Auto</td>\n",
       "<td>celiib</td>\n",
       "<td>2019-06-12 14:13:32</td>\n",
       "<td>=BLOB=</td>\n",
       "<td>=BLOB=</td>\n",
       "<td>=BLOB=</td>\n",
       "<td>complete</td></tr><tr><td>3</td>\n",
       "<td>648518346349471565</td>\n",
       "<td>0.35</td>\n",
       "<td>computer_Auto</td>\n",
       "<td>celiib</td>\n",
       "<td>2019-06-12 14:11:11</td>\n",
       "<td>=BLOB=</td>\n",
       "<td>=BLOB=</td>\n",
       "<td>=BLOB=</td>\n",
       "<td>complete</td> </tr> </tbody>\n",
       "            </table>\n",
       "            <p>...</p>\n",
       "            <p>296 tuples</p></div>\n",
       "            "
      ],
      "text/plain": [
       "*segmentation  *segment_id    *decimation_ra *author_origin *author_proofr *date_time     vertices   triangles  edges      status      \n",
       "+------------+ +------------+ +------------+ +------------+ +------------+ +------------+ +--------+ +--------+ +--------+ +----------+\n",
       "3              64851834634137 0.35           computer_Auto  celiib         2019-06-11 18: =BLOB=     =BLOB=     =BLOB=     complete    \n",
       "3              64851834634938 0.35           computer_Auto  celiib         2019-06-11 18: =BLOB=     =BLOB=     =BLOB=     complete    \n",
       "3              64851834634947 0.35           computer_Auto  celiib         2019-06-11 18: =BLOB=     =BLOB=     =BLOB=     complete    \n",
       "3              64851834634947 0.35           computer_Auto  celiib         2019-06-12 13: =BLOB=     =BLOB=     =BLOB=     complete    \n",
       "3              64851834634947 0.35           computer_Auto  celiib         2019-06-12 14: =BLOB=     =BLOB=     =BLOB=     complete    \n",
       "3              64851834634947 0.35           computer_Auto  celiib         2019-06-12 14: =BLOB=     =BLOB=     =BLOB=     complete    \n",
       "3              64851834634947 0.35           computer_Auto  celiib         2019-06-12 14: =BLOB=     =BLOB=     =BLOB=     complete    \n",
       "   ...\n",
       " (296 tuples)"
      ]
     },
     "execution_count": 45,
     "metadata": {},
     "output_type": "execute_result"
    }
   ],
   "source": [
    "pinky.ProofreadLabel()"
   ]
  },
  {
   "cell_type": "code",
   "execution_count": 44,
   "metadata": {},
   "outputs": [
    {
     "data": {
      "text/html": [
       "\n",
       "        \n",
       "        <style type=\"text/css\">\n",
       "            .Relation{\n",
       "                border-collapse:collapse;\n",
       "            }\n",
       "            .Relation th{\n",
       "                background: #A0A0A0; color: #ffffff; padding:4px; border:#f0e0e0 1px solid;\n",
       "                font-weight: normal; font-family: monospace; font-size: 100%;\n",
       "            }\n",
       "            .Relation td{\n",
       "                padding:4px; border:#f0e0e0 1px solid; font-size:100%;\n",
       "            }\n",
       "            .Relation tr:nth-child(odd){\n",
       "                background: #ffffff;\n",
       "            }\n",
       "            .Relation tr:nth-child(even){\n",
       "                background: #f3f1ff;\n",
       "            }\n",
       "            /* Tooltip container */\n",
       "            .djtooltip {\n",
       "            }\n",
       "            /* Tooltip text */\n",
       "            .djtooltip .djtooltiptext {\n",
       "                visibility: hidden;\n",
       "                width: 120px;\n",
       "                background-color: black;\n",
       "                color: #fff;\n",
       "                text-align: center;\n",
       "                padding: 5px 0;\n",
       "                border-radius: 6px;\n",
       "                /* Position the tooltip text - see examples below! */\n",
       "                position: absolute;\n",
       "                z-index: 1;\n",
       "            }\n",
       "            #primary {\n",
       "                font-weight: bold;\n",
       "                color: black;\n",
       "            }\n",
       "\n",
       "            #nonprimary {\n",
       "                font-weight: normal;\n",
       "                color: white;\n",
       "            }\n",
       "\n",
       "            /* Show the tooltip text when you mouse over the tooltip container */\n",
       "            .djtooltip:hover .djtooltiptext {\n",
       "                visibility: visible;\n",
       "            }\n",
       "        </style>\n",
       "        \n",
       "        <b></b>\n",
       "            <div style=\"max-height:1000px;max-width:1500px;overflow:auto;\">\n",
       "            <table border=\"1\" class=\"Relation\">\n",
       "                <thead> <tr style=\"text-align: right;\"> <th> <div class=\"djtooltip\">\n",
       "                                <p id=\"primary\">segmentation</p>\n",
       "                                <span class=\"djtooltiptext\">segmentation id</span>\n",
       "                            </div></th><th><div class=\"djtooltip\">\n",
       "                                <p id=\"primary\">segment_id</p>\n",
       "                                <span class=\"djtooltiptext\">segment id unique within each Segmentation</span>\n",
       "                            </div></th><th><div class=\"djtooltip\">\n",
       "                                <p id=\"primary\">decimation_ratio</p>\n",
       "                                <span class=\"djtooltiptext\"></span>\n",
       "                            </div></th><th><div class=\"djtooltip\">\n",
       "                                <p id=\"nonprimary\">n_vertices</p>\n",
       "                                <span class=\"djtooltiptext\"></span>\n",
       "                            </div></th><th><div class=\"djtooltip\">\n",
       "                                <p id=\"nonprimary\">n_triangles</p>\n",
       "                                <span class=\"djtooltiptext\"></span>\n",
       "                            </div></th><th><div class=\"djtooltip\">\n",
       "                                <p id=\"nonprimary\">vertices</p>\n",
       "                                <span class=\"djtooltiptext\"></span>\n",
       "                            </div></th><th><div class=\"djtooltip\">\n",
       "                                <p id=\"nonprimary\">triangles</p>\n",
       "                                <span class=\"djtooltiptext\"></span>\n",
       "                            </div> </th> </tr> </thead>\n",
       "                <tbody> <tr> <td>3</td>\n",
       "<td>648518346341352891</td>\n",
       "<td>0.35</td>\n",
       "<td>21316</td>\n",
       "<td>42947</td>\n",
       "<td>=BLOB=</td>\n",
       "<td>=BLOB=</td></tr><tr><td>3</td>\n",
       "<td>648518346341353058</td>\n",
       "<td>0.35</td>\n",
       "<td>38766</td>\n",
       "<td>77289</td>\n",
       "<td>=BLOB=</td>\n",
       "<td>=BLOB=</td></tr><tr><td>3</td>\n",
       "<td>648518346341353574</td>\n",
       "<td>0.35</td>\n",
       "<td>58629</td>\n",
       "<td>117045</td>\n",
       "<td>=BLOB=</td>\n",
       "<td>=BLOB=</td></tr><tr><td>3</td>\n",
       "<td>648518346341353607</td>\n",
       "<td>0.35</td>\n",
       "<td>68095</td>\n",
       "<td>135916</td>\n",
       "<td>=BLOB=</td>\n",
       "<td>=BLOB=</td></tr><tr><td>3</td>\n",
       "<td>648518346341353788</td>\n",
       "<td>0.35</td>\n",
       "<td>9740</td>\n",
       "<td>19406</td>\n",
       "<td>=BLOB=</td>\n",
       "<td>=BLOB=</td></tr><tr><td>3</td>\n",
       "<td>648518346341354313</td>\n",
       "<td>0.35</td>\n",
       "<td>45794</td>\n",
       "<td>91301</td>\n",
       "<td>=BLOB=</td>\n",
       "<td>=BLOB=</td></tr><tr><td>3</td>\n",
       "<td>648518346341354496</td>\n",
       "<td>0.35</td>\n",
       "<td>74516</td>\n",
       "<td>148633</td>\n",
       "<td>=BLOB=</td>\n",
       "<td>=BLOB=</td> </tr> </tbody>\n",
       "            </table>\n",
       "            <p>...</p>\n",
       "            <p>840 tuples</p></div>\n",
       "            "
      ],
      "text/plain": [
       "*segmentation  *segment_id    *decimation_ra n_vertices     n_triangles    vertices   triangles \n",
       "+------------+ +------------+ +------------+ +------------+ +------------+ +--------+ +--------+\n",
       "3              64851834634135 0.35           21316          42947          =BLOB=     =BLOB=    \n",
       "3              64851834634135 0.35           38766          77289          =BLOB=     =BLOB=    \n",
       "3              64851834634135 0.35           58629          117045         =BLOB=     =BLOB=    \n",
       "3              64851834634135 0.35           68095          135916         =BLOB=     =BLOB=    \n",
       "3              64851834634135 0.35           9740           19406          =BLOB=     =BLOB=    \n",
       "3              64851834634135 0.35           45794          91301          =BLOB=     =BLOB=    \n",
       "3              64851834634135 0.35           74516          148633         =BLOB=     =BLOB=    \n",
       "   ...\n",
       " (840 tuples)"
      ]
     },
     "execution_count": 44,
     "metadata": {},
     "output_type": "execute_result"
    }
   ],
   "source": [
    "pinky.Decimation35OrphanStitched()"
   ]
  },
  {
   "cell_type": "code",
   "execution_count": 24,
   "metadata": {},
   "outputs": [
    {
     "data": {
      "text/html": [
       "\n",
       "        \n",
       "        <style type=\"text/css\">\n",
       "            .Relation{\n",
       "                border-collapse:collapse;\n",
       "            }\n",
       "            .Relation th{\n",
       "                background: #A0A0A0; color: #ffffff; padding:4px; border:#f0e0e0 1px solid;\n",
       "                font-weight: normal; font-family: monospace; font-size: 100%;\n",
       "            }\n",
       "            .Relation td{\n",
       "                padding:4px; border:#f0e0e0 1px solid; font-size:100%;\n",
       "            }\n",
       "            .Relation tr:nth-child(odd){\n",
       "                background: #ffffff;\n",
       "            }\n",
       "            .Relation tr:nth-child(even){\n",
       "                background: #f3f1ff;\n",
       "            }\n",
       "            /* Tooltip container */\n",
       "            .djtooltip {\n",
       "            }\n",
       "            /* Tooltip text */\n",
       "            .djtooltip .djtooltiptext {\n",
       "                visibility: hidden;\n",
       "                width: 120px;\n",
       "                background-color: black;\n",
       "                color: #fff;\n",
       "                text-align: center;\n",
       "                padding: 5px 0;\n",
       "                border-radius: 6px;\n",
       "                /* Position the tooltip text - see examples below! */\n",
       "                position: absolute;\n",
       "                z-index: 1;\n",
       "            }\n",
       "            #primary {\n",
       "                font-weight: bold;\n",
       "                color: black;\n",
       "            }\n",
       "\n",
       "            #nonprimary {\n",
       "                font-weight: normal;\n",
       "                color: white;\n",
       "            }\n",
       "\n",
       "            /* Show the tooltip text when you mouse over the tooltip container */\n",
       "            .djtooltip:hover .djtooltiptext {\n",
       "                visibility: visible;\n",
       "            }\n",
       "        </style>\n",
       "        \n",
       "        <b>Pinky100 Mesh structures</b>\n",
       "            <div style=\"max-height:1000px;max-width:1500px;overflow:auto;\">\n",
       "            <table border=\"1\" class=\"Relation\">\n",
       "                <thead> <tr style=\"text-align: right;\"> <th> <div class=\"djtooltip\">\n",
       "                                <p id=\"primary\">segmentation</p>\n",
       "                                <span class=\"djtooltiptext\">segmentation id</span>\n",
       "                            </div></th><th><div class=\"djtooltip\">\n",
       "                                <p id=\"primary\">segment_id</p>\n",
       "                                <span class=\"djtooltiptext\">segment id unique within each Segmentation</span>\n",
       "                            </div></th><th><div class=\"djtooltip\">\n",
       "                                <p id=\"nonprimary\">n_vertices</p>\n",
       "                                <span class=\"djtooltiptext\">number of vertices in this mesh</span>\n",
       "                            </div></th><th><div class=\"djtooltip\">\n",
       "                                <p id=\"nonprimary\">n_triangles</p>\n",
       "                                <span class=\"djtooltiptext\">number of triangles in this mesh</span>\n",
       "                            </div></th><th><div class=\"djtooltip\">\n",
       "                                <p id=\"nonprimary\">vertices</p>\n",
       "                                <span class=\"djtooltiptext\">x,y,z coordinates of vertices</span>\n",
       "                            </div></th><th><div class=\"djtooltip\">\n",
       "                                <p id=\"nonprimary\">triangles</p>\n",
       "                                <span class=\"djtooltiptext\">triangles (triplets of vertices)</span>\n",
       "                            </div> </th> </tr> </thead>\n",
       "                <tbody> <tr> <td>3</td>\n",
       "<td>648518346341353058</td>\n",
       "<td>111754</td>\n",
       "<td>222198</td>\n",
       "<td>=BLOB=</td>\n",
       "<td>=BLOB=</td></tr><tr><td>3</td>\n",
       "<td>648518346341353574</td>\n",
       "<td>169648</td>\n",
       "<td>336849</td>\n",
       "<td>=BLOB=</td>\n",
       "<td>=BLOB=</td></tr><tr><td>3</td>\n",
       "<td>648518346341354313</td>\n",
       "<td>131505</td>\n",
       "<td>261279</td>\n",
       "<td>=BLOB=</td>\n",
       "<td>=BLOB=</td></tr><tr><td>3</td>\n",
       "<td>648518346341355198</td>\n",
       "<td>59818</td>\n",
       "<td>118694</td>\n",
       "<td>=BLOB=</td>\n",
       "<td>=BLOB=</td></tr><tr><td>3</td>\n",
       "<td>648518346341356256</td>\n",
       "<td>908546</td>\n",
       "<td>1806745</td>\n",
       "<td>=BLOB=</td>\n",
       "<td>=BLOB=</td></tr><tr><td>3</td>\n",
       "<td>648518346341359123</td>\n",
       "<td>248717</td>\n",
       "<td>495526</td>\n",
       "<td>=BLOB=</td>\n",
       "<td>=BLOB=</td></tr><tr><td>3</td>\n",
       "<td>648518346341360739</td>\n",
       "<td>278231</td>\n",
       "<td>553936</td>\n",
       "<td>=BLOB=</td>\n",
       "<td>=BLOB=</td> </tr> </tbody>\n",
       "            </table>\n",
       "            <p>...</p>\n",
       "            <p>841 tuples</p></div>\n",
       "            "
      ],
      "text/plain": [
       "*segmentation  *segment_id    n_vertices     n_triangles    vertices   triangles \n",
       "+------------+ +------------+ +------------+ +------------+ +--------+ +--------+\n",
       "3              64851834634135 111754         222198         =BLOB=     =BLOB=    \n",
       "3              64851834634135 169648         336849         =BLOB=     =BLOB=    \n",
       "3              64851834634135 131505         261279         =BLOB=     =BLOB=    \n",
       "3              64851834634135 59818          118694         =BLOB=     =BLOB=    \n",
       "3              64851834634135 908546         1806745        =BLOB=     =BLOB=    \n",
       "3              64851834634135 248717         495526         =BLOB=     =BLOB=    \n",
       "3              64851834634136 278231         553936         =BLOB=     =BLOB=    \n",
       "   ...\n",
       " (841 tuples)"
      ]
     },
     "execution_count": 24,
     "metadata": {},
     "output_type": "execute_result"
    }
   ],
   "source": [
    "(pinky.Mesh() & \"segmentation=3\") - pinky.AllenSoma & ( pinky_nda.Spike() & \"segmentation=3\") - pinky.Neurite.proj()\n",
    "    "
   ]
  },
  {
   "cell_type": "code",
   "execution_count": 36,
   "metadata": {},
   "outputs": [
    {
     "data": {
      "text/html": [
       "\n",
       "        \n",
       "        <style type=\"text/css\">\n",
       "            .Relation{\n",
       "                border-collapse:collapse;\n",
       "            }\n",
       "            .Relation th{\n",
       "                background: #A0A0A0; color: #ffffff; padding:4px; border:#f0e0e0 1px solid;\n",
       "                font-weight: normal; font-family: monospace; font-size: 100%;\n",
       "            }\n",
       "            .Relation td{\n",
       "                padding:4px; border:#f0e0e0 1px solid; font-size:100%;\n",
       "            }\n",
       "            .Relation tr:nth-child(odd){\n",
       "                background: #ffffff;\n",
       "            }\n",
       "            .Relation tr:nth-child(even){\n",
       "                background: #f3f1ff;\n",
       "            }\n",
       "            /* Tooltip container */\n",
       "            .djtooltip {\n",
       "            }\n",
       "            /* Tooltip text */\n",
       "            .djtooltip .djtooltiptext {\n",
       "                visibility: hidden;\n",
       "                width: 120px;\n",
       "                background-color: black;\n",
       "                color: #fff;\n",
       "                text-align: center;\n",
       "                padding: 5px 0;\n",
       "                border-radius: 6px;\n",
       "                /* Position the tooltip text - see examples below! */\n",
       "                position: absolute;\n",
       "                z-index: 1;\n",
       "            }\n",
       "            #primary {\n",
       "                font-weight: bold;\n",
       "                color: black;\n",
       "            }\n",
       "\n",
       "            #nonprimary {\n",
       "                font-weight: normal;\n",
       "                color: white;\n",
       "            }\n",
       "\n",
       "            /* Show the tooltip text when you mouse over the tooltip container */\n",
       "            .djtooltip:hover .djtooltiptext {\n",
       "                visibility: visible;\n",
       "            }\n",
       "        </style>\n",
       "        \n",
       "        <b></b>\n",
       "            <div style=\"max-height:1000px;max-width:1500px;overflow:auto;\">\n",
       "            <table border=\"1\" class=\"Relation\">\n",
       "                <thead> <tr style=\"text-align: right;\"> <th> <div class=\"djtooltip\">\n",
       "                                <p id=\"primary\">segmentation</p>\n",
       "                                <span class=\"djtooltiptext\">segmentation id</span>\n",
       "                            </div></th><th><div class=\"djtooltip\">\n",
       "                                <p id=\"primary\">segment_id</p>\n",
       "                                <span class=\"djtooltiptext\">segment id unique within each Segmentation</span>\n",
       "                            </div></th><th><div class=\"djtooltip\">\n",
       "                                <p id=\"nonprimary\">n_vertices</p>\n",
       "                                <span class=\"djtooltiptext\">number of vertices in this mesh</span>\n",
       "                            </div></th><th><div class=\"djtooltip\">\n",
       "                                <p id=\"nonprimary\">n_triangles</p>\n",
       "                                <span class=\"djtooltiptext\">number of triangles in this mesh</span>\n",
       "                            </div></th><th><div class=\"djtooltip\">\n",
       "                                <p id=\"nonprimary\">vertices</p>\n",
       "                                <span class=\"djtooltiptext\">x,y,z coordinates of vertices</span>\n",
       "                            </div></th><th><div class=\"djtooltip\">\n",
       "                                <p id=\"nonprimary\">triangles</p>\n",
       "                                <span class=\"djtooltiptext\">triangles (triplets of vertices)</span>\n",
       "                            </div></th><th><div class=\"djtooltip\">\n",
       "                                <p id=\"nonprimary\">n_pieces</p>\n",
       "                                <span class=\"djtooltiptext\">number of unconnected mesh pieces outside the largest mesh piece</span>\n",
       "                            </div></th><th><div class=\"djtooltip\">\n",
       "                                <p id=\"nonprimary\">largest_piece_perc</p>\n",
       "                                <span class=\"djtooltiptext\">number of faces percentage of largest mesh piece in respect to total mesh</span>\n",
       "                            </div></th><th><div class=\"djtooltip\">\n",
       "                                <p id=\"nonprimary\">outside_perc</p>\n",
       "                                <span class=\"djtooltiptext\">number of faces percentage of mesh outside the biggest mesh piece</span>\n",
       "                            </div></th><th><div class=\"djtooltip\">\n",
       "                                <p id=\"nonprimary\">n_stitched</p>\n",
       "                                <span class=\"djtooltiptext\">number of mesh pieces stitched back to main mesh</span>\n",
       "                            </div></th><th><div class=\"djtooltip\">\n",
       "                                <p id=\"nonprimary\">stitched_addon_perc</p>\n",
       "                                <span class=\"djtooltiptext\">number of faces percentage of pieces that were stitched back in respect to largest mesh piece</span>\n",
       "                            </div></th><th><div class=\"djtooltip\">\n",
       "                                <p id=\"nonprimary\">n_unstitched</p>\n",
       "                                <span class=\"djtooltiptext\">number of mesh pieces remaining unstitched back to main mesh</span>\n",
       "                            </div></th><th><div class=\"djtooltip\">\n",
       "                                <p id=\"nonprimary\">unstitched_perc</p>\n",
       "                                <span class=\"djtooltiptext\">number of faces percentage of pieces that were not in respect to largest mesh piece</span>\n",
       "                            </div> </th> </tr> </thead>\n",
       "                <tbody> <tr> <td>3</td>\n",
       "<td>648518346341356256</td>\n",
       "<td>904926</td>\n",
       "<td>1803313</td>\n",
       "<td>=BLOB=</td>\n",
       "<td>=BLOB=</td>\n",
       "<td>0</td>\n",
       "<td>0.99810</td>\n",
       "<td>0.99810</td>\n",
       "<td>0</td>\n",
       "<td>0.00000</td>\n",
       "<td>0</td>\n",
       "<td>0.00000</td></tr><tr><td>3</td>\n",
       "<td>648518346341361981</td>\n",
       "<td>728597</td>\n",
       "<td>1453345</td>\n",
       "<td>=BLOB=</td>\n",
       "<td>=BLOB=</td>\n",
       "<td>0</td>\n",
       "<td>0.99818</td>\n",
       "<td>0.99818</td>\n",
       "<td>0</td>\n",
       "<td>0.00000</td>\n",
       "<td>0</td>\n",
       "<td>0.00000</td></tr><tr><td>3</td>\n",
       "<td>648518346341362995</td>\n",
       "<td>505807</td>\n",
       "<td>1008241</td>\n",
       "<td>=BLOB=</td>\n",
       "<td>=BLOB=</td>\n",
       "<td>0</td>\n",
       "<td>0.99891</td>\n",
       "<td>0.99891</td>\n",
       "<td>0</td>\n",
       "<td>0.00000</td>\n",
       "<td>0</td>\n",
       "<td>0.00000</td></tr><tr><td>3</td>\n",
       "<td>648518346341369341</td>\n",
       "<td>516606</td>\n",
       "<td>1030257</td>\n",
       "<td>=BLOB=</td>\n",
       "<td>=BLOB=</td>\n",
       "<td>0</td>\n",
       "<td>0.99923</td>\n",
       "<td>0.99923</td>\n",
       "<td>0</td>\n",
       "<td>0.00000</td>\n",
       "<td>0</td>\n",
       "<td>0.00000</td></tr><tr><td>3</td>\n",
       "<td>648518346341373475</td>\n",
       "<td>575160</td>\n",
       "<td>1146734</td>\n",
       "<td>=BLOB=</td>\n",
       "<td>=BLOB=</td>\n",
       "<td>0</td>\n",
       "<td>0.99728</td>\n",
       "<td>0.99728</td>\n",
       "<td>0</td>\n",
       "<td>0.00000</td>\n",
       "<td>0</td>\n",
       "<td>0.00000</td></tr><tr><td>3</td>\n",
       "<td>648518346341386441</td>\n",
       "<td>620793</td>\n",
       "<td>1238095</td>\n",
       "<td>=BLOB=</td>\n",
       "<td>=BLOB=</td>\n",
       "<td>1</td>\n",
       "<td>0.99770</td>\n",
       "<td>0.99773</td>\n",
       "<td>0</td>\n",
       "<td>0.00000</td>\n",
       "<td>1</td>\n",
       "<td>0.00003</td></tr><tr><td>3</td>\n",
       "<td>648518346341399264</td>\n",
       "<td>793335</td>\n",
       "<td>1586347</td>\n",
       "<td>=BLOB=</td>\n",
       "<td>=BLOB=</td>\n",
       "<td>1</td>\n",
       "<td>0.97498</td>\n",
       "<td>0.97502</td>\n",
       "<td>0</td>\n",
       "<td>0.00000</td>\n",
       "<td>1</td>\n",
       "<td>0.00004</td> </tr> </tbody>\n",
       "            </table>\n",
       "            <p>...</p>\n",
       "            <p>20 tuples</p></div>\n",
       "            "
      ],
      "text/plain": [
       "*segmentation  *segment_id    n_vertices     n_triangles    vertices   triangles  n_pieces     largest_piece_ outside_perc   n_stitched     stitched_addon n_unstitched   unstitched_per\n",
       "+------------+ +------------+ +------------+ +------------+ +--------+ +--------+ +----------+ +------------+ +------------+ +------------+ +------------+ +------------+ +------------+\n",
       "3              64851834634135 904926         1803313        =BLOB=     =BLOB=     0            0.99810        0.99810        0              0.00000        0              0.00000       \n",
       "3              64851834634136 728597         1453345        =BLOB=     =BLOB=     0            0.99818        0.99818        0              0.00000        0              0.00000       \n",
       "3              64851834634136 505807         1008241        =BLOB=     =BLOB=     0            0.99891        0.99891        0              0.00000        0              0.00000       \n",
       "3              64851834634136 516606         1030257        =BLOB=     =BLOB=     0            0.99923        0.99923        0              0.00000        0              0.00000       \n",
       "3              64851834634137 575160         1146734        =BLOB=     =BLOB=     0            0.99728        0.99728        0              0.00000        0              0.00000       \n",
       "3              64851834634138 620793         1238095        =BLOB=     =BLOB=     1            0.99770        0.99773        0              0.00000        1              0.00003       \n",
       "3              64851834634139 793335         1586347        =BLOB=     =BLOB=     1            0.97498        0.97502        0              0.00000        1              0.00004       \n",
       "   ...\n",
       " (20 tuples)"
      ]
     },
     "execution_count": 36,
     "metadata": {},
     "output_type": "execute_result"
    }
   ],
   "source": [
    "pinky.OrphanStitchedMeshVp2() & \"stitched_addon_perc > 0.01\"# & \"n_triangles>5000\"\n",
    "pinky.OrphanStitchedMeshVp2() & \"n_triangles>1000000\""
   ]
  },
  {
   "cell_type": "code",
   "execution_count": null,
   "metadata": {},
   "outputs": [],
   "source": [
    "dj.ERD(schema)"
   ]
  },
  {
   "cell_type": "code",
   "execution_count": null,
   "metadata": {},
   "outputs": [],
   "source": [
    "pinky.WholeAutoAnnotations()"
   ]
  },
  {
   "cell_type": "code",
   "execution_count": null,
   "metadata": {},
   "outputs": [],
   "source": [
    "\"\"\"\n",
    "New tables to create\n",
    "\n",
    "WholeAutoAnnotationsLabel(): where the original labels will need to be\n",
    "ProofreadLabel(): where the manually proofread lables\n",
    "LabelKey()\n",
    "\n",
    "\n",
    "\n",
    "\n",
    "\"\"\""
   ]
  },
  {
   "cell_type": "code",
   "execution_count": null,
   "metadata": {},
   "outputs": [],
   "source": [
    "ta3p100.ProofreadLabel()"
   ]
  },
  {
   "cell_type": "code",
   "execution_count": null,
   "metadata": {},
   "outputs": [],
   "source": [
    "WholeAutoAnnotationsLabel.describe()"
   ]
  },
  {
   "cell_type": "code",
   "execution_count": null,
   "metadata": {},
   "outputs": [],
   "source": [
    "pinky.WholeAutoAnnotations()"
   ]
  },
  {
   "cell_type": "code",
   "execution_count": null,
   "metadata": {},
   "outputs": [],
   "source": [
    "WholeAutoAnnotationsLabel.drop()"
   ]
  },
  {
   "cell_type": "code",
   "execution_count": null,
   "metadata": {},
   "outputs": [],
   "source": [
    "import time\n",
    "from datetime import datetime\n",
    "@schema\n",
    "class WholeAutoAnnotationsLabel(dj.Computed):\n",
    "    definition = \"\"\"\n",
    "    # puts the whole neuron automated labels into a table that is easily plugged into blender plugin\n",
    "    -> pinky.WholeAutoAnnotations\n",
    "    author_original      : varchar(20)                  # name of last editor\n",
    "    author_proofreader   : varchar(20)                  # name of last editor\n",
    "    date_time=CURRENT_TIMESTAMP : timestamp             # the last time it was edited\n",
    "    ---\n",
    "    vertices             : longblob                     # label data for the vertices\n",
    "    triangles            : longblob                     # label data for the faces\n",
    "    edges                : longblob                     # label data for the edges\n",
    "    status               : varchar(16)                  # the index of the status descriptor that can be references by the StatusKey\n",
    "    \n",
    "    \"\"\"\n",
    "    \n",
    "    def make(self, key):\n",
    "        #print(\"key = \" + str(key))\n",
    "        segment_id = key[\"segment_id\"]\n",
    "        print(f\"Working on {segment_id}\")\n",
    "        #get the vertices and triangle lables\n",
    "        vertices, triangles = (pinky.WholeAutoAnnotations & key).fetch1(\"vertices\",\"triangles\")\n",
    "        \n",
    "        self.insert1(dict(key,\n",
    "                    author_original=\"computer_Auto\",\n",
    "                    author_proofreader=\"bcelii\",\n",
    "                    date_time=str(datetime.now())[0:19],\n",
    "                    vertices=vertices,\n",
    "                    triangles=triangles,\n",
    "                    edges=np.array([]),\n",
    "                    status=\"complete\"),skip_duplicates=True)\n",
    "        \n",
    "        "
   ]
  },
  {
   "cell_type": "code",
   "execution_count": null,
   "metadata": {},
   "outputs": [],
   "source": [
    "start = time.time()\n",
    "WholeAutoAnnotationsLabel.populate(reserve_jobs=True)\n",
    "print(time.time() - start)"
   ]
  },
  {
   "cell_type": "code",
   "execution_count": null,
   "metadata": {},
   "outputs": [],
   "source": [
    "(schema.jobs & \"table_name='__whole_auto_annotations_label'\").delete()"
   ]
  },
  {
   "cell_type": "code",
   "execution_count": null,
   "metadata": {},
   "outputs": [],
   "source": [
    "pinky.PymeshfixDecimatedExcitatoryStitchedMesh"
   ]
  },
  {
   "cell_type": "code",
   "execution_count": null,
   "metadata": {},
   "outputs": [],
   "source": [
    "pinky.WholeAutoAnnotationsLabelClusters3.drop()"
   ]
  },
  {
   "cell_type": "code",
   "execution_count": null,
   "metadata": {},
   "outputs": [],
   "source": [
    "import time\n",
    "from datetime import datetime\n",
    "@schema\n",
    "class WholeAutoAnnotationsLabelClusters3(dj.Computed):\n",
    "    definition = \"\"\"\n",
    "    # puts the whole neuron automated labels into a table that is easily plugged into blender plugin\n",
    "    -> pinky.WholeAutoAnnotationsClusters3\n",
    "    author_original      : varchar(20)                  # name of last editor\n",
    "    author_proofreader   : varchar(20)                  # name of last editor\n",
    "    date_time=CURRENT_TIMESTAMP : timestamp             # the last time it was edited\n",
    "    ---\n",
    "    vertices             : longblob                     # label data for the vertices\n",
    "    triangles            : longblob                     # label data for the faces\n",
    "    edges                : longblob                     # label data for the edges\n",
    "    status               : varchar(16)                  # the index of the status descriptor that can be references by the StatusKey\n",
    "    \n",
    "    \"\"\"\n",
    "    \n",
    "    def make(self, key):\n",
    "        #print(\"key = \" + str(key))\n",
    "        segment_id = key[\"segment_id\"]\n",
    "        print(f\"Working on {segment_id}\")\n",
    "        #get the vertices and triangle lables\n",
    "        vertices, triangles = (pinky.WholeAutoAnnotationsClusters3 & key).fetch1(\"vertices\",\"triangles\")\n",
    "        \n",
    "        self.insert1(dict(key,\n",
    "                    author_original=\"computer_Auto\",\n",
    "                    author_proofreader=\"bcelii\",\n",
    "                    date_time=str(datetime.now())[0:19],\n",
    "                    vertices=vertices,\n",
    "                    triangles=triangles,\n",
    "                    edges=np.array([]),\n",
    "                    status=\"complete\"),skip_duplicates=True)\n",
    "        \n",
    "        "
   ]
  },
  {
   "cell_type": "code",
   "execution_count": null,
   "metadata": {},
   "outputs": [],
   "source": [
    "start = time.time()\n",
    "WholeAutoAnnotationsLabelClusters3.populate(reserve_jobs=True)\n",
    "print(time.time() - start)"
   ]
  },
  {
   "cell_type": "code",
   "execution_count": null,
   "metadata": {},
   "outputs": [],
   "source": [
    "pinky.WholeAutoAnnotationsLabel()"
   ]
  },
  {
   "cell_type": "code",
   "execution_count": null,
   "metadata": {},
   "outputs": [],
   "source": [
    "ta3p100.ProofreadLabelFinal.describe()"
   ]
  },
  {
   "cell_type": "markdown",
   "metadata": {},
   "source": [
    "# Make the final proofread Label table"
   ]
  },
  {
   "cell_type": "code",
   "execution_count": null,
   "metadata": {},
   "outputs": [],
   "source": [
    "pinky.PymeshfixDecimatedExcitatoryStitchedMesh"
   ]
  },
  {
   "cell_type": "code",
   "execution_count": null,
   "metadata": {},
   "outputs": [],
   "source": [
    "pinky.ProofreadLabel.drop()"
   ]
  },
  {
   "cell_type": "code",
   "execution_count": null,
   "metadata": {},
   "outputs": [],
   "source": [
    "@schema\n",
    "class ProofreadLabel(dj.Manual):\n",
    "    definition=\"\"\"\n",
    "    -> pinky.PymeshfixDecimatedExcitatoryStitchedMesh\n",
    "    author_original      : varchar(20)                  # name of last editor\n",
    "    author_proofreader   : varchar(20)                  # name of last editor\n",
    "    date_time=CURRENT_TIMESTAMP : timestamp                    # the last time it was edited\n",
    "    ---\n",
    "    vertices             : longblob                     # label data for the vertices\n",
    "    triangles            : longblob                     # label data for the faces\n",
    "    edges                : longblob                     # label data for the edges\n",
    "    status               : varchar(16)                  # the index of the status descriptor that can be references by the StatusKey\n",
    "\n",
    "    \"\"\""
   ]
  },
  {
   "cell_type": "code",
   "execution_count": null,
   "metadata": {},
   "outputs": [],
   "source": [
    "pinky.ProofreadLabel()"
   ]
  },
  {
   "cell_type": "markdown",
   "metadata": {},
   "source": [
    "# Make the author and label tables"
   ]
  },
  {
   "cell_type": "code",
   "execution_count": null,
   "metadata": {},
   "outputs": [],
   "source": [
    "ta3p100.LabelKey()\n",
    "and / or \n",
    "ta3.LabelKey2()\n"
   ]
  },
  {
   "cell_type": "code",
   "execution_count": null,
   "metadata": {},
   "outputs": [],
   "source": [
    "pinky.LabelKey.drop()"
   ]
  },
  {
   "cell_type": "code",
   "execution_count": null,
   "metadata": {},
   "outputs": [],
   "source": [
    "@schema\n",
    "class LabelKey(dj.Lookup):\n",
    "    definition=\"\"\"\n",
    "    # maps numeric labels to descriptive and color labels\n",
    "    numeric              : tinyint unsigned             # numeric label of the compartment\n",
    "    ---\n",
    "    description          : varchar(16)                  # descriptive name of the label\n",
    "    color                : varchar(16)                  # representative color of the compartment\n",
    "    blender_colors       : tinyblob                     # color RGB values to be used in blender\n",
    "    \"\"\""
   ]
  },
  {
   "cell_type": "code",
   "execution_count": null,
   "metadata": {},
   "outputs": [],
   "source": [
    "ta3.LabelKey2.describe()"
   ]
  },
  {
   "cell_type": "code",
   "execution_count": null,
   "metadata": {},
   "outputs": [],
   "source": [
    "LabelKey.insert(ta3p100.LabelKey())"
   ]
  },
  {
   "cell_type": "code",
   "execution_count": null,
   "metadata": {},
   "outputs": [],
   "source": [
    "pinky.LabelKey().fetch()"
   ]
  },
  {
   "cell_type": "code",
   "execution_count": null,
   "metadata": {},
   "outputs": [],
   "source": [
    "total_old_labels = ta3.LabelKey2().fetch(as_dict=True)\n",
    "total_old_labels"
   ]
  },
  {
   "cell_type": "code",
   "execution_count": null,
   "metadata": {},
   "outputs": [],
   "source": [
    "# (17, 'shaft', 'dark orange'),\n",
    "#        (18, 'non-spine', 'light orange')],\n",
    "total_old_labels.append(dict(numeric=17,\n",
    "                             description=\"shaft\",\n",
    "                             color=\"dark orange\",\n",
    "                            blender_colors=np.array([0.8,0.186,0])))\n"
   ]
  },
  {
   "cell_type": "code",
   "execution_count": null,
   "metadata": {},
   "outputs": [],
   "source": [
    "total_old_labels.append(dict(numeric=18,\n",
    "                             description=\"non-spine\",\n",
    "                             color=\"light orange\",\n",
    "                            blender_colors=np.array([0.8,0.382,0])))"
   ]
  },
  {
   "cell_type": "code",
   "execution_count": null,
   "metadata": {},
   "outputs": [],
   "source": [
    "pinky.LabelKey.insert(total_old_labels)"
   ]
  },
  {
   "cell_type": "code",
   "execution_count": null,
   "metadata": {},
   "outputs": [],
   "source": [
    "pinky.Authors()"
   ]
  },
  {
   "cell_type": "code",
   "execution_count": null,
   "metadata": {},
   "outputs": [],
   "source": [
    "ta3.AuthorsLast.describe()"
   ]
  },
  {
   "cell_type": "code",
   "execution_count": null,
   "metadata": {},
   "outputs": [],
   "source": [
    "@schema\n",
    "class Authors(dj.Manual):\n",
    "    definition = \"\"\"\n",
    "    # maps numeric labels to descriptive labels\n",
    "    username             : varchar(20)                  # username the person pcisk\n",
    "    ---\n",
    "    real_name            : varchar(40)                  # the real name of that corresponds to the username\n",
    "    \"\"\""
   ]
  },
  {
   "cell_type": "code",
   "execution_count": null,
   "metadata": {},
   "outputs": [],
   "source": [
    "pinky.Authors()"
   ]
  },
  {
   "cell_type": "code",
   "execution_count": null,
   "metadata": {},
   "outputs": [],
   "source": [
    "pinky.PymeshfixDecimatedExcitatoryStitchedMesh()"
   ]
  },
  {
   "cell_type": "code",
   "execution_count": null,
   "metadata": {},
   "outputs": [],
   "source": [
    "pinky.WholeAutoAnnotationsLabel()"
   ]
  },
  {
   "cell_type": "code",
   "execution_count": null,
   "metadata": {},
   "outputs": [],
   "source": [
    "pinky.Decimation35ExcitatoryStitchedMesh()"
   ]
  },
  {
   "cell_type": "code",
   "execution_count": null,
   "metadata": {},
   "outputs": [],
   "source": [
    "pinky.PymeshfixDecimatedExcitatoryStitchedMesh()"
   ]
  },
  {
   "cell_type": "code",
   "execution_count": null,
   "metadata": {},
   "outputs": [],
   "source": [
    "(schema.jobs & \"table_name='__whole_auto_annotations'\").delete()"
   ]
  },
  {
   "cell_type": "code",
   "execution_count": null,
   "metadata": {},
   "outputs": [],
   "source": [
    "pinky.WholeAutoAnnotationsClusters3()"
   ]
  },
  {
   "cell_type": "code",
   "execution_count": null,
   "metadata": {},
   "outputs": [],
   "source": [
    "pinky.ProofreadLabel() #& \"date_time>'2019-06-13 00:00:00'\""
   ]
  },
  {
   "cell_type": "code",
   "execution_count": null,
   "metadata": {},
   "outputs": [],
   "source": [
    "ta3p100.Contact()"
   ]
  },
  {
   "cell_type": "code",
   "execution_count": null,
   "metadata": {},
   "outputs": [],
   "source": [
    "ta3p100.ContactTest()"
   ]
  },
  {
   "cell_type": "code",
   "execution_count": null,
   "metadata": {},
   "outputs": [],
   "source": []
  }
 ],
 "metadata": {
  "kernelspec": {
   "display_name": "Python 3",
   "language": "python",
   "name": "python3"
  },
  "language_info": {
   "codemirror_mode": {
    "name": "ipython",
    "version": 3
   },
   "file_extension": ".py",
   "mimetype": "text/x-python",
   "name": "python",
   "nbconvert_exporter": "python",
   "pygments_lexer": "ipython3",
   "version": "3.6.5"
  }
 },
 "nbformat": 4,
 "nbformat_minor": 2
}
