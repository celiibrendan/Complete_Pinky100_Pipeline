{
 "cells": [
  {
   "cell_type": "code",
   "execution_count": 1,
   "metadata": {},
   "outputs": [],
   "source": [
    "import datajoint as dj\n",
    "import numpy as np\n",
    "import time\n",
    "from tqdm import tqdm"
   ]
  },
  {
   "cell_type": "code",
   "execution_count": 2,
   "metadata": {},
   "outputs": [
    {
     "name": "stdout",
     "output_type": "stream",
     "text": [
      "Connecting celiib@10.28.0.34:3306\n"
     ]
    }
   ],
   "source": [
    "#setting the address and the username\n",
    "dj.config['database.host'] = '10.28.0.34'\n",
    "dj.config['database.user'] = 'celiib'\n",
    "dj.config['database.password'] = 'newceliipass'\n",
    "dj.config['safemode']=True\n",
    "dj.config[\"display.limit\"] = 20\n",
    "\n",
    "pinky = dj.create_virtual_module('pinky', 'microns_pinky')\n",
    "schema = dj.schema('microns_pinky')\n"
   ]
  },
  {
   "cell_type": "code",
   "execution_count": 3,
   "metadata": {},
   "outputs": [],
   "source": [
    "#ta3p100.ProofreadLabelFinal & 'status=\"complete\"'"
   ]
  },
  {
   "cell_type": "code",
   "execution_count": 4,
   "metadata": {},
   "outputs": [],
   "source": [
    "@schema\n",
    "class CoarseLabelFinal(dj.Computed):\n",
    "    definition = \"\"\"\n",
    "    # Ensure that Vertex labels for pinky.ProofreadLabel match the triangle labels, so these are regenerated from the correct triangle labels.\n",
    "    -> pinky.ProofreadLabel\n",
    "    ---\n",
    "    vertices  : longblob # Corrected vertex labels\n",
    "    triangles : longblob # Same triangle labels as pinky.ProofreadLabel\n",
    "    \"\"\"\n",
    "    \n",
    "    key_source = pinky.ProofreadLabel & 'status=\"complete\"'\n",
    "    \n",
    "    def make(self, key):\n",
    "        start = time.time()\n",
    "        \n",
    "        print(key[\"segment_id\"])\n",
    "        labels = (pinky.ProofreadLabel & key).fetch1()\n",
    "        corrected_vertex_labels = np.zeros(labels['vertices'].shape, np.uint8)\n",
    "        \n",
    "        mesh = (pinky.PymeshfixDecimatedExcitatoryStitchedMesh & 'decimation_ratio=0.35' & dict(segment_id=key['segment_id'])).fetch1()\n",
    "        mesh_triangles = mesh['triangles']\n",
    "        \n",
    "        vertex_label_dict = dict()\n",
    "        for i, label in enumerate(labels['triangles']):\n",
    "            triangle = mesh_triangles[i]\n",
    "            for node in triangle:\n",
    "                if node in vertex_label_dict:\n",
    "                    if vertex_label_dict[node] < label:\n",
    "                        vertex_label_dict[node] = label\n",
    "                else:\n",
    "                    vertex_label_dict[node] = label\n",
    "                \n",
    "        for node, label in vertex_label_dict.items():\n",
    "            corrected_vertex_labels[node] = label\n",
    "            \n",
    "        self.insert1(dict(key,\n",
    "                          vertices=corrected_vertex_labels,\n",
    "                          triangles=labels['triangles']))\n",
    "        \n",
    "        print(\"Segment {} vertex labels regenerated in: {} seconds.\".format(key['segment_id'], time.time() - start))"
   ]
  },
  {
   "cell_type": "code",
   "execution_count": 5,
   "metadata": {},
   "outputs": [
    {
     "name": "stdout",
     "output_type": "stream",
     "text": [
      "648518346349475138\n",
      "Segment 648518346349475138 vertex labels regenerated in: 2.458653450012207 seconds.\n",
      "648518346349475522\n",
      "Segment 648518346349475522 vertex labels regenerated in: 3.3160653114318848 seconds.\n",
      "648518346349475534\n",
      "Segment 648518346349475534 vertex labels regenerated in: 2.1393561363220215 seconds.\n",
      "648518346349477981\n",
      "Segment 648518346349477981 vertex labels regenerated in: 4.758553504943848 seconds.\n",
      "648518346349478348\n",
      "Segment 648518346349478348 vertex labels regenerated in: 4.561883449554443 seconds.\n",
      "648518346349478860\n",
      "Segment 648518346349478860 vertex labels regenerated in: 4.28488302230835 seconds.\n",
      "648518346349479776\n",
      "Segment 648518346349479776 vertex labels regenerated in: 3.327730655670166 seconds.\n",
      "648518346349481574\n",
      "Segment 648518346349481574 vertex labels regenerated in: 4.6177239418029785 seconds.\n",
      "648518346349483956\n",
      "Segment 648518346349483956 vertex labels regenerated in: 5.067164897918701 seconds.\n",
      "648518346349486929\n",
      "Segment 648518346349486929 vertex labels regenerated in: 4.280852317810059 seconds.\n",
      "648518346349490749\n",
      "Segment 648518346349490749 vertex labels regenerated in: 4.117476463317871 seconds.\n",
      "648518346349491953\n",
      "Segment 648518346349491953 vertex labels regenerated in: 5.064059495925903 seconds.\n",
      "648518346349493487\n",
      "Segment 648518346349493487 vertex labels regenerated in: 3.225633382797241 seconds.\n",
      "648518346349493881\n",
      "Segment 648518346349493881 vertex labels regenerated in: 4.97199559211731 seconds.\n",
      "648518346349494577\n",
      "Segment 648518346349494577 vertex labels regenerated in: 3.8499584197998047 seconds.\n",
      "648518346349495660\n",
      "Segment 648518346349495660 vertex labels regenerated in: 5.994131803512573 seconds.\n",
      "648518346349496554\n",
      "Segment 648518346349496554 vertex labels regenerated in: 5.835847854614258 seconds.\n",
      "648518346349498239\n",
      "Segment 648518346349498239 vertex labels regenerated in: 5.57206654548645 seconds.\n",
      "648518346349499186\n",
      "Segment 648518346349499186 vertex labels regenerated in: 4.7245213985443115 seconds.\n",
      "648518346349499689\n",
      "Segment 648518346349499689 vertex labels regenerated in: 4.284950017929077 seconds.\n",
      "648518346349499824\n",
      "Segment 648518346349499824 vertex labels regenerated in: 4.487047910690308 seconds.\n",
      "648518346349499910\n",
      "Segment 648518346349499910 vertex labels regenerated in: 3.724163055419922 seconds.\n",
      "648518346349500139\n",
      "Segment 648518346349500139 vertex labels regenerated in: 4.76729154586792 seconds.\n",
      "648518346349500440\n",
      "Segment 648518346349500440 vertex labels regenerated in: 4.582718849182129 seconds.\n",
      "648518346349500725\n",
      "Segment 648518346349500725 vertex labels regenerated in: 4.566357612609863 seconds.\n",
      "648518346349501481\n",
      "Segment 648518346349501481 vertex labels regenerated in: 4.848629474639893 seconds.\n",
      "648518346349502049\n",
      "Segment 648518346349502049 vertex labels regenerated in: 4.528507947921753 seconds.\n",
      "648518346349503140\n",
      "Segment 648518346349503140 vertex labels regenerated in: 5.391342401504517 seconds.\n",
      "648518346349504065\n",
      "Segment 648518346349504065 vertex labels regenerated in: 4.595434665679932 seconds.\n",
      "648518346349504565\n",
      "Segment 648518346349504565 vertex labels regenerated in: 2.77359676361084 seconds.\n",
      "648518346349504868\n",
      "Segment 648518346349504868 vertex labels regenerated in: 2.8687551021575928 seconds.\n",
      "648518346349505250\n",
      "Segment 648518346349505250 vertex labels regenerated in: 10.832477807998657 seconds.\n",
      "648518346349505826\n",
      "Segment 648518346349505826 vertex labels regenerated in: 4.191444396972656 seconds.\n",
      "648518346349506617\n",
      "Segment 648518346349506617 vertex labels regenerated in: 4.180530548095703 seconds.\n",
      "648518346349506944\n",
      "Segment 648518346349506944 vertex labels regenerated in: 3.879089832305908 seconds.\n",
      "648518346349507226\n",
      "Segment 648518346349507226 vertex labels regenerated in: 4.31813907623291 seconds.\n",
      "648518346349507963\n",
      "Segment 648518346349507963 vertex labels regenerated in: 3.413423776626587 seconds.\n",
      "648518346349508772\n",
      "Segment 648518346349508772 vertex labels regenerated in: 3.319331645965576 seconds.\n",
      "648518346349509126\n",
      "Segment 648518346349509126 vertex labels regenerated in: 3.292234182357788 seconds.\n",
      "648518346349509390\n",
      "Segment 648518346349509390 vertex labels regenerated in: 3.1298751831054688 seconds.\n",
      "648518346349509487\n",
      "Segment 648518346349509487 vertex labels regenerated in: 5.107891321182251 seconds.\n",
      "648518346349510800\n",
      "Segment 648518346349510800 vertex labels regenerated in: 3.19960618019104 seconds.\n",
      "648518346349511382\n",
      "Segment 648518346349511382 vertex labels regenerated in: 4.477139711380005 seconds.\n",
      "648518346349511920\n",
      "Segment 648518346349511920 vertex labels regenerated in: 3.651381731033325 seconds.\n",
      "648518346349512392\n",
      "Segment 648518346349512392 vertex labels regenerated in: 3.93691086769104 seconds.\n",
      "648518346349513135\n",
      "Segment 648518346349513135 vertex labels regenerated in: 3.8919808864593506 seconds.\n",
      "203.3088629245758\n"
     ]
    }
   ],
   "source": [
    "start = time.time()\n",
    "CoarseLabelFinal.populate(reserve_jobs=True)\n",
    "print(time.time() - start)"
   ]
  },
  {
   "cell_type": "code",
   "execution_count": 6,
   "metadata": {},
   "outputs": [],
   "source": [
    "#(schema.jobs & \"table_name='__coarse_label_final'\").delete()"
   ]
  },
  {
   "cell_type": "code",
   "execution_count": null,
   "metadata": {},
   "outputs": [],
   "source": []
  }
 ],
 "metadata": {
  "kernelspec": {
   "display_name": "Python 3",
   "language": "python",
   "name": "python3"
  },
  "language_info": {
   "codemirror_mode": {
    "name": "ipython",
    "version": 3
   },
   "file_extension": ".py",
   "mimetype": "text/x-python",
   "name": "python",
   "nbconvert_exporter": "python",
   "pygments_lexer": "ipython3",
   "version": "3.6.5"
  }
 },
 "nbformat": 4,
 "nbformat_minor": 2
}
