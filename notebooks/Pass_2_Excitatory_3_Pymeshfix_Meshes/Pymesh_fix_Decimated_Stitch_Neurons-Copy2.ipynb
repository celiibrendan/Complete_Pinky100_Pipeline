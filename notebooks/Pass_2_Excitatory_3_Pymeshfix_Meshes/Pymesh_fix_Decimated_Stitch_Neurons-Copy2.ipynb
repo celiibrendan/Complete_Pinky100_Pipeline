{
 "cells": [
  {
   "cell_type": "code",
   "execution_count": 1,
   "metadata": {},
   "outputs": [
    {
     "name": "stdout",
     "output_type": "stream",
     "text": [
      "Connecting celiib@10.28.0.34:3306\n"
     ]
    }
   ],
   "source": [
    "import datajoint as dj\n",
    "import numpy as np\n",
    "import time\n",
    "import pymeshfix\n",
    "\n",
    "dj.config['database.host'] = '10.28.0.34'\n",
    "dj.config['database.user'] = 'celiib'\n",
    "dj.config['database.password'] = 'newceliipass'\n",
    "dj.config[\"display.limit\"] = 20\n",
    "    \n",
    "#schema = dj.schema('microns_ta3p100')\n",
    "#ta3p100 = dj.create_virtual_module('ta3p100', 'microns_ta3p100')\n",
    "schema = dj.schema(\"microns_pinky\")\n",
    "pinky = dj.create_virtual_module(\"pinky\",\"microns_pinky\")"
   ]
  },
  {
   "cell_type": "code",
   "execution_count": 2,
   "metadata": {},
   "outputs": [],
   "source": [
    "@schema\n",
    "class PymeshfixDecimatedExcitatoryStitchedMesh(dj.Computed):\n",
    "    definition = \"\"\"\n",
    "    -> pinky.Decimation35ExcitatoryStitchedMesh               \n",
    "    ---\n",
    "    n_vertices           : bigint  #total number of vertices after pymeshfix cleaning                     \n",
    "    n_triangles          : bigint  #total number of faces after pymeshfix cleaning                    \n",
    "    vertices             : longblob #vertices after pymeshfix cleaning                  \n",
    "    triangles            : longblob #faces after pymeshfix cleaning  \n",
    "    perc_vertices_remaining  : decimal(6,5) #number of vertices still present after pymeshfix cleaning\n",
    "    perc_triangles_remaining  : decimal(6,5) #number of faces still present after pymeshfix cleaning\n",
    "    \n",
    "    \"\"\"\n",
    "    \n",
    "    #getting the keys from the following three tables\n",
    "    #key_source = ta3p100.Mesh & ta3p100.CurrentSegmentation & ta3p100.AllenSomaClass\n",
    "    \n",
    "    def make(self, key):\n",
    "        start_time = time.time()\n",
    "        \n",
    "        print(\"\\n\\n*****Starting pymeshfix algorithm for \" + str(key[\"segment_id\"]) + \"******\")\n",
    "        \n",
    "        joincomp = True\n",
    "        remove_smallest_components = False\n",
    "        \n",
    "        \n",
    "        #get the vertices \n",
    "        mesh = (pinky.Decimation35ExcitatoryStitchedMesh & key).fetch1()\n",
    "        vertices, triangles = mesh['vertices'], mesh['triangles']\n",
    "        meshfix = pymeshfix.MeshFix(vertices,triangles)\n",
    "        verbose=False\n",
    "        meshfix.repair(verbose,joincomp,remove_smallest_components)\n",
    "        new_verts = meshfix.v\n",
    "        new_faces = meshfix.f\n",
    "\n",
    "        \n",
    "        self.insert1(dict(key,\n",
    "                          n_vertices=len(new_verts),\n",
    "                          n_triangles=len(new_faces),\n",
    "                          vertices=new_verts,\n",
    "                          triangles=new_faces,\n",
    "                         perc_vertices_remaining=len(new_verts)/len(vertices),\n",
    "                         perc_triangles_remaining=len(new_faces)/len(triangles)),skip_duplicates=True)\n",
    "        \n",
    "        \n",
    "        print(f\"Finished pymeshfix algorithm: {time.time() - start_time}\")\n",
    "        \n"
   ]
  },
  {
   "cell_type": "code",
   "execution_count": 3,
   "metadata": {},
   "outputs": [
    {
     "name": "stdout",
     "output_type": "stream",
     "text": [
      "\n",
      "\n",
      "*****Starting pymeshfix algorithm for 648518346349475436******\n",
      "Finished pymeshfix algorithm: 6.213206052780151\n",
      "\n",
      "\n",
      "*****Starting pymeshfix algorithm for 648518346349475518******\n",
      "Finished pymeshfix algorithm: 102.45052576065063\n",
      "\n",
      "\n",
      "*****Starting pymeshfix algorithm for 648518346349482196******\n",
      "Finished pymeshfix algorithm: 53.599926710128784\n",
      "\n",
      "\n",
      "*****Starting pymeshfix algorithm for 648518346349486491******\n",
      "Finished pymeshfix algorithm: 103.2187852859497\n",
      "\n",
      "\n",
      "*****Starting pymeshfix algorithm for 648518346349493653******\n",
      "Finished pymeshfix algorithm: 241.70521712303162\n",
      "\n",
      "\n",
      "*****Starting pymeshfix algorithm for 648518346349499852******\n",
      "Finished pymeshfix algorithm: 57.793808460235596\n",
      "\n",
      "\n",
      "*****Starting pymeshfix algorithm for 648518346349500120******\n",
      "Finished pymeshfix algorithm: 72.4124071598053\n",
      "\n",
      "\n",
      "*****Starting pymeshfix algorithm for 648518346349500742******\n",
      "Finished pymeshfix algorithm: 46.138259410858154\n",
      "\n",
      "\n",
      "*****Starting pymeshfix algorithm for 648518346349502049******\n",
      "Finished pymeshfix algorithm: 143.89599800109863\n",
      "\n",
      "\n",
      "*****Starting pymeshfix algorithm for 648518346349504618******\n",
      "Finished pymeshfix algorithm: 133.4731206893921\n",
      "\n",
      "\n",
      "*****Starting pymeshfix algorithm for 648518346349506748******\n",
      "Finished pymeshfix algorithm: 120.95208501815796\n",
      "\n",
      "\n",
      "*****Starting pymeshfix algorithm for 648518346349509126******\n",
      "Finished pymeshfix algorithm: 36.00349760055542\n",
      "\n",
      "\n",
      "*****Starting pymeshfix algorithm for 648518346349509487******\n",
      "Finished pymeshfix algorithm: 207.81220078468323\n",
      "1329.8267931938171\n"
     ]
    }
   ],
   "source": [
    "start = time.time()\n",
    "PymeshfixDecimatedExcitatoryStitchedMesh.populate(reserve_jobs=True)\n",
    "print(time.time() - start)"
   ]
  },
  {
   "cell_type": "code",
   "execution_count": 4,
   "metadata": {},
   "outputs": [],
   "source": [
    "#(schema.jobs & \"table_name='__pymeshfix_decimated_excitatory_stitched_mesh'\").delete()"
   ]
  },
  {
   "cell_type": "code",
   "execution_count": null,
   "metadata": {},
   "outputs": [],
   "source": []
  }
 ],
 "metadata": {
  "kernelspec": {
   "display_name": "Python 3",
   "language": "python",
   "name": "python3"
  },
  "language_info": {
   "codemirror_mode": {
    "name": "ipython",
    "version": 3
   },
   "file_extension": ".py",
   "mimetype": "text/x-python",
   "name": "python",
   "nbconvert_exporter": "python",
   "pygments_lexer": "ipython3",
   "version": "3.6.5"
  }
 },
 "nbformat": 4,
 "nbformat_minor": 2
}
