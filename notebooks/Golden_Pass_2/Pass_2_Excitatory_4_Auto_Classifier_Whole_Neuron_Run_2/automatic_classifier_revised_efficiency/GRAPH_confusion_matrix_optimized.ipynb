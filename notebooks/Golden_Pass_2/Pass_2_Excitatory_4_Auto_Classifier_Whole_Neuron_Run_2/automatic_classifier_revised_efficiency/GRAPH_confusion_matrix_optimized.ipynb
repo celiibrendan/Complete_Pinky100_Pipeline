{
 "cells": [
  {
   "cell_type": "code",
   "execution_count": 1,
   "metadata": {},
   "outputs": [
    {
     "data": {
      "text/plain": [
       "'\\nPurpose: To test computing of the confusion matrix for the following:\\n1) On all of the previously automatically labeled data compared to the proofread version\\n\\n2) Efficiency of one older auatomatically labeled neuron in comparison to the newer automated version\\n\\n'"
      ]
     },
     "execution_count": 1,
     "metadata": {},
     "output_type": "execute_result"
    }
   ],
   "source": [
    "\"\"\"\n",
    "Purpose: To test computing of the confusion matrix for the following:\n",
    "1) On all of the previously automatically labeled data compared to the proofread version\n",
    "\n",
    "2) Efficiency of one older auatomatically labeled neuron in comparison to the newer automated version\n",
    "\n",
    "\"\"\"\n",
    "\n"
   ]
  },
  {
   "cell_type": "markdown",
   "metadata": {},
   "source": [
    "# Trying new way of generating the confusion matrix for all of the data"
   ]
  },
  {
   "cell_type": "code",
   "execution_count": 2,
   "metadata": {},
   "outputs": [],
   "source": [
    "import datajoint as dj\n",
    "import numpy as np\n",
    "\n",
    "dj.config[\"database.host\"] = \"10.28.0.34\"\n",
    "dj.config[\"database.user\"] = \"celiib\"\n",
    "dj.config[\"database.password\"] = \"newceliipass\"\n",
    "dj.config[\"safemode\"] = True\n",
    "dj.config[\"display.limit\"] = 20"
   ]
  },
  {
   "cell_type": "code",
   "execution_count": null,
   "metadata": {},
   "outputs": [],
   "source": [
    "pinky = dj.create_virtual_module(\"pinky\",\"microns_pinky\")\n",
    "schema = dj.schema(\"microns_pinky\")"
   ]
  },
  {
   "cell_type": "code",
   "execution_count": null,
   "metadata": {},
   "outputs": [],
   "source": [
    "pinky.WholeAutoAnnotationsClusters3Optimized()"
   ]
  },
  {
   "cell_type": "code",
   "execution_count": null,
   "metadata": {},
   "outputs": [],
   "source": [
    "pinky.WholeAutoAnnotationsClusters3Optimized() & (dj.U(\"segment_id\") & pinky.ProofreadLabel.proj())"
   ]
  },
  {
   "cell_type": "code",
   "execution_count": null,
   "metadata": {},
   "outputs": [],
   "source": [
    "#tables to juxtapose: \n",
    "labels_Table = pinky.WholeAutoAnnotationsClusters3Optimized()\n",
    "proof_Table = pinky.ProofreadLabel()"
   ]
  },
  {
   "cell_type": "code",
   "execution_count": null,
   "metadata": {},
   "outputs": [],
   "source": [
    "seg_id,triangles = pinky.WholeAutoAnnotationsClusters3Optimized.proj(\"triangles\").fetch(\"segment_id\",\"triangles\")\n",
    "auto_classifier_data = dict(list(zip(seg_id,triangles)))\n",
    "auto_classifier_data"
   ]
  },
  {
   "cell_type": "code",
   "execution_count": null,
   "metadata": {},
   "outputs": [],
   "source": [
    "seg_id,triangles = pinky.ProofreadLabel.proj(\"triangles\").fetch(\"segment_id\",\"triangles\")\n",
    "proofread_data = dict(list(zip(seg_id,triangles)))\n",
    "#proofread_data"
   ]
  },
  {
   "cell_type": "code",
   "execution_count": null,
   "metadata": {},
   "outputs": [],
   "source": [
    "\"\"\"\n",
    "Steps for computing the overall confusion matrix\n",
    "1) for each neuron go and get the proofread label answer, the automated answers\n",
    "2) Generate the confusion matrix and add to local variable\n",
    "3) Iterate through all neurons ids and add the confusion matrix to the total\n",
    "4) Send the confusion matrix to the function that will plot it\n",
    "\"\"\""
   ]
  },
  {
   "cell_type": "code",
   "execution_count": null,
   "metadata": {},
   "outputs": [],
   "source": [
    "pinky.LabelKey()"
   ]
  },
  {
   "cell_type": "code",
   "execution_count": null,
   "metadata": {},
   "outputs": [],
   "source": [
    "total_labels = [k for k in range(2,14) if k != 9]\n",
    "total_labels"
   ]
  },
  {
   "cell_type": "code",
   "execution_count": null,
   "metadata": {},
   "outputs": [],
   "source": [
    "len(auto_classifier_data.keys())"
   ]
  },
  {
   "cell_type": "code",
   "execution_count": null,
   "metadata": {},
   "outputs": [],
   "source": [
    "from sklearn.metrics import confusion_matrix\n",
    "from tqdm import tqdm\n",
    "cm_total = None\n",
    "\n",
    "for seg_id,tri in tqdm(proofread_data.items()):\n",
    "    if seg_id not in auto_classifier_data.keys():\n",
    "        continue\n",
    "    \n",
    "    #get the triangle labels from the automated run\n",
    "    auto_tri = auto_classifier_data[seg_id].astype(\"int\")\n",
    "    auto_tri[np.where(auto_tri>= 13)] = 13\n",
    "    \n",
    "    \n",
    "    #get a confusion matrix \n",
    "    \n",
    "    cm = confusion_matrix(tri, auto_tri,labels=total_labels)\n",
    "    \n",
    "    if not(type(cm_total) is np.ndarray):\n",
    "        cm_total = cm\n",
    "    else:\n",
    "        cm_total = cm_total + cm\n",
    "    "
   ]
  },
  {
   "cell_type": "code",
   "execution_count": null,
   "metadata": {},
   "outputs": [],
   "source": [
    "# import numpy as np\n",
    "# cm_total_npz = np.load(\"cm_total.npz\")\n",
    "# cm_total = cm_total_npz[\"cm_total\"]\n",
    "# classes = cm_total_npz[\"classes\"]"
   ]
  },
  {
   "cell_type": "code",
   "execution_count": null,
   "metadata": {},
   "outputs": [],
   "source": [
    "pinky.LabelKey()"
   ]
  },
  {
   "cell_type": "code",
   "execution_count": null,
   "metadata": {},
   "outputs": [],
   "source": [
    "Label_key_data = pinky.LabelKey.fetch(as_dict=True)\n",
    "kept_data = Label_key_data[2:9] + Label_key_data[10:13]\n",
    "kept_data\n",
    "\n",
    "classes = [k[\"description\"] for k in kept_data]\n",
    "cm_labels = [k[\"numeric\"] for k in kept_data]\n",
    "classes.append(\"unknown\")\n",
    "cm_labels.append(13)"
   ]
  },
  {
   "cell_type": "code",
   "execution_count": null,
   "metadata": {},
   "outputs": [],
   "source": [
    "classes"
   ]
  },
  {
   "cell_type": "code",
   "execution_count": null,
   "metadata": {},
   "outputs": [],
   "source": [
    "np.savez(\"cm_total.npz\",cm_total=cm_total,classes=classes,cm_labels=cm_labels)"
   ]
  },
  {
   "cell_type": "markdown",
   "metadata": {},
   "source": [
    "# Load in the confusion matrix and display it"
   ]
  },
  {
   "cell_type": "code",
   "execution_count": null,
   "metadata": {},
   "outputs": [],
   "source": [
    "import celii_confusion_plotting as cp"
   ]
  },
  {
   "cell_type": "code",
   "execution_count": null,
   "metadata": {},
   "outputs": [],
   "source": [
    "import numpy as np\n",
    "cm_total_npz = np.load(\"cm_total.npz\")\n",
    "cm_total = cm_total_npz[\"cm_total\"]\n",
    "cm_labels = cm_total_npz[\"cm_labels\"]\n",
    "classes = cm_total_npz[\"classes\"]"
   ]
  },
  {
   "cell_type": "code",
   "execution_count": null,
   "metadata": {},
   "outputs": [],
   "source": [
    "cp.plot_confusion_matrix_from_confusion_matrix(cm_total,classes=classes)"
   ]
  },
  {
   "cell_type": "code",
   "execution_count": null,
   "metadata": {},
   "outputs": [],
   "source": []
  }
 ],
 "metadata": {
  "kernelspec": {
   "display_name": "Python 3",
   "language": "python",
   "name": "python3"
  },
  "language_info": {
   "codemirror_mode": {
    "name": "ipython",
    "version": 3
   },
   "file_extension": ".py",
   "mimetype": "text/x-python",
   "name": "python",
   "nbconvert_exporter": "python",
   "pygments_lexer": "ipython3",
   "version": "3.6.8"
  }
 },
 "nbformat": 4,
 "nbformat_minor": 4
}
