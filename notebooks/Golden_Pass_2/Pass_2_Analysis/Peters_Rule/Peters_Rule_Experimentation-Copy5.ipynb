{
 "cells": [
  {
   "cell_type": "code",
   "execution_count": 1,
   "metadata": {},
   "outputs": [],
   "source": [
    "import datajoint as dj\n",
    "import numpy as np\n",
    "import time\n",
    "\n",
    "import pandas as pd\n",
    "import seaborn as sns\n",
    "sns.set() #sets the asethetics parameters in what set"
   ]
  },
  {
   "cell_type": "code",
   "execution_count": 2,
   "metadata": {},
   "outputs": [
    {
     "name": "stdout",
     "output_type": "stream",
     "text": [
      "Connecting celiib@10.28.0.34:3306\n"
     ]
    }
   ],
   "source": [
    "#setting the address and the username\n",
    "dj.config['database.host'] = '10.28.0.34'\n",
    "dj.config['database.user'] = 'celiib'\n",
    "dj.config['database.password'] = 'newceliipass'\n",
    "dj.config['safemode']=True\n",
    "dj.config[\"display.limit\"] = 20\n",
    "\n",
    "schema = dj.schema('microns_pinky')\n",
    "pinky = dj.create_virtual_module('pinky', 'microns_pinky')\n",
    "pinky_fc = dj.create_virtual_module(\"pinky_fc\",\"microns_pinky_fc\")"
   ]
  },
  {
   "cell_type": "code",
   "execution_count": 3,
   "metadata": {},
   "outputs": [],
   "source": [
    "@schema\n",
    "class SkeletonCompartmentLengthWithAxon(dj.Computed):\n",
    "    definition = \"\"\"\n",
    "    # Total lengths of each compartment per Skeleton.\n",
    "    -> pinky.DiscretizedSkeleton\n",
    "    ---\n",
    "    apical_length    : float  # Length of the skeleton belonging to the apical compartment.\n",
    "    basal_length     : float  # Length of the skeleton belonging to the basal compartment.\n",
    "    oblique_length   : float  # Length of the skeleton belonging to the oblique compartment.\n",
    "    axon_soma_length   : float  # Length of the skeleton belonging to the axon_soma compartment.\n",
    "    axon_dendr_length   : float  # Length of the skeleton belonging to the axon_soma compartment.\n",
    "    dendrites_length : float  # Length of the skeleton belonging to the generic dendrite compartment.\n",
    "    \"\"\"\n",
    "\n",
    "    _compartment_relation = pinky.LabelKey & [dict(numeric=n) for n in [2, 3, 4, 6, 7, 8]]\n",
    "    _compartment_type_map = {key_map['description'].lower().replace(\"-\",\"_\"): key_map['numeric'] for key_map in _compartment_relation.fetch(as_dict=True)}\n",
    "    \n",
    "    key_source = pinky.DiscretizedSkeleton & [dict(class_name='FilteredSkeletonMinusSoma'), dict(class_name='FilteredNeuronSkeleton')]\n",
    "\n",
    "    def make(self, key):\n",
    "        skeleton_edges = (pinky.DiscretizedSkeleton & key).fetch1('edges')\n",
    "        skeleton_labels = (pinky.SkeletonLabel & key).fetch1('edge_midpoint_labels')\n",
    "\n",
    "        insert_dict = dict(key)\n",
    "        for description, numeric in self._compartment_type_map.items():\n",
    "            compartment_edges = skeleton_edges[skeleton_labels==numeric]\n",
    "            compartment_length = np.linalg.norm(compartment_edges[:, 0] - compartment_edges[:, 1], axis=1).sum()\n",
    "            insert_dict[f'{description}_length'] = compartment_length\n",
    "        \n",
    "        insert_dict['dendrites_length'] = insert_dict['dendrite_length']\n",
    "        del insert_dict['dendrite_length']\n",
    "\n",
    "        self.insert1(insert_dict)"
   ]
  },
  {
   "cell_type": "code",
   "execution_count": 4,
   "metadata": {},
   "outputs": [],
   "source": [
    "#(schema.jobs & \"table_name='__skeleton_compartment_length_with_axon'\").delete()\n",
    "#schema.jobs"
   ]
  },
  {
   "cell_type": "code",
   "execution_count": 5,
   "metadata": {},
   "outputs": [
    {
     "name": "stdout",
     "output_type": "stream",
     "text": [
      "Total time = 149.91165494918823\n"
     ]
    }
   ],
   "source": [
    "import time\n",
    "start_time = time.time()\n",
    "SkeletonCompartmentLengthWithAxon.populate(reserve_jobs=True)\n",
    "print(f\"Total time = {time.time() - start_time}\")"
   ]
  },
  {
   "cell_type": "code",
   "execution_count": null,
   "metadata": {},
   "outputs": [],
   "source": [
    "pinky.SkeletonCompartmentLength()"
   ]
  },
  {
   "cell_type": "code",
   "execution_count": null,
   "metadata": {},
   "outputs": [],
   "source": [
    "pinky_fc."
   ]
  },
  {
   "cell_type": "code",
   "execution_count": null,
   "metadata": {},
   "outputs": [],
   "source": [
    "pinky.FullSkeletonContact.heading"
   ]
  },
  {
   "cell_type": "code",
   "execution_count": null,
   "metadata": {},
   "outputs": [],
   "source": [
    "len(pinky.SkeletonContact() & \"majority_label_ratio>0.9\")"
   ]
  },
  {
   "cell_type": "code",
   "execution_count": null,
   "metadata": {},
   "outputs": [],
   "source": [
    "\"\"\"\n",
    "Level One analysis: Meausre how the neurons proportions match the statistics of the whole volume\n",
    "\n",
    "Pseudo-code: \n",
    "1) Calculate for the volume the total percentage of comparments (but soma)\n",
    "2) Find the percentage of synapses for the volume\n",
    "3) For each axon with at least one synapse: \n",
    "- Find the compartments they synapsed on\n",
    "- Weight this vector distribution as a function of length to some power\n",
    "- Sum all the vectors up and see how close to 0 they can be: \n",
    "    a. try different coefficients to see if can make closer to 0 or not\n",
    "    \n",
    "\"\"\"\n",
    "\n"
   ]
  },
  {
   "cell_type": "code",
   "execution_count": null,
   "metadata": {},
   "outputs": [],
   "source": [
    "#1) caclulate the total volume's percentages per compartment\n",
    "\n"
   ]
  },
  {
   "cell_type": "code",
   "execution_count": null,
   "metadata": {},
   "outputs": [],
   "source": [
    "#2) Find axons with only one synapse\n"
   ]
  }
 ],
 "metadata": {
  "kernelspec": {
   "display_name": "Python 3",
   "language": "python",
   "name": "python3"
  },
  "language_info": {
   "codemirror_mode": {
    "name": "ipython",
    "version": 3
   },
   "file_extension": ".py",
   "mimetype": "text/x-python",
   "name": "python",
   "nbconvert_exporter": "python",
   "pygments_lexer": "ipython3",
   "version": "3.6.8"
  }
 },
 "nbformat": 4,
 "nbformat_minor": 4
}
