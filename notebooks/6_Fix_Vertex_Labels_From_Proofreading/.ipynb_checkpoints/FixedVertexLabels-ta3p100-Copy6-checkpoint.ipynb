{
 "cells": [
  {
   "cell_type": "code",
   "execution_count": 1,
   "metadata": {},
   "outputs": [],
   "source": [
    "import datajoint as dj\n",
    "import numpy as np\n",
    "import time\n",
    "from tqdm import tqdm"
   ]
  },
  {
   "cell_type": "code",
   "execution_count": 2,
   "metadata": {},
   "outputs": [
    {
     "name": "stdout",
     "output_type": "stream",
     "text": [
      "Connecting celiib@10.28.0.34:3306\n"
     ]
    }
   ],
   "source": [
    "#setting the address and the username\n",
    "dj.config['database.host'] = '10.28.0.34'\n",
    "dj.config['database.user'] = 'celiib'\n",
    "dj.config['database.password'] = 'newceliipass'\n",
    "dj.config['safemode']=True\n",
    "dj.config[\"display.limit\"] = 20\n",
    "\n",
    "ta3p100 = dj.create_virtual_module('ta3p100', 'microns_ta3p100')\n",
    "schema = dj.schema('microns_ta3p100')\n"
   ]
  },
  {
   "cell_type": "code",
   "execution_count": 3,
   "metadata": {},
   "outputs": [],
   "source": [
    "#ta3p100.ProofreadLabelFinal & 'status=\"complete\"'"
   ]
  },
  {
   "cell_type": "code",
   "execution_count": 4,
   "metadata": {},
   "outputs": [],
   "source": [
    "@schema\n",
    "class CoarseLabelFinal(dj.Computed):\n",
    "    definition = \"\"\"\n",
    "    # Vertex labels for ta3p100.ProofreadLabel did not correctly match the triangle labels, so these are regenerated from the correct triangle labels.\n",
    "    -> ta3p100.ProofreadLabelFinal\n",
    "    ---\n",
    "    vertices  : longblob # Corrected vertex labels\n",
    "    triangles : longblob # Same triangle labels as ta3p100.ProofreadLabel\n",
    "    \"\"\"\n",
    "    \n",
    "    key_source = ta3p100.ProofreadLabelFinal & 'status=\"complete\"'\n",
    "    \n",
    "    def make(self, key):\n",
    "        start = time.time()\n",
    "        \n",
    "        print(key[\"segment_id\"])\n",
    "        labels = (ta3p100.ProofreadLabelFinal & key).fetch1()\n",
    "        corrected_vertex_labels = np.zeros(labels['vertices'].shape, np.uint8)\n",
    "        \n",
    "        mesh = (ta3p100.CleansedMesh & 'decimation_ratio=0.35' & dict(segment_id=key['segment_id'])).fetch1()\n",
    "        mesh_triangles = mesh['triangles']\n",
    "        \n",
    "        vertex_label_dict = dict()\n",
    "        for i, label in enumerate(labels['triangles']):\n",
    "            triangle = mesh_triangles[i]\n",
    "            for node in triangle:\n",
    "                if node in vertex_label_dict:\n",
    "                    if vertex_label_dict[node] < label:\n",
    "                        vertex_label_dict[node] = label\n",
    "                else:\n",
    "                    vertex_label_dict[node] = label\n",
    "                \n",
    "        for node, label in vertex_label_dict.items():\n",
    "            corrected_vertex_labels[node] = label\n",
    "            \n",
    "        self.insert1(dict(key,\n",
    "                          vertices=corrected_vertex_labels,\n",
    "                          triangles=labels['triangles']))\n",
    "        \n",
    "        print(\"Segment {} vertex labels regenerated in: {} seconds.\".format(key['segment_id'], time.time() - start))"
   ]
  },
  {
   "cell_type": "code",
   "execution_count": 5,
   "metadata": {},
   "outputs": [
    {
     "name": "stdout",
     "output_type": "stream",
     "text": [
      "648518346349478718\n",
      "Segment 648518346349478718 vertex labels regenerated in: 3.1903023719787598 seconds.\n",
      "648518346349479056\n",
      "Segment 648518346349479056 vertex labels regenerated in: 3.6412742137908936 seconds.\n",
      "648518346349479776\n",
      "Segment 648518346349479776 vertex labels regenerated in: 2.3312251567840576 seconds.\n",
      "648518346349481014\n",
      "Segment 648518346349481014 vertex labels regenerated in: 4.872191667556763 seconds.\n",
      "648518346349485007\n",
      "Segment 648518346349485007 vertex labels regenerated in: 3.0016067028045654 seconds.\n",
      "648518346349488659\n",
      "Segment 648518346349488659 vertex labels regenerated in: 3.4917755126953125 seconds.\n",
      "648518346349491045\n",
      "Segment 648518346349491045 vertex labels regenerated in: 3.7025623321533203 seconds.\n",
      "648518346349492097\n",
      "Segment 648518346349492097 vertex labels regenerated in: 4.492461204528809 seconds.\n",
      "648518346349493856\n",
      "Segment 648518346349493856 vertex labels regenerated in: 3.3908393383026123 seconds.\n",
      "648518346349494087\n",
      "Segment 648518346349494087 vertex labels regenerated in: 3.9857375621795654 seconds.\n",
      "648518346349495660\n",
      "Segment 648518346349495660 vertex labels regenerated in: 5.055691242218018 seconds.\n",
      "648518346349497168\n",
      "Segment 648518346349497168 vertex labels regenerated in: 4.6358323097229 seconds.\n",
      "648518346349498482\n",
      "Segment 648518346349498482 vertex labels regenerated in: 2.416530132293701 seconds.\n",
      "648518346349499150\n",
      "Segment 648518346349499150 vertex labels regenerated in: 4.9353814125061035 seconds.\n",
      "648518346349499689\n",
      "Segment 648518346349499689 vertex labels regenerated in: 3.718909502029419 seconds.\n",
      "648518346349499828\n",
      "Segment 648518346349499828 vertex labels regenerated in: 3.847166061401367 seconds.\n",
      "648518346349500049\n",
      "Segment 648518346349500049 vertex labels regenerated in: 2.952650785446167 seconds.\n",
      "648518346349500277\n",
      "Segment 648518346349500277 vertex labels regenerated in: 4.018179893493652 seconds.\n",
      "648518346349500627\n",
      "Segment 648518346349500627 vertex labels regenerated in: 4.961473703384399 seconds.\n",
      "648518346349501216\n",
      "Segment 648518346349501216 vertex labels regenerated in: 4.104905366897583 seconds.\n",
      "648518346349502203\n",
      "Segment 648518346349502203 vertex labels regenerated in: 3.7296054363250732 seconds.\n",
      "648518346349503236\n",
      "Segment 648518346349503236 vertex labels regenerated in: 4.608795881271362 seconds.\n",
      "648518346349503766\n",
      "Segment 648518346349503766 vertex labels regenerated in: 4.622483253479004 seconds.\n",
      "648518346349504442\n",
      "Segment 648518346349504442 vertex labels regenerated in: 5.090695858001709 seconds.\n",
      "648518346349505250\n",
      "Segment 648518346349505250 vertex labels regenerated in: 4.012190818786621 seconds.\n",
      "648518346349505911\n",
      "Segment 648518346349505911 vertex labels regenerated in: 3.5393214225769043 seconds.\n",
      "648518346349506748\n",
      "Segment 648518346349506748 vertex labels regenerated in: 3.3543007373809814 seconds.\n",
      "648518346349507015\n",
      "Segment 648518346349507015 vertex labels regenerated in: 3.69946026802063 seconds.\n",
      "648518346349507537\n",
      "Segment 648518346349507537 vertex labels regenerated in: 2.9518988132476807 seconds.\n",
      "115.82864379882812\n"
     ]
    }
   ],
   "source": [
    "start = time.time()\n",
    "CoarseLabelFinal.populate(reserve_jobs=True)\n",
    "print(time.time() - start)"
   ]
  },
  {
   "cell_type": "code",
   "execution_count": 11,
   "metadata": {},
   "outputs": [],
   "source": [
    "#(schema.jobs & \"table_name='__coarse_label_final'\").delete()"
   ]
  },
  {
   "cell_type": "code",
   "execution_count": null,
   "metadata": {},
   "outputs": [],
   "source": []
  }
 ],
 "metadata": {
  "kernelspec": {
   "display_name": "Python 3",
   "language": "python",
   "name": "python3"
  },
  "language_info": {
   "codemirror_mode": {
    "name": "ipython",
    "version": 3
   },
   "file_extension": ".py",
   "mimetype": "text/x-python",
   "name": "python",
   "nbconvert_exporter": "python",
   "pygments_lexer": "ipython3",
   "version": "3.6.5"
  }
 },
 "nbformat": 4,
 "nbformat_minor": 2
}
