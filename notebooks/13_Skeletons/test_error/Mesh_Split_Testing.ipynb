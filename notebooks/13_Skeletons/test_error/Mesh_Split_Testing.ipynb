{
 "cells": [
  {
   "cell_type": "markdown",
   "metadata": {},
   "source": [
    "# demonstrating some of meshes are split into multiple pieces"
   ]
  },
  {
   "cell_type": "code",
   "execution_count": 3,
   "metadata": {},
   "outputs": [],
   "source": [
    "import datajoint as dj\n",
    "import numpy as np\n",
    "from meshparty import trimesh_io\n",
    "import time\n",
    "from collections import Counter\n",
    "from tqdm import tnrange, tqdm_notebook"
   ]
  },
  {
   "cell_type": "code",
   "execution_count": 4,
   "metadata": {},
   "outputs": [],
   "source": [
    "#jupyter nbextension list\n",
    "#jupyter nbextension enable --py widgetsnbextension"
   ]
  },
  {
   "cell_type": "code",
   "execution_count": 6,
   "metadata": {},
   "outputs": [
    {
     "name": "stdout",
     "output_type": "stream",
     "text": [
      "Connecting celiib@10.28.0.34:3306\n"
     ]
    }
   ],
   "source": [
    "neuron = 648518346349507130\n",
    "key = dict(segmentation=2,segment_id=neuron)\n",
    "\n",
    "ta3p100 = dj.create_virtual_module(\"ta3p100\",\"microns_ta3p100\")"
   ]
  },
  {
   "cell_type": "code",
   "execution_count": null,
   "metadata": {},
   "outputs": [],
   "source": [
    "mesh_neuron = (ta3p100.Mesh() & key).fetch1()"
   ]
  },
  {
   "cell_type": "code",
   "execution_count": null,
   "metadata": {},
   "outputs": [],
   "source": [
    "#Do voxelization\n",
    "start_time = time.time()\n",
    "mesh = trimesh_io.Mesh(vertices=mesh_neuron[\"vertices\"], faces=mesh_neuron[\"triangles\"])\n",
    "\n",
    "### load a mesh through files\n",
    "#mesh = trimesh.load('../models/featuretype.STL')\n",
    "\n",
    "##How you would voxelize it\n",
    "# voxels = mesh.voxelized(500)\n",
    "# voxel_mesh = voxels.as_boxes()\n",
    "\n",
    "#trying the submesh step\n",
    "\n",
    "print(f\"Step 2: remeshing: {time.time() - start_time}\")"
   ]
  },
  {
   "cell_type": "code",
   "execution_count": null,
   "metadata": {},
   "outputs": [],
   "source": [
    "#do trial to see if can detect the size and number of components splits\n",
    "mesh.body_count"
   ]
  },
  {
   "cell_type": "code",
   "execution_count": null,
   "metadata": {},
   "outputs": [],
   "source": [
    "dir(trimesh_io.trimesh.graph)"
   ]
  },
  {
   "cell_type": "code",
   "execution_count": null,
   "metadata": {},
   "outputs": [],
   "source": [
    "count, labels = trimesh_io.trimesh.graph.csgraph.connected_components(\n",
    "    mesh.edges_sparse,\n",
    "    directed=False,\n",
    "    return_labels=True)\n",
    "mesh._cache['vertices_component_label'] = labels\n",
    "count\n",
    "labels"
   ]
  },
  {
   "cell_type": "code",
   "execution_count": null,
   "metadata": {},
   "outputs": [],
   "source": [
    "myCounter = Counter(labels)\n",
    "myCounter"
   ]
  },
  {
   "cell_type": "code",
   "execution_count": null,
   "metadata": {},
   "outputs": [],
   "source": [
    "#count the number of objects above a certain threshold\n",
    "print(len([x for x in myCounter.values() if x > 100]))"
   ]
  },
  {
   "cell_type": "code",
   "execution_count": 7,
   "metadata": {},
   "outputs": [
    {
     "name": "stderr",
     "output_type": "stream",
     "text": [
      "32238it [55:57,  9.60it/s]\n"
     ]
    }
   ],
   "source": [
    "from tqdm import tqdm\n",
    "\n",
    "\n",
    "size_of_neurites = len(ta3p100.NeuriteRevised())\n",
    "neurite_segments = ta3p100.NeuriteRevised().fetch(\"segment_id\")\n",
    "\n",
    "#empty arrays to hold the number of total segments\n",
    "total_parts = np.ones(size_of_neurites)\n",
    "total_parts_above_threshold = np.ones(size_of_neurites)\n",
    "\n",
    "neurite_neighbors = dict()\n",
    "\n",
    "key = dict(segmentation=2)\n",
    "for i,neurite in tqdm(enumerate(neurite_segments)):\n",
    "    #if i > :\n",
    "    #    break\n",
    "    #get the mesh for that neurite\n",
    "    key[\"segment_id\"] = neurite\n",
    "    mesh_neuron = (ta3p100.Mesh() & key).fetch1()\n",
    "    #store the mesh in a trimesh_object\n",
    "    mesh = trimesh_io.Mesh(vertices=mesh_neuron[\"vertices\"], faces=mesh_neuron[\"triangles\"])\n",
    "    \n",
    "    #get the count and labels\n",
    "    count, labels = trimesh_io.trimesh.graph.csgraph.connected_components(\n",
    "    mesh.edges_sparse,\n",
    "    directed=False,\n",
    "    return_labels=True)\n",
    "    \n",
    "    #store the number of components\n",
    "    total_neighbors = count\n",
    "    total_parts[i] = total_neighbors\n",
    "    \n",
    "    #establish threshold as 90% of neurite (the counter is given by vertices)\n",
    "    neurite_size = len(mesh_neuron[\"vertices\"])\n",
    "    threshold = 0.9*neurite_size\n",
    "    \n",
    "    \n",
    "    myCounter = Counter(labels)\n",
    "    total_neighbors_threshold = len([x for x in myCounter.values() if x > threshold])\n",
    "    total_parts_above_threshold[i] = total_neighbors_threshold\n",
    "    \n",
    "    #get the number above a certain threshold\n",
    "    neurite_neighbors[str(neurite)] = [total_neighbors,total_neighbors_threshold,neurite_size,myCounter]\n",
    "    \n",
    "    \n",
    "    \n",
    "    "
   ]
  },
  {
   "cell_type": "code",
   "execution_count": 8,
   "metadata": {},
   "outputs": [
    {
     "data": {
      "image/png": "[encoded data removed]",
      "text/plain": [
       "<Figure size 432x288 with 1 Axes>"
      ]
     },
     "metadata": {},
     "output_type": "display_data"
    },
    {
     "data": {
      "text/plain": [
       "Counter({4.0: 4514,\n",
       "         2.0: 4210,\n",
       "         82.0: 1,\n",
       "         5.0: 3555,\n",
       "         6.0: 2844,\n",
       "         1.0: 2280,\n",
       "         9.0: 1328,\n",
       "         3.0: 4723,\n",
       "         7.0: 2306,\n",
       "         8.0: 1683,\n",
       "         13.0: 455,\n",
       "         11.0: 758,\n",
       "         12.0: 584,\n",
       "         16.0: 181,\n",
       "         10.0: 1008,\n",
       "         167.0: 1,\n",
       "         63.0: 4,\n",
       "         19.0: 103,\n",
       "         17.0: 171,\n",
       "         29.0: 34,\n",
       "         66.0: 2,\n",
       "         14.0: 355,\n",
       "         48.0: 5,\n",
       "         24.0: 44,\n",
       "         18.0: 143,\n",
       "         21.0: 69,\n",
       "         43.0: 12,\n",
       "         15.0: 255,\n",
       "         27.0: 26,\n",
       "         73.0: 1,\n",
       "         23.0: 56,\n",
       "         22.0: 70,\n",
       "         96.0: 1,\n",
       "         33.0: 15,\n",
       "         50.0: 6,\n",
       "         91.0: 1,\n",
       "         39.0: 10,\n",
       "         54.0: 6,\n",
       "         25.0: 26,\n",
       "         142.0: 1,\n",
       "         89.0: 2,\n",
       "         36.0: 14,\n",
       "         31.0: 16,\n",
       "         77.0: 2,\n",
       "         20.0: 81,\n",
       "         49.0: 9,\n",
       "         101.0: 1,\n",
       "         26.0: 45,\n",
       "         122.0: 1,\n",
       "         37.0: 9,\n",
       "         123.0: 1,\n",
       "         30.0: 12,\n",
       "         71.0: 3,\n",
       "         40.0: 10,\n",
       "         56.0: 2,\n",
       "         69.0: 1,\n",
       "         55.0: 3,\n",
       "         41.0: 4,\n",
       "         53.0: 6,\n",
       "         111.0: 2,\n",
       "         65.0: 3,\n",
       "         32.0: 15,\n",
       "         46.0: 7,\n",
       "         44.0: 5,\n",
       "         35.0: 12,\n",
       "         28.0: 18,\n",
       "         75.0: 2,\n",
       "         42.0: 5,\n",
       "         51.0: 5,\n",
       "         52.0: 5,\n",
       "         88.0: 1,\n",
       "         47.0: 1,\n",
       "         58.0: 2,\n",
       "         80.0: 2,\n",
       "         97.0: 1,\n",
       "         34.0: 13,\n",
       "         140.0: 2,\n",
       "         61.0: 4,\n",
       "         76.0: 2,\n",
       "         98.0: 1,\n",
       "         45.0: 6,\n",
       "         38.0: 9,\n",
       "         78.0: 3,\n",
       "         211.0: 1,\n",
       "         87.0: 2,\n",
       "         83.0: 2,\n",
       "         81.0: 1,\n",
       "         207.0: 1,\n",
       "         100.0: 2,\n",
       "         57.0: 2,\n",
       "         156.0: 1,\n",
       "         136.0: 1,\n",
       "         110.0: 1,\n",
       "         138.0: 1,\n",
       "         137.0: 1,\n",
       "         102.0: 1,\n",
       "         124.0: 1,\n",
       "         68.0: 1,\n",
       "         62.0: 3,\n",
       "         165.0: 1,\n",
       "         95.0: 1,\n",
       "         92.0: 1,\n",
       "         104.0: 2,\n",
       "         79.0: 1,\n",
       "         94.0: 2,\n",
       "         114.0: 1,\n",
       "         93.0: 1,\n",
       "         72.0: 1,\n",
       "         112.0: 1,\n",
       "         164.0: 1,\n",
       "         224.0: 1,\n",
       "         109.0: 1,\n",
       "         64.0: 1,\n",
       "         107.0: 2,\n",
       "         70.0: 1,\n",
       "         85.0: 1,\n",
       "         74.0: 1})"
      ]
     },
     "execution_count": 8,
     "metadata": {},
     "output_type": "execute_result"
    }
   ],
   "source": [
    "#graph the results with seaborn\n",
    "\n",
    "import pandas as pd\n",
    "import seaborn as sb\n",
    "from matplotlib import pyplot as plt\n",
    "df = sb.load_dataset('iris')\n",
    "sb.distplot(total_parts,kde = False)\n",
    "plt.show()\n",
    "\n",
    "\n",
    "\n",
    "neurite_counter = Counter(total_parts)\n",
    "neurite_counter"
   ]
  },
  {
   "cell_type": "code",
   "execution_count": 9,
   "metadata": {},
   "outputs": [
    {
     "data": {
      "image/png": "[encoded data removed]",
      "text/plain": [
       "<Figure size 432x288 with 1 Axes>"
      ]
     },
     "metadata": {},
     "output_type": "display_data"
    },
    {
     "data": {
      "text/plain": [
       "Counter({1.0: 32078, 0.0: 160})"
      ]
     },
     "execution_count": 9,
     "metadata": {},
     "output_type": "execute_result"
    }
   ],
   "source": [
    "#graph the results with seaborn\n",
    "\n",
    "import pandas as pd\n",
    "import seaborn as sb\n",
    "from matplotlib import pyplot as plt\n",
    "df = sb.load_dataset('iris')\n",
    "sb.distplot(total_parts_above_threshold,kde = False)\n",
    "plt.show()\n",
    "\n",
    "\n",
    "\n",
    "neurite_counter_above_threshold = Counter(total_parts_above_threshold)\n",
    "neurite_counter_above_threshold"
   ]
  },
  {
   "cell_type": "code",
   "execution_count": 13,
   "metadata": {},
   "outputs": [
    {
     "data": {
      "text/plain": [
       "[21,\n",
       " 0,\n",
       " 25704,\n",
       " Counter({0: 10388,\n",
       "          1: 7561,\n",
       "          2: 2544,\n",
       "          3: 425,\n",
       "          4: 923,\n",
       "          5: 1845,\n",
       "          6: 115,\n",
       "          7: 1458,\n",
       "          8: 113,\n",
       "          9: 242,\n",
       "          10: 30,\n",
       "          11: 7,\n",
       "          12: 5,\n",
       "          13: 3,\n",
       "          14: 11,\n",
       "          15: 5,\n",
       "          16: 3,\n",
       "          17: 3,\n",
       "          18: 7,\n",
       "          19: 13,\n",
       "          20: 3})]"
      ]
     },
     "execution_count": 13,
     "metadata": {},
     "output_type": "execute_result"
    }
   ],
   "source": [
    "#checking the axon neuron:\n",
    "ID = 648518346349507130\n",
    "neurite_neighbors[str(ID)]"
   ]
  },
  {
   "cell_type": "code",
   "execution_count": 16,
   "metadata": {},
   "outputs": [
    {
     "name": "stdout",
     "output_type": "stream",
     "text": [
      "1285.2\n",
      "5\n"
     ]
    }
   ],
   "source": [
    "#checking the axon neuron:\n",
    "ID = 648518346349507130\n",
    "neurite_neighbors[str(ID)]\n",
    "threshold = neurite_neighbors[str(ID)][2]*0.05\n",
    "print(threshold)\n",
    "\n",
    "myCounter = neurite_neighbors[str(ID)][3]\n",
    "total_neighbors_threshold = len([x for x in myCounter.values() if x > threshold])\n",
    "print(total_neighbors_threshold)\n",
    "\n"
   ]
  },
  {
   "cell_type": "code",
   "execution_count": 36,
   "metadata": {},
   "outputs": [
    {
     "name": "stdout",
     "output_type": "stream",
     "text": [
      "648518346341352620 [2, 1, 20530, Counter({0: 20525, 1: 5})]\n",
      "648518346341352621 [3, 1, 33077, Counter({0: 33068, 1: 5, 2: 4})]\n",
      "648518346341352629 [3, 1, 12397, Counter({0: 12387, 1: 5, 2: 5})]\n",
      "648518346341352643 [4, 1, 28592, Counter({0: 28558, 2: 24, 1: 5, 3: 5})]\n",
      "648518346341352671 [7, 1, 25008, Counter({0: 24971, 6: 12, 1: 5, 2: 5, 3: 5, 4: 5, 5: 5})]\n",
      "648518346341352672 [4, 1, 15342, Counter({0: 15315, 3: 21, 1: 3, 2: 3})]\n",
      "648518346341352679 [12, 1, 48880, Counter({0: 48823, 9: 7, 1: 5, 2: 5, 3: 5, 4: 5, 5: 5, 6: 5, 7: 5, 8: 5, 10: 5, 11: 5})]\n",
      "648518346341352730 [3, 1, 22410, Counter({0: 22400, 1: 5, 2: 5})]\n",
      "648518346341352744 [3, 1, 29086, Counter({0: 29072, 1: 9, 2: 5})]\n",
      "648518346341352747 [3, 1, 20565, Counter({0: 20555, 1: 5, 2: 5})]\n",
      "648518346341352768 [4, 1, 26990, Counter({0: 26963, 2: 19, 3: 5, 1: 3})]\n",
      "648518346341352770 [10, 1, 57442, Counter({0: 57323, 1: 50, 3: 22, 4: 15, 9: 11, 2: 5, 6: 5, 8: 5, 5: 3, 7: 3})]\n",
      "648518346341352771 [5, 1, 18859, Counter({0: 18821, 2: 13, 3: 11, 4: 9, 1: 5})]\n",
      "648518346341352774 [11, 1, 53952, Counter({0: 53882, 9: 21, 10: 9, 2: 7, 7: 7, 1: 5, 3: 5, 4: 5, 5: 5, 6: 3, 8: 3})]\n",
      "648518346341352785 [5, 1, 22691, Counter({0: 22665, 4: 9, 1: 7, 2: 5, 3: 5})]\n",
      "648518346341352789 [9, 1, 13796, Counter({0: 13703, 4: 30, 1: 29, 2: 15, 3: 5, 6: 5, 5: 3, 7: 3, 8: 3})]\n",
      "648518346341352790 [8, 1, 27066, Counter({0: 26971, 4: 24, 1: 22, 3: 20, 7: 10, 5: 7, 6: 7, 2: 5})]\n",
      "648518346341352800 [2, 1, 13538, Counter({0: 13531, 1: 7})]\n",
      "648518346341352809 [8, 1, 17844, Counter({0: 17803, 1: 11, 2: 5, 3: 5, 4: 5, 5: 5, 6: 5, 7: 5})]\n",
      "648518346341352822 [6, 1, 44387, Counter({0: 44324, 2: 29, 5: 23, 3: 5, 1: 3, 4: 3})]\n",
      "648518346341352835 [3, 1, 13378, Counter({0: 13362, 2: 11, 1: 5})]\n",
      "648518346341352843 [1, 1, 27364, Counter({0: 27364})]\n",
      "648518346341352844 [4, 1, 29123, Counter({0: 29102, 1: 7, 2: 7, 3: 7})]\n",
      "648518346341352847 [3, 1, 29859, Counter({0: 29819, 2: 35, 1: 5})]\n",
      "648518346341352853 [7, 1, 16064, Counter({0: 16026, 6: 14, 5: 8, 1: 5, 4: 5, 2: 3, 3: 3})]\n",
      "648518346341352877 [4, 1, 27003, Counter({0: 26985, 3: 10, 2: 5, 1: 3})]\n",
      "648518346341352880 [6, 1, 35823, Counter({0: 35796, 4: 11, 2: 5, 3: 5, 1: 3, 5: 3})]\n",
      "648518346341352883 [3, 1, 14454, Counter({0: 14372, 1: 77, 2: 5})]\n",
      "648518346341352891 [167, 1, 63181, Counter({0: 61377, 85: 84, 84: 61, 133: 40, 136: 39, 90: 38, 38: 37, 64: 37, 83: 36, 128: 36, 6: 34, 5: 32, 96: 30, 99: 28, 63: 27, 61: 26, 69: 25, 93: 25, 102: 25, 24: 23, 55: 23, 60: 22, 3: 21, 140: 20, 8: 19, 29: 19, 159: 19, 56: 18, 40: 17, 125: 17, 157: 17, 4: 15, 10: 15, 62: 15, 11: 13, 34: 13, 43: 13, 48: 13, 67: 13, 115: 13, 117: 13, 13: 11, 16: 11, 32: 11, 35: 11, 42: 11, 47: 11, 50: 11, 51: 11, 71: 11, 79: 11, 107: 11, 139: 11, 145: 11, 18: 9, 21: 9, 22: 9, 27: 9, 46: 9, 49: 9, 70: 9, 122: 9, 129: 9, 143: 9, 144: 9, 152: 9, 19: 7, 25: 7, 28: 7, 39: 7, 44: 7, 53: 7, 59: 7, 66: 7, 74: 7, 76: 7, 78: 7, 82: 7, 94: 7, 95: 7, 100: 7, 110: 7, 119: 7, 123: 7, 131: 7, 137: 7, 146: 7, 150: 7, 155: 7, 162: 7, 54: 6, 88: 6, 1: 5, 2: 5, 7: 5, 9: 5, 12: 5, 14: 5, 15: 5, 17: 5, 20: 5, 23: 5, 26: 5, 30: 5, 31: 5, 33: 5, 36: 5, 37: 5, 41: 5, 45: 5, 52: 5, 57: 5, 58: 5, 65: 5, 68: 5, 72: 5, 73: 5, 75: 5, 77: 5, 80: 5, 81: 5, 89: 5, 91: 5, 103: 5, 104: 5, 105: 5, 106: 5, 108: 5, 109: 5, 111: 5, 112: 5, 116: 5, 118: 5, 120: 5, 121: 5, 126: 5, 127: 5, 130: 5, 135: 5, 138: 5, 141: 5, 147: 5, 148: 5, 149: 5, 151: 5, 153: 5, 154: 5, 158: 5, 160: 5, 161: 5, 163: 4, 86: 3, 87: 3, 92: 3, 97: 3, 98: 3, 101: 3, 113: 3, 114: 3, 124: 3, 132: 3, 134: 3, 142: 3, 156: 3, 164: 3, 165: 3, 166: 3})]\n",
      "648518346341352894 [2, 1, 22907, Counter({0: 22904, 1: 3})]\n",
      "648518346341352911 [8, 1, 23650, Counter({0: 23594, 3: 13, 4: 11, 6: 9, 5: 7, 7: 6, 1: 5, 2: 5})]\n",
      "648518346341352913 [6, 1, 26351, Counter({0: 26323, 3: 7, 5: 6, 1: 5, 2: 5, 4: 5})]\n",
      "648518346341352955 [3, 1, 28447, Counter({0: 28421, 2: 21, 1: 5})]\n",
      "648518346341352968 [13, 1, 59414, Counter({0: 59265, 6: 47, 12: 27, 10: 24, 7: 11, 1: 7, 3: 7, 4: 7, 2: 5, 5: 5, 8: 3, 9: 3, 11: 3})]\n",
      "648518346341352983 [9, 1, 23154, Counter({0: 23112, 8: 9, 5: 7, 1: 5, 2: 5, 3: 5, 4: 5, 6: 3, 7: 3})]\n",
      "648518346341353028 [9, 1, 37380, Counter({0: 37270, 1: 39, 6: 20, 4: 11, 5: 11, 3: 9, 7: 8, 8: 7, 2: 5})]\n",
      "648518346341353030 [4, 1, 14048, Counter({0: 13986, 1: 56, 2: 3, 3: 3})]\n",
      "648518346341353042 [4, 1, 31232, Counter({0: 31170, 2: 39, 3: 20, 1: 3})]\n",
      "648518346341353053 [2, 1, 17574, Counter({0: 17569, 1: 5})]\n",
      "648518346341353060 [5, 1, 26116, Counter({0: 26049, 2: 40, 3: 13, 1: 7, 4: 7})]\n",
      "648518346341353064 [63, 1, 57690, Counter({0: 56974, 1: 33, 31: 32, 2: 28, 5: 25, 35: 25, 13: 24, 18: 23, 9: 21, 6: 20, 3: 19, 48: 17, 28: 16, 57: 16, 14: 15, 15: 15, 8: 14, 27: 13, 33: 13, 24: 12, 34: 12, 41: 12, 50: 12, 11: 11, 47: 11, 12: 10, 19: 10, 26: 10, 60: 10, 17: 9, 30: 9, 40: 9, 49: 9, 52: 9, 55: 9, 56: 9, 7: 8, 20: 8, 39: 8, 46: 8, 51: 8, 59: 8, 61: 8, 4: 7, 21: 7, 23: 7, 29: 7, 36: 7, 37: 7, 43: 7, 45: 7, 58: 7, 10: 6, 32: 6, 38: 6, 42: 6, 53: 6, 54: 6, 62: 6, 44: 4, 16: 3, 22: 3, 25: 3})]\n",
      "648518346341353065 [3, 1, 22941, Counter({0: 22933, 1: 5, 2: 3})]\n",
      "648518346341353131 [2, 1, 10268, Counter({0: 10265, 1: 3})]\n",
      "648518346341353136 [11, 1, 32114, Counter({0: 32007, 5: 44, 6: 16, 10: 10, 8: 8, 1: 5, 2: 5, 3: 5, 4: 5, 7: 5, 9: 4})]\n",
      "648518346341353140 [2, 1, 17465, Counter({0: 17462, 1: 3})]\n",
      "648518346341353142 [5, 1, 16736, Counter({0: 16718, 2: 5, 3: 5, 4: 5, 1: 3})]\n",
      "648518346341353165 [4, 1, 23812, Counter({0: 23797, 1: 5, 2: 5, 3: 5})]\n",
      "648518346341353166 [3, 1, 24529, Counter({0: 24497, 1: 27, 2: 5})]\n",
      "648518346341353185 [2, 1, 11582, Counter({0: 11573, 1: 9})]\n",
      "648518346341353187 [4, 1, 15458, Counter({0: 15350, 1: 102, 2: 3, 3: 3})]\n",
      "648518346341353189 [9, 1, 60090, Counter({0: 60010, 6: 44, 4: 7, 8: 6, 1: 5, 2: 5, 3: 5, 5: 5, 7: 3})]\n",
      "648518346341353190 [3, 1, 22466, Counter({0: 22451, 1: 10, 2: 5})]\n",
      "648518346341353198 [8, 1, 44017, Counter({0: 43902, 6: 78, 1: 11, 7: 6, 2: 5, 3: 5, 4: 5, 5: 5})]\n",
      "648518346341353201 [3, 1, 11433, Counter({0: 11425, 1: 5, 2: 3})]\n",
      "648518346341353211 [1, 1, 14566, Counter({0: 14566})]\n",
      "648518346341353214 [6, 1, 20830, Counter({0: 20755, 4: 47, 2: 9, 1: 7, 3: 7, 5: 5})]\n",
      "648518346341353217 [4, 1, 10861, Counter({0: 10790, 1: 30, 2: 25, 3: 16})]\n",
      "648518346341353221 [7, 1, 39503, Counter({0: 39462, 1: 22, 2: 5, 3: 5, 4: 3, 5: 3, 6: 3})]\n",
      "648518346341353247 [7, 1, 58972, Counter({0: 58934, 6: 10, 4: 8, 1: 5, 2: 5, 3: 5, 5: 5})]\n",
      "648518346341353249 [3, 1, 38361, Counter({0: 38347, 2: 11, 1: 3})]\n",
      "648518346341353255 [7, 1, 32919, Counter({0: 32847, 1: 34, 2: 16, 4: 7, 6: 7, 3: 5, 5: 3})]\n",
      "648518346341353256 [8, 1, 16487, Counter({0: 16456, 3: 7, 1: 5, 2: 5, 7: 5, 4: 3, 5: 3, 6: 3})]\n",
      "648518346341353305 [5, 1, 21570, Counter({0: 21544, 4: 11, 1: 9, 2: 3, 3: 3})]\n",
      "648518346341353312 [8, 1, 50499, Counter({0: 50438, 2: 31, 1: 5, 3: 5, 4: 5, 5: 5, 6: 5, 7: 5})]\n",
      "648518346341353315 [2, 1, 14268, Counter({0: 14261, 1: 7})]\n",
      "648518346341353349 [8, 1, 46997, Counter({0: 46970, 5: 9, 1: 3, 2: 3, 3: 3, 4: 3, 6: 3, 7: 3})]\n",
      "648518346341353350 [4, 1, 12884, Counter({0: 12869, 1: 5, 2: 5, 3: 5})]\n",
      "648518346341353371 [3, 1, 17543, Counter({0: 17534, 2: 6, 1: 3})]\n",
      "648518346341353384 [4, 1, 22133, Counter({0: 22116, 1: 7, 2: 5, 3: 5})]\n",
      "648518346341353397 [1, 1, 25313, Counter({0: 25313})]\n",
      "648518346341353408 [9, 1, 40974, Counter({0: 40912, 1: 27, 3: 11, 8: 7, 4: 5, 2: 3, 5: 3, 6: 3, 7: 3})]\n",
      "648518346341353409 [10, 1, 61927, Counter({0: 61876, 6: 9, 2: 8, 7: 7, 3: 5, 4: 5, 5: 5, 8: 5, 1: 4, 9: 3})]\n",
      "648518346341353414 [4, 1, 18382, Counter({0: 18331, 3: 43, 2: 5, 1: 3})]\n",
      "648518346341353438 [19, 1, 56569, Counter({0: 56424, 6: 26, 18: 20, 16: 17, 10: 11, 1: 7, 3: 7, 14: 7, 17: 6, 2: 5, 4: 5, 5: 5, 7: 5, 8: 5, 11: 5, 13: 5, 9: 3, 12: 3, 15: 3})]\n",
      "648518346341353465 [12, 1, 47239, Counter({0: 47034, 1: 103, 6: 29, 2: 23, 11: 19, 5: 6, 3: 5, 8: 5, 9: 5, 4: 4, 7: 3, 10: 3})]\n",
      "648518346341353467 [7, 1, 53323, Counter({0: 53298, 1: 5, 2: 5, 4: 5, 6: 4, 3: 3, 5: 3})]\n",
      "648518346341353469 [10, 1, 77896, Counter({0: 77796, 2: 44, 8: 16, 7: 10, 3: 9, 1: 5, 6: 5, 9: 5, 4: 3, 5: 3})]\n",
      "648518346341353470 [2, 1, 16025, Counter({0: 16022, 1: 3})]\n",
      "648518346341353471 [3, 1, 16994, Counter({0: 16983, 1: 8, 2: 3})]\n",
      "648518346341353475 [8, 1, 16798, Counter({0: 16674, 1: 47, 4: 23, 7: 17, 3: 13, 6: 12, 2: 7, 5: 5})]\n",
      "648518346341353476 [7, 1, 16715, Counter({0: 16626, 4: 58, 6: 9, 5: 7, 1: 5, 2: 5, 3: 5})]\n",
      "648518346341353530 [2, 1, 34269, Counter({0: 34266, 1: 3})]\n",
      "648518346341353538 [3, 1, 22584, Counter({0: 22538, 2: 41, 1: 5})]\n",
      "648518346341353562 [2, 1, 13978, Counter({0: 13971, 1: 7})]\n",
      "648518346341353581 [12, 1, 20095, Counter({0: 19974, 9: 32, 8: 17, 7: 13, 11: 13, 10: 12, 4: 9, 2: 7, 1: 5, 3: 5, 5: 5, 6: 3})]\n",
      "648518346341353592 [5, 1, 21054, Counter({0: 21036, 1: 5, 2: 5, 3: 5, 4: 3})]\n",
      "648518346341353596 [6, 1, 26298, Counter({0: 26275, 1: 5, 2: 5, 3: 5, 5: 5, 4: 3})]\n",
      "648518346341353597 [8, 1, 19130, Counter({0: 19062, 1: 23, 7: 20, 2: 5, 3: 5, 4: 5, 5: 5, 6: 5})]\n",
      "648518346341353598 [5, 1, 28335, Counter({0: 28300, 1: 24, 2: 5, 3: 3, 4: 3})]\n",
      "648518346341353674 [6, 1, 38563, Counter({0: 38494, 4: 39, 3: 13, 2: 9, 1: 5, 5: 3})]\n",
      "648518346341353675 [8, 1, 32933, Counter({0: 32837, 1: 57, 7: 12, 2: 7, 6: 7, 4: 5, 5: 5, 3: 3})]\n",
      "648518346341353684 [3, 1, 16701, Counter({0: 16684, 2: 12, 1: 5})]\n",
      "648518346341353686 [1, 1, 13227, Counter({0: 13227})]\n",
      "648518346341353713 [1, 1, 14752, Counter({0: 14752})]\n",
      "648518346341353715 [5, 1, 28546, Counter({0: 28524, 4: 7, 1: 5, 2: 5, 3: 5})]\n",
      "648518346341353718 [6, 1, 46760, Counter({0: 46658, 3: 69, 5: 12, 2: 11, 1: 5, 4: 5})]\n",
      "648518346341353720 [11, 1, 62549, Counter({0: 62482, 2: 17, 10: 11, 9: 9, 8: 6, 4: 5, 6: 5, 7: 5, 1: 3, 3: 3, 5: 3})]\n",
      "648518346341353721 [6, 1, 31666, Counter({0: 31625, 1: 15, 2: 11, 5: 9, 3: 3, 4: 3})]\n",
      "648518346341353722 [5, 1, 16464, Counter({0: 16411, 1: 38, 2: 5, 3: 5, 4: 5})]\n"
     ]
    }
   ],
   "source": [
    "for i,(k,n) in enumerate(neurite_neighbors.items()):\n",
    "    if i > 100 and i < 200:\n",
    "        print(k,n)"
   ]
  },
  {
   "cell_type": "code",
   "execution_count": 32,
   "metadata": {},
   "outputs": [
    {
     "name": "stderr",
     "output_type": "stream",
     "text": [
      "32238it [00:00, 177179.76it/s]\n",
      "32238it [00:00, 290207.87it/s]\n",
      "32238it [00:00, 91092.07it/s]\n",
      "32238it [00:00, 268668.94it/s]\n",
      "32238it [00:00, 288295.91it/s]\n",
      "32238it [00:00, 110773.93it/s]\n",
      "32238it [00:00, 354552.32it/s]\n",
      "32238it [00:00, 398910.71it/s]\n",
      "32238it [00:00, 402445.26it/s]\n",
      "32238it [00:00, 92486.80it/s]\n"
     ]
    }
   ],
   "source": [
    "#loop that will calculate the actual distribution\n",
    "#threshold percentage using\n",
    "threshold_size = 0.99\n",
    "threshold_array = [0.90,0.91,0.92,0.93,0.94,0.95,0.96,0.97,0.98,0.99]\n",
    "counter_threshold = dict()\n",
    "\n",
    "for threshold_size in threshold_array:\n",
    "    actual_neurite_neighbors = dict()\n",
    "    actual_total_parts = np.ones(len(neurite_neighbors))\n",
    "    actual_total_parts_above_threshold = np.ones(len(neurite_neighbors))\n",
    "    for i,(k,n) in tqdm(enumerate(neurite_neighbors.items())):\n",
    "        actual_total_parts[i] = n[0]\n",
    "\n",
    "        #calculate the actual threshold\n",
    "        size = n[2]\n",
    "        threshold = threshold_size*size\n",
    "\n",
    "        #get the counter\n",
    "        myCounter = n[3]\n",
    "        total_neighbors_threshold = len([x for x in myCounter.values() if x > threshold])\n",
    "        actual_total_parts_above_threshold[i] = total_neighbors_threshold\n",
    "\n",
    "        #store all the values in the new dictionary: total, number above threshold, size, counter\n",
    "        actual_neurite_neighbors[str(k)] = [actual_total_parts[i],total_neighbors_threshold,size,myCounter]\n",
    "    \n",
    "    counter_threshold[str(threshold_size)] = Counter(actual_total_parts_above_threshold)\n",
    "    \n",
    "    \n",
    "\n",
    "\n",
    "    "
   ]
  },
  {
   "cell_type": "code",
   "execution_count": 33,
   "metadata": {},
   "outputs": [
    {
     "data": {
      "text/plain": [
       "{'0.9': Counter({1.0: 32078, 0.0: 160}),\n",
       " '0.91': Counter({1.0: 32073, 0.0: 165}),\n",
       " '0.92': Counter({1.0: 32066, 0.0: 172}),\n",
       " '0.93': Counter({1.0: 32061, 0.0: 177}),\n",
       " '0.94': Counter({1.0: 32055, 0.0: 183}),\n",
       " '0.95': Counter({1.0: 32048, 0.0: 190}),\n",
       " '0.96': Counter({1.0: 32029, 0.0: 209}),\n",
       " '0.97': Counter({1.0: 31983, 0.0: 255}),\n",
       " '0.98': Counter({1.0: 31878, 0.0: 360}),\n",
       " '0.99': Counter({1.0: 31196, 0.0: 1042})}"
      ]
     },
     "execution_count": 33,
     "metadata": {},
     "output_type": "execute_result"
    }
   ],
   "source": [
    "counter_threshold"
   ]
  },
  {
   "cell_type": "code",
   "execution_count": null,
   "metadata": {},
   "outputs": [],
   "source": [
    "[x for x in myCounter.values() if x > threshold]"
   ]
  },
  {
   "cell_type": "code",
   "execution_count": 28,
   "metadata": {},
   "outputs": [
    {
     "name": "stderr",
     "output_type": "stream",
     "text": [
      "32238it [00:00, 1053970.41it/s]"
     ]
    },
    {
     "name": "stdout",
     "output_type": "stream",
     "text": [
      "actual_total_parts[i] =21.0\n",
      "size =25704\n",
      "threshold = 2570.4\n",
      "myCounter = Counter({0: 10388, 1: 7561, 2: 2544, 5: 1845, 7: 1458, 4: 923, 3: 425, 9: 242, 6: 115, 8: 113, 10: 30, 19: 13, 14: 11, 11: 7, 18: 7, 12: 5, 15: 5, 13: 3, 16: 3, 17: 3, 20: 3})\n",
      "myConter list = [10388, 7561]\n"
     ]
    },
    {
     "name": "stderr",
     "output_type": "stream",
     "text": [
      "\n"
     ]
    }
   ],
   "source": [
    "#checking that working correctly\n",
    "for i,(k,n) in tqdm(enumerate(neurite_neighbors.items())):\n",
    "    if k == \"648518346349507130\":\n",
    "        actual_total_parts[i] = n[0]\n",
    "        print(\"actual_total_parts[i] =\" + str(actual_total_parts[i]))\n",
    "\n",
    "        #calculate the actual threshold\n",
    "        size = n[2]\n",
    "        print(\"size =\" + str(size))\n",
    "\n",
    "        threshold = threshold_size*size\n",
    "        print(\"threshold = \" + str(threshold))\n",
    "\n",
    "        #get the counter\n",
    "        myCounter = n[3]\n",
    "        print('myCounter = ' + str(myCounter))\n",
    "        print(\"myConter list = \" + str([x for x in myCounter.values() if x > threshold]))\n",
    "\n",
    "        total_neighbors_threshold = len([x for x in myCounter.values() if x > threshold])\n",
    "        actual_total_parts_above_threshold[i] = total_neighbors_threshold\n",
    "\n",
    "        #store all the values in the new dictionary: total, number above threshold, size, counter\n",
    "        actual_neurite_neighbors[str(k)] = [actual_total_parts[i],total_neighbors_threshold,size,myCounter]\n"
   ]
  },
  {
   "cell_type": "code",
   "execution_count": 29,
   "metadata": {},
   "outputs": [
    {
     "name": "stdout",
     "output_type": "stream",
     "text": [
      "[21.0, 2, 25704, Counter({0: 10388, 1: 7561, 2: 2544, 5: 1845, 7: 1458, 4: 923, 3: 425, 9: 242, 6: 115, 8: 113, 10: 30, 19: 13, 14: 11, 11: 7, 18: 7, 12: 5, 15: 5, 13: 3, 16: 3, 17: 3, 20: 3})]\n",
      "2570.4\n",
      "2\n",
      "2\n"
     ]
    }
   ],
   "source": [
    "#checking the axon neuron:\n",
    "ID = 648518346349507130\n",
    "print(actual_neurite_neighbors[str(ID)])\n",
    "threshold = actual_neurite_neighbors[str(ID)][2]*0.1\n",
    "print(threshold)\n",
    "print(actual_neurite_neighbors[str(ID)][1])\n",
    "\n",
    "myCounter = actual_neurite_neighbors[str(ID)][3]\n",
    "total_neighbors_threshold = len([x for x in myCounter.values() if x > threshold])\n",
    "print(total_neighbors_threshold)"
   ]
  },
  {
   "cell_type": "code",
   "execution_count": null,
   "metadata": {},
   "outputs": [],
   "source": [
    "#checking everything went correctly:\n",
    "#neurite_neighbors[\"648518346341352004\"]\n",
    "\n",
    "key[\"segment_id\"] = 648518346341352004\n",
    "mesh_neuron = (ta3p100.Mesh() & key).fetch1()\n",
    "#store the mesh in a trimesh_object\n",
    "mesh = trimesh_io.Mesh(vertices=mesh_neuron[\"vertices\"], faces=mesh_neuron[\"triangles\"])\n",
    "\n",
    "#get the count and labels\n",
    "count, labels = trimesh_io.trimesh.graph.csgraph.connected_components(\n",
    "mesh.edges_sparse,\n",
    "directed=False,\n",
    "return_labels=True)\n",
    "\n",
    "#store the number of components\n",
    "total_neighbors = count\n",
    "#total_parts[i] = total_neighbors\n",
    "\n",
    "\n",
    "\n",
    "myCounter = Counter(labels)\n",
    "total_neighbors_threshold = len([x for x in myCounter.values() if x > threshold])\n",
    "#total_parts_above_threshold[i] = total_neighbors_threshold\n",
    "\n",
    "new_dict = dict()\n",
    "new_dict[\"648518346341352004\"] = [total_neighbors,total_neighbors_threshold,myCounter]\n",
    "#get the number above a certain threshold\n",
    "#neurite_neighbors[str(neurite)] = [total_neighbors,total_neighbors_threshold]\n",
    "\n"
   ]
  },
  {
   "cell_type": "code",
   "execution_count": null,
   "metadata": {},
   "outputs": [],
   "source": [
    "ta3p100.NeuronR"
   ]
  }
 ],
 "metadata": {
  "kernelspec": {
   "display_name": "Python 3",
   "language": "python",
   "name": "python3"
  },
  "language_info": {
   "codemirror_mode": {
    "name": "ipython",
    "version": 3
   },
   "file_extension": ".py",
   "mimetype": "text/x-python",
   "name": "python",
   "nbconvert_exporter": "python",
   "pygments_lexer": "ipython3",
   "version": "3.6.5"
  }
 },
 "nbformat": 4,
 "nbformat_minor": 2
}
