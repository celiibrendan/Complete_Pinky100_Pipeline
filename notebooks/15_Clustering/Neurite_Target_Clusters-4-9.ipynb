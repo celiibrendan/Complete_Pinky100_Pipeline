{
 "cells": [
  {
   "cell_type": "code",
   "execution_count": 1,
   "metadata": {},
   "outputs": [
    {
     "data": {
      "text/plain": [
       "' To Do List\\n1)Find suitable groups based on spining data\\n2)Fins theh x,y,z distribution for all of the neurites\\nFind the length distribution for all of the neurites\\nFind the volume distribution for all of the neurites\\nFind the x, y, z distribution for all of the spining groups\\nFor For all spining groups:\\nTake out the dendrite numbers and filter by size\\nDo heat map of compartments\\n\\n\\n'"
      ]
     },
     "execution_count": 1,
     "metadata": {},
     "output_type": "execute_result"
    }
   ],
   "source": [
    "\"\"\" To Do List\n",
    "1)Find suitable groups based on spining data\n",
    "2)Fins theh x,y,z distribution for all of the neurites\n",
    "Find the length distribution for all of the neurites\n",
    "Find the volume distribution for all of the neurites\n",
    "Find the x, y, z distribution for all of the spining groups\n",
    "For For all spining groups:\n",
    "Take out the dendrite numbers and filter by size\n",
    "Do heat map of compartments\n",
    "\n",
    "\n",
    "\"\"\""
   ]
  },
  {
   "cell_type": "code",
   "execution_count": 2,
   "metadata": {},
   "outputs": [],
   "source": [
    "import datajoint as dj\n",
    "import numpy as np\n",
    "import time\n",
    "\n",
    "from meshparty import trimesh_io\n",
    "import pandas as pd\n",
    "import seaborn as sns\n",
    "sns.set() #sets the asethetics parameters in what set"
   ]
  },
  {
   "cell_type": "code",
   "execution_count": 3,
   "metadata": {},
   "outputs": [
    {
     "name": "stdout",
     "output_type": "stream",
     "text": [
      "Connecting celiib@10.28.0.34:3306\n"
     ]
    }
   ],
   "source": [
    "#setting the address and the username\n",
    "dj.config['database.host'] = '10.28.0.34'\n",
    "dj.config['database.user'] = 'celiib'\n",
    "dj.config['database.password'] = 'newceliipass'\n",
    "dj.config['safemode']=True\n",
    "dj.config[\"display.limit\"] = 20\n",
    "\n",
    "schema = dj.schema('microns_ta3p100')\n",
    "ta3p100 = dj.create_virtual_module('ta3p100', 'microns_ta3p100')\n"
   ]
  },
  {
   "cell_type": "code",
   "execution_count": null,
   "metadata": {},
   "outputs": [],
   "source": [
    "#ta3p100.NeuriteTargetsRevised.describe()"
   ]
  },
  {
   "cell_type": "code",
   "execution_count": null,
   "metadata": {},
   "outputs": [],
   "source": [
    "#NeuriteTargets was recomputed from the NeuriteRevised list\n",
    "len(ta3p100.NeuriteTargetsRevised() & \"spine_num<total\"),len(ta3p100.NeuriteTargetsRevised() )"
   ]
  },
  {
   "cell_type": "code",
   "execution_count": null,
   "metadata": {},
   "outputs": [],
   "source": [
    "ta3p100.NeuriteTargetsRevised()"
   ]
  },
  {
   "cell_type": "code",
   "execution_count": 4,
   "metadata": {},
   "outputs": [
    {
     "data": {
      "text/html": [
       "\n",
       "        \n",
       "        <style type=\"text/css\">\n",
       "            .Relation{\n",
       "                border-collapse:collapse;\n",
       "            }\n",
       "            .Relation th{\n",
       "                background: #A0A0A0; color: #ffffff; padding:4px; border:#f0e0e0 1px solid;\n",
       "                font-weight: normal; font-family: monospace; font-size: 100%;\n",
       "            }\n",
       "            .Relation td{\n",
       "                padding:4px; border:#f0e0e0 1px solid; font-size:100%;\n",
       "            }\n",
       "            .Relation tr:nth-child(odd){\n",
       "                background: #ffffff;\n",
       "            }\n",
       "            .Relation tr:nth-child(even){\n",
       "                background: #f3f1ff;\n",
       "            }\n",
       "            /* Tooltip container */\n",
       "            .djtooltip {\n",
       "            }\n",
       "            /* Tooltip text */\n",
       "            .djtooltip .djtooltiptext {\n",
       "                visibility: hidden;\n",
       "                width: 120px;\n",
       "                background-color: black;\n",
       "                color: #fff;\n",
       "                text-align: center;\n",
       "                padding: 5px 0;\n",
       "                border-radius: 6px;\n",
       "                /* Position the tooltip text - see examples below! */\n",
       "                position: absolute;\n",
       "                z-index: 1;\n",
       "            }\n",
       "            #primary {\n",
       "                font-weight: bold;\n",
       "                color: black;\n",
       "            }\n",
       "\n",
       "            #nonprimary {\n",
       "                font-weight: normal;\n",
       "                color: white;\n",
       "            }\n",
       "\n",
       "            /* Show the tooltip text when you mouse over the tooltip container */\n",
       "            .djtooltip:hover .djtooltiptext {\n",
       "                visibility: visible;\n",
       "            }\n",
       "        </style>\n",
       "        \n",
       "        \n",
       "            <div style=\"max-height:1000px;max-width:1500px;overflow:auto;\">\n",
       "            <table border=\"1\" class=\"Relation\">\n",
       "                <thead> <tr style=\"text-align: right;\"> <th> <div class=\"djtooltip\">\n",
       "                                <p id=\"primary\">segmentation</p>\n",
       "                                <span class=\"djtooltiptext\">segmentation id</span>\n",
       "                            </div></th><th><div class=\"djtooltip\">\n",
       "                                <p id=\"primary\">segment_id</p>\n",
       "                                <span class=\"djtooltiptext\">segment id unique within each Segmentation</span>\n",
       "                            </div></th><th><div class=\"djtooltip\">\n",
       "                                <p id=\"nonprimary\">spine_head_prop</p>\n",
       "                                <span class=\"djtooltiptext\">calculated attribute</span>\n",
       "                            </div></th><th><div class=\"djtooltip\">\n",
       "                                <p id=\"nonprimary\">shaft_prop</p>\n",
       "                                <span class=\"djtooltiptext\">calculated attribute</span>\n",
       "                            </div></th><th><div class=\"djtooltip\">\n",
       "                                <p id=\"nonprimary\">soma_prop</p>\n",
       "                                <span class=\"djtooltiptext\">calculated attribute</span>\n",
       "                            </div></th><th><div class=\"djtooltip\">\n",
       "                                <p id=\"nonprimary\">axon_prop</p>\n",
       "                                <span class=\"djtooltiptext\">calculated attribute</span>\n",
       "                            </div></th><th><div class=\"djtooltip\">\n",
       "                                <p id=\"nonprimary\">total</p>\n",
       "                                <span class=\"djtooltiptext\">calculated attribute</span>\n",
       "                            </div> </th> </tr> </thead>\n",
       "                <tbody> <tr> <td>2</td>\n",
       "<td>648518346341351467</td>\n",
       "<td>1.0</td>\n",
       "<td>0.0</td>\n",
       "<td>0.0</td>\n",
       "<td>0.0</td>\n",
       "<td>5.0</td></tr><tr><td>2</td>\n",
       "<td>648518346341351503</td>\n",
       "<td>1.0</td>\n",
       "<td>0.0</td>\n",
       "<td>0.0</td>\n",
       "<td>0.0</td>\n",
       "<td>5.0</td></tr><tr><td>2</td>\n",
       "<td>648518346341351508</td>\n",
       "<td>0.25</td>\n",
       "<td>0.25</td>\n",
       "<td>0.5</td>\n",
       "<td>0.0</td>\n",
       "<td>4.0</td></tr><tr><td>2</td>\n",
       "<td>648518346341351509</td>\n",
       "<td>1.0000000173846881</td>\n",
       "<td>0.0</td>\n",
       "<td>0.0</td>\n",
       "<td>0.0</td>\n",
       "<td>6.0</td></tr><tr><td>2</td>\n",
       "<td>648518346341351512</td>\n",
       "<td>0.8750000157160684</td>\n",
       "<td>0.1250000010477379</td>\n",
       "<td>0.0</td>\n",
       "<td>0.0</td>\n",
       "<td>8.0</td></tr><tr><td>2</td>\n",
       "<td>648518346341351514</td>\n",
       "<td>1.0</td>\n",
       "<td>0.0</td>\n",
       "<td>0.0</td>\n",
       "<td>0.0</td>\n",
       "<td>6.0</td></tr><tr><td>2</td>\n",
       "<td>648518346341351518</td>\n",
       "<td>1.0</td>\n",
       "<td>0.0</td>\n",
       "<td>0.0</td>\n",
       "<td>0.0</td>\n",
       "<td>4.0</td></tr><tr><td>2</td>\n",
       "<td>648518346341351523</td>\n",
       "<td>1.0</td>\n",
       "<td>0.0</td>\n",
       "<td>0.0</td>\n",
       "<td>0.0</td>\n",
       "<td>3.0</td></tr><tr><td>2</td>\n",
       "<td>648518346341351525</td>\n",
       "<td>0.8749999883584678</td>\n",
       "<td>0.12500000232830644</td>\n",
       "<td>0.0</td>\n",
       "<td>0.0</td>\n",
       "<td>8.0</td></tr><tr><td>2</td>\n",
       "<td>648518346341351531</td>\n",
       "<td>1.0</td>\n",
       "<td>0.0</td>\n",
       "<td>0.0</td>\n",
       "<td>0.0</td>\n",
       "<td>3.0</td></tr><tr><td>2</td>\n",
       "<td>648518346341351545</td>\n",
       "<td>1.0</td>\n",
       "<td>0.0</td>\n",
       "<td>0.0</td>\n",
       "<td>0.0</td>\n",
       "<td>3.0</td></tr><tr><td>2</td>\n",
       "<td>648518346341351631</td>\n",
       "<td>0.909090931504226</td>\n",
       "<td>0.09090908610623727</td>\n",
       "<td>0.0</td>\n",
       "<td>0.0</td>\n",
       "<td>11.0</td></tr><tr><td>2</td>\n",
       "<td>648518346341351638</td>\n",
       "<td>1.0</td>\n",
       "<td>0.0</td>\n",
       "<td>0.0</td>\n",
       "<td>0.0</td>\n",
       "<td>2.0</td></tr><tr><td>2</td>\n",
       "<td>648518346341351695</td>\n",
       "<td>1.000000049670538</td>\n",
       "<td>0.0</td>\n",
       "<td>0.0</td>\n",
       "<td>0.0</td>\n",
       "<td>3.0</td></tr><tr><td>2</td>\n",
       "<td>648518346341351710</td>\n",
       "<td>0.5000000093132257</td>\n",
       "<td>0.5000000093132257</td>\n",
       "<td>0.0</td>\n",
       "<td>0.0</td>\n",
       "<td>4.0</td></tr><tr><td>2</td>\n",
       "<td>648518346341351713</td>\n",
       "<td>1.0</td>\n",
       "<td>0.0</td>\n",
       "<td>0.0</td>\n",
       "<td>0.0</td>\n",
       "<td>6.0</td></tr><tr><td>2</td>\n",
       "<td>648518346341351718</td>\n",
       "<td>0.6666666666666666</td>\n",
       "<td>0.3333333333333333</td>\n",
       "<td>0.0</td>\n",
       "<td>0.0</td>\n",
       "<td>3.0</td></tr><tr><td>2</td>\n",
       "<td>648518346341351719</td>\n",
       "<td>1.0</td>\n",
       "<td>0.0</td>\n",
       "<td>0.0</td>\n",
       "<td>0.0</td>\n",
       "<td>5.0</td></tr><tr><td>2</td>\n",
       "<td>648518346341351722</td>\n",
       "<td>1.0000000447034842</td>\n",
       "<td>0.0</td>\n",
       "<td>0.0</td>\n",
       "<td>0.0</td>\n",
       "<td>2.0</td></tr><tr><td>2</td>\n",
       "<td>648518346341351731</td>\n",
       "<td>0.6666666666666666</td>\n",
       "<td>0.3333333333333333</td>\n",
       "<td>0.0</td>\n",
       "<td>0.0</td>\n",
       "<td>3.0</td> </tr> </tbody>\n",
       "            </table>\n",
       "            <p>...</p>\n",
       "            <p>31966 tuples</p></div>\n",
       "            "
      ],
      "text/plain": [
       "*segmentation  *segment_id    spine_head_pro shaft_prop     soma_prop     axon_prop     total    \n",
       "+------------+ +------------+ +------------+ +------------+ +-----------+ +-----------+ +-------+\n",
       "2              64851834634135 1.0            0.0            0.0           0.0           5.0      \n",
       "2              64851834634135 1.0            0.0            0.0           0.0           5.0      \n",
       "2              64851834634135 0.25           0.25           0.5           0.0           4.0      \n",
       "2              64851834634135 1.000000017384 0.0            0.0           0.0           6.0      \n",
       "2              64851834634135 0.875000015716 0.125000001047 0.0           0.0           8.0      \n",
       "2              64851834634135 1.0            0.0            0.0           0.0           6.0      \n",
       "2              64851834634135 1.0            0.0            0.0           0.0           4.0      \n",
       "2              64851834634135 1.0            0.0            0.0           0.0           3.0      \n",
       "2              64851834634135 0.874999988358 0.125000002328 0.0           0.0           8.0      \n",
       "2              64851834634135 1.0            0.0            0.0           0.0           3.0      \n",
       "2              64851834634135 1.0            0.0            0.0           0.0           3.0      \n",
       "2              64851834634135 0.909090931504 0.090909086106 0.0           0.0           11.0     \n",
       "2              64851834634135 1.0            0.0            0.0           0.0           2.0      \n",
       "2              64851834634135 1.000000049670 0.0            0.0           0.0           3.0      \n",
       "2              64851834634135 0.500000009313 0.500000009313 0.0           0.0           4.0      \n",
       "2              64851834634135 1.0            0.0            0.0           0.0           6.0      \n",
       "2              64851834634135 0.666666666666 0.333333333333 0.0           0.0           3.0      \n",
       "2              64851834634135 1.0            0.0            0.0           0.0           5.0      \n",
       "2              64851834634135 1.000000044703 0.0            0.0           0.0           2.0      \n",
       "2              64851834634135 0.666666666666 0.333333333333 0.0           0.0           3.0      \n",
       "   ...\n",
       " (31966 tuples)"
      ]
     },
     "execution_count": 4,
     "metadata": {},
     "output_type": "execute_result"
    }
   ],
   "source": [
    "#creates the table with spine data without the spine label\n",
    "#how to filter out the spine proportion\n",
    "\n",
    "#have to first remove the ones that have only spine synapses\n",
    "\n",
    "\n",
    "neurite_targets_no_spine = (ta3p100.NeuriteTargetsRevised() & \"(spine_num + spine_neck_num) <total\").proj(\n",
    "                                                         spine_head_prop=\"spine_head_prop/(1-spine_prop - spine_neck_prop)\",\n",
    "                                                         shaft_prop=\"shaft_prop/(1-spine_prop - spine_neck_prop)\",\n",
    "                                                         #non_spine_prop=\"non_spine_prop/(1-spine_prop - spine_neck_prop)\",\n",
    "                                                         soma_prop = \"soma_prop/(1-spine_prop - spine_neck_prop)\",\n",
    "                                                         axon_prop = \"axon_prop/(1-spine_prop - spine_neck_prop)\",\n",
    "                                                         total=\"total-spine_num - spine_neck_num\",\n",
    "                                            )\n",
    "\n",
    "neurite_targets_no_spine\n",
    "\n"
   ]
  },
  {
   "cell_type": "code",
   "execution_count": 5,
   "metadata": {},
   "outputs": [
    {
     "name": "stdout",
     "output_type": "stream",
     "text": [
      "31966\n",
      "886\n",
      "1624\n",
      "3128\n",
      "6268\n"
     ]
    }
   ],
   "source": [
    "#different lengths based on the number of synapses threshold\n",
    "\n",
    "print(len(neurite_targets_no_spine))\n",
    "print(len(neurite_targets_no_spine & \"total>12\"))\n",
    "print(len(neurite_targets_no_spine & \"total>10\")) \n",
    "print(len(neurite_targets_no_spine & \"total>8\")) \n",
    "print(len(neurite_targets_no_spine & \"total>6\")) "
   ]
  },
  {
   "cell_type": "markdown",
   "metadata": {},
   "source": [
    "# Manually seperating the groups into: Axon, Soma, Head, Shaft"
   ]
  },
  {
   "cell_type": "code",
   "execution_count": 6,
   "metadata": {},
   "outputs": [
    {
     "name": "stdout",
     "output_type": "stream",
     "text": [
      "Total in neurite table with greater than 6 synapses = 6268\n"
     ]
    }
   ],
   "source": [
    "neurite_targets_no_spine_6 = (neurite_targets_no_spine & \"total>6\")\n",
    "print(\"Total in neurite table with greater than 6 synapses = \" + str(len(neurite_targets_no_spine_6)))"
   ]
  },
  {
   "cell_type": "code",
   "execution_count": 7,
   "metadata": {},
   "outputs": [
    {
     "data": {
      "text/plain": [
       "<matplotlib.axes._subplots.AxesSubplot at 0x7f3499a49c88>"
      ]
     },
     "execution_count": 7,
     "metadata": {},
     "output_type": "execute_result"
    },
    {
     "data": {
      "image/png": "[encoded data removed]",
      "text/plain": [
       "<Figure size 432x288 with 1 Axes>"
      ]
     },
     "metadata": {},
     "output_type": "display_data"
    }
   ],
   "source": [
    "#show the distribution\n",
    "axon_prop = neurite_targets_no_spine_6.fetch(\"axon_prop\")\n",
    "axon_prop\n",
    "axon_greater_0_array = axon_prop[axon_prop.astype(\"float\") > 0]\n",
    "sns.distplot(axon_greater_0_array.astype(\"float\"))"
   ]
  },
  {
   "cell_type": "code",
   "execution_count": 10,
   "metadata": {},
   "outputs": [
    {
     "data": {
      "text/plain": [
       "<matplotlib.axes._subplots.AxesSubplot at 0x7f349987e668>"
      ]
     },
     "execution_count": 10,
     "metadata": {},
     "output_type": "execute_result"
    },
    {
     "data": {
      "image/png": "[encoded data removed]",
      "text/plain": [
       "<Figure size 432x288 with 1 Axes>"
      ]
     },
     "metadata": {},
     "output_type": "display_data"
    }
   ],
   "source": [
    "#show the distribution\n",
    "soma_prop = (neurite_targets_no_spine_6 ).fetch(\"soma_prop\")\n",
    "soma_prop\n",
    "soma_greater_0_array = soma_prop[soma_prop.astype(\"float\") > 0]\n",
    "sns.distplot(soma_greater_0_array.astype(\"float\"))"
   ]
  },
  {
   "cell_type": "code",
   "execution_count": 11,
   "metadata": {},
   "outputs": [
    {
     "name": "stdout",
     "output_type": "stream",
     "text": [
      "Axon group = 186\n",
      "Soma group = 501\n"
     ]
    }
   ],
   "source": [
    "#manually find the groups\n",
    "axon_group = neurite_targets_no_spine_6 & \"axon_prop>0\"\n",
    "print(\"Axon group = \" + str(len(axon_group)))\n",
    "soma_group = (neurite_targets_no_spine_6 - axon_group.proj()) & \"soma_prop>=0.25\"\n",
    "print(\"Soma group = \" + str(len(soma_group)))"
   ]
  },
  {
   "cell_type": "code",
   "execution_count": 12,
   "metadata": {},
   "outputs": [
    {
     "data": {
      "text/plain": [
       "0.8903956604977664"
      ]
     },
     "execution_count": 12,
     "metadata": {},
     "output_type": "execute_result"
    }
   ],
   "source": [
    "#remove the axon and soma groups\n",
    "neurite_targets_no_spine_6_without_axon_soma = neurite_targets_no_spine_6 - axon_group.proj() - soma_group.proj()\n",
    "len(neurite_targets_no_spine_6_without_axon_soma)/len(neurite_targets_no_spine_6)"
   ]
  },
  {
   "cell_type": "code",
   "execution_count": 13,
   "metadata": {},
   "outputs": [],
   "source": [
    "#get heatmap of the data\n",
    "\n",
    "neurite_spine_data = neurite_targets_no_spine_6_without_axon_soma.fetch(as_dict=True)\n",
    "\n",
    "spine_df = pd.DataFrame(neurite_spine_data)\n",
    "spine_df_base = spine_df.drop(columns=['segmentation', 'segment_id',\"total\",\"axon_prop\",\"soma_prop\"])\n",
    "#spine_df_base"
   ]
  },
  {
   "cell_type": "code",
   "execution_count": 14,
   "metadata": {},
   "outputs": [
    {
     "data": {
      "text/html": [
       "<div>\n",
       "<style scoped>\n",
       "    .dataframe tbody tr th:only-of-type {\n",
       "        vertical-align: middle;\n",
       "    }\n",
       "\n",
       "    .dataframe tbody tr th {\n",
       "        vertical-align: top;\n",
       "    }\n",
       "\n",
       "    .dataframe thead th {\n",
       "        text-align: right;\n",
       "    }\n",
       "</style>\n",
       "<table border=\"1\" class=\"dataframe\">\n",
       "  <thead>\n",
       "    <tr style=\"text-align: right;\">\n",
       "      <th></th>\n",
       "      <th>spine_head_prop</th>\n",
       "      <th>shaft_prop</th>\n",
       "    </tr>\n",
       "  </thead>\n",
       "  <tbody>\n",
       "    <tr>\n",
       "      <th>4034</th>\n",
       "      <td>1.0</td>\n",
       "      <td>0.0</td>\n",
       "    </tr>\n",
       "    <tr>\n",
       "      <th>172</th>\n",
       "      <td>1.0</td>\n",
       "      <td>0.0</td>\n",
       "    </tr>\n",
       "    <tr>\n",
       "      <th>1294</th>\n",
       "      <td>1.0</td>\n",
       "      <td>0.0</td>\n",
       "    </tr>\n",
       "    <tr>\n",
       "      <th>2516</th>\n",
       "      <td>1.0</td>\n",
       "      <td>0.0</td>\n",
       "    </tr>\n",
       "    <tr>\n",
       "      <th>3319</th>\n",
       "      <td>1.0</td>\n",
       "      <td>0.0</td>\n",
       "    </tr>\n",
       "    <tr>\n",
       "      <th>3606</th>\n",
       "      <td>1.0</td>\n",
       "      <td>0.0</td>\n",
       "    </tr>\n",
       "    <tr>\n",
       "      <th>3358</th>\n",
       "      <td>1.0</td>\n",
       "      <td>0.0</td>\n",
       "    </tr>\n",
       "    <tr>\n",
       "      <th>661</th>\n",
       "      <td>1.0</td>\n",
       "      <td>0.0</td>\n",
       "    </tr>\n",
       "    <tr>\n",
       "      <th>1561</th>\n",
       "      <td>1.0</td>\n",
       "      <td>0.0</td>\n",
       "    </tr>\n",
       "    <tr>\n",
       "      <th>3</th>\n",
       "      <td>1.0</td>\n",
       "      <td>0.0</td>\n",
       "    </tr>\n",
       "    <tr>\n",
       "      <th>14</th>\n",
       "      <td>1.0</td>\n",
       "      <td>0.0</td>\n",
       "    </tr>\n",
       "    <tr>\n",
       "      <th>102</th>\n",
       "      <td>1.0</td>\n",
       "      <td>0.0</td>\n",
       "    </tr>\n",
       "    <tr>\n",
       "      <th>665</th>\n",
       "      <td>1.0</td>\n",
       "      <td>0.0</td>\n",
       "    </tr>\n",
       "    <tr>\n",
       "      <th>906</th>\n",
       "      <td>1.0</td>\n",
       "      <td>0.0</td>\n",
       "    </tr>\n",
       "    <tr>\n",
       "      <th>1526</th>\n",
       "      <td>1.0</td>\n",
       "      <td>0.0</td>\n",
       "    </tr>\n",
       "    <tr>\n",
       "      <th>1910</th>\n",
       "      <td>1.0</td>\n",
       "      <td>0.0</td>\n",
       "    </tr>\n",
       "    <tr>\n",
       "      <th>1951</th>\n",
       "      <td>1.0</td>\n",
       "      <td>0.0</td>\n",
       "    </tr>\n",
       "    <tr>\n",
       "      <th>2049</th>\n",
       "      <td>1.0</td>\n",
       "      <td>0.0</td>\n",
       "    </tr>\n",
       "    <tr>\n",
       "      <th>2263</th>\n",
       "      <td>1.0</td>\n",
       "      <td>0.0</td>\n",
       "    </tr>\n",
       "    <tr>\n",
       "      <th>2728</th>\n",
       "      <td>1.0</td>\n",
       "      <td>0.0</td>\n",
       "    </tr>\n",
       "    <tr>\n",
       "      <th>3108</th>\n",
       "      <td>1.0</td>\n",
       "      <td>0.0</td>\n",
       "    </tr>\n",
       "    <tr>\n",
       "      <th>3128</th>\n",
       "      <td>1.0</td>\n",
       "      <td>0.0</td>\n",
       "    </tr>\n",
       "    <tr>\n",
       "      <th>3843</th>\n",
       "      <td>1.0</td>\n",
       "      <td>0.0</td>\n",
       "    </tr>\n",
       "    <tr>\n",
       "      <th>3923</th>\n",
       "      <td>1.0</td>\n",
       "      <td>0.0</td>\n",
       "    </tr>\n",
       "    <tr>\n",
       "      <th>3924</th>\n",
       "      <td>1.0</td>\n",
       "      <td>0.0</td>\n",
       "    </tr>\n",
       "    <tr>\n",
       "      <th>4157</th>\n",
       "      <td>1.0</td>\n",
       "      <td>0.0</td>\n",
       "    </tr>\n",
       "    <tr>\n",
       "      <th>4344</th>\n",
       "      <td>1.0</td>\n",
       "      <td>0.0</td>\n",
       "    </tr>\n",
       "    <tr>\n",
       "      <th>5075</th>\n",
       "      <td>1.0</td>\n",
       "      <td>0.0</td>\n",
       "    </tr>\n",
       "    <tr>\n",
       "      <th>5325</th>\n",
       "      <td>1.0</td>\n",
       "      <td>0.0</td>\n",
       "    </tr>\n",
       "    <tr>\n",
       "      <th>5332</th>\n",
       "      <td>1.0</td>\n",
       "      <td>0.0</td>\n",
       "    </tr>\n",
       "    <tr>\n",
       "      <th>...</th>\n",
       "      <td>...</td>\n",
       "      <td>...</td>\n",
       "    </tr>\n",
       "    <tr>\n",
       "      <th>5161</th>\n",
       "      <td>0.0</td>\n",
       "      <td>1.0</td>\n",
       "    </tr>\n",
       "    <tr>\n",
       "      <th>5321</th>\n",
       "      <td>0.0</td>\n",
       "      <td>1.0</td>\n",
       "    </tr>\n",
       "    <tr>\n",
       "      <th>5372</th>\n",
       "      <td>0.0</td>\n",
       "      <td>1.0</td>\n",
       "    </tr>\n",
       "    <tr>\n",
       "      <th>5558</th>\n",
       "      <td>0.0</td>\n",
       "      <td>1.0</td>\n",
       "    </tr>\n",
       "    <tr>\n",
       "      <th>5576</th>\n",
       "      <td>0.0</td>\n",
       "      <td>1.0</td>\n",
       "    </tr>\n",
       "    <tr>\n",
       "      <th>4467</th>\n",
       "      <td>0.0</td>\n",
       "      <td>1.0</td>\n",
       "    </tr>\n",
       "    <tr>\n",
       "      <th>4700</th>\n",
       "      <td>0.0</td>\n",
       "      <td>1.0</td>\n",
       "    </tr>\n",
       "    <tr>\n",
       "      <th>4848</th>\n",
       "      <td>0.0</td>\n",
       "      <td>1.0</td>\n",
       "    </tr>\n",
       "    <tr>\n",
       "      <th>4928</th>\n",
       "      <td>0.0</td>\n",
       "      <td>1.0</td>\n",
       "    </tr>\n",
       "    <tr>\n",
       "      <th>5108</th>\n",
       "      <td>0.0</td>\n",
       "      <td>1.0</td>\n",
       "    </tr>\n",
       "    <tr>\n",
       "      <th>5423</th>\n",
       "      <td>0.0</td>\n",
       "      <td>1.0</td>\n",
       "    </tr>\n",
       "    <tr>\n",
       "      <th>5519</th>\n",
       "      <td>0.0</td>\n",
       "      <td>1.0</td>\n",
       "    </tr>\n",
       "    <tr>\n",
       "      <th>1471</th>\n",
       "      <td>0.0</td>\n",
       "      <td>1.0</td>\n",
       "    </tr>\n",
       "    <tr>\n",
       "      <th>2056</th>\n",
       "      <td>0.0</td>\n",
       "      <td>1.0</td>\n",
       "    </tr>\n",
       "    <tr>\n",
       "      <th>1528</th>\n",
       "      <td>0.0</td>\n",
       "      <td>1.0</td>\n",
       "    </tr>\n",
       "    <tr>\n",
       "      <th>307</th>\n",
       "      <td>0.0</td>\n",
       "      <td>1.0</td>\n",
       "    </tr>\n",
       "    <tr>\n",
       "      <th>1870</th>\n",
       "      <td>0.0</td>\n",
       "      <td>1.0</td>\n",
       "    </tr>\n",
       "    <tr>\n",
       "      <th>2122</th>\n",
       "      <td>0.0</td>\n",
       "      <td>1.0</td>\n",
       "    </tr>\n",
       "    <tr>\n",
       "      <th>3135</th>\n",
       "      <td>0.0</td>\n",
       "      <td>1.0</td>\n",
       "    </tr>\n",
       "    <tr>\n",
       "      <th>5537</th>\n",
       "      <td>0.0</td>\n",
       "      <td>1.0</td>\n",
       "    </tr>\n",
       "    <tr>\n",
       "      <th>2572</th>\n",
       "      <td>0.0</td>\n",
       "      <td>1.0</td>\n",
       "    </tr>\n",
       "    <tr>\n",
       "      <th>4525</th>\n",
       "      <td>0.0</td>\n",
       "      <td>1.0</td>\n",
       "    </tr>\n",
       "    <tr>\n",
       "      <th>4563</th>\n",
       "      <td>0.0</td>\n",
       "      <td>1.0</td>\n",
       "    </tr>\n",
       "    <tr>\n",
       "      <th>5151</th>\n",
       "      <td>0.0</td>\n",
       "      <td>1.0</td>\n",
       "    </tr>\n",
       "    <tr>\n",
       "      <th>5393</th>\n",
       "      <td>0.0</td>\n",
       "      <td>1.0</td>\n",
       "    </tr>\n",
       "    <tr>\n",
       "      <th>5414</th>\n",
       "      <td>0.0</td>\n",
       "      <td>1.0</td>\n",
       "    </tr>\n",
       "    <tr>\n",
       "      <th>4307</th>\n",
       "      <td>0.0</td>\n",
       "      <td>1.0</td>\n",
       "    </tr>\n",
       "    <tr>\n",
       "      <th>2278</th>\n",
       "      <td>0.0</td>\n",
       "      <td>1.0</td>\n",
       "    </tr>\n",
       "    <tr>\n",
       "      <th>1210</th>\n",
       "      <td>0.0</td>\n",
       "      <td>1.0</td>\n",
       "    </tr>\n",
       "    <tr>\n",
       "      <th>4676</th>\n",
       "      <td>0.0</td>\n",
       "      <td>1.0</td>\n",
       "    </tr>\n",
       "  </tbody>\n",
       "</table>\n",
       "<p>5581 rows × 2 columns</p>\n",
       "</div>"
      ],
      "text/plain": [
       "      spine_head_prop  shaft_prop\n",
       "4034              1.0         0.0\n",
       "172               1.0         0.0\n",
       "1294              1.0         0.0\n",
       "2516              1.0         0.0\n",
       "3319              1.0         0.0\n",
       "3606              1.0         0.0\n",
       "3358              1.0         0.0\n",
       "661               1.0         0.0\n",
       "1561              1.0         0.0\n",
       "3                 1.0         0.0\n",
       "14                1.0         0.0\n",
       "102               1.0         0.0\n",
       "665               1.0         0.0\n",
       "906               1.0         0.0\n",
       "1526              1.0         0.0\n",
       "1910              1.0         0.0\n",
       "1951              1.0         0.0\n",
       "2049              1.0         0.0\n",
       "2263              1.0         0.0\n",
       "2728              1.0         0.0\n",
       "3108              1.0         0.0\n",
       "3128              1.0         0.0\n",
       "3843              1.0         0.0\n",
       "3923              1.0         0.0\n",
       "3924              1.0         0.0\n",
       "4157              1.0         0.0\n",
       "4344              1.0         0.0\n",
       "5075              1.0         0.0\n",
       "5325              1.0         0.0\n",
       "5332              1.0         0.0\n",
       "...               ...         ...\n",
       "5161              0.0         1.0\n",
       "5321              0.0         1.0\n",
       "5372              0.0         1.0\n",
       "5558              0.0         1.0\n",
       "5576              0.0         1.0\n",
       "4467              0.0         1.0\n",
       "4700              0.0         1.0\n",
       "4848              0.0         1.0\n",
       "4928              0.0         1.0\n",
       "5108              0.0         1.0\n",
       "5423              0.0         1.0\n",
       "5519              0.0         1.0\n",
       "1471              0.0         1.0\n",
       "2056              0.0         1.0\n",
       "1528              0.0         1.0\n",
       "307               0.0         1.0\n",
       "1870              0.0         1.0\n",
       "2122              0.0         1.0\n",
       "3135              0.0         1.0\n",
       "5537              0.0         1.0\n",
       "2572              0.0         1.0\n",
       "4525              0.0         1.0\n",
       "4563              0.0         1.0\n",
       "5151              0.0         1.0\n",
       "5393              0.0         1.0\n",
       "5414              0.0         1.0\n",
       "4307              0.0         1.0\n",
       "2278              0.0         1.0\n",
       "1210              0.0         1.0\n",
       "4676              0.0         1.0\n",
       "\n",
       "[5581 rows x 2 columns]"
      ]
     },
     "execution_count": 14,
     "metadata": {},
     "output_type": "execute_result"
    }
   ],
   "source": [
    "#sort by the first column and then do heat map\n",
    "spine_df_base_head_shaft_sort = spine_df_base.sort_values(['spine_head_prop','shaft_prop'], ascending=[False,True])\n",
    "spine_df_base_head_shaft_sort"
   ]
  },
  {
   "cell_type": "code",
   "execution_count": 15,
   "metadata": {},
   "outputs": [
    {
     "data": {
      "image/png": "[encoded data removed]",
      "text/plain": [
       "<Figure size 432x288 with 2 Axes>"
      ]
     },
     "metadata": {},
     "output_type": "display_data"
    }
   ],
   "source": [
    "#heat map of spine heads\n",
    "spine_head_shaft_sort = sns.heatmap(spine_df_base_head_shaft_sort)"
   ]
  },
  {
   "cell_type": "code",
   "execution_count": 17,
   "metadata": {},
   "outputs": [
    {
     "data": {
      "text/plain": [
       "4642"
      ]
     },
     "execution_count": 17,
     "metadata": {},
     "output_type": "execute_result"
    }
   ],
   "source": [
    "#making the head group\n",
    "head_group = neurite_targets_no_spine_6_without_axon_soma & \"spine_head_prop >=0.6\"\n",
    "len(head_group)"
   ]
  },
  {
   "cell_type": "code",
   "execution_count": 18,
   "metadata": {},
   "outputs": [
    {
     "data": {
      "image/png": "[encoded data removed]",
      "text/plain": [
       "<Figure size 432x288 with 2 Axes>"
      ]
     },
     "metadata": {},
     "output_type": "display_data"
    }
   ],
   "source": [
    "#heat map of spine heads\n",
    "spine_shaft = spine_df_base_head_shaft_sort[spine_df_base_head_shaft_sort[\"spine_head_prop\"]<0.6].sort_values(\"shaft_prop\",ascending=True)\n",
    "#spine_df_base_head_shaft_sort = spine_df_base.sort_values(['spine_head_prop','shaft_prop'], ascending=[False,True])\n",
    "spine_head_shaft_sort = sns.heatmap(spine_shaft)"
   ]
  },
  {
   "cell_type": "code",
   "execution_count": 19,
   "metadata": {},
   "outputs": [
    {
     "data": {
      "text/plain": [
       "783"
      ]
     },
     "execution_count": 19,
     "metadata": {},
     "output_type": "execute_result"
    }
   ],
   "source": [
    "#making the shaft group\n",
    "shaft_group = (neurite_targets_no_spine_6_without_axon_soma & \"shaft_prop >=0.5\") - head_group.proj()\n",
    "len(shaft_group)"
   ]
  },
  {
   "cell_type": "code",
   "execution_count": 20,
   "metadata": {},
   "outputs": [],
   "source": [
    "unused = neurite_targets_no_spine_6_without_axon_soma - head_group.proj() - shaft_group.proj()"
   ]
  },
  {
   "cell_type": "code",
   "execution_count": 22,
   "metadata": {},
   "outputs": [
    {
     "name": "stdout",
     "output_type": "stream",
     "text": [
      "501 186 4642 783 156\n",
      "6268\n"
     ]
    }
   ],
   "source": [
    "print(len(soma_group),len(axon_group),len(head_group),len(shaft_group),len(unused))\n",
    "print(sum([len(soma_group),len(axon_group),len(head_group),len(shaft_group),len(unused)]))"
   ]
  },
  {
   "cell_type": "code",
   "execution_count": 23,
   "metadata": {},
   "outputs": [
    {
     "name": "stdout",
     "output_type": "stream",
     "text": [
      "6268\n"
     ]
    }
   ],
   "source": [
    "print(len(neurite_targets_no_spine_6))"
   ]
  },
  {
   "cell_type": "code",
   "execution_count": null,
   "metadata": {},
   "outputs": [],
   "source": [
    "ta3p100.LabelKey.describe()"
   ]
  },
  {
   "cell_type": "code",
   "execution_count": 25,
   "metadata": {},
   "outputs": [
    {
     "name": "stdout",
     "output_type": "stream",
     "text": [
      "`microns_ta3p100`.`#spine_clusters_key` (5 tuples)\n",
      "`microns_ta3p100`.`spine_clusters` (0 tuples)\n"
     ]
    },
    {
     "name": "stdin",
     "output_type": "stream",
     "text": [
      "Proceed? [yes, No]:  yes\n"
     ]
    },
    {
     "name": "stdout",
     "output_type": "stream",
     "text": [
      "Tables dropped.  Restart kernel.\n"
     ]
    }
   ],
   "source": [
    "ta3p100.SpineClustersKey.drop()"
   ]
  },
  {
   "cell_type": "code",
   "execution_count": 26,
   "metadata": {},
   "outputs": [],
   "source": [
    "#look up datajoint table that has the clusters\n",
    "@schema\n",
    "class SpineClustersKey(dj.Lookup):\n",
    "    definition=\"\"\"\n",
    "    cluster_id : tinyint unsigned #numeric label of cluster\n",
    "    ---\n",
    "    description : varchar(16) #descriptive name of cluster\n",
    "    threshold   : float #the proportion cut off for the group based on the category\n",
    "    \"\"\"\n",
    "    "
   ]
  },
  {
   "cell_type": "code",
   "execution_count": 27,
   "metadata": {},
   "outputs": [
    {
     "data": {
      "text/plain": [
       "[{'cluster_id': 0, 'description': 'Soma', 'threshold': 0.25},\n",
       " {'cluster_id': 1, 'description': 'Axon', 'threshold': 0.0001},\n",
       " {'cluster_id': 2, 'description': 'Spine Head', 'threshold': 0.6},\n",
       " {'cluster_id': 3, 'description': 'Shaft', 'threshold': 0.5},\n",
       " {'cluster_id': 4, 'description': 'Unused', 'threshold': 0}]"
      ]
     },
     "execution_count": 27,
     "metadata": {},
     "output_type": "execute_result"
    }
   ],
   "source": [
    "cluster_descriptions = [\"Soma\",\"Axon\",\"Spine Head\",\"Shaft\",\"Unused\"]\n",
    "cluster_thresholds = [0.25,0.0001,0.6,0.5,0]\n",
    "\n",
    "clusters_dict = [dict(cluster_id=i,description=cd,threshold=ct) for i,(cd,ct) in enumerate(zip(cluster_descriptions,cluster_thresholds))]\n",
    "clusters_dict"
   ]
  },
  {
   "cell_type": "code",
   "execution_count": 28,
   "metadata": {},
   "outputs": [],
   "source": [
    "SpineClustersKey.insert(clusters_dict,skip_duplicates=True)"
   ]
  },
  {
   "cell_type": "code",
   "execution_count": null,
   "metadata": {},
   "outputs": [],
   "source": [
    "SpineClustersKey()"
   ]
  },
  {
   "cell_type": "code",
   "execution_count": 35,
   "metadata": {},
   "outputs": [],
   "source": [
    "## Creates the table that holds all of the segment groups\n",
    "@schema\n",
    "class SpineClusters(dj.Manual):\n",
    "    definition=\"\"\"\n",
    "    -> ta3p100.NeuriteRevised\n",
    "    ---\n",
    "    ->SpineClustersKey\n",
    "    \"\"\""
   ]
  },
  {
   "cell_type": "code",
   "execution_count": 33,
   "metadata": {},
   "outputs": [
    {
     "data": {
      "text/html": [
       "\n",
       "        \n",
       "        <style type=\"text/css\">\n",
       "            .Relation{\n",
       "                border-collapse:collapse;\n",
       "            }\n",
       "            .Relation th{\n",
       "                background: #A0A0A0; color: #ffffff; padding:4px; border:#f0e0e0 1px solid;\n",
       "                font-weight: normal; font-family: monospace; font-size: 100%;\n",
       "            }\n",
       "            .Relation td{\n",
       "                padding:4px; border:#f0e0e0 1px solid; font-size:100%;\n",
       "            }\n",
       "            .Relation tr:nth-child(odd){\n",
       "                background: #ffffff;\n",
       "            }\n",
       "            .Relation tr:nth-child(even){\n",
       "                background: #f3f1ff;\n",
       "            }\n",
       "            /* Tooltip container */\n",
       "            .djtooltip {\n",
       "            }\n",
       "            /* Tooltip text */\n",
       "            .djtooltip .djtooltiptext {\n",
       "                visibility: hidden;\n",
       "                width: 120px;\n",
       "                background-color: black;\n",
       "                color: #fff;\n",
       "                text-align: center;\n",
       "                padding: 5px 0;\n",
       "                border-radius: 6px;\n",
       "                /* Position the tooltip text - see examples below! */\n",
       "                position: absolute;\n",
       "                z-index: 1;\n",
       "            }\n",
       "            #primary {\n",
       "                font-weight: bold;\n",
       "                color: black;\n",
       "            }\n",
       "\n",
       "            #nonprimary {\n",
       "                font-weight: normal;\n",
       "                color: white;\n",
       "            }\n",
       "\n",
       "            /* Show the tooltip text when you mouse over the tooltip container */\n",
       "            .djtooltip:hover .djtooltiptext {\n",
       "                visibility: visible;\n",
       "            }\n",
       "        </style>\n",
       "        \n",
       "        \n",
       "            <div style=\"max-height:1000px;max-width:1500px;overflow:auto;\">\n",
       "            <table border=\"1\" class=\"Relation\">\n",
       "                <thead> <tr style=\"text-align: right;\"> <th> <div class=\"djtooltip\">\n",
       "                                <p id=\"primary\">segmentation</p>\n",
       "                                <span class=\"djtooltiptext\">segmentation id</span>\n",
       "                            </div></th><th><div class=\"djtooltip\">\n",
       "                                <p id=\"primary\">segment_id</p>\n",
       "                                <span class=\"djtooltiptext\">segment id unique within each Segmentation</span>\n",
       "                            </div></th><th><div class=\"djtooltip\">\n",
       "                                <p id=\"nonprimary\">cluster_id</p>\n",
       "                                <span class=\"djtooltiptext\">calculated attribute</span>\n",
       "                            </div> </th> </tr> </thead>\n",
       "                <tbody> <tr> <td>2</td>\n",
       "<td>648518346341351904</td>\n",
       "<td>0</td></tr><tr><td>2</td>\n",
       "<td>648518346341352442</td>\n",
       "<td>0</td></tr><tr><td>2</td>\n",
       "<td>648518346341352789</td>\n",
       "<td>0</td></tr><tr><td>2</td>\n",
       "<td>648518346341353247</td>\n",
       "<td>0</td></tr><tr><td>2</td>\n",
       "<td>648518346341353475</td>\n",
       "<td>0</td></tr><tr><td>2</td>\n",
       "<td>648518346341354698</td>\n",
       "<td>0</td></tr><tr><td>2</td>\n",
       "<td>648518346341354845</td>\n",
       "<td>0</td></tr><tr><td>2</td>\n",
       "<td>648518346341355237</td>\n",
       "<td>0</td></tr><tr><td>2</td>\n",
       "<td>648518346341355500</td>\n",
       "<td>0</td></tr><tr><td>2</td>\n",
       "<td>648518346341355509</td>\n",
       "<td>0</td></tr><tr><td>2</td>\n",
       "<td>648518346341355680</td>\n",
       "<td>0</td></tr><tr><td>2</td>\n",
       "<td>648518346341356180</td>\n",
       "<td>0</td></tr><tr><td>2</td>\n",
       "<td>648518346341356306</td>\n",
       "<td>0</td></tr><tr><td>2</td>\n",
       "<td>648518346341356705</td>\n",
       "<td>0</td></tr><tr><td>2</td>\n",
       "<td>648518346341357280</td>\n",
       "<td>0</td></tr><tr><td>2</td>\n",
       "<td>648518346341357401</td>\n",
       "<td>0</td></tr><tr><td>2</td>\n",
       "<td>648518346341357501</td>\n",
       "<td>0</td></tr><tr><td>2</td>\n",
       "<td>648518346341357515</td>\n",
       "<td>0</td></tr><tr><td>2</td>\n",
       "<td>648518346341357721</td>\n",
       "<td>0</td></tr><tr><td>2</td>\n",
       "<td>648518346341358366</td>\n",
       "<td>0</td> </tr> </tbody>\n",
       "            </table>\n",
       "            <p>...</p>\n",
       "            <p>501 tuples</p></div>\n",
       "            "
      ],
      "text/plain": [
       "*segmentation  *segment_id    cluster_id    \n",
       "+------------+ +------------+ +------------+\n",
       "2              64851834634135 0             \n",
       "2              64851834634135 0             \n",
       "2              64851834634135 0             \n",
       "2              64851834634135 0             \n",
       "2              64851834634135 0             \n",
       "2              64851834634135 0             \n",
       "2              64851834634135 0             \n",
       "2              64851834634135 0             \n",
       "2              64851834634135 0             \n",
       "2              64851834634135 0             \n",
       "2              64851834634135 0             \n",
       "2              64851834634135 0             \n",
       "2              64851834634135 0             \n",
       "2              64851834634135 0             \n",
       "2              64851834634135 0             \n",
       "2              64851834634135 0             \n",
       "2              64851834634135 0             \n",
       "2              64851834634135 0             \n",
       "2              64851834634135 0             \n",
       "2              64851834634135 0             \n",
       "   ...\n",
       " (501 tuples)"
      ]
     },
     "execution_count": 33,
     "metadata": {},
     "output_type": "execute_result"
    }
   ],
   "source": [
    "soma_group.proj(cluster_id=\"0\")"
   ]
  },
  {
   "cell_type": "code",
   "execution_count": 32,
   "metadata": {},
   "outputs": [],
   "source": [
    "dict = SpineClustersKey.fetch(as_dict=True)\n",
    "dict"
   ]
  },
  {
   "cell_type": "code",
   "execution_count": 36,
   "metadata": {},
   "outputs": [],
   "source": [
    "possible_groups = [soma_group,axon_group,head_group,shaft_group,unused]\n",
    "descriptors = [0,1,2,3,4]\n",
    "for i,table in enumerate(possible_groups):\n",
    "    new_table = table.proj(cluster_id=str(descriptors[i]))\n",
    "    SpineClusters.insert(new_table,skip_duplicates=True)\n",
    "    "
   ]
  },
  {
   "cell_type": "code",
   "execution_count": 38,
   "metadata": {},
   "outputs": [
    {
     "data": {
      "text/plain": [
       "(501, 186, 4642, 783, 156)"
      ]
     },
     "execution_count": 38,
     "metadata": {},
     "output_type": "execute_result"
    }
   ],
   "source": [
    "(len(SpineClusters() & \"cluster_id=0\"),len(SpineClusters() & \"cluster_id=1\"),\n",
    " len(SpineClusters() & \"cluster_id=2\"),len(SpineClusters() & \"cluster_id=3\"),\n",
    " len(SpineClusters() & \"cluster_id=4\"))"
   ]
  },
  {
   "cell_type": "code",
   "execution_count": 39,
   "metadata": {},
   "outputs": [
    {
     "name": "stdout",
     "output_type": "stream",
     "text": [
      "501 186 4642 783 156\n",
      "6268\n"
     ]
    }
   ],
   "source": [
    "print(len(soma_group),len(axon_group),len(head_group),len(shaft_group),len(unused))\n",
    "print(sum([len(soma_group),len(axon_group),len(head_group),len(shaft_group),len(unused)]))"
   ]
  }
 ],
 "metadata": {
  "kernelspec": {
   "display_name": "Python 3",
   "language": "python",
   "name": "python3"
  },
  "language_info": {
   "codemirror_mode": {
    "name": "ipython",
    "version": 3
   },
   "file_extension": ".py",
   "mimetype": "text/x-python",
   "name": "python",
   "nbconvert_exporter": "python",
   "pygments_lexer": "ipython3",
   "version": "3.6.5"
  }
 },
 "nbformat": 4,
 "nbformat_minor": 2
}
