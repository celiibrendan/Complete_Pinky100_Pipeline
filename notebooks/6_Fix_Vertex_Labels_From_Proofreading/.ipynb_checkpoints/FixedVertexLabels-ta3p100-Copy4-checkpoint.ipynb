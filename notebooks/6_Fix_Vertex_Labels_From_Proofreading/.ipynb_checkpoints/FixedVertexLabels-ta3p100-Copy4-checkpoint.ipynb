{
 "cells": [
  {
   "cell_type": "code",
   "execution_count": 1,
   "metadata": {},
   "outputs": [],
   "source": [
    "import datajoint as dj\n",
    "import numpy as np\n",
    "import time\n",
    "from tqdm import tqdm"
   ]
  },
  {
   "cell_type": "code",
   "execution_count": 2,
   "metadata": {},
   "outputs": [
    {
     "name": "stdout",
     "output_type": "stream",
     "text": [
      "Connecting celiib@10.28.0.34:3306\n"
     ]
    }
   ],
   "source": [
    "#setting the address and the username\n",
    "dj.config['database.host'] = '10.28.0.34'\n",
    "dj.config['database.user'] = 'celiib'\n",
    "dj.config['database.password'] = 'newceliipass'\n",
    "dj.config['safemode']=True\n",
    "dj.config[\"display.limit\"] = 20\n",
    "\n",
    "ta3p100 = dj.create_virtual_module('ta3p100', 'microns_ta3p100')\n",
    "schema = dj.schema('microns_ta3p100')\n"
   ]
  },
  {
   "cell_type": "code",
   "execution_count": 3,
   "metadata": {},
   "outputs": [],
   "source": [
    "#ta3p100.ProofreadLabelFinal & 'status=\"complete\"'"
   ]
  },
  {
   "cell_type": "code",
   "execution_count": 4,
   "metadata": {},
   "outputs": [],
   "source": [
    "@schema\n",
    "class CoarseLabelFinal(dj.Computed):\n",
    "    definition = \"\"\"\n",
    "    # Vertex labels for ta3p100.ProofreadLabel did not correctly match the triangle labels, so these are regenerated from the correct triangle labels.\n",
    "    -> ta3p100.ProofreadLabelFinal\n",
    "    ---\n",
    "    vertices  : longblob # Corrected vertex labels\n",
    "    triangles : longblob # Same triangle labels as ta3p100.ProofreadLabel\n",
    "    \"\"\"\n",
    "    \n",
    "    key_source = ta3p100.ProofreadLabelFinal & 'status=\"complete\"'\n",
    "    \n",
    "    def make(self, key):\n",
    "        start = time.time()\n",
    "        \n",
    "        print(key[\"segment_id\"])\n",
    "        labels = (ta3p100.ProofreadLabelFinal & key).fetch1()\n",
    "        corrected_vertex_labels = np.zeros(labels['vertices'].shape, np.uint8)\n",
    "        \n",
    "        mesh = (ta3p100.CleansedMesh & 'decimation_ratio=0.35' & dict(segment_id=key['segment_id'])).fetch1()\n",
    "        mesh_triangles = mesh['triangles']\n",
    "        \n",
    "        vertex_label_dict = dict()\n",
    "        for i, label in enumerate(labels['triangles']):\n",
    "            triangle = mesh_triangles[i]\n",
    "            for node in triangle:\n",
    "                if node in vertex_label_dict:\n",
    "                    if vertex_label_dict[node] < label:\n",
    "                        vertex_label_dict[node] = label\n",
    "                else:\n",
    "                    vertex_label_dict[node] = label\n",
    "                \n",
    "        for node, label in vertex_label_dict.items():\n",
    "            corrected_vertex_labels[node] = label\n",
    "            \n",
    "        self.insert1(dict(key,\n",
    "                          vertices=corrected_vertex_labels,\n",
    "                          triangles=labels['triangles']))\n",
    "        \n",
    "        print(\"Segment {} vertex labels regenerated in: {} seconds.\".format(key['segment_id'], time.time() - start))"
   ]
  },
  {
   "cell_type": "code",
   "execution_count": 5,
   "metadata": {},
   "outputs": [
    {
     "name": "stdout",
     "output_type": "stream",
     "text": [
      "648518346349476159\n",
      "Segment 648518346349476159 vertex labels regenerated in: 2.7160253524780273 seconds.\n",
      "648518346349478118\n",
      "Segment 648518346349478118 vertex labels regenerated in: 2.7219231128692627 seconds.\n",
      "648518346349478380\n",
      "Segment 648518346349478380 vertex labels regenerated in: 3.6419570446014404 seconds.\n",
      "648518346349478785\n",
      "Segment 648518346349478785 vertex labels regenerated in: 5.385049104690552 seconds.\n",
      "648518346349479573\n",
      "Segment 648518346349479573 vertex labels regenerated in: 4.2738049030303955 seconds.\n",
      "648518346349482196\n",
      "Segment 648518346349482196 vertex labels regenerated in: 3.5216283798217773 seconds.\n",
      "648518346349484607\n",
      "Segment 648518346349484607 vertex labels regenerated in: 3.5011744499206543 seconds.\n",
      "648518346349487734\n",
      "Segment 648518346349487734 vertex labels regenerated in: 5.154398202896118 seconds.\n",
      "648518346349491736\n",
      "Segment 648518346349491736 vertex labels regenerated in: 3.2606570720672607 seconds.\n",
      "648518346349493117\n",
      "Segment 648518346349493117 vertex labels regenerated in: 4.1573803424835205 seconds.\n",
      "648518346349493881\n",
      "Segment 648518346349493881 vertex labels regenerated in: 3.5032498836517334 seconds.\n",
      "648518346349494969\n",
      "Segment 648518346349494969 vertex labels regenerated in: 4.0871498584747314 seconds.\n",
      "648518346349495935\n",
      "Segment 648518346349495935 vertex labels regenerated in: 2.978248119354248 seconds.\n",
      "648518346349496405\n",
      "Segment 648518346349496405 vertex labels regenerated in: 3.0319466590881348 seconds.\n",
      "648518346349498051\n",
      "Segment 648518346349498051 vertex labels regenerated in: 4.637028217315674 seconds.\n",
      "648518346349499005\n",
      "Segment 648518346349499005 vertex labels regenerated in: 4.033888339996338 seconds.\n",
      "648518346349499669\n",
      "Segment 648518346349499669 vertex labels regenerated in: 4.217893600463867 seconds.\n",
      "648518346349499783\n",
      "Segment 648518346349499783 vertex labels regenerated in: 4.525328636169434 seconds.\n",
      "648518346349499939\n",
      "Segment 648518346349499939 vertex labels regenerated in: 4.740421295166016 seconds.\n",
      "648518346349500320\n",
      "Segment 648518346349500320 vertex labels regenerated in: 4.009787559509277 seconds.\n",
      "648518346349500672\n",
      "Segment 648518346349500672 vertex labels regenerated in: 2.382208824157715 seconds.\n",
      "648518346349501011\n",
      "Segment 648518346349501011 vertex labels regenerated in: 4.271906614303589 seconds.\n",
      "648518346349502049\n",
      "Segment 648518346349502049 vertex labels regenerated in: 3.9272947311401367 seconds.\n",
      "648518346349503011\n",
      "Segment 648518346349503011 vertex labels regenerated in: 3.6953272819519043 seconds.\n",
      "648518346349503643\n",
      "Segment 648518346349503643 vertex labels regenerated in: 4.621374845504761 seconds.\n",
      "648518346349504130\n",
      "Segment 648518346349504130 vertex labels regenerated in: 4.021137237548828 seconds.\n",
      "648518346349504754\n",
      "Segment 648518346349504754 vertex labels regenerated in: 3.9667487144470215 seconds.\n",
      "648518346349505592\n",
      "Segment 648518346349505592 vertex labels regenerated in: 3.9363560676574707 seconds.\n",
      "648518346349506159\n",
      "Segment 648518346349506159 vertex labels regenerated in: 2.939362049102783 seconds.\n",
      "648518346349506770\n",
      "Segment 648518346349506770 vertex labels regenerated in: 5.552456855773926 seconds.\n",
      "648518346349507355\n",
      "Segment 648518346349507355 vertex labels regenerated in: 4.82641339302063 seconds.\n",
      "126.35607600212097\n"
     ]
    }
   ],
   "source": [
    "start = time.time()\n",
    "CoarseLabelFinal.populate(reserve_jobs=True)\n",
    "print(time.time() - start)"
   ]
  },
  {
   "cell_type": "code",
   "execution_count": 6,
   "metadata": {},
   "outputs": [],
   "source": [
    "#(schema.jobs & \"table_name='__coarse_label_final'\").delete()"
   ]
  },
  {
   "cell_type": "code",
   "execution_count": null,
   "metadata": {},
   "outputs": [],
   "source": []
  },
  {
   "cell_type": "code",
   "execution_count": null,
   "metadata": {},
   "outputs": [],
   "source": []
  }
 ],
 "metadata": {
  "kernelspec": {
   "display_name": "Python 3",
   "language": "python",
   "name": "python3"
  },
  "language_info": {
   "codemirror_mode": {
    "name": "ipython",
    "version": 3
   },
   "file_extension": ".py",
   "mimetype": "text/x-python",
   "name": "python",
   "nbconvert_exporter": "python",
   "pygments_lexer": "ipython3",
   "version": "3.6.5"
  }
 },
 "nbformat": 4,
 "nbformat_minor": 2
}
