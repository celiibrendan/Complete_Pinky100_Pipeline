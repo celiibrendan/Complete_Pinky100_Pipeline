{
 "cells": [
  {
   "cell_type": "code",
   "execution_count": 1,
   "metadata": {},
   "outputs": [],
   "source": [
    "%matplotlib inline\n",
    "import matplotlib.pyplot as plt"
   ]
  },
  {
   "cell_type": "code",
   "execution_count": 2,
   "metadata": {},
   "outputs": [
    {
     "name": "stdout",
     "output_type": "stream",
     "text": [
      "neuron tab labeler started new\n",
      "about to connect to database\n",
      "Connecting stelios@10.28.0.34:3306\n",
      "DataJoint connection (connected) stelios@10.28.0.34:3306\n"
     ]
    }
   ],
   "source": [
    "import datajoint as dj\n",
    "import numpy as np\n",
    "\n",
    "\n",
    "print(\"neuron tab labeler started new\")\n",
    "#setting the address and the username\n",
    "print(\"about to connect to database\")\n",
    "dj.config['database.host'] = '10.28.0.34'\n",
    "dj.config['database.user'] = 'stelios'\n",
    "dj.config['database.password'] = 'stelios#1'\n",
    "dj.config['display.limit'] = 10\n",
    "#will state whether words are shown or not\n",
    "dj.config['safemode']=True\n",
    "print(dj.conn(reset=True))\n"
   ]
  },
  {
   "cell_type": "code",
   "execution_count": 3,
   "metadata": {},
   "outputs": [],
   "source": [
    "pinky = dj.create_virtual_module(\"pinky\",\"microns_pinky\")\n",
    "pinky_nda = dj.create_virtual_module(\"pinky_nda\",\"microns_pinky_nda\")\n",
    "schema = dj.schema(\"microns_pinky\")"
   ]
  },
  {
   "cell_type": "code",
   "execution_count": 4,
   "metadata": {},
   "outputs": [],
   "source": [
    "#pinky.SynapseCompartmentSpineLabelRevised.drop()"
   ]
  },
  {
   "cell_type": "code",
   "execution_count": 5,
   "metadata": {},
   "outputs": [],
   "source": [
    "@schema\n",
    "class SynapseCompartmentSpineLabelRevised(dj.Manual):\n",
    "    definition = \"\"\"\n",
    "    -> pinky.Synapse\n",
    "    segmentation         : smallint                     # segmentation id\n",
    "    synapse_id           : bigint unsigned              # synapse index within the segmentation\n",
    "    ---\n",
    "    spine_label          : tinyint unsigned             # numeric label of the compartment\n",
    "    segment_id               : bigint unsigned              # segment id unique within each Segmentation\n",
    "    compartment_label    : tinyint unsigned             # numeric label of the compartment\n",
    "    \"\"\""
   ]
  },
  {
   "cell_type": "code",
   "execution_count": 8,
   "metadata": {},
   "outputs": [
    {
     "data": {
      "text/html": [
       "\n",
       "        \n",
       "        <style type=\"text/css\">\n",
       "            .Relation{\n",
       "                border-collapse:collapse;\n",
       "            }\n",
       "            .Relation th{\n",
       "                background: #A0A0A0; color: #ffffff; padding:4px; border:#f0e0e0 1px solid;\n",
       "                font-weight: normal; font-family: monospace; font-size: 100%;\n",
       "            }\n",
       "            .Relation td{\n",
       "                padding:4px; border:#f0e0e0 1px solid; font-size:100%;\n",
       "            }\n",
       "            .Relation tr:nth-child(odd){\n",
       "                background: #ffffff;\n",
       "            }\n",
       "            .Relation tr:nth-child(even){\n",
       "                background: #f3f1ff;\n",
       "            }\n",
       "            /* Tooltip container */\n",
       "            .djtooltip {\n",
       "            }\n",
       "            /* Tooltip text */\n",
       "            .djtooltip .djtooltiptext {\n",
       "                visibility: hidden;\n",
       "                width: 120px;\n",
       "                background-color: black;\n",
       "                color: #fff;\n",
       "                text-align: center;\n",
       "                padding: 5px 0;\n",
       "                border-radius: 6px;\n",
       "                /* Position the tooltip text - see examples below! */\n",
       "                position: absolute;\n",
       "                z-index: 1;\n",
       "            }\n",
       "            #primary {\n",
       "                font-weight: bold;\n",
       "                color: black;\n",
       "            }\n",
       "\n",
       "            #nonprimary {\n",
       "                font-weight: normal;\n",
       "                color: white;\n",
       "            }\n",
       "\n",
       "            /* Show the tooltip text when you mouse over the tooltip container */\n",
       "            .djtooltip:hover .djtooltiptext {\n",
       "                visibility: visible;\n",
       "            }\n",
       "        </style>\n",
       "        \n",
       "        <b>Denotes which synapses are also on Spine Heads, Spines, or Spine Necks</b>\n",
       "            <div style=\"max-height:1000px;max-width:1500px;overflow:auto;\">\n",
       "            <table border=\"1\" class=\"Relation\">\n",
       "                <thead> <tr style=\"text-align: right;\"> <th> <div class=\"djtooltip\">\n",
       "                                <p id=\"primary\">segmentation</p>\n",
       "                                <span class=\"djtooltiptext\">segmentation id</span>\n",
       "                            </div></th><th><div class=\"djtooltip\">\n",
       "                                <p id=\"primary\">synapse_id</p>\n",
       "                                <span class=\"djtooltiptext\">synapse index within the segmentation</span>\n",
       "                            </div></th><th><div class=\"djtooltip\">\n",
       "                                <p id=\"nonprimary\">spine_label</p>\n",
       "                                <span class=\"djtooltiptext\">numeric label of the compartment</span>\n",
       "                            </div> </th> </tr> </thead>\n",
       "                <tbody> <tr> <td>3</td>\n",
       "<td>3</td>\n",
       "<td>13</td></tr><tr><td>3</td>\n",
       "<td>5</td>\n",
       "<td>13</td></tr><tr><td>3</td>\n",
       "<td>22</td>\n",
       "<td>13</td></tr><tr><td>3</td>\n",
       "<td>25</td>\n",
       "<td>13</td></tr><tr><td>3</td>\n",
       "<td>30</td>\n",
       "<td>13</td></tr><tr><td>3</td>\n",
       "<td>41</td>\n",
       "<td>13</td></tr><tr><td>3</td>\n",
       "<td>73</td>\n",
       "<td>13</td></tr><tr><td>3</td>\n",
       "<td>77</td>\n",
       "<td>13</td></tr><tr><td>3</td>\n",
       "<td>106</td>\n",
       "<td>13</td></tr><tr><td>3</td>\n",
       "<td>108</td>\n",
       "<td>13</td> </tr> </tbody>\n",
       "            </table>\n",
       "            <p>...</p>\n",
       "            <p>Total: 633805</p></div>\n",
       "            "
      ],
      "text/plain": [
       "*segmentation  *synapse_id    spine_label   \n",
       "+------------+ +------------+ +------------+\n",
       "3              3              13            \n",
       "3              5              13            \n",
       "3              22             13            \n",
       "3              25             13            \n",
       "3              30             13            \n",
       "3              41             13            \n",
       "3              73             13            \n",
       "3              77             13            \n",
       "3              106            13            \n",
       "3              108            13            \n",
       "   ...\n",
       " (Total: 633805)"
      ]
     },
     "execution_count": 8,
     "metadata": {},
     "output_type": "execute_result"
    }
   ],
   "source": [
    "pinky.SynapseSpineLabelFinalThresholdRevised()"
   ]
  },
  {
   "cell_type": "code",
   "execution_count": 7,
   "metadata": {},
   "outputs": [
    {
     "data": {
      "text/html": [
       "\n",
       "        \n",
       "        <style type=\"text/css\">\n",
       "            .Relation{\n",
       "                border-collapse:collapse;\n",
       "            }\n",
       "            .Relation th{\n",
       "                background: #A0A0A0; color: #ffffff; padding:4px; border:#f0e0e0 1px solid;\n",
       "                font-weight: normal; font-family: monospace; font-size: 100%;\n",
       "            }\n",
       "            .Relation td{\n",
       "                padding:4px; border:#f0e0e0 1px solid; font-size:100%;\n",
       "            }\n",
       "            .Relation tr:nth-child(odd){\n",
       "                background: #ffffff;\n",
       "            }\n",
       "            .Relation tr:nth-child(even){\n",
       "                background: #f3f1ff;\n",
       "            }\n",
       "            /* Tooltip container */\n",
       "            .djtooltip {\n",
       "            }\n",
       "            /* Tooltip text */\n",
       "            .djtooltip .djtooltiptext {\n",
       "                visibility: hidden;\n",
       "                width: 120px;\n",
       "                background-color: black;\n",
       "                color: #fff;\n",
       "                text-align: center;\n",
       "                padding: 5px 0;\n",
       "                border-radius: 6px;\n",
       "                /* Position the tooltip text - see examples below! */\n",
       "                position: absolute;\n",
       "                z-index: 1;\n",
       "            }\n",
       "            #primary {\n",
       "                font-weight: bold;\n",
       "                color: black;\n",
       "            }\n",
       "\n",
       "            #nonprimary {\n",
       "                font-weight: normal;\n",
       "                color: white;\n",
       "            }\n",
       "\n",
       "            /* Show the tooltip text when you mouse over the tooltip container */\n",
       "            .djtooltip:hover .djtooltiptext {\n",
       "                visibility: visible;\n",
       "            }\n",
       "        </style>\n",
       "        \n",
       "        \n",
       "            <div style=\"max-height:1000px;max-width:1500px;overflow:auto;\">\n",
       "            <table border=\"1\" class=\"Relation\">\n",
       "                <thead> <tr style=\"text-align: right;\"> <th> <div class=\"djtooltip\">\n",
       "                                <p id=\"primary\">segmentation</p>\n",
       "                                <span class=\"djtooltiptext\">segmentation id</span>\n",
       "                            </div></th><th><div class=\"djtooltip\">\n",
       "                                <p id=\"primary\">synapse_id</p>\n",
       "                                <span class=\"djtooltiptext\">synapse index within the segmentation</span>\n",
       "                            </div></th><th><div class=\"djtooltip\">\n",
       "                                <p id=\"primary\">spine_label</p>\n",
       "                                <span class=\"djtooltiptext\">numeric label of the compartment</span>\n",
       "                            </div></th><th><div class=\"djtooltip\">\n",
       "                                <p id=\"nonprimary\">segment_id</p>\n",
       "                                <span class=\"djtooltiptext\">segment id unique within each Segmentation</span>\n",
       "                            </div></th><th><div class=\"djtooltip\">\n",
       "                                <p id=\"nonprimary\">compartment_label</p>\n",
       "                                <span class=\"djtooltiptext\">numeric label of the compartment</span>\n",
       "                            </div> </th> </tr> </thead>\n",
       "                <tbody> <tr> <td>3</td>\n",
       "<td>2830887</td>\n",
       "<td>13</td>\n",
       "<td>648518346342791653</td>\n",
       "<td>8</td></tr><tr><td>3</td>\n",
       "<td>2225519</td>\n",
       "<td>13</td>\n",
       "<td>648518346342793079</td>\n",
       "<td>8</td></tr><tr><td>3</td>\n",
       "<td>2974232</td>\n",
       "<td>13</td>\n",
       "<td>648518346346298672</td>\n",
       "<td>8</td></tr><tr><td>3</td>\n",
       "<td>2144008</td>\n",
       "<td>13</td>\n",
       "<td>648518346346303291</td>\n",
       "<td>3</td></tr><tr><td>3</td>\n",
       "<td>2581464</td>\n",
       "<td>13</td>\n",
       "<td>648518346342802558</td>\n",
       "<td>3</td></tr><tr><td>3</td>\n",
       "<td>2678345</td>\n",
       "<td>13</td>\n",
       "<td>648518346341399828</td>\n",
       "<td>3</td></tr><tr><td>3</td>\n",
       "<td>2418200</td>\n",
       "<td>13</td>\n",
       "<td>648518346341401226</td>\n",
       "<td>3</td></tr><tr><td>3</td>\n",
       "<td>3367190</td>\n",
       "<td>13</td>\n",
       "<td>648518346348214946</td>\n",
       "<td>3</td></tr><tr><td>3</td>\n",
       "<td>1875155</td>\n",
       "<td>13</td>\n",
       "<td>648518346349369921</td>\n",
       "<td>8</td></tr><tr><td>3</td>\n",
       "<td>1534460</td>\n",
       "<td>13</td>\n",
       "<td>648518346341389996</td>\n",
       "<td>8</td> </tr> </tbody>\n",
       "            </table>\n",
       "            <p>...</p>\n",
       "            <p>Total: 202062</p></div>\n",
       "            "
      ],
      "text/plain": [
       "*segmentation  *synapse_id    *spine_label   segment_id     compartment_la\n",
       "+------------+ +------------+ +------------+ +------------+ +------------+\n",
       "3              2524794        13             64851834634819 3             \n",
       "3              2668742        13             64851834634279 3             \n",
       "3              3046274        13             64851834634280 3             \n",
       "3              1714318        13             64851834634279 3             \n",
       "3              2241939        13             64851834634450 8             \n",
       "3              295541         13             64851834634937 8             \n",
       "3              50785          13             64851834634938 8             \n",
       "3              3237257        13             64851834634291 8             \n",
       "3              2533361        13             64851834634291 3             \n",
       "3              3001277        13             64851834634140 2             \n",
       "   ...\n",
       " (Total: 202062)"
      ]
     },
     "execution_count": 7,
     "metadata": {},
     "output_type": "execute_result"
    }
   ],
   "source": [
    "axon_segments = (pinky.Neurite() & 'neurite_type=\"axon\"').proj(presyn='segment_id') * pinky.CurrentSegmentation()\n",
    "post_trace_segments = (pinky.Segment() & pinky.CurrentSegmentation() & pinky_nda.Trace()).proj(postsyn='segment_id')\n",
    "\n",
    "final_synapses_with_comp_labels = ((pinky.Synapse() & post_trace_segments & axon_segments) - pinky.SynapseExclude().proj()) * pinky.SynapseCompartmentLabelFinalThresholdRevised\n",
    "relevant_synapses_with_comp_labels = final_synapses_with_comp_labels.proj(\"presyn\",\"postsyn\",\"postsynaptic_label\")\n",
    "complete_synapse_comp_table = ((relevant_synapses_with_comp_labels * pinky.LabelKey().proj('description', postsynaptic_label='numeric')).proj(\"presyn\",\"postsynaptic_label\",\"description\"))\n",
    "\n",
    "final_synapses_with_spine_labels = ((pinky.Synapse() & post_trace_segments & axon_segments) - pinky.SynapseExclude().proj()) * pinky.SynapseSpineLabelFinalThresholdRevised\n",
    "relevant_synapses_with_spine_labels = final_synapses_with_spine_labels.proj(\"presyn\",\"postsyn\",\"spine_label\")\n",
    "complete_synapse_spine_table = ((relevant_synapses_with_spine_labels * pinky.LabelKey().proj('description', spine_label='numeric')).proj(\"presyn\",\"spine_label\",\"description\"))\n",
    "\n",
    "\n",
    "entries_to_add = dj.U('spine_label')*((dj.U('segmentation', 'synapse_id') & complete_synapse_comp_table) - (dj.U('segmentation', 'synapse_id') & complete_synapse_spine_table)).proj(spine_label='0')\n",
    "updated_spine_table = complete_synapse_spine_table.proj() + entries_to_add.proj()\n",
    "complete_spine_compartment_label_table = (relevant_synapses_with_comp_labels.proj('presyn', 'postsynaptic_label') * updated_spine_table).proj('presyn', compartment_label='postsynaptic_label')\n",
    "\n",
    "\n",
    "final_table = complete_spine_compartment_label_table.proj(\"compartment_label\",segment_id=\"presyn\")\n",
    "final_table\n",
    "\n"
   ]
  },
  {
   "cell_type": "code",
   "execution_count": 10,
   "metadata": {},
   "outputs": [],
   "source": [
    "pinky.SynapseCompartmentSpineLabelRevised.insert(final_table)"
   ]
  },
  {
   "cell_type": "code",
   "execution_count": 12,
   "metadata": {},
   "outputs": [],
   "source": [
    "segment_ids = pinky.SynapseCompartmentSpineLabelRevised.fetch(\"segment_id\")"
   ]
  },
  {
   "cell_type": "code",
   "execution_count": 13,
   "metadata": {},
   "outputs": [
    {
     "data": {
      "text/plain": [
       "30089"
      ]
     },
     "execution_count": 13,
     "metadata": {},
     "output_type": "execute_result"
    }
   ],
   "source": [
    "len(np.unique(segment_ids))"
   ]
  },
  {
   "cell_type": "code",
   "execution_count": null,
   "metadata": {},
   "outputs": [],
   "source": []
  }
 ],
 "metadata": {
  "kernelspec": {
   "display_name": "Python 3",
   "language": "python",
   "name": "python3"
  },
  "language_info": {
   "codemirror_mode": {
    "name": "ipython",
    "version": 3
   },
   "file_extension": ".py",
   "mimetype": "text/x-python",
   "name": "python",
   "nbconvert_exporter": "python",
   "pygments_lexer": "ipython3",
   "version": "3.6.8"
  }
 },
 "nbformat": 4,
 "nbformat_minor": 4
}
