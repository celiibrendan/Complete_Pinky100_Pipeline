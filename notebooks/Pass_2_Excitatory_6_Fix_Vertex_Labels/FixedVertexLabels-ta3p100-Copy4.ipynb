{
 "cells": [
  {
   "cell_type": "code",
   "execution_count": 1,
   "metadata": {},
   "outputs": [],
   "source": [
    "import datajoint as dj\n",
    "import numpy as np\n",
    "import time\n",
    "from tqdm import tqdm"
   ]
  },
  {
   "cell_type": "code",
   "execution_count": 2,
   "metadata": {},
   "outputs": [
    {
     "name": "stdout",
     "output_type": "stream",
     "text": [
      "Connecting celiib@10.28.0.34:3306\n"
     ]
    }
   ],
   "source": [
    "#setting the address and the username\n",
    "dj.config['database.host'] = '10.28.0.34'\n",
    "dj.config['database.user'] = 'celiib'\n",
    "dj.config['database.password'] = 'newceliipass'\n",
    "dj.config['safemode']=True\n",
    "dj.config[\"display.limit\"] = 20\n",
    "\n",
    "pinky = dj.create_virtual_module('pinky', 'microns_pinky')\n",
    "schema = dj.schema('microns_pinky')\n"
   ]
  },
  {
   "cell_type": "code",
   "execution_count": 3,
   "metadata": {},
   "outputs": [],
   "source": [
    "#ta3p100.ProofreadLabelFinal & 'status=\"complete\"'"
   ]
  },
  {
   "cell_type": "code",
   "execution_count": 4,
   "metadata": {},
   "outputs": [],
   "source": [
    "@schema\n",
    "class CoarseLabelFinal(dj.Computed):\n",
    "    definition = \"\"\"\n",
    "    # Ensure that Vertex labels for pinky.ProofreadLabel match the triangle labels, so these are regenerated from the correct triangle labels.\n",
    "    -> pinky.ProofreadLabel\n",
    "    ---\n",
    "    vertices  : longblob # Corrected vertex labels\n",
    "    triangles : longblob # Same triangle labels as pinky.ProofreadLabel\n",
    "    \"\"\"\n",
    "    \n",
    "    key_source = pinky.ProofreadLabel & 'status=\"complete\"'\n",
    "    \n",
    "    def make(self, key):\n",
    "        start = time.time()\n",
    "        \n",
    "        print(key[\"segment_id\"])\n",
    "        labels = (pinky.ProofreadLabel & key).fetch1()\n",
    "        corrected_vertex_labels = np.zeros(labels['vertices'].shape, np.uint8)\n",
    "        \n",
    "        mesh = (pinky.PymeshfixDecimatedExcitatoryStitchedMesh & 'decimation_ratio=0.35' & dict(segment_id=key['segment_id'])).fetch1()\n",
    "        mesh_triangles = mesh['triangles']\n",
    "        \n",
    "        vertex_label_dict = dict()\n",
    "        for i, label in enumerate(labels['triangles']):\n",
    "            triangle = mesh_triangles[i]\n",
    "            for node in triangle:\n",
    "                if node in vertex_label_dict:\n",
    "                    if vertex_label_dict[node] < label:\n",
    "                        vertex_label_dict[node] = label\n",
    "                else:\n",
    "                    vertex_label_dict[node] = label\n",
    "                \n",
    "        for node, label in vertex_label_dict.items():\n",
    "            corrected_vertex_labels[node] = label\n",
    "            \n",
    "        self.insert1(dict(key,\n",
    "                          vertices=corrected_vertex_labels,\n",
    "                          triangles=labels['triangles']))\n",
    "        \n",
    "        print(\"Segment {} vertex labels regenerated in: {} seconds.\".format(key['segment_id'], time.time() - start))"
   ]
  },
  {
   "cell_type": "code",
   "execution_count": 5,
   "metadata": {},
   "outputs": [
    {
     "name": "stdout",
     "output_type": "stream",
     "text": [
      "648518346349473583\n",
      "Segment 648518346349473583 vertex labels regenerated in: 2.6436421871185303 seconds.\n",
      "648518346349473597\n",
      "Segment 648518346349473597 vertex labels regenerated in: 3.7163257598876953 seconds.\n",
      "648518346349473821\n",
      "Segment 648518346349473821 vertex labels regenerated in: 3.074528694152832 seconds.\n",
      "648518346349475035\n",
      "Segment 648518346349475035 vertex labels regenerated in: 4.266421556472778 seconds.\n",
      "648518346349475518\n",
      "Segment 648518346349475518 vertex labels regenerated in: 4.397952318191528 seconds.\n",
      "648518346349475536\n",
      "Segment 648518346349475536 vertex labels regenerated in: 4.077558517456055 seconds.\n",
      "648518346349478248\n",
      "Segment 648518346349478248 vertex labels regenerated in: 4.681041240692139 seconds.\n",
      "648518346349478785\n",
      "Segment 648518346349478785 vertex labels regenerated in: 4.809096336364746 seconds.\n",
      "648518346349479706\n",
      "Segment 648518346349479706 vertex labels regenerated in: 3.0928375720977783 seconds.\n",
      "648518346349479929\n",
      "Segment 648518346349479929 vertex labels regenerated in: 3.2490501403808594 seconds.\n",
      "648518346349482020\n",
      "Segment 648518346349482020 vertex labels regenerated in: 2.789851427078247 seconds.\n",
      "648518346349483228\n",
      "Segment 648518346349483228 vertex labels regenerated in: 3.280120611190796 seconds.\n",
      "648518346349485701\n",
      "Segment 648518346349485701 vertex labels regenerated in: 3.614870548248291 seconds.\n",
      "648518346349487734\n",
      "Segment 648518346349487734 vertex labels regenerated in: 4.756981372833252 seconds.\n",
      "648518346349491045\n",
      "Segment 648518346349491045 vertex labels regenerated in: 4.207288026809692 seconds.\n",
      "648518346349492662\n",
      "Segment 648518346349492662 vertex labels regenerated in: 3.2618489265441895 seconds.\n",
      "648518346349493354\n",
      "Segment 648518346349493354 vertex labels regenerated in: 3.29034686088562 seconds.\n",
      "648518346349493856\n",
      "Segment 648518346349493856 vertex labels regenerated in: 4.476503610610962 seconds.\n",
      "648518346349494539\n",
      "Segment 648518346349494539 vertex labels regenerated in: 4.0809290409088135 seconds.\n",
      "648518346349495481\n",
      "Segment 648518346349495481 vertex labels regenerated in: 5.442670583724976 seconds.\n",
      "648518346349496245\n",
      "Segment 648518346349496245 vertex labels regenerated in: 4.328830718994141 seconds.\n",
      "648518346349497184\n",
      "Segment 648518346349497184 vertex labels regenerated in: 3.2407398223876953 seconds.\n",
      "648518346349498406\n",
      "Segment 648518346349498406 vertex labels regenerated in: 3.48767352104187 seconds.\n",
      "648518346349498632\n",
      "Segment 648518346349498632 vertex labels regenerated in: 4.523146629333496 seconds.\n",
      "648518346349499581\n",
      "Segment 648518346349499581 vertex labels regenerated in: 5.07475209236145 seconds.\n",
      "648518346349499759\n",
      "Segment 648518346349499759 vertex labels regenerated in: 4.147083759307861 seconds.\n",
      "648518346349499851\n",
      "Segment 648518346349499851 vertex labels regenerated in: 4.1907854080200195 seconds.\n",
      "648518346349500049\n",
      "Segment 648518346349500049 vertex labels regenerated in: 4.325000524520874 seconds.\n",
      "648518346349500324\n",
      "Segment 648518346349500324 vertex labels regenerated in: 5.0178382396698 seconds.\n",
      "648518346349500657\n",
      "Segment 648518346349500657 vertex labels regenerated in: 5.152590036392212 seconds.\n",
      "648518346349501216\n",
      "Segment 648518346349501216 vertex labels regenerated in: 4.735352277755737 seconds.\n",
      "648518346349501787\n",
      "Segment 648518346349501787 vertex labels regenerated in: 4.332489252090454 seconds.\n",
      "648518346349503011\n",
      "Segment 648518346349503011 vertex labels regenerated in: 4.046024322509766 seconds.\n",
      "648518346349503643\n",
      "Segment 648518346349503643 vertex labels regenerated in: 4.202853441238403 seconds.\n",
      "648518346349504185\n",
      "Segment 648518346349504185 vertex labels regenerated in: 4.723013401031494 seconds.\n",
      "648518346349504754\n",
      "Segment 648518346349504754 vertex labels regenerated in: 4.60900616645813 seconds.\n",
      "648518346349505261\n",
      "Segment 648518346349505261 vertex labels regenerated in: 9.030466794967651 seconds.\n",
      "648518346349505696\n",
      "Segment 648518346349505696 vertex labels regenerated in: 4.21796178817749 seconds.\n",
      "648518346349506425\n",
      "Segment 648518346349506425 vertex labels regenerated in: 4.311550855636597 seconds.\n",
      "648518346349506803\n",
      "Segment 648518346349506803 vertex labels regenerated in: 3.5032448768615723 seconds.\n",
      "648518346349507175\n",
      "Segment 648518346349507175 vertex labels regenerated in: 3.1968071460723877 seconds.\n",
      "648518346349507658\n",
      "Segment 648518346349507658 vertex labels regenerated in: 2.7709081172943115 seconds.\n",
      "648518346349508212\n",
      "Segment 648518346349508212 vertex labels regenerated in: 3.811638832092285 seconds.\n",
      "648518346349508969\n",
      "Segment 648518346349508969 vertex labels regenerated in: 4.150014877319336 seconds.\n",
      "648518346349509300\n",
      "Segment 648518346349509300 vertex labels regenerated in: 4.689600467681885 seconds.\n",
      "648518346349509512\n",
      "Segment 648518346349509512 vertex labels regenerated in: 3.2683918476104736 seconds.\n",
      "648518346349509855\n",
      "Segment 648518346349509855 vertex labels regenerated in: 3.170680522918701 seconds.\n",
      "648518346349510900\n",
      "Segment 648518346349510900 vertex labels regenerated in: 3.4350147247314453 seconds.\n",
      "648518346349511528\n",
      "Segment 648518346349511528 vertex labels regenerated in: 3.8490424156188965 seconds.\n",
      "648518346349512199\n",
      "Segment 648518346349512199 vertex labels regenerated in: 2.9354074001312256 seconds.\n",
      "648518346349512870\n",
      "Segment 648518346349512870 vertex labels regenerated in: 5.071059465408325 seconds.\n",
      "648518346349513769\n",
      "Segment 648518346349513769 vertex labels regenerated in: 3.3893911838531494 seconds.\n",
      "217.54330563545227\n"
     ]
    }
   ],
   "source": [
    "start = time.time()\n",
    "CoarseLabelFinal.populate(reserve_jobs=True)\n",
    "print(time.time() - start)"
   ]
  },
  {
   "cell_type": "code",
   "execution_count": 6,
   "metadata": {},
   "outputs": [],
   "source": [
    "#(schema.jobs & \"table_name='__coarse_label_final'\").delete()"
   ]
  },
  {
   "cell_type": "code",
   "execution_count": null,
   "metadata": {},
   "outputs": [],
   "source": []
  }
 ],
 "metadata": {
  "kernelspec": {
   "display_name": "Python 3",
   "language": "python",
   "name": "python3"
  },
  "language_info": {
   "codemirror_mode": {
    "name": "ipython",
    "version": 3
   },
   "file_extension": ".py",
   "mimetype": "text/x-python",
   "name": "python",
   "nbconvert_exporter": "python",
   "pygments_lexer": "ipython3",
   "version": "3.6.5"
  }
 },
 "nbformat": 4,
 "nbformat_minor": 2
}
