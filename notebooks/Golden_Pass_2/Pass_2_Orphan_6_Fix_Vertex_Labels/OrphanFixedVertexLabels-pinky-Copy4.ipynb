{
 "cells": [
  {
   "cell_type": "code",
   "execution_count": 1,
   "metadata": {},
   "outputs": [],
   "source": [
    "import datajoint as dj\n",
    "import numpy as np\n",
    "import time\n",
    "from tqdm import tqdm"
   ]
  },
  {
   "cell_type": "code",
   "execution_count": 2,
   "metadata": {},
   "outputs": [
    {
     "name": "stdout",
     "output_type": "stream",
     "text": [
      "Connecting celiib@10.28.0.34:3306\n"
     ]
    }
   ],
   "source": [
    "#setting the address and the username\n",
    "dj.config['database.host'] = '10.28.0.34'\n",
    "dj.config['database.user'] = 'celiib'\n",
    "dj.config['database.password'] = 'newceliipass'\n",
    "dj.config['safemode']=True\n",
    "dj.config[\"display.limit\"] = 20\n",
    "\n",
    "pinky = dj.create_virtual_module('pinky', 'microns_pinky')\n",
    "schema = dj.schema('microns_pinky')"
   ]
  },
  {
   "cell_type": "code",
   "execution_count": 3,
   "metadata": {},
   "outputs": [],
   "source": [
    "#ta3p100.ProofreadLabelOrphan() & \"segment_id=648518346341352006\""
   ]
  },
  {
   "cell_type": "code",
   "execution_count": 4,
   "metadata": {},
   "outputs": [],
   "source": [
    "#ta3p100.CleansedMeshOrphan()"
   ]
  },
  {
   "cell_type": "code",
   "execution_count": null,
   "metadata": {},
   "outputs": [],
   "source": []
  },
  {
   "cell_type": "code",
   "execution_count": 5,
   "metadata": {},
   "outputs": [],
   "source": [
    "@schema\n",
    "class CoarseLabelOrphan(dj.Computed):\n",
    "    definition = \"\"\"\n",
    "    # Vertex labels for pinky.ProofreadLabelOrphan did not correctly match the triangle labels, so these are regenerated from the correct triangle labels.\n",
    "    -> pinky.ProofreadLabelOrphan\n",
    "    ---\n",
    "    vertices  : longblob # Corrected vertex labels\n",
    "    triangles : longblob # Same triangle labels as pinky.ProofreadLabelOrphan\n",
    "    \"\"\"\n",
    "    \n",
    "    key_source = pinky.ProofreadLabelOrphan & 'status=\"complete\"'\n",
    "    \n",
    "    def make(self, key):\n",
    "        start = time.time()\n",
    "        \n",
    "        print(key[\"segment_id\"])\n",
    "        labels = (pinky.ProofreadLabelOrphan & key).fetch1()\n",
    "        corrected_vertex_labels = np.zeros(labels['vertices'].shape, np.uint8)\n",
    "        \n",
    "        mesh = (pinky.Decimation35OrphanStitched & 'decimation_ratio=0.35' & dict(segment_id=key['segment_id'])).fetch1()\n",
    "        mesh_triangles = mesh['triangles']\n",
    "        \n",
    "        vertex_label_dict = dict()\n",
    "        for i, label in enumerate(labels['triangles']):\n",
    "            triangle = mesh_triangles[i]\n",
    "            for node in triangle:\n",
    "                if node in vertex_label_dict:\n",
    "                    if vertex_label_dict[node] < label:\n",
    "                        vertex_label_dict[node] = label\n",
    "                else:\n",
    "                    vertex_label_dict[node] = label\n",
    "                \n",
    "        for node, label in vertex_label_dict.items():\n",
    "            corrected_vertex_labels[node] = label\n",
    "            \n",
    "        self.insert1(dict(key,\n",
    "                          vertices=corrected_vertex_labels,\n",
    "                          triangles=labels['triangles']))\n",
    "        \n",
    "        print(\"Segment {} vertex labels regenerated in: {} seconds.\".format(key['segment_id'], time.time() - start))"
   ]
  },
  {
   "cell_type": "code",
   "execution_count": 6,
   "metadata": {},
   "outputs": [
    {
     "name": "stdout",
     "output_type": "stream",
     "text": [
      "648518346341394638\n",
      "Segment 648518346341394638 vertex labels regenerated in: 0.8631160259246826 seconds.\n",
      "648518346341395530\n",
      "Segment 648518346341395530 vertex labels regenerated in: 0.8710589408874512 seconds.\n",
      "648518346341397329\n",
      "Segment 648518346341397329 vertex labels regenerated in: 1.1081628799438477 seconds.\n",
      "648518346341398705\n",
      "Segment 648518346341398705 vertex labels regenerated in: 0.7476010322570801 seconds.\n",
      "648518346341399382\n",
      "Segment 648518346341399382 vertex labels regenerated in: 0.7855334281921387 seconds.\n",
      "648518346341400285\n",
      "Segment 648518346341400285 vertex labels regenerated in: 0.6964263916015625 seconds.\n",
      "648518346341401368\n",
      "Segment 648518346341401368 vertex labels regenerated in: 0.6804556846618652 seconds.\n",
      "648518346341402446\n",
      "Segment 648518346341402446 vertex labels regenerated in: 0.7528557777404785 seconds.\n",
      "648518346341403291\n",
      "Segment 648518346341403291 vertex labels regenerated in: 0.7069962024688721 seconds.\n",
      "648518346341404064\n",
      "Segment 648518346341404064 vertex labels regenerated in: 0.7248570919036865 seconds.\n",
      "648518346341405383\n",
      "Segment 648518346341405383 vertex labels regenerated in: 0.7547364234924316 seconds.\n",
      "648518346341407152\n",
      "Segment 648518346341407152 vertex labels regenerated in: 0.7388949394226074 seconds.\n",
      "648518346341408122\n",
      "Segment 648518346341408122 vertex labels regenerated in: 0.6648342609405518 seconds.\n",
      "648518346341409362\n",
      "Segment 648518346341409362 vertex labels regenerated in: 0.5494720935821533 seconds.\n",
      "648518346341409969\n",
      "Segment 648518346341409969 vertex labels regenerated in: 0.7428388595581055 seconds.\n",
      "648518346341410775\n",
      "Segment 648518346341410775 vertex labels regenerated in: 0.655893087387085 seconds.\n",
      "648518346341411405\n",
      "Segment 648518346341411405 vertex labels regenerated in: 0.7204694747924805 seconds.\n",
      "648518346341413916\n",
      "Segment 648518346341413916 vertex labels regenerated in: 0.8439602851867676 seconds.\n",
      "648518346341416360\n",
      "Segment 648518346341416360 vertex labels regenerated in: 0.7429213523864746 seconds.\n",
      "648518346341420204\n",
      "Segment 648518346341420204 vertex labels regenerated in: 0.6566641330718994 seconds.\n",
      "648518346342152326\n",
      "Segment 648518346342152326 vertex labels regenerated in: 0.8211984634399414 seconds.\n",
      "648518346342406945\n",
      "Segment 648518346342406945 vertex labels regenerated in: 0.8398947715759277 seconds.\n",
      "648518346342788502\n",
      "Segment 648518346342788502 vertex labels regenerated in: 0.6006326675415039 seconds.\n",
      "648518346342790310\n",
      "Segment 648518346342790310 vertex labels regenerated in: 0.8033497333526611 seconds.\n",
      "648518346342791382\n",
      "Segment 648518346342791382 vertex labels regenerated in: 0.8472394943237305 seconds.\n",
      "648518346342792135\n",
      "Segment 648518346342792135 vertex labels regenerated in: 0.7481434345245361 seconds.\n",
      "648518346342793061\n",
      "Segment 648518346342793061 vertex labels regenerated in: 0.7003300189971924 seconds.\n",
      "648518346342794090\n",
      "Segment 648518346342794090 vertex labels regenerated in: 0.7873735427856445 seconds.\n",
      "648518346342795782\n",
      "Segment 648518346342795782 vertex labels regenerated in: 0.5473666191101074 seconds.\n",
      "648518346342796836\n",
      "Segment 648518346342796836 vertex labels regenerated in: 0.6554958820343018 seconds.\n",
      "648518346342797591\n",
      "Segment 648518346342797591 vertex labels regenerated in: 0.7909829616546631 seconds.\n",
      "648518346342798923\n",
      "Segment 648518346342798923 vertex labels regenerated in: 1.535137414932251 seconds.\n",
      "648518346342803020\n",
      "Segment 648518346342803020 vertex labels regenerated in: 0.9591639041900635 seconds.\n",
      "648518346342804024\n",
      "Segment 648518346342804024 vertex labels regenerated in: 0.6193821430206299 seconds.\n",
      "648518346342804950\n",
      "Segment 648518346342804950 vertex labels regenerated in: 0.7776365280151367 seconds.\n",
      "648518346342805766\n",
      "Segment 648518346342805766 vertex labels regenerated in: 0.7231953144073486 seconds.\n",
      "648518346342806369\n",
      "Segment 648518346342806369 vertex labels regenerated in: 0.849376916885376 seconds.\n",
      "648518346342807927\n",
      "Segment 648518346342807927 vertex labels regenerated in: 0.8296732902526855 seconds.\n",
      "648518346342808593\n",
      "Segment 648518346342808593 vertex labels regenerated in: 0.6987190246582031 seconds.\n",
      "648518346342914644\n",
      "Segment 648518346342914644 vertex labels regenerated in: 0.7518534660339355 seconds.\n",
      "648518346342917593\n",
      "Segment 648518346342917593 vertex labels regenerated in: 0.762793779373169 seconds.\n",
      "648518346342919817\n",
      "Segment 648518346342919817 vertex labels regenerated in: 0.636437177658081 seconds.\n",
      "648518346342920983\n",
      "Segment 648518346342920983 vertex labels regenerated in: 0.80051589012146 seconds.\n",
      "648518346342925469\n",
      "Segment 648518346342925469 vertex labels regenerated in: 0.5841336250305176 seconds.\n",
      "648518346342928630\n",
      "Segment 648518346342928630 vertex labels regenerated in: 0.6767866611480713 seconds.\n",
      "648518346342930696\n",
      "Segment 648518346342930696 vertex labels regenerated in: 0.5915350914001465 seconds.\n",
      "648518346342934077\n",
      "Segment 648518346342934077 vertex labels regenerated in: 0.6609127521514893 seconds.\n",
      "648518346343624053\n",
      "Segment 648518346343624053 vertex labels regenerated in: 0.653998851776123 seconds.\n",
      "648518346343788850\n",
      "Segment 648518346343788850 vertex labels regenerated in: 0.5777742862701416 seconds.\n",
      "648518346344072795\n",
      "Segment 648518346344072795 vertex labels regenerated in: 0.6852560043334961 seconds.\n",
      "648518346344079907\n",
      "Segment 648518346344079907 vertex labels regenerated in: 0.8347110748291016 seconds.\n",
      "648518346344106316\n",
      "Segment 648518346344106316 vertex labels regenerated in: 0.7326550483703613 seconds.\n",
      "648518346344419150\n",
      "Segment 648518346344419150 vertex labels regenerated in: 0.9134695529937744 seconds.\n",
      "648518346344464993\n",
      "Segment 648518346344464993 vertex labels regenerated in: 0.8054721355438232 seconds.\n",
      "648518346344504833\n",
      "Segment 648518346344504833 vertex labels regenerated in: 0.678624153137207 seconds.\n",
      "648518346344517719\n",
      "Segment 648518346344517719 vertex labels regenerated in: 0.6237244606018066 seconds.\n",
      "648518346345380632\n",
      "Segment 648518346345380632 vertex labels regenerated in: 0.9951636791229248 seconds.\n",
      "648518346345772713\n",
      "Segment 648518346345772713 vertex labels regenerated in: 0.9471831321716309 seconds.\n",
      "648518346346300372\n",
      "Segment 648518346346300372 vertex labels regenerated in: 1.1110036373138428 seconds.\n",
      "648518346346319111\n",
      "Segment 648518346346319111 vertex labels regenerated in: 1.0173096656799316 seconds.\n",
      "648518346346883887\n",
      "Segment 648518346346883887 vertex labels regenerated in: 0.7743182182312012 seconds.\n",
      "648518346347451662\n",
      "Segment 648518346347451662 vertex labels regenerated in: 0.8735771179199219 seconds.\n",
      "648518346348116632\n",
      "Segment 648518346348116632 vertex labels regenerated in: 0.8079738616943359 seconds.\n",
      "648518346348125038\n",
      "Segment 648518346348125038 vertex labels regenerated in: 0.9103810787200928 seconds.\n",
      "648518346348199139\n",
      "Segment 648518346348199139 vertex labels regenerated in: 0.7338721752166748 seconds.\n",
      "648518346348212663\n",
      "Segment 648518346348212663 vertex labels regenerated in: 0.857367753982544 seconds.\n",
      "648518346348458602\n",
      "Segment 648518346348458602 vertex labels regenerated in: 0.7811448574066162 seconds.\n",
      "648518346348717878\n",
      "Segment 648518346348717878 vertex labels regenerated in: 0.9785926342010498 seconds.\n",
      "648518346349376861\n",
      "Segment 648518346349376861 vertex labels regenerated in: 0.863950252532959 seconds.\n",
      "648518346349384659\n",
      "Segment 648518346349384659 vertex labels regenerated in: 0.9406514167785645 seconds.\n",
      "648518346349475163\n",
      "Segment 648518346349475163 vertex labels regenerated in: 1.0344433784484863 seconds.\n",
      "648518346349492682\n",
      "Segment 648518346349492682 vertex labels regenerated in: 1.8505902290344238 seconds.\n",
      "648518346349509121\n",
      "Segment 648518346349509121 vertex labels regenerated in: 0.8025608062744141 seconds.\n",
      "648518346349509557\n",
      "Segment 648518346349509557 vertex labels regenerated in: 0.9967975616455078 seconds.\n",
      "648518346349513651\n",
      "Segment 648518346349513651 vertex labels regenerated in: 0.9348134994506836 seconds.\n",
      "68.36064028739929\n"
     ]
    }
   ],
   "source": [
    "start = time.time()\n",
    "CoarseLabelOrphan.populate(reserve_jobs=True)\n",
    "print(time.time() - start)"
   ]
  },
  {
   "cell_type": "code",
   "execution_count": 7,
   "metadata": {},
   "outputs": [],
   "source": [
    "(schema.jobs & \"table_name='__coarse_label_orphan'\").delete()"
   ]
  },
  {
   "cell_type": "code",
   "execution_count": 8,
   "metadata": {},
   "outputs": [
    {
     "ename": "NameError",
     "evalue": "name 'ta3p100' is not defined",
     "output_type": "error",
     "traceback": [
      "\u001b[0;31m---------------------------------------------------------------------------\u001b[0m",
      "\u001b[0;31mNameError\u001b[0m                                 Traceback (most recent call last)",
      "\u001b[0;32m<ipython-input-8-a9fbc87cb26d>\u001b[0m in \u001b[0;36m<module>\u001b[0;34m\u001b[0m\n\u001b[0;32m----> 1\u001b[0;31m \u001b[0mta3p100\u001b[0m\u001b[0;34m.\u001b[0m\u001b[0mCoarseLabelOrphan\u001b[0m\u001b[0;34m(\u001b[0m\u001b[0;34m)\u001b[0m\u001b[0;34m\u001b[0m\u001b[0m\n\u001b[0m",
      "\u001b[0;31mNameError\u001b[0m: name 'ta3p100' is not defined"
     ]
    }
   ],
   "source": [
    "ta3p100.CoarseLabelOrphan()"
   ]
  },
  {
   "cell_type": "code",
   "execution_count": null,
   "metadata": {},
   "outputs": [],
   "source": [
    "ta3p100.SegmentExclude()"
   ]
  },
  {
   "cell_type": "code",
   "execution_count": null,
   "metadata": {},
   "outputs": [],
   "source": []
  }
 ],
 "metadata": {
  "kernelspec": {
   "display_name": "Python 3",
   "language": "python",
   "name": "python3"
  },
  "language_info": {
   "codemirror_mode": {
    "name": "ipython",
    "version": 3
   },
   "file_extension": ".py",
   "mimetype": "text/x-python",
   "name": "python",
   "nbconvert_exporter": "python",
   "pygments_lexer": "ipython3",
   "version": "3.6.5"
  }
 },
 "nbformat": 4,
 "nbformat_minor": 2
}
