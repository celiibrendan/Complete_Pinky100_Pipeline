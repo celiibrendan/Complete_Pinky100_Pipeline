{
 "cells": [
  {
   "cell_type": "code",
   "execution_count": 1,
   "metadata": {},
   "outputs": [],
   "source": [
    "import datajoint as dj\n",
    "import numpy as np\n",
    "import time\n",
    "from tqdm import tqdm"
   ]
  },
  {
   "cell_type": "code",
   "execution_count": 2,
   "metadata": {},
   "outputs": [
    {
     "name": "stdout",
     "output_type": "stream",
     "text": [
      "Connecting celiib@10.28.0.34:3306\n"
     ]
    }
   ],
   "source": [
    "#setting the address and the username\n",
    "dj.config['database.host'] = '10.28.0.34'\n",
    "dj.config['database.user'] = 'celiib'\n",
    "dj.config['database.password'] = 'newceliipass'\n",
    "dj.config['safemode']=True\n",
    "dj.config[\"display.limit\"] = 20\n",
    "\n",
    "ta3p100 = dj.create_virtual_module('ta3p100', 'microns_ta3p100')\n",
    "schema = dj.schema('microns_ta3p100')\n"
   ]
  },
  {
   "cell_type": "code",
   "execution_count": 3,
   "metadata": {},
   "outputs": [],
   "source": [
    "#ta3p100.ProofreadLabelFinal & 'status=\"complete\"'"
   ]
  },
  {
   "cell_type": "code",
   "execution_count": 4,
   "metadata": {},
   "outputs": [],
   "source": [
    "@schema\n",
    "class CoarseLabelFinal(dj.Computed):\n",
    "    definition = \"\"\"\n",
    "    # Vertex labels for ta3p100.ProofreadLabel did not correctly match the triangle labels, so these are regenerated from the correct triangle labels.\n",
    "    -> ta3p100.ProofreadLabelFinal\n",
    "    ---\n",
    "    vertices  : longblob # Corrected vertex labels\n",
    "    triangles : longblob # Same triangle labels as ta3p100.ProofreadLabel\n",
    "    \"\"\"\n",
    "    \n",
    "    key_source = ta3p100.ProofreadLabelFinal & 'status=\"complete\"'\n",
    "    \n",
    "    def make(self, key):\n",
    "        start = time.time()\n",
    "        \n",
    "        print(key[\"segment_id\"])\n",
    "        labels = (ta3p100.ProofreadLabelFinal & key).fetch1()\n",
    "        corrected_vertex_labels = np.zeros(labels['vertices'].shape, np.uint8)\n",
    "        \n",
    "        mesh = (ta3p100.CleansedMesh & 'decimation_ratio=0.35' & dict(segment_id=key['segment_id'])).fetch1()\n",
    "        mesh_triangles = mesh['triangles']\n",
    "        \n",
    "        vertex_label_dict = dict()\n",
    "        for i, label in enumerate(labels['triangles']):\n",
    "            triangle = mesh_triangles[i]\n",
    "            for node in triangle:\n",
    "                if node in vertex_label_dict:\n",
    "                    if vertex_label_dict[node] < label:\n",
    "                        vertex_label_dict[node] = label\n",
    "                else:\n",
    "                    vertex_label_dict[node] = label\n",
    "                \n",
    "        for node, label in vertex_label_dict.items():\n",
    "            corrected_vertex_labels[node] = label\n",
    "            \n",
    "        self.insert1(dict(key,\n",
    "                          vertices=corrected_vertex_labels,\n",
    "                          triangles=labels['triangles']))\n",
    "        \n",
    "        print(\"Segment {} vertex labels regenerated in: {} seconds.\".format(key['segment_id'], time.time() - start))"
   ]
  },
  {
   "cell_type": "code",
   "execution_count": 5,
   "metadata": {},
   "outputs": [
    {
     "name": "stdout",
     "output_type": "stream",
     "text": [
      "648518346349475531\n",
      "Segment 648518346349475531 vertex labels regenerated in: 4.303580045700073 seconds.\n",
      "648518346349476185\n",
      "Segment 648518346349476185 vertex labels regenerated in: 2.6192562580108643 seconds.\n",
      "648518346349478183\n",
      "Segment 648518346349478183 vertex labels regenerated in: 3.2307121753692627 seconds.\n",
      "648518346349478399\n",
      "Segment 648518346349478399 vertex labels regenerated in: 3.080258846282959 seconds.\n",
      "648518346349478860\n",
      "Segment 648518346349478860 vertex labels regenerated in: 2.5764613151550293 seconds.\n",
      "648518346349479094\n",
      "Segment 648518346349479094 vertex labels regenerated in: 3.5683043003082275 seconds.\n",
      "648518346349479837\n",
      "Segment 648518346349479837 vertex labels regenerated in: 4.2758965492248535 seconds.\n",
      "648518346349482312\n",
      "Segment 648518346349482312 vertex labels regenerated in: 3.742246389389038 seconds.\n",
      "648518346349485870\n",
      "Segment 648518346349485870 vertex labels regenerated in: 4.047136068344116 seconds.\n",
      "648518346349490654\n",
      "Segment 648518346349490654 vertex labels regenerated in: 3.212163209915161 seconds.\n",
      "648518346349491811\n",
      "Segment 648518346349491811 vertex labels regenerated in: 2.6635289192199707 seconds.\n",
      "648518346349492662\n",
      "Segment 648518346349492662 vertex labels regenerated in: 3.464087724685669 seconds.\n",
      "648518346349493733\n",
      "Segment 648518346349493733 vertex labels regenerated in: 4.049925088882446 seconds.\n",
      "648518346349494515\n",
      "Segment 648518346349494515 vertex labels regenerated in: 2.4802942276000977 seconds.\n",
      "648518346349495243\n",
      "Segment 648518346349495243 vertex labels regenerated in: 3.369453191757202 seconds.\n",
      "648518346349496103\n",
      "Segment 648518346349496103 vertex labels regenerated in: 3.8592982292175293 seconds.\n",
      "648518346349497759\n",
      "Segment 648518346349497759 vertex labels regenerated in: 4.849177837371826 seconds.\n",
      "648518346349498632\n",
      "Segment 648518346349498632 vertex labels regenerated in: 4.332830190658569 seconds.\n",
      "648518346349499624\n",
      "Segment 648518346349499624 vertex labels regenerated in: 5.143587827682495 seconds.\n",
      "648518346349499824\n",
      "Segment 648518346349499824 vertex labels regenerated in: 3.894883871078491 seconds.\n",
      "648518346349499928\n",
      "Segment 648518346349499928 vertex labels regenerated in: 2.516916513442993 seconds.\n",
      "648518346349500139\n",
      "Segment 648518346349500139 vertex labels regenerated in: 3.356191396713257 seconds.\n",
      "648518346349500341\n",
      "Segment 648518346349500341 vertex labels regenerated in: 3.750178575515747 seconds.\n",
      "648518346349500725\n",
      "Segment 648518346349500725 vertex labels regenerated in: 3.819667339324951 seconds.\n",
      "648518346349501587\n",
      "Segment 648518346349501587 vertex labels regenerated in: 5.109341859817505 seconds.\n",
      "648518346349502613\n",
      "Segment 648518346349502613 vertex labels regenerated in: 3.942955255508423 seconds.\n",
      "648518346349503588\n",
      "Segment 648518346349503588 vertex labels regenerated in: 2.911797046661377 seconds.\n",
      "648518346349503773\n",
      "Segment 648518346349503773 vertex labels regenerated in: 3.0267395973205566 seconds.\n",
      "648518346349504273\n",
      "Segment 648518346349504273 vertex labels regenerated in: 3.0512232780456543 seconds.\n",
      "648518346349504618\n",
      "Segment 648518346349504618 vertex labels regenerated in: 3.428302049636841 seconds.\n",
      "648518346349505261\n",
      "Segment 648518346349505261 vertex labels regenerated in: 2.305950403213501 seconds.\n",
      "648518346349505739\n",
      "Segment 648518346349505739 vertex labels regenerated in: 3.4737191200256348 seconds.\n",
      "648518346349506425\n",
      "Segment 648518346349506425 vertex labels regenerated in: 3.1528658866882324 seconds.\n",
      "648518346349506808\n",
      "Segment 648518346349506808 vertex labels regenerated in: 2.492948293685913 seconds.\n",
      "648518346349507103\n",
      "Segment 648518346349507103 vertex labels regenerated in: 4.661525249481201 seconds.\n",
      "648518346349507984\n",
      "Segment 648518346349507984 vertex labels regenerated in: 3.3642709255218506 seconds.\n",
      "130.721373796463\n"
     ]
    }
   ],
   "source": [
    "start = time.time()\n",
    "CoarseLabelFinal.populate(reserve_jobs=True)\n",
    "print(time.time() - start)"
   ]
  },
  {
   "cell_type": "code",
   "execution_count": 6,
   "metadata": {},
   "outputs": [],
   "source": [
    "#(schema.jobs & \"table_name='__coarse_label_final'\").delete()"
   ]
  },
  {
   "cell_type": "code",
   "execution_count": null,
   "metadata": {},
   "outputs": [],
   "source": []
  }
 ],
 "metadata": {
  "kernelspec": {
   "display_name": "Python 3",
   "language": "python",
   "name": "python3"
  },
  "language_info": {
   "codemirror_mode": {
    "name": "ipython",
    "version": 3
   },
   "file_extension": ".py",
   "mimetype": "text/x-python",
   "name": "python",
   "nbconvert_exporter": "python",
   "pygments_lexer": "ipython3",
   "version": "3.6.5"
  }
 },
 "nbformat": 4,
 "nbformat_minor": 2
}
