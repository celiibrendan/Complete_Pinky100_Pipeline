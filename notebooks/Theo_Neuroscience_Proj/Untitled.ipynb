{
 "cells": [
  {
   "cell_type": "code",
   "execution_count": 10,
   "metadata": {},
   "outputs": [],
   "source": [
    "import numpy as np\n",
    "import datajoint as dj\n",
    "import random"
   ]
  },
  {
   "cell_type": "code",
   "execution_count": 12,
   "metadata": {},
   "outputs": [
    {
     "data": {
      "text/plain": [
       "[15, 10, 0, 8, 14, 4, 19, 6, 2, 9]"
      ]
     },
     "execution_count": 12,
     "metadata": {},
     "output_type": "execute_result"
    }
   ],
   "source": [
    "random.sample(range(20),10)"
   ]
  },
  {
   "cell_type": "code",
   "execution_count": null,
   "metadata": {},
   "outputs": [],
   "source": [
    "\"\"\"\n",
    "soma_cell_location_dict #has all of the neurons as keys\n",
    "soma_distance_array # 2D dictionary with distances\n",
    "seg_id_to_orientation #orientation data\n",
    "\n",
    "functions to use\n",
    "\n",
    "\n",
    "\"\"\""
   ]
  },
  {
   "cell_type": "code",
   "execution_count": null,
   "metadata": {},
   "outputs": [],
   "source": [
    "#options could do: \n",
    "-- For each column radius option:\n",
    "    1) Same distances/radius\n",
    "    2) same number of neurons (find 10 closest neurons\n",
    "                               \n",
    "-- For all axis: \n",
    "    1) Do the same volume\n",
    "    2) Same number of neurons\n",
    "    \n",
    "\n",
    "    Dimensions to use\n",
    "Circular: 13700\n",
    "Z axis: 11900\n",
    "X axis: 2850\n",
    "y axis: 6600"
   ]
  }
 ],
 "metadata": {
  "kernelspec": {
   "display_name": "Python 3",
   "language": "python",
   "name": "python3"
  },
  "language_info": {
   "codemirror_mode": {
    "name": "ipython",
    "version": 3
   },
   "file_extension": ".py",
   "mimetype": "text/x-python",
   "name": "python",
   "nbconvert_exporter": "python",
   "pygments_lexer": "ipython3",
   "version": "3.6.8"
  }
 },
 "nbformat": 4,
 "nbformat_minor": 4
}
