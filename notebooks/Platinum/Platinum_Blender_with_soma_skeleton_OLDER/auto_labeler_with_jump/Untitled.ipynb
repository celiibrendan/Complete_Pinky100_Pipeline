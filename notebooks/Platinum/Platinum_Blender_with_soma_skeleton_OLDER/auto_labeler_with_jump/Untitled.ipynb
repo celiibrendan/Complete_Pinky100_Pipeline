{
 "cells": [
  {
   "cell_type": "code",
   "execution_count": 21,
   "metadata": {},
   "outputs": [
    {
     "data": {
      "text/plain": [
       "'\\nPurpose: To test out the KDTree to use in the blender labeling\\ntool that can jump the gaps\\n\\n'"
      ]
     },
     "execution_count": 21,
     "metadata": {},
     "output_type": "execute_result"
    }
   ],
   "source": [
    "\"\"\"\n",
    "Purpose: To test out the KDTree to use in the blender labeling\n",
    "tool that can jump the gaps\n",
    "\n",
    "\"\"\""
   ]
  },
  {
   "cell_type": "code",
   "execution_count": 22,
   "metadata": {},
   "outputs": [],
   "source": [
    "import datajoint as dj\n",
    "import numpy as np\n",
    "from scipy.spatial import KDTree\n",
    "import time\n",
    "from tqdm import tqdm"
   ]
  },
  {
   "cell_type": "code",
   "execution_count": 23,
   "metadata": {},
   "outputs": [],
   "source": [
    "# how to use KDTree\n",
    "base_mesh = np.array([np.linspace(0,10,11),np.linspace(0,10,11),np.linspace(0,10,11)]).T"
   ]
  },
  {
   "cell_type": "code",
   "execution_count": 24,
   "metadata": {},
   "outputs": [],
   "source": [
    "#sample points\n",
    "test_points = np.array([\n",
    "    [5,4,6],\n",
    "    [1,1,1.2],\n",
    "    [3,3,3.5],\n",
    "    [6,6,6.8],\n",
    "    [7,7,7.8],\n",
    "    [9,9,9]\n",
    "])"
   ]
  },
  {
   "cell_type": "code",
   "execution_count": null,
   "metadata": {},
   "outputs": [],
   "source": [
    "current_kdtree = KDTree(base_mesh)\n",
    "distances, nearest_nodes = current_kdtree.query(test_points)\n",
    "print(nearest_nodes)"
   ]
  },
  {
   "cell_type": "code",
   "execution_count": null,
   "metadata": {},
   "outputs": [],
   "source": [
    "for d in distances: \n",
    "    print(d)"
   ]
  },
  {
   "cell_type": "code",
   "execution_count": null,
   "metadata": {},
   "outputs": [],
   "source": [
    "verts_checked = set()\n",
    "verts_checked.add((1,2,3))\n",
    "test_points[tuple(verts_checked)]"
   ]
  },
  {
   "cell_type": "code",
   "execution_count": null,
   "metadata": {},
   "outputs": [],
   "source": [
    "print(distances)"
   ]
  },
  {
   "cell_type": "code",
   "execution_count": 32,
   "metadata": {},
   "outputs": [
    {
     "data": {
      "text/plain": [
       "array([[ 0.,  0.,  0.],\n",
       "       [ 1.,  1.,  1.],\n",
       "       [ 2.,  2.,  2.],\n",
       "       [ 3.,  3.,  3.],\n",
       "       [ 4.,  4.,  4.],\n",
       "       [ 5.,  5.,  5.],\n",
       "       [ 6.,  6.,  6.],\n",
       "       [ 7.,  7.,  7.],\n",
       "       [ 8.,  8.,  8.],\n",
       "       [ 9.,  9.,  9.],\n",
       "       [10., 10., 10.]])"
      ]
     },
     "execution_count": 32,
     "metadata": {},
     "output_type": "execute_result"
    }
   ],
   "source": [
    "coords_array"
   ]
  },
  {
   "cell_type": "code",
   "execution_count": 34,
   "metadata": {},
   "outputs": [
    {
     "data": {
      "text/plain": [
       "array([], shape=(0, 3), dtype=float64)"
      ]
     },
     "execution_count": 34,
     "metadata": {},
     "output_type": "execute_result"
    }
   ],
   "source": [
    "coords_array = base_mesh\n",
    "coords_array[list({1,2,3,4,5,6})]\n",
    "coords_array[list({})]"
   ]
  },
  {
   "cell_type": "code",
   "execution_count": null,
   "metadata": {},
   "outputs": [],
   "source": [
    "\"\"\"\n",
    "Pseudocode for how to jump\n",
    "1) Get all the verts checked in the mesh\n",
    "2) \n",
    "\n",
    "\"\"\"\n",
    "jump_threshold = 100\n",
    "\n",
    "#To get all the vertices and turns into numpy array (can do this ahead of time): \n",
    "coords_array = np.array([v.co for i,v in enumerate(obj.data.vertices)])\n",
    "\n",
    "#get the coordinates of those that have already been cheked and use it as base\n",
    "verts_checked_array = coords_array[tuple(verts_checked)]\n",
    "\n",
    "#do a KDTree to figure out the distances of all the veritces\n",
    "current_kdtree = KDTree(verts_checked_array)\n",
    "distances, nearest_nodes = current_kdtree.query(coords_array)\n",
    "\n",
    "#now want to keep only the indexes that are below the threshold and not in the verts_checked indexes\n",
    "verts_to_check = set([i for i,d in enumerate(distances) if ((i not in verts_checked) and (d < jump_threshold))])"
   ]
  }
 ],
 "metadata": {
  "kernelspec": {
   "display_name": "Python 3",
   "language": "python",
   "name": "python3"
  },
  "language_info": {
   "codemirror_mode": {
    "name": "ipython",
    "version": 3
   },
   "file_extension": ".py",
   "mimetype": "text/x-python",
   "name": "python",
   "nbconvert_exporter": "python",
   "pygments_lexer": "ipython3",
   "version": "3.5.3"
  }
 },
 "nbformat": 4,
 "nbformat_minor": 4
}
