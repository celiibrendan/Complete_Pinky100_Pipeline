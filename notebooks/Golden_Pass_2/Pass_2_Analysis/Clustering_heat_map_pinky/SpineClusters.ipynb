{
 "cells": [
  {
   "cell_type": "code",
   "execution_count": 1,
   "metadata": {},
   "outputs": [],
   "source": [
    "import datajoint as dj\n",
    "import numpy as np\n",
    "import time\n",
    "\n",
    "import pandas as pd\n",
    "import seaborn as sns\n",
    "sns.set() #sets the asethetics parameters in what set"
   ]
  },
  {
   "cell_type": "code",
   "execution_count": 2,
   "metadata": {},
   "outputs": [
    {
     "name": "stdout",
     "output_type": "stream",
     "text": [
      "Connecting celiib@10.28.0.34:3306\n"
     ]
    }
   ],
   "source": [
    "#setting the address and the username\n",
    "dj.config['database.host'] = '10.28.0.34'\n",
    "dj.config['database.user'] = 'celiib'\n",
    "dj.config['database.password'] = 'newceliipass'\n",
    "dj.config['safemode']=True\n",
    "dj.config[\"display.limit\"] = 20\n",
    "\n",
    "schema = dj.schema('microns_pinky')\n",
    "pinky = dj.create_virtual_module('pinky', 'microns_pinky')\n"
   ]
  },
  {
   "cell_type": "code",
   "execution_count": 3,
   "metadata": {},
   "outputs": [
    {
     "data": {
      "text/plain": [
       "(30088, 30089)"
      ]
     },
     "execution_count": 3,
     "metadata": {},
     "output_type": "execute_result"
    }
   ],
   "source": [
    "#NeuriteTargets was recomputed from the NeuriteRevised list\n",
    "len(pinky.NeuriteTargetsRevised() & \"spine_num<total\"),len(pinky.NeuriteTargetsRevised() )"
   ]
  },
  {
   "cell_type": "code",
   "execution_count": 4,
   "metadata": {},
   "outputs": [
    {
     "data": {
      "text/html": [
       "\n",
       "        \n",
       "        <style type=\"text/css\">\n",
       "            .Relation{\n",
       "                border-collapse:collapse;\n",
       "            }\n",
       "            .Relation th{\n",
       "                background: #A0A0A0; color: #ffffff; padding:4px; border:#f0e0e0 1px solid;\n",
       "                font-weight: normal; font-family: monospace; font-size: 100%;\n",
       "            }\n",
       "            .Relation td{\n",
       "                padding:4px; border:#f0e0e0 1px solid; font-size:100%;\n",
       "            }\n",
       "            .Relation tr:nth-child(odd){\n",
       "                background: #ffffff;\n",
       "            }\n",
       "            .Relation tr:nth-child(even){\n",
       "                background: #f3f1ff;\n",
       "            }\n",
       "            /* Tooltip container */\n",
       "            .djtooltip {\n",
       "            }\n",
       "            /* Tooltip text */\n",
       "            .djtooltip .djtooltiptext {\n",
       "                visibility: hidden;\n",
       "                width: 120px;\n",
       "                background-color: black;\n",
       "                color: #fff;\n",
       "                text-align: center;\n",
       "                padding: 5px 0;\n",
       "                border-radius: 6px;\n",
       "                /* Position the tooltip text - see examples below! */\n",
       "                position: absolute;\n",
       "                z-index: 1;\n",
       "            }\n",
       "            #primary {\n",
       "                font-weight: bold;\n",
       "                color: black;\n",
       "            }\n",
       "\n",
       "            #nonprimary {\n",
       "                font-weight: normal;\n",
       "                color: white;\n",
       "            }\n",
       "\n",
       "            /* Show the tooltip text when you mouse over the tooltip container */\n",
       "            .djtooltip:hover .djtooltiptext {\n",
       "                visibility: visible;\n",
       "            }\n",
       "        </style>\n",
       "        \n",
       "        \n",
       "            <div style=\"max-height:1000px;max-width:1500px;overflow:auto;\">\n",
       "            <table border=\"1\" class=\"Relation\">\n",
       "                <thead> <tr style=\"text-align: right;\"> <th> <div class=\"djtooltip\">\n",
       "                                <p id=\"primary\">segmentation</p>\n",
       "                                <span class=\"djtooltiptext\">segmentation id</span>\n",
       "                            </div></th><th><div class=\"djtooltip\">\n",
       "                                <p id=\"primary\">segment_id</p>\n",
       "                                <span class=\"djtooltiptext\">segment id unique within each Segmentation</span>\n",
       "                            </div></th><th><div class=\"djtooltip\">\n",
       "                                <p id=\"nonprimary\">spine_head_prop</p>\n",
       "                                <span class=\"djtooltiptext\">calculated attribute</span>\n",
       "                            </div></th><th><div class=\"djtooltip\">\n",
       "                                <p id=\"nonprimary\">shaft_prop</p>\n",
       "                                <span class=\"djtooltiptext\">calculated attribute</span>\n",
       "                            </div></th><th><div class=\"djtooltip\">\n",
       "                                <p id=\"nonprimary\">soma_prop</p>\n",
       "                                <span class=\"djtooltiptext\">calculated attribute</span>\n",
       "                            </div></th><th><div class=\"djtooltip\">\n",
       "                                <p id=\"nonprimary\">axon_prop</p>\n",
       "                                <span class=\"djtooltiptext\">calculated attribute</span>\n",
       "                            </div></th><th><div class=\"djtooltip\">\n",
       "                                <p id=\"nonprimary\">total</p>\n",
       "                                <span class=\"djtooltiptext\">calculated attribute</span>\n",
       "                            </div> </th> </tr> </thead>\n",
       "                <tbody> <tr> <td>3</td>\n",
       "<td>648518346341351467</td>\n",
       "<td>1.0</td>\n",
       "<td>0.0</td>\n",
       "<td>0.0</td>\n",
       "<td>0.0</td>\n",
       "<td>5.0</td></tr><tr><td>3</td>\n",
       "<td>648518346341351503</td>\n",
       "<td>1.0</td>\n",
       "<td>0.0</td>\n",
       "<td>0.0</td>\n",
       "<td>0.0</td>\n",
       "<td>3.0</td></tr><tr><td>3</td>\n",
       "<td>648518346341351508</td>\n",
       "<td>0.1666666716337204</td>\n",
       "<td>0.8333333134651184</td>\n",
       "<td>0.3333333432674408</td>\n",
       "<td>0.0</td>\n",
       "<td>6.0</td></tr><tr><td>3</td>\n",
       "<td>648518346341351509</td>\n",
       "<td>1.0</td>\n",
       "<td>0.0</td>\n",
       "<td>0.0</td>\n",
       "<td>0.0</td>\n",
       "<td>3.0</td></tr><tr><td>3</td>\n",
       "<td>648518346341351514</td>\n",
       "<td>0.7500000325962902</td>\n",
       "<td>0.2500000046566129</td>\n",
       "<td>0.0</td>\n",
       "<td>0.0</td>\n",
       "<td>8.0</td></tr><tr><td>3</td>\n",
       "<td>648518346341351518</td>\n",
       "<td>1.0000000173846881</td>\n",
       "<td>0.0</td>\n",
       "<td>0.0</td>\n",
       "<td>0.0</td>\n",
       "<td>6.0</td></tr><tr><td>3</td>\n",
       "<td>648518346341351523</td>\n",
       "<td>1.000000049670538</td>\n",
       "<td>0.0</td>\n",
       "<td>0.0</td>\n",
       "<td>0.0</td>\n",
       "<td>3.0</td></tr><tr><td>3</td>\n",
       "<td>648518346341351525</td>\n",
       "<td>0.8181818203985198</td>\n",
       "<td>0.18181818772938627</td>\n",
       "<td>0.0</td>\n",
       "<td>0.0</td>\n",
       "<td>11.0</td></tr><tr><td>3</td>\n",
       "<td>648518346341351526</td>\n",
       "<td>1.0</td>\n",
       "<td>0.0</td>\n",
       "<td>0.0</td>\n",
       "<td>0.0</td>\n",
       "<td>5.0</td></tr><tr><td>3</td>\n",
       "<td>648518346341351531</td>\n",
       "<td>1.0</td>\n",
       "<td>0.0</td>\n",
       "<td>0.0</td>\n",
       "<td>0.0</td>\n",
       "<td>3.0</td></tr><tr><td>3</td>\n",
       "<td>648518346341351545</td>\n",
       "<td>1.0</td>\n",
       "<td>0.0</td>\n",
       "<td>0.0</td>\n",
       "<td>0.0</td>\n",
       "<td>5.0</td></tr><tr><td>3</td>\n",
       "<td>648518346341351631</td>\n",
       "<td>0.8999999967217446</td>\n",
       "<td>0.10000000327825548</td>\n",
       "<td>0.0</td>\n",
       "<td>0.0</td>\n",
       "<td>20.0</td></tr><tr><td>3</td>\n",
       "<td>648518346341351635</td>\n",
       "<td>0.800000011920929</td>\n",
       "<td>0.20000000298023224</td>\n",
       "<td>0.0</td>\n",
       "<td>0.0</td>\n",
       "<td>5.0</td></tr><tr><td>3</td>\n",
       "<td>648518346341351641</td>\n",
       "<td>1.0000000186264515</td>\n",
       "<td>0.0</td>\n",
       "<td>0.0</td>\n",
       "<td>0.0</td>\n",
       "<td>4.0</td></tr><tr><td>3</td>\n",
       "<td>648518346341351675</td>\n",
       "<td>0.6666666666666666</td>\n",
       "<td>0.3333333333333333</td>\n",
       "<td>0.0</td>\n",
       "<td>0.3333333333333333</td>\n",
       "<td>3.0</td></tr><tr><td>3</td>\n",
       "<td>648518346341351695</td>\n",
       "<td>0.857142884512337</td>\n",
       "<td>0.14285714422561685</td>\n",
       "<td>0.0</td>\n",
       "<td>0.0</td>\n",
       "<td>7.0</td></tr><tr><td>3</td>\n",
       "<td>648518346341351710</td>\n",
       "<td>0.25000001117587106</td>\n",
       "<td>0.7500000111758711</td>\n",
       "<td>0.0</td>\n",
       "<td>0.0</td>\n",
       "<td>4.0</td></tr><tr><td>3</td>\n",
       "<td>648518346341351713</td>\n",
       "<td>1.0</td>\n",
       "<td>0.0</td>\n",
       "<td>0.0</td>\n",
       "<td>0.0</td>\n",
       "<td>4.0</td></tr><tr><td>3</td>\n",
       "<td>648518346341351718</td>\n",
       "<td>0.5000000093132257</td>\n",
       "<td>0.5000000093132257</td>\n",
       "<td>0.0</td>\n",
       "<td>0.0</td>\n",
       "<td>4.0</td></tr><tr><td>3</td>\n",
       "<td>648518346341351719</td>\n",
       "<td>0.8571428571428571</td>\n",
       "<td>0.14285714285714285</td>\n",
       "<td>0.0</td>\n",
       "<td>0.0</td>\n",
       "<td>7.0</td> </tr> </tbody>\n",
       "            </table>\n",
       "            <p>...</p>\n",
       "            <p>Total: 30084</p></div>\n",
       "            "
      ],
      "text/plain": [
       "*segmentation  *segment_id    spine_head_pro shaft_prop     soma_prop      axon_prop      total    \n",
       "+------------+ +------------+ +------------+ +------------+ +------------+ +------------+ +-------+\n",
       "3              64851834634135 1.0            0.0            0.0            0.0            5.0      \n",
       "3              64851834634135 1.0            0.0            0.0            0.0            3.0      \n",
       "3              64851834634135 0.166666671633 0.833333313465 0.333333343267 0.0            6.0      \n",
       "3              64851834634135 1.0            0.0            0.0            0.0            3.0      \n",
       "3              64851834634135 0.750000032596 0.250000004656 0.0            0.0            8.0      \n",
       "3              64851834634135 1.000000017384 0.0            0.0            0.0            6.0      \n",
       "3              64851834634135 1.000000049670 0.0            0.0            0.0            3.0      \n",
       "3              64851834634135 0.818181820398 0.181818187729 0.0            0.0            11.0     \n",
       "3              64851834634135 1.0            0.0            0.0            0.0            5.0      \n",
       "3              64851834634135 1.0            0.0            0.0            0.0            3.0      \n",
       "3              64851834634135 1.0            0.0            0.0            0.0            5.0      \n",
       "3              64851834634135 0.899999996721 0.100000003278 0.0            0.0            20.0     \n",
       "3              64851834634135 0.800000011920 0.200000002980 0.0            0.0            5.0      \n",
       "3              64851834634135 1.000000018626 0.0            0.0            0.0            4.0      \n",
       "3              64851834634135 0.666666666666 0.333333333333 0.0            0.333333333333 3.0      \n",
       "3              64851834634135 0.857142884512 0.142857144225 0.0            0.0            7.0      \n",
       "3              64851834634135 0.250000011175 0.750000011175 0.0            0.0            4.0      \n",
       "3              64851834634135 1.0            0.0            0.0            0.0            4.0      \n",
       "3              64851834634135 0.500000009313 0.500000009313 0.0            0.0            4.0      \n",
       "3              64851834634135 0.857142857142 0.142857142857 0.0            0.0            7.0      \n",
       "   ...\n",
       " (Total: 30084)"
      ]
     },
     "execution_count": 4,
     "metadata": {},
     "output_type": "execute_result"
    }
   ],
   "source": [
    "#creates the table with spine data without the spine label\n",
    "#how to filter out the spine proportion\n",
    "\n",
    "#have to first remove the ones that have only spine synapses\n",
    "\n",
    "\n",
    "neurite_targets_no_spine = (pinky.NeuriteTargetsRevised() & \"(spine_num + spine_neck_num) <total\").proj(\n",
    "                                                         spine_head_prop=\"spine_head_prop/(1-spine_prop - spine_neck_prop)\",\n",
    "                                                         shaft_prop=\"shaft_prop/(1-spine_prop - spine_neck_prop)\",\n",
    "                                                         #non_spine_prop=\"non_spine_prop/(1-spine_prop - spine_neck_prop)\",\n",
    "                                                         soma_prop = \"soma_prop/(1-spine_prop - spine_neck_prop)\",\n",
    "                                                         axon_prop = \"axon_prop/(1-spine_prop - spine_neck_prop)\",\n",
    "                                                         total=\"total-spine_num - spine_neck_num\",\n",
    "                                            )\n",
    "\n",
    "neurite_targets_no_spine\n",
    "\n"
   ]
  },
  {
   "cell_type": "code",
   "execution_count": 5,
   "metadata": {},
   "outputs": [
    {
     "name": "stdout",
     "output_type": "stream",
     "text": [
      "30084\n",
      "1320\n",
      "2351\n",
      "4365\n",
      "8664\n"
     ]
    }
   ],
   "source": [
    "#different lengths based on the number of synapses threshold\n",
    "\n",
    "print(len(neurite_targets_no_spine))\n",
    "print(len(neurite_targets_no_spine & \"total>12\"))\n",
    "print(len(neurite_targets_no_spine & \"total>10\")) \n",
    "print(len(neurite_targets_no_spine & \"total>8\")) \n",
    "print(len(neurite_targets_no_spine & \"total>6\")) "
   ]
  },
  {
   "cell_type": "code",
   "execution_count": 6,
   "metadata": {},
   "outputs": [
    {
     "name": "stdout",
     "output_type": "stream",
     "text": [
      "Total in neurite table with greater than 6 synapses = 8664\n"
     ]
    }
   ],
   "source": [
    "neurite_targets_no_spine_6 = (neurite_targets_no_spine & \"total>6\")\n",
    "print(\"Total in neurite table with greater than 6 synapses = \" + str(len(neurite_targets_no_spine_6)))"
   ]
  },
  {
   "cell_type": "code",
   "execution_count": 24,
   "metadata": {},
   "outputs": [
    {
     "name": "stdout",
     "output_type": "stream",
     "text": [
      "Number of axons with at least 1 Axon synapse = 226, perc = 0.02608494921514312 \n"
     ]
    },
    {
     "data": {
      "image/png": "[encoded data removed]",
      "text/plain": [
       "<Figure size 432x288 with 1 Axes>"
      ]
     },
     "metadata": {
      "needs_background": "light"
     },
     "output_type": "display_data"
    }
   ],
   "source": [
    "#show the distribution\n",
    "axon_prop = neurite_targets_no_spine_6.fetch(\"axon_prop\")\n",
    "axon_prop\n",
    "axon_greater_0_array = axon_prop[axon_prop.astype(\"float\") > 0]\n",
    "ax = sns.distplot(axon_greater_0_array.astype(\"float\"))\n",
    "ax.set(title=\"Historgram of % of axon synapses (after filtering away 0 axon synapsing neurites)\",\n",
    "      xlabel=\"% of synapses that are axons\",ylabel = \"Number of neurites\")\n",
    "print(f\"Number of axons with at least 1 Axon synapse = {len(axon_greater_0_array)}, perc = {len(axon_greater_0_array)/len(neurite_targets_no_spine_6)} \")"
   ]
  },
  {
   "cell_type": "code",
   "execution_count": 25,
   "metadata": {},
   "outputs": [
    {
     "name": "stdout",
     "output_type": "stream",
     "text": [
      "Number of Neurites with at least 1 Soma synapse = 958, perc = 0.1105724838411819 \n"
     ]
    },
    {
     "data": {
      "image/png": "[encoded data removed]",
      "text/plain": [
       "<Figure size 432x288 with 1 Axes>"
      ]
     },
     "metadata": {
      "needs_background": "light"
     },
     "output_type": "display_data"
    }
   ],
   "source": [
    "#show the distribution\n",
    "soma_prop = (neurite_targets_no_spine_6 ).fetch(\"soma_prop\")\n",
    "soma_prop\n",
    "soma_greater_0_array = soma_prop[soma_prop.astype(\"float\") > 0]\n",
    "ax = sns.distplot(soma_greater_0_array.astype(\"float\"))\n",
    "\n",
    "\n",
    "ax.set(title=\"Historgram of % of soma synapses (after filtering away 0 soma synapsing neurites)\",\n",
    "       xlabel=\"% of synapses that are soma\",ylabel = \"Number of neurites\")\n",
    "print(f\"Number of Neurites with at least 1 Soma synapse = {len(soma_greater_0_array)}, perc = {len(soma_greater_0_array)/len(neurite_targets_no_spine_6)} \")"
   ]
  },
  {
   "cell_type": "code",
   "execution_count": 15,
   "metadata": {},
   "outputs": [
    {
     "name": "stdout",
     "output_type": "stream",
     "text": [
      "Axon group = 226\n",
      "Soma group = 499\n"
     ]
    }
   ],
   "source": [
    "#manually find the groups\n",
    "\"\"\n",
    "axon_group = neurite_targets_no_spine_6 & \"axon_prop>0\"\n",
    "print(\"Axon group = \" + str(len(axon_group)))\n",
    "soma_group = (neurite_targets_no_spine_6 - axon_group.proj()) & \"soma_prop>=0.25\"\n",
    "print(\"Soma group = \" + str(len(soma_group)))"
   ]
  },
  {
   "cell_type": "code",
   "execution_count": 23,
   "metadata": {},
   "outputs": [
    {
     "name": "stdout",
     "output_type": "stream",
     "text": [
      "Number of Neurites with at least 1 spine_head synapse = 8241, perc = 0.9511772853185596 \n"
     ]
    },
    {
     "data": {
      "image/png": "[encoded data removed]",
      "text/plain": [
       "<Figure size 432x288 with 1 Axes>"
      ]
     },
     "metadata": {
      "needs_background": "light"
     },
     "output_type": "display_data"
    }
   ],
   "source": [
    "#show the distribution\n",
    "spine_head_prop = (neurite_targets_no_spine_6 ).fetch(\"spine_head_prop\")\n",
    "spine_head_prop\n",
    "spine_head_greater_0_array = spine_head_prop[spine_head_prop.astype(\"float\") > 0]\n",
    "ax = sns.distplot(spine_head_greater_0_array.astype(\"float\"))\n",
    "\n",
    "\n",
    "ax.set(title=\"Historgram of % of spine_head synapses (after filtering away 0 spine_head synapsing neurites)\",\n",
    "       xlabel=\"% of synapses that are spine_head\",ylabel = \"Number of neurites\")\n",
    "print(f\"Number of Neurites with at least 1 spine_head synapse = {len(spine_head_greater_0_array)}, perc = {len(spine_head_greater_0_array)/len(neurite_targets_no_spine_6)} \")"
   ]
  },
  {
   "cell_type": "code",
   "execution_count": 16,
   "metadata": {},
   "outputs": [
    {
     "data": {
      "text/plain": [
       "0.916320406278855"
      ]
     },
     "execution_count": 16,
     "metadata": {},
     "output_type": "execute_result"
    }
   ],
   "source": [
    "#remove the axon and soma groups\n",
    "neurite_targets_no_spine_6_without_axon_soma = neurite_targets_no_spine_6 - axon_group.proj() - soma_group.proj()\n",
    "len(neurite_targets_no_spine_6_without_axon_soma)/len(neurite_targets_no_spine_6)"
   ]
  },
  {
   "cell_type": "code",
   "execution_count": 17,
   "metadata": {},
   "outputs": [],
   "source": [
    "#get heatmap of the data\n",
    "\n",
    "neurite_spine_data = neurite_targets_no_spine_6_without_axon_soma.fetch(as_dict=True)\n",
    "\n",
    "spine_df = pd.DataFrame(neurite_spine_data)\n",
    "spine_df_base = spine_df.drop(columns=['segmentation', 'segment_id',\"total\",\"axon_prop\",\"soma_prop\"])\n",
    "#spine_df_base"
   ]
  },
  {
   "cell_type": "code",
   "execution_count": 18,
   "metadata": {},
   "outputs": [
    {
     "data": {
      "text/html": [
       "<div>\n",
       "<style scoped>\n",
       "    .dataframe tbody tr th:only-of-type {\n",
       "        vertical-align: middle;\n",
       "    }\n",
       "\n",
       "    .dataframe tbody tr th {\n",
       "        vertical-align: top;\n",
       "    }\n",
       "\n",
       "    .dataframe thead th {\n",
       "        text-align: right;\n",
       "    }\n",
       "</style>\n",
       "<table border=\"1\" class=\"dataframe\">\n",
       "  <thead>\n",
       "    <tr style=\"text-align: right;\">\n",
       "      <th></th>\n",
       "      <th>spine_head_prop</th>\n",
       "      <th>shaft_prop</th>\n",
       "    </tr>\n",
       "  </thead>\n",
       "  <tbody>\n",
       "    <tr>\n",
       "      <td>1342</td>\n",
       "      <td>1.0</td>\n",
       "      <td>0.0</td>\n",
       "    </tr>\n",
       "    <tr>\n",
       "      <td>2152</td>\n",
       "      <td>1.0</td>\n",
       "      <td>0.0</td>\n",
       "    </tr>\n",
       "    <tr>\n",
       "      <td>3439</td>\n",
       "      <td>1.0</td>\n",
       "      <td>0.0</td>\n",
       "    </tr>\n",
       "    <tr>\n",
       "      <td>853</td>\n",
       "      <td>1.0</td>\n",
       "      <td>0.0</td>\n",
       "    </tr>\n",
       "    <tr>\n",
       "      <td>3365</td>\n",
       "      <td>1.0</td>\n",
       "      <td>0.0</td>\n",
       "    </tr>\n",
       "    <tr>\n",
       "      <td>...</td>\n",
       "      <td>...</td>\n",
       "      <td>...</td>\n",
       "    </tr>\n",
       "    <tr>\n",
       "      <td>6354</td>\n",
       "      <td>0.0</td>\n",
       "      <td>1.0</td>\n",
       "    </tr>\n",
       "    <tr>\n",
       "      <td>7150</td>\n",
       "      <td>0.0</td>\n",
       "      <td>1.0</td>\n",
       "    </tr>\n",
       "    <tr>\n",
       "      <td>7817</td>\n",
       "      <td>0.0</td>\n",
       "      <td>1.0</td>\n",
       "    </tr>\n",
       "    <tr>\n",
       "      <td>7832</td>\n",
       "      <td>0.0</td>\n",
       "      <td>1.0</td>\n",
       "    </tr>\n",
       "    <tr>\n",
       "      <td>6324</td>\n",
       "      <td>0.0</td>\n",
       "      <td>1.0</td>\n",
       "    </tr>\n",
       "  </tbody>\n",
       "</table>\n",
       "<p>7939 rows × 2 columns</p>\n",
       "</div>"
      ],
      "text/plain": [
       "      spine_head_prop  shaft_prop\n",
       "1342              1.0         0.0\n",
       "2152              1.0         0.0\n",
       "3439              1.0         0.0\n",
       "853               1.0         0.0\n",
       "3365              1.0         0.0\n",
       "...               ...         ...\n",
       "6354              0.0         1.0\n",
       "7150              0.0         1.0\n",
       "7817              0.0         1.0\n",
       "7832              0.0         1.0\n",
       "6324              0.0         1.0\n",
       "\n",
       "[7939 rows x 2 columns]"
      ]
     },
     "execution_count": 18,
     "metadata": {},
     "output_type": "execute_result"
    }
   ],
   "source": [
    "#sort by the first column and then do heat map\n",
    "spine_df_base_head_shaft_sort = spine_df_base.sort_values(['spine_head_prop','shaft_prop'], ascending=[False,True])\n",
    "spine_df_base_head_shaft_sort"
   ]
  },
  {
   "cell_type": "code",
   "execution_count": 19,
   "metadata": {},
   "outputs": [
    {
     "data": {
      "text/plain": [
       "6390"
      ]
     },
     "execution_count": 19,
     "metadata": {},
     "output_type": "execute_result"
    }
   ],
   "source": [
    "#making the head group\n",
    "head_group = neurite_targets_no_spine_6_without_axon_soma & \"spine_head_prop >=0.6\"\n",
    "len(head_group)"
   ]
  },
  {
   "cell_type": "code",
   "execution_count": 20,
   "metadata": {},
   "outputs": [
    {
     "data": {
      "text/plain": [
       "1210"
      ]
     },
     "execution_count": 20,
     "metadata": {},
     "output_type": "execute_result"
    }
   ],
   "source": [
    "#making the shaft group\n",
    "shaft_group = (neurite_targets_no_spine_6_without_axon_soma & \"shaft_prop >=0.5\") - head_group.proj()\n",
    "len(shaft_group)"
   ]
  },
  {
   "cell_type": "code",
   "execution_count": 21,
   "metadata": {},
   "outputs": [],
   "source": [
    "unused = neurite_targets_no_spine_6_without_axon_soma - head_group.proj() - shaft_group.proj()"
   ]
  },
  {
   "cell_type": "code",
   "execution_count": 22,
   "metadata": {},
   "outputs": [
    {
     "name": "stdout",
     "output_type": "stream",
     "text": [
      "499 226 6390 1210 339\n",
      "8664\n"
     ]
    }
   ],
   "source": [
    "print(len(soma_group),len(axon_group),len(head_group),len(shaft_group),len(unused))\n",
    "print(sum([len(soma_group),len(axon_group),len(head_group),len(shaft_group),len(unused)]))"
   ]
  },
  {
   "cell_type": "code",
   "execution_count": null,
   "metadata": {},
   "outputs": [],
   "source": [
    "#look up datajoint table that has the clusters\n",
    "@schema\n",
    "class SpineClustersKey(dj.Lookup):\n",
    "    definition=\"\"\"\n",
    "    cluster_id : tinyint unsigned #numeric label of cluster\n",
    "    ---\n",
    "    description : varchar(16) #descriptive name of cluster\n",
    "    threshold   : float #the proportion cut off for the group based on the category\n",
    "    \"\"\"\n",
    "    "
   ]
  },
  {
   "cell_type": "code",
   "execution_count": null,
   "metadata": {},
   "outputs": [],
   "source": [
    "cluster_descriptions = [\"Soma\",\"Axon\",\"Spine Head\",\"Shaft\",\"Unused\"]\n",
    "cluster_thresholds = [0.25,0.0001,0.6,0.5,0]\n",
    "\n",
    "clusters_dict = [dict(cluster_id=i,description=cd,threshold=ct) for i,(cd,ct) in enumerate(zip(cluster_descriptions,cluster_thresholds))]\n",
    "clusters_dict\n",
    "\n",
    "SpineClustersKey.insert(clusters_dict,skip_duplicates=True)"
   ]
  },
  {
   "cell_type": "code",
   "execution_count": null,
   "metadata": {},
   "outputs": [],
   "source": [
    "SpineClustersKey()"
   ]
  },
  {
   "cell_type": "code",
   "execution_count": null,
   "metadata": {},
   "outputs": [],
   "source": [
    "## Creates the table that holds all of the segment groups\n",
    "@schema\n",
    "class SpineClusters(dj.Manual):\n",
    "    definition=\"\"\"\n",
    "    -> pinky.NeuriteRevised\n",
    "    ---\n",
    "    ->SpineClustersKey\n",
    "    \"\"\""
   ]
  },
  {
   "cell_type": "code",
   "execution_count": null,
   "metadata": {},
   "outputs": [],
   "source": [
    "possible_groups = [soma_group,axon_group,head_group,shaft_group,unused]\n",
    "descriptors = [0,1,2,3,4]\n",
    "for i,table in enumerate(possible_groups):\n",
    "    new_table = table.proj(cluster_id=str(descriptors[i]))\n",
    "    SpineClusters.insert(new_table,skip_duplicates=True)\n",
    "    "
   ]
  },
  {
   "cell_type": "code",
   "execution_count": null,
   "metadata": {},
   "outputs": [],
   "source": [
    "(len(SpineClusters() & \"cluster_id=0\"),len(SpineClusters() & \"cluster_id=1\"),\n",
    " len(SpineClusters() & \"cluster_id=2\"),len(SpineClusters() & \"cluster_id=3\"),\n",
    " len(SpineClusters() & \"cluster_id=4\"))"
   ]
  },
  {
   "cell_type": "code",
   "execution_count": null,
   "metadata": {},
   "outputs": [],
   "source": [
    "print(len(soma_group),len(axon_group),len(head_group),len(shaft_group),len(unused))\n",
    "print(sum([len(soma_group),len(axon_group),len(head_group),len(shaft_group),len(unused)]))"
   ]
  },
  {
   "cell_type": "markdown",
   "metadata": {},
   "source": [
    "# SEE IF ADDING CONTACTS THRESHOLD WOULD AFFECT MUCH "
   ]
  },
  {
   "cell_type": "code",
   "execution_count": null,
   "metadata": {},
   "outputs": [],
   "source": [
    "pinky_fc = dj.create_virtual_module(\"pinky_fc\",\"microns_pinky_fc\")"
   ]
  },
  {
   "cell_type": "code",
   "execution_count": null,
   "metadata": {},
   "outputs": [],
   "source": [
    "pinky.SpineClusters() #segment ids of the chosen Presyns"
   ]
  },
  {
   "cell_type": "code",
   "execution_count": null,
   "metadata": {},
   "outputs": [],
   "source": [
    "presyn_lengths = dj.U(\"segment_id\").aggr(pinky_fc.ContactPrePost.proj(\"total_postsyn_length\"),summed_postsyn_length=\"sum(total_postsyn_length)\")\n",
    "presyn_lengths"
   ]
  },
  {
   "cell_type": "code",
   "execution_count": null,
   "metadata": {},
   "outputs": [],
   "source": [
    "length_threshold = 100000\n",
    "presyn_lengths_with_length_threshold  = presyn_lengths & \"summed_postsyn_length>\" + str(length_threshold)\n",
    "presyn_lengths_with_length_threshold"
   ]
  },
  {
   "cell_type": "code",
   "execution_count": null,
   "metadata": {},
   "outputs": [],
   "source": [
    "#now restrict the clustering based on the threshold\n",
    "presyn_lengths_with_length_threshold.proj(\"segment_id\")"
   ]
  }
 ],
 "metadata": {
  "kernelspec": {
   "display_name": "Python 3",
   "language": "python",
   "name": "python3"
  },
  "language_info": {
   "codemirror_mode": {
    "name": "ipython",
    "version": 3
   },
   "file_extension": ".py",
   "mimetype": "text/x-python",
   "name": "python",
   "nbconvert_exporter": "python",
   "pygments_lexer": "ipython3",
   "version": "3.6.8"
  }
 },
 "nbformat": 4,
 "nbformat_minor": 4
}
