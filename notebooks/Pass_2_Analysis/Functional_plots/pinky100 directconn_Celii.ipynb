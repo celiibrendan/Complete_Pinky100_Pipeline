{
 "cells": [
  {
   "cell_type": "code",
   "execution_count": 1,
   "metadata": {},
   "outputs": [
    {
     "data": {
      "text/plain": [
       "'\\nCelii adapted code for pinky 100 run 2 for direct connectivity\\n\\n'"
      ]
     },
     "execution_count": 1,
     "metadata": {},
     "output_type": "execute_result"
    }
   ],
   "source": [
    "\"\"\"\n",
    "Celii adapted code for pinky 100 run 2 for direct connectivity\n",
    "\n",
    "\"\"\""
   ]
  },
  {
   "cell_type": "code",
   "execution_count": 2,
   "metadata": {},
   "outputs": [
    {
     "ename": "ModuleNotFoundError",
     "evalue": "No module named 'pycircstat'",
     "output_type": "error",
     "traceback": [
      "\u001b[0;31m---------------------------------------------------------------------------\u001b[0m",
      "\u001b[0;31mModuleNotFoundError\u001b[0m                       Traceback (most recent call last)",
      "\u001b[0;32m<ipython-input-2-f21975d8a55a>\u001b[0m in \u001b[0;36m<module>\u001b[0;34m\u001b[0m\n\u001b[0;32m----> 1\u001b[0;31m \u001b[0;32mimport\u001b[0m \u001b[0mpycircstat\u001b[0m \u001b[0;32mas\u001b[0m \u001b[0mpycs\u001b[0m\u001b[0;34m\u001b[0m\u001b[0m\n\u001b[0m",
      "\u001b[0;31mModuleNotFoundError\u001b[0m: No module named 'pycircstat'"
     ]
    }
   ],
   "source": [
    "import pycircstat as pycs"
   ]
  },
  {
   "cell_type": "code",
   "execution_count": null,
   "metadata": {},
   "outputs": [],
   "source": [
    "import numpy as np\n",
    "import matplotlib.pyplot as plt\n",
    "%matplotlib inline\n",
    "import itertools \n",
    "import pandas as pd\n",
    "from tqdm import tqdm\n",
    "import seaborn as sns\n",
    "from scipy import stats\n",
    "import datajoint as dj\n",
    "from collections import defaultdict\n",
    "import pycircstat as pycs\n",
    "from funconnect import morphology, connectomics, ta3, nda\n",
    "from tqdm import tqdm\n",
    "import scipy.stats as stats\n"
   ]
  },
  {
   "cell_type": "code",
   "execution_count": null,
   "metadata": {},
   "outputs": [],
   "source": [
    "ta3p100 = dj.create_virtual_module('microns_ta3p100', 'microns_ta3p100')\n",
    "ndap100 = dj.create_virtual_module('microns_ndap100', 'microns_ndap100')\n",
    "radtune = dj.create_virtual_module('goldfunc_radtune', 'goldfunc_radtune')\n",
    "spattune = dj.create_virtual_module('goldfunc_spattune', 'goldfunc_spattune')\n",
    "fc = dj.create_virtual_module('fc', 'goldfunc_fc')\n"
   ]
  },
  {
   "cell_type": "markdown",
   "metadata": {},
   "source": [
    "# Direct Connection"
   ]
  },
  {
   "cell_type": "markdown",
   "metadata": {},
   "source": [
    "## Orientation / direction tuning "
   ]
  },
  {
   "cell_type": "code",
   "execution_count": null,
   "metadata": {},
   "outputs": [],
   "source": [
    "dj.ERD(ta3p100) +1 -1"
   ]
  },
  {
   "cell_type": "code",
   "execution_count": null,
   "metadata": {},
   "outputs": [],
   "source": [
    "# Exclude synapses, segments and restrict by functional confidence \n",
    "\n",
    "synapse = (ta3p100.Synapse - ta3p100.SynapseExcludeFinal) & ta3p100.CurrentSegmentation\n",
    "segment = (ta3p100.Segment - ta3p100.SegmentExclude) & ta3p100.CurrentSegmentation\n",
    "soma = (ta3p100.AllenSoma - ta3p100.SegmentExclude) & ta3p100.CurrentSegmentation"
   ]
  },
  {
   "cell_type": "code",
   "execution_count": null,
   "metadata": {},
   "outputs": [],
   "source": [
    "# number of direct connections (synapses) for each functional soma pair (both presyn and postsyn are somas with functional traces)\n",
    "\n",
    "fun_fun_syn = synapse & soma.proj(presyn = 'segment_id') & soma.proj(postsyn = 'segment_id') \n",
    "n_syn = dj.U('presyn', 'postsyn').aggr(fun_fun_syn, n_syn = 'count(*)') # soma-soma pairs with at least one synapse\n",
    "\n",
    "all_fun_fun = soma.proj(presyn = 'segment_id') * soma.proj(postsyn = 'segment_id') & 'presyn != postsyn'\n",
    "rel = (dj.U('presyn', 'postsyn') & all_fun_fun).proj('presyn', 'postsyn', n_syn='0')\n",
    "total_n_syn = rel.aggr(dj.U('n_add') * n_syn.proj(n_add='n_syn'), n_syn_total='n_syn + ifnull(n_add, 0)', keep_all_rows=True)# fill out all zeros\n",
    "\n",
    "#reciprocal_pairs = (n_syn * n_syn.proj(postsyn='presyn', presyn='postsyn', n_syn_2='n_syn')).proj(n_syn = 'n_syn + n_syn_2')\n",
    "\n"
   ]
  },
  {
   "cell_type": "code",
   "execution_count": null,
   "metadata": {},
   "outputs": [],
   "source": [
    "total_n_syn"
   ]
  },
  {
   "cell_type": "markdown",
   "metadata": {},
   "source": [
    "## Should count undirected soma-soma pairs, i.e. A->B and B->A synpases summed together for connection between A and B\n"
   ]
  },
  {
   "cell_type": "code",
   "execution_count": null,
   "metadata": {},
   "outputs": [],
   "source": [
    "# combine a-b and b-a connections into one number, and segment_id1 < segment_id2\n",
    "attrs = ['presyn', 'postsyn', 'n_syn_total']\n",
    "a = (total_n_syn & 'presyn < postsyn').proj('presyn', 'postsyn', n_syn1 = 'n_syn_total')\n",
    "b = (total_n_syn & 'presyn > postsyn').proj(n_syn2 = 'n_syn_total', postsyn = 'presyn', presyn = 'postsyn')\n",
    "undirected_n_syn = (a * b).proj(n_syn_total = 'n_syn1 + n_syn2', segment_id1 = 'presyn', segment_id2 = 'postsyn')\n"
   ]
  },
  {
   "cell_type": "code",
   "execution_count": null,
   "metadata": {},
   "outputs": [],
   "source": [
    "# functional metrics for each functional soma pair (restricting by radtune fitting significance)\n",
    "\n",
    "tuned = 'confidence > 0.5'\n",
    "sig_units = radtune.BestVonFit.Unit & 'von_p_value <= 0.001' & tuned\n",
    "sig_unit_pairs = (sig_units.proj(segment_id1 = 'segment_id') * \n",
    "                 sig_units.proj(segment_id2 = 'segment_id')) & 'segment_id1 < segment_id2'\n",
    "\n",
    "radconn_df = pd.DataFrame(((radtune.BestVonCorr & sig_unit_pairs) * undirected_n_syn).fetch())\n",
    "\n",
    "'''\n",
    "# dataframe for directed connections, i.e. a-b different from b-a\n",
    "\n",
    "attrs = ['von_hash1', 'von_hash2', 'segmentation', 'segment_id1', 'segment_id2', 'diff_pref_ori', 'diff_pref_dir', 'diff_sharp', 'diff_osi', 'diff_dsi', 'von_corr', 'von_corr_pvalue', 'diff_v_adv', 'diff_v_pvalue']\n",
    "\n",
    "radconn_pairs1 = (radtune.BestVonCorr & sig_unit_pairs).proj(*attrs, presyn = 'segment_id1', postsyn = 'segment_id2') * total_n_syn\n",
    "radconn_pairs2 = (radtune.BestVonCorr & sig_unit_pairs).proj(*attrs, presyn = 'segment_id2', postsyn = 'segment_id1') * total_n_syn\n",
    "\n",
    "radconn_df1 = pd.DataFrame(radconn_pairs1.fetch())\n",
    "radconn_df2 = pd.DataFrame(radconn_pairs2.fetch())\n",
    "radconn_df = pd.concat([radconn_df1, radconn_df2], ignore_index=True)\n",
    "'''\n"
   ]
  },
  {
   "cell_type": "code",
   "execution_count": null,
   "metadata": {},
   "outputs": [],
   "source": [
    "sum(radconn_df['n_syn_total'].values)"
   ]
  },
  {
   "cell_type": "code",
   "execution_count": null,
   "metadata": {},
   "outputs": [],
   "source": [
    "radconn_df['n_syn_total'].values"
   ]
  },
  {
   "cell_type": "code",
   "execution_count": null,
   "metadata": {},
   "outputs": [],
   "source": [
    "# set up bins for difference in preferred direction\n",
    "rad2deg = 180/np.pi\n",
    "dir_edges = np.linspace(0, np.pi, 5)\n",
    "de = list(['{:.0f}'.format(ee) for ee in [np.round(e * rad2deg) for e in dir_edges]])\n",
    "dir_labels = list(zip(de[:-1], de[1:]))\n",
    "dir_centers = np.round((dir_edges[1:] + dir_edges[:-1])/2 * rad2deg, decimals=2) "
   ]
  },
  {
   "cell_type": "code",
   "execution_count": null,
   "metadata": {},
   "outputs": [],
   "source": [
    "# set up bins for difference in prefered orientation \n",
    "ori_edges = np.linspace(0, np.pi /2 ,5)\n",
    "oe = list(['{:.0f}'.format(ee) for ee in [np.round(e * rad2deg) for e in ori_edges]])\n",
    "ori_labels = list(zip(oe[:-1], oe[1:]))\n",
    "ori_centers = np.round((ori_edges[1:] + ori_edges[:-1])/2 * rad2deg, decimals=2) "
   ]
  },
  {
   "cell_type": "code",
   "execution_count": null,
   "metadata": {},
   "outputs": [],
   "source": [
    "# set up bins for difference in tuning sharpness\n",
    "sharp_edges = np.linspace(min(np.abs(radconn_df['diff_sharp'])), max(np.abs(radconn_df['diff_sharp'])), 6)\n",
    "se = list(['{:.1f}'.format(ee) for ee in sharp_edges])\n",
    "sharp_labels = list(zip(se[:-1], se[1:]))\n",
    "sharp_centers = np.hstack((np.nan, np.round((sharp_edges[1:] + sharp_edges[:-1])/2, decimals=2), np.nan))"
   ]
  },
  {
   "cell_type": "code",
   "execution_count": null,
   "metadata": {},
   "outputs": [],
   "source": [
    "# bin diff_pref_ori, diff_pref_dir, diff_sharp\n",
    "radconn_df['bin_diff_pref_ori'] = ori_centers[(np.digitize(np.abs(radconn_df['diff_pref_ori']), ori_edges)) - 1]\n",
    "radconn_df['bin_diff_pref_dir'] = dir_centers[(np.digitize(np.abs(radconn_df['diff_pref_dir']), dir_edges)) - 1]\n",
    "radconn_df['bin_diff_sharp'] = sharp_centers[(np.digitize(np.abs(radconn_df['diff_sharp']), sharp_edges))]"
   ]
  },
  {
   "cell_type": "code",
   "execution_count": null,
   "metadata": {},
   "outputs": [],
   "source": [
    "# convert n_syn_total into binary values\n",
    "radconn_df['n_syn_binary'] = 1 * (radconn_df['n_syn_total'] > 0).values\n",
    "radconn_df_part = radconn_df[radconn_df['n_syn_total'] > 0]"
   ]
  },
  {
   "cell_type": "code",
   "execution_count": null,
   "metadata": {},
   "outputs": [],
   "source": [
    "# for difference in preferred orientation \n",
    "\n",
    "with sns.axes_style('ticks'):\n",
    "    fig, ax = plt.subplots(1, 3, figsize=(15, 5))\n",
    "sns.pointplot('bin_diff_pref_ori', 'n_syn_binary', data = radconn_df, ax=ax[0]) # probability of direct connection\n",
    "sns.pointplot('bin_diff_pref_ori', 'n_syn_total', data = radconn_df, ax=ax[1])  # average number of connections for all possible functional pairs\n",
    "sns.pointplot('bin_diff_pref_ori', 'n_syn_total', data = radconn_df_part, ax=ax[2]) # average number of connections for pairs with at least one direct connection\n",
    "\n",
    "ax[0].set_title('Probability of direct connection')\n",
    "ax[0].set_xticklabels(['{}°-{}°'.format(*a) for a in ori_labels])\n",
    "ax[0].set_xlabel(r'$\\Delta \\theta$')\n",
    "ax[0].set_ylabel('$P_{conn}$')\n",
    "\n",
    "ax[1].set_title('Avg conn for all possible functional pairs')\n",
    "ax[1].set_xticklabels(['{}°-{}°'.format(*a) for a in ori_labels])\n",
    "ax[1].set_xlabel(r'$\\Delta \\theta$')\n",
    "ax[1].set_ylabel('$<Direct connections>$')\n",
    "\n",
    "ax[2].set_title('Avg conn for pairs with >=1 conn')\n",
    "ax[2].set_xticklabels(['{}°-{}°'.format(*a) for a in ori_labels])\n",
    "ax[2].set_xlabel(r'$\\Delta \\theta$')\n",
    "ax[2].set_ylabel('$<Direct connections>$')\n",
    "\n",
    "sns.despine(trim=True)\n",
    "fig.tight_layout()\n",
    "\n"
   ]
  },
  {
   "cell_type": "code",
   "execution_count": null,
   "metadata": {},
   "outputs": [],
   "source": [
    "# for difference in preferred direction \n",
    "\n",
    "with sns.axes_style('ticks'):\n",
    "    fig, ax = plt.subplots(1, 3, figsize=(15, 5))\n",
    "sns.pointplot('bin_diff_pref_dir', 'n_syn_binary', data = radconn_df, ax=ax[0]) # probability of direct connection\n",
    "sns.pointplot('bin_diff_pref_dir', 'n_syn_total', data = radconn_df, ax=ax[1])  # average number of connections for all possible functional pairs\n",
    "sns.pointplot('bin_diff_pref_dir', 'n_syn_total', data = radconn_df_part, ax=ax[2]) # average number of connections for pairs with at least one direct connection\n",
    "\n",
    "ax[0].set_title('Probability of direct connection')\n",
    "ax[0].set_xticklabels(['{}°-{}°'.format(*a) for a in dir_labels])\n",
    "ax[0].set_xlabel(r'$\\Delta \\theta$')\n",
    "ax[0].set_ylabel('$P_{conn}$')\n",
    "\n",
    "ax[1].set_title('Avg conn for all possible functional pairs')\n",
    "ax[1].set_xticklabels(['{}°-{}°'.format(*a) for a in dir_labels])\n",
    "ax[1].set_xlabel(r'$\\Delta \\theta$')\n",
    "ax[1].set_ylabel('$<Direct connections>$')\n",
    "\n",
    "ax[2].set_title('Avg conn for pairs with >=1 conn')\n",
    "ax[2].set_xticklabels(['{}°-{}°'.format(*a) for a in dir_labels])\n",
    "ax[2].set_xlabel(r'$\\Delta \\theta$')\n",
    "ax[2].set_ylabel('$<Direct connections>$')\n",
    "\n",
    "sns.despine(trim=True)\n",
    "fig.tight_layout()\n"
   ]
  },
  {
   "cell_type": "code",
   "execution_count": null,
   "metadata": {},
   "outputs": [],
   "source": [
    "# for difference in tuning sharpness\n",
    "\n",
    "with sns.axes_style('ticks'):\n",
    "    fig, ax = plt.subplots(1, 3, figsize=(15, 5))\n",
    "sns.pointplot('bin_diff_sharp', 'n_syn_binary', data = radconn_df, ax=ax[0]) # probability of direct connection\n",
    "sns.pointplot('bin_diff_sharp', 'n_syn_total', data = radconn_df, ax=ax[1])  # average number of connections for all possible functional pairs\n",
    "sns.pointplot('bin_diff_sharp', 'n_syn_total', data = radconn_df_part, ax=ax[2]) # average number of connections for pairs with at least one direct connection\n",
    "\n",
    "ax[0].set_title('Probability of direct connection')\n",
    "ax[0].set_xticklabels(['{}-{}'.format(*a) for a in sharp_labels])\n",
    "ax[0].set_xlabel(r'$\\Delta$ tuning sharpness')\n",
    "ax[0].set_ylabel('$P_{conn}$')\n",
    "\n",
    "ax[1].set_title('Avg conn for all possible functional pairs')\n",
    "ax[1].set_xticklabels(['{}-{}'.format(*a) for a in sharp_labels])\n",
    "ax[1].set_xlabel(r'$\\Delta$ tuning sharpness')\n",
    "ax[1].set_ylabel('$<Direct connections>$')\n",
    "\n",
    "ax[2].set_title('Avg conn for pairs with >=1 conn')\n",
    "ax[2].set_xticklabels(['{}-{}'.format(*a) for a in sharp_labels])\n",
    "ax[2].set_xlabel(r'$\\Delta$ tuning sharpness')\n",
    "ax[2].set_ylabel('$<Direct connections>$')\n",
    "\n",
    "sns.despine(trim=True)\n",
    "fig.tight_layout()\n"
   ]
  },
  {
   "cell_type": "markdown",
   "metadata": {},
   "source": [
    "## Receptive field"
   ]
  },
  {
   "cell_type": "code",
   "execution_count": null,
   "metadata": {},
   "outputs": [],
   "source": [
    "# functional metrics for each functional soma pair (restricting by spattune fitting significance)\n",
    "\n",
    "\n",
    "sig_units = spattune.BestSTA.Loc & 'sta_snr > 1.5' & segment\n",
    "sig_unit_pairs = (sig_units.proj(segment_id1 = 'segment_id') * \n",
    "                  sig_units.proj(segment_id2 = 'segment_id')) & 'segment_id1 < segment_id2'\n",
    "\n",
    "spatconn_df = pd.DataFrame(((spattune.BestSTACorr & sig_unit_pairs) * undirected_n_syn).fetch())\n",
    "\n",
    "'''\n",
    "# dataframe for directed connections, i.e. a-b different from b-a\n",
    "\n",
    "attrs = ['sta_hash1', 'sta_hash2', 'apert_radius', 'segmentation', 'segment_id1', 'segment_id2', 'center_dist', 'apert_overlap', 'full_corr_r2', 'full_corr_pvalue', \n",
    "         'union_corr_r2', 'union_corr_pvalue', 'intersect_corr_r2', 'intersect_corr_pvalue', 'align_corr_r2', 'align_corr_pvalue', 'align_overlap', 'diff_snr', 'diff_snr_pvalue']\n",
    "\n",
    "spatconn_pairs1 = (spattune.BestSTACorr & sig_unit_pairs).proj(*attrs, presyn = 'segment_id1', postsyn = 'segment_id2') * total_n_syn\n",
    "spatconn_pairs2 = (spattune.BestSTACorr & sig_unit_pairs).proj(*attrs, presyn = 'segment_id2', postsyn = 'segment_id1') * total_n_syn\n",
    "\n",
    "spatconn_df1 = pd.DataFrame(spatconn_pairs1.fetch())\n",
    "spatconn_df2 = pd.DataFrame(spatconn_pairs2.fetch())\n",
    "spatconn_df = pd.concat([spatconn_df1, spatconn_df2])\n",
    "'''\n"
   ]
  },
  {
   "cell_type": "code",
   "execution_count": null,
   "metadata": {},
   "outputs": [],
   "source": [
    "spatconn_df"
   ]
  },
  {
   "cell_type": "code",
   "execution_count": null,
   "metadata": {},
   "outputs": [],
   "source": [
    "# set up bins for `union_corr_r2`\n",
    "union_edges = np.linspace(min(spatconn_df['union_corr_r2']), max(spatconn_df['union_corr_r2']), 6)\n",
    "ue = list(['{:.2f}'.format(ee) for ee in union_edges])\n",
    "union_labels = list(zip(ue[:-1], ue[1:]))\n",
    "union_centers = np.hstack((np.nan, np.round((union_edges[1:] + union_edges[:-1])/2, decimals=2), np.nan))"
   ]
  },
  {
   "cell_type": "code",
   "execution_count": null,
   "metadata": {},
   "outputs": [],
   "source": [
    "# bin `union_corr_r2`\n",
    "spatconn_df['bin_union_corr_r2'] = union_centers[(np.digitize(spatconn_df['union_corr_r2'], union_edges))]\n"
   ]
  },
  {
   "cell_type": "code",
   "execution_count": null,
   "metadata": {},
   "outputs": [],
   "source": [
    "# convert n_syn_total into binary values\n",
    "spatconn_df['n_syn_binary'] = 1 * (spatconn_df['n_syn_total'] > 0).values\n",
    "spatconn_df_part = spatconn_df[spatconn_df['n_syn_total'] > 0]"
   ]
  },
  {
   "cell_type": "code",
   "execution_count": null,
   "metadata": {},
   "outputs": [],
   "source": [
    "# for difference in preferred orientation \n",
    "\n",
    "with sns.axes_style('ticks'):\n",
    "    fig, ax = plt.subplots(1, 3, figsize=(15, 5))\n",
    "sns.pointplot('bin_union_corr_r2', 'n_syn_binary', data = spatconn_df, ax=ax[0]) # probability of direct connection\n",
    "sns.pointplot('bin_union_corr_r2', 'n_syn_total', data = spatconn_df, ax=ax[1])  # average number of connections for all possible functional pairs\n",
    "sns.pointplot('bin_union_corr_r2', 'n_syn_total', data = spatconn_df_part, ax=ax[2]) # average number of connections for pairs with at least one direct connection\n",
    "\n",
    "ax[0].set_title('Probability of direct connection')\n",
    "ax[0].set_xticklabels(['[{},{}]'.format(*a) for a in union_labels], rotation=30)\n",
    "ax[0].set_xlabel('Union sta correlation r2')\n",
    "ax[0].set_ylabel('$P_{conn}$')\n",
    "\n",
    "ax[1].set_title('Avg conn for all possible functional pairs')\n",
    "ax[1].set_xticklabels(['[{},{}]'.format(*a) for a in union_labels], rotation=30)\n",
    "ax[1].set_xlabel('Union sta correlation r2')\n",
    "ax[1].set_ylabel('$<Direct connections>$')\n",
    "\n",
    "ax[2].set_title('Avg conn for pairs with >=1 conn')\n",
    "ax[2].set_xticklabels(['[{},{}]'.format(*a) for a in union_labels], rotation=30)\n",
    "ax[2].set_xlabel('Union sta correlation r2')\n",
    "ax[2].set_ylabel('$<Direct connections>$')\n",
    "\n",
    "sns.despine(trim=True)\n",
    "fig.tight_layout()\n",
    "\n"
   ]
  },
  {
   "cell_type": "markdown",
   "metadata": {},
   "source": [
    "# Shared Input"
   ]
  },
  {
   "cell_type": "markdown",
   "metadata": {},
   "source": [
    "## Orientation / Direction"
   ]
  },
  {
   "cell_type": "code",
   "execution_count": null,
   "metadata": {},
   "outputs": [],
   "source": [
    "sig_units = radtune.BestVonFit.Unit & 'von_p_value <= 0.001' & segment\n",
    "sig_unit_pairs = (sig_units.proj(segment_id1 = 'segment_id') * \n",
    "                 sig_units.proj(segment_id2 = 'segment_id')) & 'segment_id1 < segment_id2'\n",
    "\n",
    "attrs = ['n_syn_a', 'n_syn_b', 'n_syn_union', 'n_syn_shared', 'n_seg_a', 'n_seg_b', 'n_seg_union', 'n_seg_shared']\n",
    "radconn_df = pd.DataFrame(((radtune.BestVonCorr & sig_unit_pairs) * fc.SharedInput.proj(*attrs, segment_id1 = 'segment_id', segment_id2 = 'segment_b')).fetch())"
   ]
  },
  {
   "cell_type": "code",
   "execution_count": null,
   "metadata": {},
   "outputs": [],
   "source": [
    "radconn_df"
   ]
  },
  {
   "cell_type": "code",
   "execution_count": null,
   "metadata": {},
   "outputs": [],
   "source": [
    "# bin diff_pref_ori, diff_pref_dir, diff_sharp\n",
    "radconn_df['bin_diff_pref_ori'] = ori_centers[(np.digitize(np.abs(radconn_df['diff_pref_ori']), ori_edges)) - 1]\n",
    "radconn_df['bin_diff_pref_dir'] = dir_centers[(np.digitize(np.abs(radconn_df['diff_pref_dir']), dir_edges)) - 1]\n",
    "radconn_df['bin_diff_sharp'] = sharp_centers[(np.digitize(np.abs(radconn_df['diff_sharp']), sharp_edges))]"
   ]
  },
  {
   "cell_type": "code",
   "execution_count": null,
   "metadata": {},
   "outputs": [],
   "source": [
    "# for difference in preferred orientation \n",
    "radconn_df['percent_shared'] = radconn_df['n_seg_shared'] / radconn_df['n_seg_union']\n",
    "\n",
    "with sns.axes_style('ticks'):\n",
    "    fig, ax = plt.subplots(1, 3, figsize=(15, 5))\n",
    "sns.pointplot('bin_diff_pref_ori', 'n_seg_shared', data = radconn_df, ax=ax[0]) \n",
    "sns.pointplot('bin_diff_pref_ori', 'n_seg_union', data = radconn_df, ax=ax[1])  \n",
    "sns.pointplot('bin_diff_pref_ori', 'percent_shared', data = radconn_df, ax=ax[2]) \n",
    "ax[0].set_title('Shared inputs')\n",
    "ax[0].set_xticklabels(['{}°-{}°'.format(*a) for a in ori_labels])\n",
    "ax[0].set_xlabel(r'$\\Delta \\theta$')\n",
    "ax[0].set_ylabel('$<Shared Input Segments>$')\n",
    "\n",
    "ax[1].set_title('Union inputs')\n",
    "ax[1].set_xticklabels(['{}°-{}°'.format(*a) for a in ori_labels])\n",
    "ax[1].set_xlabel(r'$\\Delta \\theta$')\n",
    "ax[1].set_ylabel('$<Union Input Segments>$')\n",
    "\n",
    "ax[2].set_title('Percent of shared inputs')\n",
    "ax[2].set_xticklabels(['{}°-{}°'.format(*a) for a in ori_labels])\n",
    "ax[2].set_xlabel(r'$\\Delta \\theta$')\n",
    "ax[2].set_ylabel('$<Shared / Union>$')\n",
    "\n",
    "sns.despine(trim=True)\n",
    "fig.tight_layout()\n",
    "\n"
   ]
  },
  {
   "cell_type": "code",
   "execution_count": null,
   "metadata": {},
   "outputs": [],
   "source": [
    "# for difference in preferred direction of motion \n",
    "\n",
    "with sns.axes_style('ticks'):\n",
    "    fig, ax = plt.subplots(1, 3, figsize=(15, 5))\n",
    "sns.pointplot('bin_diff_pref_dir', 'n_seg_shared', data = radconn_df, ax=ax[0]) \n",
    "sns.pointplot('bin_diff_pref_dir', 'n_seg_union', data = radconn_df, ax=ax[1])  \n",
    "sns.pointplot('bin_diff_pref_dir', 'percent_shared', data = radconn_df, ax=ax[2]) \n",
    "ax[0].set_title('Shared inputs')\n",
    "ax[0].set_xticklabels(['{}°-{}°'.format(*a) for a in dir_labels])\n",
    "ax[0].set_xlabel(r'$\\Delta \\theta$')\n",
    "ax[0].set_ylabel('$<Shared Input Segments>$')\n",
    "\n",
    "ax[1].set_title('Union inputs')\n",
    "ax[1].set_xticklabels(['{}°-{}°'.format(*a) for a in dir_labels])\n",
    "ax[1].set_xlabel(r'$\\Delta \\theta$')\n",
    "ax[1].set_ylabel('$<Union Input Segments>$')\n",
    "\n",
    "ax[2].set_title('Percent of shared inputs')\n",
    "ax[2].set_xticklabels(['{}°-{}°'.format(*a) for a in dir_labels])\n",
    "ax[2].set_xlabel(r'$\\Delta \\theta$')\n",
    "ax[2].set_ylabel('$<Shared / Union>$')\n",
    "\n",
    "sns.despine(trim=True)\n",
    "fig.tight_layout()\n",
    "\n"
   ]
  },
  {
   "cell_type": "code",
   "execution_count": null,
   "metadata": {},
   "outputs": [],
   "source": [
    "# for difference in tuning sharpness\n",
    "\n",
    "with sns.axes_style('ticks'):\n",
    "    fig, ax = plt.subplots(1, 3, figsize=(15, 5))\n",
    "sns.pointplot('bin_diff_sharp', 'n_seg_shared', data = radconn_df, ax=ax[0]) \n",
    "sns.pointplot('bin_diff_sharp', 'n_seg_union', data = radconn_df, ax=ax[1])  \n",
    "sns.pointplot('bin_diff_sharp', 'percent_shared', data = radconn_df, ax=ax[2]) \n",
    "ax[0].set_title('Shared inputs')\n",
    "ax[0].set_xticklabels(['[{},{}]'.format(*a) for a in sharp_labels])\n",
    "ax[0].set_xlabel(r'$\\Delta$ tuning sharpness')\n",
    "ax[0].set_ylabel('$<Shared Input Segments>$')\n",
    "\n",
    "ax[1].set_title('Union inputs')\n",
    "ax[1].set_xticklabels(['[{},{}]'.format(*a) for a in sharp_labels])\n",
    "ax[1].set_xlabel(r'$\\Delta$ tuning sharpness')\n",
    "ax[1].set_ylabel('$<Union Input Segments>$')\n",
    "\n",
    "ax[2].set_title('Percent of shared inputs')\n",
    "ax[2].set_xticklabels(['[{},{}]'.format(*a) for a in sharp_labels])\n",
    "ax[2].set_xlabel(r'$\\Delta$ tuning sharpness')\n",
    "ax[2].set_ylabel('$<Shared / Union>$')\n",
    "\n",
    "sns.despine(trim=True)\n",
    "fig.tight_layout()\n",
    "\n"
   ]
  },
  {
   "cell_type": "markdown",
   "metadata": {},
   "source": [
    "## Receptive field"
   ]
  },
  {
   "cell_type": "code",
   "execution_count": null,
   "metadata": {},
   "outputs": [],
   "source": []
  },
  {
   "cell_type": "code",
   "execution_count": null,
   "metadata": {},
   "outputs": [],
   "source": [
    "# functional metrics for each functional soma pair (restricting by spattune fitting significance)\n",
    "\n",
    "sig_units = spattune.BestSTA.Loc & 'sta_snr > 1.5' & segment\n",
    "sig_unit_pairs = (sig_units.proj(segment_id1 = 'segment_id') * \n",
    "                  sig_units.proj(segment_id2 = 'segment_id')) & 'segment_id1 < segment_id2'\n",
    "\n",
    "attrs = ['n_syn_a', 'n_syn_b', 'n_syn_union', 'n_syn_shared', 'n_seg_a', 'n_seg_b', 'n_seg_union', 'n_seg_shared']\n",
    "spatconn_df = pd.DataFrame(((spattune.BestSTACorr & sig_unit_pairs) * fc.SharedInput.proj(*attrs, segment_id1 = 'segment_id', segment_id2 = 'segment_b')).fetch())\n"
   ]
  },
  {
   "cell_type": "code",
   "execution_count": null,
   "metadata": {},
   "outputs": [],
   "source": [
    "# set up bins for `union_corr_r2`\n",
    "union_edges = np.linspace(min(spatconn_df['union_corr_r2']), max(spatconn_df['union_corr_r2']), 6)\n",
    "ue = list(['{:.2f}'.format(ee) for ee in union_edges])\n",
    "union_labels = list(zip(ue[:-1], ue[1:]))\n",
    "union_centers = np.hstack((np.nan, np.round((union_edges[1:] + union_edges[:-1])/2, decimals=2), np.nan))"
   ]
  },
  {
   "cell_type": "code",
   "execution_count": null,
   "metadata": {},
   "outputs": [],
   "source": [
    "# bin `union_corr_r2`\n",
    "spatconn_df['bin_union_corr_r2'] = union_centers[(np.digitize(spatconn_df['union_corr_r2'], union_edges))]\n"
   ]
  },
  {
   "cell_type": "code",
   "execution_count": null,
   "metadata": {},
   "outputs": [],
   "source": [
    "# for union_corr_r2 \n",
    "spatconn_df['percent_shared'] = spatconn_df['n_seg_shared'] / spatconn_df['n_seg_union']\n",
    " \n",
    "with sns.axes_style('ticks'):\n",
    "    fig, ax = plt.subplots(1, 3, figsize=(15, 5))\n",
    "sns.pointplot('bin_union_corr_r2', 'n_seg_shared', data = spatconn_df, ax=ax[0]) \n",
    "sns.pointplot('bin_union_corr_r2', 'n_seg_union', data = spatconn_df, ax=ax[1])  \n",
    "sns.pointplot('bin_union_corr_r2', 'percent_shared', data = spatconn_df, ax=ax[2]) \n",
    "ax[0].set_title('Shared inputs')\n",
    "ax[0].set_xticklabels(['[{},{}]'.format(*a) for a in union_labels], rotation=30)\n",
    "ax[0].set_xlabel('Union sta correlation r2')\n",
    "ax[0].set_ylabel('$<Shared Input Segments>$')\n",
    "\n",
    "ax[1].set_title('Union inputs')\n",
    "ax[1].set_xticklabels(['[{},{}]'.format(*a) for a in union_labels], rotation=30)\n",
    "ax[1].set_xlabel('Union sta correlation r2')\n",
    "ax[1].set_ylabel('$<Union Input Segments>$')\n",
    "\n",
    "ax[2].set_title('Percent of shared inputs')\n",
    "ax[2].set_xticklabels(['[{},{}]'.format(*a) for a in union_labels], rotation=30)\n",
    "ax[2].set_xlabel('Union sta correlation r2')\n",
    "ax[2].set_ylabel('$<Shared / Union>$')\n",
    "\n",
    "sns.despine(trim=True)\n",
    "fig.tight_layout()\n",
    "\n"
   ]
  },
  {
   "cell_type": "code",
   "execution_count": null,
   "metadata": {},
   "outputs": [],
   "source": []
  }
 ],
 "metadata": {
  "kernelspec": {
   "display_name": "Python 3",
   "language": "python",
   "name": "python3"
  },
  "language_info": {
   "codemirror_mode": {
    "name": "ipython",
    "version": 3
   },
   "file_extension": ".py",
   "mimetype": "text/x-python",
   "name": "python",
   "nbconvert_exporter": "python",
   "pygments_lexer": "ipython3",
   "version": "3.7.0"
  }
 },
 "nbformat": 4,
 "nbformat_minor": 4
}
