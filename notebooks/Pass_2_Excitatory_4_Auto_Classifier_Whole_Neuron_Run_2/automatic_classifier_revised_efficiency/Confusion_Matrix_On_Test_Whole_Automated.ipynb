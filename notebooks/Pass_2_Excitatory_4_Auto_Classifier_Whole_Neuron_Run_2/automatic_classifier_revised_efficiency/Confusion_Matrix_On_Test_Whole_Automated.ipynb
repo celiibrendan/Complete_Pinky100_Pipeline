{
 "cells": [
  {
   "cell_type": "code",
   "execution_count": null,
   "metadata": {},
   "outputs": [],
   "source": [
    "\"\"\"\n",
    "Purpose: To test computing of the confusion matrix for the following:\n",
    "1) On all of the previously automatically labeled data compared to the proofread version\n",
    "\n",
    "2) Efficiency of one older auatomatically labeled neuron in comparison to the newer automated version\n",
    "\n",
    "\"\"\"\n",
    "\n"
   ]
  },
  {
   "cell_type": "markdown",
   "metadata": {},
   "source": [
    "# Trying new way of generating the confusion matrix for all of the data"
   ]
  },
  {
   "cell_type": "code",
   "execution_count": null,
   "metadata": {},
   "outputs": [],
   "source": [
    "import datajoint as dj\n",
    "import numpy as np\n",
    "\n",
    "dj.config[\"database.host\"] = \"10.28.0.34\"\n",
    "dj.config[\"database.user\"] = \"celiib\"\n",
    "dj.config[\"database.password\"] = \"newceliipass\"\n",
    "dj.config[\"safemode\"] = True\n",
    "dj.config[\"display.limit\"] = 20"
   ]
  },
  {
   "cell_type": "code",
   "execution_count": null,
   "metadata": {},
   "outputs": [],
   "source": [
    "pinky = dj.create_virtual_module(\"pinky\",\"microns_pinky\")\n",
    "schema = dj.schema(\"microns_pinky\")"
   ]
  },
  {
   "cell_type": "code",
   "execution_count": null,
   "metadata": {},
   "outputs": [],
   "source": [
    "pinky.WholeAutoAnnotationsLabelClusters3()"
   ]
  },
  {
   "cell_type": "code",
   "execution_count": null,
   "metadata": {},
   "outputs": [],
   "source": [
    "pinky.WholeAutoAnnotationsLabelClusters3() & (dj.U(\"segment_id\") & pinky.ProofreadLabel.proj())"
   ]
  },
  {
   "cell_type": "code",
   "execution_count": null,
   "metadata": {},
   "outputs": [],
   "source": [
    "#tables to juxtapose: \n",
    "labels_Table = pinky.WholeAutoAnnotationsLabelClusters3()\n",
    "proof_Table = pinky.ProofreadLabel()"
   ]
  },
  {
   "cell_type": "code",
   "execution_count": null,
   "metadata": {},
   "outputs": [],
   "source": [
    "seg_id,triangles = pinky.WholeAutoAnnotationsLabelClusters3.proj(\"triangles\").fetch(\"segment_id\",\"triangles\")\n",
    "auto_classifier_data = dict(list(zip(seg_id,triangles)))\n",
    "auto_classifier_data"
   ]
  },
  {
   "cell_type": "code",
   "execution_count": null,
   "metadata": {},
   "outputs": [],
   "source": [
    "seg_id,triangles = pinky.ProofreadLabel.proj(\"triangles\").fetch(\"segment_id\",\"triangles\")\n",
    "proofread_data = dict(list(zip(seg_id,triangles)))\n",
    "#proofread_data"
   ]
  },
  {
   "cell_type": "code",
   "execution_count": null,
   "metadata": {},
   "outputs": [],
   "source": [
    "\"\"\"\n",
    "Steps for computing the overall confusion matrix\n",
    "1) for each neuron go and get the proofread label answer, the automated answers\n",
    "2) Generate the confusion matrix and add to local variable\n",
    "3) Iterate through all neurons ids and add the confusion matrix to the total\n",
    "4) Send the confusion matrix to the function that will plot it\n",
    "\"\"\""
   ]
  },
  {
   "cell_type": "code",
   "execution_count": null,
   "metadata": {},
   "outputs": [],
   "source": [
    "pinky.LabelKey()"
   ]
  },
  {
   "cell_type": "code",
   "execution_count": null,
   "metadata": {},
   "outputs": [],
   "source": [
    "total_labels = [k for k in range(2,13) if k != 9]\n",
    "total_labels"
   ]
  },
  {
   "cell_type": "code",
   "execution_count": null,
   "metadata": {},
   "outputs": [],
   "source": [
    "from sklearn.metrics import confusion_matrix\n",
    "from tqdm import tqdm\n",
    "cm_total = None\n",
    "\n",
    "for seg_id,tri in tqdm(proofread_data.items()):\n",
    "    \n",
    "    #get the triangle labels from the automated run\n",
    "    auto_tri = auto_classifier_data[seg_id]\n",
    "    \n",
    "    #get a confusion matrix \n",
    "    \n",
    "    cm = confusion_matrix(tri, auto_tri,labels=total_labels)\n",
    "    \n",
    "    if not(type(cm_total) is np.ndarray):\n",
    "        cm_total = cm\n",
    "    else:\n",
    "        cm_total = cm_total + cm\n",
    "    "
   ]
  },
  {
   "cell_type": "code",
   "execution_count": null,
   "metadata": {},
   "outputs": [],
   "source": [
    "cm_total"
   ]
  },
  {
   "cell_type": "code",
   "execution_count": null,
   "metadata": {},
   "outputs": [],
   "source": [
    "pinky.LabelKey()"
   ]
  },
  {
   "cell_type": "code",
   "execution_count": null,
   "metadata": {},
   "outputs": [],
   "source": [
    "Label_key_data = pinky.LabelKey.fetch(as_dict=True)\n",
    "kept_data = Label_key_data[2:9] + Label_key_data[10:13]\n",
    "kept_data\n",
    "\n",
    "classes = [k[\"description\"] for k in kept_data]\n",
    "classes "
   ]
  },
  {
   "cell_type": "code",
   "execution_count": null,
   "metadata": {},
   "outputs": [],
   "source": [
    "np.savez(\"cm_total.npz\",cm_total=cm_total,classes=classes)"
   ]
  },
  {
   "cell_type": "markdown",
   "metadata": {},
   "source": [
    "# Load in the confusion matrix and display it"
   ]
  },
  {
   "cell_type": "code",
   "execution_count": 1,
   "metadata": {},
   "outputs": [],
   "source": [
    "import celii_confusion_plotting as cp"
   ]
  },
  {
   "cell_type": "code",
   "execution_count": 4,
   "metadata": {},
   "outputs": [
    {
     "ename": "IndexError",
     "evalue": "only integers, slices (`:`), ellipsis (`...`), numpy.newaxis (`None`) and integer or boolean arrays are valid indices",
     "output_type": "error",
     "traceback": [
      "\u001b[0;31m---------------------------------------------------------------------------\u001b[0m",
      "\u001b[0;31mIndexError\u001b[0m                                Traceback (most recent call last)",
      "\u001b[0;32m<ipython-input-4-60e7169ca790>\u001b[0m in \u001b[0;36m<module>\u001b[0;34m\u001b[0m\n\u001b[1;32m      2\u001b[0m \u001b[0mcm_total_npz\u001b[0m \u001b[0;34m=\u001b[0m \u001b[0mnp\u001b[0m\u001b[0;34m.\u001b[0m\u001b[0mload\u001b[0m\u001b[0;34m(\u001b[0m\u001b[0;34m\"cm_total.npz\"\u001b[0m\u001b[0;34m)\u001b[0m\u001b[0;34m\u001b[0m\u001b[0;34m\u001b[0m\u001b[0m\n\u001b[1;32m      3\u001b[0m \u001b[0mcm_total\u001b[0m \u001b[0;34m=\u001b[0m \u001b[0mcm_total_npz\u001b[0m\u001b[0;34m[\u001b[0m\u001b[0;34m\"cm_total\"\u001b[0m\u001b[0;34m]\u001b[0m\u001b[0;34m\u001b[0m\u001b[0;34m\u001b[0m\u001b[0m\n\u001b[0;32m----> 4\u001b[0;31m \u001b[0mclasses\u001b[0m \u001b[0;34m=\u001b[0m \u001b[0mcm_total\u001b[0m\u001b[0;34m[\u001b[0m\u001b[0;34m\"classes\"\u001b[0m\u001b[0;34m]\u001b[0m\u001b[0;34m\u001b[0m\u001b[0;34m\u001b[0m\u001b[0m\n\u001b[0m",
      "\u001b[0;31mIndexError\u001b[0m: only integers, slices (`:`), ellipsis (`...`), numpy.newaxis (`None`) and integer or boolean arrays are valid indices"
     ]
    }
   ],
   "source": [
    "import numpy as np\n",
    "cm_total_npz = np.load(\"cm_total.npz\")\n",
    "cm_total = cm_total_npz[\"cm_total\"]\n",
    "classes = cm_total[\"classes\"]"
   ]
  },
  {
   "cell_type": "code",
   "execution_count": 5,
   "metadata": {},
   "outputs": [
    {
     "name": "stdout",
     "output_type": "stream",
     "text": [
      "Normalized confusion matrix\n",
      "[[3.99327072e-01 7.15974230e-02 4.84211371e-01 1.07315731e-02\n",
      "  6.73182636e-05 0.00000000e+00 0.00000000e+00 3.28342893e-02\n",
      "  0.00000000e+00 1.23095368e-03]\n",
      " [2.78883352e-03 9.73347271e-01 1.64950977e-02 2.95436109e-03\n",
      "  2.14376601e-03 0.00000000e+00 0.00000000e+00 2.00407701e-03\n",
      "  0.00000000e+00 2.66593996e-04]\n",
      " [1.44688732e-02 7.40482320e-02 9.07022124e-01 3.52729126e-04\n",
      "  0.00000000e+00 0.00000000e+00 0.00000000e+00 4.08944973e-03\n",
      "  0.00000000e+00 1.85917882e-05]\n",
      " [2.52120248e-05 4.83928950e-02 0.00000000e+00 9.47965035e-01\n",
      "  4.40143105e-04 0.00000000e+00 0.00000000e+00 2.62603142e-03\n",
      "  0.00000000e+00 5.50683699e-04]\n",
      " [0.00000000e+00 5.30877060e-01 0.00000000e+00 1.95102935e-03\n",
      "  7.62834756e-02 0.00000000e+00 0.00000000e+00 3.90762525e-01\n",
      "  0.00000000e+00 1.25910039e-04]\n",
      " [0.00000000e+00 7.69599772e-01 0.00000000e+00 1.12816282e-04\n",
      "  1.77027550e-02 0.00000000e+00 0.00000000e+00 2.12584656e-01\n",
      "  0.00000000e+00 0.00000000e+00]\n",
      " [1.46523085e-01 4.89889258e-01 3.34259117e-01 2.20519424e-02\n",
      "  0.00000000e+00 0.00000000e+00 0.00000000e+00 5.64516859e-03\n",
      "  0.00000000e+00 1.63142960e-03]\n",
      " [1.19063351e-04 6.04160152e-01 1.89067368e-01 3.07065690e-02\n",
      "  0.00000000e+00 0.00000000e+00 0.00000000e+00 1.71943179e-01\n",
      "  0.00000000e+00 4.00366872e-03]\n",
      " [1.10857893e-01 5.52435397e-01 0.00000000e+00 7.72915138e-02\n",
      "  1.07342887e-01 0.00000000e+00 0.00000000e+00 1.52072309e-01\n",
      "  0.00000000e+00 0.00000000e+00]\n",
      " [4.97789700e-03 1.13632070e-02 0.00000000e+00 2.26697397e-04\n",
      "  0.00000000e+00 0.00000000e+00 0.00000000e+00 0.00000000e+00\n",
      "  0.00000000e+00 9.83432199e-01]]\n"
     ]
    },
    {
     "data": {
      "text/plain": [
       "<matplotlib.axes._subplots.AxesSubplot at 0x7f812ca8ce80>"
      ]
     },
     "execution_count": 5,
     "metadata": {},
     "output_type": "execute_result"
    },
    {
     "data": {
      "image/png": "[encoded data removed]",
      "text/plain": [
       "<Figure size 1440x864 with 2 Axes>"
      ]
     },
     "metadata": {
      "needs_background": "light"
     },
     "output_type": "display_data"
    }
   ],
   "source": [
    "cp.plot_confusion_matrix_from_confusion_matrix(cm_total,classes=classes)"
   ]
  },
  {
   "cell_type": "code",
   "execution_count": null,
   "metadata": {},
   "outputs": [],
   "source": []
  }
 ],
 "metadata": {
  "kernelspec": {
   "display_name": "Python 3",
   "language": "python",
   "name": "python3"
  },
  "language_info": {
   "codemirror_mode": {
    "name": "ipython",
    "version": 3
   },
   "file_extension": ".py",
   "mimetype": "text/x-python",
   "name": "python",
   "nbconvert_exporter": "python",
   "pygments_lexer": "ipython3",
   "version": "3.6.8"
  }
 },
 "nbformat": 4,
 "nbformat_minor": 4
}
