{
 "cells": [
  {
   "cell_type": "code",
   "execution_count": 1,
   "metadata": {},
   "outputs": [
    {
     "data": {
      "text/plain": [
       "'\\nPurpose:\\nNow that have fully optimmized classifier, want to run it on test neurons to make sure runs all the way through\\non a couple before I deploy it to Kubernetes\\n'"
      ]
     },
     "execution_count": 1,
     "metadata": {},
     "output_type": "execute_result"
    }
   ],
   "source": [
    "\"\"\"\n",
    "Purpose:\n",
    "Now that have fully optimmized classifier, want to run it on test neurons to make sure runs all the way through\n",
    "on a couple before I deploy it to Kubernetes\n",
    "\"\"\""
   ]
  },
  {
   "cell_type": "markdown",
   "metadata": {},
   "source": [
    "# Generating the Labels for each of the test neurons"
   ]
  },
  {
   "cell_type": "code",
   "execution_count": 2,
   "metadata": {},
   "outputs": [],
   "source": [
    "from OPTIMIZED_whole_neuron_classifier_datajoint_adapted import extract_branches_whole_neuron as op_extract\n",
    "from whole_neuron_classifier_datajoint_adapted import extract_branches_whole_neuron as unop_extract\n",
    "import datajoint as dj\n",
    "import numpy as np\n",
    "import datajoint as dj\n",
    "import trimesh\n",
    "import time\n",
    "\n",
    "dj.config[\"database.host\"] = \"10.28.0.34\"\n",
    "dj.config[\"database.user\"] = \"celiib\"\n",
    "dj.config[\"database.password\"] = \"newceliipass\"\n",
    "dj.config[\"safemode\"] = True\n",
    "dj.config[\"display.limit\"] = 20"
   ]
  },
  {
   "cell_type": "code",
   "execution_count": 3,
   "metadata": {},
   "outputs": [
    {
     "name": "stdout",
     "output_type": "stream",
     "text": [
      "Connecting celiib@10.28.0.34:3306\n"
     ]
    }
   ],
   "source": [
    "pinky = dj.create_virtual_module(\"pinky\",\"microns_pinky\")\n",
    "schema = dj.schema(\"microns_pinky\")"
   ]
  },
  {
   "cell_type": "code",
   "execution_count": 4,
   "metadata": {},
   "outputs": [],
   "source": [
    "key = dict(segmentation=3,segment_id=648518346349471910)\n",
    "#key = dict(segmentation=3,segment_id=648518346349475536)\n",
    "\n",
    "\n",
    "missing_apical_ids = [648518346349478700,648518346349485870]\n",
    "not_missing_apicals = [648518346349473813,648518346349475510,648518346349473597] #but both have apicals\n",
    "total_ids_to_test = missing_apical_ids + not_missing_apicals"
   ]
  },
  {
   "cell_type": "code",
   "execution_count": 5,
   "metadata": {},
   "outputs": [],
   "source": [
    "#make the current key to use\n",
    "index = 2\n",
    "key = dict(segmentation=3,segment_id=total_ids_to_test[index])"
   ]
  },
  {
   "cell_type": "code",
   "execution_count": null,
   "metadata": {},
   "outputs": [],
   "source": [
    "\"\"\" Do the labels from theh older version \"\"\"\n",
    "start_time = time.time()\n",
    "\n",
    "print(\"\\n\\n*****Starting Auto Labeling for \" + str(key[\"segment_id\"]) + \"******\")\n",
    "\n",
    "segment_id = key[\"segment_id\"]\n",
    "\n",
    "#get the vertices and faces from datajoint\n",
    "# get the newly stitched mesh\n",
    "# get the original mesh\n",
    "\n",
    "\n",
    "verts,faces = (pinky.PymeshfixDecimatedExcitatoryStitchedMesh() & key).fetch1(\"vertices\",\"triangles\")\n",
    "\n",
    "cgal_location = \"/notebooks/Pass_2_Excitatory_4_Auto_Classifier_Whole_Neuron_Run_2/automatic_classifier_revised_efficiency/temp/\"\n",
    "cgal_file_sdf = str(key[\"segment_id\"]) + \"_fixed-cgal_3_0.20_sdf.csv\"\n",
    "cgal_file_seg = str(key[\"segment_id\"]) + \"_fixed-cgal_3_0.20.csv\"\n",
    "\n",
    "#run the whole algorithm on the neuron to test\n",
    "verts_labels, faces_labels = unop_extract(import_Off_Flag=False,segment_id=segment_id,vertices=verts,\n",
    "                     triangles=faces,pymeshfix_Flag=False,\n",
    "                     import_CGAL_Flag=True,\n",
    "                     import_CGAL_paths = [cgal_location + cgal_file_seg,\n",
    "                                         cgal_location + cgal_file_sdf],\n",
    "                     return_Only_Labels=True,\n",
    "                     clusters=3,\n",
    "                     smoothness=0.2)\n",
    "\n",
    "print(f\"Finished Auto Labeling: {time.time() - start_time}\")\n"
   ]
  },
  {
   "cell_type": "code",
   "execution_count": null,
   "metadata": {},
   "outputs": [],
   "source": [
    "# import importlib\n",
    "# from OPTIMIZED_whole_neuron_classifier_datajoint_adapted import extract_branches_whole_neuron as op_extract\n",
    "# importlib.reload(op_extract)\n"
   ]
  },
  {
   "cell_type": "code",
   "execution_count": 6,
   "metadata": {},
   "outputs": [
    {
     "name": "stdout",
     "output_type": "stream",
     "text": [
      "\n",
      "\n",
      "*****Starting Auto Labeling for 648518346349473813******\n",
      "1) Starting: Mesh importing and Pymesh fix\n",
      "loading mesh from vertices and triangles array\n",
      "1) Finished: Mesh importing and Pymesh fix: 0.2046494483947754\n",
      "2) Staring: Generating CGAL segmentation for neuron\n",
      "2) Finished: Generating CGAL segmentation for neuron: 40.653727293014526\n",
      "3) Staring: Generating Graph Structure and Identifying Soma\n",
      "soma_index = 0\n",
      "3) Finished: Generating Graph Structure and Identifying Soma: 0.8996403217315674\n",
      "5) Staring: Finding Apical Index\n",
      "Soma Index = 0\n",
      "Soma Connections = [92, 9, 11, 14, 36, 59, 16, 55, 283, 227, 208, 207, 217]\n",
      "soma_80_percent = 285050.13125\n",
      "possible_Axons_filter_1 = [11, 16]\n",
      "size_threshold_filter = [11, 16]\n",
      "height_threshold_filter = [11, 16]\n",
      "sdf_threshold_filter = [11, 16]\n",
      "possible_Axons_filter_2 = [11, 16]\n",
      "STARTER picked_apical = 11 with highest connection 281737.59375\n",
      "Next possible apical 16 with highest y 284055.75\n",
      "possible_Apical = 11\n",
      "5) Finished: Finding Apical Index: 2.142923593521118\n",
      "6) Staring: Classifying Entire Neuron\n",
      "Neighbor = 9\n",
      "mean_convex == 24.459168796354852\n",
      "std_dev_conves == 70.81059785432555\n",
      "Neighbor = 16\n",
      "mean_convex == 23.754765937341034\n",
      "std_dev_conves == 71.51550735371704\n",
      "Neighbor = 92\n",
      "mean_convex == 19.154282656092978\n",
      "std_dev_conves == 69.54590202532637\n",
      "Neighbor = 14\n",
      "mean_convex == 12.528419557909794\n",
      "std_dev_conves == 75.6510800241738\n",
      "Neighbor = 59\n",
      "mean_convex == 21.823566204249126\n",
      "std_dev_conves == 70.41978266063501\n",
      "36 = stub soma\n",
      "Neighbor = 55\n",
      "mean_convex == 15.839654494817278\n",
      "std_dev_conves == 62.88503011707437\n",
      "55 = axon\n",
      "283 = stub soma\n",
      "207 = stub soma\n",
      "208 = stub soma\n",
      "217 = stub soma\n",
      "227 = stub soma\n",
      "top_box = 160000\n",
      "4 = stub apical\n",
      "7 = stub apical\n",
      "13 = top box touching oblique --> change to apical\n",
      "15 = top box touching oblique --> change to apical\n",
      "18 = stub apical\n",
      "20 = stub apical\n",
      "22 = stub apical\n",
      "23 = stub apical\n",
      "25 = stub apical\n",
      "27 = stub apical\n",
      "29 = stub apical\n",
      "32 = stub apical\n",
      "33 = stub apical\n",
      "34 = stub apical\n",
      "35 = stub apical\n",
      "37 = stub apical\n",
      "38 = stub apical\n",
      "41 = stub apical\n",
      "42 = stub apical\n",
      "43 = stub apical\n",
      "44 = stub apical\n",
      "45 = stub apical\n",
      "46 = stub apical\n",
      "47 = stub apical\n",
      "48 = stub apical\n",
      "49 = stub apical\n",
      "51 = stub apical\n",
      "52 = stub apical\n",
      "53 = stub apical\n",
      "54 = stub apical\n",
      "56 = stub apical\n",
      "58 = stub apical\n",
      "60 = stub apical\n",
      "61 = stub apical\n",
      "63 = stub apical\n",
      "64 = stub apical\n",
      "65 = stub apical\n",
      "66 = stub apical\n",
      "67 = stub apical\n",
      "68 = stub apical\n",
      "69 = stub apical\n",
      "70 = stub apical\n",
      "71 = stub apical\n",
      "72 = stub apical\n",
      "73 = stub apical\n",
      "74 = stub apical\n",
      "75 = stub apical\n",
      "76 = stub apical\n",
      "77 = stub apical\n",
      "78 = stub apical\n",
      "79 = stub apical\n",
      "80 = stub apical\n",
      "81 = stub apical\n",
      "82 = stub apical\n",
      "83 = stub apical\n",
      "84 = stub apical\n",
      "85 = stub apical\n",
      "86 = stub apical\n",
      "88 = stub apical\n",
      "89 = stub apical\n",
      "90 = stub apical\n",
      "91 = stub apical\n",
      "93 = stub apical\n",
      "94 = stub apical\n",
      "95 = stub apical\n",
      "96 = stub apical\n",
      "97 = stub apical\n",
      "98 = stub apical\n",
      "99 = stub apical\n",
      "100 = stub apical\n",
      "101 = stub apical\n",
      "102 = stub apical\n",
      "103 = stub apical\n",
      "104 = stub apical\n",
      "106 = stub apical\n",
      "107 = stub apical\n",
      "108 = stub apical\n",
      "109 = stub apical\n",
      "110 = stub apical\n",
      "111 = stub apical\n",
      "113 = stub apical\n",
      "117 = stub apical\n",
      "118 = stub apical\n",
      "119 = stub apical\n",
      "120 = stub apical\n",
      "121 = stub apical\n",
      "122 = stub apical\n",
      "123 = stub apical\n",
      "124 = stub apical\n",
      "125 = stub apical\n",
      "126 = stub apical\n",
      "127 = stub apical\n",
      "128 = stub apical\n",
      "129 = stub apical\n",
      "130 = stub apical\n",
      "131 = stub apical\n",
      "132 = stub apical\n",
      "133 = stub apical\n",
      "134 = stub apical\n",
      "135 = stub apical\n",
      "136 = stub apical\n",
      "137 = stub apical\n",
      "138 = stub apical\n",
      "139 = stub apical\n",
      "140 = stub apical\n",
      "141 = stub apical\n",
      "145 = stub apical\n",
      "146 = stub apical\n",
      "147 = stub apical\n",
      "148 = stub apical\n",
      "150 = stub apical\n",
      "151 = stub apical\n",
      "152 = stub apical\n",
      "153 = stub apical\n",
      "154 = stub apical\n",
      "155 = stub apical\n",
      "156 = stub apical\n",
      "157 = stub apical\n",
      "158 = stub apical\n",
      "160 = stub apical\n",
      "161 = stub apical\n",
      "162 = stub apical\n",
      "163 = stub apical\n",
      "164 = stub apical\n",
      "165 = stub apical\n",
      "166 = stub apical\n",
      "167 = stub apical\n",
      "168 = stub apical\n",
      "169 = stub apical\n",
      "170 = stub apical\n",
      "171 = stub apical\n",
      "172 = stub apical\n",
      "173 = stub apical\n",
      "174 = stub apical\n",
      "175 = stub apical\n",
      "176 = stub apical\n",
      "177 = stub apical\n",
      "178 = stub apical\n",
      "179 = stub apical\n",
      "180 = stub apical\n",
      "181 = stub apical\n",
      "182 = stub apical\n",
      "183 = stub apical\n",
      "184 = stub apical\n",
      "185 = stub apical\n",
      "186 = stub apical\n",
      "187 = stub apical\n",
      "188 = stub apical\n",
      "189 = stub apical\n",
      "190 = stub apical\n",
      "191 = stub apical\n",
      "193 = stub apical\n",
      "194 = stub apical\n",
      "195 = stub apical\n",
      "196 = stub apical\n",
      "197 = stub apical\n",
      "198 = stub apical\n",
      "199 = stub apical\n",
      "200 = stub apical\n",
      "201 = stub apical\n",
      "202 = stub apical\n",
      "203 = stub apical\n",
      "204 = stub apical\n",
      "205 = stub apical\n",
      "206 = stub apical\n",
      "209 = stub apical\n",
      "211 = stub apical\n",
      "212 = stub apical\n",
      "213 = stub apical\n",
      "214 = stub apical\n",
      "215 = stub apical\n",
      "216 = stub apical\n",
      "218 = stub apical\n",
      "219 = stub apical\n",
      "220 = stub apical\n",
      "221 = stub apical\n",
      "222 = stub apical\n",
      "223 = stub apical\n",
      "224 = stub apical\n",
      "225 = stub apical\n",
      "226 = stub apical\n",
      "228 = stub apical\n",
      "231 = stub apical\n",
      "232 = stub apical\n",
      "233 = stub apical\n",
      "234 = stub apical\n",
      "235 = stub apical\n",
      "236 = stub apical\n",
      "237 = stub apical\n",
      "238 = stub apical\n",
      "239 = stub apical\n",
      "240 = stub apical\n",
      "241 = stub apical\n",
      "242 = stub apical\n",
      "243 = stub apical\n",
      "244 = stub apical\n",
      "245 = stub apical\n",
      "246 = stub apical\n",
      "247 = stub apical\n",
      "248 = stub apical\n",
      "249 = stub apical\n",
      "250 = stub apical\n",
      "251 = stub apical\n",
      "252 = stub apical\n",
      "255 = stub apical\n",
      "256 = stub apical\n",
      "257 = stub apical\n",
      "258 = stub apical\n",
      "259 = stub apical\n",
      "260 = stub apical\n",
      "261 = stub apical\n",
      "262 = stub apical\n",
      "263 = stub apical\n",
      "264 = stub apical\n",
      "265 = stub apical\n",
      "266 = stub apical\n",
      "268 = stub apical\n",
      "269 = stub apical\n",
      "270 = stub apical\n",
      "271 = stub apical\n",
      "272 = stub apical\n",
      "273 = stub apical\n",
      "274 = stub apical\n",
      "275 = stub apical\n",
      "277 = stub apical\n",
      "278 = stub apical\n",
      "279 = stub apical\n",
      "280 = stub apical\n",
      "281 = stub apical\n",
      "282 = stub apical\n",
      "284 = stub apical\n",
      "285 = stub apical\n",
      "287 = stub apical\n",
      "288 = stub apical\n",
      "289 = stub apical\n",
      "290 = stub apical\n",
      "291 = stub apical\n",
      "oblique_cutoff = 195000\n",
      "neighbor 101 had too high of a connector point --> being labeled as apical\n",
      "neighbor 84 had too high of a connector point --> being labeled as apical\n",
      "neighbor 131 had too high of a connector point --> being labeled as apical\n",
      "neighbor 45 had too high of a connector point --> being labeled as apical\n",
      "neighbor 125 had too high of a connector point --> being labeled as apical\n",
      "neighbor 252 had too high of a connector point --> being labeled as apical\n",
      "neighbor 39 had too high of a connector point --> being labeled as apical\n",
      "neighbor 130 had too high of a connector point --> being labeled as apical\n",
      "neighbor 52 had too high of a connector point --> being labeled as apical\n",
      "neighbor 247 had too high of a connector point --> being labeled as apical\n",
      "neighbor 63 had too high of a connector point --> being labeled as apical\n",
      "neighbor 32 had too high of a connector point --> being labeled as apical\n",
      "neighbor 154 had too high of a connector point --> being labeled as apical\n",
      "neighbor 25 had too high of a connector point --> being labeled as apical\n",
      "neighbor 13 had too high of a connector point --> being labeled as apical\n",
      "neighbor 240 had too high of a connector point --> being labeled as apical\n",
      "neighbor 111 had too high of a connector point --> being labeled as apical\n",
      "neighbor 54 had too high of a connector point --> being labeled as apical\n",
      "neighbor 60 had too high of a connector point --> being labeled as apical\n",
      "neighbor 177 had too high of a connector point --> being labeled as apical\n",
      "neighbor 81 had too high of a connector point --> being labeled as apical\n",
      "neighbor 48 had too high of a connector point --> being labeled as apical\n",
      "neighbor 88 had too high of a connector point --> being labeled as apical\n",
      "neighbor 47 had too high of a connector point --> being labeled as apical\n",
      "neighbor 145 had too high of a connector point --> being labeled as apical\n",
      "neighbor 236 had too high of a connector point --> being labeled as apical\n",
      "neighbor 209 had too high of a connector point --> being labeled as apical\n",
      "neighbor 155 had too high of a connector point --> being labeled as apical\n",
      "neighbor 90 had too high of a connector point --> being labeled as apical\n",
      "neighbor 220 had too high of a connector point --> being labeled as apical\n",
      "neighbor 68 had too high of a connector point --> being labeled as apical\n",
      "neighbor 20 had too high of a connector point --> being labeled as apical\n",
      "neighbor 212 had too high of a connector point --> being labeled as apical\n",
      "neighbor 102 had too high of a connector point --> being labeled as apical\n",
      "neighbor 156 had too high of a connector point --> being labeled as apical\n",
      "neighbor 226 had too high of a connector point --> being labeled as apical\n",
      "neighbor 264 had too high of a connector point --> being labeled as apical\n",
      "neighbor 206 had too high of a connector point --> being labeled as apical\n",
      "neighbor 189 had too high of a connector point --> being labeled as apical\n",
      "neighbor 205 had too high of a connector point --> being labeled as apical\n",
      "neighbor 148 had too high of a connector point --> being labeled as apical\n",
      "neighbor 119 had too high of a connector point --> being labeled as apical\n",
      "neighbor 231 had too high of a connector point --> being labeled as apical\n",
      "neighbor 270 had too high of a connector point --> being labeled as apical\n",
      "neighbor 37 had too high of a connector point --> being labeled as apical\n",
      "neighbor 82 had too high of a connector point --> being labeled as apical\n",
      "neighbor 89 had too high of a connector point --> being labeled as apical\n",
      "neighbor 71 had too high of a connector point --> being labeled as apical\n",
      "neighbor 153 had too high of a connector point --> being labeled as apical\n",
      "neighbor 56 had too high of a connector point --> being labeled as apical\n",
      "neighbor 265 had too high of a connector point --> being labeled as apical\n",
      "neighbor 91 had too high of a connector point --> being labeled as apical\n",
      "neighbor 191 had too high of a connector point --> being labeled as apical\n",
      "neighbor 168 had too high of a connector point --> being labeled as apical\n",
      "neighbor 219 had too high of a connector point --> being labeled as apical\n",
      "neighbor 239 had too high of a connector point --> being labeled as apical\n",
      "neighbor 152 had too high of a connector point --> being labeled as apical\n",
      "neighbor 118 had too high of a connector point --> being labeled as apical\n",
      "neighbor 188 had too high of a connector point --> being labeled as apical\n",
      "neighbor 64 had too high of a connector point --> being labeled as apical\n",
      "neighbor 268 had too high of a connector point --> being labeled as apical\n",
      "neighbor 83 had too high of a connector point --> being labeled as apical\n",
      "neighbor 238 had too high of a connector point --> being labeled as apical\n",
      "neighbor 95 had too high of a connector point --> being labeled as apical\n",
      "neighbor 204 had too high of a connector point --> being labeled as apical\n",
      "neighbor 85 had too high of a connector point --> being labeled as apical\n",
      "neighbor 78 had too high of a connector point --> being labeled as apical\n",
      "neighbor 249 had too high of a connector point --> being labeled as apical\n",
      "neighbor 248 had too high of a connector point --> being labeled as apical\n",
      "neighbor 235 had too high of a connector point --> being labeled as apical\n",
      "neighbor 27 had too high of a connector point --> being labeled as apical\n",
      "neighbor 214 had too high of a connector point --> being labeled as apical\n",
      "neighbor 157 had too high of a connector point --> being labeled as apical\n",
      "neighbor 93 had too high of a connector point --> being labeled as apical\n",
      "neighbor 158 had too high of a connector point --> being labeled as apical\n",
      "neighbor 266 had too high of a connector point --> being labeled as apical\n",
      "neighbor 66 had too high of a connector point --> being labeled as apical\n",
      "neighbor 218 had too high of a connector point --> being labeled as apical\n",
      "neighbor 150 had too high of a connector point --> being labeled as apical\n",
      "neighbor 179 had too high of a connector point --> being labeled as apical\n",
      "neighbor 129 had too high of a connector point --> being labeled as apical\n",
      "neighbor 34 had too high of a connector point --> being labeled as apical\n",
      "neighbor 94 had too high of a connector point --> being labeled as apical\n",
      "neighbor 113 had too high of a connector point --> being labeled as apical\n",
      "neighbor 211 had too high of a connector point --> being labeled as apical\n",
      "neighbor 195 had too high of a connector point --> being labeled as apical\n",
      "neighbor 67 had too high of a connector point --> being labeled as apical\n",
      "neighbor 99 had too high of a connector point --> being labeled as apical\n",
      "neighbor 46 had too high of a connector point --> being labeled as apical\n",
      "neighbor 237 had too high of a connector point --> being labeled as apical\n",
      "Total Labels found = {'soma', 'apical', 'basal', 'axon', 'oblique'}\n",
      "6) Finished: Classifying Entire Neuron: 5.4790449142456055\n",
      "7) Staring: Transfering Segmentation Labels to Face Labels\n",
      "7) Finished: Transfering Segmentation Labels to Face Labels: 1.7400078773498535\n",
      "8) Staring: Generating final Vertex and Face Labels\n",
      "8) Finished: Generating final Vertex and Face Labels: 29.769042491912842\n",
      "Finished Auto Labeling: 82.17315411567688\n"
     ]
    }
   ],
   "source": [
    "\"\"\" Do the labels from theh older version \"\"\"\n",
    "start_time = time.time()\n",
    "\n",
    "print(\"\\n\\n*****Starting Auto Labeling for \" + str(key[\"segment_id\"]) + \"******\")\n",
    "\n",
    "segment_id = key[\"segment_id\"]\n",
    "\n",
    "#get the vertices and faces from datajoint\n",
    "# get the newly stitched mesh\n",
    "# get the original mesh\n",
    "\n",
    "\n",
    "verts,faces = (pinky.PymeshfixDecimatedExcitatoryStitchedMesh() & key).fetch1(\"vertices\",\"triangles\")\n",
    "\n",
    "cgal_location = \"/notebooks/Pass_2_Excitatory_4_Auto_Classifier_Whole_Neuron_Run_2/automatic_classifier_revised_efficiency/temp/\"\n",
    "cgal_file_sdf = str(key[\"segment_id\"]) + \"_fixed-cgal_3_0.20_sdf.csv\"\n",
    "cgal_file_seg = str(key[\"segment_id\"]) + \"_fixed-cgal_3_0.20.csv\"\n",
    "\n",
    "#run the whole algorithm on the neuron to test\n",
    "verts_labels_opt, faces_labels_opt = op_extract(import_Off_Flag=False,segment_id=segment_id,vertices=verts,\n",
    "                     triangles=faces,pymeshfix_Flag=False,\n",
    "                     import_CGAL_Flag=True,\n",
    "                     import_CGAL_paths = [cgal_location + cgal_file_seg,\n",
    "                                         cgal_location + cgal_file_sdf],\n",
    "                     return_Only_Labels=True,\n",
    "                     clusters=3,\n",
    "                     smoothness=0.2,\n",
    "                     classifier_stub_threshold_apical=1500)\n",
    "\n",
    "print(f\"Finished Auto Labeling: {time.time() - start_time}\")\n"
   ]
  },
  {
   "cell_type": "markdown",
   "metadata": {},
   "source": [
    "# COMPUTING THE CONFUSION MATRIX FOR BOTH OF THE OPTIONS"
   ]
  },
  {
   "cell_type": "code",
   "execution_count": 7,
   "metadata": {},
   "outputs": [],
   "source": [
    "actual_labels = (pinky.ProofreadLabel & key).fetch1(\"triangles\")"
   ]
  },
  {
   "cell_type": "code",
   "execution_count": null,
   "metadata": {},
   "outputs": [],
   "source": [
    "#make sure they are all the same size\n",
    "print(len(faces_labels),len(faces_labels_opt),len(actual_labels))"
   ]
  },
  {
   "cell_type": "code",
   "execution_count": 12,
   "metadata": {},
   "outputs": [],
   "source": [
    "import celii_confusion_plotting as cp"
   ]
  },
  {
   "cell_type": "code",
   "execution_count": 9,
   "metadata": {},
   "outputs": [],
   "source": [
    "Label_key_data = pinky.LabelKey.fetch(as_dict=True)\n",
    "kept_data = Label_key_data[2:9] + Label_key_data[10:13]\n",
    "kept_data\n",
    "\n",
    "classes = [k[\"description\"] for k in kept_data]\n",
    "cm_labels = [k[\"numeric\"] for k in kept_data]\n",
    "classes.append(\"unknown\")\n",
    "cm_labels.append(13)"
   ]
  },
  {
   "cell_type": "code",
   "execution_count": null,
   "metadata": {},
   "outputs": [],
   "source": [
    "cm_labels"
   ]
  },
  {
   "cell_type": "code",
   "execution_count": 15,
   "metadata": {},
   "outputs": [
    {
     "name": "stderr",
     "output_type": "stream",
     "text": [
      "/usr/local/lib/python3.6/dist-packages/ipykernel_launcher.py:2: RuntimeWarning: invalid value encountered in true_divide\n",
      "  \n"
     ]
    }
   ],
   "source": [
    "cm = confusion_matrix(actual_labels, faces_labels_opt,labels=cm_labels)\n",
    "cm = cm.astype('float') / cm.sum(axis=1)[:, np.newaxis]"
   ]
  },
  {
   "cell_type": "code",
   "execution_count": 20,
   "metadata": {},
   "outputs": [],
   "source": [
    "apical_perc = cm[0,0]\n",
    "basal_perc = cm[1,1]\n",
    "oblique_perc = cm[2,2]\n",
    "soma_perc = cm[3,3]\n",
    "axon_soma_perc = cm[4,4]\n",
    "axon_dendrite_perc = cm[5,5]\n",
    "dendrite_perc = cm[6,6]\n",
    "error_perc = cm[7,7]\n",
    "unlabelable_perc = cm[8,8]\n",
    "cilia_perc = cm[9,9]\n",
    "unknown_perc = cm[10,10]\n",
    "\n",
    "new_key = dict(apical_perc=apical_perc,\n",
    "              basal_perc=basal_perc,\n",
    "              oblique_perc=oblique_perc,\n",
    "              soma_perc=soma_perc,\n",
    "              axon_soma_perc=axon_soma_perc,\n",
    "              axon_dendrite_perc=axon_dendrite_perc,\n",
    "              dendrite_perc=dendrite_perc,\n",
    "              error_perc=error_perc,\n",
    "              unlabelable_perc=unlabelable_perc,\n",
    "              cilia_perc=cilia_perc,\n",
    "              unknown_perc=unknown_perc)"
   ]
  },
  {
   "cell_type": "code",
   "execution_count": 21,
   "metadata": {},
   "outputs": [
    {
     "data": {
      "text/plain": [
       "{'apical_perc': 1.0,\n",
       " 'basal_perc': 1.0,\n",
       " 'oblique_perc': 1.0,\n",
       " 'soma_perc': 1.0,\n",
       " 'axon_soma_perc': 1.0,\n",
       " 'axon_dendrite_perc': nan,\n",
       " 'dendrite_perc': nan,\n",
       " 'error_perc': 0.0,\n",
       " 'unlabelable_perc': nan,\n",
       " 'cilia_perc': nan,\n",
       " 'unknown_perc': nan}"
      ]
     },
     "execution_count": 21,
     "metadata": {},
     "output_type": "execute_result"
    }
   ],
   "source": [
    "new_key"
   ]
  },
  {
   "cell_type": "code",
   "execution_count": 30,
   "metadata": {},
   "outputs": [
    {
     "data": {
      "text/plain": [
       "array([[False, False, False, False, False, False, False, False, False,\n",
       "        False, False],\n",
       "       [False, False, False, False, False, False, False, False, False,\n",
       "        False, False],\n",
       "       [False, False, False, False, False, False, False, False, False,\n",
       "        False, False],\n",
       "       [False, False, False, False, False, False, False, False, False,\n",
       "        False, False],\n",
       "       [False, False, False, False, False, False, False, False, False,\n",
       "        False, False],\n",
       "       [ True,  True,  True,  True,  True,  True,  True,  True,  True,\n",
       "         True,  True],\n",
       "       [ True,  True,  True,  True,  True,  True,  True,  True,  True,\n",
       "         True,  True],\n",
       "       [False, False, False, False, False, False, False, False, False,\n",
       "        False, False],\n",
       "       [ True,  True,  True,  True,  True,  True,  True,  True,  True,\n",
       "         True,  True],\n",
       "       [ True,  True,  True,  True,  True,  True,  True,  True,  True,\n",
       "         True,  True],\n",
       "       [ True,  True,  True,  True,  True,  True,  True,  True,  True,\n",
       "         True,  True]])"
      ]
     },
     "execution_count": 30,
     "metadata": {},
     "output_type": "execute_result"
    }
   ],
   "source": [
    "np.isnan(cm)"
   ]
  },
  {
   "cell_type": "code",
   "execution_count": 26,
   "metadata": {},
   "outputs": [
    {
     "data": {
      "text/plain": [
       "True"
      ]
     },
     "execution_count": 26,
     "metadata": {},
     "output_type": "execute_result"
    }
   ],
   "source": [
    "np.isnan(new_key[\"dendrite_perc\"])"
   ]
  },
  {
   "cell_type": "code",
   "execution_count": 28,
   "metadata": {},
   "outputs": [],
   "source": [
    "for k,i in new_key.items():\n",
    "    if np.isnan(i):\n",
    "        new_key[k] = -1\n",
    "    "
   ]
  },
  {
   "cell_type": "code",
   "execution_count": 35,
   "metadata": {},
   "outputs": [],
   "source": [
    "old_key = dict(blah=5,segmentation=4.556)"
   ]
  },
  {
   "cell_type": "code",
   "execution_count": 38,
   "metadata": {},
   "outputs": [
    {
     "data": {
      "text/plain": [
       "{'blah': 5,\n",
       " 'segmentation': 4.556,\n",
       " 'apical_perc': 1.0,\n",
       " 'basal_perc': 1.0,\n",
       " 'oblique_perc': 1.0,\n",
       " 'soma_perc': 1.0,\n",
       " 'axon_soma_perc': 1.0,\n",
       " 'axon_dendrite_perc': -1,\n",
       " 'dendrite_perc': -1,\n",
       " 'error_perc': 0.0,\n",
       " 'unlabelable_perc': -1,\n",
       " 'cilia_perc': -1,\n",
       " 'unknown_perc': -1}"
      ]
     },
     "execution_count": 38,
     "metadata": {},
     "output_type": "execute_result"
    }
   ],
   "source": [
    "z = old_key.copy()   # start with x's keys and values\n",
    "old_key.update(new_key)    # modifies z with y's keys and values & returns None\n",
    "\n",
    "old_key"
   ]
  },
  {
   "cell_type": "code",
   "execution_count": 37,
   "metadata": {},
   "outputs": [
    {
     "data": {
      "text/plain": [
       "{'apical_perc': 1.0,\n",
       " 'basal_perc': 1.0,\n",
       " 'oblique_perc': 1.0,\n",
       " 'soma_perc': 1.0,\n",
       " 'axon_soma_perc': 1.0,\n",
       " 'axon_dendrite_perc': -1,\n",
       " 'dendrite_perc': -1,\n",
       " 'error_perc': 0.0,\n",
       " 'unlabelable_perc': -1,\n",
       " 'cilia_perc': -1,\n",
       " 'unknown_perc': -1}"
      ]
     },
     "execution_count": 37,
     "metadata": {},
     "output_type": "execute_result"
    }
   ],
   "source": [
    "new_key"
   ]
  },
  {
   "cell_type": "code",
   "execution_count": 29,
   "metadata": {},
   "outputs": [
    {
     "data": {
      "text/plain": [
       "{'apical_perc': 1.0,\n",
       " 'basal_perc': 1.0,\n",
       " 'oblique_perc': 1.0,\n",
       " 'soma_perc': 1.0,\n",
       " 'axon_soma_perc': 1.0,\n",
       " 'axon_dendrite_perc': -1,\n",
       " 'dendrite_perc': -1,\n",
       " 'error_perc': 0.0,\n",
       " 'unlabelable_perc': -1,\n",
       " 'cilia_perc': -1,\n",
       " 'unknown_perc': -1}"
      ]
     },
     "execution_count": 29,
     "metadata": {},
     "output_type": "execute_result"
    }
   ],
   "source": [
    "new_key"
   ]
  },
  {
   "cell_type": "code",
   "execution_count": 14,
   "metadata": {},
   "outputs": [],
   "source": [
    "import numpy as np\n",
    "import matplotlib.pyplot as plt\n",
    "from sklearn.metrics import confusion_matrix\n",
    "\n",
    "from sklearn.utils.multiclass import unique_labels\n"
   ]
  },
  {
   "cell_type": "code",
   "execution_count": 10,
   "metadata": {},
   "outputs": [
    {
     "name": "stderr",
     "output_type": "stream",
     "text": [
      "/notebooks/Pass_2_Excitatory_4_Auto_Classifier_Whole_Neuron_Run_2/automatic_classifier_revised_efficiency/celii_confusion_plotting.py:44: RuntimeWarning: invalid value encountered in true_divide\n",
      "  cm = cm.astype('float') / cm.sum(axis=1)[:, np.newaxis]\n"
     ]
    },
    {
     "name": "stdout",
     "output_type": "stream",
     "text": [
      "Normalized confusion matrix\n"
     ]
    },
    {
     "data": {
      "text/plain": [
       "<matplotlib.axes._subplots.AxesSubplot at 0x7f10f0bbe208>"
      ]
     },
     "execution_count": 10,
     "metadata": {},
     "output_type": "execute_result"
    },
    {
     "data": {
      "image/png": "[encoded data removed]",
      "text/plain": [
       "<Figure size 1440x864 with 2 Axes>"
      ]
     },
     "metadata": {
      "needs_background": "light"
     },
     "output_type": "display_data"
    }
   ],
   "source": [
    "cp.plot_confusion_matrix_from_raw_data(y_true=actual_labels,\n",
    "                                       y_pred=faces_labels_opt,\n",
    "                                       classes=classes,\n",
    "                                       cm_labels=cm_labels)"
   ]
  },
  {
   "cell_type": "code",
   "execution_count": null,
   "metadata": {},
   "outputs": [],
   "source": [
    "#how to print out the actual labels\n",
    "#export the labels\n",
    "labels_opt = faces_labels_opt.astype(\"int\")\n",
    "np.savetxt(\"temp/\" + str(key[\"segment_id\"]) + '_optimized_output_labels.csv', labels_opt, fmt='%d', delimiter='\\n')"
   ]
  },
  {
   "cell_type": "code",
   "execution_count": null,
   "metadata": {},
   "outputs": [],
   "source": [
    "#change all of the labels that are above allowed value to unknown\n",
    "faces_labels[faces_labels>=13] = 13\n",
    "\n",
    "from collections import Counter\n",
    "Counter(faces_labels)"
   ]
  },
  {
   "cell_type": "code",
   "execution_count": null,
   "metadata": {},
   "outputs": [],
   "source": [
    "#change all of the labels that are above allowed value to unknown\n",
    "faces_labels[faces_labels>=13] = 13\n",
    "\n",
    "cp.plot_confusion_matrix_from_raw_data(y_true=actual_labels,\n",
    "                                       y_pred=faces_labels,\n",
    "                                       classes=classes,\n",
    "                                       cm_labels=cm_labels)"
   ]
  },
  {
   "cell_type": "code",
   "execution_count": null,
   "metadata": {},
   "outputs": [],
   "source": [
    "#how to print out the actual labels\n",
    "#export the labels\n",
    "labels = faces_labels.astype(\"int\")\n",
    "np.savetxt(\"temp/\" + str(key[\"segment_id\"]) + 'NOT_optimized_output_labels.csv', labels, fmt='%d', delimiter='\\n')"
   ]
  },
  {
   "cell_type": "code",
   "execution_count": null,
   "metadata": {},
   "outputs": [],
   "source": []
  }
 ],
 "metadata": {
  "kernelspec": {
   "display_name": "Python 3",
   "language": "python",
   "name": "python3"
  },
  "language_info": {
   "codemirror_mode": {
    "name": "ipython",
    "version": 3
   },
   "file_extension": ".py",
   "mimetype": "text/x-python",
   "name": "python",
   "nbconvert_exporter": "python",
   "pygments_lexer": "ipython3",
   "version": "3.6.8"
  }
 },
 "nbformat": 4,
 "nbformat_minor": 4
}
