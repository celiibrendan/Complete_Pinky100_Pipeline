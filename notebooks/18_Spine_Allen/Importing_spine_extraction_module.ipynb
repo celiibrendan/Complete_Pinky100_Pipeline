{
 "cells": [
  {
   "cell_type": "code",
   "execution_count": 1,
   "metadata": {},
   "outputs": [],
   "source": [
    "import spine_extraction as se"
   ]
  },
  {
   "cell_type": "code",
   "execution_count": 4,
   "metadata": {},
   "outputs": [
    {
     "name": "stdout",
     "output_type": "stream",
     "text": [
      "Starting spine extraction for neuron-775959265587-part-1.off with clusters=12 and smoothness=0.04\n",
      "Step 1: Trimesh mesh build total time ---- 0.98269 seconds\n",
      "\n",
      "Starting CGAL segmentation\n",
      "Step 2: CGAL segmentation total time ---- 25.27873 seconds\n",
      "\n",
      "Starting Spine Extraction\n",
      "\n",
      "backbone Parameters\n",
      "max_backbone_threshold = 200,                             backbone_threshold = 40,                             shared_vert_threshold = 10,                             shared_vert_threshold_new = 5                              backbone_width_threshold = 0.1,                              backbone_neighbor_min = 10\n",
      "\n",
      "stub_threshold = 50\n",
      "getting cgal data--- 0.29546 seconds ---\n",
      "smoothing round 1\n",
      "smoothing round 2\n",
      "smoothing backbone--- 0.1818 seconds ---\n",
      "removing 76 labels with stub threshold 50\n",
      "---removing stubs: 0.34989 seconds ---\n",
      "Total spine extraction --- 0.82836 seconds ---\n",
      "Step 3: Spine extraction total time ---- 0.93105 seconds\n",
      "Total time ---- 27.19353 seconds\n"
     ]
    }
   ],
   "source": [
    "meshes = se.complete_spine_extraction(\"/notebooks/18_Spine_Allen/neurons\",\"neuron-775959265587-part-1.off\")"
   ]
  },
  {
   "cell_type": "code",
   "execution_count": 6,
   "metadata": {},
   "outputs": [],
   "source": [
    "for m in meshes:\n",
    "    if len(m.faces)<50:\n",
    "        print(len(m.faces))"
   ]
  },
  {
   "cell_type": "code",
   "execution_count": null,
   "metadata": {},
   "outputs": [],
   "source": []
  }
 ],
 "metadata": {
  "kernelspec": {
   "display_name": "Python 3",
   "language": "python",
   "name": "python3"
  },
  "language_info": {
   "codemirror_mode": {
    "name": "ipython",
    "version": 3
   },
   "file_extension": ".py",
   "mimetype": "text/x-python",
   "name": "python",
   "nbconvert_exporter": "python",
   "pygments_lexer": "ipython3",
   "version": "3.6.5"
  }
 },
 "nbformat": 4,
 "nbformat_minor": 2
}
