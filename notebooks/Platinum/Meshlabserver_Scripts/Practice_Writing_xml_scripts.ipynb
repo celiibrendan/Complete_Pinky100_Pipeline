{
 "cells": [
  {
   "cell_type": "code",
   "execution_count": 1,
   "metadata": {},
   "outputs": [],
   "source": [
    "import xml.etree.ElementTree as ET\n",
    "tree = ET.parse('country_data.xml')\n",
    "root = tree.getroot()"
   ]
  },
  {
   "cell_type": "code",
   "execution_count": 3,
   "metadata": {},
   "outputs": [
    {
     "data": {
      "text/plain": [
       "('data', {})"
      ]
     },
     "execution_count": 3,
     "metadata": {},
     "output_type": "execute_result"
    }
   ],
   "source": [
    "root.tag,root.attrib"
   ]
  },
  {
   "cell_type": "code",
   "execution_count": 5,
   "metadata": {},
   "outputs": [
    {
     "name": "stdout",
     "output_type": "stream",
     "text": [
      "('country', {'name': 'Liechtenstein'})\n",
      "('country', {'name': 'Singapore'})\n",
      "('country', {'name': 'Panama'})\n"
     ]
    }
   ],
   "source": [
    "for child in root:\n",
    "    print((child.tag,child.attrib))"
   ]
  },
  {
   "cell_type": "code",
   "execution_count": null,
   "metadata": {},
   "outputs": [],
   "source": [
    "\"\"\"\n",
    "<!DOCTYPE FilterScript>\n",
    "<FilterScript>\n",
    "\n",
    "<filter name=\"Remove Duplicate Vertices\"/>\n",
    "\n",
    "<filter name=\"Simplification: Quadric Edge Collapse Decimation\" >\n",
    "    <Param type=\"RichInt\" value=\"100000\" name=\"TargetFaceNum\" />\n",
    "    <Param type=\"RichFloat\" value=\"1\" name=\"QualityThr\" />\n",
    "    <Param type=\"RichBool\" value=\"true\" name=\"PreserveBoundary\" />\n",
    "    <Param type=\"RichFloat\" value=\"1\" name=\"BoundaryWeight\" />\n",
    "    <Param type=\"RichBool\" value=\"true\" name=\"PreserveNormal\" />\n",
    "    <Param type=\"RichBool\" value=\"true\" name=\"PreserveTopology\" />\n",
    "    <Param type=\"RichBool\" value=\"true\" name=\"OptimalPlacement\" />\n",
    "    <Param type=\"RichBool\" value=\"true\" name=\"PlanarQuadric\" />\n",
    "    <Param type=\"RichFloat\" value=\"1\" name=\"PlanarWeight\" />\n",
    "    <Param type=\"RichBool\" value=\"false\" name=\"QualityWeight\" />\n",
    "    <Param type=\"RichBool\" value=\"true\" name=\"AutoClean\" />\n",
    "    <Param type=\"RichBool\" value=\"false\" name=\"Selected\" />\n",
    "    <Param type=\"RichFloat\" value=\"0.25\" name=\"TargetPerc\" />\n",
    "</filter>\n",
    "\n",
    "</FilterScript>\n",
    "\n",
    "\"\"\""
   ]
  },
  {
   "cell_type": "code",
   "execution_count": 40,
   "metadata": {},
   "outputs": [
    {
     "data": {
      "text/plain": [
       "'0.25'"
      ]
     },
     "execution_count": 40,
     "metadata": {},
     "output_type": "execute_result"
    }
   ],
   "source": [
    "Decimation_Filters[\"Decimation\"][\"filter_parameters\"][\"TargetPerc\"][\"value\"]"
   ]
  },
  {
   "cell_type": "code",
   "execution_count": 48,
   "metadata": {},
   "outputs": [],
   "source": []
  },
  {
   "cell_type": "code",
   "execution_count": 49,
   "metadata": {},
   "outputs": [
    {
     "name": "stdout",
     "output_type": "stream",
     "text": [
      "sp_filter = Remove_Duplicate_Vertices,param= {'name': 'Remove Duplicate Vertices', 'filter_parameters': {}}\n",
      "Working on Remove Duplicate Vertices\n",
      "sp_filter = Decimation,param= {'name': 'Simplification: Quadric Edge Collapse Decimation', 'filter_parameters': {'TargetFaceNum': {'type': 'RichInt', 'value': '100000'}, 'QualityThr': {'type': 'RichFloat', 'value': '1'}, 'PreserveBoundary': {'type': 'RichBool', 'value': 'true'}, 'BoundaryWeight': {'type': 'RichFloat', 'value': '1'}, 'PreserveNormal': {'type': 'RichBool', 'value': 'true'}, 'PreserveTopology': {'type': 'RichBool', 'value': 'true'}, 'OptimalPlacement': {'type': 'RichBool', 'value': 'true'}, 'PlanarQuadric': {'type': 'RichBool', 'value': 'true'}, 'PlanarWeight': {'type': 'RichFloat', 'value': '1'}, 'QualityWeight': {'type': 'RichBool', 'value': 'false'}, 'AutoClean': {'type': 'RichBool', 'value': 'true'}, 'Selected': {'type': 'RichBool', 'value': 'false'}, 'TargetPerc': {'type': 'RichFloat', 'value': 0.35}}}\n",
      "Working on Simplification: Quadric Edge Collapse Decimation\n",
      "name_param = TargetFaceNum,param= {'type': 'RichInt', 'value': '100000'}\n",
      "name_param = QualityThr,param= {'type': 'RichFloat', 'value': '1'}\n",
      "name_param = PreserveBoundary,param= {'type': 'RichBool', 'value': 'true'}\n",
      "name_param = BoundaryWeight,param= {'type': 'RichFloat', 'value': '1'}\n",
      "name_param = PreserveNormal,param= {'type': 'RichBool', 'value': 'true'}\n",
      "name_param = PreserveTopology,param= {'type': 'RichBool', 'value': 'true'}\n",
      "name_param = OptimalPlacement,param= {'type': 'RichBool', 'value': 'true'}\n",
      "name_param = PlanarQuadric,param= {'type': 'RichBool', 'value': 'true'}\n",
      "name_param = PlanarWeight,param= {'type': 'RichFloat', 'value': '1'}\n",
      "name_param = QualityWeight,param= {'type': 'RichBool', 'value': 'false'}\n",
      "name_param = AutoClean,param= {'type': 'RichBool', 'value': 'true'}\n",
      "name_param = Selected,param= {'type': 'RichBool', 'value': 'false'}\n",
      "name_param = TargetPerc,param= {'type': 'RichFloat', 'value': 0.35}\n"
     ]
    }
   ],
   "source": [
    "Decimation_Filters = dict(Remove_Duplicate_Vertices=dict(name=\"Remove Duplicate Vertices\",\n",
    "                                  filter_parameters = dict()),\n",
    "                Decimation=dict(name=\"Simplification: Quadric Edge Collapse Decimation\",\n",
    "                                  filter_parameters =dict(\n",
    "                                      TargetFaceNum=dict(type=\"RichInt\",value=\"100000\"),\n",
    "                                      QualityThr=dict(type=\"RichFloat\", value=\"1\" ),\n",
    "                                      PreserveBoundary=dict(type=\"RichBool\" ,value=\"true\"),\n",
    "                                      BoundaryWeight=dict(type=\"RichFloat\" ,value=\"1\"),\n",
    "                                      PreserveNormal=dict(type=\"RichBool\" ,value=\"true\"),\n",
    "                                      PreserveTopology=dict(type=\"RichBool\" ,value=\"true\" ),\n",
    "                                      OptimalPlacement=dict(type=\"RichBool\" ,value=\"true\"),\n",
    "                                      PlanarQuadric=dict(type=\"RichBool\" ,value=\"true\"),\n",
    "                                      PlanarWeight=dict(type=\"RichFloat\" ,value=\"1\" ),\n",
    "                                      QualityWeight=dict(type=\"RichBool\" ,value=\"false\"),\n",
    "                                      AutoClean=dict(type=\"RichBool\" ,value=\"true\"),\n",
    "                                      Selected=dict(type=\"RichBool\" ,value=\"false\"),\n",
    "                                      TargetPerc=dict(type=\"RichFloat\" ,value=\"0.25\")\n",
    "                                  ))\n",
    "                   )\n",
    "\n",
    "def set_attribute(filter_dict,\n",
    "                    filter_param_value,\n",
    "                    filter_name = \"Decimation\",\n",
    "                    filter_param_name = \"TargetPerc\"):\n",
    "    new_filter_dict = filter_dict\n",
    "    new_filter_dict[filter_name][\"filter_parameters\"][filter_param_name][\"value\"] = filter_param_value\n",
    "    return new_filter_dict\n",
    "    \n",
    "\n",
    "def create_mls_file(file_name, filters):\n",
    "    file1 = open(file_name,\"w\") \n",
    "\n",
    "    \n",
    "    boundary_strings = [\"<!DOCTYPE FilterScript>\",\"<FilterScript>\",\"</FilterScript>\"]\n",
    "    for ln in boundary_strings[:-1]:\n",
    "        file1.write(ln + \"\\n\")\n",
    "    \n",
    "    file1.write('\\n\\n')\n",
    "    for sp_filter,data in filters.items():\n",
    "        print(f\"Working on {data['name']}\")\n",
    "        file1.write(f'<filter name=\"{data[\"name\"]}\" >\\n')\n",
    "        for name_param,param in data[\"filter_parameters\"].items():\n",
    "            total_string = \"    <Param \"\n",
    "            total_string += \" \".join([f'{k}=\"{v}\"' for k,v in param.items()])\n",
    "            total_string += f\" name='{name_param}' />\\n\"\n",
    "            file1.write(total_string)\n",
    "        file1.write(\"</filter>\\n\\n\\n\")\n",
    "        \n",
    "    file1.write(boundary_strings[-1] + \"\\n\")\n",
    "    \n",
    "    file1.close() \n",
    "    \n",
    "new_filter = set_attribute(Decimation_Filters,\n",
    "                           0.35,\n",
    "                           filter_name = \"Decimation\",\n",
    "                            filter_param_name = \"TargetPerc\")\n",
    "    \n",
    "create_mls_file(\"decimation_35.mls\",new_filter)"
   ]
  },
  {
   "cell_type": "code",
   "execution_count": 27,
   "metadata": {},
   "outputs": [],
   "source": []
  },
  {
   "cell_type": "code",
   "execution_count": null,
   "metadata": {},
   "outputs": [],
   "source": [
    "for rank in root.iter('rank'):\n",
    "    new_rank = int(rank.text) + 1\n",
    "    rank.text = str(new_rank)\n",
    "    rank.set('updated', 'yes')\n",
    "\n",
    "tree.write('output.xml')\n"
   ]
  },
  {
   "cell_type": "code",
   "execution_count": 11,
   "metadata": {},
   "outputs": [
    {
     "ename": "NameError",
     "evalue": "name 'tostring' is not defined",
     "output_type": "error",
     "traceback": [
      "\u001b[0;31m---------------------------------------------------------------------------\u001b[0m",
      "\u001b[0;31mNameError\u001b[0m                                 Traceback (most recent call last)",
      "\u001b[0;32m<ipython-input-11-5728cab99355>\u001b[0m in \u001b[0;36m<module>\u001b[0;34m\u001b[0m\n\u001b[1;32m     15\u001b[0m \u001b[0ms\u001b[0m \u001b[0;34m=\u001b[0m \u001b[0;34m{\u001b[0m \u001b[0;34m'name'\u001b[0m\u001b[0;34m:\u001b[0m \u001b[0;34m'GOOG'\u001b[0m\u001b[0;34m,\u001b[0m \u001b[0;34m'shares'\u001b[0m\u001b[0;34m:\u001b[0m \u001b[0;36m100\u001b[0m\u001b[0;34m,\u001b[0m \u001b[0;34m'price'\u001b[0m\u001b[0;34m:\u001b[0m\u001b[0;36m490.1\u001b[0m \u001b[0;34m}\u001b[0m\u001b[0;34m\u001b[0m\u001b[0;34m\u001b[0m\u001b[0m\n\u001b[1;32m     16\u001b[0m \u001b[0me\u001b[0m \u001b[0;34m=\u001b[0m \u001b[0mdict_to_xml\u001b[0m\u001b[0;34m(\u001b[0m\u001b[0;34m'stock'\u001b[0m\u001b[0;34m,\u001b[0m \u001b[0ms\u001b[0m\u001b[0;34m)\u001b[0m\u001b[0;34m\u001b[0m\u001b[0;34m\u001b[0m\u001b[0m\n\u001b[0;32m---> 17\u001b[0;31m \u001b[0mtostring\u001b[0m\u001b[0;34m(\u001b[0m\u001b[0me\u001b[0m\u001b[0;34m)\u001b[0m\u001b[0;34m\u001b[0m\u001b[0;34m\u001b[0m\u001b[0m\n\u001b[0m\u001b[1;32m     18\u001b[0m \u001b[0;34m\u001b[0m\u001b[0m\n\u001b[1;32m     19\u001b[0m \u001b[0;34m\u001b[0m\u001b[0m\n",
      "\u001b[0;31mNameError\u001b[0m: name 'tostring' is not defined"
     ]
    }
   ],
   "source": [
    "from xml.etree.ElementTree import Element\n",
    " \n",
    "def dict_to_xml(tag, d):\n",
    "    '''\n",
    "    Turn a simple dict of key/value pairs into XML\n",
    "    '''\n",
    "    elem = Element(tag)\n",
    "    for key, val in d.items():\n",
    "        child = Element(key)\n",
    "        child.text = str(val)\n",
    "        elem.append(child)\n",
    "    return elem\n",
    "\n",
    "# how to turn a dictionary into an xml\n",
    "s = { 'name': 'GOOG', 'shares': 100, 'price':490.1 }\n",
    "e = dict_to_xml('stock', s)\n",
    "tostring(e)\n",
    "\n",
    "\n"
   ]
  },
  {
   "cell_type": "code",
   "execution_count": null,
   "metadata": {},
   "outputs": [],
   "source": []
  }
 ],
 "metadata": {
  "kernelspec": {
   "display_name": "Python 3",
   "language": "python",
   "name": "python3"
  },
  "language_info": {
   "codemirror_mode": {
    "name": "ipython",
    "version": 3
   },
   "file_extension": ".py",
   "mimetype": "text/x-python",
   "name": "python",
   "nbconvert_exporter": "python",
   "pygments_lexer": "ipython3",
   "version": "3.6.8"
  }
 },
 "nbformat": 4,
 "nbformat_minor": 4
}
