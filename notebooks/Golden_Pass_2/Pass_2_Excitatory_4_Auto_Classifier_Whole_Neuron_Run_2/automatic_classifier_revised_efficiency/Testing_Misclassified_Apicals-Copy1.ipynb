{
 "cells": [
  {
   "cell_type": "code",
   "execution_count": 1,
   "metadata": {},
   "outputs": [],
   "source": [
    "from OPTIMIZED_whole_neuron_classifier_datajoint_adapted import extract_branches_whole_neuron\n",
    "import datajoint as dj\n",
    "import numpy as np\n",
    "import datajoint as dj\n",
    "import trimesh\n",
    "import time"
   ]
  },
  {
   "cell_type": "code",
   "execution_count": 2,
   "metadata": {},
   "outputs": [],
   "source": [
    "from whole_neuron_classifier_datajoint_adapted import write_Whole_Neuron_Off_file"
   ]
  },
  {
   "cell_type": "code",
   "execution_count": 3,
   "metadata": {},
   "outputs": [
    {
     "name": "stdout",
     "output_type": "stream",
     "text": [
      "Connecting celiib@10.28.0.34:3306\n"
     ]
    }
   ],
   "source": [
    "dj.config['database.host'] = '10.28.0.34'\n",
    "dj.config['database.user'] = 'celiib'\n",
    "dj.config['database.password'] = 'newceliipass'\n",
    "dj.config[\"display.limit\"] = 20\n",
    "    \n",
    "#schema = dj.schema('microns_ta3p100')\n",
    "#ta3p100 = dj.create_virtual_module('ta3p100', 'microns_ta3p100')\n",
    "schema = dj.schema(\"microns_pinky\")\n",
    "pinky = dj.create_virtual_module(\"pinky\",\"microns_pinky\")\n"
   ]
  },
  {
   "cell_type": "code",
   "execution_count": 4,
   "metadata": {},
   "outputs": [],
   "source": [
    "key = dict(segmentation=3,segment_id=648518346349475536)"
   ]
  },
  {
   "cell_type": "code",
   "execution_count": 5,
   "metadata": {},
   "outputs": [
    {
     "name": "stdout",
     "output_type": "stream",
     "text": [
      "\n",
      "\n",
      "*****Starting Auto Labeling for 648518346349475536******\n",
      "1) Starting: Mesh importing and Pymesh fix\n",
      "loading mesh from vertices and triangles array\n",
      "1) Finished: Mesh importing and Pymesh fix: 0.18535876274108887\n",
      "2) Staring: Generating CGAL segmentation for neuron\n",
      "2) Finished: Generating CGAL segmentation for neuron: 40.93231272697449\n",
      "3) Staring: Generating Graph Structure and Identifying Soma\n",
      "soma_index = 0\n",
      "3) Finished: Generating Graph Structure and Identifying Soma: 1.072035789489746\n",
      "5) Staring: Finding Apical Index\n",
      "Soma Index = 0\n",
      "Soma Connections = [1, 4, 16, 12, 27]\n",
      "soma_80_percent = 249892.48125\n",
      "possible_Axons_filter_1 = [1]\n",
      "size_threshold_filter = [1]\n",
      "height_threshold_filter = [1]\n",
      "sdf_threshold_filter = [1]\n",
      "possible_Axons_filter_2 = [1]\n",
      "possible_Apical = 1\n",
      "5) Finished: Finding Apical Index: 2.0870752334594727\n",
      "6) Staring: Classifying Entire Neuron\n",
      "27 = stub soma\n",
      "13 = stub apical\n",
      "18 = stub apical\n",
      "20 = stub apical\n",
      "21 = stub apical\n",
      "22 = stub apical\n",
      "23 = stub apical\n",
      "24 = stub apical\n",
      "25 = stub apical\n",
      "28 = stub apical\n",
      "29 = stub apical\n",
      "30 = stub apical\n",
      "32 = stub apical\n",
      "33 = stub apical\n",
      "34 = stub apical\n",
      "35 = stub apical\n",
      "36 = stub apical\n",
      "38 = stub apical\n",
      "39 = stub apical\n",
      "40 = stub apical\n",
      "43 = stub apical\n",
      "45 = stub apical\n",
      "46 = stub apical\n",
      "47 = stub apical\n",
      "48 = stub apical\n",
      "49 = stub apical\n",
      "50 = stub apical\n",
      "51 = stub apical\n",
      "53 = stub apical\n",
      "54 = stub apical\n",
      "55 = stub apical\n",
      "56 = stub apical\n",
      "58 = stub apical\n",
      "59 = stub apical\n",
      "60 = stub apical\n",
      "61 = stub apical\n",
      "63 = stub apical\n",
      "64 = stub apical\n",
      "66 = stub apical\n",
      "68 = stub apical\n",
      "69 = stub apical\n",
      "70 = stub apical\n",
      "71 = stub apical\n",
      "72 = stub apical\n",
      "73 = stub apical\n",
      "75 = stub apical\n",
      "76 = stub apical\n",
      "77 = stub apical\n",
      "78 = stub apical\n",
      "79 = stub apical\n",
      "80 = stub apical\n",
      "85 = stub apical\n",
      "86 = stub apical\n",
      "87 = stub apical\n",
      "88 = stub apical\n",
      "89 = stub apical\n",
      "90 = stub apical\n",
      "91 = stub apical\n",
      "92 = stub apical\n",
      "93 = stub apical\n",
      "94 = stub apical\n",
      "99 = stub apical\n",
      "100 = stub apical\n",
      "104 = stub apical\n",
      "105 = stub apical\n",
      "106 = stub apical\n",
      "107 = stub apical\n",
      "109 = stub apical\n",
      "110 = stub apical\n",
      "111 = stub apical\n",
      "112 = stub apical\n",
      "113 = stub apical\n",
      "114 = stub apical\n",
      "115 = stub apical\n",
      "116 = stub apical\n",
      "118 = stub apical\n",
      "120 = stub apical\n",
      "121 = stub apical\n",
      "122 = stub apical\n",
      "123 = stub apical\n",
      "124 = stub apical\n",
      "126 = stub apical\n",
      "127 = stub apical\n",
      "128 = stub apical\n",
      "130 = stub apical\n",
      "131 = stub apical\n",
      "132 = stub apical\n",
      "133 = stub apical\n",
      "134 = stub apical\n",
      "135 = stub apical\n",
      "136 = stub apical\n",
      "137 = stub apical\n",
      "138 = stub apical\n",
      "139 = stub apical\n",
      "142 = stub apical\n",
      "143 = stub apical\n",
      "144 = stub apical\n",
      "146 = stub apical\n",
      "147 = stub apical\n",
      "148 = stub apical\n",
      "149 = stub apical\n",
      "150 = stub apical\n",
      "151 = stub apical\n",
      "152 = stub apical\n",
      "154 = stub apical\n",
      "155 = stub apical\n",
      "156 = stub apical\n",
      "157 = stub apical\n",
      "158 = stub apical\n",
      "159 = stub apical\n",
      "160 = stub apical\n",
      "Total Labels found = {'error', 'oblique', 'apical', 'soma', 'basal'}\n",
      "6) Finished: Classifying Entire Neuron: 3.9569716453552246\n",
      "7) Staring: Transfering Segmentation Labels to Face Labels\n",
      "7) Finished: Transfering Segmentation Labels to Face Labels: 1.6538431644439697\n",
      "8) Staring: Generating final Vertex and Face Labels\n",
      "8) Finished: Generating final Vertex and Face Labels: 27.9356689453125\n",
      "Finished Auto Labeling: 80.03691005706787\n"
     ]
    }
   ],
   "source": [
    "start_time = time.time()\n",
    "\n",
    "print(\"\\n\\n*****Starting Auto Labeling for \" + str(key[\"segment_id\"]) + \"******\")\n",
    "\n",
    "segment_id = key[\"segment_id\"]\n",
    "\n",
    "#get the vertices and faces from datajoint\n",
    "# get the newly stitched mesh\n",
    "# get the original mesh\n",
    "\n",
    "\n",
    "verts,faces = (pinky.PymeshfixDecimatedExcitatoryStitchedMesh() & key).fetch1(\"vertices\",\"triangles\")\n",
    "\n",
    "cgal_location = \"/notebooks/Pass_2_Excitatory_4_Auto_Classifier_Whole_Neuron_Run_2/automatic_classifier_revised_efficiency/temp/\"\n",
    "cgal_file_sdf = \"648518346349475536_fixed-cgal_3_0.20_sdf.csv\"\n",
    "cgal_file_seg = \"648518346349475536_fixed-cgal_3_0.20.csv\"\n",
    "\n",
    "#run the whole algorithm on the neuron to test\n",
    "verts_labels, faces_labels = extract_branches_whole_neuron(import_Off_Flag=False,segment_id=segment_id,vertices=verts,\n",
    "                     triangles=faces,pymeshfix_Flag=False,\n",
    "                     import_CGAL_Flag=True,\n",
    "                     import_CGAL_paths = [cgal_location + cgal_file_seg,\n",
    "                                         cgal_location + cgal_file_sdf],\n",
    "                     return_Only_Labels=True,\n",
    "                     clusters=3,\n",
    "                     smoothness=0.2)\n",
    "\n",
    "print(f\"Finished Auto Labeling: {time.time() - start_time}\")\n"
   ]
  },
  {
   "cell_type": "code",
   "execution_count": 12,
   "metadata": {},
   "outputs": [],
   "source": [
    "#export the labels\n",
    "labels = faces_labels.astype(\"int\")\n",
    "np.savetxt(\"temp/\" + str(key[\"segment_id\"]) + '_output_labels.csv', labels, fmt='%d', delimiter='\\n')"
   ]
  },
  {
   "cell_type": "code",
   "execution_count": 10,
   "metadata": {},
   "outputs": [
    {
     "data": {
      "text/plain": [
       "array([5, 2, 2, ..., 3, 3, 3])"
      ]
     },
     "execution_count": 10,
     "metadata": {},
     "output_type": "execute_result"
    }
   ],
   "source": [
    "labels"
   ]
  },
  {
   "cell_type": "code",
   "execution_count": null,
   "metadata": {},
   "outputs": [],
   "source": []
  }
 ],
 "metadata": {
  "kernelspec": {
   "display_name": "Python 3",
   "language": "python",
   "name": "python3"
  },
  "language_info": {
   "codemirror_mode": {
    "name": "ipython",
    "version": 3
   },
   "file_extension": ".py",
   "mimetype": "text/x-python",
   "name": "python",
   "nbconvert_exporter": "python",
   "pygments_lexer": "ipython3",
   "version": "3.6.8"
  }
 },
 "nbformat": 4,
 "nbformat_minor": 4
}
