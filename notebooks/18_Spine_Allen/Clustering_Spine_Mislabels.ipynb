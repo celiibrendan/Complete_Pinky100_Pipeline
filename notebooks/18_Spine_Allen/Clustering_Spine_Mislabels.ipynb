{
 "cells": [
  {
   "cell_type": "code",
   "execution_count": null,
   "metadata": {},
   "outputs": [],
   "source": [
    "\"\"\"\n",
    "Pseudo code: \n",
    "1) read in the headers into a list\n",
    "2) Read in the data into a multidimensional numpy array\n",
    "3) Graph juxtaposed scatter plots to see if any clustering\n",
    "4) If can't find any then run clustering algorithm\n",
    "\n",
    "\"\"\""
   ]
  },
  {
   "cell_type": "code",
   "execution_count": 57,
   "metadata": {},
   "outputs": [],
   "source": [
    "import numpy as np\n",
    "import csv"
   ]
  },
  {
   "cell_type": "code",
   "execution_count": 58,
   "metadata": {},
   "outputs": [],
   "source": [
    "shaft_file = \"neuron-775959265587_part_2-cgal_12_0.04_STATS_TOTAL_shaft.csv\"\n",
    "incorrect_file = \"neuron-775959265587_part_2-cgal_12_0.04_STATS_TOTAL_incorrect.csv\""
   ]
  },
  {
   "cell_type": "code",
   "execution_count": 59,
   "metadata": {},
   "outputs": [],
   "source": [
    "incorrect_data = []\n",
    "\n",
    "with open(incorrect_file) as my_file:\n",
    "    my_file_reader = csv.reader(my_file)\n",
    "    \n",
    "\n",
    "    for i,row in enumerate(my_file_reader):\n",
    "        if i == 0:\n",
    "            header = row\n",
    "        else:\n",
    "            incorrect_data.append(row)\n",
    "incorrect_array = np.array(incorrect_data)\n",
    "\n",
    "\n",
    "shaft_data = []\n",
    "with open(shaft_file) as my_file:\n",
    "    my_file_reader = csv.reader(my_file)\n",
    "    \n",
    "\n",
    "    for i,row in enumerate(my_file_reader):\n",
    "        if i == 0:\n",
    "            header = row\n",
    "        else:\n",
    "            shaft_data.append(row)\n",
    "\n",
    "shaft_array = np.array(shaft_data)\n",
    "#print(shaft_array)"
   ]
  },
  {
   "cell_type": "code",
   "execution_count": 60,
   "metadata": {},
   "outputs": [
    {
     "data": {
      "text/plain": [
       "['label',\n",
       " 'min',\n",
       " 'median',\n",
       " 'max',\n",
       " '10th percentile',\n",
       " '90th percentile',\n",
       " 'std dev',\n",
       " '80th percentile',\n",
       " '70th percentile',\n",
       " 'NUM OF FACES']"
      ]
     },
     "execution_count": 60,
     "metadata": {},
     "output_type": "execute_result"
    }
   ],
   "source": [
    "header"
   ]
  },
  {
   "cell_type": "code",
   "execution_count": 61,
   "metadata": {},
   "outputs": [],
   "source": [
    "col_1 = header.index(\"90th percentile\")\n",
    "col_2 = header.index(\"NUM OF FACES\")\n",
    "\n",
    "incorrect_slices_x = incorrect_array[:,col_1]\n",
    "incorrect_slices_y = incorrect_array[:,col_2]\n",
    "shaft_slices_x = shaft_array[:,col_1]\n",
    "shaft_slices_y = shaft_array[:,col_2]"
   ]
  },
  {
   "cell_type": "code",
   "execution_count": 62,
   "metadata": {},
   "outputs": [
    {
     "data": {
      "image/png": "[encoded data removed]",
      "text/plain": [
       "<Figure size 432x288 with 1 Axes>"
      ]
     },
     "metadata": {},
     "output_type": "display_data"
    },
    {
     "data": {
      "image/png": "[encoded data removed]",
      "text/plain": [
       "<Figure size 432x288 with 1 Axes>"
      ]
     },
     "metadata": {},
     "output_type": "display_data"
    }
   ],
   "source": [
    "import matplotlib.pyplot as plt\n",
    "#plt.scatter(x=incorrect_slices_x.astype(\"float\"),y=incorrect_slices_y.astype(\"float\"))\n",
    "plt.scatter(x=shaft_slices_x.astype(\"float\"),y=shaft_slices_y.astype(\"float\"))\n",
    "plt.ylim((0,3000))\n",
    "plt.xlim((0,0.7))\n",
    "plt.show()\n",
    "\n",
    "\n",
    "plt.scatter(x=incorrect_slices_x.astype(\"float\"),y=incorrect_slices_y.astype(\"float\"))\n",
    "#plt.scatter(x=shaft_slices_x.astype(\"float\"),y=shaft_slices_y.astype(\"float\"))\n",
    "plt.ylim((0,3000))\n",
    "plt.xlim((0,0.7))\n",
    "plt.show()\n",
    "\n",
    "\n",
    "\n",
    "\n",
    "#to get rid of outliers, get rid of > 0.7 width and > 3000 faces"
   ]
  },
  {
   "cell_type": "code",
   "execution_count": 45,
   "metadata": {},
   "outputs": [
    {
     "data": {
      "text/plain": [
       "array([0.222623, 0.234944, 0.150733, 0.254921, 0.220594, 0.236997,\n",
       "       0.2706  , 0.173482, 0.405849, 0.281305, 0.26066 ])"
      ]
     },
     "execution_count": 45,
     "metadata": {},
     "output_type": "execute_result"
    }
   ],
   "source": [
    "incorrect_slices_x.astype(\"float\")"
   ]
  },
  {
   "cell_type": "code",
   "execution_count": 6,
   "metadata": {},
   "outputs": [
    {
     "data": {
      "text/plain": [
       "['__class__',\n",
       " '__delattr__',\n",
       " '__dir__',\n",
       " '__doc__',\n",
       " '__eq__',\n",
       " '__format__',\n",
       " '__ge__',\n",
       " '__getattribute__',\n",
       " '__gt__',\n",
       " '__hash__',\n",
       " '__init__',\n",
       " '__init_subclass__',\n",
       " '__iter__',\n",
       " '__le__',\n",
       " '__lt__',\n",
       " '__ne__',\n",
       " '__new__',\n",
       " '__next__',\n",
       " '__reduce__',\n",
       " '__reduce_ex__',\n",
       " '__repr__',\n",
       " '__setattr__',\n",
       " '__sizeof__',\n",
       " '__str__',\n",
       " '__subclasshook__',\n",
       " 'dialect',\n",
       " 'line_num']"
      ]
     },
     "execution_count": 6,
     "metadata": {},
     "output_type": "execute_result"
    }
   ],
   "source": [
    "dir(my_file_reader)"
   ]
  },
  {
   "cell_type": "code",
   "execution_count": 4,
   "metadata": {},
   "outputs": [],
   "source": [
    "import datajoint as dj\n",
    "ta3p100 = dj.create_virtual_module(\"ta3p100\",\"microns_ta3p100\")"
   ]
  },
  {
   "cell_type": "code",
   "execution_count": 5,
   "metadata": {},
   "outputs": [
    {
     "data": {
      "text/plain": [
       "array([( 0, 'not_labeled', 'no_color'), ( 1, 'label_removed', 'no_color'),\n",
       "       ( 2, 'Apical', 'blue'), ( 3, 'Basal', 'yellow'),\n",
       "       ( 4, 'Oblique', 'green'), ( 5, 'Soma', 'red'),\n",
       "       ( 6, 'Axon-Soma', 'aqua'), ( 7, 'Axon-Dendr', 'off blue'),\n",
       "       ( 8, 'Dendrite', 'purple'), ( 9, 'Distal', 'pink'),\n",
       "       (10, 'Error', 'brown'), (11, 'Unlabelable', 'tan'),\n",
       "       (12, 'Cilia', 'light purple'), (13, 'Spine Head', 'rose'),\n",
       "       (14, 'Spine', 'light pink'), (15, 'Spine Neck', 'light green'),\n",
       "       (16, 'Bouton', 'aqua'), (17, 'shaft', 'dark orange'),\n",
       "       (18, 'non-spine', 'light orange')],\n",
       "      dtype=[('numeric', '<i8'), ('description', 'O'), ('color', 'O')])"
      ]
     },
     "execution_count": 5,
     "metadata": {},
     "output_type": "execute_result"
    }
   ],
   "source": [
    "ta3p100.LabelKey.fetch()"
   ]
  },
  {
   "cell_type": "code",
   "execution_count": null,
   "metadata": {},
   "outputs": [],
   "source": []
  }
 ],
 "metadata": {
  "kernelspec": {
   "display_name": "Python 3",
   "language": "python",
   "name": "python3"
  },
  "language_info": {
   "codemirror_mode": {
    "name": "ipython",
    "version": 3
   },
   "file_extension": ".py",
   "mimetype": "text/x-python",
   "name": "python",
   "nbconvert_exporter": "python",
   "pygments_lexer": "ipython3",
   "version": "3.6.5"
  }
 },
 "nbformat": 4,
 "nbformat_minor": 2
}
