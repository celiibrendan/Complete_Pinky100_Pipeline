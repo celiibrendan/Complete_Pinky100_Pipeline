{
 "cells": [
  {
   "cell_type": "code",
   "execution_count": null,
   "metadata": {},
   "outputs": [],
   "source": [
    "\"\"\" To Do List\n",
    "1)Find suitable groups based on spining data\n",
    "2)Fins theh x,y,z distribution for all of the neurites\n",
    "Find the length distribution for all of the neurites\n",
    "Find the volume distribution for all of the neurites\n",
    "Find the x, y, z distribution for all of the spining groups\n",
    "For For all spining groups:\n",
    "Take out the dendrite numbers and filter by size\n",
    "Do heat map of compartments\n",
    "\n",
    "\n",
    "\"\"\""
   ]
  },
  {
   "cell_type": "code",
   "execution_count": 2,
   "metadata": {},
   "outputs": [
    {
     "ename": "ModuleNotFoundError",
     "evalue": "No module named 'meshparty'",
     "output_type": "error",
     "traceback": [
      "\u001b[0;31m---------------------------------------------------------------------------\u001b[0m",
      "\u001b[0;31mModuleNotFoundError\u001b[0m                       Traceback (most recent call last)",
      "\u001b[0;32m<ipython-input-2-2e54fe41bfa5>\u001b[0m in \u001b[0;36m<module>\u001b[0;34m\u001b[0m\n\u001b[1;32m      3\u001b[0m \u001b[0;32mimport\u001b[0m \u001b[0mtime\u001b[0m\u001b[0;34m\u001b[0m\u001b[0;34m\u001b[0m\u001b[0m\n\u001b[1;32m      4\u001b[0m \u001b[0;34m\u001b[0m\u001b[0m\n\u001b[0;32m----> 5\u001b[0;31m \u001b[0;32mfrom\u001b[0m \u001b[0mmeshparty\u001b[0m \u001b[0;32mimport\u001b[0m \u001b[0mtrimesh_io\u001b[0m\u001b[0;34m\u001b[0m\u001b[0;34m\u001b[0m\u001b[0m\n\u001b[0m\u001b[1;32m      6\u001b[0m \u001b[0;32mimport\u001b[0m \u001b[0mpandas\u001b[0m \u001b[0;32mas\u001b[0m \u001b[0mpd\u001b[0m\u001b[0;34m\u001b[0m\u001b[0;34m\u001b[0m\u001b[0m\n\u001b[1;32m      7\u001b[0m \u001b[0;32mimport\u001b[0m \u001b[0mseaborn\u001b[0m \u001b[0;32mas\u001b[0m \u001b[0msns\u001b[0m\u001b[0;34m\u001b[0m\u001b[0;34m\u001b[0m\u001b[0m\n",
      "\u001b[0;31mModuleNotFoundError\u001b[0m: No module named 'meshparty'"
     ]
    }
   ],
   "source": [
    "import datajoint as dj\n",
    "import numpy as np\n",
    "import time\n",
    "\n",
    "from meshparty import trimesh_io\n",
    "import pandas as pd\n",
    "import seaborn as sns\n",
    "sns.set() #sets the asethetics parameters in what set"
   ]
  },
  {
   "cell_type": "code",
   "execution_count": null,
   "metadata": {},
   "outputs": [],
   "source": [
    "#setting the address and the username\n",
    "dj.config['database.host'] = '10.28.0.34'\n",
    "dj.config['database.user'] = 'celiib'\n",
    "dj.config['database.password'] = 'newceliipass'\n",
    "dj.config['safemode']=True\n",
    "dj.config[\"display.limit\"] = 20\n",
    "\n",
    "schema = dj.schema('microns_ta3p100')\n",
    "ta3p100 = dj.create_virtual_module('ta3p100', 'microns_ta3p100')\n"
   ]
  },
  {
   "cell_type": "code",
   "execution_count": null,
   "metadata": {},
   "outputs": [],
   "source": [
    "#ta3p100.NeuriteTargetsRevised.describe()"
   ]
  },
  {
   "cell_type": "code",
   "execution_count": null,
   "metadata": {},
   "outputs": [],
   "source": [
    "#NeuriteTargets was recomputed from the NeuriteRevised list\n",
    "len(ta3p100.NeuriteTargetsRevised() & \"spine_num<total\"),len(ta3p100.NeuriteTargetsRevised() )"
   ]
  },
  {
   "cell_type": "code",
   "execution_count": null,
   "metadata": {},
   "outputs": [],
   "source": [
    "ta3p100.NeuriteTargetsRevised()"
   ]
  },
  {
   "cell_type": "code",
   "execution_count": null,
   "metadata": {},
   "outputs": [],
   "source": [
    "#creates the table with spine data without the spine label\n",
    "#how to filter out the spine proportion\n",
    "\n",
    "#have to first remove the ones that have only spine synapses\n",
    "\n",
    "\n",
    "neurite_targets_no_spine = (ta3p100.NeuriteTargetsRevised() & \"(spine_num + spine_neck_num) <total\").proj(\n",
    "                                                         spine_head_prop=\"spine_head_prop/(1-spine_prop - spine_neck_prop)\",\n",
    "                                                         shaft_prop=\"shaft_prop/(1-spine_prop - spine_neck_prop)\",\n",
    "                                                         #non_spine_prop=\"non_spine_prop/(1-spine_prop - spine_neck_prop)\",\n",
    "                                                         soma_prop = \"soma_prop/(1-spine_prop - spine_neck_prop)\",\n",
    "                                                         axon_prop = \"axon_prop/(1-spine_prop - spine_neck_prop)\",\n",
    "                                                         total=\"total-spine_num - spine_neck_num\",\n",
    "                                            )\n",
    "\n",
    "neurite_targets_no_spine\n",
    "\n"
   ]
  },
  {
   "cell_type": "code",
   "execution_count": null,
   "metadata": {},
   "outputs": [],
   "source": [
    "#different lengths based on the number of synapses threshold\n",
    "\n",
    "print(len(neurite_targets_no_spine))\n",
    "print(len(neurite_targets_no_spine & \"total>12\"))\n",
    "print(len(neurite_targets_no_spine & \"total>10\")) \n",
    "print(len(neurite_targets_no_spine & \"total>8\")) \n",
    "print(len(neurite_targets_no_spine & \"total>6\")) "
   ]
  },
  {
   "cell_type": "markdown",
   "metadata": {},
   "source": [
    "# Manually seperating the groups into: Axon, Soma, Head, Shaft"
   ]
  },
  {
   "cell_type": "code",
   "execution_count": null,
   "metadata": {},
   "outputs": [],
   "source": [
    "neurite_targets_no_spine_6 = (neurite_targets_no_spine & \"total>6\")\n",
    "print(\"Total in neurite table with greater than 6 synapses = \" + str(len(neurite_targets_no_spine_6)))"
   ]
  },
  {
   "cell_type": "code",
   "execution_count": null,
   "metadata": {},
   "outputs": [],
   "source": [
    "#show the distribution\n",
    "axon_prop = neurite_targets_no_spine_6.fetch(\"axon_prop\")\n",
    "axon_prop\n",
    "axon_greater_0_array = axon_prop[axon_prop.astype(\"float\") > 0]\n",
    "sns.distplot(axon_greater_0_array.astype(\"float\"))"
   ]
  },
  {
   "cell_type": "code",
   "execution_count": null,
   "metadata": {},
   "outputs": [],
   "source": [
    "#show the distribution\n",
    "soma_prop = (neurite_targets_no_spine_6 ).fetch(\"soma_prop\")\n",
    "soma_prop\n",
    "soma_greater_0_array = soma_prop[soma_prop.astype(\"float\") > 0]\n",
    "sns.distplot(soma_greater_0_array.astype(\"float\"))"
   ]
  },
  {
   "cell_type": "code",
   "execution_count": null,
   "metadata": {},
   "outputs": [],
   "source": [
    "#manually find the groups\n",
    "axon_group = neurite_targets_no_spine_6 & \"axon_prop>0\"\n",
    "print(\"Axon group = \" + str(len(axon_group)))\n",
    "soma_group = (neurite_targets_no_spine_6 - axon_group.proj()) & \"soma_prop>=0.25\"\n",
    "print(\"Soma group = \" + str(len(soma_group)))"
   ]
  },
  {
   "cell_type": "code",
   "execution_count": null,
   "metadata": {},
   "outputs": [],
   "source": [
    "#remove the axon and soma groups\n",
    "neurite_targets_no_spine_6_without_axon_soma = neurite_targets_no_spine_6 - axon_group.proj() - soma_group.proj()\n",
    "len(neurite_targets_no_spine_6_without_axon_soma)/len(neurite_targets_no_spine_6)"
   ]
  },
  {
   "cell_type": "code",
   "execution_count": null,
   "metadata": {},
   "outputs": [],
   "source": [
    "#get heatmap of the data\n",
    "\n",
    "neurite_spine_data = neurite_targets_no_spine_6_without_axon_soma.fetch(as_dict=True)\n",
    "\n",
    "spine_df = pd.DataFrame(neurite_spine_data)\n",
    "spine_df_base = spine_df.drop(columns=['segmentation', 'segment_id',\"total\",\"axon_prop\",\"soma_prop\"])\n",
    "#spine_df_base"
   ]
  },
  {
   "cell_type": "code",
   "execution_count": null,
   "metadata": {},
   "outputs": [],
   "source": [
    "#sort by the first column and then do heat map\n",
    "spine_df_base_head_shaft_sort = spine_df_base.sort_values(['spine_head_prop','shaft_prop'], ascending=[False,True])\n",
    "spine_df_base_head_shaft_sort"
   ]
  },
  {
   "cell_type": "code",
   "execution_count": null,
   "metadata": {},
   "outputs": [],
   "source": [
    "#heat map of spine heads\n",
    "spine_head_shaft_sort = sns.heatmap(spine_df_base_head_shaft_sort)"
   ]
  },
  {
   "cell_type": "code",
   "execution_count": null,
   "metadata": {},
   "outputs": [],
   "source": [
    "#making the head group\n",
    "head_group = neurite_targets_no_spine_6_without_axon_soma & \"spine_head_prop >=0.6\"\n",
    "len(head_group)"
   ]
  },
  {
   "cell_type": "code",
   "execution_count": null,
   "metadata": {},
   "outputs": [],
   "source": [
    "#heat map of spine heads\n",
    "spine_shaft = spine_df_base_head_shaft_sort[spine_df_base_head_shaft_sort[\"spine_head_prop\"]<0.6].sort_values(\"shaft_prop\",ascending=True)\n",
    "#spine_df_base_head_shaft_sort = spine_df_base.sort_values(['spine_head_prop','shaft_prop'], ascending=[False,True])\n",
    "spine_head_shaft_sort = sns.heatmap(spine_shaft)"
   ]
  },
  {
   "cell_type": "code",
   "execution_count": null,
   "metadata": {},
   "outputs": [],
   "source": [
    "#making the shaft group\n",
    "shaft_group = (neurite_targets_no_spine_6_without_axon_soma & \"shaft_prop >=0.5\") - head_group.proj()\n",
    "len(shaft_group)"
   ]
  },
  {
   "cell_type": "code",
   "execution_count": null,
   "metadata": {},
   "outputs": [],
   "source": [
    "unused = neurite_targets_no_spine_6_without_axon_soma - head_group.proj() - shaft_group.proj()"
   ]
  },
  {
   "cell_type": "code",
   "execution_count": null,
   "metadata": {},
   "outputs": [],
   "source": [
    "print(len(soma_group),len(axon_group),len(head_group),len(shaft_group),len(unused))\n",
    "print(sum([len(soma_group),len(axon_group),len(head_group),len(shaft_group),len(unused)]))"
   ]
  },
  {
   "cell_type": "code",
   "execution_count": null,
   "metadata": {},
   "outputs": [],
   "source": [
    "print(len(neurite_targets_no_spine_6))"
   ]
  },
  {
   "cell_type": "code",
   "execution_count": null,
   "metadata": {},
   "outputs": [],
   "source": [
    "ta3p100.LabelKey.describe()"
   ]
  },
  {
   "cell_type": "code",
   "execution_count": null,
   "metadata": {},
   "outputs": [],
   "source": [
    "ta3p100.SpineClustersKey.drop()"
   ]
  },
  {
   "cell_type": "code",
   "execution_count": null,
   "metadata": {},
   "outputs": [],
   "source": [
    "#look up datajoint table that has the clusters\n",
    "@schema\n",
    "class SpineClustersKey(dj.Lookup):\n",
    "    definition=\"\"\"\n",
    "    cluster_id : tinyint unsigned #numeric label of cluster\n",
    "    ---\n",
    "    description : varchar(16) #descriptive name of cluster\n",
    "    threshold   : float #the proportion cut off for the group based on the category\n",
    "    \"\"\"\n",
    "    "
   ]
  },
  {
   "cell_type": "code",
   "execution_count": null,
   "metadata": {},
   "outputs": [],
   "source": [
    "cluster_descriptions = [\"Soma\",\"Axon\",\"Spine Head\",\"Shaft\",\"Unused\"]\n",
    "cluster_thresholds = [0.25,0.0001,0.6,0.5,0]\n",
    "\n",
    "clusters_dict = [dict(cluster_id=i,description=cd,threshold=ct) for i,(cd,ct) in enumerate(zip(cluster_descriptions,cluster_thresholds))]\n",
    "clusters_dict"
   ]
  },
  {
   "cell_type": "code",
   "execution_count": null,
   "metadata": {},
   "outputs": [],
   "source": [
    "SpineClustersKey.insert(clusters_dict,skip_duplicates=True)"
   ]
  },
  {
   "cell_type": "code",
   "execution_count": null,
   "metadata": {},
   "outputs": [],
   "source": [
    "SpineClustersKey()"
   ]
  },
  {
   "cell_type": "code",
   "execution_count": null,
   "metadata": {},
   "outputs": [],
   "source": [
    "## Creates the table that holds all of the segment groups\n",
    "@schema\n",
    "class SpineClusters(dj.Manual):\n",
    "    definition=\"\"\"\n",
    "    -> ta3p100.NeuriteRevised\n",
    "    ---\n",
    "    ->SpineClustersKey\n",
    "    \"\"\""
   ]
  },
  {
   "cell_type": "code",
   "execution_count": null,
   "metadata": {},
   "outputs": [],
   "source": [
    "soma_group.proj(cluster_id=\"0\")"
   ]
  },
  {
   "cell_type": "code",
   "execution_count": null,
   "metadata": {},
   "outputs": [],
   "source": [
    "dict = SpineClustersKey.fetch(as_dict=True)\n",
    "dict"
   ]
  },
  {
   "cell_type": "code",
   "execution_count": null,
   "metadata": {},
   "outputs": [],
   "source": [
    "possible_groups = [soma_group,axon_group,head_group,shaft_group,unused]\n",
    "descriptors = [0,1,2,3,4]\n",
    "for i,table in enumerate(possible_groups):\n",
    "    new_table = table.proj(cluster_id=str(descriptors[i]))\n",
    "    SpineClusters.insert(new_table,skip_duplicates=True)\n",
    "    "
   ]
  },
  {
   "cell_type": "code",
   "execution_count": null,
   "metadata": {},
   "outputs": [],
   "source": [
    "(len(SpineClusters() & \"cluster_id=0\"),len(SpineClusters() & \"cluster_id=1\"),\n",
    " len(SpineClusters() & \"cluster_id=2\"),len(SpineClusters() & \"cluster_id=3\"),\n",
    " len(SpineClusters() & \"cluster_id=4\"))"
   ]
  },
  {
   "cell_type": "code",
   "execution_count": null,
   "metadata": {},
   "outputs": [],
   "source": [
    "print(len(soma_group),len(axon_group),len(head_group),len(shaft_group),len(unused))\n",
    "print(sum([len(soma_group),len(axon_group),len(head_group),len(shaft_group),len(unused)]))"
   ]
  }
 ],
 "metadata": {
  "kernelspec": {
   "display_name": "Python 3",
   "language": "python",
   "name": "python3"
  },
  "language_info": {
   "codemirror_mode": {
    "name": "ipython",
    "version": 3
   },
   "file_extension": ".py",
   "mimetype": "text/x-python",
   "name": "python",
   "nbconvert_exporter": "python",
   "pygments_lexer": "ipython3",
   "version": "3.6.8"
  }
 },
 "nbformat": 4,
 "nbformat_minor": 4
}
