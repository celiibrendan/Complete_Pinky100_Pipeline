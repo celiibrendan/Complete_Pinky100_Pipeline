{
 "cells": [
  {
   "cell_type": "code",
   "execution_count": 1,
   "metadata": {},
   "outputs": [],
   "source": [
    "import datajoint as dj\n",
    "import numpy as np\n",
    "import time\n",
    "from tqdm import tqdm"
   ]
  },
  {
   "cell_type": "code",
   "execution_count": 2,
   "metadata": {},
   "outputs": [
    {
     "name": "stdout",
     "output_type": "stream",
     "text": [
      "Connecting celiib@10.28.0.34:3306\n"
     ]
    }
   ],
   "source": [
    "#setting the address and the username\n",
    "dj.config['database.host'] = '10.28.0.34'\n",
    "dj.config['database.user'] = 'celiib'\n",
    "dj.config['database.password'] = 'newceliipass'\n",
    "dj.config['safemode']=True\n",
    "dj.config[\"display.limit\"] = 20\n",
    "\n",
    "ta3p100 = dj.create_virtual_module('ta3p100', 'microns_ta3p100')\n",
    "schema = dj.schema('microns_ta3p100')\n"
   ]
  },
  {
   "cell_type": "code",
   "execution_count": 3,
   "metadata": {},
   "outputs": [],
   "source": [
    "#ta3p100.ProofreadLabelFinal & 'status=\"complete\"'"
   ]
  },
  {
   "cell_type": "code",
   "execution_count": 4,
   "metadata": {},
   "outputs": [],
   "source": [
    "@schema\n",
    "class CoarseLabelFinal(dj.Computed):\n",
    "    definition = \"\"\"\n",
    "    # Vertex labels for ta3p100.ProofreadLabel did not correctly match the triangle labels, so these are regenerated from the correct triangle labels.\n",
    "    -> ta3p100.ProofreadLabelFinal\n",
    "    ---\n",
    "    vertices  : longblob # Corrected vertex labels\n",
    "    triangles : longblob # Same triangle labels as ta3p100.ProofreadLabel\n",
    "    \"\"\"\n",
    "    \n",
    "    key_source = ta3p100.ProofreadLabelFinal & 'status=\"complete\"'\n",
    "    \n",
    "    def make(self, key):\n",
    "        start = time.time()\n",
    "        \n",
    "        print(key[\"segment_id\"])\n",
    "        labels = (ta3p100.ProofreadLabelFinal & key).fetch1()\n",
    "        corrected_vertex_labels = np.zeros(labels['vertices'].shape, np.uint8)\n",
    "        \n",
    "        mesh = (ta3p100.CleansedMesh & 'decimation_ratio=0.35' & dict(segment_id=key['segment_id'])).fetch1()\n",
    "        mesh_triangles = mesh['triangles']\n",
    "        \n",
    "        vertex_label_dict = dict()\n",
    "        for i, label in enumerate(labels['triangles']):\n",
    "            triangle = mesh_triangles[i]\n",
    "            for node in triangle:\n",
    "                if node in vertex_label_dict:\n",
    "                    if vertex_label_dict[node] < label:\n",
    "                        vertex_label_dict[node] = label\n",
    "                else:\n",
    "                    vertex_label_dict[node] = label\n",
    "                \n",
    "        for node, label in vertex_label_dict.items():\n",
    "            corrected_vertex_labels[node] = label\n",
    "            \n",
    "        self.insert1(dict(key,\n",
    "                          vertices=corrected_vertex_labels,\n",
    "                          triangles=labels['triangles']))\n",
    "        \n",
    "        print(\"Segment {} vertex labels regenerated in: {} seconds.\".format(key['segment_id'], time.time() - start))"
   ]
  },
  {
   "cell_type": "code",
   "execution_count": 5,
   "metadata": {},
   "outputs": [
    {
     "name": "stdout",
     "output_type": "stream",
     "text": [
      "648518346349473821\n",
      "Segment 648518346349473821 vertex labels regenerated in: 2.821796178817749 seconds.\n",
      "648518346349473830\n",
      "Segment 648518346349473830 vertex labels regenerated in: 2.430651903152466 seconds.\n",
      "648518346349473833\n",
      "Segment 648518346349473833 vertex labels regenerated in: 2.4253056049346924 seconds.\n",
      "648518346349473838\n",
      "Segment 648518346349473838 vertex labels regenerated in: 3.460170269012451 seconds.\n",
      "648518346349473847\n",
      "Segment 648518346349473847 vertex labels regenerated in: 3.5508038997650146 seconds.\n",
      "648518346349473907\n",
      "Segment 648518346349473907 vertex labels regenerated in: 1.9856810569763184 seconds.\n",
      "648518346349474146\n",
      "Segment 648518346349474146 vertex labels regenerated in: 3.7000303268432617 seconds.\n",
      "648518346349475035\n",
      "Segment 648518346349475035 vertex labels regenerated in: 4.255794525146484 seconds.\n",
      "648518346349475120\n",
      "Segment 648518346349475120 vertex labels regenerated in: 1.9115664958953857 seconds.\n",
      "648518346349475138\n",
      "Segment 648518346349475138 vertex labels regenerated in: 2.1363277435302734 seconds.\n",
      "648518346349475425\n",
      "Segment 648518346349475425 vertex labels regenerated in: 2.2250123023986816 seconds.\n",
      "648518346349475510\n",
      "Segment 648518346349475510 vertex labels regenerated in: 2.197368860244751 seconds.\n",
      "648518346349475520\n",
      "Segment 648518346349475520 vertex labels regenerated in: 2.1296112537384033 seconds.\n",
      "648518346349475521\n",
      "Segment 648518346349475521 vertex labels regenerated in: 3.596963405609131 seconds.\n",
      "648518346349475525\n",
      "Segment 648518346349475525 vertex labels regenerated in: 3.771169900894165 seconds.\n",
      "648518346349475534\n",
      "Segment 648518346349475534 vertex labels regenerated in: 2.0238444805145264 seconds.\n",
      "648518346349475540\n",
      "Segment 648518346349475540 vertex labels regenerated in: 2.719604253768921 seconds.\n",
      "648518346349478054\n",
      "Segment 648518346349478054 vertex labels regenerated in: 3.8261609077453613 seconds.\n",
      "648518346349478348\n",
      "Segment 648518346349478348 vertex labels regenerated in: 3.3170461654663086 seconds.\n",
      "648518346349478473\n",
      "Segment 648518346349478473 vertex labels regenerated in: 4.111414670944214 seconds.\n",
      "648518346349479127\n",
      "Segment 648518346349479127 vertex labels regenerated in: 3.2803614139556885 seconds.\n",
      "648518346349479929\n",
      "Segment 648518346349479929 vertex labels regenerated in: 2.3795506954193115 seconds.\n",
      "648518346349482033\n",
      "Segment 648518346349482033 vertex labels regenerated in: 2.432406187057495 seconds.\n",
      "648518346349482676\n",
      "Segment 648518346349482676 vertex labels regenerated in: 2.892287492752075 seconds.\n",
      "648518346349485701\n",
      "Segment 648518346349485701 vertex labels regenerated in: 3.7054672241210938 seconds.\n",
      "648518346349490527\n",
      "Segment 648518346349490527 vertex labels regenerated in: 5.634683609008789 seconds.\n",
      "648518346349492078\n",
      "Segment 648518346349492078 vertex labels regenerated in: 3.363605499267578 seconds.\n",
      "648518346349493260\n",
      "Segment 648518346349493260 vertex labels regenerated in: 2.577777624130249 seconds.\n",
      "648518346349493911\n",
      "Segment 648518346349493911 vertex labels regenerated in: 2.3066937923431396 seconds.\n",
      "648518346349494194\n",
      "Segment 648518346349494194 vertex labels regenerated in: 2.5369861125946045 seconds.\n",
      "648518346349495341\n",
      "Segment 648518346349495341 vertex labels regenerated in: 2.792969226837158 seconds.\n",
      "648518346349495971\n",
      "Segment 648518346349495971 vertex labels regenerated in: 3.303631067276001 seconds.\n",
      "648518346349497094\n",
      "Segment 648518346349497094 vertex labels regenerated in: 4.262468338012695 seconds.\n",
      "648518346349498406\n",
      "Segment 648518346349498406 vertex labels regenerated in: 2.0738863945007324 seconds.\n",
      "648518346349498835\n",
      "Segment 648518346349498835 vertex labels regenerated in: 3.7980732917785645 seconds.\n",
      "648518346349499581\n",
      "Segment 648518346349499581 vertex labels regenerated in: 5.075203895568848 seconds.\n",
      "648518346349499803\n",
      "Segment 648518346349499803 vertex labels regenerated in: 3.4260714054107666 seconds.\n",
      "648518346349499896\n",
      "Segment 648518346349499896 vertex labels regenerated in: 3.1935553550720215 seconds.\n",
      "648518346349500155\n",
      "Segment 648518346349500155 vertex labels regenerated in: 3.839897632598877 seconds.\n",
      "648518346349500486\n",
      "Segment 648518346349500486 vertex labels regenerated in: 4.57216477394104 seconds.\n",
      "648518346349500939\n",
      "Segment 648518346349500939 vertex labels regenerated in: 4.015251636505127 seconds.\n",
      "648518346349501625\n",
      "Segment 648518346349501625 vertex labels regenerated in: 4.44174861907959 seconds.\n",
      "648518346349502920\n",
      "Segment 648518346349502920 vertex labels regenerated in: 3.0332138538360596 seconds.\n",
      "648518346349503473\n",
      "Segment 648518346349503473 vertex labels regenerated in: 3.5561623573303223 seconds.\n",
      "648518346349503924\n",
      "Segment 648518346349503924 vertex labels regenerated in: 3.8475685119628906 seconds.\n",
      "648518346349504521\n",
      "Segment 648518346349504521 vertex labels regenerated in: 4.311891078948975 seconds.\n",
      "648518346349505061\n",
      "Segment 648518346349505061 vertex labels regenerated in: 3.249605417251587 seconds.\n",
      "648518346349505813\n",
      "Segment 648518346349505813 vertex labels regenerated in: 2.3477180004119873 seconds.\n",
      "648518346349506092\n",
      "Segment 648518346349506092 vertex labels regenerated in: 4.0584330558776855 seconds.\n",
      "648518346349506944\n",
      "Segment 648518346349506944 vertex labels regenerated in: 3.1599650382995605 seconds.\n",
      "648518346349507226\n",
      "Segment 648518346349507226 vertex labels regenerated in: 3.7576067447662354 seconds.\n",
      "648518346349507964\n",
      "Segment 648518346349507964 vertex labels regenerated in: 4.649821996688843 seconds.\n",
      "175.22914814949036\n"
     ]
    }
   ],
   "source": [
    "start = time.time()\n",
    "CoarseLabelFinal.populate(reserve_jobs=True)\n",
    "print(time.time() - start)"
   ]
  },
  {
   "cell_type": "code",
   "execution_count": 11,
   "metadata": {},
   "outputs": [],
   "source": [
    "#(schema.jobs & \"table_name='__coarse_label_final'\").delete()"
   ]
  },
  {
   "cell_type": "code",
   "execution_count": null,
   "metadata": {},
   "outputs": [],
   "source": []
  }
 ],
 "metadata": {
  "kernelspec": {
   "display_name": "Python 3",
   "language": "python",
   "name": "python3"
  },
  "language_info": {
   "codemirror_mode": {
    "name": "ipython",
    "version": 3
   },
   "file_extension": ".py",
   "mimetype": "text/x-python",
   "name": "python",
   "nbconvert_exporter": "python",
   "pygments_lexer": "ipython3",
   "version": "3.6.5"
  }
 },
 "nbformat": 4,
 "nbformat_minor": 2
}
