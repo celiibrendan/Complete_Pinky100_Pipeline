{
 "cells": [
  {
   "cell_type": "code",
   "execution_count": 1,
   "metadata": {},
   "outputs": [],
   "source": [
    "import numpy as np\n",
    "import matplotlib.pyplot as plt\n",
    "%matplotlib inline\n",
    "import itertools \n",
    "import pandas as pd\n",
    "from tqdm import tqdm\n",
    "import seaborn as sns\n",
    "from scipy import stats\n",
    "import datajoint as dj\n",
    "from collections import defaultdict\n",
    "import pycircstat as pycs\n",
    "from tqdm import tqdm\n",
    "import scipy.stats as stats\n"
   ]
  },
  {
   "cell_type": "code",
   "execution_count": 2,
   "metadata": {},
   "outputs": [
    {
     "name": "stdout",
     "output_type": "stream",
     "text": [
      "Connecting celiib@10.28.0.34:3306\n"
     ]
    }
   ],
   "source": [
    "#setting the address and the username\n",
    "dj.config['database.host'] = '10.28.0.34'\n",
    "dj.config['database.user'] = 'celiib'\n",
    "dj.config['database.password'] = 'newceliipass'\n",
    "dj.config['safemode']=True\n",
    "dj.config[\"display.limit\"] = 20\n",
    "\n",
    "\n",
    "pinky = dj.create_virtual_module('pinky', 'microns_pinky')\n",
    "ndap100 = dj.create_virtual_module('pinky_nda', 'microns_pinky_nda')\n",
    "radtune = dj.create_virtual_module('pinky_radtune', 'microns_pinky_radtune')\n",
    "spattune = dj.create_virtual_module('pinky_spattune', 'microns_pinky_spattune')\n",
    "fc = dj.create_virtual_module('pinky_fc', 'microns_pinky_fc')\n"
   ]
  },
  {
   "cell_type": "code",
   "execution_count": 4,
   "metadata": {},
   "outputs": [
    {
     "name": "stdout",
     "output_type": "stream",
     "text": [
      "About to delete:\n",
      "`microns_pinky`.`proofread_label_spine_with_interest_slices_orphan`: 2 items\n"
     ]
    },
    {
     "name": "stdin",
     "output_type": "stream",
     "text": [
      "Proceed? [yes, No]:  yes\n"
     ]
    },
    {
     "name": "stdout",
     "output_type": "stream",
     "text": [
      "Committed.\n"
     ]
    }
   ],
   "source": [
    "pinky.ProofreadLabelSpineWithInterestSlicesOrphan.delete()"
   ]
  },
  {
   "cell_type": "code",
   "execution_count": null,
   "metadata": {},
   "outputs": [],
   "source": [
    "#demonstrates that all the correlation tables have been fully run\n",
    "print((len(fc.ContactCorrelationShaft()),\n",
    "       len(fc.ContactCorrelationHead()),\n",
    "       len(fc.ContactCorrelationAxon()),\n",
    "       len(fc.ContactCorrelationSoma()),\n",
    "       len(fc.ContactCorrelationUnused())))"
   ]
  },
  {
   "cell_type": "code",
   "execution_count": null,
   "metadata": {},
   "outputs": [],
   "source": [
    "# segments that have dendrite verteces > restriction threshold\n",
    "\n",
    "dendrite_labels = [\"Apical\",\"Basal\",\"Oblique\",\"Dendrite\"]\n",
    "\n",
    "#dj.U(\"segment_id\").aggr(pinky.CompartmentFinal.ComponentFinal() & [dict(compartment_type=x) for x in dendrite_labels]\n",
    "#pinky.CompartmentFinal.ComponentFinal() & [dict(compartment_type=x) for x in dendrite_labels] & \"n_vertex_indices>500\"\n",
    "excitatory = dj.U(\"segment_id\").aggr(pinky.CompartmentFinal.ComponentFinal() & [dict(compartment_type=x) for x in dendrite_labels] & \"n_vertex_indices>500\",\n",
    "                       dendrite_vertex_count=\"sum(n_vertex_indices)\")\n",
    "\n",
    "orphan = dj.U(\"segment_id\").aggr(pinky.CompartmentOrphan.ComponentOrphan() & [dict(compartment_type=x) for x in dendrite_labels] & \"n_vertex_indices>500\",\n",
    "                       dendrite_vertex_count=\"sum(n_vertex_indices)\")\n",
    "\n",
    "restriction_threshold = 15000\n",
    "dendrite_restriction = ((excitatory & \"dendrite_vertex_count >\" + str(restriction_threshold)).proj() + \n",
    "                            (orphan & \"dendrite_vertex_count >\" + str(restriction_threshold)).proj())\n",
    "\n",
    "dendrite_restriction"
   ]
  },
  {
   "cell_type": "code",
   "execution_count": null,
   "metadata": {},
   "outputs": [],
   "source": [
    "# Exclude synapses, segments and restrict by functional confidence \n",
    "\n",
    "contact = pinky.SkeletonContact & pinky.CurrentSegmentation\n",
    "synapse = (pinky.Synapse - pinky.SynapseExclude) & pinky.CurrentSegmentation\n",
    "\n",
    "segment = (pinky.Segment - pinky.SegmentExclude) & pinky.CurrentSegmentation\n",
    "soma = (pinky.AllenSoma - pinky.SegmentExclude) & pinky.CurrentSegmentation"
   ]
  },
  {
   "cell_type": "markdown",
   "metadata": {},
   "source": [
    "## Orientation / Direction / Von fit correlation"
   ]
  },
  {
   "cell_type": "code",
   "execution_count": null,
   "metadata": {},
   "outputs": [],
   "source": [
    "# obtain a list of all keys in fc.ContactCorrelation\n",
    "df = pd.DataFrame(fc.ContactCorrelation.fetch())\n",
    "attrs = []\n",
    "for col in df.columns:\n",
    "    attrs.append(str(col))\n"
   ]
  },
  {
   "cell_type": "code",
   "execution_count": null,
   "metadata": {},
   "outputs": [],
   "source": [
    "radsyncont_df"
   ]
  },
  {
   "cell_type": "code",
   "execution_count": null,
   "metadata": {},
   "outputs": [],
   "source": [
    "fc.ContactCorrelationShaft()"
   ]
  },
  {
   "cell_type": "code",
   "execution_count": null,
   "metadata": {},
   "outputs": [],
   "source": [
    "radtune.BestVonFit.Unit & segment & tuned & 'von_p_value <= 0.001'"
   ]
  },
  {
   "cell_type": "code",
   "execution_count": null,
   "metadata": {},
   "outputs": [],
   "source": [
    "radtune.BestVonCorr()"
   ]
  },
  {
   "cell_type": "code",
   "execution_count": null,
   "metadata": {},
   "outputs": [],
   "source": [
    "rad_unit_pairs"
   ]
  },
  {
   "cell_type": "code",
   "execution_count": null,
   "metadata": {},
   "outputs": [],
   "source": [
    "(radtune.BestVonCorr & rad_unit_pairs)"
   ]
  },
  {
   "cell_type": "code",
   "execution_count": null,
   "metadata": {},
   "outputs": [],
   "source": [
    "radtune.BestVonFit.Unit.desc"
   ]
  },
  {
   "cell_type": "code",
   "execution_count": null,
   "metadata": {},
   "outputs": [],
   "source": [
    "tuned = 'confidence > 1.0'\n",
    "\n",
    "rad_units = radtune.BestVonFit.Unit & segment & tuned & 'von_p_value <= 0.001' \n",
    "\n",
    "rad_unit_pairs = (rad_units.proj(segment_id1 = 'segment_id') * \n",
    "                 rad_units.proj(segment_id2 = 'segment_id')) & 'segment_id1 < segment_id2'\n",
    "\n",
    "radsyncont_df = pd.DataFrame(((radtune.BestVonCorr & rad_unit_pairs) * \n",
    "                              fc.ContactCorrelationShaft.proj(*attrs, cont_seg_shared = 'n_seg_shared', cont_seg_union = 'n_seg_union', segment_id1 = 'segment_id', segment_id2 = 'segment_b')).fetch())\n"
   ]
  },
  {
   "cell_type": "code",
   "execution_count": null,
   "metadata": {},
   "outputs": [],
   "source": [
    "# set up bins for difference in prefered orientation \n",
    "rad2deg = 180/np.pi\n",
    "ori_edges = np.linspace(0, np.pi /2 , 5)\n",
    "oe = list(['{:.0f}'.format(ee) for ee in [np.round(e * rad2deg) for e in ori_edges]])\n",
    "ori_labels = list(zip(oe[:-1], oe[1:]))\n",
    "ori_centers = np.round((ori_edges[1:] + ori_edges[:-1])/2 * rad2deg, decimals=2) "
   ]
  },
  {
   "cell_type": "code",
   "execution_count": null,
   "metadata": {},
   "outputs": [],
   "source": [
    "# set up bins for difference in preferred direction\n",
    "dir_edges = np.linspace(0, np.pi, 5)\n",
    "de = list(['{:.0f}'.format(ee) for ee in [np.round(e * rad2deg) for e in dir_edges]])\n",
    "dir_labels = list(zip(de[:-1], de[1:]))\n",
    "dir_centers = np.round((dir_edges[1:] + dir_edges[:-1])/2 * rad2deg, decimals=2) "
   ]
  },
  {
   "cell_type": "code",
   "execution_count": null,
   "metadata": {},
   "outputs": [],
   "source": [
    "# set up bins for von_corr\n",
    "vc_edges = np.linspace(min(radsyncont_df['von_corr']), max(radsyncont_df['von_corr']), 7)\n",
    "ve = list(['{:.1f}'.format(ee) for ee in vc_edges])\n",
    "vc_labels = list(zip(ve[:-1], ve[1:]))\n",
    "vc_centers = np.hstack((np.nan, np.round((vc_edges[1:] + vc_edges[:-1])/2, decimals=2), np.nan))"
   ]
  },
  {
   "cell_type": "code",
   "execution_count": null,
   "metadata": {},
   "outputs": [],
   "source": [
    "# bin diff_pref_ori, diff_pref_dir, von_corr\n",
    "\n",
    "radsyncont_df['bin_diff_pref_ori'] = ori_centers[(np.digitize(np.abs(radsyncont_df['diff_pref_ori']), ori_edges)) - 1]\n",
    "radsyncont_df['bin_diff_pref_dir'] = dir_centers[(np.digitize(np.abs(radsyncont_df['diff_pref_dir']), dir_edges)) - 1]\n",
    "#radsyncont_df['bin_diff_sharp'] = sharp_centers[(np.digitize(np.abs(radsyncont_df['diff_sharp']), sharp_edges))]\n",
    "radsyncont_df['bin_von_corr'] = vc_centers[(np.digitize(radsyncont_df['von_corr'], vc_edges))]"
   ]
  },
  {
   "cell_type": "code",
   "execution_count": null,
   "metadata": {},
   "outputs": [],
   "source": [
    "# compute n_seg_shared/n_seg_union for both synapse and contact vs functional differences\n",
    "radsyncont_df['cont_shared_percent'] = radsyncont_df['cont_seg_shared'] / radsyncont_df['cont_seg_union']\n",
    "radsyncont_df['syn_intersect'] = radsyncont_df['n_seg_a_converted'] + radsyncont_df['n_seg_b_converted'] - radsyncont_df['n_seg_shared_converted']\n",
    "radsyncont_df['syn_shared_percent'] = radsyncont_df['syn_intersect'] / radsyncont_df['n_seg_shared_converted']"
   ]
  },
  {
   "cell_type": "code",
   "execution_count": null,
   "metadata": {},
   "outputs": [],
   "source": [
    "spattune.STABestFitMethod()"
   ]
  },
  {
   "cell_type": "markdown",
   "metadata": {},
   "source": [
    "## Receptive field"
   ]
  },
  {
   "cell_type": "code",
   "execution_count": null,
   "metadata": {},
   "outputs": [],
   "source": [
    "spat_units = spattune.BestSTA.Loc & 'sta_snr > 1.5' & (segment & (spattune.BestSTA.Confidence() & tuned))\n",
    "spat_unit_pairs = (spat_units.proj(segment_id1 = 'segment_id') * \n",
    "                  spat_units.proj(segment_id2 = 'segment_id')) & 'segment_id1 < segment_id2'\n",
    "# spatsyncont_df = pd.DataFrame(((spattune.BestSTACorr & sig_unit_pairs) * \n",
    "#                               fc.ContactCorrelationHead.proj(*attrs, cont_seg_shared = 'n_seg_shared', cont_seg_union = 'n_seg_union', segment_id1 = 'segment_id', segment_id2 = 'segment_b')).fetch())\n",
    "\n",
    "spatsyncon_df = pd.DataFrame(((spattune.BestSTACorr & spat_unit_pairs) * \n",
    "                              fc.ContactCorrelationHead.proj(*attrs, cont_seg_shared = 'n_seg_shared', cont_seg_union = 'n_seg_union', segment_id1 = 'segment_id', segment_id2 = 'segment_b')).fetch())\n",
    "\n"
   ]
  },
  {
   "cell_type": "code",
   "execution_count": null,
   "metadata": {},
   "outputs": [],
   "source": []
  },
  {
   "cell_type": "code",
   "execution_count": null,
   "metadata": {},
   "outputs": [],
   "source": [
    "def perc_bins(vals,n_bins): return [np.percentile(vals,p) for p in np.linspace(0,100,n_bins+1)]\n"
   ]
  },
  {
   "cell_type": "code",
   "execution_count": null,
   "metadata": {},
   "outputs": [],
   "source": [
    "# set up percentile bins for union_corr_r2\n",
    "\n",
    "r2_edges = perc_bins(spatsyncon_df['union_corr_r2'].values, 7)\n",
    "re = list(['{:.1f}'.format(ee) for ee in r2_edges])\n",
    "r2_labels = list(zip(re[:-1], re[1:]))\n",
    "r2_centers = np.hstack((np.nan, np.round((np.array(r2_edges[1:]) + np.array(r2_edges[:-1]))/2, decimals=2), np.nan))\n"
   ]
  },
  {
   "cell_type": "code",
   "execution_count": null,
   "metadata": {},
   "outputs": [],
   "source": [
    "# set up percentile bins for center_dist\n",
    "\n",
    "dist_edges = perc_bins(spatsyncon_df['center_dist'].values, 7)\n",
    "de = list(['{:.1f}'.format(ee) for ee in r2_edges])\n",
    "dist_labels = list(zip(de[:-1], de[1:]))\n",
    "dist_centers = np.hstack((np.nan, np.round((np.array(dist_edges[1:]) + np.array(dist_edges[:-1]))/2, decimals=2), np.nan))\n",
    "spatsyncont_df['bin_center_dist'] = dist_centers[(np.digitize(spatsyncont_df['center_dist'], dist_edges))]"
   ]
  },
  {
   "cell_type": "code",
   "execution_count": null,
   "metadata": {},
   "outputs": [],
   "source": [
    "spatsyncont_df['bin_center_dist'] = dist_centers[(np.digitize(spatsyncont_df['center_dist'], dist_edges))]\n",
    "spatsyncont_df['bin_union_corr_r2'] = r2_centers[(np.digitize(spatsyncont_df['union_corr_r2'], r2_edges))]\n",
    "spatsyncont_df['cont_shared_percent'] = spatsyncont_df['cont_seg_shared'] / spatsyncont_df['cont_seg_union']\n",
    "spatsyncont_df['syn_intersect'] = spatsyncont_df['n_seg_a_converted'] + spatsyncont_df['n_seg_b_converted'] - spatsyncont_df['n_seg_shared_converted']\n",
    "spatsyncont_df['syn_shared_percent'] = spatsyncont_df['syn_intersect'] / spatsyncont_df['n_seg_shared_converted']"
   ]
  },
  {
   "cell_type": "markdown",
   "metadata": {},
   "source": [
    "## Plots"
   ]
  },
  {
   "cell_type": "code",
   "execution_count": null,
   "metadata": {},
   "outputs": [],
   "source": [
    "spattune.BestSTACorr()"
   ]
  },
  {
   "cell_type": "code",
   "execution_count": null,
   "metadata": {},
   "outputs": [],
   "source": [
    "spattune.BestSTACorr.heading"
   ]
  },
  {
   "cell_type": "code",
   "execution_count": null,
   "metadata": {},
   "outputs": [],
   "source": [
    "rels = [fc.ContactCorrelationHead, fc.ContactCorrelation]\n",
    "labels = ['Head', 'Total']\n",
    "colors = ['g', 'k']\n",
    "conn = ['cont_shared_percent', 'syn_shared_percent', 'density_pearson_converted']\n",
    "\n",
    "fig, ax = plt.subplots(3, 1, figsize=(6, 12))\n",
    "    \n",
    "for i in range(len(rels)):\n",
    "    radsyncont_df = pd.DataFrame(((radtune.BestVonCorr & sig_unit_pairs) * \n",
    "                              rels[i].proj(*attrs, cont_seg_shared = 'n_seg_shared', cont_seg_union = 'n_seg_union', segment_id1 = 'segment_id', segment_id2 = 'segment_b')).fetch())\n",
    "    radsyncont_df['bin_diff_pref_ori'] = ori_centers[(np.digitize(np.abs(radsyncont_df['diff_pref_ori']), ori_edges)) - 1]\n",
    "    radsyncont_df['cont_shared_percent'] = radsyncont_df['cont_seg_shared'] / radsyncont_df['cont_seg_union']\n",
    "    radsyncont_df['syn_intersect'] = radsyncont_df['n_seg_a_converted'] + radsyncont_df['n_seg_b_converted'] - radsyncont_df['n_seg_shared_converted']\n",
    "    radsyncont_df['syn_shared_percent'] = radsyncont_df['syn_intersect'] / radsyncont_df['n_seg_shared_converted']\n",
    "    \n",
    "    for k in range(len(conn)):\n",
    "        x_coords = ori_centers\n",
    "        y_coords = radsyncont_df.groupby('bin_diff_pref_ori').mean()[conn[k]]\n",
    "\n",
    "        ax[k].plot(x_coords, y_coords, label=labels[i], color=colors[i])\n",
    "        errors = radsyncont_df.groupby('bin_diff_pref_ori').sem()[conn[k]]  # compute SE\n",
    "        ax[k].errorbar(x_coords, y_coords, yerr=errors, ecolor=colors[i], fmt=' ', zorder=-1, label=None)\n",
    "        ax[k].set_xticks(ori_centers)\n",
    "        ax[k].set_xticklabels(['{}°-{}°'.format(*a) for a in ori_labels])\n",
    "        ax[k].tick_params(labelsize=14)\n",
    "        ax[k].set_xlabel(r'$\\Delta \\theta$', fontsize=16)\n",
    "        ax[k].spines['top'].set_color('none')\n",
    "        ax[k].spines['right'].set_color('none')\n",
    "ax[0].set_ylabel(r'$\\langle$Proportion Shared Contacts$\\rangle$', fontsize=16)\n",
    "ax[1].set_ylabel(r'$\\langle$Proportion Shared Synapses$\\rangle$', fontsize=16)\n",
    "ax[2].set_ylabel(r'$\\langle$Synapse Density Correlation$\\rangle$', fontsize=16)\n",
    "ax[0].legend(loc=9, frameon=False, fontsize=14)\n",
    "fig.tight_layout()\n",
    "fig.savefig('figures/cont_syn_density.png', dpi=300)"
   ]
  },
  {
   "cell_type": "code",
   "execution_count": null,
   "metadata": {},
   "outputs": [],
   "source": [
    "# orientatin tuning \n",
    "\n",
    "rels = [fc.ContactCorrelationShaft, fc.ContactCorrelationHead, fc.ContactCorrelationSoma, fc.ContactCorrelationAxon]\n",
    "labels = ['Shaft', 'Head', 'Soma', 'Axon']\n",
    "colors = ['r', 'g', 'b', 'y']\n",
    "\n",
    "fig, ax = plt.subplots(1, 1, figsize=(7, 5))\n",
    "    \n",
    "for i in range(len(rels)):\n",
    "    radsyncont_df = pd.DataFrame(((radtune.BestVonCorr & sig_unit_pairs) * \n",
    "                              rels[i].proj(*attrs, cont_seg_shared = 'n_seg_shared', cont_seg_union = 'n_seg_union', segment_id1 = 'segment_id', segment_id2 = 'segment_b')).fetch())\n",
    "    radsyncont_df['bin_diff_pref_ori'] = ori_centers[(np.digitize(np.abs(radsyncont_df['diff_pref_ori']), ori_edges)) - 1]\n",
    "    \n",
    "    x_coords = ori_centers\n",
    "    y_coords = radsyncont_df.groupby('bin_diff_pref_ori').mean()['density_pearson_converted']\n",
    "    \n",
    "    ax.plot(x_coords, y_coords, label=labels[i], color=colors[i])\n",
    "\n",
    "    errors = radsyncont_df.groupby('bin_diff_pref_ori').sem()['density_pearson_converted']  # compute SE\n",
    "    ax.errorbar(x_coords, y_coords, yerr=errors, ecolor=colors[i], fmt=' ', zorder=-1, label=None)\n",
    "    \n",
    "ax.legend(frameon=False, loc=0, fontsize=12)\n",
    "ax.tick_params(labelsize=12)\n",
    "ax.spines['top'].set_color('none')\n",
    "ax.spines['right'].set_color('none')\n",
    "ax.set_xticks(ori_centers)\n",
    "ax.set_xticklabels(['{}°-{}°'.format(*a) for a in ori_labels])\n",
    "ax.set_xlabel(r'$\\Delta \\theta$', fontsize = 14)\n",
    "ax.set_ylabel(r'$\\langle$Synapse Density Correlation$\\rangle$', fontsize = 14)\n",
    "fig.savefig('figures/density_four_classes.png', dpi=300)"
   ]
  },
  {
   "cell_type": "code",
   "execution_count": null,
   "metadata": {},
   "outputs": [],
   "source": [
    "fig, ax = plt.subplots(1, 1, figsize=(7, 5))\n",
    "ax.plot(x_coords, y_coords, label=labels[i], color=colors[i])\n",
    "errors = spatsyncont_df.groupby('bin_center_dist').sem()['density_pearson_converted']  # compute SE\n",
    "ax.errorbar(x_coords, y_coords, yerr=errors, ecolor=colors[i], fmt=' ', zorder=-1, label=None)\n",
    "    "
   ]
  },
  {
   "cell_type": "code",
   "execution_count": null,
   "metadata": {},
   "outputs": [],
   "source": [
    "dist_labels"
   ]
  },
  {
   "cell_type": "code",
   "execution_count": null,
   "metadata": {},
   "outputs": [],
   "source": [
    "spat_units = spattune.BestSTA.Loc & 'sta_snr > 1.5' & (segment & (spattune.BestSTA.Confidence() & tuned))\n",
    "spat_unit_pairs = (spat_units.proj(segment_id1 = 'segment_id') * \n",
    "                  spat_units.proj(segment_id2 = 'segment_id')) & 'segment_id1 < segment_id2'"
   ]
  },
  {
   "cell_type": "code",
   "execution_count": null,
   "metadata": {},
   "outputs": [],
   "source": [
    "# RF distance\n",
    "\n",
    "rels = [ta3p100.ContactCorrelationShaft, ta3p100.ContactCorrelationHead, ta3p100.ContactCorrelationSoma, ta3p100.ContactCorrelationAxon]\n",
    "labels = ['Shaft', 'Head', 'Soma', 'Axon']\n",
    "colors = ['r', 'g', 'b', 'y']\n",
    "\n",
    "#rels = [ta3p100.ContactCorrelation]\n",
    "#labels = ['Total']\n",
    "#colors = ['k']\n",
    "fig, ax = plt.subplots(1, 1, figsize=(10, 8))\n",
    "    \n",
    "for i in range(len(rels)):\n",
    "    spatsyncont_df = pd.DataFrame(((spattune.BestSTACorr & sig_unit_pairs) * \n",
    "                              rels[i].proj(*attrs, cont_seg_shared = 'n_seg_shared', cont_seg_union = 'n_seg_union', segment_id1 = 'segment_id', segment_id2 = 'segment_b')).fetch())\n",
    "    \n",
    "    dist_edges = np.linspace(min(spatsyncont_df['center_dist']), max(spatsyncont_df['center_dist']), 8)\n",
    "    de = list(['{:.1f}'.format(ee) for ee in dist_edges])\n",
    "    dist_labels = list(zip(de[:-1], de[1:]))\n",
    "    dist_centers = np.hstack((np.nan, np.round((np.array(dist_edges[1:]) + np.array(dist_edges[:-1]))/2, decimals=2), np.nan))\n",
    "    spatsyncont_df['bin_center_dist'] = dist_centers[(np.digitize(spatsyncont_df['center_dist'], dist_edges))]\n",
    "    \n",
    "    x_coords = dist_centers[1:-1]\n",
    "    y_coords = spatsyncont_df.groupby('bin_center_dist').mean()['density_pearson_converted']\n",
    "    #print(x_coords, y_coords)\n",
    "    ax.plot(x_coords, y_coords, label=labels[i], color=colors[i])\n",
    "    #ax.scatter(x_coords, y_coords, label=labels[i], color=colors[i])\n",
    "\n",
    "    errors = spatsyncont_df.groupby('bin_center_dist').sem()['density_pearson_converted']  # compute SE\n",
    "    ax.errorbar(x_coords, y_coords, yerr=errors, ecolor=colors[i], fmt=' ', zorder=-1, label=None)\n",
    "    \n",
    "ax.legend(frameon=False, loc=0, fontsize=12)\n",
    "ax.tick_params(labelsize=12)\n",
    "ax.spines['top'].set_color('none')\n",
    "ax.spines['right'].set_color('none')\n",
    "ax.set_xticks(dist_centers[1:-1])\n",
    "ax.set_xticklabels(['[{},{}]'.format(*a) for a in dist_labels], rotation=15)\n",
    "ax.set_xlabel('RF distance', fontsize = 15)\n",
    "ax.set_ylabel(r'$\\langle$Synapse Density Correlation$\\rangle$', fontsize = 15)\n",
    "fig.savefig('figures/RFdistance_density_four_classes.png', dpi=300)"
   ]
  },
  {
   "cell_type": "code",
   "execution_count": null,
   "metadata": {},
   "outputs": [],
   "source": [
    "# receptive field\n",
    "\n",
    "functional = ['bin_center_dist']    \n",
    "connectomics = ['cont_shared_percent', 'syn_shared_percent', 'binary_conversion_pearson',\n",
    "       'binary_conversion_cosine', 'binary_conv_jaccard_ones_ratio',\n",
    "       'binary_conv_jaccard_matching_ratio', 'conversion_pearson',\n",
    "       'conversion_cosine', 'density_pearson', 'density_cosine',\n",
    "       'synapse_volume_mean_pearson', 'synapse_volume_mean_cosine',\n",
    "       'synapse_vol_density_pearson', 'synapse_vol_density_cosine',\n",
    "       'binary_conversion_pearson_converted',\n",
    "       'binary_conversion_cosine_converted',\n",
    "       'binary_conv_jaccard_ones_ratio_converted',\n",
    "       'binary_conv_jaccard_matching_ratio_converted',\n",
    "       'conversion_pearson_converted', 'conversion_cosine_converted',\n",
    "       'density_pearson_converted', 'density_cosine_converted',\n",
    "       'synapse_volume_mean_pearson_converted',\n",
    "       'synapse_volume_mean_cosine_converted',\n",
    "       'synapse_vol_density_pearson_converted',\n",
    "       'synapse_vol_density_cosine_converted']\n",
    "\n",
    "with sns.axes_style('ticks'):\n",
    "    fig, ax = plt.subplots(len(connectomics), len(functional), figsize=(5*len(functional), 3*len(connectomics)))\n",
    "\n",
    "for i, pair in enumerate(itertools.product(functional, connectomics)):\n",
    "    #sns.pointplot(pair[0], pair[1], data = spatsyncont_df, ax=ax[i], ci=None) \n",
    "    \n",
    "    x_coords = dist_centers[1:-1]\n",
    "    y_coords = spatsyncont_df.groupby(pair[0]).mean()[pair[1]] \n",
    "    ax[i].plot(x_coords, y_coords)\n",
    "    \n",
    "    errors = spatsyncont_df.groupby(pair[0]).sem()[pair[1]]  # compute SE\n",
    "    ax[i].errorbar(x_coords, y_coords, yerr=errors, ecolor='k', fmt=' ', zorder=-1)\n",
    "    \n",
    "    ax[i].set_title(connectomics[i], fontsize=15)\n",
    "\n",
    "sns.despine(trim=True)\n",
    "fig.tight_layout()\n",
    "fig.savefig('figures/Head_union_corr.png', dpi=100)"
   ]
  },
  {
   "cell_type": "code",
   "execution_count": null,
   "metadata": {},
   "outputs": [],
   "source": [
    "# plot n_seg_shared/n_seg_union for both synapse and contact vs functional differences\n",
    "\n",
    "functional = ['bin_diff_pref_ori', 'bin_diff_pref_dir', 'bin_von_corr']    \n",
    "connectomics = ['cont_shared_percent', 'syn_shared_percent', 'binary_conversion_pearson',\n",
    "       'binary_conversion_cosine', 'binary_conv_jaccard_ones_ratio',\n",
    "       'binary_conv_jaccard_matching_ratio', 'conversion_pearson',\n",
    "       'conversion_cosine', 'density_pearson', 'density_cosine',\n",
    "       'synapse_volume_mean_pearson', 'synapse_volume_mean_cosine',\n",
    "       'synapse_vol_density_pearson', 'synapse_vol_density_cosine',\n",
    "       'binary_conversion_pearson_converted',\n",
    "       'binary_conversion_cosine_converted',\n",
    "       'binary_conv_jaccard_ones_ratio_converted',\n",
    "       'binary_conv_jaccard_matching_ratio_converted',\n",
    "       'conversion_pearson_converted', 'conversion_cosine_converted',\n",
    "       'density_pearson_converted', 'density_cosine_converted',\n",
    "       'synapse_volume_mean_pearson_converted',\n",
    "       'synapse_volume_mean_cosine_converted',\n",
    "       'synapse_vol_density_pearson_converted',\n",
    "       'synapse_vol_density_cosine_converted']\n",
    "\n",
    "with sns.axes_style('ticks'):\n",
    "    fig, ax = plt.subplots(len(connectomics), len(functional), figsize=(5*len(functional), 3*len(connectomics)))\n",
    "\n",
    "for i, pair in enumerate(itertools.product(functional, connectomics)):\n",
    "    sns.pointplot(pair[0], pair[1], data = radsyncont_df, ax=ax[i%len(connectomics), i//len(connectomics)], ci=None) \n",
    "    \n",
    "    # manually plot error bars\n",
    "    x_coords = []\n",
    "    y_coords = []\n",
    "    for point_pair in ax[i%len(connectomics), i//len(connectomics)].collections:\n",
    "        for x, y in point_pair.get_offsets():\n",
    "            x_coords.append(x)\n",
    "            y_coords.append(y)\n",
    "    errors = radsyncont_df.groupby(pair[0]).sem()[pair[1]]  # compute SE\n",
    "    \n",
    "    ax[i%len(connectomics), i//len(connectomics)].errorbar(x_coords, y_coords, yerr=errors, ecolor='k', fmt=' ', zorder=-1)\n",
    "\n",
    "for i in range(len(connectomics)):\n",
    "    ax[i, 1].set_title(connectomics[i], fontsize=15)\n",
    "\n",
    "#sns.pointplot('bin_diff_pref_ori', 'cont_shared_percent', ci=None, data = radsyncont_df, ax=ax[0,0], linestyles='--', color='k')    \n",
    "#sns.pointplot('bin_diff_pref_dir', 'cont_shared_percent', ci=None, data = radsyncont_df, ax=ax[0,1], linestyles='--', color='k')    \n",
    "#sns.pointplot('bin_von_corr', 'cont_shared_percent', ci=None, data = radsyncont_df, ax=ax[0,2], linestyles='--', color='k')    \n",
    "#sns.pointplot('bin_diff_pref_ori', 'syn_shared_percent', ci=None, data = radsyncont_df, ax=ax[1,0], color='k')    \n",
    "#sns.pointplot('bin_diff_pref_dir', 'syn_shared_percent', ci=None, data = radsyncont_df, ax=ax[1,1], color='k')    \n",
    "#sns.pointplot('bin_von_corr', 'syn_shared_percent', ci=None, data = radsyncont_df, ax=ax[1,2], color='k')  \n",
    "'''\n",
    "l = ['Contact', 'Synapse']\n",
    "for i in range(2):\n",
    "    ax[i, 0].set_title('{} percent shared seg vs diff in orientation'.format(l[i]))\n",
    "    ax[i, 0].set_xticklabels(['{}°-{}°'.format(*a) for a in ori_labels])\n",
    "    ax[i, 0].set_xlabel(r'$\\Delta \\theta$')\n",
    "    ax[i, 0].set_ylabel('$<Shared/Union>$')\n",
    "\n",
    "    ax[i, 1].set_title('{} percent shared seg vs diff in direction'.format(l[i]))\n",
    "    ax[i, 1].set_xticklabels(['{}°-{}°'.format(*a) for a in dir_labels])\n",
    "    ax[i, 1].set_xlabel(r'$\\Delta \\theta$')\n",
    "    ax[i, 1].set_ylabel('$<Shared/Union>$')\n",
    "\n",
    "    ax[i, 2].set_title('{} percent shared seg vs von corr'.format(l[i]))\n",
    "    ax[i, 2].set_xticklabels(['[{},{}]'.format(*a) for a in vc_labels])\n",
    "    ax[i, 2].set_xlabel('Von corr')\n",
    "    ax[i, 2].set_ylabel('$<Shared/Union>$')\n",
    "\n",
    "'''\n",
    "sns.despine(trim=True)\n",
    "fig.tight_layout()\n",
    "fig.savefig('figures/Head_confidence1.0_percent_shared_seg_by_functional_difference.png', dpi=100)"
   ]
  },
  {
   "cell_type": "code",
   "execution_count": null,
   "metadata": {},
   "outputs": [],
   "source": []
  }
 ],
 "metadata": {
  "kernelspec": {
   "display_name": "Python 3",
   "language": "python",
   "name": "python3"
  },
  "language_info": {
   "codemirror_mode": {
    "name": "ipython",
    "version": 3
   },
   "file_extension": ".py",
   "mimetype": "text/x-python",
   "name": "python",
   "nbconvert_exporter": "python",
   "pygments_lexer": "ipython3",
   "version": "3.6.8"
  }
 },
 "nbformat": 4,
 "nbformat_minor": 4
}
