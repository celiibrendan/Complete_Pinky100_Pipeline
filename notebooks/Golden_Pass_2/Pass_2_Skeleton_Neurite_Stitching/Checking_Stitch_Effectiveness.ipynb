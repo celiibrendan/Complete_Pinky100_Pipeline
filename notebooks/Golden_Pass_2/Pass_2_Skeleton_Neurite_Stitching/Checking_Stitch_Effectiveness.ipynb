{
 "cells": [
  {
   "cell_type": "code",
   "execution_count": 5,
   "metadata": {},
   "outputs": [],
   "source": [
    "import datajoint as dj\n",
    "import numpy as np\n",
    "\n",
    "pinky = dj.create_virtual_module(\"pinky\",\"microns_pinky\")"
   ]
  },
  {
   "cell_type": "code",
   "execution_count": 12,
   "metadata": {},
   "outputs": [],
   "source": [
    "stitched_triangles = pinky.NeuriteStitched.fetch(\"n_triangles\")"
   ]
  },
  {
   "cell_type": "code",
   "execution_count": 13,
   "metadata": {},
   "outputs": [],
   "source": [
    "triangles = (pinky.Mesh & pinky.Neurite)#.fetch(\"triangles\")\n",
    "old_triangles = triangles.fetch(\"n_triangles\")"
   ]
  },
  {
   "cell_type": "code",
   "execution_count": 16,
   "metadata": {},
   "outputs": [
    {
     "data": {
      "text/plain": [
       "array([ 57350,  22282, 116104, ...,  20268,  37160,  77774])"
      ]
     },
     "execution_count": 16,
     "metadata": {},
     "output_type": "execute_result"
    }
   ],
   "source": [
    "old_triangles"
   ]
  },
  {
   "cell_type": "code",
   "execution_count": 14,
   "metadata": {},
   "outputs": [
    {
     "data": {
      "text/plain": [
       "array([ 57266,  22272, 112482, ...,  20258,  37156,  77760])"
      ]
     },
     "execution_count": 14,
     "metadata": {},
     "output_type": "execute_result"
    }
   ],
   "source": [
    "stitched_triangles"
   ]
  },
  {
   "cell_type": "code",
   "execution_count": 17,
   "metadata": {},
   "outputs": [
    {
     "data": {
      "text/plain": [
       "0.9980654979853185"
      ]
     },
     "execution_count": 17,
     "metadata": {},
     "output_type": "execute_result"
    }
   ],
   "source": [
    "np.sum(stitched_triangles)/np.sum(old_triangles)"
   ]
  },
  {
   "cell_type": "code",
   "execution_count": 20,
   "metadata": {},
   "outputs": [
    {
     "data": {
      "text/html": [
       "\n",
       "        \n",
       "        <style type=\"text/css\">\n",
       "            .Relation{\n",
       "                border-collapse:collapse;\n",
       "            }\n",
       "            .Relation th{\n",
       "                background: #A0A0A0; color: #ffffff; padding:4px; border:#f0e0e0 1px solid;\n",
       "                font-weight: normal; font-family: monospace; font-size: 100%;\n",
       "            }\n",
       "            .Relation td{\n",
       "                padding:4px; border:#f0e0e0 1px solid; font-size:100%;\n",
       "            }\n",
       "            .Relation tr:nth-child(odd){\n",
       "                background: #ffffff;\n",
       "            }\n",
       "            .Relation tr:nth-child(even){\n",
       "                background: #f3f1ff;\n",
       "            }\n",
       "            /* Tooltip container */\n",
       "            .djtooltip {\n",
       "            }\n",
       "            /* Tooltip text */\n",
       "            .djtooltip .djtooltiptext {\n",
       "                visibility: hidden;\n",
       "                width: 120px;\n",
       "                background-color: black;\n",
       "                color: #fff;\n",
       "                text-align: center;\n",
       "                padding: 5px 0;\n",
       "                border-radius: 6px;\n",
       "                /* Position the tooltip text - see examples below! */\n",
       "                position: absolute;\n",
       "                z-index: 1;\n",
       "            }\n",
       "            #primary {\n",
       "                font-weight: bold;\n",
       "                color: black;\n",
       "            }\n",
       "\n",
       "            #nonprimary {\n",
       "                font-weight: normal;\n",
       "                color: white;\n",
       "            }\n",
       "\n",
       "            /* Show the tooltip text when you mouse over the tooltip container */\n",
       "            .djtooltip:hover .djtooltiptext {\n",
       "                visibility: visible;\n",
       "            }\n",
       "        </style>\n",
       "        \n",
       "        <b></b>\n",
       "            <div style=\"max-height:1000px;max-width:1500px;overflow:auto;\">\n",
       "            <table border=\"1\" class=\"Relation\">\n",
       "                <thead> <tr style=\"text-align: right;\"> <th> <div class=\"djtooltip\">\n",
       "                                <p id=\"primary\">segmentation</p>\n",
       "                                <span class=\"djtooltiptext\">segmentation id</span>\n",
       "                            </div></th><th><div class=\"djtooltip\">\n",
       "                                <p id=\"primary\">segment_id</p>\n",
       "                                <span class=\"djtooltiptext\">segment id unique within each Segmentation</span>\n",
       "                            </div></th><th><div class=\"djtooltip\">\n",
       "                                <p id=\"nonprimary\">n_vertices</p>\n",
       "                                <span class=\"djtooltiptext\">number of vertices in this mesh</span>\n",
       "                            </div></th><th><div class=\"djtooltip\">\n",
       "                                <p id=\"nonprimary\">n_triangles</p>\n",
       "                                <span class=\"djtooltiptext\">number of triangles in this mesh</span>\n",
       "                            </div></th><th><div class=\"djtooltip\">\n",
       "                                <p id=\"nonprimary\">vertices</p>\n",
       "                                <span class=\"djtooltiptext\">x,y,z coordinates of vertices</span>\n",
       "                            </div></th><th><div class=\"djtooltip\">\n",
       "                                <p id=\"nonprimary\">triangles</p>\n",
       "                                <span class=\"djtooltiptext\">triangles (triplets of vertices)</span>\n",
       "                            </div></th><th><div class=\"djtooltip\">\n",
       "                                <p id=\"nonprimary\">n_pieces</p>\n",
       "                                <span class=\"djtooltiptext\">number of unconnected mesh pieces outside the largest mesh piece</span>\n",
       "                            </div></th><th><div class=\"djtooltip\">\n",
       "                                <p id=\"nonprimary\">largest_piece_perc</p>\n",
       "                                <span class=\"djtooltiptext\">number of faces percentage of largest mesh piece in respect to total mesh</span>\n",
       "                            </div></th><th><div class=\"djtooltip\">\n",
       "                                <p id=\"nonprimary\">outside_perc</p>\n",
       "                                <span class=\"djtooltiptext\">number of faces percentage of mesh outside the biggest mesh piece</span>\n",
       "                            </div></th><th><div class=\"djtooltip\">\n",
       "                                <p id=\"nonprimary\">n_stitched</p>\n",
       "                                <span class=\"djtooltiptext\">number of mesh pieces stitched back to main mesh</span>\n",
       "                            </div></th><th><div class=\"djtooltip\">\n",
       "                                <p id=\"nonprimary\">stitched_addon_perc</p>\n",
       "                                <span class=\"djtooltiptext\">number of faces percentage of pieces that were stitched back in respect to largest mesh piece</span>\n",
       "                            </div></th><th><div class=\"djtooltip\">\n",
       "                                <p id=\"nonprimary\">n_unstitched</p>\n",
       "                                <span class=\"djtooltiptext\">number of mesh pieces remaining unstitched back to main mesh</span>\n",
       "                            </div></th><th><div class=\"djtooltip\">\n",
       "                                <p id=\"nonprimary\">unstitched_perc</p>\n",
       "                                <span class=\"djtooltiptext\">number of faces percentage of pieces that were not in respect to largest mesh piece</span>\n",
       "                            </div> </th> </tr> </thead>\n",
       "                <tbody> <tr> <td>3</td>\n",
       "<td>648518346341363618</td>\n",
       "<td>16891</td>\n",
       "<td>33708</td>\n",
       "<td>=BLOB=</td>\n",
       "<td>=BLOB=</td>\n",
       "<td>1</td>\n",
       "<td>0.99810</td>\n",
       "<td>1.00000</td>\n",
       "<td>0</td>\n",
       "<td>0.00000</td>\n",
       "<td>1</td>\n",
       "<td>0.00190</td></tr><tr><td>3</td>\n",
       "<td>648518346341365127</td>\n",
       "<td>14921</td>\n",
       "<td>29732</td>\n",
       "<td>=BLOB=</td>\n",
       "<td>=BLOB=</td>\n",
       "<td>1</td>\n",
       "<td>0.98869</td>\n",
       "<td>0.99029</td>\n",
       "<td>0</td>\n",
       "<td>0.00000</td>\n",
       "<td>1</td>\n",
       "<td>0.00161</td></tr><tr><td>3</td>\n",
       "<td>648518346341371976</td>\n",
       "<td>25211</td>\n",
       "<td>50152</td>\n",
       "<td>=BLOB=</td>\n",
       "<td>=BLOB=</td>\n",
       "<td>1</td>\n",
       "<td>0.99837</td>\n",
       "<td>0.99920</td>\n",
       "<td>0</td>\n",
       "<td>0.00000</td>\n",
       "<td>1</td>\n",
       "<td>0.00084</td></tr><tr><td>3</td>\n",
       "<td>648518346341381791</td>\n",
       "<td>25793</td>\n",
       "<td>51326</td>\n",
       "<td>=BLOB=</td>\n",
       "<td>=BLOB=</td>\n",
       "<td>1</td>\n",
       "<td>0.99569</td>\n",
       "<td>0.99659</td>\n",
       "<td>0</td>\n",
       "<td>0.00000</td>\n",
       "<td>1</td>\n",
       "<td>0.00090</td></tr><tr><td>3</td>\n",
       "<td>648518346341390542</td>\n",
       "<td>20188</td>\n",
       "<td>40160</td>\n",
       "<td>=BLOB=</td>\n",
       "<td>=BLOB=</td>\n",
       "<td>1</td>\n",
       "<td>0.99643</td>\n",
       "<td>0.99747</td>\n",
       "<td>0</td>\n",
       "<td>0.00000</td>\n",
       "<td>1</td>\n",
       "<td>0.00105</td></tr><tr><td>3</td>\n",
       "<td>648518346341391365</td>\n",
       "<td>80795</td>\n",
       "<td>160474</td>\n",
       "<td>=BLOB=</td>\n",
       "<td>=BLOB=</td>\n",
       "<td>1</td>\n",
       "<td>0.99955</td>\n",
       "<td>0.99981</td>\n",
       "<td>0</td>\n",
       "<td>0.00000</td>\n",
       "<td>1</td>\n",
       "<td>0.00026</td></tr><tr><td>3</td>\n",
       "<td>648518346341398184</td>\n",
       "<td>62416</td>\n",
       "<td>124298</td>\n",
       "<td>=BLOB=</td>\n",
       "<td>=BLOB=</td>\n",
       "<td>1</td>\n",
       "<td>0.99828</td>\n",
       "<td>0.99855</td>\n",
       "<td>0</td>\n",
       "<td>0.00000</td>\n",
       "<td>1</td>\n",
       "<td>0.00027</td> </tr> </tbody>\n",
       "            </table>\n",
       "            <p>...</p>\n",
       "            <p>87 tuples</p></div>\n",
       "            "
      ],
      "text/plain": [
       "*segmentation  *segment_id    n_vertices     n_triangles    vertices   triangles  n_pieces     largest_piece_ outside_perc   n_stitched     stitched_addon n_unstitched   unstitched_per\n",
       "+------------+ +------------+ +------------+ +------------+ +--------+ +--------+ +----------+ +------------+ +------------+ +------------+ +------------+ +------------+ +------------+\n",
       "3              64851834634136 16891          33708          =BLOB=     =BLOB=     1            0.99810        1.00000        0              0.00000        1              0.00190       \n",
       "3              64851834634136 14921          29732          =BLOB=     =BLOB=     1            0.98869        0.99029        0              0.00000        1              0.00161       \n",
       "3              64851834634137 25211          50152          =BLOB=     =BLOB=     1            0.99837        0.99920        0              0.00000        1              0.00084       \n",
       "3              64851834634138 25793          51326          =BLOB=     =BLOB=     1            0.99569        0.99659        0              0.00000        1              0.00090       \n",
       "3              64851834634139 20188          40160          =BLOB=     =BLOB=     1            0.99643        0.99747        0              0.00000        1              0.00105       \n",
       "3              64851834634139 80795          160474         =BLOB=     =BLOB=     1            0.99955        0.99981        0              0.00000        1              0.00026       \n",
       "3              64851834634139 62416          124298         =BLOB=     =BLOB=     1            0.99828        0.99855        0              0.00000        1              0.00027       \n",
       "   ...\n",
       " (87 tuples)"
      ]
     },
     "execution_count": 20,
     "metadata": {},
     "output_type": "execute_result"
    }
   ],
   "source": [
    "pinky.NeuriteStitched() & \"unstitched_perc>0\""
   ]
  },
  {
   "cell_type": "code",
   "execution_count": null,
   "metadata": {},
   "outputs": [],
   "source": []
  }
 ],
 "metadata": {
  "kernelspec": {
   "display_name": "Python 3",
   "language": "python",
   "name": "python3"
  },
  "language_info": {
   "codemirror_mode": {
    "name": "ipython",
    "version": 3
   },
   "file_extension": ".py",
   "mimetype": "text/x-python",
   "name": "python",
   "nbconvert_exporter": "python",
   "pygments_lexer": "ipython3",
   "version": "3.6.5"
  }
 },
 "nbformat": 4,
 "nbformat_minor": 2
}
