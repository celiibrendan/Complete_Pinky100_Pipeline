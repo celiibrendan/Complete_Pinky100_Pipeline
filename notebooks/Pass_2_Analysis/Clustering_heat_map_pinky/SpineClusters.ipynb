{
 "cells": [
  {
   "cell_type": "code",
   "execution_count": 1,
   "metadata": {},
   "outputs": [],
   "source": [
    "import datajoint as dj\n",
    "import numpy as np\n",
    "import time\n",
    "\n",
    "import pandas as pd\n",
    "import seaborn as sns\n",
    "sns.set() #sets the asethetics parameters in what set"
   ]
  },
  {
   "cell_type": "code",
   "execution_count": 2,
   "metadata": {},
   "outputs": [
    {
     "name": "stdout",
     "output_type": "stream",
     "text": [
      "Connecting celiib@10.28.0.34:3306\n"
     ]
    }
   ],
   "source": [
    "#setting the address and the username\n",
    "dj.config['database.host'] = '10.28.0.34'\n",
    "dj.config['database.user'] = 'celiib'\n",
    "dj.config['database.password'] = 'newceliipass'\n",
    "dj.config['safemode']=True\n",
    "dj.config[\"display.limit\"] = 20\n",
    "\n",
    "schema = dj.schema('microns_pinky')\n",
    "pinky = dj.create_virtual_module('pinky', 'microns_pinky')\n"
   ]
  },
  {
   "cell_type": "code",
   "execution_count": 3,
   "metadata": {},
   "outputs": [
    {
     "data": {
      "text/plain": [
       "(30088, 30089)"
      ]
     },
     "execution_count": 3,
     "metadata": {},
     "output_type": "execute_result"
    }
   ],
   "source": [
    "#NeuriteTargets was recomputed from the NeuriteRevised list\n",
    "len(pinky.NeuriteTargetsRevised() & \"spine_num<total\"),len(pinky.NeuriteTargetsRevised() )"
   ]
  },
  {
   "cell_type": "code",
   "execution_count": 4,
   "metadata": {},
   "outputs": [
    {
     "data": {
      "text/html": [
       "\n",
       "        \n",
       "        <style type=\"text/css\">\n",
       "            .Relation{\n",
       "                border-collapse:collapse;\n",
       "            }\n",
       "            .Relation th{\n",
       "                background: #A0A0A0; color: #ffffff; padding:4px; border:#f0e0e0 1px solid;\n",
       "                font-weight: normal; font-family: monospace; font-size: 100%;\n",
       "            }\n",
       "            .Relation td{\n",
       "                padding:4px; border:#f0e0e0 1px solid; font-size:100%;\n",
       "            }\n",
       "            .Relation tr:nth-child(odd){\n",
       "                background: #ffffff;\n",
       "            }\n",
       "            .Relation tr:nth-child(even){\n",
       "                background: #f3f1ff;\n",
       "            }\n",
       "            /* Tooltip container */\n",
       "            .djtooltip {\n",
       "            }\n",
       "            /* Tooltip text */\n",
       "            .djtooltip .djtooltiptext {\n",
       "                visibility: hidden;\n",
       "                width: 120px;\n",
       "                background-color: black;\n",
       "                color: #fff;\n",
       "                text-align: center;\n",
       "                padding: 5px 0;\n",
       "                border-radius: 6px;\n",
       "                /* Position the tooltip text - see examples below! */\n",
       "                position: absolute;\n",
       "                z-index: 1;\n",
       "            }\n",
       "            #primary {\n",
       "                font-weight: bold;\n",
       "                color: black;\n",
       "            }\n",
       "\n",
       "            #nonprimary {\n",
       "                font-weight: normal;\n",
       "                color: white;\n",
       "            }\n",
       "\n",
       "            /* Show the tooltip text when you mouse over the tooltip container */\n",
       "            .djtooltip:hover .djtooltiptext {\n",
       "                visibility: visible;\n",
       "            }\n",
       "        </style>\n",
       "        \n",
       "        \n",
       "            <div style=\"max-height:1000px;max-width:1500px;overflow:auto;\">\n",
       "            <table border=\"1\" class=\"Relation\">\n",
       "                <thead> <tr style=\"text-align: right;\"> <th> <div class=\"djtooltip\">\n",
       "                                <p id=\"primary\">segmentation</p>\n",
       "                                <span class=\"djtooltiptext\">segmentation id</span>\n",
       "                            </div></th><th><div class=\"djtooltip\">\n",
       "                                <p id=\"primary\">segment_id</p>\n",
       "                                <span class=\"djtooltiptext\">segment id unique within each Segmentation</span>\n",
       "                            </div></th><th><div class=\"djtooltip\">\n",
       "                                <p id=\"nonprimary\">spine_head_prop</p>\n",
       "                                <span class=\"djtooltiptext\">calculated attribute</span>\n",
       "                            </div></th><th><div class=\"djtooltip\">\n",
       "                                <p id=\"nonprimary\">shaft_prop</p>\n",
       "                                <span class=\"djtooltiptext\">calculated attribute</span>\n",
       "                            </div></th><th><div class=\"djtooltip\">\n",
       "                                <p id=\"nonprimary\">soma_prop</p>\n",
       "                                <span class=\"djtooltiptext\">calculated attribute</span>\n",
       "                            </div></th><th><div class=\"djtooltip\">\n",
       "                                <p id=\"nonprimary\">axon_prop</p>\n",
       "                                <span class=\"djtooltiptext\">calculated attribute</span>\n",
       "                            </div></th><th><div class=\"djtooltip\">\n",
       "                                <p id=\"nonprimary\">total</p>\n",
       "                                <span class=\"djtooltiptext\">calculated attribute</span>\n",
       "                            </div> </th> </tr> </thead>\n",
       "                <tbody> <tr> <td>3</td>\n",
       "<td>648518346341351467</td>\n",
       "<td>1.0</td>\n",
       "<td>0.0</td>\n",
       "<td>0.0</td>\n",
       "<td>0.0</td>\n",
       "<td>5.0</td></tr><tr><td>3</td>\n",
       "<td>648518346341351503</td>\n",
       "<td>1.0</td>\n",
       "<td>0.0</td>\n",
       "<td>0.0</td>\n",
       "<td>0.0</td>\n",
       "<td>3.0</td></tr><tr><td>3</td>\n",
       "<td>648518346341351508</td>\n",
       "<td>0.1666666716337204</td>\n",
       "<td>0.8333333134651184</td>\n",
       "<td>0.3333333432674408</td>\n",
       "<td>0.0</td>\n",
       "<td>6.0</td></tr><tr><td>3</td>\n",
       "<td>648518346341351509</td>\n",
       "<td>1.0</td>\n",
       "<td>0.0</td>\n",
       "<td>0.0</td>\n",
       "<td>0.0</td>\n",
       "<td>3.0</td></tr><tr><td>3</td>\n",
       "<td>648518346341351514</td>\n",
       "<td>0.7500000325962902</td>\n",
       "<td>0.2500000046566129</td>\n",
       "<td>0.0</td>\n",
       "<td>0.0</td>\n",
       "<td>8.0</td></tr><tr><td>3</td>\n",
       "<td>648518346341351518</td>\n",
       "<td>1.0000000173846881</td>\n",
       "<td>0.0</td>\n",
       "<td>0.0</td>\n",
       "<td>0.0</td>\n",
       "<td>6.0</td></tr><tr><td>3</td>\n",
       "<td>648518346341351523</td>\n",
       "<td>1.000000049670538</td>\n",
       "<td>0.0</td>\n",
       "<td>0.0</td>\n",
       "<td>0.0</td>\n",
       "<td>3.0</td></tr><tr><td>3</td>\n",
       "<td>648518346341351525</td>\n",
       "<td>0.8181818203985198</td>\n",
       "<td>0.18181818772938627</td>\n",
       "<td>0.0</td>\n",
       "<td>0.0</td>\n",
       "<td>11.0</td></tr><tr><td>3</td>\n",
       "<td>648518346341351526</td>\n",
       "<td>1.0</td>\n",
       "<td>0.0</td>\n",
       "<td>0.0</td>\n",
       "<td>0.0</td>\n",
       "<td>5.0</td></tr><tr><td>3</td>\n",
       "<td>648518346341351531</td>\n",
       "<td>1.0</td>\n",
       "<td>0.0</td>\n",
       "<td>0.0</td>\n",
       "<td>0.0</td>\n",
       "<td>3.0</td></tr><tr><td>3</td>\n",
       "<td>648518346341351545</td>\n",
       "<td>1.0</td>\n",
       "<td>0.0</td>\n",
       "<td>0.0</td>\n",
       "<td>0.0</td>\n",
       "<td>5.0</td></tr><tr><td>3</td>\n",
       "<td>648518346341351631</td>\n",
       "<td>0.8999999967217446</td>\n",
       "<td>0.10000000327825548</td>\n",
       "<td>0.0</td>\n",
       "<td>0.0</td>\n",
       "<td>20.0</td></tr><tr><td>3</td>\n",
       "<td>648518346341351635</td>\n",
       "<td>0.800000011920929</td>\n",
       "<td>0.20000000298023224</td>\n",
       "<td>0.0</td>\n",
       "<td>0.0</td>\n",
       "<td>5.0</td></tr><tr><td>3</td>\n",
       "<td>648518346341351641</td>\n",
       "<td>1.0000000186264515</td>\n",
       "<td>0.0</td>\n",
       "<td>0.0</td>\n",
       "<td>0.0</td>\n",
       "<td>4.0</td></tr><tr><td>3</td>\n",
       "<td>648518346341351675</td>\n",
       "<td>0.6666666666666666</td>\n",
       "<td>0.3333333333333333</td>\n",
       "<td>0.0</td>\n",
       "<td>0.3333333333333333</td>\n",
       "<td>3.0</td></tr><tr><td>3</td>\n",
       "<td>648518346341351695</td>\n",
       "<td>0.857142884512337</td>\n",
       "<td>0.14285714422561685</td>\n",
       "<td>0.0</td>\n",
       "<td>0.0</td>\n",
       "<td>7.0</td></tr><tr><td>3</td>\n",
       "<td>648518346341351710</td>\n",
       "<td>0.25000001117587106</td>\n",
       "<td>0.7500000111758711</td>\n",
       "<td>0.0</td>\n",
       "<td>0.0</td>\n",
       "<td>4.0</td></tr><tr><td>3</td>\n",
       "<td>648518346341351713</td>\n",
       "<td>1.0</td>\n",
       "<td>0.0</td>\n",
       "<td>0.0</td>\n",
       "<td>0.0</td>\n",
       "<td>4.0</td></tr><tr><td>3</td>\n",
       "<td>648518346341351718</td>\n",
       "<td>0.5000000093132257</td>\n",
       "<td>0.5000000093132257</td>\n",
       "<td>0.0</td>\n",
       "<td>0.0</td>\n",
       "<td>4.0</td></tr><tr><td>3</td>\n",
       "<td>648518346341351719</td>\n",
       "<td>0.8571428571428571</td>\n",
       "<td>0.14285714285714285</td>\n",
       "<td>0.0</td>\n",
       "<td>0.0</td>\n",
       "<td>7.0</td> </tr> </tbody>\n",
       "            </table>\n",
       "            <p>...</p>\n",
       "            <p>Total: 30084</p></div>\n",
       "            "
      ],
      "text/plain": [
       "*segmentation  *segment_id    spine_head_pro shaft_prop     soma_prop      axon_prop      total    \n",
       "+------------+ +------------+ +------------+ +------------+ +------------+ +------------+ +-------+\n",
       "3              64851834634135 1.0            0.0            0.0            0.0            5.0      \n",
       "3              64851834634135 1.0            0.0            0.0            0.0            3.0      \n",
       "3              64851834634135 0.166666671633 0.833333313465 0.333333343267 0.0            6.0      \n",
       "3              64851834634135 1.0            0.0            0.0            0.0            3.0      \n",
       "3              64851834634135 0.750000032596 0.250000004656 0.0            0.0            8.0      \n",
       "3              64851834634135 1.000000017384 0.0            0.0            0.0            6.0      \n",
       "3              64851834634135 1.000000049670 0.0            0.0            0.0            3.0      \n",
       "3              64851834634135 0.818181820398 0.181818187729 0.0            0.0            11.0     \n",
       "3              64851834634135 1.0            0.0            0.0            0.0            5.0      \n",
       "3              64851834634135 1.0            0.0            0.0            0.0            3.0      \n",
       "3              64851834634135 1.0            0.0            0.0            0.0            5.0      \n",
       "3              64851834634135 0.899999996721 0.100000003278 0.0            0.0            20.0     \n",
       "3              64851834634135 0.800000011920 0.200000002980 0.0            0.0            5.0      \n",
       "3              64851834634135 1.000000018626 0.0            0.0            0.0            4.0      \n",
       "3              64851834634135 0.666666666666 0.333333333333 0.0            0.333333333333 3.0      \n",
       "3              64851834634135 0.857142884512 0.142857144225 0.0            0.0            7.0      \n",
       "3              64851834634135 0.250000011175 0.750000011175 0.0            0.0            4.0      \n",
       "3              64851834634135 1.0            0.0            0.0            0.0            4.0      \n",
       "3              64851834634135 0.500000009313 0.500000009313 0.0            0.0            4.0      \n",
       "3              64851834634135 0.857142857142 0.142857142857 0.0            0.0            7.0      \n",
       "   ...\n",
       " (Total: 30084)"
      ]
     },
     "execution_count": 4,
     "metadata": {},
     "output_type": "execute_result"
    }
   ],
   "source": [
    "#creates the table with spine data without the spine label\n",
    "#how to filter out the spine proportion\n",
    "\n",
    "#have to first remove the ones that have only spine synapses\n",
    "\n",
    "\n",
    "neurite_targets_no_spine = (pinky.NeuriteTargetsRevised() & \"(spine_num + spine_neck_num) <total\").proj(\n",
    "                                                         spine_head_prop=\"spine_head_prop/(1-spine_prop - spine_neck_prop)\",\n",
    "                                                         shaft_prop=\"shaft_prop/(1-spine_prop - spine_neck_prop)\",\n",
    "                                                         #non_spine_prop=\"non_spine_prop/(1-spine_prop - spine_neck_prop)\",\n",
    "                                                         soma_prop = \"soma_prop/(1-spine_prop - spine_neck_prop)\",\n",
    "                                                         axon_prop = \"axon_prop/(1-spine_prop - spine_neck_prop)\",\n",
    "                                                         total=\"total-spine_num - spine_neck_num\",\n",
    "                                            )\n",
    "\n",
    "neurite_targets_no_spine\n",
    "\n"
   ]
  },
  {
   "cell_type": "code",
   "execution_count": 5,
   "metadata": {},
   "outputs": [
    {
     "name": "stdout",
     "output_type": "stream",
     "text": [
      "30084\n",
      "1320\n",
      "2351\n",
      "4365\n",
      "8664\n"
     ]
    }
   ],
   "source": [
    "#different lengths based on the number of synapses threshold\n",
    "\n",
    "print(len(neurite_targets_no_spine))\n",
    "print(len(neurite_targets_no_spine & \"total>12\"))\n",
    "print(len(neurite_targets_no_spine & \"total>10\")) \n",
    "print(len(neurite_targets_no_spine & \"total>8\")) \n",
    "print(len(neurite_targets_no_spine & \"total>6\")) "
   ]
  },
  {
   "cell_type": "code",
   "execution_count": 6,
   "metadata": {},
   "outputs": [
    {
     "name": "stdout",
     "output_type": "stream",
     "text": [
      "Total in neurite table with greater than 6 synapses = 8664\n"
     ]
    }
   ],
   "source": [
    "neurite_targets_no_spine_6 = (neurite_targets_no_spine & \"total>6\")\n",
    "print(\"Total in neurite table with greater than 6 synapses = \" + str(len(neurite_targets_no_spine_6)))"
   ]
  },
  {
   "cell_type": "code",
   "execution_count": 7,
   "metadata": {},
   "outputs": [
    {
     "data": {
      "text/plain": [
       "<matplotlib.axes._subplots.AxesSubplot at 0x7f17619b74e0>"
      ]
     },
     "execution_count": 7,
     "metadata": {},
     "output_type": "execute_result"
    },
    {
     "data": {
      "image/png": "[encoded data removed]",
      "text/plain": [
       "<Figure size 432x288 with 1 Axes>"
      ]
     },
     "metadata": {
      "needs_background": "light"
     },
     "output_type": "display_data"
    }
   ],
   "source": [
    "#show the distribution\n",
    "axon_prop = neurite_targets_no_spine_6.fetch(\"axon_prop\")\n",
    "axon_prop\n",
    "axon_greater_0_array = axon_prop[axon_prop.astype(\"float\") > 0]\n",
    "sns.distplot(axon_greater_0_array.astype(\"float\"))"
   ]
  },
  {
   "cell_type": "code",
   "execution_count": 8,
   "metadata": {},
   "outputs": [
    {
     "data": {
      "text/plain": [
       "<matplotlib.axes._subplots.AxesSubplot at 0x7f175f729da0>"
      ]
     },
     "execution_count": 8,
     "metadata": {},
     "output_type": "execute_result"
    },
    {
     "data": {
      "image/png": "[encoded data removed]",
      "text/plain": [
       "<Figure size 432x288 with 1 Axes>"
      ]
     },
     "metadata": {
      "needs_background": "light"
     },
     "output_type": "display_data"
    }
   ],
   "source": [
    "#show the distribution\n",
    "soma_prop = (neurite_targets_no_spine_6 ).fetch(\"soma_prop\")\n",
    "soma_prop\n",
    "soma_greater_0_array = soma_prop[soma_prop.astype(\"float\") > 0]\n",
    "sns.distplot(soma_greater_0_array.astype(\"float\"))"
   ]
  },
  {
   "cell_type": "code",
   "execution_count": 9,
   "metadata": {},
   "outputs": [
    {
     "name": "stdout",
     "output_type": "stream",
     "text": [
      "Axon group = 226\n",
      "Soma group = 499\n"
     ]
    }
   ],
   "source": [
    "#manually find the groups\n",
    "axon_group = neurite_targets_no_spine_6 & \"axon_prop>0\"\n",
    "print(\"Axon group = \" + str(len(axon_group)))\n",
    "soma_group = (neurite_targets_no_spine_6 - axon_group.proj()) & \"soma_prop>=0.25\"\n",
    "print(\"Soma group = \" + str(len(soma_group)))"
   ]
  },
  {
   "cell_type": "code",
   "execution_count": 10,
   "metadata": {},
   "outputs": [
    {
     "data": {
      "text/plain": [
       "0.916320406278855"
      ]
     },
     "execution_count": 10,
     "metadata": {},
     "output_type": "execute_result"
    }
   ],
   "source": [
    "#remove the axon and soma groups\n",
    "neurite_targets_no_spine_6_without_axon_soma = neurite_targets_no_spine_6 - axon_group.proj() - soma_group.proj()\n",
    "len(neurite_targets_no_spine_6_without_axon_soma)/len(neurite_targets_no_spine_6)"
   ]
  },
  {
   "cell_type": "code",
   "execution_count": 11,
   "metadata": {},
   "outputs": [],
   "source": [
    "#get heatmap of the data\n",
    "\n",
    "neurite_spine_data = neurite_targets_no_spine_6_without_axon_soma.fetch(as_dict=True)\n",
    "\n",
    "spine_df = pd.DataFrame(neurite_spine_data)\n",
    "spine_df_base = spine_df.drop(columns=['segmentation', 'segment_id',\"total\",\"axon_prop\",\"soma_prop\"])\n",
    "#spine_df_base"
   ]
  },
  {
   "cell_type": "code",
   "execution_count": 12,
   "metadata": {
    "collapsed": true,
    "jupyter": {
     "outputs_hidden": true
    }
   },
   "outputs": [
    {
     "data": {
      "text/html": [
       "<div>\n",
       "<style scoped>\n",
       "    .dataframe tbody tr th:only-of-type {\n",
       "        vertical-align: middle;\n",
       "    }\n",
       "\n",
       "    .dataframe tbody tr th {\n",
       "        vertical-align: top;\n",
       "    }\n",
       "\n",
       "    .dataframe thead th {\n",
       "        text-align: right;\n",
       "    }\n",
       "</style>\n",
       "<table border=\"1\" class=\"dataframe\">\n",
       "  <thead>\n",
       "    <tr style=\"text-align: right;\">\n",
       "      <th></th>\n",
       "      <th>spine_head_prop</th>\n",
       "      <th>shaft_prop</th>\n",
       "    </tr>\n",
       "  </thead>\n",
       "  <tbody>\n",
       "    <tr>\n",
       "      <th>1342</th>\n",
       "      <td>1.0</td>\n",
       "      <td>0.0</td>\n",
       "    </tr>\n",
       "    <tr>\n",
       "      <th>2152</th>\n",
       "      <td>1.0</td>\n",
       "      <td>0.0</td>\n",
       "    </tr>\n",
       "    <tr>\n",
       "      <th>3439</th>\n",
       "      <td>1.0</td>\n",
       "      <td>0.0</td>\n",
       "    </tr>\n",
       "    <tr>\n",
       "      <th>853</th>\n",
       "      <td>1.0</td>\n",
       "      <td>0.0</td>\n",
       "    </tr>\n",
       "    <tr>\n",
       "      <th>3365</th>\n",
       "      <td>1.0</td>\n",
       "      <td>0.0</td>\n",
       "    </tr>\n",
       "    <tr>\n",
       "      <th>899</th>\n",
       "      <td>1.0</td>\n",
       "      <td>0.0</td>\n",
       "    </tr>\n",
       "    <tr>\n",
       "      <th>293</th>\n",
       "      <td>1.0</td>\n",
       "      <td>0.0</td>\n",
       "    </tr>\n",
       "    <tr>\n",
       "      <th>388</th>\n",
       "      <td>1.0</td>\n",
       "      <td>0.0</td>\n",
       "    </tr>\n",
       "    <tr>\n",
       "      <th>677</th>\n",
       "      <td>1.0</td>\n",
       "      <td>0.0</td>\n",
       "    </tr>\n",
       "    <tr>\n",
       "      <th>1644</th>\n",
       "      <td>1.0</td>\n",
       "      <td>0.0</td>\n",
       "    </tr>\n",
       "    <tr>\n",
       "      <th>1889</th>\n",
       "      <td>1.0</td>\n",
       "      <td>0.0</td>\n",
       "    </tr>\n",
       "    <tr>\n",
       "      <th>2338</th>\n",
       "      <td>1.0</td>\n",
       "      <td>0.0</td>\n",
       "    </tr>\n",
       "    <tr>\n",
       "      <th>2718</th>\n",
       "      <td>1.0</td>\n",
       "      <td>0.0</td>\n",
       "    </tr>\n",
       "    <tr>\n",
       "      <th>2990</th>\n",
       "      <td>1.0</td>\n",
       "      <td>0.0</td>\n",
       "    </tr>\n",
       "    <tr>\n",
       "      <th>3195</th>\n",
       "      <td>1.0</td>\n",
       "      <td>0.0</td>\n",
       "    </tr>\n",
       "    <tr>\n",
       "      <th>3347</th>\n",
       "      <td>1.0</td>\n",
       "      <td>0.0</td>\n",
       "    </tr>\n",
       "    <tr>\n",
       "      <th>4299</th>\n",
       "      <td>1.0</td>\n",
       "      <td>0.0</td>\n",
       "    </tr>\n",
       "    <tr>\n",
       "      <th>5293</th>\n",
       "      <td>1.0</td>\n",
       "      <td>0.0</td>\n",
       "    </tr>\n",
       "    <tr>\n",
       "      <th>5319</th>\n",
       "      <td>1.0</td>\n",
       "      <td>0.0</td>\n",
       "    </tr>\n",
       "    <tr>\n",
       "      <th>5877</th>\n",
       "      <td>1.0</td>\n",
       "      <td>0.0</td>\n",
       "    </tr>\n",
       "    <tr>\n",
       "      <th>5881</th>\n",
       "      <td>1.0</td>\n",
       "      <td>0.0</td>\n",
       "    </tr>\n",
       "    <tr>\n",
       "      <th>6130</th>\n",
       "      <td>1.0</td>\n",
       "      <td>0.0</td>\n",
       "    </tr>\n",
       "    <tr>\n",
       "      <th>6748</th>\n",
       "      <td>1.0</td>\n",
       "      <td>0.0</td>\n",
       "    </tr>\n",
       "    <tr>\n",
       "      <th>7069</th>\n",
       "      <td>1.0</td>\n",
       "      <td>0.0</td>\n",
       "    </tr>\n",
       "    <tr>\n",
       "      <th>7844</th>\n",
       "      <td>1.0</td>\n",
       "      <td>0.0</td>\n",
       "    </tr>\n",
       "    <tr>\n",
       "      <th>3219</th>\n",
       "      <td>1.0</td>\n",
       "      <td>0.0</td>\n",
       "    </tr>\n",
       "    <tr>\n",
       "      <th>6613</th>\n",
       "      <td>1.0</td>\n",
       "      <td>0.0</td>\n",
       "    </tr>\n",
       "    <tr>\n",
       "      <th>1227</th>\n",
       "      <td>1.0</td>\n",
       "      <td>0.0</td>\n",
       "    </tr>\n",
       "    <tr>\n",
       "      <th>1270</th>\n",
       "      <td>1.0</td>\n",
       "      <td>0.0</td>\n",
       "    </tr>\n",
       "    <tr>\n",
       "      <th>5564</th>\n",
       "      <td>1.0</td>\n",
       "      <td>0.0</td>\n",
       "    </tr>\n",
       "    <tr>\n",
       "      <th>...</th>\n",
       "      <td>...</td>\n",
       "      <td>...</td>\n",
       "    </tr>\n",
       "    <tr>\n",
       "      <th>7682</th>\n",
       "      <td>0.0</td>\n",
       "      <td>1.0</td>\n",
       "    </tr>\n",
       "    <tr>\n",
       "      <th>7923</th>\n",
       "      <td>0.0</td>\n",
       "      <td>1.0</td>\n",
       "    </tr>\n",
       "    <tr>\n",
       "      <th>7203</th>\n",
       "      <td>0.0</td>\n",
       "      <td>1.0</td>\n",
       "    </tr>\n",
       "    <tr>\n",
       "      <th>5889</th>\n",
       "      <td>0.0</td>\n",
       "      <td>1.0</td>\n",
       "    </tr>\n",
       "    <tr>\n",
       "      <th>3174</th>\n",
       "      <td>0.0</td>\n",
       "      <td>1.0</td>\n",
       "    </tr>\n",
       "    <tr>\n",
       "      <th>7095</th>\n",
       "      <td>0.0</td>\n",
       "      <td>1.0</td>\n",
       "    </tr>\n",
       "    <tr>\n",
       "      <th>6291</th>\n",
       "      <td>0.0</td>\n",
       "      <td>1.0</td>\n",
       "    </tr>\n",
       "    <tr>\n",
       "      <th>1349</th>\n",
       "      <td>0.0</td>\n",
       "      <td>1.0</td>\n",
       "    </tr>\n",
       "    <tr>\n",
       "      <th>2492</th>\n",
       "      <td>0.0</td>\n",
       "      <td>1.0</td>\n",
       "    </tr>\n",
       "    <tr>\n",
       "      <th>2620</th>\n",
       "      <td>0.0</td>\n",
       "      <td>1.0</td>\n",
       "    </tr>\n",
       "    <tr>\n",
       "      <th>6566</th>\n",
       "      <td>0.0</td>\n",
       "      <td>1.0</td>\n",
       "    </tr>\n",
       "    <tr>\n",
       "      <th>7014</th>\n",
       "      <td>0.0</td>\n",
       "      <td>1.0</td>\n",
       "    </tr>\n",
       "    <tr>\n",
       "      <th>7467</th>\n",
       "      <td>0.0</td>\n",
       "      <td>1.0</td>\n",
       "    </tr>\n",
       "    <tr>\n",
       "      <th>148</th>\n",
       "      <td>0.0</td>\n",
       "      <td>1.0</td>\n",
       "    </tr>\n",
       "    <tr>\n",
       "      <th>1584</th>\n",
       "      <td>0.0</td>\n",
       "      <td>1.0</td>\n",
       "    </tr>\n",
       "    <tr>\n",
       "      <th>3227</th>\n",
       "      <td>0.0</td>\n",
       "      <td>1.0</td>\n",
       "    </tr>\n",
       "    <tr>\n",
       "      <th>7485</th>\n",
       "      <td>0.0</td>\n",
       "      <td>1.0</td>\n",
       "    </tr>\n",
       "    <tr>\n",
       "      <th>758</th>\n",
       "      <td>0.0</td>\n",
       "      <td>1.0</td>\n",
       "    </tr>\n",
       "    <tr>\n",
       "      <th>1589</th>\n",
       "      <td>0.0</td>\n",
       "      <td>1.0</td>\n",
       "    </tr>\n",
       "    <tr>\n",
       "      <th>6891</th>\n",
       "      <td>0.0</td>\n",
       "      <td>1.0</td>\n",
       "    </tr>\n",
       "    <tr>\n",
       "      <th>827</th>\n",
       "      <td>0.0</td>\n",
       "      <td>1.0</td>\n",
       "    </tr>\n",
       "    <tr>\n",
       "      <th>3043</th>\n",
       "      <td>0.0</td>\n",
       "      <td>1.0</td>\n",
       "    </tr>\n",
       "    <tr>\n",
       "      <th>3197</th>\n",
       "      <td>0.0</td>\n",
       "      <td>1.0</td>\n",
       "    </tr>\n",
       "    <tr>\n",
       "      <th>6221</th>\n",
       "      <td>0.0</td>\n",
       "      <td>1.0</td>\n",
       "    </tr>\n",
       "    <tr>\n",
       "      <th>6328</th>\n",
       "      <td>0.0</td>\n",
       "      <td>1.0</td>\n",
       "    </tr>\n",
       "    <tr>\n",
       "      <th>6354</th>\n",
       "      <td>0.0</td>\n",
       "      <td>1.0</td>\n",
       "    </tr>\n",
       "    <tr>\n",
       "      <th>7150</th>\n",
       "      <td>0.0</td>\n",
       "      <td>1.0</td>\n",
       "    </tr>\n",
       "    <tr>\n",
       "      <th>7817</th>\n",
       "      <td>0.0</td>\n",
       "      <td>1.0</td>\n",
       "    </tr>\n",
       "    <tr>\n",
       "      <th>7832</th>\n",
       "      <td>0.0</td>\n",
       "      <td>1.0</td>\n",
       "    </tr>\n",
       "    <tr>\n",
       "      <th>6324</th>\n",
       "      <td>0.0</td>\n",
       "      <td>1.0</td>\n",
       "    </tr>\n",
       "  </tbody>\n",
       "</table>\n",
       "<p>7939 rows × 2 columns</p>\n",
       "</div>"
      ],
      "text/plain": [
       "      spine_head_prop  shaft_prop\n",
       "1342              1.0         0.0\n",
       "2152              1.0         0.0\n",
       "3439              1.0         0.0\n",
       "853               1.0         0.0\n",
       "3365              1.0         0.0\n",
       "...               ...         ...\n",
       "6354              0.0         1.0\n",
       "7150              0.0         1.0\n",
       "7817              0.0         1.0\n",
       "7832              0.0         1.0\n",
       "6324              0.0         1.0\n",
       "\n",
       "[7939 rows x 2 columns]"
      ]
     },
     "execution_count": 12,
     "metadata": {},
     "output_type": "execute_result"
    }
   ],
   "source": [
    "#sort by the first column and then do heat map\n",
    "spine_df_base_head_shaft_sort = spine_df_base.sort_values(['spine_head_prop','shaft_prop'], ascending=[False,True])\n",
    "spine_df_base_head_shaft_sort"
   ]
  },
  {
   "cell_type": "code",
   "execution_count": 13,
   "metadata": {},
   "outputs": [
    {
     "data": {
      "text/plain": [
       "6390"
      ]
     },
     "execution_count": 13,
     "metadata": {},
     "output_type": "execute_result"
    }
   ],
   "source": [
    "#making the head group\n",
    "head_group = neurite_targets_no_spine_6_without_axon_soma & \"spine_head_prop >=0.6\"\n",
    "len(head_group)"
   ]
  },
  {
   "cell_type": "code",
   "execution_count": 14,
   "metadata": {},
   "outputs": [
    {
     "data": {
      "text/plain": [
       "1210"
      ]
     },
     "execution_count": 14,
     "metadata": {},
     "output_type": "execute_result"
    }
   ],
   "source": [
    "#making the shaft group\n",
    "shaft_group = (neurite_targets_no_spine_6_without_axon_soma & \"shaft_prop >=0.5\") - head_group.proj()\n",
    "len(shaft_group)"
   ]
  },
  {
   "cell_type": "code",
   "execution_count": 15,
   "metadata": {},
   "outputs": [],
   "source": [
    "unused = neurite_targets_no_spine_6_without_axon_soma - head_group.proj() - shaft_group.proj()"
   ]
  },
  {
   "cell_type": "code",
   "execution_count": 16,
   "metadata": {},
   "outputs": [
    {
     "name": "stdout",
     "output_type": "stream",
     "text": [
      "499 226 6390 1210 339\n",
      "8664\n"
     ]
    }
   ],
   "source": [
    "print(len(soma_group),len(axon_group),len(head_group),len(shaft_group),len(unused))\n",
    "print(sum([len(soma_group),len(axon_group),len(head_group),len(shaft_group),len(unused)]))"
   ]
  },
  {
   "cell_type": "code",
   "execution_count": 18,
   "metadata": {},
   "outputs": [],
   "source": [
    "#look up datajoint table that has the clusters\n",
    "@schema\n",
    "class SpineClustersKey(dj.Lookup):\n",
    "    definition=\"\"\"\n",
    "    cluster_id : tinyint unsigned #numeric label of cluster\n",
    "    ---\n",
    "    description : varchar(16) #descriptive name of cluster\n",
    "    threshold   : float #the proportion cut off for the group based on the category\n",
    "    \"\"\"\n",
    "    "
   ]
  },
  {
   "cell_type": "code",
   "execution_count": 19,
   "metadata": {},
   "outputs": [],
   "source": [
    "cluster_descriptions = [\"Soma\",\"Axon\",\"Spine Head\",\"Shaft\",\"Unused\"]\n",
    "cluster_thresholds = [0.25,0.0001,0.6,0.5,0]\n",
    "\n",
    "clusters_dict = [dict(cluster_id=i,description=cd,threshold=ct) for i,(cd,ct) in enumerate(zip(cluster_descriptions,cluster_thresholds))]\n",
    "clusters_dict\n",
    "\n",
    "SpineClustersKey.insert(clusters_dict,skip_duplicates=True)"
   ]
  },
  {
   "cell_type": "code",
   "execution_count": 20,
   "metadata": {},
   "outputs": [
    {
     "data": {
      "text/html": [
       "\n",
       "        \n",
       "        <style type=\"text/css\">\n",
       "            .Relation{\n",
       "                border-collapse:collapse;\n",
       "            }\n",
       "            .Relation th{\n",
       "                background: #A0A0A0; color: #ffffff; padding:4px; border:#f0e0e0 1px solid;\n",
       "                font-weight: normal; font-family: monospace; font-size: 100%;\n",
       "            }\n",
       "            .Relation td{\n",
       "                padding:4px; border:#f0e0e0 1px solid; font-size:100%;\n",
       "            }\n",
       "            .Relation tr:nth-child(odd){\n",
       "                background: #ffffff;\n",
       "            }\n",
       "            .Relation tr:nth-child(even){\n",
       "                background: #f3f1ff;\n",
       "            }\n",
       "            /* Tooltip container */\n",
       "            .djtooltip {\n",
       "            }\n",
       "            /* Tooltip text */\n",
       "            .djtooltip .djtooltiptext {\n",
       "                visibility: hidden;\n",
       "                width: 120px;\n",
       "                background-color: black;\n",
       "                color: #fff;\n",
       "                text-align: center;\n",
       "                padding: 5px 0;\n",
       "                border-radius: 6px;\n",
       "                /* Position the tooltip text - see examples below! */\n",
       "                position: absolute;\n",
       "                z-index: 1;\n",
       "            }\n",
       "            #primary {\n",
       "                font-weight: bold;\n",
       "                color: black;\n",
       "            }\n",
       "\n",
       "            #nonprimary {\n",
       "                font-weight: normal;\n",
       "                color: white;\n",
       "            }\n",
       "\n",
       "            /* Show the tooltip text when you mouse over the tooltip container */\n",
       "            .djtooltip:hover .djtooltiptext {\n",
       "                visibility: visible;\n",
       "            }\n",
       "        </style>\n",
       "        \n",
       "        <b></b>\n",
       "            <div style=\"max-height:1000px;max-width:1500px;overflow:auto;\">\n",
       "            <table border=\"1\" class=\"Relation\">\n",
       "                <thead> <tr style=\"text-align: right;\"> <th> <div class=\"djtooltip\">\n",
       "                                <p id=\"primary\">cluster_id</p>\n",
       "                                <span class=\"djtooltiptext\">numeric label of cluster</span>\n",
       "                            </div></th><th><div class=\"djtooltip\">\n",
       "                                <p id=\"nonprimary\">description</p>\n",
       "                                <span class=\"djtooltiptext\">descriptive name of cluster</span>\n",
       "                            </div></th><th><div class=\"djtooltip\">\n",
       "                                <p id=\"nonprimary\">threshold</p>\n",
       "                                <span class=\"djtooltiptext\">the proportion cut off for the group based on the category</span>\n",
       "                            </div> </th> </tr> </thead>\n",
       "                <tbody> <tr> <td>0</td>\n",
       "<td>Soma</td>\n",
       "<td>0.25</td></tr><tr><td>1</td>\n",
       "<td>Axon</td>\n",
       "<td>0.0001</td></tr><tr><td>2</td>\n",
       "<td>Spine Head</td>\n",
       "<td>0.6</td></tr><tr><td>3</td>\n",
       "<td>Shaft</td>\n",
       "<td>0.5</td></tr><tr><td>4</td>\n",
       "<td>Unused</td>\n",
       "<td>0.0</td> </tr> </tbody>\n",
       "            </table>\n",
       "            \n",
       "            <p>Total: 5</p></div>\n",
       "            "
      ],
      "text/plain": [
       "*cluster_id    description    threshold    \n",
       "+------------+ +------------+ +-----------+\n",
       "0              Soma           0.25         \n",
       "1              Axon           0.0001       \n",
       "2              Spine Head     0.6          \n",
       "3              Shaft          0.5          \n",
       "4              Unused         0.0          \n",
       " (Total: 5)"
      ]
     },
     "execution_count": 20,
     "metadata": {},
     "output_type": "execute_result"
    }
   ],
   "source": [
    "SpineClustersKey()"
   ]
  },
  {
   "cell_type": "code",
   "execution_count": 21,
   "metadata": {},
   "outputs": [],
   "source": [
    "## Creates the table that holds all of the segment groups\n",
    "@schema\n",
    "class SpineClusters(dj.Manual):\n",
    "    definition=\"\"\"\n",
    "    -> pinky.NeuriteRevised\n",
    "    ---\n",
    "    ->SpineClustersKey\n",
    "    \"\"\""
   ]
  },
  {
   "cell_type": "code",
   "execution_count": 22,
   "metadata": {},
   "outputs": [],
   "source": [
    "possible_groups = [soma_group,axon_group,head_group,shaft_group,unused]\n",
    "descriptors = [0,1,2,3,4]\n",
    "for i,table in enumerate(possible_groups):\n",
    "    new_table = table.proj(cluster_id=str(descriptors[i]))\n",
    "    SpineClusters.insert(new_table,skip_duplicates=True)\n",
    "    "
   ]
  },
  {
   "cell_type": "code",
   "execution_count": 23,
   "metadata": {},
   "outputs": [
    {
     "data": {
      "text/plain": [
       "(499, 226, 6390, 1210, 339)"
      ]
     },
     "execution_count": 23,
     "metadata": {},
     "output_type": "execute_result"
    }
   ],
   "source": [
    "(len(SpineClusters() & \"cluster_id=0\"),len(SpineClusters() & \"cluster_id=1\"),\n",
    " len(SpineClusters() & \"cluster_id=2\"),len(SpineClusters() & \"cluster_id=3\"),\n",
    " len(SpineClusters() & \"cluster_id=4\"))"
   ]
  },
  {
   "cell_type": "code",
   "execution_count": 24,
   "metadata": {},
   "outputs": [
    {
     "name": "stdout",
     "output_type": "stream",
     "text": [
      "499 226 6390 1210 339\n",
      "8664\n"
     ]
    }
   ],
   "source": [
    "print(len(soma_group),len(axon_group),len(head_group),len(shaft_group),len(unused))\n",
    "print(sum([len(soma_group),len(axon_group),len(head_group),len(shaft_group),len(unused)]))"
   ]
  },
  {
   "cell_type": "code",
   "execution_count": null,
   "metadata": {},
   "outputs": [],
   "source": []
  }
 ],
 "metadata": {
  "kernelspec": {
   "display_name": "Python 3",
   "language": "python",
   "name": "python3"
  },
  "language_info": {
   "codemirror_mode": {
    "name": "ipython",
    "version": 3
   },
   "file_extension": ".py",
   "mimetype": "text/x-python",
   "name": "python",
   "nbconvert_exporter": "python",
   "pygments_lexer": "ipython3",
   "version": "3.6.8"
  }
 },
 "nbformat": 4,
 "nbformat_minor": 4
}
