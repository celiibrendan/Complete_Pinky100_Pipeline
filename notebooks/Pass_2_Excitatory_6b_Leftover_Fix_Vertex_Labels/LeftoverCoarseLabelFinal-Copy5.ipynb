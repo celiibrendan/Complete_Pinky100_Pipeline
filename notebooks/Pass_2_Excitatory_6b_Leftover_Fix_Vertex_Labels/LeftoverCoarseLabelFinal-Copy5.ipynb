{
 "cells": [
  {
   "cell_type": "code",
   "execution_count": 1,
   "metadata": {},
   "outputs": [],
   "source": [
    "import datajoint as dj\n",
    "import numpy as np\n",
    "import time\n",
    "from tqdm import tqdm"
   ]
  },
  {
   "cell_type": "code",
   "execution_count": 2,
   "metadata": {},
   "outputs": [
    {
     "name": "stdout",
     "output_type": "stream",
     "text": [
      "Connecting celiib@10.28.0.34:3306\n"
     ]
    }
   ],
   "source": [
    "#setting the address and the username\n",
    "dj.config['database.host'] = '10.28.0.34'\n",
    "dj.config['database.user'] = 'celiib'\n",
    "dj.config['database.password'] = 'newceliipass'\n",
    "dj.config['safemode']=True\n",
    "dj.config[\"display.limit\"] = 20\n",
    "\n",
    "pinky = dj.create_virtual_module('pinky', 'microns_pinky')\n",
    "schema = dj.schema('microns_pinky')\n"
   ]
  },
  {
   "cell_type": "code",
   "execution_count": 3,
   "metadata": {},
   "outputs": [],
   "source": [
    "@schema\n",
    "class LeftoverCoarseLabelFinal(dj.Computed):\n",
    "    definition = \"\"\"\n",
    "    # Ensure that Vertex labels for pinky.LeftoverProofreadLabel match the triangle labels, so these are regenerated from the correct triangle labels.\n",
    "    -> pinky.LeftoverProofreadLabel\n",
    "    ---\n",
    "    vertices  : longblob # Corrected vertex labels\n",
    "    triangles : longblob # Same triangle labels as pinky.LeftoverProofreadLabel\n",
    "    \"\"\"\n",
    "    \n",
    "    key_source = pinky.LeftoverProofreadLabel & 'status=\"complete\"'\n",
    "    \n",
    "    def make(self, key):\n",
    "        start = time.time()\n",
    "        \n",
    "        print(key[\"segment_id\"])\n",
    "        labels = (pinky.LeftoverProofreadLabel & key).fetch1()\n",
    "        corrected_vertex_labels = np.zeros(labels['vertices'].shape, np.uint8)\n",
    "        \n",
    "        mesh = (pinky.ExcitatoryLeftoverMeshes & 'decimation_ratio=0.35' & dict(segment_id=key['segment_id'])).fetch1()\n",
    "        mesh_triangles = mesh['triangles']\n",
    "        \n",
    "        vertex_label_dict = dict()\n",
    "        for i, label in enumerate(labels['triangles']):\n",
    "            triangle = mesh_triangles[i]\n",
    "            for node in triangle:\n",
    "                if node in vertex_label_dict:\n",
    "                    if vertex_label_dict[node] < label:\n",
    "                        vertex_label_dict[node] = label\n",
    "                else:\n",
    "                    vertex_label_dict[node] = label\n",
    "                \n",
    "        for node, label in vertex_label_dict.items():\n",
    "            corrected_vertex_labels[node] = label\n",
    "            \n",
    "        self.insert1(dict(key,\n",
    "                          vertices=corrected_vertex_labels,\n",
    "                          triangles=labels['triangles']))\n",
    "        \n",
    "        print(\"Segment {} vertex labels regenerated in: {} seconds.\".format(key['segment_id'], time.time() - start))"
   ]
  },
  {
   "cell_type": "code",
   "execution_count": 4,
   "metadata": {},
   "outputs": [
    {
     "name": "stdout",
     "output_type": "stream",
     "text": [
      "648518346349506617\n",
      "Segment 648518346349506617 vertex labels regenerated in: 0.33928680419921875 seconds.\n",
      "648518346349506803\n",
      "Segment 648518346349506803 vertex labels regenerated in: 0.5390849113464355 seconds.\n",
      "648518346349507351\n",
      "Segment 648518346349507351 vertex labels regenerated in: 0.2995133399963379 seconds.\n",
      "648518346349507788\n",
      "Segment 648518346349507788 vertex labels regenerated in: 0.3125724792480469 seconds.\n",
      "648518346349508212\n",
      "Segment 648518346349508212 vertex labels regenerated in: 0.4144454002380371 seconds.\n",
      "648518346349508960\n",
      "Segment 648518346349508960 vertex labels regenerated in: 0.4780416488647461 seconds.\n",
      "648518346349509393\n",
      "Segment 648518346349509393 vertex labels regenerated in: 0.3073606491088867 seconds.\n",
      "648518346349509512\n",
      "Segment 648518346349509512 vertex labels regenerated in: 0.2971153259277344 seconds.\n",
      "648518346349509855\n",
      "Segment 648518346349509855 vertex labels regenerated in: 0.48233556747436523 seconds.\n",
      "648518346349511212\n",
      "Segment 648518346349511212 vertex labels regenerated in: 0.2877507209777832 seconds.\n",
      "648518346349511382\n",
      "Segment 648518346349511382 vertex labels regenerated in: 0.8825759887695312 seconds.\n",
      "648518346349511920\n",
      "Segment 648518346349511920 vertex labels regenerated in: 0.5797042846679688 seconds.\n",
      "648518346349512375\n",
      "Segment 648518346349512375 vertex labels regenerated in: 0.33824920654296875 seconds.\n",
      "648518346349513012\n",
      "Segment 648518346349513012 vertex labels regenerated in: 0.5864503383636475 seconds.\n",
      "648518346349513655\n",
      "Segment 648518346349513655 vertex labels regenerated in: 0.3577604293823242 seconds.\n",
      "8.482707500457764\n"
     ]
    }
   ],
   "source": [
    "start = time.time()\n",
    "LeftoverCoarseLabelFinal.populate(reserve_jobs=True)\n",
    "print(time.time() - start)"
   ]
  },
  {
   "cell_type": "code",
   "execution_count": 5,
   "metadata": {},
   "outputs": [],
   "source": [
    "#(schema.jobs & \"table_name='__coarse_label_final'\").delete()"
   ]
  },
  {
   "cell_type": "code",
   "execution_count": null,
   "metadata": {},
   "outputs": [],
   "source": []
  }
 ],
 "metadata": {
  "kernelspec": {
   "display_name": "Python 3",
   "language": "python",
   "name": "python3"
  },
  "language_info": {
   "codemirror_mode": {
    "name": "ipython",
    "version": 3
   },
   "file_extension": ".py",
   "mimetype": "text/x-python",
   "name": "python",
   "nbconvert_exporter": "python",
   "pygments_lexer": "ipython3",
   "version": "3.6.5"
  }
 },
 "nbformat": 4,
 "nbformat_minor": 2
}
