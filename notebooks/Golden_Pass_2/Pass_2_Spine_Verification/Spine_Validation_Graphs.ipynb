{
 "cells": [
  {
   "cell_type": "code",
   "execution_count": 3,
   "metadata": {},
   "outputs": [
    {
     "name": "stdout",
     "output_type": "stream",
     "text": [
      "Connecting celiib@10.28.0.34:3306\n"
     ]
    }
   ],
   "source": [
    "import numpy as np\n",
    "import datajoint as dj\n",
    "pinky = dj.create_virtual_module(\"pinky\",\"microns_pinky\")"
   ]
  },
  {
   "cell_type": "code",
   "execution_count": 4,
   "metadata": {},
   "outputs": [
    {
     "data": {
      "text/html": [
       "\n",
       "        \n",
       "        <style type=\"text/css\">\n",
       "            .Relation{\n",
       "                border-collapse:collapse;\n",
       "            }\n",
       "            .Relation th{\n",
       "                background: #A0A0A0; color: #ffffff; padding:4px; border:#f0e0e0 1px solid;\n",
       "                font-weight: normal; font-family: monospace; font-size: 100%;\n",
       "            }\n",
       "            .Relation td{\n",
       "                padding:4px; border:#f0e0e0 1px solid; font-size:100%;\n",
       "            }\n",
       "            .Relation tr:nth-child(odd){\n",
       "                background: #ffffff;\n",
       "            }\n",
       "            .Relation tr:nth-child(even){\n",
       "                background: #f3f1ff;\n",
       "            }\n",
       "            /* Tooltip container */\n",
       "            .djtooltip {\n",
       "            }\n",
       "            /* Tooltip text */\n",
       "            .djtooltip .djtooltiptext {\n",
       "                visibility: hidden;\n",
       "                width: 120px;\n",
       "                background-color: black;\n",
       "                color: #fff;\n",
       "                text-align: center;\n",
       "                padding: 5px 0;\n",
       "                border-radius: 6px;\n",
       "                /* Position the tooltip text - see examples below! */\n",
       "                position: absolute;\n",
       "                z-index: 1;\n",
       "            }\n",
       "            #primary {\n",
       "                font-weight: bold;\n",
       "                color: black;\n",
       "            }\n",
       "\n",
       "            #nonprimary {\n",
       "                font-weight: normal;\n",
       "                color: white;\n",
       "            }\n",
       "\n",
       "            /* Show the tooltip text when you mouse over the tooltip container */\n",
       "            .djtooltip:hover .djtooltiptext {\n",
       "                visibility: visible;\n",
       "            }\n",
       "        </style>\n",
       "        \n",
       "        <b></b>\n",
       "            <div style=\"max-height:1000px;max-width:1500px;overflow:auto;\">\n",
       "            <table border=\"1\" class=\"Relation\">\n",
       "                <thead> <tr style=\"text-align: right;\"> <th> <div class=\"djtooltip\">\n",
       "                                <p id=\"primary\">segmentation</p>\n",
       "                                <span class=\"djtooltiptext\">segmentation id</span>\n",
       "                            </div></th><th><div class=\"djtooltip\">\n",
       "                                <p id=\"primary\">segment_id</p>\n",
       "                                <span class=\"djtooltiptext\">segment id unique within each Segmentation</span>\n",
       "                            </div></th><th><div class=\"djtooltip\">\n",
       "                                <p id=\"primary\">decimation_ratio</p>\n",
       "                                <span class=\"djtooltiptext\"></span>\n",
       "                            </div></th><th><div class=\"djtooltip\">\n",
       "                                <p id=\"primary\">compartment_type</p>\n",
       "                                <span class=\"djtooltiptext\">Basal, Apical, spine head, etc.</span>\n",
       "                            </div></th><th><div class=\"djtooltip\">\n",
       "                                <p id=\"primary\">component_index</p>\n",
       "                                <span class=\"djtooltiptext\">Which sub-compartment of a certain label this is.</span>\n",
       "                            </div></th><th><div class=\"djtooltip\">\n",
       "                                <p id=\"primary\">author_original</p>\n",
       "                                <span class=\"djtooltiptext\">name of last editor</span>\n",
       "                            </div></th><th><div class=\"djtooltip\">\n",
       "                                <p id=\"primary\">author_proofreader</p>\n",
       "                                <span class=\"djtooltiptext\">name of last editor</span>\n",
       "                            </div></th><th><div class=\"djtooltip\">\n",
       "                                <p id=\"primary\">starting_index</p>\n",
       "                                <span class=\"djtooltiptext\">starting index for the slice generation algorithm</span>\n",
       "                            </div></th><th><div class=\"djtooltip\">\n",
       "                                <p id=\"primary\">n_triangles</p>\n",
       "                                <span class=\"djtooltiptext\">number of triangles used for slice</span>\n",
       "                            </div></th><th><div class=\"djtooltip\">\n",
       "                                <p id=\"primary\">date_time</p>\n",
       "                                <span class=\"djtooltiptext\">the last time it was edited</span>\n",
       "                            </div></th><th><div class=\"djtooltip\">\n",
       "                                <p id=\"nonprimary\">n_auto_spine</p>\n",
       "                                <span class=\"djtooltiptext\">number of faces classified as spine,spine-head or spine-neck by auto-classifier</span>\n",
       "                            </div></th><th><div class=\"djtooltip\">\n",
       "                                <p id=\"nonprimary\">n_auto_shaft</p>\n",
       "                                <span class=\"djtooltiptext\">number of faces classified as shaft by auto-classifier</span>\n",
       "                            </div></th><th><div class=\"djtooltip\">\n",
       "                                <p id=\"nonprimary\">n_false_negatives</p>\n",
       "                                <span class=\"djtooltiptext\">number of spines incorrectly autoclassified as shaft (merged spines would add 2,3,4...etc)</span>\n",
       "                            </div></th><th><div class=\"djtooltip\">\n",
       "                                <p id=\"nonprimary\">n_false_positive</p>\n",
       "                                <span class=\"djtooltiptext\">number of sections of the shaft that were incorrectly classified as spine</span>\n",
       "                            </div></th><th><div class=\"djtooltip\">\n",
       "                                <p id=\"nonprimary\">true_positives</p>\n",
       "                                <span class=\"djtooltiptext\">number of spines correctly classified as spines</span>\n",
       "                            </div></th><th><div class=\"djtooltip\">\n",
       "                                <p id=\"nonprimary\">n_merged_spines</p>\n",
       "                                <span class=\"djtooltiptext\">total number of additional spines that resulted from being merged with others</span>\n",
       "                            </div></th><th><div class=\"djtooltip\">\n",
       "                                <p id=\"nonprimary\">perc_spines_with_merges</p>\n",
       "                                <span class=\"djtooltiptext\">percentage of the true positive count that also had other spines merged onto it</span>\n",
       "                            </div></th><th><div class=\"djtooltip\">\n",
       "                                <p id=\"nonprimary\">n_spines_with_overspined</p>\n",
       "                                <span class=\"djtooltiptext\">total number out of the true positives that had overspining occuring on their labeling</span>\n",
       "                            </div></th><th><div class=\"djtooltip\">\n",
       "                                <p id=\"nonprimary\">average_percentage_overspined</p>\n",
       "                                <span class=\"djtooltiptext\">for those that had overspining, the average face percentage that were labeled as overspined</span>\n",
       "                            </div></th><th><div class=\"djtooltip\">\n",
       "                                <p id=\"nonprimary\">avg_spine_size</p>\n",
       "                                <span class=\"djtooltiptext\">average number of faces for the true positive spines</span>\n",
       "                            </div> </th> </tr> </thead>\n",
       "                <tbody> <tr> <td>3</td>\n",
       "<td>648518346349495935</td>\n",
       "<td>0.35</td>\n",
       "<td>Basal</td>\n",
       "<td>1</td>\n",
       "<td>computer_Auto</td>\n",
       "<td>js48</td>\n",
       "<td>70323</td>\n",
       "<td>30000</td>\n",
       "<td>2019-08-27 16:47:11</td>\n",
       "<td>11061</td>\n",
       "<td>18939</td>\n",
       "<td>3</td>\n",
       "<td>3</td>\n",
       "<td>50</td>\n",
       "<td>2</td>\n",
       "<td>0.04444</td>\n",
       "<td>2</td>\n",
       "<td>0.65823</td>\n",
       "<td>185.88889</td> </tr> </tbody>\n",
       "            </table>\n",
       "            \n",
       "            <p>Total: 1</p></div>\n",
       "            "
      ],
      "text/plain": [
       "*segmentation  *segment_id    *decimation_ra *compartment_t *component_ind *author_origin *author_proofr *starting_inde *n_triangles   *date_time     n_auto_spine   n_auto_shaft   n_false_negati n_false_positi true_positives n_merged_spine perc_spines_wi n_spines_with_ average_percen avg_spine_size\n",
       "+------------+ +------------+ +------------+ +------------+ +------------+ +------------+ +------------+ +------------+ +------------+ +------------+ +------------+ +------------+ +------------+ +------------+ +------------+ +------------+ +------------+ +------------+ +------------+ +------------+\n",
       "3              64851834634949 0.35           Basal          1              computer_Auto  js48           70323          30000          2019-08-27 16: 11061          18939          3              3              50             2              0.04444        2              0.65823        185.88889     \n",
       " (Total: 1)"
      ]
     },
     "execution_count": 4,
     "metadata": {},
     "output_type": "execute_result"
    }
   ],
   "source": [
    "pinky.SpineValidationStatistics() & \"n_false_negatives>2\" & \"n_false_positive>2\""
   ]
  },
  {
   "cell_type": "code",
   "execution_count": 5,
   "metadata": {},
   "outputs": [
    {
     "name": "stdout",
     "output_type": "stream",
     "text": [
      "total_true_positive_excitatory = 7918\n",
      "total_n_false_negatives_excitatory = 431\n",
      "total_true_positive_orphan = 5121\n",
      "total_n_false_negatives_orphan = 112\n",
      "***************\n",
      "excitatory_recall = 0.9483770511438495\n",
      "orphan_recall = 0.9785973628893561\n",
      "total_recall = 0.9600206155205419\n"
     ]
    }
   ],
   "source": [
    "true_positive_excitatory, n_false_negatives_excitatory = pinky.SpineValidationStatistics().fetch(\"true_positives\",\"n_false_negatives\")\n",
    "true_positive_orphan, n_false_negatives_orphan = pinky.SpineValidationStatisticsOrphan().fetch(\"true_positives\",\"n_false_negatives\")\n",
    "total_true_positive_excitatory = sum(true_positive_excitatory)\n",
    "print(\"total_true_positive_excitatory = \" + str(total_true_positive_excitatory))\n",
    "total_n_false_negatives_excitatory = sum(n_false_negatives_excitatory)\n",
    "print(\"total_n_false_negatives_excitatory = \" + str(total_n_false_negatives_excitatory))\n",
    "total_true_positive_orphan = sum(true_positive_orphan)\n",
    "print(\"total_true_positive_orphan = \" + str(total_true_positive_orphan))\n",
    "total_n_false_negatives_orphan = sum(n_false_negatives_orphan)\n",
    "print(\"total_n_false_negatives_orphan = \" + str(total_n_false_negatives_orphan))\n",
    "\n",
    "\n",
    "excitatory_recall =total_true_positive_excitatory/(total_true_positive_excitatory + total_n_false_negatives_excitatory)\n",
    "orphan_recall = total_true_positive_orphan/(total_true_positive_orphan + total_n_false_negatives_orphan )\n",
    "total_recall = (total_true_positive_excitatory + total_true_positive_orphan)/(total_true_positive_excitatory + total_true_positive_orphan + total_n_false_negatives_excitatory + total_n_false_negatives_orphan)\n",
    "print(\"***************\")\n",
    "print(\"excitatory_recall = \" + str(excitatory_recall))\n",
    "print(\"orphan_recall = \" + str(orphan_recall))\n",
    "print(\"total_recall = \" + str(total_recall))\n",
    "#print(excitatory_recall,orphan_recall,total_recall)\n",
    "\n"
   ]
  },
  {
   "cell_type": "code",
   "execution_count": 6,
   "metadata": {},
   "outputs": [
    {
     "name": "stdout",
     "output_type": "stream",
     "text": [
      "total_true_positive_excitatory = 7918\n",
      "total_n_false_positives_excitatory = 46\n",
      "total_true_positive_orphan = 5121\n",
      "total_n_false_positives_orphan = 22\n",
      "***************\n",
      "excitatory_precision = 0.9942240080361627\n",
      "orphan_precision = 0.995722341046082\n",
      "total_precision = 0.9948119325551232\n"
     ]
    }
   ],
   "source": [
    "true_positive_excitatory, n_false_positives_excitatory = pinky.SpineValidationStatistics().fetch(\"true_positives\",\"n_false_positive\")\n",
    "true_positive_orphan, n_false_positives_orphan = pinky.SpineValidationStatisticsOrphan().fetch(\"true_positives\",\"n_false_positive\")\n",
    "total_true_positive_excitatory = sum(true_positive_excitatory)\n",
    "print(\"total_true_positive_excitatory = \" + str(total_true_positive_excitatory))\n",
    "total_n_false_positives_excitatory = sum(n_false_positives_excitatory)\n",
    "print(\"total_n_false_positives_excitatory = \" + str(total_n_false_positives_excitatory))\n",
    "total_true_positive_orphan = sum(true_positive_orphan)\n",
    "print(\"total_true_positive_orphan = \" + str(total_true_positive_orphan))\n",
    "total_n_false_positives_orphan = sum(n_false_positives_orphan)\n",
    "print(\"total_n_false_positives_orphan = \" + str(total_n_false_positives_orphan))\n",
    "\n",
    "\n",
    "excitatory_precision =total_true_positive_excitatory/(total_true_positive_excitatory + total_n_false_positives_excitatory)\n",
    "orphan_precision = total_true_positive_orphan/(total_true_positive_orphan + total_n_false_positives_orphan )\n",
    "total_precision = (total_true_positive_excitatory + total_true_positive_orphan)/(total_true_positive_excitatory + total_true_positive_orphan + total_n_false_positives_excitatory + total_n_false_positives_orphan)\n",
    "\n",
    "print(\"***************\")\n",
    "print(\"excitatory_precision = \" + str(excitatory_precision))\n",
    "print(\"orphan_precision = \" + str(orphan_precision))\n",
    "print(\"total_precision = \" + str(total_precision))\n"
   ]
  },
  {
   "cell_type": "code",
   "execution_count": 8,
   "metadata": {},
   "outputs": [
    {
     "name": "stdout",
     "output_type": "stream",
     "text": [
      "***************\n",
      "excitatory_f1 = 0.970759516949672\n",
      "orphan_f1 = 0.9870855821125675\n",
      "total_f1 = 0.9771066731612276\n"
     ]
    }
   ],
   "source": [
    "#calculate the f1 score\n",
    "# f1 = precision*recall/(precision + recal)\n",
    "excitatory_f1 = 2*excitatory_precision*excitatory_recall/(excitatory_precision + excitatory_recall)\n",
    "orphan_f1 = 2*orphan_precision*orphan_recall/(orphan_precision + orphan_recall)\n",
    "total_f1 = 2* total_precision*total_recall/(total_precision + total_recall)\n",
    "\n",
    "print(\"***************\")\n",
    "print(\"excitatory_f1 = \" + str(excitatory_f1))\n",
    "print(\"orphan_f1 = \" + str(orphan_f1))\n",
    "print(\"total_f1 = \" + str(total_f1))\n"
   ]
  },
  {
   "cell_type": "code",
   "execution_count": 17,
   "metadata": {},
   "outputs": [
    {
     "data": {
      "image/png": "[encoded data removed]",
      "text/plain": [
       "<Figure size 1440x864 with 2 Axes>"
      ]
     },
     "metadata": {
      "needs_background": "light"
     },
     "output_type": "display_data"
    }
   ],
   "source": [
    "font = {'family' : 'normal',\n",
    "        'weight' : 'bold',\n",
    "        'size'   : 22}\n",
    "import matplotlib\n",
    "matplotlib.rc('font', **font)\n",
    "import matplotlib.pyplot as plt\n",
    "\n",
    "classes_abridges = [\"Excitatory\",\"Orphan\",\"Total\"]\n",
    "\n",
    "cm = np.array([[excitatory_precision,orphan_precision,total_precision ],\n",
    "             [excitatory_recall,orphan_recall,total_recall],\n",
    "             [excitatory_f1,orphan_f1,total_f1]])\n",
    "\n",
    "accuracies = cm\n",
    "\n",
    "normalize = True\n",
    "cmap=plt.cm.Blues\n",
    "#now graph the results for all the categories\n",
    "title = \"Spine Automatic Classification\"\n",
    "\n",
    "fig, ax = plt.subplots()\n",
    "im = ax.imshow(accuracies, interpolation='nearest', cmap=cmap)\n",
    "ax.figure.colorbar(im, ax=ax)\n",
    "\n",
    "ax.set(xticks=np.arange(accuracies.shape[1]),\n",
    "       yticks=np.arange(accuracies.shape[0]),\n",
    "       # ... and label them with the respective list entries\n",
    "       xticklabels=classes_abridges, yticklabels=[\"precision\",\"recall\",\"f1\"],\n",
    "       title=title,\n",
    "       ylabel='Statistics',\n",
    "       xlabel='Neuron Group')\n",
    "\n",
    "# Rotate the tick labels and set their alignment.\n",
    "plt.setp(ax.get_xticklabels(), rotation=45, ha=\"right\",\n",
    "         rotation_mode=\"anchor\")\n",
    "\n",
    "# Loop over data dimensions and create text annotations.\n",
    "fmt = '.2f' if normalize else 'd'\n",
    "thresh = .96\n",
    "#print(\"threshold = \" + str(thresh))\n",
    "for i in range(cm.shape[0]):\n",
    "    for j in range(cm.shape[1]):\n",
    "        #print(\"cm[i,j] = \" + str(cm[i,j]))\n",
    "        ax.text(j, i, format(cm[i, j], fmt),\n",
    "                ha=\"center\", va=\"center\",\n",
    "                color=\"white\" if cm[i, j] > thresh else \"black\",\n",
    "               fontsize=20)\n",
    "fig.tight_layout()\n",
    "\n",
    "fig.set_size_inches(20, 12)\n",
    "ax.grid(False)\n"
   ]
  },
  {
   "cell_type": "code",
   "execution_count": null,
   "metadata": {},
   "outputs": [],
   "source": []
  }
 ],
 "metadata": {
  "kernelspec": {
   "display_name": "Python 3",
   "language": "python",
   "name": "python3"
  },
  "language_info": {
   "codemirror_mode": {
    "name": "ipython",
    "version": 3
   },
   "file_extension": ".py",
   "mimetype": "text/x-python",
   "name": "python",
   "nbconvert_exporter": "python",
   "pygments_lexer": "ipython3",
   "version": "3.6.8"
  }
 },
 "nbformat": 4,
 "nbformat_minor": 4
}
