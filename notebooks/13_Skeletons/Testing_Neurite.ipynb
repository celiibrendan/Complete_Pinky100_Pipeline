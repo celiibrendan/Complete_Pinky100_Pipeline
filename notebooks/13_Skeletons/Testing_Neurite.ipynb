{
 "cells": [
  {
   "cell_type": "code",
   "execution_count": 2,
   "metadata": {},
   "outputs": [],
   "source": [
    "import pymeshfix\n",
    "import os\n",
    "import datetime\n",
    "import calcification_Module as cm\n",
    "from meshparty import trimesh_io\n",
    "import datajoint as dj\n",
    "import numpy as np\n",
    "import time"
   ]
  },
  {
   "cell_type": "code",
   "execution_count": 3,
   "metadata": {},
   "outputs": [
    {
     "name": "stdout",
     "output_type": "stream",
     "text": [
      "Connecting celiib@10.28.0.34:3306\n"
     ]
    }
   ],
   "source": [
    "#setting the address and the username\n",
    "dj.config['database.host'] = '10.28.0.34'\n",
    "dj.config['database.user'] = 'celiib'\n",
    "dj.config['database.password'] = 'newceliipass'\n",
    "dj.config['safemode']=True\n",
    "dj.config[\"display.limit\"] = 20\n",
    "\n",
    "schema = dj.schema('microns_ta3p100')\n",
    "ta3p100 = dj.create_virtual_module('ta3p100', 'microns_ta3p100')\n"
   ]
  },
  {
   "cell_type": "code",
   "execution_count": 4,
   "metadata": {},
   "outputs": [],
   "source": [
    "#make sure there is a temp file in the directory, if not then make one\n",
    "#if temp folder doesn't exist then create it\n",
    "if (os.path.isdir(os.getcwd() + \"/temp_meshlab\")) == False:\n",
    "    os.mkdir(\"temp_meshlab\")\n",
    "    \n",
    "    "
   ]
  },
  {
   "cell_type": "code",
   "execution_count": 5,
   "metadata": {},
   "outputs": [],
   "source": [
    "#create the output file\n",
    "##write the OFF file for the neuron\n",
    "import pathlib\n",
    "def write_Whole_Neuron_Off_file(neuron_ID,vertices=[], triangles=[]):\n",
    "    #primary_key = dict(segmentation=1, segment_id=segment_id, decimation_ratio=0.35)\n",
    "    #vertices, triangles = (mesh_Table_35 & primary_key).fetch1('vertices', 'triangles')\n",
    "    \n",
    "    num_vertices = (len(vertices))\n",
    "    num_faces = len(triangles)\n",
    "    \n",
    "    #get the current file location\n",
    "    file_loc = pathlib.Path.cwd() / \"temp\"\n",
    "    filename = \"neuron_\" + str(neuron_ID)\n",
    "    path_and_filename = file_loc / filename\n",
    "    \n",
    "    #print(file_loc)\n",
    "    #print(path_and_filename)\n",
    "    \n",
    "    #open the file and start writing to it    \n",
    "    f = open(str(path_and_filename) + \".off\", \"w\")\n",
    "    f.write(\"OFF\\n\")\n",
    "    f.write(str(num_vertices) + \" \" + str(num_faces) + \" 0\\n\" )\n",
    "    \n",
    "    \n",
    "    #iterate through and write all of the vertices in the file\n",
    "    for verts in vertices:\n",
    "        f.write(str(verts[0]) + \" \" + str(verts[1]) + \" \" + str(verts[2])+\"\\n\")\n",
    "    \n",
    "    #print(\"Done writing verts\")\n",
    "        \n",
    "    for faces in triangles:\n",
    "        f.write(\"3 \" + str(faces[0]) + \" \" + str(faces[1]) + \" \" + str(faces[2])+\"\\n\")\n",
    "    \n",
    "    print(\"Done writing OFF file\")\n",
    "    #f.write(\"end\")\n",
    "    \n",
    "    return str(path_and_filename),str(filename),str(file_loc)"
   ]
  },
  {
   "cell_type": "code",
   "execution_count": 19,
   "metadata": {},
   "outputs": [],
   "source": [
    "key = dict(segmentation=2,segment_id=648518346341351731)"
   ]
  },
  {
   "cell_type": "code",
   "execution_count": 20,
   "metadata": {},
   "outputs": [
    {
     "name": "stdout",
     "output_type": "stream",
     "text": [
      "Starting on 648518346341351731\n",
      "Step 1: Retrieving Mesh: 0.03668522834777832\n",
      "Step 2: Pymesh shrinkwrapping: 0.7589833736419678\n",
      "Done writing OFF file\n",
      "Step 3: Writing shrinkwrap off file: 0.19801974296569824\n",
      "Step 4: Generating Skeleton: 0.8511683940887451\n"
     ]
    }
   ],
   "source": [
    "\n",
    "print(\"Starting on \"+str(key[\"segment_id\"]))\n",
    "global_time = time.time()\n",
    "#get the mesh with the error segments filtered away\n",
    "start_time = time.time()\n",
    "\n",
    "file_loc = pathlib.Path.cwd() / \"temp_meshlab\"\n",
    "filename = \"neuron_\" + str(key[\"segment_id\"])\n",
    "path_and_filename = str(file_loc / filename)\n",
    "\n",
    "#get the mesh of the neurite\n",
    "new_key = dict(segmentation=key[\"segmentation\"],\n",
    "               segment_id=key[\"segment_id\"])\n",
    "mesh = (ta3p100.Mesh & new_key).fetch1()\n",
    "print(f\"Step 1: Retrieving Mesh: {time.time() - start_time}\")\n",
    "\n",
    "new_key[\"vertices\"] = mesh[\"vertices\"]\n",
    "new_key[\"triangles\"] = mesh[\"triangles\"]\n",
    "#print(key)\n",
    "# print(key)\n",
    "#print(\"Step 2: Remove all error semgents\")\n",
    "start_time = time.time()\n",
    "#pass the vertices and faces to pymeshfix to become watertight\n",
    "meshfix = pymeshfix.MeshFix(new_key[\"vertices\"],new_key[\"triangles\"])\n",
    "meshfix.repair(verbose=False,joincomp=True,remove_smallest_components=False)\n",
    "print(f\"Step 2: Pymesh shrinkwrapping: {time.time() - start_time}\")\n",
    "\n",
    "#print(\"Step 2: Writing Off File\")\n",
    "start_time = time.time()\n",
    "#write the new mesh to off file\n",
    "path_and_filename,filename,file_loc = write_Whole_Neuron_Off_file(str(new_key[\"segment_id\"]),meshfix.v,meshfix.f)\n",
    "print(f\"Step 3: Writing shrinkwrap off file: {time.time() - start_time}\")\n",
    "\n",
    "\n",
    "#send to be skeletonized\n",
    "start_time = time.time()\n",
    "return_value = cm.calcification(path_and_filename)\n",
    "if return_value > 0:\n",
    "    raise Exception('skeletonization for neuron ' + str(new_key[\"segment_id\"]) + \n",
    "                    ' did not finish... exited with error code: ' + str(return_value))\n",
    "print(f\"Step 4: Generating Skeleton: {time.time() - start_time}\")\n",
    "\n",
    "\n"
   ]
  },
  {
   "cell_type": "code",
   "execution_count": null,
   "metadata": {},
   "outputs": [],
   "source": [
    "ta3p100.Neurite"
   ]
  }
 ],
 "metadata": {
  "kernelspec": {
   "display_name": "Python 3",
   "language": "python",
   "name": "python3"
  },
  "language_info": {
   "codemirror_mode": {
    "name": "ipython",
    "version": 3
   },
   "file_extension": ".py",
   "mimetype": "text/x-python",
   "name": "python",
   "nbconvert_exporter": "python",
   "pygments_lexer": "ipython3",
   "version": "3.6.5"
  }
 },
 "nbformat": 4,
 "nbformat_minor": 2
}
