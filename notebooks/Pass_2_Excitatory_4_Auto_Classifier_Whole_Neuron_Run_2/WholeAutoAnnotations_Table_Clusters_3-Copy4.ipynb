{
 "cells": [
  {
   "cell_type": "code",
   "execution_count": 1,
   "metadata": {},
   "outputs": [],
   "source": [
    "from whole_neuron_classifier_datajoint_adapted import extract_branches_whole_neuron\n",
    "import datajoint as dj\n",
    "import numpy as np\n",
    "import datajoint as dj\n",
    "import trimesh\n",
    "import time"
   ]
  },
  {
   "cell_type": "code",
   "execution_count": 2,
   "metadata": {},
   "outputs": [
    {
     "name": "stdout",
     "output_type": "stream",
     "text": [
      "Connecting celiib@10.28.0.34:3306\n"
     ]
    }
   ],
   "source": [
    "dj.config['database.host'] = '10.28.0.34'\n",
    "dj.config['database.user'] = 'celiib'\n",
    "dj.config['database.password'] = 'newceliipass'\n",
    "dj.config[\"display.limit\"] = 20\n",
    "    \n",
    "#schema = dj.schema('microns_ta3p100')\n",
    "#ta3p100 = dj.create_virtual_module('ta3p100', 'microns_ta3p100')\n",
    "schema = dj.schema(\"microns_pinky\")\n",
    "pinky = dj.create_virtual_module(\"pinky\",\"microns_pinky\")\n"
   ]
  },
  {
   "cell_type": "code",
   "execution_count": 3,
   "metadata": {},
   "outputs": [],
   "source": [
    "@schema\n",
    "class WholeAutoAnnotationsClusters3(dj.Computed):\n",
    "    definition = \"\"\"\n",
    "    # creates the labels for the mesh table\n",
    "    -> pinky.PymeshfixDecimatedExcitatoryStitchedMesh\n",
    "    ---\n",
    "    vertices   : longblob     # label data for the vertices\n",
    "    triangles  : longblob     # label data for the faces\n",
    "    \"\"\"\n",
    "    \n",
    "    def make(self, key):\n",
    "        start_time = time.time()\n",
    "        \n",
    "        print(\"\\n\\n*****Starting Auto Labeling for \" + str(key[\"segment_id\"]) + \"******\")\n",
    "        \n",
    "        segment_id = key[\"segment_id\"]\n",
    "\n",
    "        #get the vertices and faces from datajoint\n",
    "        # get the newly stitched mesh\n",
    "        # get the original mesh\n",
    "\n",
    "        \n",
    "        verts,faces = (pinky.PymeshfixDecimatedExcitatoryStitchedMesh() & key).fetch1(\"vertices\",\"triangles\")\n",
    "\n",
    "\n",
    "        #run the whole algorithm on the neuron to test\n",
    "        verts_labels, faces_labels = extract_branches_whole_neuron(import_Off_Flag=False,segment_id=segment_id,vertices=verts,\n",
    "                             triangles=faces,pymeshfix_Flag=False,\n",
    "                             import_CGAL_Flag=False,\n",
    "                             return_Only_Labels=True,\n",
    "                             clusters=3,\n",
    "                             smoothness=0.2)\n",
    "        \n",
    "        #insert the key\n",
    "        self.insert1(dict(key,\n",
    "                  vertices=verts_labels,\n",
    "                  triangles=faces_labels),skip_duplicates=True)\n",
    "\n",
    "\n",
    "        \n",
    "        print(f\"Finished Auto Labeling: {time.time() - start_time}\")\n",
    "        "
   ]
  },
  {
   "cell_type": "code",
   "execution_count": 4,
   "metadata": {},
   "outputs": [
    {
     "name": "stdout",
     "output_type": "stream",
     "text": [
      "\n",
      "\n",
      "*****Starting Auto Labeling for 648518346349503473******\n",
      "1) Starting: Mesh importing and Pymesh fix\n",
      "loading mesh from vertices and triangles array\n",
      "1) Finished: Mesh importing and Pymesh fix: 0.10994768142700195\n",
      "2) Staring: Generating CGAL segmentation for neuron\n",
      "Done writing OFF file\n",
      "\n",
      "Starting CGAL segmentation\n",
      "Right before cgal segmentation, clusters = 3, smoothness = 0.2\n",
      "1\n",
      "Finished CGAL segmentation algorithm: 705.95539021492\n",
      "2) Finished: Generating CGAL segmentation for neuron: 722.8793971538544\n",
      "3) Staring: Generating Graph Structure and Identifying Soma\n",
      "soma_index = 8\n",
      "3) Finished: Generating Graph Structure and Identifying Soma: 0.2535741329193115\n",
      "5) Staring: Finding Apical Index\n",
      "Soma Index = 8\n",
      "Soma Connections = [31, 15, 44, 9, 29, 17, 352, 187, 357, 300, 301, 97, 335]\n",
      "soma_80_percent = 273283.953125\n",
      "Debugging the axon filter\n",
      "[(31, 287292.96875), (15, 284218.6875), (44, 287113.8125), (9, 270109.78125), (29, 273769.125), (17, 297656.15625), (352, 277200.53125), (187, 272586.25), (357, 269000.3125), (300, 276271.28125), (301, 278382.53125), (97, 271586.71875), (335, 272099.3125)]\n",
      "possible_Axons_filter_1 = [9, 187, 357, 97, 335]\n",
      "possible_Axons_filter_2 = []\n",
      "possible_Apical = None\n",
      "5) Finished: Finding Apical Index: 0.10506010055541992\n",
      "6) Staring: Classifying Entire Neuron\n",
      "MET AXON THRESHOLD CRITERIA but not low enough on soma for neighbor = 31\n",
      "97 = stub soma\n",
      "352 = cilia\n",
      "187 = stub soma\n",
      "300 = stub soma\n",
      "301 = stub soma\n",
      "335 = stub soma\n",
      "357 = stub soma\n",
      "Total Labels found = {'unsure', 'soma', 'cilia'}\n",
      "6) Finished: Classifying Entire Neuron: 1.8834407329559326\n",
      "7) Staring: Transfering Segmentation Labels to Face Labels\n",
      "7) Finished: Transfering Segmentation Labels to Face Labels: 0.6811702251434326\n",
      "8) Staring: Generating final Vertex and Face Labels\n",
      "8) Finished: Generating final Vertex and Face Labels: 9.832497596740723\n",
      "Finished Auto Labeling: 736.6179935932159\n",
      "737.0355846881866\n"
     ]
    }
   ],
   "source": [
    "start = time.time()\n",
    "WholeAutoAnnotationsClusters3.populate(reserve_jobs=True)\n",
    "print(time.time() - start)"
   ]
  },
  {
   "cell_type": "code",
   "execution_count": 5,
   "metadata": {},
   "outputs": [],
   "source": [
    "#(schema.jobs & \"table_name='__whole_auto_annotations_clusters3'\").delete()"
   ]
  },
  {
   "cell_type": "code",
   "execution_count": 6,
   "metadata": {},
   "outputs": [],
   "source": [
    "#schema.jobs"
   ]
  },
  {
   "cell_type": "code",
   "execution_count": null,
   "metadata": {},
   "outputs": [],
   "source": []
  }
 ],
 "metadata": {
  "kernelspec": {
   "display_name": "Python 3",
   "language": "python",
   "name": "python3"
  },
  "language_info": {
   "codemirror_mode": {
    "name": "ipython",
    "version": 3
   },
   "file_extension": ".py",
   "mimetype": "text/x-python",
   "name": "python",
   "nbconvert_exporter": "python",
   "pygments_lexer": "ipython3",
   "version": "3.6.5"
  }
 },
 "nbformat": 4,
 "nbformat_minor": 2
}
