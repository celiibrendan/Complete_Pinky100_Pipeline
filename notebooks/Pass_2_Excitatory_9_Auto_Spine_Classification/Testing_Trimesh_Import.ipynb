{
 "cells": [
  {
   "cell_type": "code",
   "execution_count": 4,
   "metadata": {},
   "outputs": [],
   "source": [
    "import trimesh"
   ]
  },
  {
   "cell_type": "code",
   "execution_count": 15,
   "metadata": {},
   "outputs": [],
   "source": [
    "file_name = \"./dendrite_branches/648518346341371119_Apical_0.off\"\n",
    "new_mesh = trimesh.load_mesh(file_name,process= False,validate=False)\n",
    "\n"
   ]
  },
  {
   "cell_type": "code",
   "execution_count": null,
   "metadata": {},
   "outputs": [],
   "source": []
  },
  {
   "cell_type": "code",
   "execution_count": 16,
   "metadata": {},
   "outputs": [
    {
     "name": "stdout",
     "output_type": "stream",
     "text": [
      "(115849, 231784)\n"
     ]
    }
   ],
   "source": [
    "print((len(new_mesh.vertices),len(new_mesh.faces)))"
   ]
  },
  {
   "cell_type": "code",
   "execution_count": 17,
   "metadata": {},
   "outputs": [
    {
     "data": {
      "text/plain": [
       "TrackedArray([[337417.5       , 252939.25      ,  35836.671875  ],\n",
       "              [424051.5       , 277499.78125   ,  20415.66015625],\n",
       "              [337279.96875   , 252448.328125  ,  35983.390625  ],\n",
       "              ...,\n",
       "              [408396.96875   , 226626.59375   ,   6089.86474609],\n",
       "              [336493.96875   , 160665.265625  ,  30786.37109375],\n",
       "              [361837.96875   , 214963.828125  ,  17903.12695312]])"
      ]
     },
     "execution_count": 17,
     "metadata": {},
     "output_type": "execute_result"
    }
   ],
   "source": [
    "new_mesh.vertices"
   ]
  },
  {
   "cell_type": "code",
   "execution_count": 18,
   "metadata": {},
   "outputs": [
    {
     "data": {
      "text/plain": [
       "TrackedArray([[107357,  58645,      0],\n",
       "              [ 58645,  14813,      0],\n",
       "              [ 14813,  39060,      0],\n",
       "              ...,\n",
       "              [ 21753, 114150,  49189],\n",
       "              [ 81896, 106240,  95343],\n",
       "              [ 55458,  84779,  64402]])"
      ]
     },
     "execution_count": 18,
     "metadata": {},
     "output_type": "execute_result"
    }
   ],
   "source": [
    "new_mesh.faces"
   ]
  },
  {
   "cell_type": "code",
   "execution_count": 8,
   "metadata": {},
   "outputs": [
    {
     "name": "stdout",
     "output_type": "stream",
     "text": [
      "Connecting celiib@10.28.0.34:3306\n"
     ]
    }
   ],
   "source": [
    "import datajoint as dj\n",
    "import numpy as np\n",
    "\n",
    "pinky = dj.create_virtual_module(\"pinky\",\"microns_pinky\")"
   ]
  },
  {
   "cell_type": "code",
   "execution_count": 10,
   "metadata": {},
   "outputs": [],
   "source": [
    "unstitched_perc = pinky.ExcitatoryStitchedMeshVp2.fetch(\"unstitched_perc\")"
   ]
  },
  {
   "cell_type": "code",
   "execution_count": 12,
   "metadata": {},
   "outputs": [
    {
     "data": {
      "text/plain": [
       "Decimal('0.001599846625766871165644171779')"
      ]
     },
     "execution_count": 12,
     "metadata": {},
     "output_type": "execute_result"
    }
   ],
   "source": [
    "np.mean(unstitched_perc)"
   ]
  },
  {
   "cell_type": "code",
   "execution_count": 13,
   "metadata": {},
   "outputs": [
    {
     "data": {
      "text/plain": [
       "(array([  4.,   5.,   6.,   6.,   8.,  13.,  18.,  25.,  78., 163.]),\n",
       " array([0.25378, 0.33055, 0.40732, 0.48409, 0.56086, 0.63763, 0.7144 ,\n",
       "        0.79117, 0.86794, 0.94471, 1.02148]),\n",
       " <a list of 10 Patch objects>)"
      ]
     },
     "execution_count": 13,
     "metadata": {},
     "output_type": "execute_result"
    },
    {
     "data": {
      "image/png": "[encoded data removed]",
      "text/plain": [
       "<Figure size 432x288 with 1 Axes>"
      ]
     },
     "metadata": {},
     "output_type": "display_data"
    }
   ],
   "source": [
    "import matplotlib.pyplot as plt\n",
    "\n",
    "perc_ver, perc_tri = (pinky.PymeshfixDecimatedExcitatoryStitchedMesh & pinky.CurrentSegmentation).fetch('perc_vertices_remaining', 'perc_triangles_remaining')\n",
    "plt.hist(perc_ver.astype(float), bins=10)\n",
    "\n",
    "\n"
   ]
  },
  {
   "cell_type": "code",
   "execution_count": 14,
   "metadata": {},
   "outputs": [
    {
     "data": {
      "text/html": [
       "\n",
       "        \n",
       "        <style type=\"text/css\">\n",
       "            .Relation{\n",
       "                border-collapse:collapse;\n",
       "            }\n",
       "            .Relation th{\n",
       "                background: #A0A0A0; color: #ffffff; padding:4px; border:#f0e0e0 1px solid;\n",
       "                font-weight: normal; font-family: monospace; font-size: 100%;\n",
       "            }\n",
       "            .Relation td{\n",
       "                padding:4px; border:#f0e0e0 1px solid; font-size:100%;\n",
       "            }\n",
       "            .Relation tr:nth-child(odd){\n",
       "                background: #ffffff;\n",
       "            }\n",
       "            .Relation tr:nth-child(even){\n",
       "                background: #f3f1ff;\n",
       "            }\n",
       "            /* Tooltip container */\n",
       "            .djtooltip {\n",
       "            }\n",
       "            /* Tooltip text */\n",
       "            .djtooltip .djtooltiptext {\n",
       "                visibility: hidden;\n",
       "                width: 120px;\n",
       "                background-color: black;\n",
       "                color: #fff;\n",
       "                text-align: center;\n",
       "                padding: 5px 0;\n",
       "                border-radius: 6px;\n",
       "                /* Position the tooltip text - see examples below! */\n",
       "                position: absolute;\n",
       "                z-index: 1;\n",
       "            }\n",
       "            #primary {\n",
       "                font-weight: bold;\n",
       "                color: black;\n",
       "            }\n",
       "\n",
       "            #nonprimary {\n",
       "                font-weight: normal;\n",
       "                color: white;\n",
       "            }\n",
       "\n",
       "            /* Show the tooltip text when you mouse over the tooltip container */\n",
       "            .djtooltip:hover .djtooltiptext {\n",
       "                visibility: visible;\n",
       "            }\n",
       "        </style>\n",
       "        \n",
       "        <b></b>\n",
       "            <div style=\"max-height:1000px;max-width:1500px;overflow:auto;\">\n",
       "            <table border=\"1\" class=\"Relation\">\n",
       "                <thead> <tr style=\"text-align: right;\"> <th> <div class=\"djtooltip\">\n",
       "                                <p id=\"primary\">segmentation</p>\n",
       "                                <span class=\"djtooltiptext\">segmentation id</span>\n",
       "                            </div></th><th><div class=\"djtooltip\">\n",
       "                                <p id=\"primary\">segment_id</p>\n",
       "                                <span class=\"djtooltiptext\">segment id unique within each Segmentation</span>\n",
       "                            </div></th><th><div class=\"djtooltip\">\n",
       "                                <p id=\"primary\">decimation_ratio</p>\n",
       "                                <span class=\"djtooltiptext\"></span>\n",
       "                            </div></th><th><div class=\"djtooltip\">\n",
       "                                <p id=\"nonprimary\">n_vertices</p>\n",
       "                                <span class=\"djtooltiptext\">total number of vertices after pymeshfix cleaning</span>\n",
       "                            </div></th><th><div class=\"djtooltip\">\n",
       "                                <p id=\"nonprimary\">n_triangles</p>\n",
       "                                <span class=\"djtooltiptext\">total number of faces after pymeshfix cleaning</span>\n",
       "                            </div></th><th><div class=\"djtooltip\">\n",
       "                                <p id=\"nonprimary\">vertices</p>\n",
       "                                <span class=\"djtooltiptext\">vertices after pymeshfix cleaning</span>\n",
       "                            </div></th><th><div class=\"djtooltip\">\n",
       "                                <p id=\"nonprimary\">triangles</p>\n",
       "                                <span class=\"djtooltiptext\">faces after pymeshfix cleaning</span>\n",
       "                            </div></th><th><div class=\"djtooltip\">\n",
       "                                <p id=\"nonprimary\">perc_vertices_remaining</p>\n",
       "                                <span class=\"djtooltiptext\">number of vertices still present after pymeshfix cleaning</span>\n",
       "                            </div></th><th><div class=\"djtooltip\">\n",
       "                                <p id=\"nonprimary\">perc_triangles_remaining</p>\n",
       "                                <span class=\"djtooltiptext\">number of faces still present after pymeshfix cleaning</span>\n",
       "                            </div> </th> </tr> </thead>\n",
       "                <tbody> <tr> <td>3</td>\n",
       "<td>648518346341371119</td>\n",
       "<td>0.35</td>\n",
       "<td>223210</td>\n",
       "<td>446728</td>\n",
       "<td>=BLOB=</td>\n",
       "<td>=BLOB=</td>\n",
       "<td>0.99779</td>\n",
       "<td>1.00152</td></tr><tr><td>3</td>\n",
       "<td>648518346349386137</td>\n",
       "<td>0.35</td>\n",
       "<td>27998</td>\n",
       "<td>56076</td>\n",
       "<td>=BLOB=</td>\n",
       "<td>=BLOB=</td>\n",
       "<td>0.98842</td>\n",
       "<td>0.99452</td></tr><tr><td>3</td>\n",
       "<td>648518346349470171</td>\n",
       "<td>0.35</td>\n",
       "<td>352926</td>\n",
       "<td>706364</td>\n",
       "<td>=BLOB=</td>\n",
       "<td>=BLOB=</td>\n",
       "<td>0.91522</td>\n",
       "<td>0.91810</td></tr><tr><td>3</td>\n",
       "<td>648518346349471156</td>\n",
       "<td>0.35</td>\n",
       "<td>257594</td>\n",
       "<td>515604</td>\n",
       "<td>=BLOB=</td>\n",
       "<td>=BLOB=</td>\n",
       "<td>0.94457</td>\n",
       "<td>0.94117</td></tr><tr><td>3</td>\n",
       "<td>648518346349471500</td>\n",
       "<td>0.35</td>\n",
       "<td>232394</td>\n",
       "<td>465152</td>\n",
       "<td>=BLOB=</td>\n",
       "<td>=BLOB=</td>\n",
       "<td>0.90327</td>\n",
       "<td>0.89243</td></tr><tr><td>3</td>\n",
       "<td>648518346349471562</td>\n",
       "<td>0.35</td>\n",
       "<td>448173</td>\n",
       "<td>896942</td>\n",
       "<td>=BLOB=</td>\n",
       "<td>=BLOB=</td>\n",
       "<td>0.99005</td>\n",
       "<td>0.99361</td></tr><tr><td>3</td>\n",
       "<td>648518346349471565</td>\n",
       "<td>0.35</td>\n",
       "<td>762502</td>\n",
       "<td>1525920</td>\n",
       "<td>=BLOB=</td>\n",
       "<td>=BLOB=</td>\n",
       "<td>0.99868</td>\n",
       "<td>1.00177</td> </tr> </tbody>\n",
       "            </table>\n",
       "            <p>...</p>\n",
       "            <p>326 tuples</p></div>\n",
       "            "
      ],
      "text/plain": [
       "*segmentation  *segment_id    *decimation_ra n_vertices     n_triangles    vertices   triangles  perc_vertices_ perc_triangles\n",
       "+------------+ +------------+ +------------+ +------------+ +------------+ +--------+ +--------+ +------------+ +------------+\n",
       "3              64851834634137 0.35           223210         446728         =BLOB=     =BLOB=     0.99779        1.00152       \n",
       "3              64851834634938 0.35           27998          56076          =BLOB=     =BLOB=     0.98842        0.99452       \n",
       "3              64851834634947 0.35           352926         706364         =BLOB=     =BLOB=     0.91522        0.91810       \n",
       "3              64851834634947 0.35           257594         515604         =BLOB=     =BLOB=     0.94457        0.94117       \n",
       "3              64851834634947 0.35           232394         465152         =BLOB=     =BLOB=     0.90327        0.89243       \n",
       "3              64851834634947 0.35           448173         896942         =BLOB=     =BLOB=     0.99005        0.99361       \n",
       "3              64851834634947 0.35           762502         1525920        =BLOB=     =BLOB=     0.99868        1.00177       \n",
       "   ...\n",
       " (326 tuples)"
      ]
     },
     "execution_count": 14,
     "metadata": {},
     "output_type": "execute_result"
    }
   ],
   "source": [
    "pinky.PymeshfixDecimatedExcitatoryStitchedMesh()"
   ]
  },
  {
   "cell_type": "code",
   "execution_count": null,
   "metadata": {},
   "outputs": [],
   "source": []
  }
 ],
 "metadata": {
  "kernelspec": {
   "display_name": "Python 3",
   "language": "python",
   "name": "python3"
  },
  "language_info": {
   "codemirror_mode": {
    "name": "ipython",
    "version": 3
   },
   "file_extension": ".py",
   "mimetype": "text/x-python",
   "name": "python",
   "nbconvert_exporter": "python",
   "pygments_lexer": "ipython3",
   "version": "3.6.5"
  }
 },
 "nbformat": 4,
 "nbformat_minor": 2
}
