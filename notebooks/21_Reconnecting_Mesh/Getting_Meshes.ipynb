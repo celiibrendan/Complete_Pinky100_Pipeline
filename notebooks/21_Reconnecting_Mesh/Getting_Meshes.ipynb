{
 "cells": [
  {
   "cell_type": "code",
   "execution_count": 1,
   "metadata": {},
   "outputs": [],
   "source": [
    "import numpy as np\n",
    "import datajoint as dj\n",
    "import trimesh"
   ]
  },
  {
   "cell_type": "code",
   "execution_count": 2,
   "metadata": {},
   "outputs": [],
   "source": [
    "import os\n",
    "import contextlib\n",
    "\n",
    "def print_trimesh(current_mesh,file_name):\n",
    "    with open(os.devnull, \"w\") as f, contextlib.redirect_stdout(f):\n",
    "        current_mesh.export(file_name)"
   ]
  },
  {
   "cell_type": "code",
   "execution_count": 3,
   "metadata": {},
   "outputs": [
    {
     "name": "stdout",
     "output_type": "stream",
     "text": [
      "Connecting celiib@10.28.0.34:3306\n"
     ]
    }
   ],
   "source": [
    "pinky = dj.create_virtual_module(\"pinky\",\"microns_pinky\")\n",
    "ta3p100 = dj.create_virtual_module(\"ta3p100\",\"microns_ta3p100\")"
   ]
  },
  {
   "cell_type": "code",
   "execution_count": 4,
   "metadata": {},
   "outputs": [],
   "source": [
    "#gets the possible segment ids\n",
    "segment_ids = (pinky.AllenSoma() & \"cell_class='excitatory'\").fetch(\"segment_id\")"
   ]
  },
  {
   "cell_type": "code",
   "execution_count": 5,
   "metadata": {},
   "outputs": [
    {
     "data": {
      "text/plain": [
       "648518346349386137"
      ]
     },
     "execution_count": 5,
     "metadata": {},
     "output_type": "execute_result"
    }
   ],
   "source": [
    "segment_ids[1]"
   ]
  },
  {
   "cell_type": "code",
   "execution_count": null,
   "metadata": {},
   "outputs": [
    {
     "name": "stdout",
     "output_type": "stream",
     "text": [
      "648518346349470171\n"
     ]
    },
    {
     "name": "stderr",
     "output_type": "stream",
     "text": [
      "/usr/local/lib/python3.6/dist-packages/IPython/core/display.py:689: UserWarning: Consider using IPython.display.IFrame instead\n",
      "  warnings.warn(\"Consider using IPython.display.IFrame instead\")\n"
     ]
    }
   ],
   "source": [
    "mesh_index = 2\n",
    "neuron_id = segment_ids[mesh_index]\n",
    "print(neuron_id)\n",
    "key = dict(segment_id=segment_ids[mesh_index],segmentation=3)\n",
    "vertices,triangles = (pinky.Mesh & key).fetch(\"vertices\",\"triangles\")\n",
    "\n",
    "new_mesh = trimesh.Trimesh()\n",
    "new_mesh.vertices = vertices[0]\n",
    "new_mesh.faces = triangles[0]\n",
    "#new_mesh.show()"
   ]
  },
  {
   "cell_type": "code",
   "execution_count": 8,
   "metadata": {},
   "outputs": [
    {
     "name": "stdout",
     "output_type": "stream",
     "text": [
      "hello\n"
     ]
    }
   ],
   "source": [
    "print(\"hello\")"
   ]
  },
  {
   "cell_type": "code",
   "execution_count": 9,
   "metadata": {},
   "outputs": [],
   "source": [
    "print_trimesh(new_mesh,\"./test_meshes/full_no_alterations_648518346349470171.off\")"
   ]
  },
  {
   "cell_type": "code",
   "execution_count": 10,
   "metadata": {},
   "outputs": [
    {
     "data": {
      "text/plain": [
       "124.91582700000001"
      ]
     },
     "execution_count": 10,
     "metadata": {},
     "output_type": "execute_result"
    }
   ],
   "source": [
    "\"\"\"\n",
    "See how big file is and zip it and download it\n",
    "\"\"\"\n",
    "import os\n",
    "num = os.path.getsize(\"./test_meshes/full_no_alterations_648518346349470171.off\")\n",
    "num/1000/1000"
   ]
  },
  {
   "cell_type": "code",
   "execution_count": null,
   "metadata": {},
   "outputs": [],
   "source": [
    "#if you want to actually split them up"
   ]
  },
  {
   "cell_type": "code",
   "execution_count": null,
   "metadata": {},
   "outputs": [],
   "source": [
    "seperated_mesh_mesh_splits  = seperated_mesh.split(only_watertight=False)\n",
    "len(seperated_mesh_mesh_splits)"
   ]
  },
  {
   "cell_type": "code",
   "execution_count": null,
   "metadata": {},
   "outputs": [],
   "source": [
    "print_trimesh(mesh_splits[current_split_index],\"seperated_\" + str(neuron_id) + \"_\" + str(current_split_index) + \".off\")\n",
    "\n",
    "\n"
   ]
  }
 ],
 "metadata": {
  "kernelspec": {
   "display_name": "Python 3",
   "language": "python",
   "name": "python3"
  },
  "language_info": {
   "codemirror_mode": {
    "name": "ipython",
    "version": 3
   },
   "file_extension": ".py",
   "mimetype": "text/x-python",
   "name": "python",
   "nbconvert_exporter": "python",
   "pygments_lexer": "ipython3",
   "version": "3.6.5"
  }
 },
 "nbformat": 4,
 "nbformat_minor": 2
}
