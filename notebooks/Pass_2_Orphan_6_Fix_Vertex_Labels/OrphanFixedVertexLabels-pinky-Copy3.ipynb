{
 "cells": [
  {
   "cell_type": "code",
   "execution_count": 1,
   "metadata": {},
   "outputs": [],
   "source": [
    "import datajoint as dj\n",
    "import numpy as np\n",
    "import time\n",
    "from tqdm import tqdm"
   ]
  },
  {
   "cell_type": "code",
   "execution_count": 2,
   "metadata": {},
   "outputs": [
    {
     "name": "stdout",
     "output_type": "stream",
     "text": [
      "Connecting celiib@10.28.0.34:3306\n"
     ]
    }
   ],
   "source": [
    "#setting the address and the username\n",
    "dj.config['database.host'] = '10.28.0.34'\n",
    "dj.config['database.user'] = 'celiib'\n",
    "dj.config['database.password'] = 'newceliipass'\n",
    "dj.config['safemode']=True\n",
    "dj.config[\"display.limit\"] = 20\n",
    "\n",
    "pinky = dj.create_virtual_module('pinky', 'microns_pinky')\n",
    "schema = dj.schema('microns_pinky')"
   ]
  },
  {
   "cell_type": "code",
   "execution_count": 3,
   "metadata": {},
   "outputs": [],
   "source": [
    "#ta3p100.ProofreadLabelOrphan() & \"segment_id=648518346341352006\""
   ]
  },
  {
   "cell_type": "code",
   "execution_count": 4,
   "metadata": {},
   "outputs": [],
   "source": [
    "#ta3p100.CleansedMeshOrphan()"
   ]
  },
  {
   "cell_type": "code",
   "execution_count": null,
   "metadata": {},
   "outputs": [],
   "source": []
  },
  {
   "cell_type": "code",
   "execution_count": 5,
   "metadata": {},
   "outputs": [],
   "source": [
    "@schema\n",
    "class CoarseLabelOrphan(dj.Computed):\n",
    "    definition = \"\"\"\n",
    "    # Vertex labels for pinky.ProofreadLabelOrphan did not correctly match the triangle labels, so these are regenerated from the correct triangle labels.\n",
    "    -> pinky.ProofreadLabelOrphan\n",
    "    ---\n",
    "    vertices  : longblob # Corrected vertex labels\n",
    "    triangles : longblob # Same triangle labels as pinky.ProofreadLabelOrphan\n",
    "    \"\"\"\n",
    "    \n",
    "    key_source = pinky.ProofreadLabelOrphan & 'status=\"complete\"'\n",
    "    \n",
    "    def make(self, key):\n",
    "        start = time.time()\n",
    "        \n",
    "        print(key[\"segment_id\"])\n",
    "        labels = (pinky.ProofreadLabelOrphan & key).fetch1()\n",
    "        corrected_vertex_labels = np.zeros(labels['vertices'].shape, np.uint8)\n",
    "        \n",
    "        mesh = (pinky.Decimation35OrphanStitched & 'decimation_ratio=0.35' & dict(segment_id=key['segment_id'])).fetch1()\n",
    "        mesh_triangles = mesh['triangles']\n",
    "        \n",
    "        vertex_label_dict = dict()\n",
    "        for i, label in enumerate(labels['triangles']):\n",
    "            triangle = mesh_triangles[i]\n",
    "            for node in triangle:\n",
    "                if node in vertex_label_dict:\n",
    "                    if vertex_label_dict[node] < label:\n",
    "                        vertex_label_dict[node] = label\n",
    "                else:\n",
    "                    vertex_label_dict[node] = label\n",
    "                \n",
    "        for node, label in vertex_label_dict.items():\n",
    "            corrected_vertex_labels[node] = label\n",
    "            \n",
    "        self.insert1(dict(key,\n",
    "                          vertices=corrected_vertex_labels,\n",
    "                          triangles=labels['triangles']))\n",
    "        \n",
    "        print(\"Segment {} vertex labels regenerated in: {} seconds.\".format(key['segment_id'], time.time() - start))"
   ]
  },
  {
   "cell_type": "code",
   "execution_count": 6,
   "metadata": {},
   "outputs": [
    {
     "name": "stdout",
     "output_type": "stream",
     "text": [
      "648518346341399264\n",
      "Segment 648518346341399264 vertex labels regenerated in: 1.6364049911499023 seconds.\n",
      "648518346341401564\n",
      "Segment 648518346341401564 vertex labels regenerated in: 0.5943474769592285 seconds.\n",
      "648518346341402306\n",
      "Segment 648518346341402306 vertex labels regenerated in: 0.6546926498413086 seconds.\n",
      "648518346341402769\n",
      "Segment 648518346341402769 vertex labels regenerated in: 0.4712679386138916 seconds.\n",
      "648518346341403822\n",
      "Segment 648518346341403822 vertex labels regenerated in: 0.6661970615386963 seconds.\n",
      "648518346341404564\n",
      "Segment 648518346341404564 vertex labels regenerated in: 1.3682668209075928 seconds.\n",
      "648518346341407401\n",
      "Segment 648518346341407401 vertex labels regenerated in: 0.7678382396697998 seconds.\n",
      "648518346341409274\n",
      "Segment 648518346341409274 vertex labels regenerated in: 0.5995790958404541 seconds.\n",
      "648518346341409682\n",
      "Segment 648518346341409682 vertex labels regenerated in: 0.7574150562286377 seconds.\n",
      "648518346341410558\n",
      "Segment 648518346341410558 vertex labels regenerated in: 0.8956711292266846 seconds.\n",
      "648518346341411468\n",
      "Segment 648518346341411468 vertex labels regenerated in: 0.8481874465942383 seconds.\n",
      "648518346341414026\n",
      "Segment 648518346341414026 vertex labels regenerated in: 0.6956462860107422 seconds.\n",
      "648518346341416638\n",
      "Segment 648518346341416638 vertex labels regenerated in: 0.68784499168396 seconds.\n",
      "648518346341420202\n",
      "Segment 648518346341420202 vertex labels regenerated in: 0.782496452331543 seconds.\n",
      "648518346342154445\n",
      "Segment 648518346342154445 vertex labels regenerated in: 0.7883555889129639 seconds.\n",
      "648518346342412201\n",
      "Segment 648518346342412201 vertex labels regenerated in: 0.8319664001464844 seconds.\n",
      "648518346342788540\n",
      "Segment 648518346342788540 vertex labels regenerated in: 1.0202054977416992 seconds.\n",
      "648518346342791236\n",
      "Segment 648518346342791236 vertex labels regenerated in: 0.6817929744720459 seconds.\n",
      "648518346342791920\n",
      "Segment 648518346342791920 vertex labels regenerated in: 0.8689470291137695 seconds.\n",
      "648518346342792438\n",
      "Segment 648518346342792438 vertex labels regenerated in: 0.5783696174621582 seconds.\n",
      "648518346342793555\n",
      "Segment 648518346342793555 vertex labels regenerated in: 0.8981759548187256 seconds.\n",
      "648518346342795219\n",
      "Segment 648518346342795219 vertex labels regenerated in: 0.7161955833435059 seconds.\n",
      "648518346342796444\n",
      "Segment 648518346342796444 vertex labels regenerated in: 0.742847204208374 seconds.\n",
      "648518346342797189\n",
      "Segment 648518346342797189 vertex labels regenerated in: 0.5777921676635742 seconds.\n",
      "648518346342797727\n",
      "Segment 648518346342797727 vertex labels regenerated in: 0.9212701320648193 seconds.\n",
      "648518346342799664\n",
      "Segment 648518346342799664 vertex labels regenerated in: 0.6806988716125488 seconds.\n",
      "648518346342801155\n",
      "Segment 648518346342801155 vertex labels regenerated in: 0.8287835121154785 seconds.\n",
      "648518346342803414\n",
      "Segment 648518346342803414 vertex labels regenerated in: 0.8420248031616211 seconds.\n",
      "648518346342804347\n",
      "Segment 648518346342804347 vertex labels regenerated in: 0.7082850933074951 seconds.\n",
      "648518346342805371\n",
      "Segment 648518346342805371 vertex labels regenerated in: 0.7375438213348389 seconds.\n",
      "648518346342806329\n",
      "Segment 648518346342806329 vertex labels regenerated in: 1.0456087589263916 seconds.\n",
      "648518346342807490\n",
      "Segment 648518346342807490 vertex labels regenerated in: 0.9614768028259277 seconds.\n",
      "648518346342808453\n",
      "Segment 648518346342808453 vertex labels regenerated in: 0.9235067367553711 seconds.\n",
      "648518346342915230\n",
      "Segment 648518346342915230 vertex labels regenerated in: 0.9309852123260498 seconds.\n",
      "648518346342919716\n",
      "Segment 648518346342919716 vertex labels regenerated in: 1.077425241470337 seconds.\n",
      "648518346342924888\n",
      "Segment 648518346342924888 vertex labels regenerated in: 0.7830817699432373 seconds.\n",
      "648518346342927984\n",
      "Segment 648518346342927984 vertex labels regenerated in: 0.6000444889068604 seconds.\n",
      "648518346342930166\n",
      "Segment 648518346342930166 vertex labels regenerated in: 0.6556177139282227 seconds.\n",
      "648518346343163212\n",
      "Segment 648518346343163212 vertex labels regenerated in: 0.741347074508667 seconds.\n",
      "648518346343625250\n",
      "Segment 648518346343625250 vertex labels regenerated in: 0.7643284797668457 seconds.\n",
      "648518346344071684\n",
      "Segment 648518346344071684 vertex labels regenerated in: 0.8201510906219482 seconds.\n",
      "648518346344075999\n",
      "Segment 648518346344075999 vertex labels regenerated in: 0.6975181102752686 seconds.\n",
      "648518346344082166\n",
      "Segment 648518346344082166 vertex labels regenerated in: 0.7260839939117432 seconds.\n",
      "648518346344142665\n",
      "Segment 648518346344142665 vertex labels regenerated in: 0.7509200572967529 seconds.\n",
      "648518346344428581\n",
      "Segment 648518346344428581 vertex labels regenerated in: 0.7650902271270752 seconds.\n",
      "648518346344465695\n",
      "Segment 648518346344465695 vertex labels regenerated in: 0.7878210544586182 seconds.\n",
      "648518346344512331\n",
      "Segment 648518346344512331 vertex labels regenerated in: 0.7835147380828857 seconds.\n",
      "648518346344542985\n",
      "Segment 648518346344542985 vertex labels regenerated in: 0.6617031097412109 seconds.\n",
      "648518346345676763\n",
      "Segment 648518346345676763 vertex labels regenerated in: 0.8921020030975342 seconds.\n",
      "648518346346296554\n",
      "Segment 648518346346296554 vertex labels regenerated in: 0.780472993850708 seconds.\n",
      "648518346346301576\n",
      "Segment 648518346346301576 vertex labels regenerated in: 0.7609968185424805 seconds.\n",
      "648518346346312285\n",
      "Segment 648518346346312285 vertex labels regenerated in: 0.896481990814209 seconds.\n",
      "648518346346593203\n",
      "Segment 648518346346593203 vertex labels regenerated in: 0.8100054264068604 seconds.\n",
      "648518346346998356\n",
      "Segment 648518346346998356 vertex labels regenerated in: 0.5639722347259521 seconds.\n",
      "648518346348106483\n",
      "Segment 648518346348106483 vertex labels regenerated in: 0.860694408416748 seconds.\n",
      "648518346348117070\n",
      "Segment 648518346348117070 vertex labels regenerated in: 0.6941723823547363 seconds.\n",
      "648518346348124891\n",
      "Segment 648518346348124891 vertex labels regenerated in: 0.6700544357299805 seconds.\n",
      "648518346348192004\n",
      "Segment 648518346348192004 vertex labels regenerated in: 0.7851555347442627 seconds.\n",
      "648518346348209332\n",
      "Segment 648518346348209332 vertex labels regenerated in: 0.7818365097045898 seconds.\n",
      "648518346348458383\n",
      "Segment 648518346348458383 vertex labels regenerated in: 0.8595032691955566 seconds.\n",
      "648518346348466740\n",
      "Segment 648518346348466740 vertex labels regenerated in: 0.8507900238037109 seconds.\n",
      "648518346349370267\n",
      "Segment 648518346349370267 vertex labels regenerated in: 1.1468939781188965 seconds.\n",
      "648518346349381022\n",
      "Segment 648518346349381022 vertex labels regenerated in: 1.1727948188781738 seconds.\n",
      "648518346349477155\n",
      "Segment 648518346349477155 vertex labels regenerated in: 1.4966473579406738 seconds.\n",
      "648518346349501064\n",
      "Segment 648518346349501064 vertex labels regenerated in: 0.9496762752532959 seconds.\n",
      "648518346349508464\n",
      "Segment 648518346349508464 vertex labels regenerated in: 1.0856337547302246 seconds.\n",
      "648518346349509479\n",
      "Segment 648518346349509479 vertex labels regenerated in: 1.0373332500457764 seconds.\n",
      "648518346349509594\n",
      "Segment 648518346349509594 vertex labels regenerated in: 0.7546234130859375 seconds.\n",
      "648518346349509595\n"
     ]
    },
    {
     "ename": "DuplicateError",
     "evalue": "Duplicate entry '3-648518346349509595-0.35-computer_Auto-celiib-2019-06-27 21:21:' for key 'PRIMARY' : To ignore duplicate entries, set skip_duplicates=True in insert.",
     "output_type": "error",
     "traceback": [
      "\u001b[0;31m---------------------------------------------------------------------------\u001b[0m",
      "\u001b[0;31mDuplicateError\u001b[0m                            Traceback (most recent call last)",
      "\u001b[0;32m<ipython-input-6-30731291f93f>\u001b[0m in \u001b[0;36m<module>\u001b[0;34m\u001b[0m\n\u001b[1;32m      1\u001b[0m \u001b[0mstart\u001b[0m \u001b[0;34m=\u001b[0m \u001b[0mtime\u001b[0m\u001b[0;34m.\u001b[0m\u001b[0mtime\u001b[0m\u001b[0;34m(\u001b[0m\u001b[0;34m)\u001b[0m\u001b[0;34m\u001b[0m\u001b[0m\n\u001b[0;32m----> 2\u001b[0;31m \u001b[0mCoarseLabelOrphan\u001b[0m\u001b[0;34m.\u001b[0m\u001b[0mpopulate\u001b[0m\u001b[0;34m(\u001b[0m\u001b[0mreserve_jobs\u001b[0m\u001b[0;34m=\u001b[0m\u001b[0;32mTrue\u001b[0m\u001b[0;34m)\u001b[0m\u001b[0;34m\u001b[0m\u001b[0m\n\u001b[0m\u001b[1;32m      3\u001b[0m \u001b[0mprint\u001b[0m\u001b[0;34m(\u001b[0m\u001b[0mtime\u001b[0m\u001b[0;34m.\u001b[0m\u001b[0mtime\u001b[0m\u001b[0;34m(\u001b[0m\u001b[0;34m)\u001b[0m \u001b[0;34m-\u001b[0m \u001b[0mstart\u001b[0m\u001b[0;34m)\u001b[0m\u001b[0;34m\u001b[0m\u001b[0m\n",
      "\u001b[0;32m/usr/local/lib/python3.6/dist-packages/datajoint/autopopulate.py\u001b[0m in \u001b[0;36mpopulate\u001b[0;34m(self, suppress_errors, return_exception_objects, reserve_jobs, order, limit, max_calls, display_progress, *restrictions)\u001b[0m\n\u001b[1;32m    152\u001b[0m                     \u001b[0mself\u001b[0m\u001b[0;34m.\u001b[0m\u001b[0m_allow_insert\u001b[0m \u001b[0;34m=\u001b[0m \u001b[0;32mTrue\u001b[0m\u001b[0;34m\u001b[0m\u001b[0m\n\u001b[1;32m    153\u001b[0m                     \u001b[0;32mtry\u001b[0m\u001b[0;34m:\u001b[0m\u001b[0;34m\u001b[0m\u001b[0m\n\u001b[0;32m--> 154\u001b[0;31m                         \u001b[0mmake\u001b[0m\u001b[0;34m(\u001b[0m\u001b[0mdict\u001b[0m\u001b[0;34m(\u001b[0m\u001b[0mkey\u001b[0m\u001b[0;34m)\u001b[0m\u001b[0;34m)\u001b[0m\u001b[0;34m\u001b[0m\u001b[0m\n\u001b[0m\u001b[1;32m    155\u001b[0m                     \u001b[0;32mexcept\u001b[0m \u001b[0;34m(\u001b[0m\u001b[0mKeyboardInterrupt\u001b[0m\u001b[0;34m,\u001b[0m \u001b[0mSystemExit\u001b[0m\u001b[0;34m,\u001b[0m \u001b[0mException\u001b[0m\u001b[0;34m)\u001b[0m \u001b[0;32mas\u001b[0m \u001b[0merror\u001b[0m\u001b[0;34m:\u001b[0m\u001b[0;34m\u001b[0m\u001b[0m\n\u001b[1;32m    156\u001b[0m                         \u001b[0;32mtry\u001b[0m\u001b[0;34m:\u001b[0m\u001b[0;34m\u001b[0m\u001b[0m\n",
      "\u001b[0;32m<ipython-input-5-ae2acaf9c19e>\u001b[0m in \u001b[0;36mmake\u001b[0;34m(self, key)\u001b[0m\n\u001b[1;32m     36\u001b[0m         self.insert1(dict(key,\n\u001b[1;32m     37\u001b[0m                           \u001b[0mvertices\u001b[0m\u001b[0;34m=\u001b[0m\u001b[0mcorrected_vertex_labels\u001b[0m\u001b[0;34m,\u001b[0m\u001b[0;34m\u001b[0m\u001b[0m\n\u001b[0;32m---> 38\u001b[0;31m                           triangles=labels['triangles']))\n\u001b[0m\u001b[1;32m     39\u001b[0m \u001b[0;34m\u001b[0m\u001b[0m\n\u001b[1;32m     40\u001b[0m         \u001b[0mprint\u001b[0m\u001b[0;34m(\u001b[0m\u001b[0;34m\"Segment {} vertex labels regenerated in: {} seconds.\"\u001b[0m\u001b[0;34m.\u001b[0m\u001b[0mformat\u001b[0m\u001b[0;34m(\u001b[0m\u001b[0mkey\u001b[0m\u001b[0;34m[\u001b[0m\u001b[0;34m'segment_id'\u001b[0m\u001b[0;34m]\u001b[0m\u001b[0;34m,\u001b[0m \u001b[0mtime\u001b[0m\u001b[0;34m.\u001b[0m\u001b[0mtime\u001b[0m\u001b[0;34m(\u001b[0m\u001b[0;34m)\u001b[0m \u001b[0;34m-\u001b[0m \u001b[0mstart\u001b[0m\u001b[0;34m)\u001b[0m\u001b[0;34m)\u001b[0m\u001b[0;34m\u001b[0m\u001b[0m\n",
      "\u001b[0;32m/usr/local/lib/python3.6/dist-packages/datajoint/table.py\u001b[0m in \u001b[0;36minsert1\u001b[0;34m(self, row, **kwargs)\u001b[0m\n\u001b[1;32m    146\u001b[0m         \u001b[0mFor\u001b[0m \u001b[0mkwargs\u001b[0m\u001b[0;34m,\u001b[0m \u001b[0msee\u001b[0m \u001b[0minsert\u001b[0m\u001b[0;34m(\u001b[0m\u001b[0;34m)\u001b[0m\u001b[0;34m\u001b[0m\u001b[0m\n\u001b[1;32m    147\u001b[0m         \"\"\"\n\u001b[0;32m--> 148\u001b[0;31m         \u001b[0mself\u001b[0m\u001b[0;34m.\u001b[0m\u001b[0minsert\u001b[0m\u001b[0;34m(\u001b[0m\u001b[0;34m(\u001b[0m\u001b[0mrow\u001b[0m\u001b[0;34m,\u001b[0m\u001b[0;34m)\u001b[0m\u001b[0;34m,\u001b[0m \u001b[0;34m**\u001b[0m\u001b[0mkwargs\u001b[0m\u001b[0;34m)\u001b[0m\u001b[0;34m\u001b[0m\u001b[0m\n\u001b[0m\u001b[1;32m    149\u001b[0m \u001b[0;34m\u001b[0m\u001b[0m\n\u001b[1;32m    150\u001b[0m     def insert(self, rows, replace=False, skip_duplicates=False, ignore_extra_fields=False, ignore_errors=False,\n",
      "\u001b[0;32m/usr/local/lib/python3.6/dist-packages/datajoint/table.py\u001b[0m in \u001b[0;36minsert\u001b[0;34m(self, rows, replace, skip_duplicates, ignore_extra_fields, ignore_errors, allow_direct_insert)\u001b[0m\n\u001b[1;32m    309\u001b[0m                     raise DuplicateError(\n\u001b[1;32m    310\u001b[0m                         \u001b[0;34m'{} : To ignore duplicate entries, set skip_duplicates=True in insert.'\u001b[0m\u001b[0;34m.\u001b[0m\u001b[0mformat\u001b[0m\u001b[0;34m(\u001b[0m\u001b[0merr\u001b[0m\u001b[0;34m.\u001b[0m\u001b[0margs\u001b[0m\u001b[0;34m[\u001b[0m\u001b[0;36m1\u001b[0m\u001b[0;34m]\u001b[0m\u001b[0;34m)\u001b[0m\u001b[0;34m\u001b[0m\u001b[0m\n\u001b[0;32m--> 311\u001b[0;31m                     ) from None\n\u001b[0m\u001b[1;32m    312\u001b[0m                 \u001b[0;32melse\u001b[0m\u001b[0;34m:\u001b[0m\u001b[0;34m\u001b[0m\u001b[0m\n\u001b[1;32m    313\u001b[0m                     \u001b[0;32mraise\u001b[0m\u001b[0;34m\u001b[0m\u001b[0m\n",
      "\u001b[0;31mDuplicateError\u001b[0m: Duplicate entry '3-648518346349509595-0.35-computer_Auto-celiib-2019-06-27 21:21:' for key 'PRIMARY' : To ignore duplicate entries, set skip_duplicates=True in insert."
     ]
    }
   ],
   "source": [
    "start = time.time()\n",
    "CoarseLabelOrphan.populate(reserve_jobs=True)\n",
    "print(time.time() - start)"
   ]
  },
  {
   "cell_type": "code",
   "execution_count": null,
   "metadata": {},
   "outputs": [],
   "source": [
    "(schema.jobs & \"table_name='__coarse_label_orphan'\").delete()"
   ]
  },
  {
   "cell_type": "code",
   "execution_count": null,
   "metadata": {},
   "outputs": [],
   "source": [
    "ta3p100.CoarseLabelOrphan()"
   ]
  },
  {
   "cell_type": "code",
   "execution_count": null,
   "metadata": {},
   "outputs": [],
   "source": [
    "ta3p100.SegmentExclude()"
   ]
  },
  {
   "cell_type": "code",
   "execution_count": null,
   "metadata": {},
   "outputs": [],
   "source": []
  }
 ],
 "metadata": {
  "kernelspec": {
   "display_name": "Python 3",
   "language": "python",
   "name": "python3"
  },
  "language_info": {
   "codemirror_mode": {
    "name": "ipython",
    "version": 3
   },
   "file_extension": ".py",
   "mimetype": "text/x-python",
   "name": "python",
   "nbconvert_exporter": "python",
   "pygments_lexer": "ipython3",
   "version": "3.6.5"
  }
 },
 "nbformat": 4,
 "nbformat_minor": 2
}
