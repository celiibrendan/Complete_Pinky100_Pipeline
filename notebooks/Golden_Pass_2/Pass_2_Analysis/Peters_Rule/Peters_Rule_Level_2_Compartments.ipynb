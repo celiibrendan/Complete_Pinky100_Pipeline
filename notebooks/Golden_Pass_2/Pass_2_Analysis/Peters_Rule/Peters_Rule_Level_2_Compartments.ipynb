{
 "cells": [
  {
   "cell_type": "code",
   "execution_count": 1,
   "metadata": {},
   "outputs": [
    {
     "data": {
      "text/plain": [
       "\"\\nPurpose: To check the level 2 version of Peters rule\\nThis version says that if axon projecting into region R has certain proportion of contacts\\nThe number of synapses should be equal to that proportion of contacts\\n\\nStrategy (for comparing compartments): \\nPresteps: \\na) Get the contact conversion rate of the whole volume for all dendrite, basal, apical, oblique\\nb) Get the contact conversion for dendrites\\n\\n1) For each neurite, get a distribution its contacts and the distribution of its synapses\\n\\nFor the weighted version:\\n2) From the contacts compute a an expected synapses (based on either the contact conversion for all dendrites or individual group conversion)\\n3) take the difference\\n4) Represent this as a distribution/vector\\n5) Combine all of them and see if deviates from Peter's rule\\n\\nFor the unweight version:\\n2) Normalize the number of contacts and the number of synapses\\n3) Take the difference\\n4) Represent this as a distribution/vector\\n5) Combine all of them and see if deviates from Peter's rule\\n\\n\\n\\n\\nThings to consider: \\n1) Exclude axon and soma synapsing\\n\""
      ]
     },
     "execution_count": 1,
     "metadata": {},
     "output_type": "execute_result"
    }
   ],
   "source": [
    "\"\"\"\n",
    "Purpose: To check the level 2 version of Peters rule\n",
    "This version says that if axon projecting into region R has certain proportion of contacts\n",
    "The number of synapses should be equal to that proportion of contacts\n",
    "\n",
    "Strategy (for comparing compartments): \n",
    "Presteps: \n",
    "a) Get the contact conversion rate of the whole volume for all dendrite, basal, apical, oblique\n",
    "b) Get the contact conversion for dendrites\n",
    "\n",
    "1) For each neurite, get a distribution its contacts and the distribution of its synapses\n",
    "\n",
    "For the weighted version:\n",
    "2) From the contacts compute a an expected synapses (based on either the contact conversion for all dendrites or individual group conversion)\n",
    "3) take the difference\n",
    "4) Represent this as a distribution/vector\n",
    "5) Combine all of them and see if deviates from Peter's rule\n",
    "\n",
    "For the unweight version:\n",
    "2) Normalize the number of contacts and the number of synapses\n",
    "3) Take the difference\n",
    "4) Represent this as a distribution/vector\n",
    "5) Combine all of them and see if deviates from Peter's rule\n",
    "\n",
    "\n",
    "\n",
    "\n",
    "Things to consider: \n",
    "1) Exclude axon and soma synapsing\n",
    "\"\"\""
   ]
  },
  {
   "cell_type": "code",
   "execution_count": 18,
   "metadata": {},
   "outputs": [],
   "source": [
    "compartment_names = [\"Apical\",\"Basal\",\"Oblique\",\"Dendrite\"]\n",
    "def print_stats(groups,stat_title,stat_values):\n",
    "    for gr,st_val in zip(groups,stat_values):\n",
    "        print(f\"{gr} {stat_title} = {st_val}\")"
   ]
  },
  {
   "cell_type": "code",
   "execution_count": 3,
   "metadata": {},
   "outputs": [
    {
     "name": "stdout",
     "output_type": "stream",
     "text": [
      "Connecting celiib@10.28.0.34:3306\n"
     ]
    }
   ],
   "source": [
    "import datajoint as dj\n",
    "import numpy as np\n",
    "import time\n",
    "\n",
    "import pandas as pd\n",
    "import seaborn as sns\n",
    "sns.set() #sets the asethetics parameters in what set\n",
    "\n",
    "#setting the address and the username\n",
    "dj.config['database.host'] = '10.28.0.34'\n",
    "dj.config['database.user'] = 'celiib'\n",
    "dj.config['database.password'] = 'newceliipass'\n",
    "dj.config['safemode']=True\n",
    "dj.config[\"display.limit\"] = 20\n",
    "\n",
    "schema = dj.schema('microns_pinky')\n",
    "pinky = dj.create_virtual_module('pinky', 'microns_pinky')\n",
    "pinky_fc = dj.create_virtual_module(\"pinky_fc\",\"microns_pinky_fc\")"
   ]
  },
  {
   "cell_type": "code",
   "execution_count": 4,
   "metadata": {},
   "outputs": [],
   "source": [
    "# For each Neurite get the number of synapses and it's contact length\n",
    "neurite_synapses_greater_6 = (pinky.NeuriteTargetsRevised.proj(\"apical_num\",\"basal_num\",\"oblique_num\",\"dendrite_num\",\"total\")\n",
    "                                                  & \"apical_num + basal_num + oblique_num + dendrite_num>6\")\n",
    "neurite_contacts_greater_6 = pinky_fc.NeuriteContact.proj(\"apical_postsyn_length\",\n",
    "                        \"basal_postsyn_length\",\n",
    "                       \"oblique_postsyn_length\",\n",
    "                        \"dendrites_postsyn_length\"\n",
    "                       ) & neurite_synapses_greater_6.proj()\n",
    "\n",
    "neurite_synapses_greater_6 = neurite_synapses_greater_6 & neurite_contacts_greater_6.proj()"
   ]
  },
  {
   "cell_type": "code",
   "execution_count": 5,
   "metadata": {},
   "outputs": [],
   "source": [
    "# neurite_contacts_greater_6 = pinky_fc.NeuriteContact() & neurite_synapses_greater_6.proj()"
   ]
  },
  {
   "cell_type": "markdown",
   "metadata": {},
   "source": [
    "# Try to get the total contact conversion in the volume overall and for these neurons"
   ]
  },
  {
   "cell_type": "code",
   "execution_count": 6,
   "metadata": {},
   "outputs": [
    {
     "name": "stdout",
     "output_type": "stream",
     "text": [
      "Apical,Basal,Oblique,Dendrite synapse number = [ 22469. 100509.  16002.  57261.]\n",
      "Apical,Basal,Oblique,Dendrite contacts number = [3.64016780e+09 2.21621565e+10 2.59160794e+09 4.42717138e+09]\n",
      "total_contact_conversion = 0.000006\n",
      "Apical contact conversion = 0.000006\n",
      "Basal contact conversion = 0.000005\n",
      "Oblique contact conversion = 0.000006\n",
      "Dendrite contact conversion = 0.000013\n"
     ]
    }
   ],
   "source": [
    "#find the total conversions\n",
    "total_neurite_synapses = pinky.NeuriteTargetsRevised.proj(\"apical_num\",\"basal_num\",\"oblique_num\",\"dendrite_num\")\n",
    "total_neurite_contacts = pinky_fc.NeuriteContact.proj(\"apical_postsyn_length\",\n",
    "                        \"basal_postsyn_length\",\n",
    "                       \"oblique_postsyn_length\",\n",
    "                        \"dendrites_postsyn_length\"\n",
    "                       )\n",
    "\n",
    "#fetch the total apical, basal,dendrite and oblique synapse number\n",
    "total_synapses = dj.U(\"segmentation\").aggr(pinky.NeuriteTargetsRevised,\n",
    "                          apical_num=\"SUM(apical_num)\",\n",
    "                          basal_num=\"SUM(basal_num)\",\n",
    "                          oblique_num=\"SUM(oblique_num)\",\n",
    "                          dendrite_num=\"SUM(dendrite_num)\")\n",
    "total_synapse_count = total_synapses.fetch()\n",
    "total_synapse_count = np.array(list(total_synapse_count[0]))[1:]\n",
    "print(\"Apical,Basal,Oblique,Dendrite synapse number = \" + str(total_synapse_count))\n",
    "\n",
    "#fetch the total apical, basal,dendrite and oblique contact length\n",
    "total_contacts = dj.U(\"segmentation\").aggr(pinky_fc.NeuriteContact,\n",
    "                          apical_num=\"SUM(apical_postsyn_length)\",\n",
    "                          basal_num=\"SUM(basal_postsyn_length)\",\n",
    "                          oblique_num=\"SUM(oblique_postsyn_length)\",\n",
    "                          dendrite_num=\"SUM(dendrites_postsyn_length)\")\n",
    "\n",
    "total_contacts_count = total_contacts.fetch()\n",
    "total_contacts_count = np.array(list(total_contacts_count[0]))[1:]\n",
    "total_contacts_count = total_contacts_count.astype(\"float64\")\n",
    "print(\"Apical,Basal,Oblique,Dendrite contacts number = \" + str(total_contacts_count))\n",
    "\n",
    "#get the overall contact conversion and the contact conversion for compartments\n",
    "total_contact_conversion = np.sum(total_synapse_count)/np.sum(total_contacts_count)\n",
    "print(\"total_contact_conversion = %f\" % (total_contact_conversion))\n",
    "compartment_names = [\"Apical\",\"Basal\",\"Oblique\",\"Dendrite\"]\n",
    "for i,comp_name in enumerate(compartment_names):\n",
    "    print(f\"{comp_name} contact conversion = %f\" % (total_synapse_count[i]/total_contacts_count[i]))"
   ]
  },
  {
   "cell_type": "code",
   "execution_count": 7,
   "metadata": {},
   "outputs": [
    {
     "name": "stdout",
     "output_type": "stream",
     "text": [
      "Apical,Basal,Oblique,Dendrite synapse number = [11849. 55879.  9074. 30515.]\n",
      "Apical,Basal,Oblique,Dendrite contacts number = [1.68534134e+09 1.06383969e+10 1.27190494e+09 2.12629375e+09]\n",
      "total_contact_conversion = 0.000007\n",
      "Apical contact conversion = 0.000007\n",
      "Basal contact conversion = 0.000005\n",
      "Oblique contact conversion = 0.000007\n",
      "Dendrite contact conversion = 0.000014\n"
     ]
    }
   ],
   "source": [
    "#for conversions on only those with greater than 6 synapses\n",
    "#find the total conversions\n",
    "\n",
    "#fetch the total apical, basal,dendrite and oblique synapse number\n",
    "total_synapses = dj.U(\"segmentation\").aggr(pinky.NeuriteTargetsRevised & neurite_contacts_greater_6.proj(),\n",
    "                          apical_num=\"SUM(apical_num)\",\n",
    "                          basal_num=\"SUM(basal_num)\",\n",
    "                          oblique_num=\"SUM(oblique_num)\",\n",
    "                          dendrite_num=\"SUM(dendrite_num)\")\n",
    "total_synapse_count = total_synapses.fetch()\n",
    "total_synapse_count = np.array(list(total_synapse_count[0]))[1:]\n",
    "print(\"Apical,Basal,Oblique,Dendrite synapse number = \" + str(total_synapse_count))\n",
    "\n",
    "#fetch the total apical, basal,dendrite and oblique synapse number\n",
    "total_contacts = dj.U(\"segmentation\").aggr(pinky_fc.NeuriteContact  & neurite_contacts_greater_6.proj(),\n",
    "                          apical_num=\"SUM(apical_postsyn_length)\",\n",
    "                          basal_num=\"SUM(basal_postsyn_length)\",\n",
    "                          oblique_num=\"SUM(oblique_postsyn_length)\",\n",
    "                          dendrite_num=\"SUM(dendrites_postsyn_length)\")\n",
    "\n",
    "total_contacts_count = total_contacts.fetch()\n",
    "total_contacts_count = np.array(list(total_contacts_count[0]))[1:]\n",
    "total_contacts_count = total_contacts_count.astype(\"float64\")\n",
    "print(\"Apical,Basal,Oblique,Dendrite contacts number = \" + str(total_contacts_count))\n",
    "\n",
    "#get the overall contact conversion and the contact conversion for compartments\n",
    "total_contact_conversion = np.sum(total_synapse_count)/np.sum(total_contacts_count)\n",
    "print(\"total_contact_conversion = %f\" % (total_contact_conversion))\n",
    "\n",
    "compartment_contact_conversion = []\n",
    "for i,comp_name in enumerate(compartment_names):\n",
    "    compartment_contact_conversion.append(total_synapse_count[i]/total_contacts_count[i])\n",
    "    print(f\"{comp_name} contact conversion = %f\" % (total_synapse_count[i]/total_contacts_count[i]))"
   ]
  },
  {
   "cell_type": "markdown",
   "metadata": {},
   "source": [
    "# Conclusion: Conversions are about the same but have 2-3 higher conversion on dendrites than others"
   ]
  },
  {
   "cell_type": "code",
   "execution_count": 8,
   "metadata": {},
   "outputs": [
    {
     "data": {
      "text/plain": [
       "array([[ 1.,  5.,  1.,  1.],\n",
       "       [ 0.,  9.,  0.,  1.],\n",
       "       [ 0.,  5.,  0.,  2.],\n",
       "       ...,\n",
       "       [ 0.,  6.,  2.,  0.],\n",
       "       [ 2.,  1.,  4.,  0.],\n",
       "       [ 0., 10.,  1.,  1.]])"
      ]
     },
     "execution_count": 8,
     "metadata": {},
     "output_type": "execute_result"
    }
   ],
   "source": [
    "\n",
    "contact_data = np.asarray(neurite_contacts_greater_6.fetch(\"apical_postsyn_length\",\n",
    "                                                          \"basal_postsyn_length\",\n",
    "                                                           \"oblique_postsyn_length\",\n",
    "                                                           \"dendrites_postsyn_length\"\n",
    "                                                           )).T\n",
    "contact_data\n",
    "\n",
    "synapse_data = np.asarray(neurite_synapses_greater_6.fetch(\"apical_num\",\n",
    "                                            \"basal_num\",\n",
    "                                            \"oblique_num\",\n",
    "                                           \"dendrite_num\")).T\n",
    "synapse_data\n",
    "\n",
    "\n"
   ]
  },
  {
   "cell_type": "markdown",
   "metadata": {},
   "source": [
    "# Using dendritic specific conversion rate"
   ]
  },
  {
   "cell_type": "code",
   "execution_count": 9,
   "metadata": {},
   "outputs": [
    {
     "data": {
      "text/plain": [
       "(array([], dtype=int64),)"
      ]
     },
     "execution_count": 9,
     "metadata": {},
     "output_type": "execute_result"
    }
   ],
   "source": [
    "synapse_sum = np.sum(synapse_data,axis=1)\n",
    "np.where(synapse_sum<=0)"
   ]
  },
  {
   "cell_type": "code",
   "execution_count": 10,
   "metadata": {},
   "outputs": [
    {
     "data": {
      "text/plain": [
       "' Using a dendrite specific / non-normalized \\nmethod of predicting the number of synapses from the contacts\\n'"
      ]
     },
     "execution_count": 10,
     "metadata": {},
     "output_type": "execute_result"
    }
   ],
   "source": [
    "\"\"\" Using a dendrite specific / non-normalized \n",
    "method of predicting the number of synapses from the contacts\n",
    "\"\"\""
   ]
  },
  {
   "cell_type": "code",
   "execution_count": 11,
   "metadata": {},
   "outputs": [
    {
     "data": {
      "text/plain": [
       "array([[-0.03620701, -1.30410291, -0.32841674, -0.09004384],\n",
       "       [ 0.03966678, -4.67808501,  0.63235953,  2.17326508],\n",
       "       [ 0.        , -1.8263719 ,  0.2269811 , -1.15692073],\n",
       "       ...,\n",
       "       [ 0.18574204,  0.01933781, -1.32032658,  1.64726663],\n",
       "       [-0.6677672 ,  4.25360136, -3.41713028,  1.3690387 ],\n",
       "       [ 0.83368427, -0.52386767,  0.78721221,  1.5079262 ]])"
      ]
     },
     "execution_count": 11,
     "metadata": {},
     "output_type": "execute_result"
    }
   ],
   "source": [
    "#predict the number of synapses based on the dendrite specific conversion rate\n",
    "synapse_predictions = contact_data*np.array(compartment_contact_conversion)\n",
    "\n",
    "#find the differences between the prediction and the actual\n",
    "synapse_prediction_error = synapse_predictions - synapse_data\n",
    "synapse_prediction_error"
   ]
  },
  {
   "cell_type": "code",
   "execution_count": 12,
   "metadata": {},
   "outputs": [
    {
     "name": "stdout",
     "output_type": "stream",
     "text": [
      "[-0. -0.  0. -0.]\n"
     ]
    }
   ],
   "source": [
    "\"\"\"---------------- Computes the overall vector ---------------\"\"\"\n",
    "\n",
    "sum_of_errors = np.sum(synapse_prediction_error,axis=0)\n",
    "#np.set_printoptions(precision=15)\n",
    "np.set_printoptions(suppress=True)\n",
    "print(sum_of_errors)"
   ]
  },
  {
   "cell_type": "markdown",
   "metadata": {},
   "source": [
    "# Using NON-dendritic conversion rate"
   ]
  },
  {
   "cell_type": "code",
   "execution_count": 13,
   "metadata": {},
   "outputs": [
    {
     "data": {
      "text/plain": [
       "array([[-0.064266  , -0.19702962, -0.3574333 , -0.56719444],\n",
       "       [ 0.03851195, -3.3834936 ,  0.60503768,  0.50931092],\n",
       "       [ 0.        , -0.87573968,  0.21717411, -1.59900332],\n",
       "       ...,\n",
       "       [ 0.18033451,  1.82237721, -1.34969268,  0.78349506],\n",
       "       [-0.70655261,  5.82727118, -3.44231387,  0.65116056],\n",
       "       [ 0.80941315,  2.31462396,  0.70999356,  0.19285351]])"
      ]
     },
     "execution_count": 13,
     "metadata": {},
     "output_type": "execute_result"
    }
   ],
   "source": [
    "\"\"\" Using a NON-dendrite specific / non-normalized \n",
    "method of predicting the number of synapses from the contacts\n",
    "\"\"\"\n",
    "#predict the number of synapses based on the dendrite specific conversion rate\n",
    "synapse_predictions_total = contact_data*np.array(total_contact_conversion)\n",
    "\n",
    "#find the differences between the prediction and the actual\n",
    "synapse_prediction_error_total = synapse_predictions_total - synapse_data\n",
    "synapse_prediction_error_total"
   ]
  },
  {
   "cell_type": "code",
   "execution_count": 14,
   "metadata": {},
   "outputs": [
    {
     "name": "stdout",
     "output_type": "stream",
     "text": [
      "Error Synapse Vector [Apical,Basal,Oblique,Dendrite]\n",
      "[-0.03166522  1.53644761 -0.03598798 -1.4687944 ]\n"
     ]
    }
   ],
   "source": [
    "\"\"\"   ---------------- Computes the overall vector --------------- \"\"\"\n",
    "\n",
    "sum_of_errors_total = np.sum(synapse_prediction_error_total,axis=0)\n",
    "#np.set_printoptions(precision=15)\n",
    "np.set_printoptions(suppress=True)\n",
    "print(\"Error Synapse Vector [Apical,Basal,Oblique,Dendrite]\")\n",
    "print(sum_of_errors_total/len(contact_data))"
   ]
  },
  {
   "cell_type": "markdown",
   "metadata": {},
   "source": [
    "# Normalized Method"
   ]
  },
  {
   "cell_type": "code",
   "execution_count": 24,
   "metadata": {},
   "outputs": [],
   "source": [
    "\"\"\" Using a normalized method of predicting the number of synapses from the contacts\n",
    "\"\"\"\n",
    "\n",
    "#need to rerun: \n",
    "\n",
    "contact_data_normalized = contact_data/np.sum(contact_data,1).reshape(-1,1)\n",
    "synapse_data_normalized = synapse_data/np.sum(synapse_data,1).reshape(-1,1)\n",
    "#find the differences between the prediction and the actual\n",
    "synapse_prediction_error_normalized = synapse_data_normalized - contact_data_normalized \n",
    "\n"
   ]
  },
  {
   "cell_type": "code",
   "execution_count": null,
   "metadata": {},
   "outputs": [],
   "source": [
    "'''\n",
    "mean and standard deviation\n",
    "histogram plot (looking for bell shaped curve)\n",
    "QQplots (background):\n",
    "p-value test: D'Agostinos K^2 test (why use): because it quantifies the\n",
    "a. Skew: How much distribution is pushed left or right (measure of asymmetry\n",
    "b. Kurtosis: How much of distribution is in the tail\n",
    " \n",
    "'''"
   ]
  },
  {
   "cell_type": "code",
   "execution_count": 25,
   "metadata": {},
   "outputs": [
    {
     "name": "stdout",
     "output_type": "stream",
     "text": [
      "Apical Mean of error = -0.010878721872964821\n",
      "Basal Mean of error = 0.16076173787626674\n",
      "Oblique Mean of error = -0.003152219595169679\n",
      "Dendrite Mean of error = -0.14673079640813225\n",
      "---------------------\n",
      "Apical Std deviation of error = 0.11631801250148961\n",
      "Basal Std deviation of error = 0.1917213747914263\n",
      "Oblique Std deviation of error = 0.09744648967402739\n",
      "Dendrite Std deviation of error = 0.18109855152867368\n"
     ]
    }
   ],
   "source": [
    "#check mean and standard deviation for each\n",
    "mean_errors = np.mean(synapse_prediction_error_normalized,axis=0)\n",
    "print_stats(compartment_names,\"Mean of error\",mean_errors)\n",
    "print(\"---------------------\")\n",
    "std_errors = np.std(synapse_prediction_error_normalized,axis=0)\n",
    "print_stats(compartment_names,\"Std deviation of error\",std_errors)"
   ]
  },
  {
   "cell_type": "code",
   "execution_count": 37,
   "metadata": {},
   "outputs": [
    {
     "data": {
      "image/png": "[encoded data removed]",
      "text/plain": [
       "<Figure size 1080x1080 with 4 Axes>"
      ]
     },
     "metadata": {
      "needs_background": "light"
     },
     "output_type": "display_data"
    }
   ],
   "source": [
    "#get histograms of all the marginals\n",
    "from matplotlib import pyplot as plt\n",
    "\n",
    "# Creates two subplots and unpacks the output array immediately\n",
    "f, axes = plt.subplots(4, 1, sharey=True,figsize=(15,15))\n",
    "\n",
    "for ax,column_data,comp_name in zip(axes,synapse_prediction_error_normalized.T,compartment_names):\n",
    "    ax.hist(column_data)\n",
    "    ax.set_title(comp_name + \" distr\")\n",
    "    ax.set_xlim([-0.8,0.8])"
   ]
  },
  {
   "cell_type": "code",
   "execution_count": null,
   "metadata": {},
   "outputs": [],
   "source": [
    "#check how well each of them fit a gaussian distribution"
   ]
  },
  {
   "cell_type": "code",
   "execution_count": null,
   "metadata": {},
   "outputs": [],
   "source": []
  },
  {
   "cell_type": "code",
   "execution_count": 48,
   "metadata": {},
   "outputs": [
    {
     "data": {
      "image/png": "[encoded data removed]",
      "text/plain": [
       "<Figure size 432x288 with 1 Axes>"
      ]
     },
     "metadata": {
      "needs_background": "light"
     },
     "output_type": "display_data"
    },
    {
     "data": {
      "image/png": "[encoded data removed]",
      "text/plain": [
       "<Figure size 432x288 with 1 Axes>"
      ]
     },
     "metadata": {
      "needs_background": "light"
     },
     "output_type": "display_data"
    },
    {
     "data": {
      "image/png": "[encoded data removed]",
      "text/plain": [
       "<Figure size 432x288 with 1 Axes>"
      ]
     },
     "metadata": {
      "needs_background": "light"
     },
     "output_type": "display_data"
    },
    {
     "data": {
      "image/png": "[encoded data removed]",
      "text/plain": [
       "<Figure size 432x288 with 1 Axes>"
      ]
     },
     "metadata": {
      "needs_background": "light"
     },
     "output_type": "display_data"
    }
   ],
   "source": [
    "from statsmodels.graphics.gofplots import qqplot\n",
    "for ax,column_data,comp_name in zip(axes,synapse_prediction_error_normalized.T,compartment_names):\n",
    "    qqplot(column_data, line='s',fit=False)\n",
    "    pyplot.title(str(comp_name) + \" QQplot\")\n",
    "    plt.show()\n"
   ]
  },
  {
   "cell_type": "code",
   "execution_count": 50,
   "metadata": {},
   "outputs": [
    {
     "name": "stdout",
     "output_type": "stream",
     "text": [
      "Statistics=0.102, p=0.950\n",
      "Sample looks Gaussian (fail to reject H0)\n"
     ]
    }
   ],
   "source": [
    "# D'Agostino and Pearson's Test (demonstrating that it works)\n",
    "from numpy.random import seed\n",
    "from numpy.random import randn\n",
    "from scipy.stats import normaltest\n",
    "# seed the random number generator\n",
    "seed(1)\n",
    "# generate univariate observations\n",
    "data = 5 * randn(100) + 50\n",
    "# normality test\n",
    "stat, p = normaltest(data)\n",
    "print('Statistics=%.3f, p=%.3f' % (stat, p))\n",
    "# interpret\n",
    "alpha = 0.05\n",
    "if p > alpha:\n",
    "\tprint('Sample looks Gaussian (fail to reject H0)')\n",
    "else:\n",
    "\tprint('Sample does not look Gaussian (reject H0)')"
   ]
  },
  {
   "cell_type": "code",
   "execution_count": 51,
   "metadata": {},
   "outputs": [
    {
     "name": "stdout",
     "output_type": "stream",
     "text": [
      "Apical Statistics=3168.782, p=0.0000000\n",
      "     Sample does not look Gaussian (reject H0)\n",
      "Basal Statistics=107.053, p=0.0000000\n",
      "     Sample does not look Gaussian (reject H0)\n",
      "Oblique Statistics=2008.667, p=0.0000000\n",
      "     Sample does not look Gaussian (reject H0)\n",
      "Dendrite Statistics=793.197, p=0.0000000\n",
      "     Sample does not look Gaussian (reject H0)\n"
     ]
    }
   ],
   "source": [
    "from scipy.stats import normaltest\n",
    "\n",
    "\"\"\"\n",
    "Statistic returned is \n",
    "s^2 + k^2, where s is the z-score returned by skewtest and \n",
    "k is the z-score returned by kurtosistest\n",
    "\"\"\"\n",
    "\n",
    "from statsmodels.graphics.gofplots import qqplot\n",
    "for column_data,comp_name in zip(synapse_prediction_error_normalized.T,compartment_names):\n",
    "    stat, p = normaltest(column_data)\n",
    "    print(comp_name + ' Statistics=%.3f, p=%.7f' % (stat, p))\n",
    "    # interpret\n",
    "    alpha = 0.05\n",
    "    if p > alpha:\n",
    "        print('     Sample looks Gaussian (fail to reject H0)')\n",
    "    else:\n",
    "        print('     Sample does not look Gaussian (reject H0)')\n"
   ]
  },
  {
   "cell_type": "code",
   "execution_count": null,
   "metadata": {},
   "outputs": [],
   "source": [
    "\"K-divergence measurement\""
   ]
  },
  {
   "cell_type": "markdown",
   "metadata": {},
   "source": [
    "# ! Doing the Same Analysis for Neurons of Different Orientation ! #"
   ]
  },
  {
   "cell_type": "code",
   "execution_count": 53,
   "metadata": {},
   "outputs": [
    {
     "name": "stderr",
     "output_type": "stream",
     "text": [
      "/usr/local/lib/python3.6/dist-packages/datajoint/connection.py:150: UserWarning: Mysql server has gone away. Reconnecting to the server.\n",
      "  warnings.warn(\"Mysql server has gone away. Reconnecting to the server.\")\n"
     ]
    }
   ],
   "source": [
    "import numpy as np\n",
    "import matplotlib.pyplot as plt\n",
    "%matplotlib inline\n",
    "import itertools \n",
    "import pandas as pd\n",
    "from tqdm import tqdm\n",
    "import seaborn as sns\n",
    "from scipy import stats\n",
    "import datajoint as dj\n",
    "from collections import defaultdict\n",
    "import pycircstat as pycs\n",
    "from funconnect import morphology, connectomics, ta3, nda\n",
    "from tqdm import tqdm\n",
    "import scipy.stats as stats\n",
    "\n",
    "\n",
    "pinky = dj.create_virtual_module('pinky', 'microns_pinky')\n",
    "pinky_nda = dj.create_virtual_module('pinky_nda', 'microns_pinky_nda')\n",
    "radtune = dj.create_virtual_module('pinky_radtune', 'microns_pinky_radtune')\n",
    "spattune = dj.create_virtual_module('pinky_spattune', 'microns_pinky_spattune')\n",
    "fc = dj.create_virtual_module('pinky_fc', 'microns_pinky_fc')\n"
   ]
  },
  {
   "cell_type": "code",
   "execution_count": 54,
   "metadata": {},
   "outputs": [
    {
     "data": {
      "text/html": [
       "\n",
       "        \n",
       "        <style type=\"text/css\">\n",
       "            .Relation{\n",
       "                border-collapse:collapse;\n",
       "            }\n",
       "            .Relation th{\n",
       "                background: #A0A0A0; color: #ffffff; padding:4px; border:#f0e0e0 1px solid;\n",
       "                font-weight: normal; font-family: monospace; font-size: 100%;\n",
       "            }\n",
       "            .Relation td{\n",
       "                padding:4px; border:#f0e0e0 1px solid; font-size:100%;\n",
       "            }\n",
       "            .Relation tr:nth-child(odd){\n",
       "                background: #ffffff;\n",
       "            }\n",
       "            .Relation tr:nth-child(even){\n",
       "                background: #f3f1ff;\n",
       "            }\n",
       "            /* Tooltip container */\n",
       "            .djtooltip {\n",
       "            }\n",
       "            /* Tooltip text */\n",
       "            .djtooltip .djtooltiptext {\n",
       "                visibility: hidden;\n",
       "                width: 120px;\n",
       "                background-color: black;\n",
       "                color: #fff;\n",
       "                text-align: center;\n",
       "                padding: 5px 0;\n",
       "                border-radius: 6px;\n",
       "                /* Position the tooltip text - see examples below! */\n",
       "                position: absolute;\n",
       "                z-index: 1;\n",
       "            }\n",
       "            #primary {\n",
       "                font-weight: bold;\n",
       "                color: black;\n",
       "            }\n",
       "\n",
       "            #nonprimary {\n",
       "                font-weight: normal;\n",
       "                color: white;\n",
       "            }\n",
       "\n",
       "            /* Show the tooltip text when you mouse over the tooltip container */\n",
       "            .djtooltip:hover .djtooltiptext {\n",
       "                visibility: visible;\n",
       "            }\n",
       "        </style>\n",
       "        \n",
       "        <b>Denotes which synapses are also on Spine Heads, Spines, or Spine Necks</b>\n",
       "            <div style=\"max-height:1000px;max-width:1500px;overflow:auto;\">\n",
       "            <table border=\"1\" class=\"Relation\">\n",
       "                <thead> <tr style=\"text-align: right;\"> <th> <div class=\"djtooltip\">\n",
       "                                <p id=\"primary\">segmentation</p>\n",
       "                                <span class=\"djtooltiptext\">segmentation id</span>\n",
       "                            </div></th><th><div class=\"djtooltip\">\n",
       "                                <p id=\"primary\">synapse_id</p>\n",
       "                                <span class=\"djtooltiptext\">synapse index within the segmentation</span>\n",
       "                            </div></th><th><div class=\"djtooltip\">\n",
       "                                <p id=\"nonprimary\">spine_label</p>\n",
       "                                <span class=\"djtooltiptext\">numeric label of the compartment</span>\n",
       "                            </div> </th> </tr> </thead>\n",
       "                <tbody> <tr> <td>3</td>\n",
       "<td>3</td>\n",
       "<td>13</td></tr><tr><td>3</td>\n",
       "<td>5</td>\n",
       "<td>13</td></tr><tr><td>3</td>\n",
       "<td>22</td>\n",
       "<td>13</td></tr><tr><td>3</td>\n",
       "<td>25</td>\n",
       "<td>13</td></tr><tr><td>3</td>\n",
       "<td>30</td>\n",
       "<td>13</td></tr><tr><td>3</td>\n",
       "<td>41</td>\n",
       "<td>13</td></tr><tr><td>3</td>\n",
       "<td>73</td>\n",
       "<td>13</td></tr><tr><td>3</td>\n",
       "<td>77</td>\n",
       "<td>13</td></tr><tr><td>3</td>\n",
       "<td>106</td>\n",
       "<td>13</td></tr><tr><td>3</td>\n",
       "<td>108</td>\n",
       "<td>13</td></tr><tr><td>3</td>\n",
       "<td>118</td>\n",
       "<td>13</td></tr><tr><td>3</td>\n",
       "<td>125</td>\n",
       "<td>13</td></tr><tr><td>3</td>\n",
       "<td>130</td>\n",
       "<td>13</td></tr><tr><td>3</td>\n",
       "<td>148</td>\n",
       "<td>13</td></tr><tr><td>3</td>\n",
       "<td>149</td>\n",
       "<td>13</td></tr><tr><td>3</td>\n",
       "<td>161</td>\n",
       "<td>13</td></tr><tr><td>3</td>\n",
       "<td>190</td>\n",
       "<td>13</td></tr><tr><td>3</td>\n",
       "<td>206</td>\n",
       "<td>13</td></tr><tr><td>3</td>\n",
       "<td>212</td>\n",
       "<td>13</td></tr><tr><td>3</td>\n",
       "<td>215</td>\n",
       "<td>13</td> </tr> </tbody>\n",
       "            </table>\n",
       "            <p>...</p>\n",
       "            <p>Total: 633805</p></div>\n",
       "            "
      ],
      "text/plain": [
       "*segmentation  *synapse_id    spine_label   \n",
       "+------------+ +------------+ +------------+\n",
       "3              3              13            \n",
       "3              5              13            \n",
       "3              22             13            \n",
       "3              25             13            \n",
       "3              30             13            \n",
       "3              41             13            \n",
       "3              73             13            \n",
       "3              77             13            \n",
       "3              106            13            \n",
       "3              108            13            \n",
       "3              118            13            \n",
       "3              125            13            \n",
       "3              130            13            \n",
       "3              148            13            \n",
       "3              149            13            \n",
       "3              161            13            \n",
       "3              190            13            \n",
       "3              206            13            \n",
       "3              212            13            \n",
       "3              215            13            \n",
       "   ...\n",
       " (Total: 633805)"
      ]
     },
     "execution_count": 54,
     "metadata": {},
     "output_type": "execute_result"
    }
   ],
   "source": [
    "pinky.SynapseSpineLabelFinalThresholdRevised()"
   ]
  },
  {
   "cell_type": "code",
   "execution_count": null,
   "metadata": {},
   "outputs": [],
   "source": [
    "# plot contact length marginals for each bin"
   ]
  }
 ],
 "metadata": {
  "kernelspec": {
   "display_name": "Python 3",
   "language": "python",
   "name": "python3"
  },
  "language_info": {
   "codemirror_mode": {
    "name": "ipython",
    "version": 3
   },
   "file_extension": ".py",
   "mimetype": "text/x-python",
   "name": "python",
   "nbconvert_exporter": "python",
   "pygments_lexer": "ipython3",
   "version": "3.6.8"
  }
 },
 "nbformat": 4,
 "nbformat_minor": 4
}
