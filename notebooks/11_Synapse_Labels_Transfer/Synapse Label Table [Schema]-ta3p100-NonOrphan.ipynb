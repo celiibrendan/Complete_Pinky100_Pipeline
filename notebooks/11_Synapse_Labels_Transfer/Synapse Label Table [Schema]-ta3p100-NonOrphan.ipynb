{
 "cells": [
  {
   "cell_type": "markdown",
   "metadata": {},
   "source": [
    "# Synapse Labeling"
   ]
  },
  {
   "cell_type": "code",
   "execution_count": 1,
   "metadata": {},
   "outputs": [
    {
     "name": "stderr",
     "output_type": "stream",
     "text": [
      "/usr/local/lib/python3.6/dist-packages/requests/__init__.py:91: RequestsDependencyWarning: urllib3 (1.24.1) or chardet (3.0.4) doesn't match a supported version!\n",
      "  RequestsDependencyWarning)\n"
     ]
    }
   ],
   "source": [
    "import datajoint as dj\n",
    "import numpy as np\n",
    "from scipy.spatial import KDTree\n",
    "import time\n",
    "from tqdm import tqdm\n",
    "import ipyvolume.pylab as p3\n"
   ]
  },
  {
   "cell_type": "code",
   "execution_count": 13,
   "metadata": {},
   "outputs": [],
   "source": [
    "dj.config['display.limit'] = 20\n",
    "ta3p100 = dj.create_virtual_module('ta3p100', 'microns_ta3p100')"
   ]
  },
  {
   "cell_type": "code",
   "execution_count": 7,
   "metadata": {},
   "outputs": [],
   "source": [
    "schema = dj.schema('microns_ta3p100')\n",
    "\n",
    "@schema\n",
    "class SynapseCompartmentLabelFinal(dj.Manual):\n",
    "    definition = \"\"\"\n",
    "    -> ta3p100.Synapse\n",
    "    ---\n",
    "    (postsynaptic_label)->ta3p100.LabelKey\n",
    "    \"\"\" # (postsynaptic_label)->ta3p100.LabelKey : tinyint unsigned"
   ]
  },
  {
   "cell_type": "code",
   "execution_count": 4,
   "metadata": {},
   "outputs": [
    {
     "name": "stderr",
     "output_type": "stream",
     "text": [
      "100%|██████████| 322/322 [00:00<00:00, 190623.27it/s]\n",
      "100%|██████████| 322/322 [00:00<00:00, 116237.70it/s]\n",
      "100%|██████████| 322/322 [18:44<00:00,  3.22s/it]\n",
      "100%|██████████| 322/322 [01:49<00:00,  2.64it/s]\n"
     ]
    }
   ],
   "source": [
    "segment_ids = ta3p100.CoarseLabelFinal.fetch('segment_id')\n",
    "mesh_fetch = (ta3p100.CleansedMesh & ta3p100.CompartmentFinal.proj()).fetch()\n",
    "label_fetch = ta3p100.CoarseLabelFinal.fetch()\n",
    "\n",
    "meshes = dict()\n",
    "labels = dict()\n",
    "for segment in tqdm(mesh_fetch):\n",
    "    meshes[segment[1]] = (segment[5], segment[6])\n",
    "    \n",
    "for segment in tqdm(label_fetch):\n",
    "    labels[segment[1]] = (segment[6], segment[7])\n",
    "    \n",
    "kdtrees = dict()\n",
    "for segment_id in tqdm(segment_ids):\n",
    "    kdtrees[segment_id] = KDTree(meshes[segment_id][0])\n",
    "    \n",
    "mesh_synapses = dict()\n",
    "for segment_id in tqdm(segment_ids):\n",
    "    mesh_synapses[segment_id] = np.array((ta3p100.Synapse & ta3p100.CurrentSegmentation\n",
    "#                                          & dict(postsyn=segment_id)).fetch('synapse_id', 'presyn_x', 'presyn_y', 'presyn_z')).T\n",
    "                                           & dict(postsyn=segment_id)).fetch('synapse_id', 'postsyn_x', 'postsyn_y', 'postsyn_z')).T"
   ]
  },
  {
   "cell_type": "code",
   "execution_count": 9,
   "metadata": {},
   "outputs": [
    {
     "name": "stderr",
     "output_type": "stream",
     "text": [
      "100%|██████████| 322/322 [07:30<00:00,  1.72s/it]\n"
     ]
    }
   ],
   "source": [
    "matched_synapses = dict()\n",
    "for segment_id in tqdm(segment_ids):\n",
    "    synapses = mesh_synapses[segment_id]\n",
    "    synapse_ids, postsyn_coords = synapses.T[0], synapses.T[1:].T\n",
    "    kdtree = kdtrees[segment_id]\n",
    "    distances, nearest_nodes = kdtree.query(postsyn_coords * [4, 4, 40])\n",
    "    vertex_labels = labels[segment_id][0]\n",
    "    synapse_labels = dict()\n",
    "    for synapse_id, nearest_node in zip(synapse_ids, nearest_nodes):\n",
    "        synapse_labels[synapse_id] = vertex_labels[nearest_node]\n",
    "    matched_synapses[segment_id] = synapse_labels"
   ]
  },
  {
   "cell_type": "code",
   "execution_count": 10,
   "metadata": {},
   "outputs": [
    {
     "name": "stderr",
     "output_type": "stream",
     "text": [
      "100%|██████████| 322/322 [00:00<00:00, 415.55it/s]\n"
     ]
    },
    {
     "name": "stdout",
     "output_type": "stream",
     "text": [
      "106.95057725906372\n"
     ]
    }
   ],
   "source": [
    "segmentation = ta3p100.CurrentSegmentation.fetch1('segmentation')\n",
    "all_synapse_labels = list()\n",
    "for labeled_synapses in tqdm(matched_synapses.values()):\n",
    "    segmentation_array = np.array([segmentation] * len(labeled_synapses))\n",
    "    synapse_to_label = np.array(list(labeled_synapses.items())).T\n",
    "    proper_label_array = np.array((segmentation_array, *synapse_to_label)).T\n",
    "    all_synapse_labels.extend(proper_label_array)\n",
    "all_synapse_labels_array = np.array(all_synapse_labels)\n",
    "\n",
    "all_synapse_labels_array.T[2][all_synapse_labels_array.T[2]>12] = 1\n",
    "\n",
    "start = time.time()\n",
    "SynapseCompartmentLabelFinal.insert(all_synapse_labels_array, skip_duplicates=True)\n",
    "print(time.time() - start)"
   ]
  },
  {
   "cell_type": "markdown",
   "metadata": {},
   "source": [
    "# Spine Synapse Labeler"
   ]
  },
  {
   "cell_type": "code",
   "execution_count": 15,
   "metadata": {},
   "outputs": [],
   "source": [
    "@schema\n",
    "class SynapseSpineLabelFinal(dj.Manual):\n",
    "    definition = \"\"\"\n",
    "    # Denotes which synapses are also on Spine Heads, Spines, or Spine Necks\n",
    "    -> ta3p100.SynapseCompartmentLabelFinal\n",
    "    ---\n",
    "    (spine_label)->ta3p100.LabelKey\n",
    "    \"\"\" # (spine_label)->ta3p100.LabelKey : tinyint unsigned"
   ]
  },
  {
   "cell_type": "code",
   "execution_count": 16,
   "metadata": {},
   "outputs": [
    {
     "name": "stderr",
     "output_type": "stream",
     "text": [
      "100%|██████████| 322/322 [00:00<00:00, 253627.40it/s]\n",
      "100%|██████████| 322/322 [00:00<00:00, 286501.04it/s]\n",
      "100%|██████████| 322/322 [18:35<00:00,  3.38s/it]\n",
      "100%|██████████| 322/322 [01:50<00:00,  2.83it/s]\n"
     ]
    }
   ],
   "source": [
    "mesh_fetch = np.array((ta3p100.CleansedMesh & ta3p100.CompartmentFinal.proj()).fetch('segment_id', 'vertices', 'triangles')).T\n",
    "label_fetch = np.array(ta3p100.OverlayedSpineLabelFinal.fetch('segment_id', 'vertices', 'triangles')).T\n",
    "\n",
    "meshes = dict()\n",
    "for segment_id, mesh_vertices, mesh_triangles in tqdm(mesh_fetch):\n",
    "    meshes[segment_id] = (mesh_vertices, mesh_triangles)\n",
    "\n",
    "labels = dict()\n",
    "for segment_id, label_vertices, label_triangles in tqdm(label_fetch):\n",
    "    labels[segment_id] = (label_vertices, label_triangles)\n",
    "    \n",
    "kdtrees = dict()\n",
    "for segment_id in tqdm(segment_ids):\n",
    "    kdtrees[segment_id] = KDTree(meshes[segment_id][0])\n",
    "    \n",
    "mesh_synapses = dict()\n",
    "for segment_id in tqdm(segment_ids):\n",
    "    mesh_synapses[segment_id] = np.array((ta3p100.Synapse & ta3p100.CurrentSegmentation\n",
    "                                          & dict(postsyn=segment_id)).fetch('synapse_id', 'postsyn_x','postsyn_y', 'postsyn_z')).T"
   ]
  },
  {
   "cell_type": "code",
   "execution_count": 18,
   "metadata": {},
   "outputs": [
    {
     "name": "stderr",
     "output_type": "stream",
     "text": [
      "100%|██████████| 322/322 [08:07<00:00,  1.87s/it]\n"
     ]
    }
   ],
   "source": [
    "matched_synapses = dict()\n",
    "for segment_id in tqdm(segment_ids):\n",
    "    synapses = mesh_synapses[segment_id]\n",
    "    synapse_ids, postsyn_coords = synapses.T[0], synapses.T[1:].T\n",
    "    kdtree = kdtrees[segment_id]\n",
    "    distances, nearest_nodes = kdtree.query(postsyn_coords * [4, 4, 40])\n",
    "    vertex_labels = labels[segment_id][0]\n",
    "    synapse_labels = dict()\n",
    "    for synapse_id, nearest_node in zip(synapse_ids, nearest_nodes):\n",
    "        synapse_labels[synapse_id] = vertex_labels[nearest_node]\n",
    "    matched_synapses[segment_id] = synapse_labels"
   ]
  },
  {
   "cell_type": "code",
   "execution_count": 19,
   "metadata": {},
   "outputs": [
    {
     "name": "stderr",
     "output_type": "stream",
     "text": [
      "100%|██████████| 322/322 [00:00<00:00, 477.58it/s]\n"
     ]
    },
    {
     "name": "stdout",
     "output_type": "stream",
     "text": [
      "84.01900100708008\n"
     ]
    }
   ],
   "source": [
    "segmentation = ta3p100.CurrentSegmentation.fetch1('segmentation')\n",
    "all_synapse_labels = list()\n",
    "for labeled_synapses in tqdm(matched_synapses.values()):\n",
    "    segmentation_array = np.array([segmentation] * len(labeled_synapses))\n",
    "    synapse_to_label = np.array(list(labeled_synapses.items())).T\n",
    "    proper_label_array = np.array((segmentation_array, *synapse_to_label)).T\n",
    "    all_synapse_labels.extend(proper_label_array)\n",
    "all_synapse_labels_array = np.array(all_synapse_labels)\n",
    "\n",
    "all_synapse_labels_array.T[2][all_synapse_labels_array.T[2]>15] = 1\n",
    "all_synapse_labels_array = all_synapse_labels_array[all_synapse_labels_array.T[2]<=15]\n",
    "all_synapse_labels_array = all_synapse_labels_array[all_synapse_labels_array.T[2]>12]\n",
    "\n",
    "start = time.time()\n",
    "SynapseSpineLabelFinal.insert(all_synapse_labels_array, skip_duplicates=True)\n",
    "print(time.time() - start)"
   ]
  },
  {
   "cell_type": "markdown",
   "metadata": {},
   "source": [
    "## Visualization of Labeled Synapses (no labeled Spines yet)"
   ]
  },
  {
   "cell_type": "code",
   "execution_count": null,
   "metadata": {},
   "outputs": [],
   "source": [
    "# ta3p100.LabelKey()"
   ]
  },
  {
   "cell_type": "code",
   "execution_count": null,
   "metadata": {},
   "outputs": [],
   "source": [
    "# ta3p100.ProofreadLabel & 'segment_id=648518346341393609'"
   ]
  },
  {
   "cell_type": "code",
   "execution_count": null,
   "metadata": {},
   "outputs": [],
   "source": [
    "# label_keys = [( 0, 'not_labeled', 'no_color'), ( 1, 'label_removed', 'no_color'),\n",
    "#                ( 2, 'Apical', 'blue'), ( 3, 'Basal', 'yellow'),\n",
    "#                ( 4, 'Oblique', 'green'), ( 5, 'Soma', 'red'),\n",
    "#                ( 6, 'Axon-Soma', 'aqua'), ( 7, 'Axon-Dendr', 'off blue'),\n",
    "#                ( 8, 'Dendrite', 'purple'), ( 9, 'Distal', 'pink'),\n",
    "#                (10, 'ignore Error', 'brown'), (11, 'Unlabelable', 'tan'),\n",
    "#                (12, 'Cilia', 'orange'), (13, 'Spine Head (unsure if correct label)', 'red'),\n",
    "#                (14, 'Spine (unsure if correct label)', 'blue'),\n",
    "#                (15, 'Spine Neck (unsure if correct label)', 'green'),\n",
    "#                (16, 'Bouton (unsure if correct label)', 'ignore')]\n",
    "# segment_id = 648518346341393609\n",
    "# synapse_label_types = np.unique(list(matched_synapses[segment_id].values()))\n",
    "# label_matches = np.array(list(matched_synapses[segment_id].items())).T\n",
    "# synapses_by_compartment = dict()\n",
    "# synapse_centroids_by_compartment = dict()\n",
    "# for synapse_label_type in synapse_label_types:\n",
    "#     synapses_by_compartment[synapse_label_type] = label_matches[0][np.where(label_matches[1]==synapse_label_type)[0]]\n",
    "#     centroids = np.zeros((len(synapses_by_compartment[synapse_label_type]), 3), dtype=np.uint32)\n",
    "#     for i, specific_synapse in enumerate(synapses_by_compartment[synapse_label_type]):\n",
    "#         centroids[i] = mesh_synapses[segment_id].T[1:].T[mesh_synapses[segment_id].T[0]==specific_synapse]\n",
    "#     synapse_centroids_by_compartment[synapse_label_type] = centroids\n",
    "# p3.figure(width=1024, height=1024)\n",
    "# vertices, triangles = meshes[segment_id]\n",
    "# p3.plot_trisurf(*vertices.T/1000, triangles=triangles, color='black')\n",
    "# for label_type, label_name, label_color in label_keys:\n",
    "#     if label_type in synapse_label_types:\n",
    "#         print(\"{} -> {} : {}\".format(label_type, label_name, label_color))\n",
    "#         p3.scatter(*(synapse_centroids_by_compartment[label_type] * [4, 4, 40]).T/1000, color=label_color, marker='sphere', size=0.1)\n",
    "# p3.squarelim()\n",
    "# p3.show()"
   ]
  }
 ],
 "metadata": {
  "kernelspec": {
   "display_name": "Python 3",
   "language": "python",
   "name": "python3"
  },
  "language_info": {
   "codemirror_mode": {
    "name": "ipython",
    "version": 3
   },
   "file_extension": ".py",
   "mimetype": "text/x-python",
   "name": "python",
   "nbconvert_exporter": "python",
   "pygments_lexer": "ipython3",
   "version": "3.6.5"
  }
 },
 "nbformat": 4,
 "nbformat_minor": 2
}
