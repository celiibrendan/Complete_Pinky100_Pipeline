{
 "cells": [
  {
   "cell_type": "code",
   "execution_count": 1,
   "metadata": {},
   "outputs": [],
   "source": [
    "import time\n",
    "import numpy as np\n",
    "import datajoint as dj\n",
    "import networkx as nx"
   ]
  },
  {
   "cell_type": "markdown",
   "metadata": {},
   "source": [
    "# Visualizing the offline neuron"
   ]
  },
  {
   "cell_type": "code",
   "execution_count": 3,
   "metadata": {},
   "outputs": [
    {
     "data": {
      "application/vnd.jupyter.widget-view+json": {
       "model_id": "d00c6f02c6e04274af3fc9c2f23cceaa",
       "version_major": 2,
       "version_minor": 0
      },
      "text/plain": [
       "VBox(children=(Figure(camera=PerspectiveCamera(fov=46.0, position=(0.0, 0.0, 2.0), quaternion=(0.0, 0.0, 0.0, …"
      ]
     },
     "metadata": {},
     "output_type": "display_data"
    }
   ],
   "source": [
    "import ipyvolume as ipv\n",
    "import numpy as np\n",
    "import trimesh\n",
    "%matplotlib inline\n",
    "ipv.figure()\n",
    "# we draw the tetrahedron\n",
    "neuron_data = np.load(\"107816118160698192_neuron_2_visualizations.npz\")\n",
    "original_mesh_verts = neuron_data[\"original_mesh_verts\"]\n",
    "original_mesh_faces = neuron_data[\"original_mesh_faces\"]\n",
    "edges = neuron_data[\"edges\"]\n",
    "unique_skeleton_verts = neuron_data[\"unique_skeleton_verts\"]\n",
    "\n",
    "\n",
    "original_mesh = trimesh.Trimesh(vertices=original_mesh_verts,faces=original_mesh_faces)\n",
    "\n",
    "\n",
    "mesh = ipv.plot_trisurf(original_mesh.vertices[:,0], \n",
    "                        original_mesh.vertices[:,1],\n",
    "                        original_mesh.vertices[:,2], \n",
    "                        triangles=original_mesh.faces, color='orange')\n",
    "\n",
    "mesh.color = [0., 1., 0., 0.5]\n",
    "mesh.material.transparent = True\n",
    "# and also mark the vertices\n",
    "mesh2 = ipv.plot_trisurf(unique_skeleton_verts[:,0], \n",
    "                        unique_skeleton_verts[:,1], \n",
    "                        unique_skeleton_verts[:,2], \n",
    "                        lines=edges, color='blue')\n",
    "\n",
    "volume_maxs = np.max(original_mesh.vertices,axis=0)\n",
    "volume_mins = np.min(original_mesh.vertices,axis=0)\n",
    "ranges = volume_maxs - volume_mins\n",
    "index = [0,1,2]\n",
    "max_index = np.argmax(ranges)\n",
    "min_limits = [0,0,0]\n",
    "max_limits = [0,0,0]\n",
    "\n",
    "buffer = 10000\n",
    "for i in index:\n",
    "    if i == max_index:\n",
    "        min_limits[i] = volume_mins[i] - buffer\n",
    "        max_limits[i] = volume_maxs[i] + buffer \n",
    "        continue\n",
    "    else:\n",
    "        difference = ranges[max_index] - ranges[i]\n",
    "        min_limits[i] = volume_mins[i] - difference/2  - buffer\n",
    "        max_limits[i] = volume_maxs[i] + difference/2 + buffer\n",
    "\n",
    "#ipv.xyzlim(-2, 2)\n",
    "ipv.xlim(min_limits[0],max_limits[0])\n",
    "ipv.ylim(min_limits[1],max_limits[1])\n",
    "ipv.zlim(min_limits[2],max_limits[2])\n",
    "ipv.show()"
   ]
  },
  {
   "cell_type": "code",
   "execution_count": 31,
   "metadata": {},
   "outputs": [
    {
     "name": "stdout",
     "output_type": "stream",
     "text": [
      "[[1220760.  655666.  891025.]\n",
      " [1222000.  656940.  890723.]\n",
      " [1222000.  656940.  890723.]\n",
      " ...\n",
      " [1350390.  623455.  928625.]\n",
      " [1350390.  623455.  928625.]\n",
      " [1350390.  623481.  928566.]]\n"
     ]
    },
    {
     "data": {
      "text/plain": [
       "array([[   0,    1],\n",
       "       [   2,    3],\n",
       "       [   4,    5],\n",
       "       ...,\n",
       "       [7904, 7905],\n",
       "       [7906, 7907],\n",
       "       [7908, 7909]])"
      ]
     },
     "execution_count": 31,
     "metadata": {},
     "output_type": "execute_result"
    }
   ],
   "source": [
    "# Example of how to put a skeleton into a networkx mdoel\n",
    "print(unique_skeleton_verts)\n",
    "edges"
   ]
  },
  {
   "cell_type": "code",
   "execution_count": 27,
   "metadata": {},
   "outputs": [],
   "source": [
    "B = nx.Graph()\n",
    "B.add_nodes_from([(x,{\"coordinates\":y}) for x,y in enumerate(unique_skeleton_verts)])\n",
    "B.add_edges_from(edges_with_coefficients)\n",
    "\n",
    "#now calculate the weights of the edge from "
   ]
  },
  {
   "cell_type": "code",
   "execution_count": 37,
   "metadata": {},
   "outputs": [],
   "source": [
    "# how to create it from adjacency matrix\n",
    "# G=nx.from_numpy_matrix(A)"
   ]
  },
  {
   "cell_type": "code",
   "execution_count": 38,
   "metadata": {},
   "outputs": [],
   "source": [
    "G = nx.Graph()\n",
    "G.add_edges_from(original_mesh.face_adjacency)"
   ]
  },
  {
   "cell_type": "code",
   "execution_count": 40,
   "metadata": {},
   "outputs": [
    {
     "data": {
      "text/plain": [
       "array([[355536, 355845],\n",
       "       [106653, 173406],\n",
       "       [160384, 275959],\n",
       "       ...,\n",
       "       [294484, 295031],\n",
       "       [294482, 294483],\n",
       "       [294483, 294484]])"
      ]
     },
     "execution_count": 40,
     "metadata": {},
     "output_type": "execute_result"
    }
   ],
   "source": [
    "original_mesh.face_adjacency"
   ]
  },
  {
   "cell_type": "code",
   "execution_count": 62,
   "metadata": {},
   "outputs": [
    {
     "data": {
      "text/plain": [
       "(1343724,)"
      ]
     },
     "execution_count": 62,
     "metadata": {},
     "output_type": "execute_result"
    }
   ],
   "source": [
    "edges_as_vertices = original_mesh.vertices[original_mesh.edges]\n",
    "distances = np.linalg.norm(edges_as_vertices[:,1]  - edges_as_vertices[:,0]\n",
    "                           ,axis=1)\n",
    "distances.shape"
   ]
  },
  {
   "cell_type": "code",
   "execution_count": 64,
   "metadata": {},
   "outputs": [],
   "source": [
    "G = nx.Graph()"
   ]
  },
  {
   "cell_type": "code",
   "execution_count": null,
   "metadata": {},
   "outputs": [],
   "source": [
    "G.add_weighted_edges_from"
   ]
  },
  {
   "cell_type": "markdown",
   "metadata": {},
   "source": [
    "# Shortest Path algorithm from trimesh example:"
   ]
  },
  {
   "cell_type": "code",
   "execution_count": 70,
   "metadata": {},
   "outputs": [],
   "source": [
    "current_mesh = trimesh.load_mesh(\"107816118160698192_top_apical_smaller.off\")"
   ]
  },
  {
   "cell_type": "code",
   "execution_count": 71,
   "metadata": {},
   "outputs": [],
   "source": [
    "mesh_lists = current_mesh.split(only_watertight = False)"
   ]
  },
  {
   "cell_type": "code",
   "execution_count": 72,
   "metadata": {},
   "outputs": [
    {
     "name": "stdout",
     "output_type": "stream",
     "text": [
      "Total time for diameter = -744.4620568752289\n"
     ]
    }
   ],
   "source": [
    "import trimesh\n",
    "\n",
    "import networkx as nx\n",
    "import time \n",
    "\n",
    "start_time = time.time()\n",
    "\n",
    "# test on a sphere mesh\n",
    "mesh = mesh_lists[0]\n",
    "\n",
    "# edges without duplication\n",
    "edges = mesh.edges_unique\n",
    "\n",
    "# the actual length of each unique edge\n",
    "length = mesh.edges_unique_length\n",
    "\n",
    "# create the graph with edge attributes for length\n",
    "g = nx.Graph()\n",
    "# for edge, L in zip(edges, length):\n",
    "#     g.add_edge(*edge, length=L)\n",
    "\n",
    "# alternative method for weighted graph creation\n",
    "# you can also create the graph with from_edgelist and\n",
    "# a list comprehension, which is like 1.5x faster\n",
    "ga = nx.from_edgelist([(e[0], e[1], {'length': L})\n",
    "                       for e, L in zip(edges, length)])\n",
    "\n",
    "nx.diameter(ga)\n",
    "\n",
    "print(\"Total time for diameter = \" + str(start_time - time.time()))\n",
    "\n",
    "# # arbitrary indices of mesh.vertices to test with\n",
    "# start = 0\n",
    "# end = int(len(mesh.vertices) / 2.0)\n",
    "\n",
    "# # run the shortest path query using length for edge weight\n",
    "# path = nx.shortest_path(g,\n",
    "#                         weight='length')\n",
    "\n",
    "# # VISUALIZE RESULT\n",
    "# # make the sphere transparent-ish\n",
    "# mesh.visual.face_colors = [100, 100, 100, 100]\n",
    "# # Path3D with the path between the points\n",
    "# path_visual = trimesh.load_path(mesh.vertices[path])\n",
    "# # visualizable two points\n",
    "# points_visual = trimesh.points.PointCloud(mesh.vertices[[start, end]])\n",
    "\n",
    "# # create a scene with the mesh, path, and points\n",
    "# scene = trimesh.Scene([\n",
    "#     points_visual,\n",
    "#     path_visual,\n",
    "#     mesh])\n",
    "\n",
    "# scene.show(smooth=False)"
   ]
  },
  {
   "cell_type": "code",
   "execution_count": null,
   "metadata": {},
   "outputs": [],
   "source": []
  }
 ],
 "metadata": {
  "kernelspec": {
   "display_name": "Python 3",
   "language": "python",
   "name": "python3"
  },
  "language_info": {
   "codemirror_mode": {
    "name": "ipython",
    "version": 3
   },
   "file_extension": ".py",
   "mimetype": "text/x-python",
   "name": "python",
   "nbconvert_exporter": "python",
   "pygments_lexer": "ipython3",
   "version": "3.6.8"
  }
 },
 "nbformat": 4,
 "nbformat_minor": 4
}
