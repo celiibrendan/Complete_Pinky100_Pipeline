{
 "cells": [
  {
   "cell_type": "code",
   "execution_count": 1,
   "metadata": {},
   "outputs": [],
   "source": [
    "import numpy as np\n",
    "from collections import Counter"
   ]
  },
  {
   "cell_type": "code",
   "execution_count": null,
   "metadata": {},
   "outputs": [],
   "source": [
    "discrete_edges_labels_stacked = "
   ]
  },
  {
   "cell_type": "code",
   "execution_count": null,
   "metadata": {},
   "outputs": [],
   "source": [
    "myCounter = Counter(discrete_edges_labels_stacked)\n",
    "print(dict(myCounter.items()))\n",
    "\n",
    "global_counter = 0\n",
    "final_contact_skeleton = []\n",
    "for group,number_pts in dict(myCounter.items()):\n",
    "    #find first point that is under threshold\n",
    "    local_counter = global_counter\n",
    "    \n",
    "    found_End = False\n",
    "    while(found_End==False):\n",
    "        start = -1\n",
    "        for i in range(local_counter,global_counter + number_pts):\n",
    "            if distances[i]<threshold:\n",
    "                if i == global_counter:\n",
    "                    start=nearest_nodes[i]\n",
    "                else:\n",
    "                    start=boundary_nearest_nodes[i]    \n",
    "                local_counter += i + 1\n",
    "                break\n",
    "\n",
    "        #if got through whole list and not find start point\n",
    "        if start == -1:\n",
    "            global_counter += number_pts\n",
    "            found_End = True\n",
    "            break\n",
    "        else: #if did get a start value \n",
    "            # go until you get an end point \n",
    "            stop = -2\n",
    "            for i in range(local_counter,global_counter + number_pts):\n",
    "                if distances[i]>threshold:\n",
    "                    stop=boundary_nearest_nodes[i]\n",
    "                    local_counter = i + 1\n",
    "                    break\n",
    "\n",
    "            #if never hit stop point\n",
    "            if stop == -2:\n",
    "                stop = nearest_nodes[global_counter + number_pts - 1]\n",
    "                #add the stop and start to the list\n",
    "                final_contact_skeleton.append((start,stop))\n",
    "                global_counter += number_pts\n",
    "                #go onto next line segment\n",
    "                found_End=True\n",
    "                break\n",
    "            else:\n",
    "                #add the stop label\n",
    "                final_contact_skeleton.append((start,stop))\n",
    "\n",
    "            #continue with loop if can find another start and stop\n",
    "            \n",
    "            \n",
    "print(final_contact_skeleton)"
   ]
  }
 ],
 "metadata": {
  "kernelspec": {
   "display_name": "Python 3",
   "language": "python",
   "name": "python3"
  },
  "language_info": {
   "codemirror_mode": {
    "name": "ipython",
    "version": 3
   },
   "file_extension": ".py",
   "mimetype": "text/x-python",
   "name": "python",
   "nbconvert_exporter": "python",
   "pygments_lexer": "ipython3",
   "version": "3.6.5"
  }
 },
 "nbformat": 4,
 "nbformat_minor": 2
}
