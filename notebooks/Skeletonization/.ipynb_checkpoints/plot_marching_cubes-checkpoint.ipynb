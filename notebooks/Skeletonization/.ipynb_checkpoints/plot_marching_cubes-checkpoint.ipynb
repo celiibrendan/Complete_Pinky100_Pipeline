{
 "cells": [
  {
   "cell_type": "code",
   "execution_count": null,
   "metadata": {},
   "outputs": [],
   "source": [
    "%matplotlib inline"
   ]
  },
  {
   "cell_type": "markdown",
   "metadata": {},
   "source": [
    "\n",
    "# Marching Cubes\n",
    "\n",
    "\n",
    "Marching cubes is an algorithm to extract a 2D surface mesh from a 3D volume.\n",
    "This can be conceptualized as a 3D generalization of isolines on topographical\n",
    "or weather maps. It works by iterating across the volume, looking for regions\n",
    "which cross the level of interest. If such regions are found, triangulations\n",
    "are generated and added to an output mesh. The final result is a set of\n",
    "vertices and a set of triangular faces.\n",
    "\n",
    "The algorithm requires a data volume and an isosurface value. For example, in\n",
    "CT imaging Hounsfield units of +700 to +3000 represent bone. So, one potential\n",
    "input would be a reconstructed CT set of data and the value +700, to extract\n",
    "a mesh for regions of bone or bone-like density.\n",
    "\n",
    "This implementation also works correctly on anisotropic datasets, where the\n",
    "voxel spacing is not equal for every spatial dimension, through use of the\n",
    "`spacing` kwarg.\n",
    "\n"
   ]
  },
  {
   "cell_type": "code",
   "execution_count": 1,
   "metadata": {},
   "outputs": [
    {
     "ename": "ModuleNotFoundError",
     "evalue": "No module named 'skimage'",
     "output_type": "error",
     "traceback": [
      "\u001b[0;31m---------------------------------------------------------------------------\u001b[0m",
      "\u001b[0;31mModuleNotFoundError\u001b[0m                       Traceback (most recent call last)",
      "\u001b[0;32m<ipython-input-1-b983a2651d82>\u001b[0m in \u001b[0;36m<module>\u001b[0;34m\u001b[0m\n\u001b[1;32m      3\u001b[0m \u001b[0;32mfrom\u001b[0m \u001b[0mmpl_toolkits\u001b[0m\u001b[0;34m.\u001b[0m\u001b[0mmplot3d\u001b[0m\u001b[0;34m.\u001b[0m\u001b[0mart3d\u001b[0m \u001b[0;32mimport\u001b[0m \u001b[0mPoly3DCollection\u001b[0m\u001b[0;34m\u001b[0m\u001b[0m\n\u001b[1;32m      4\u001b[0m \u001b[0;34m\u001b[0m\u001b[0m\n\u001b[0;32m----> 5\u001b[0;31m \u001b[0;32mfrom\u001b[0m \u001b[0mskimage\u001b[0m \u001b[0;32mimport\u001b[0m \u001b[0mmeasure\u001b[0m\u001b[0;34m\u001b[0m\u001b[0m\n\u001b[0m\u001b[1;32m      6\u001b[0m \u001b[0;32mfrom\u001b[0m \u001b[0mskimage\u001b[0m\u001b[0;34m.\u001b[0m\u001b[0mdraw\u001b[0m \u001b[0;32mimport\u001b[0m \u001b[0mellipsoid\u001b[0m\u001b[0;34m\u001b[0m\u001b[0m\n\u001b[1;32m      7\u001b[0m \u001b[0;34m\u001b[0m\u001b[0m\n",
      "\u001b[0;31mModuleNotFoundError\u001b[0m: No module named 'skimage'"
     ]
    }
   ],
   "source": [
    "import numpy as np\n",
    "import matplotlib.pyplot as plt\n",
    "from mpl_toolkits.mplot3d.art3d import Poly3DCollection\n",
    "\n",
    "from skimage import measure\n",
    "from skimage.draw import ellipsoid\n",
    "\n",
    "\n",
    "# Generate a level set about zero of two identical ellipsoids in 3D\n",
    "ellip_base = ellipsoid(6, 10, 16, levelset=True)\n",
    "ellip_double = np.concatenate((ellip_base[:-1, ...],\n",
    "                               ellip_base[2:, ...]), axis=0)\n",
    "\n",
    "# Use marching cubes to obtain the surface mesh of these ellipsoids\n",
    "verts, faces, normals, values = measure.marching_cubes_lewiner(ellip_double, 0)\n",
    "\n",
    "# Display resulting triangular mesh using Matplotlib. This can also be done\n",
    "# with mayavi (see skimage.measure.marching_cubes_lewiner docstring).\n",
    "fig = plt.figure(figsize=(10, 10))\n",
    "ax = fig.add_subplot(111, projection='3d')\n",
    "\n",
    "# Fancy indexing: `verts[faces]` to generate a collection of triangles\n",
    "mesh = Poly3DCollection(verts[faces])\n",
    "mesh.set_edgecolor('k')\n",
    "ax.add_collection3d(mesh)\n",
    "\n",
    "ax.set_xlabel(\"x-axis: a = 6 per ellipsoid\")\n",
    "ax.set_ylabel(\"y-axis: b = 10\")\n",
    "ax.set_zlabel(\"z-axis: c = 16\")\n",
    "\n",
    "ax.set_xlim(0, 24)  # a = 6 (times two for 2nd ellipsoid)\n",
    "ax.set_ylim(0, 20)  # b = 10\n",
    "ax.set_zlim(0, 32)  # c = 16\n",
    "\n",
    "plt.tight_layout()\n",
    "plt.show()"
   ]
  },
  {
   "cell_type": "code",
   "execution_count": null,
   "metadata": {},
   "outputs": [],
   "source": [
    "#need to install scikit-image"
   ]
  }
 ],
 "metadata": {
  "kernelspec": {
   "display_name": "Python 3",
   "language": "python",
   "name": "python3"
  }
 },
 "nbformat": 4,
 "nbformat_minor": 1
}
