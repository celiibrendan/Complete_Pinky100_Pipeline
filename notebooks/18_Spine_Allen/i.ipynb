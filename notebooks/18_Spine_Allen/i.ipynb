{
 "cells": [
  {
   "cell_type": "code",
   "execution_count": 1,
   "metadata": {},
   "outputs": [],
   "source": [
    "import cgal_Segmentation_Module as csm\n",
    "import numpy as np\n",
    "import time\n",
    "import csv"
   ]
  },
  {
   "cell_type": "code",
   "execution_count": 3,
   "metadata": {},
   "outputs": [],
   "source": [
    "def cgal_spine(path_and_filename,smoothness,clusters):\n",
    "    print(\"CGAL Segmentation started: \" + str(path_and_filename))\n",
    "\n",
    "    start_time = time.time()\n",
    "\n",
    "    #clusters_default = 18\n",
    "#     smoothness = 0.04\n",
    "#     clusters = 12\n",
    "\n",
    "    #JUST NEED TO SEND THE PATH AND FILENAME (without off attached to it)\n",
    "    csm.cgal_segmentation(path_and_filename,clusters,smoothness)\n",
    "\n",
    "    #generate the name of the files\n",
    "    cgal_file_name = path_and_filename + \"-cgal_\" + str(clusters) + \"_\"+str(smoothness)\n",
    "    group_csv_cgal_file = cgal_file_name + \".csv\"\n",
    "    sdf_csv_file_name = cgal_file_name+\"_sdf.csv\"\n",
    "\n",
    "\n",
    "    print(\"finished\")\n",
    "    print(\"--- %s seconds ---\" % (time.time() - start_time))\n"
   ]
  },
  {
   "cell_type": "code",
   "execution_count": 69,
   "metadata": {},
   "outputs": [
    {
     "name": "stdout",
     "output_type": "stream",
     "text": [
      "CGAL Segmentation started: ./neurons/neuron-775959265587_part_2\n",
      "finished\n",
      "--- 69.81209182739258 seconds ---\n"
     ]
    }
   ],
   "source": [
    "possible_clusters = [12]\n",
    "possible_smoothness = [0.04]#0.06,0.10,0.14,0.18,0.22,0.24]\n",
    "\n",
    "for c in possible_clusters:\n",
    "    for s in possible_smoothness:\n",
    "        cgal_spine(\"./neurons/neuron-775959265587_part_2\",smoothness=s,clusters=c)"
   ]
  },
  {
   "cell_type": "code",
   "execution_count": 29,
   "metadata": {},
   "outputs": [
    {
     "name": "stdout",
     "output_type": "stream",
     "text": [
      "CGAL Segmentation started: neuron-1599082942467_step_1_Segment_10_step_2_Segment_3\n",
      "finished\n",
      "--- 0.1198124885559082 seconds ---\n",
      "CGAL Segmentation started: neuron-1726128354285_step_1_Segment_3\n",
      "finished\n",
      "--- 0.02462029457092285 seconds ---\n",
      "CGAL Segmentation started: neuron-1599082942467_step_1_Segment_10_step_2_Segment_4\n",
      "finished\n",
      "--- 0.04056215286254883 seconds ---\n",
      "CGAL Segmentation started: neuron-1726128354285_step_1_Segment_4\n",
      "finished\n",
      "--- 0.15233731269836426 seconds ---\n",
      "CGAL Segmentation started: neuron-775959265587_part_4\n",
      "finished\n",
      "--- 19.89974308013916 seconds ---\n",
      "CGAL Segmentation started: neuron-775959265587-part-1\n",
      "finished\n",
      "--- 23.89892029762268 seconds ---\n",
      "CGAL Segmentation started: neuron-775959265587_part_2\n",
      "finished\n",
      "--- 70.54140329360962 seconds ---\n",
      "CGAL Segmentation started: neuron-775959265587_part_3\n",
      "finished\n",
      "--- 135.8056995868683 seconds ---\n"
     ]
    }
   ],
   "source": [
    "#go through and get clusters of 7 for all of the possible neurons\n",
    "import os\n",
    "files = [f for f in os.listdir('.') if f[-4:]==\".off\"]\n",
    "files\n",
    "\n",
    "for f in files: \n",
    "    cgal_spine(f[:-4],smoothness=0.04,clusters=12)"
   ]
  },
  {
   "cell_type": "code",
   "execution_count": 66,
   "metadata": {},
   "outputs": [
    {
     "name": "stdout",
     "output_type": "stream",
     "text": [
      "CGAL Segmentation started: neuron-775959265587_part_2\n",
      "finished\n",
      "--- 76.36769723892212 seconds ---\n"
     ]
    }
   ],
   "source": [
    "cgal_spine(\"neuron-775959265587_part_2\",smoothness=0.04,clusters=24)"
   ]
  },
  {
   "cell_type": "code",
   "execution_count": 26,
   "metadata": {},
   "outputs": [
    {
     "name": "stdout",
     "output_type": "stream",
     "text": [
      "CGAL Segmentation started: neuron-775959265587_part_2\n",
      "finished\n",
      "--- 66.8494222164154 seconds ---\n"
     ]
    }
   ],
   "source": [
    "cgal_spine(\"neuron-775959265587_part_2\",smoothness=0.06,clusters=8)"
   ]
  },
  {
   "cell_type": "code",
   "execution_count": null,
   "metadata": {},
   "outputs": [],
   "source": [
    "filename = \"775959265587_part_1-cgal_12_0.04.csv\"\n",
    "\n",
    "with open(filename) as csvfile:\n",
    "    mylist = []\n",
    "    for row in csv.reader(csvfile):\n",
    "        mylist.append(int(row[0])) "
   ]
  },
  {
   "cell_type": "code",
   "execution_count": null,
   "metadata": {},
   "outputs": [],
   "source": [
    "mylist"
   ]
  },
  {
   "cell_type": "code",
   "execution_count": 30,
   "metadata": {},
   "outputs": [],
   "source": [
    "import numpy as np"
   ]
  },
  {
   "cell_type": "code",
   "execution_count": 34,
   "metadata": {},
   "outputs": [],
   "source": [
    "x = [x for x in range(1,11)]"
   ]
  },
  {
   "cell_type": "code",
   "execution_count": 35,
   "metadata": {},
   "outputs": [
    {
     "data": {
      "text/plain": [
       "[1, 2, 3, 4, 5, 6, 7, 8, 9, 10]"
      ]
     },
     "execution_count": 35,
     "metadata": {},
     "output_type": "execute_result"
    }
   ],
   "source": [
    "x"
   ]
  },
  {
   "cell_type": "code",
   "execution_count": 37,
   "metadata": {},
   "outputs": [
    {
     "data": {
      "text/plain": [
       "6.3999999999999995"
      ]
     },
     "execution_count": 37,
     "metadata": {},
     "output_type": "execute_result"
    }
   ],
   "source": [
    "np.percentile(x,60)"
   ]
  },
  {
   "cell_type": "code",
   "execution_count": 38,
   "metadata": {},
   "outputs": [
    {
     "data": {
      "text/plain": [
       "10"
      ]
     },
     "execution_count": 38,
     "metadata": {},
     "output_type": "execute_result"
    }
   ],
   "source": [
    "np.max(x)"
   ]
  },
  {
   "cell_type": "code",
   "execution_count": 39,
   "metadata": {},
   "outputs": [
    {
     "data": {
      "text/plain": [
       "2.8722813232690143"
      ]
     },
     "execution_count": 39,
     "metadata": {},
     "output_type": "execute_result"
    }
   ],
   "source": [
    "np.std(x)"
   ]
  },
  {
   "cell_type": "code",
   "execution_count": 42,
   "metadata": {},
   "outputs": [],
   "source": [
    "y = x.copy()"
   ]
  },
  {
   "cell_type": "code",
   "execution_count": 43,
   "metadata": {},
   "outputs": [],
   "source": [
    "x[1] = 1000"
   ]
  },
  {
   "cell_type": "code",
   "execution_count": 44,
   "metadata": {},
   "outputs": [
    {
     "data": {
      "text/plain": [
       "[1, 1000, 3, 4, 5, 6, 7, 8, 9, 10]"
      ]
     },
     "execution_count": 44,
     "metadata": {},
     "output_type": "execute_result"
    }
   ],
   "source": [
    "x"
   ]
  },
  {
   "cell_type": "code",
   "execution_count": 45,
   "metadata": {},
   "outputs": [
    {
     "data": {
      "text/plain": [
       "[1, 2, 3, 4, 5, 6, 7, 8, 9, 10]"
      ]
     },
     "execution_count": 45,
     "metadata": {},
     "output_type": "execute_result"
    }
   ],
   "source": [
    "y"
   ]
  },
  {
   "cell_type": "code",
   "execution_count": 62,
   "metadata": {},
   "outputs": [
    {
     "data": {
      "text/plain": [
       "[2, 5, 6, 7, 8, 9, 10]"
      ]
     },
     "execution_count": 62,
     "metadata": {},
     "output_type": "execute_result"
    }
   ],
   "source": [
    "from collections import Counter\n",
    "myCounter = Counter(x)\n",
    "list(myCounter.keys())\n",
    "\n",
    "# y[np.where(np.array(x)>5)]\n",
    "list(Counter(np.array(y)[np.where(np.array(x)>4)[0].tolist()]).keys())"
   ]
  },
  {
   "cell_type": "code",
   "execution_count": null,
   "metadata": {},
   "outputs": [],
   "source": []
  }
 ],
 "metadata": {
  "kernelspec": {
   "display_name": "Python 3",
   "language": "python",
   "name": "python3"
  },
  "language_info": {
   "codemirror_mode": {
    "name": "ipython",
    "version": 3
   },
   "file_extension": ".py",
   "mimetype": "text/x-python",
   "name": "python",
   "nbconvert_exporter": "python",
   "pygments_lexer": "ipython3",
   "version": "3.6.5"
  }
 },
 "nbformat": 4,
 "nbformat_minor": 2
}
