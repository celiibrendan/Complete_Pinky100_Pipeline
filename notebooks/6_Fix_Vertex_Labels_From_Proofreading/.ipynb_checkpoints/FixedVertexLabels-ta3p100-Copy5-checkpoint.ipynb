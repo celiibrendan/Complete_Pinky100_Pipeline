{
 "cells": [
  {
   "cell_type": "code",
   "execution_count": 1,
   "metadata": {},
   "outputs": [],
   "source": [
    "import datajoint as dj\n",
    "import numpy as np\n",
    "import time\n",
    "from tqdm import tqdm"
   ]
  },
  {
   "cell_type": "code",
   "execution_count": 2,
   "metadata": {},
   "outputs": [
    {
     "name": "stdout",
     "output_type": "stream",
     "text": [
      "Connecting celiib@10.28.0.34:3306\n"
     ]
    }
   ],
   "source": [
    "#setting the address and the username\n",
    "dj.config['database.host'] = '10.28.0.34'\n",
    "dj.config['database.user'] = 'celiib'\n",
    "dj.config['database.password'] = 'newceliipass'\n",
    "dj.config['safemode']=True\n",
    "dj.config[\"display.limit\"] = 20\n",
    "\n",
    "ta3p100 = dj.create_virtual_module('ta3p100', 'microns_ta3p100')\n",
    "schema = dj.schema('microns_ta3p100')\n"
   ]
  },
  {
   "cell_type": "code",
   "execution_count": 3,
   "metadata": {},
   "outputs": [],
   "source": [
    "#ta3p100.ProofreadLabelFinal & 'status=\"complete\"'"
   ]
  },
  {
   "cell_type": "code",
   "execution_count": 4,
   "metadata": {},
   "outputs": [],
   "source": [
    "@schema\n",
    "class CoarseLabelFinal(dj.Computed):\n",
    "    definition = \"\"\"\n",
    "    # Vertex labels for ta3p100.ProofreadLabel did not correctly match the triangle labels, so these are regenerated from the correct triangle labels.\n",
    "    -> ta3p100.ProofreadLabelFinal\n",
    "    ---\n",
    "    vertices  : longblob # Corrected vertex labels\n",
    "    triangles : longblob # Same triangle labels as ta3p100.ProofreadLabel\n",
    "    \"\"\"\n",
    "    \n",
    "    key_source = ta3p100.ProofreadLabelFinal & 'status=\"complete\"'\n",
    "    \n",
    "    def make(self, key):\n",
    "        start = time.time()\n",
    "        \n",
    "        print(key[\"segment_id\"])\n",
    "        labels = (ta3p100.ProofreadLabelFinal & key).fetch1()\n",
    "        corrected_vertex_labels = np.zeros(labels['vertices'].shape, np.uint8)\n",
    "        \n",
    "        mesh = (ta3p100.CleansedMesh & 'decimation_ratio=0.35' & dict(segment_id=key['segment_id'])).fetch1()\n",
    "        mesh_triangles = mesh['triangles']\n",
    "        \n",
    "        vertex_label_dict = dict()\n",
    "        for i, label in enumerate(labels['triangles']):\n",
    "            triangle = mesh_triangles[i]\n",
    "            for node in triangle:\n",
    "                if node in vertex_label_dict:\n",
    "                    if vertex_label_dict[node] < label:\n",
    "                        vertex_label_dict[node] = label\n",
    "                else:\n",
    "                    vertex_label_dict[node] = label\n",
    "                \n",
    "        for node, label in vertex_label_dict.items():\n",
    "            corrected_vertex_labels[node] = label\n",
    "            \n",
    "        self.insert1(dict(key,\n",
    "                          vertices=corrected_vertex_labels,\n",
    "                          triangles=labels['triangles']))\n",
    "        \n",
    "        print(\"Segment {} vertex labels regenerated in: {} seconds.\".format(key['segment_id'], time.time() - start))"
   ]
  },
  {
   "cell_type": "code",
   "execution_count": 5,
   "metadata": {},
   "outputs": [
    {
     "name": "stdout",
     "output_type": "stream",
     "text": [
      "648518346349478330\n",
      "Segment 648518346349478330 vertex labels regenerated in: 3.6428894996643066 seconds.\n",
      "648518346349478700\n",
      "Segment 648518346349478700 vertex labels regenerated in: 4.652865648269653 seconds.\n",
      "648518346349479478\n",
      "Segment 648518346349479478 vertex labels regenerated in: 4.666513919830322 seconds.\n",
      "648518346349482020\n",
      "Segment 648518346349482020 vertex labels regenerated in: 2.882706642150879 seconds.\n",
      "648518346349483124\n",
      "Segment 648518346349483124 vertex labels regenerated in: 3.781595468521118 seconds.\n",
      "648518346349486929\n",
      "Segment 648518346349486929 vertex labels regenerated in: 4.052480936050415 seconds.\n",
      "648518346349490749\n",
      "Segment 648518346349490749 vertex labels regenerated in: 4.200778245925903 seconds.\n",
      "648518346349491984\n",
      "Segment 648518346349491984 vertex labels regenerated in: 3.9213292598724365 seconds.\n",
      "648518346349493487\n",
      "Segment 648518346349493487 vertex labels regenerated in: 2.241469621658325 seconds.\n",
      "648518346349494004\n",
      "Segment 648518346349494004 vertex labels regenerated in: 2.7782676219940186 seconds.\n",
      "648518346349494577\n",
      "Segment 648518346349494577 vertex labels regenerated in: 3.0239923000335693 seconds.\n",
      "648518346349495481\n",
      "Segment 648518346349495481 vertex labels regenerated in: 5.041034698486328 seconds.\n",
      "648518346349497151\n",
      "Segment 648518346349497151 vertex labels regenerated in: 5.233914852142334 seconds.\n",
      "648518346349498566\n",
      "Segment 648518346349498566 vertex labels regenerated in: 3.062030553817749 seconds.\n",
      "648518346349499369\n",
      "Segment 648518346349499369 vertex labels regenerated in: 4.0522661209106445 seconds.\n",
      "648518346349499701\n",
      "Segment 648518346349499701 vertex labels regenerated in: 4.535194158554077 seconds.\n",
      "648518346349499852\n",
      "Segment 648518346349499852 vertex labels regenerated in: 3.217243194580078 seconds.\n",
      "648518346349500120\n",
      "Segment 648518346349500120 vertex labels regenerated in: 2.55484938621521 seconds.\n",
      "648518346349500181\n",
      "Segment 648518346349500181 vertex labels regenerated in: 4.692214012145996 seconds.\n",
      "648518346349500657\n",
      "Segment 648518346349500657 vertex labels regenerated in: 4.0571300983428955 seconds.\n",
      "648518346349501175\n",
      "Segment 648518346349501175 vertex labels regenerated in: 4.885558843612671 seconds.\n",
      "648518346349502434\n",
      "Segment 648518346349502434 vertex labels regenerated in: 3.564122438430786 seconds.\n",
      "648518346349503453\n",
      "Segment 648518346349503453 vertex labels regenerated in: 4.602975130081177 seconds.\n",
      "648518346349503767\n",
      "Segment 648518346349503767 vertex labels regenerated in: 4.948015213012695 seconds.\n",
      "648518346349504565\n",
      "Segment 648518346349504565 vertex labels regenerated in: 2.963902473449707 seconds.\n",
      "648518346349504955\n",
      "Segment 648518346349504955 vertex labels regenerated in: 3.4260752201080322 seconds.\n",
      "648518346349505640\n",
      "Segment 648518346349505640 vertex labels regenerated in: 4.446516275405884 seconds.\n",
      "648518346349506513\n",
      "Segment 648518346349506513 vertex labels regenerated in: 3.0531537532806396 seconds.\n",
      "648518346349506952\n",
      "Segment 648518346349506952 vertex labels regenerated in: 2.216722249984741 seconds.\n",
      "648518346349507092\n",
      "Segment 648518346349507092 vertex labels regenerated in: 3.456747055053711 seconds.\n",
      "648518346349507717\n",
      "Segment 648518346349507717 vertex labels regenerated in: 3.0958666801452637 seconds.\n",
      "120.43663549423218\n"
     ]
    }
   ],
   "source": [
    "start = time.time()\n",
    "CoarseLabelFinal.populate(reserve_jobs=True)\n",
    "print(time.time() - start)"
   ]
  },
  {
   "cell_type": "code",
   "execution_count": 11,
   "metadata": {},
   "outputs": [],
   "source": [
    "#(schema.jobs & \"table_name='__coarse_label_final'\").delete()"
   ]
  },
  {
   "cell_type": "code",
   "execution_count": null,
   "metadata": {},
   "outputs": [],
   "source": []
  }
 ],
 "metadata": {
  "kernelspec": {
   "display_name": "Python 3",
   "language": "python",
   "name": "python3"
  },
  "language_info": {
   "codemirror_mode": {
    "name": "ipython",
    "version": 3
   },
   "file_extension": ".py",
   "mimetype": "text/x-python",
   "name": "python",
   "nbconvert_exporter": "python",
   "pygments_lexer": "ipython3",
   "version": "3.6.5"
  }
 },
 "nbformat": 4,
 "nbformat_minor": 2
}
