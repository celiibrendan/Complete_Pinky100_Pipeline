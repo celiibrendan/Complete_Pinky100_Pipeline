{
 "cells": [
  {
   "cell_type": "code",
   "execution_count": 12,
   "metadata": {},
   "outputs": [
    {
     "data": {
      "text/plain": [
       "' Example Test: \\n1) get an datajoint neurite\\n2) get how many branch points greater than 2\\n3) Find the distribution of distances between them\\n4) Pick good threshold\\n5) Run flagging analysis on a couple and see if can pick up any merge errors\\n\\n'"
      ]
     },
     "execution_count": 12,
     "metadata": {},
     "output_type": "execute_result"
    }
   ],
   "source": [
    "\"\"\" Example Test: \n",
    "1) get an datajoint neurite\n",
    "2) get how many branch points greater than 2\n",
    "3) Find the distribution of distances between them\n",
    "4) Pick good threshold\n",
    "5) Run flagging analysis on a couple and see if can pick up any merge errors\n",
    "\n",
    "\"\"\""
   ]
  },
  {
   "cell_type": "code",
   "execution_count": 1,
   "metadata": {},
   "outputs": [],
   "source": [
    "import time\n",
    "import numpy as np\n",
    "import datajoint as dj\n",
    "import networkx as nx"
   ]
  },
  {
   "cell_type": "code",
   "execution_count": 3,
   "metadata": {},
   "outputs": [],
   "source": [
    "#configure datajoint access to skeletons\n",
    "ta3p100 = dj.create_virtual_module(\"ta3p100\",\"microns_ta3p100\")"
   ]
  },
  {
   "cell_type": "code",
   "execution_count": 4,
   "metadata": {},
   "outputs": [
    {
     "data": {
      "text/html": [
       "\n",
       "        \n",
       "        <style type=\"text/css\">\n",
       "            .Relation{\n",
       "                border-collapse:collapse;\n",
       "            }\n",
       "            .Relation th{\n",
       "                background: #A0A0A0; color: #ffffff; padding:4px; border:#f0e0e0 1px solid;\n",
       "                font-weight: normal; font-family: monospace; font-size: 100%;\n",
       "            }\n",
       "            .Relation td{\n",
       "                padding:4px; border:#f0e0e0 1px solid; font-size:100%;\n",
       "            }\n",
       "            .Relation tr:nth-child(odd){\n",
       "                background: #ffffff;\n",
       "            }\n",
       "            .Relation tr:nth-child(even){\n",
       "                background: #f3f1ff;\n",
       "            }\n",
       "            /* Tooltip container */\n",
       "            .djtooltip {\n",
       "            }\n",
       "            /* Tooltip text */\n",
       "            .djtooltip .djtooltiptext {\n",
       "                visibility: hidden;\n",
       "                width: 120px;\n",
       "                background-color: black;\n",
       "                color: #fff;\n",
       "                text-align: center;\n",
       "                padding: 5px 0;\n",
       "                border-radius: 6px;\n",
       "                /* Position the tooltip text - see examples below! */\n",
       "                position: absolute;\n",
       "                z-index: 1;\n",
       "            }\n",
       "            #primary {\n",
       "                font-weight: bold;\n",
       "                color: black;\n",
       "            }\n",
       "\n",
       "            #nonprimary {\n",
       "                font-weight: normal;\n",
       "                color: white;\n",
       "            }\n",
       "\n",
       "            /* Show the tooltip text when you mouse over the tooltip container */\n",
       "            .djtooltip:hover .djtooltiptext {\n",
       "                visibility: visible;\n",
       "            }\n",
       "        </style>\n",
       "        \n",
       "        <b></b>\n",
       "            <div style=\"max-height:1000px;max-width:1500px;overflow:auto;\">\n",
       "            <table border=\"1\" class=\"Relation\">\n",
       "                <thead> <tr style=\"text-align: right;\"> <th> <div class=\"djtooltip\">\n",
       "                                <p id=\"primary\">segmentation</p>\n",
       "                                <span class=\"djtooltiptext\">segmentation id</span>\n",
       "                            </div></th><th><div class=\"djtooltip\">\n",
       "                                <p id=\"primary\">segment_id</p>\n",
       "                                <span class=\"djtooltiptext\">segment id unique within each Segmentation</span>\n",
       "                            </div></th><th><div class=\"djtooltip\">\n",
       "                                <p id=\"primary\">spine_filter_length</p>\n",
       "                                <span class=\"djtooltiptext\"></span>\n",
       "                            </div></th><th><div class=\"djtooltip\">\n",
       "                                <p id=\"nonprimary\">n_edges</p>\n",
       "                                <span class=\"djtooltiptext\"></span>\n",
       "                            </div></th><th><div class=\"djtooltip\">\n",
       "                                <p id=\"nonprimary\">edges</p>\n",
       "                                <span class=\"djtooltiptext\"></span>\n",
       "                            </div></th><th><div class=\"djtooltip\">\n",
       "                                <p id=\"nonprimary\">lengths_of_removed_limbs</p>\n",
       "                                <span class=\"djtooltiptext\"></span>\n",
       "                            </div> </th> </tr> </thead>\n",
       "                <tbody> <tr> <td>2</td>\n",
       "<td>648518346341351467</td>\n",
       "<td>3000</td>\n",
       "<td>517</td>\n",
       "<td>=BLOB=</td>\n",
       "<td>=BLOB=</td></tr><tr><td>2</td>\n",
       "<td>648518346341351503</td>\n",
       "<td>3000</td>\n",
       "<td>323</td>\n",
       "<td>=BLOB=</td>\n",
       "<td>=BLOB=</td></tr><tr><td>2</td>\n",
       "<td>648518346341351508</td>\n",
       "<td>3000</td>\n",
       "<td>486</td>\n",
       "<td>=BLOB=</td>\n",
       "<td>=BLOB=</td></tr><tr><td>2</td>\n",
       "<td>648518346341351509</td>\n",
       "<td>3000</td>\n",
       "<td>348</td>\n",
       "<td>=BLOB=</td>\n",
       "<td>=BLOB=</td></tr><tr><td>2</td>\n",
       "<td>648518346341351512</td>\n",
       "<td>3000</td>\n",
       "<td>576</td>\n",
       "<td>=BLOB=</td>\n",
       "<td>=BLOB=</td></tr><tr><td>2</td>\n",
       "<td>648518346341351514</td>\n",
       "<td>3000</td>\n",
       "<td>558</td>\n",
       "<td>=BLOB=</td>\n",
       "<td>=BLOB=</td></tr><tr><td>2</td>\n",
       "<td>648518346341351518</td>\n",
       "<td>3000</td>\n",
       "<td>391</td>\n",
       "<td>=BLOB=</td>\n",
       "<td>=BLOB=</td> </tr> </tbody>\n",
       "            </table>\n",
       "            <p>...</p>\n",
       "            <p>32842 tuples</p></div>\n",
       "            "
      ],
      "text/plain": [
       "*segmentation  *segment_id    *spine_filter_ n_edges     edges      lengths_of\n",
       "+------------+ +------------+ +------------+ +---------+ +--------+ +--------+\n",
       "2              64851834634135 3000           517         =BLOB=     =BLOB=    \n",
       "2              64851834634135 3000           323         =BLOB=     =BLOB=    \n",
       "2              64851834634135 3000           486         =BLOB=     =BLOB=    \n",
       "2              64851834634135 3000           348         =BLOB=     =BLOB=    \n",
       "2              64851834634135 3000           576         =BLOB=     =BLOB=    \n",
       "2              64851834634135 3000           558         =BLOB=     =BLOB=    \n",
       "2              64851834634135 3000           391         =BLOB=     =BLOB=    \n",
       "   ...\n",
       " (32842 tuples)"
      ]
     },
     "execution_count": 4,
     "metadata": {},
     "output_type": "execute_result"
    }
   ],
   "source": [
    "ta3p100.FilteredSkeleton()"
   ]
  },
  {
   "cell_type": "code",
   "execution_count": 5,
   "metadata": {},
   "outputs": [
    {
     "data": {
      "text/html": [
       "\n",
       "        \n",
       "        <style type=\"text/css\">\n",
       "            .Relation{\n",
       "                border-collapse:collapse;\n",
       "            }\n",
       "            .Relation th{\n",
       "                background: #A0A0A0; color: #ffffff; padding:4px; border:#f0e0e0 1px solid;\n",
       "                font-weight: normal; font-family: monospace; font-size: 100%;\n",
       "            }\n",
       "            .Relation td{\n",
       "                padding:4px; border:#f0e0e0 1px solid; font-size:100%;\n",
       "            }\n",
       "            .Relation tr:nth-child(odd){\n",
       "                background: #ffffff;\n",
       "            }\n",
       "            .Relation tr:nth-child(even){\n",
       "                background: #f3f1ff;\n",
       "            }\n",
       "            /* Tooltip container */\n",
       "            .djtooltip {\n",
       "            }\n",
       "            /* Tooltip text */\n",
       "            .djtooltip .djtooltiptext {\n",
       "                visibility: hidden;\n",
       "                width: 120px;\n",
       "                background-color: black;\n",
       "                color: #fff;\n",
       "                text-align: center;\n",
       "                padding: 5px 0;\n",
       "                border-radius: 6px;\n",
       "                /* Position the tooltip text - see examples below! */\n",
       "                position: absolute;\n",
       "                z-index: 1;\n",
       "            }\n",
       "            #primary {\n",
       "                font-weight: bold;\n",
       "                color: black;\n",
       "            }\n",
       "\n",
       "            #nonprimary {\n",
       "                font-weight: normal;\n",
       "                color: white;\n",
       "            }\n",
       "\n",
       "            /* Show the tooltip text when you mouse over the tooltip container */\n",
       "            .djtooltip:hover .djtooltiptext {\n",
       "                visibility: visible;\n",
       "            }\n",
       "        </style>\n",
       "        \n",
       "        <b></b>\n",
       "            <div style=\"max-height:1000px;max-width:1500px;overflow:auto;\">\n",
       "            <table border=\"1\" class=\"Relation\">\n",
       "                <thead> <tr style=\"text-align: right;\"> <th> <div class=\"djtooltip\">\n",
       "                                <p id=\"primary\">segmentation</p>\n",
       "                                <span class=\"djtooltiptext\">segmentation id</span>\n",
       "                            </div></th><th><div class=\"djtooltip\">\n",
       "                                <p id=\"primary\">segment_id</p>\n",
       "                                <span class=\"djtooltiptext\">segment id unique within each Segmentation</span>\n",
       "                            </div></th><th><div class=\"djtooltip\">\n",
       "                                <p id=\"primary\">time_updated</p>\n",
       "                                <span class=\"djtooltiptext\">the time at which the skeleton was generated</span>\n",
       "                            </div></th><th><div class=\"djtooltip\">\n",
       "                                <p id=\"nonprimary\">n_edges</p>\n",
       "                                <span class=\"djtooltiptext\">number of edges stored</span>\n",
       "                            </div></th><th><div class=\"djtooltip\">\n",
       "                                <p id=\"nonprimary\">edges</p>\n",
       "                                <span class=\"djtooltiptext\">array storing edges on each row</span>\n",
       "                            </div></th><th><div class=\"djtooltip\">\n",
       "                                <p id=\"nonprimary\">n_bodies</p>\n",
       "                                <span class=\"djtooltiptext\">the amount of segments the neurite was originally split into</span>\n",
       "                            </div></th><th><div class=\"djtooltip\">\n",
       "                                <p id=\"nonprimary\">lagest_mesh_perc</p>\n",
       "                                <span class=\"djtooltiptext\">the percentage of the entire mesh that the largest submesh makes up</span>\n",
       "                            </div> </th> </tr> </thead>\n",
       "                <tbody> <tr> <td>2</td>\n",
       "<td>648518346341351467</td>\n",
       "<td>2019-03-29 20:06:00</td>\n",
       "<td>526</td>\n",
       "<td>=BLOB=</td>\n",
       "<td>4</td>\n",
       "<td>0.997983</td></tr><tr><td>2</td>\n",
       "<td>648518346341351503</td>\n",
       "<td>2019-03-29 19:59:45</td>\n",
       "<td>338</td>\n",
       "<td>=BLOB=</td>\n",
       "<td>2</td>\n",
       "<td>0.999375</td></tr><tr><td>2</td>\n",
       "<td>648518346341351508</td>\n",
       "<td>2019-03-29 19:59:57</td>\n",
       "<td>486</td>\n",
       "<td>=BLOB=</td>\n",
       "<td>82</td>\n",
       "<td>0.965987</td></tr><tr><td>2</td>\n",
       "<td>648518346341351509</td>\n",
       "<td>2019-03-29 20:00:01</td>\n",
       "<td>365</td>\n",
       "<td>=BLOB=</td>\n",
       "<td>5</td>\n",
       "<td>0.998435</td></tr><tr><td>2</td>\n",
       "<td>648518346341351512</td>\n",
       "<td>2019-03-29 20:00:07</td>\n",
       "<td>612</td>\n",
       "<td>=BLOB=</td>\n",
       "<td>6</td>\n",
       "<td>0.999543</td></tr><tr><td>2</td>\n",
       "<td>648518346341351514</td>\n",
       "<td>2019-03-29 20:00:13</td>\n",
       "<td>595</td>\n",
       "<td>=BLOB=</td>\n",
       "<td>6</td>\n",
       "<td>0.998915</td></tr><tr><td>2</td>\n",
       "<td>648518346341351518</td>\n",
       "<td>2019-03-29 20:00:17</td>\n",
       "<td>403</td>\n",
       "<td>=BLOB=</td>\n",
       "<td>5</td>\n",
       "<td>0.999109</td> </tr> </tbody>\n",
       "            </table>\n",
       "            <p>...</p>\n",
       "            <p>32234 tuples</p></div>\n",
       "            "
      ],
      "text/plain": [
       "*segmentation  *segment_id    *time_updated  n_edges     edges      n_bodies     lagest_mesh_pe\n",
       "+------------+ +------------+ +------------+ +---------+ +--------+ +----------+ +------------+\n",
       "2              64851834634135 2019-03-29 20: 526         =BLOB=     4            0.997983      \n",
       "2              64851834634135 2019-03-29 19: 338         =BLOB=     2            0.999375      \n",
       "2              64851834634135 2019-03-29 19: 486         =BLOB=     82           0.965987      \n",
       "2              64851834634135 2019-03-29 20: 365         =BLOB=     5            0.998435      \n",
       "2              64851834634135 2019-03-29 20: 612         =BLOB=     6            0.999543      \n",
       "2              64851834634135 2019-03-29 20: 595         =BLOB=     6            0.998915      \n",
       "2              64851834634135 2019-03-29 20: 403         =BLOB=     5            0.999109      \n",
       "   ...\n",
       " (32234 tuples)"
      ]
     },
     "execution_count": 5,
     "metadata": {},
     "output_type": "execute_result"
    }
   ],
   "source": [
    "ta3p100.NeuriteRawSkeleton()"
   ]
  },
  {
   "cell_type": "code",
   "execution_count": 90,
   "metadata": {},
   "outputs": [
    {
     "data": {
      "text/plain": [
       "array([( 0, 'not_labeled', 'no_color'), ( 1, 'label_removed', 'no_color'),\n",
       "       ( 2, 'Apical', 'blue'), ( 3, 'Basal', 'yellow'),\n",
       "       ( 4, 'Oblique', 'green'), ( 5, 'Soma', 'red'),\n",
       "       ( 6, 'Axon-Soma', 'aqua'), ( 7, 'Axon-Dendr', 'off blue'),\n",
       "       ( 8, 'Dendrite', 'purple'), ( 9, 'Distal', 'pink'),\n",
       "       (10, 'Error', 'brown'), (11, 'Unlabelable', 'tan'),\n",
       "       (12, 'Cilia', 'light purple'), (13, 'Spine Head', 'rose'),\n",
       "       (14, 'Spine', 'light pink'), (15, 'Spine Neck', 'light green'),\n",
       "       (16, 'Bouton', 'aqua'), (17, 'shaft', 'dark orange'),\n",
       "       (18, 'non-spine', 'light orange')],\n",
       "      dtype=[('numeric', '<i8'), ('description', 'O'), ('color', 'O')])"
      ]
     },
     "execution_count": 90,
     "metadata": {},
     "output_type": "execute_result"
    }
   ],
   "source": [
    "ta3p100.LabelKey.fetch()"
   ]
  },
  {
   "cell_type": "code",
   "execution_count": 6,
   "metadata": {},
   "outputs": [],
   "source": [
    "#get all neurite skeletons\n",
    "neurite_skeletons = ta3p100.NeuriteRawSkeleton.fetch(as_dict=True)"
   ]
  },
  {
   "cell_type": "code",
   "execution_count": 8,
   "metadata": {},
   "outputs": [],
   "source": [
    "#just gets the ids and the edges\n",
    "neurite_skeletons = (dj.U(\"segment_id\",\"edges\") & ta3p100.NeuriteRawSkeleton).fetch(as_dict=True)"
   ]
  },
  {
   "cell_type": "code",
   "execution_count": 11,
   "metadata": {},
   "outputs": [
    {
     "data": {
      "text/plain": [
       "OrderedDict([('segment_id', 648518346341351467),\n",
       "             ('edges', array([[[234125. , 280734. ,  79143.5],\n",
       "                      [234098. , 280572. ,  79063.4]],\n",
       "              \n",
       "                     [[234125. , 280734. ,  79143.5],\n",
       "                      [234186. , 281010. ,  79266.6]],\n",
       "              \n",
       "                     [[214409. , 255227. ,  62211.9],\n",
       "                      [214342. , 254958. ,  62507.7]],\n",
       "              \n",
       "                     ...,\n",
       "              \n",
       "                     [[211808. , 247227. ,  67090.7],\n",
       "                      [211490. , 246776. ,  66933.2]],\n",
       "              \n",
       "                     [[229348. , 192774. ,  50601.6],\n",
       "                      [229501. , 192716. ,  50250.7]],\n",
       "              \n",
       "                     [[206488. , 233182. ,  63286.1],\n",
       "                      [206115. , 233287. ,  63122.9]]]))])"
      ]
     },
     "execution_count": 11,
     "metadata": {},
     "output_type": "execute_result"
    }
   ],
   "source": [
    "example_skeleton = neurite_skeletons[0]\n",
    "example_skeleton"
   ]
  },
  {
   "cell_type": "code",
   "execution_count": 84,
   "metadata": {},
   "outputs": [
    {
     "name": "stdout",
     "output_type": "stream",
     "text": [
      "1052\n",
      "527\n"
     ]
    }
   ],
   "source": [
    "#get the unique number of nodes in skeelton\n",
    "edges_unpacked  = example_skeleton[\"edges\"].reshape(-1,3)\n",
    "print(len(edges_unpacked))\n",
    "unique_rows = np.unique(edges_unpacked, axis=0)\n",
    "print(len(unique_rows))\n",
    "\n",
    "#get a mapping of "
   ]
  },
  {
   "cell_type": "code",
   "execution_count": 74,
   "metadata": {},
   "outputs": [
    {
     "data": {
      "text/plain": [
       "array([[483, 482],\n",
       "       [483, 484],\n",
       "       [258, 254],\n",
       "       ...,\n",
       "       [190, 187],\n",
       "       [448, 450],\n",
       "       [113, 100]])"
      ]
     },
     "execution_count": 74,
     "metadata": {},
     "output_type": "execute_result"
    }
   ],
   "source": [
    "unique_rows_list = unique_rows.tolist()\n",
    "#unique_rows_list.index([234125. , 280734. ,  79143.5])\n",
    "\n",
    "edges_unpacked_coefficients = [unique_rows_list.index(a) for a in edges_unpacked.tolist()]\n",
    "edges_coefficients = np.array(edges_unpacked_coefficients).reshape(-1,2)\n",
    "edges_coefficients"
   ]
  },
  {
   "cell_type": "code",
   "execution_count": 75,
   "metadata": {},
   "outputs": [],
   "source": [
    "#create the nodes with corresponding coordinates\n",
    "B = nx.Graph()\n",
    "B.add_nodes_from([(x,{\"coordinates\":y}) for x,y in enumerate(unique_rows_list)])\n",
    "#add the edges\n",
    "B.add_edges_from(edges_coefficients)\n",
    "B.number_of_nodes(), B.number_of_edges()"
   ]
  },
  {
   "cell_type": "code",
   "execution_count": 89,
   "metadata": {},
   "outputs": [
    {
     "data": {
      "text/plain": [
       "[74, 94, 113, 190, 243, 383]"
      ]
     },
     "execution_count": 89,
     "metadata": {},
     "output_type": "execute_result"
    }
   ],
   "source": [
    "#check if any nodes have more than 2 degrees\n",
    "possible_segmentations = [n for n,x in B.degree() if x > 2]\n",
    "possible_segmentations"
   ]
  },
  {
   "cell_type": "code",
   "execution_count": 79,
   "metadata": {},
   "outputs": [],
   "source": [
    "#create a function for the filtered skeletons\n",
    "ta3p100.FilteredSkeletonMinusSoma.fetch(as_dict=True)\n"
   ]
  },
  {
   "cell_type": "code",
   "execution_count": 83,
   "metadata": {},
   "outputs": [
    {
     "data": {
      "text/plain": [
       "(527, 526)"
      ]
     },
     "execution_count": 83,
     "metadata": {},
     "output_type": "execute_result"
    }
   ],
   "source": []
  },
  {
   "cell_type": "code",
   "execution_count": null,
   "metadata": {},
   "outputs": [],
   "source": []
  },
  {
   "cell_type": "code",
   "execution_count": 55,
   "metadata": {},
   "outputs": [
    {
     "data": {
      "text/plain": [
       "array([[2, 5],\n",
       "       [4, 6],\n",
       "       [4, 6]])"
      ]
     },
     "execution_count": 55,
     "metadata": {},
     "output_type": "execute_result"
    }
   ],
   "source": [
    "\"\"\"------------- exploration --------------------\"\"\"\n",
    "x = np.array([[2,5,2],[4,6,4],[4,6,4]])\n",
    "unique_x_axis_0 = np.unique(x,axis=0) #gets rid of rows that are same\n",
    "unique_x_axis_0\n",
    "unique_x_axis_1 = np.unique(x,axis=1) #gets rid of the columns that are same\n",
    "unique_x_axis_1"
   ]
  }
 ],
 "metadata": {
  "kernelspec": {
   "display_name": "Python 3",
   "language": "python",
   "name": "python3"
  },
  "language_info": {
   "codemirror_mode": {
    "name": "ipython",
    "version": 3
   },
   "file_extension": ".py",
   "mimetype": "text/x-python",
   "name": "python",
   "nbconvert_exporter": "python",
   "pygments_lexer": "ipython3",
   "version": "3.6.5"
  }
 },
 "nbformat": 4,
 "nbformat_minor": 2
}
