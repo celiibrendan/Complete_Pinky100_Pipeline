{
 "cells": [
  {
   "cell_type": "code",
   "execution_count": 1,
   "metadata": {},
   "outputs": [
    {
     "data": {
      "text/plain": [
       "'\\nPurpose: Will add any synapse labels with error to synapse exclude\\n\\n'"
      ]
     },
     "execution_count": 1,
     "metadata": {},
     "output_type": "execute_result"
    }
   ],
   "source": [
    "\"\"\"\n",
    "Purpose: Will add any synapse labels with error to synapse exclude\n",
    "\n",
    "\"\"\""
   ]
  },
  {
   "cell_type": "code",
   "execution_count": 2,
   "metadata": {},
   "outputs": [],
   "source": [
    "import datajoint as dj\n",
    "import numpy as np\n",
    "\n",
    "dj.config[\"display.limit\"] = 20"
   ]
  },
  {
   "cell_type": "code",
   "execution_count": 3,
   "metadata": {},
   "outputs": [
    {
     "name": "stdout",
     "output_type": "stream",
     "text": [
      "Connecting celiib@10.28.0.34:3306\n"
     ]
    }
   ],
   "source": [
    "schema = dj.schema(\"microns_pinky\")"
   ]
  },
  {
   "cell_type": "code",
   "execution_count": 4,
   "metadata": {},
   "outputs": [],
   "source": [
    "pinky = dj.create_virtual_module(\"pinky\",\"microns_pinky\")"
   ]
  },
  {
   "cell_type": "code",
   "execution_count": null,
   "metadata": {},
   "outputs": [],
   "source": []
  },
  {
   "cell_type": "code",
   "execution_count": 5,
   "metadata": {},
   "outputs": [
    {
     "data": {
      "text/plain": [
       "'Old way for doing it in ta3p100'"
      ]
     },
     "execution_count": 5,
     "metadata": {},
     "output_type": "execute_result"
    }
   ],
   "source": [
    "\"\"\"Old way for doing it in ta3p100\"\"\"\n",
    "# #things need to include in new Synapse Exclude\n",
    "# \"\"\"\n",
    "# 1) Those with ErrorLabel of SynapseCompartmentLabelFinal\n",
    "# 2) The old SynapseExclude synapse which aren't form the earlier SynapseCompartLabel error labels migration\n",
    "\n",
    "# \"\"\"\n",
    "\n",
    "# #1) get the synapses with Error label for both the original proofreading session and the new proofreading session\n",
    "# synapse_ids_error_proof_original = (ta3p100.SynapseCompartmentLabel() & \"segmentation=2\" & \"postsynaptic_label=10\").fetch(\"synapse_id\")\n",
    "# print(len(synapse_ids_error_proof_original))\n",
    "# synapse_ids_error_proof_new = (ta3p100.SynapseCompartmentLabelFinal() & \"segmentation=2\" & \"postsynaptic_label=10\").fetch(\"synapse_id\")\n",
    "# print(len(synapse_ids_error_proof_new))"
   ]
  },
  {
   "cell_type": "code",
   "execution_count": 10,
   "metadata": {},
   "outputs": [
    {
     "name": "stdout",
     "output_type": "stream",
     "text": [
      "13259\n",
      "0\n"
     ]
    }
   ],
   "source": [
    "\"\"\"Old way for doing it in ta3p100\"\"\"\n",
    "#things need to include in new Synapse Exclude\n",
    "\"\"\"\n",
    "1) Those with ErrorLabel of SynapseCompartmentLabelFinal\n",
    "2) The old SynapseExclude synapse which aren't form the earlier SynapseCompartLabel error labels migration\n",
    "\n",
    "\"\"\"\n",
    "\n",
    "#1) get the synapses with Error label for both the original proofreading session and the new proofreading session\n",
    "synapse_ids_error_proof_compartment = (pinky.SynapseCompartmentLabelFinalThresholdRevised() & \"segmentation=3\" & \"postsynaptic_label=10\").fetch(\"synapse_id\")\n",
    "print(len(synapse_ids_error_proof_compartment))\n",
    "synapse_ids_error_proof_spine = (pinky.SynapseSpineLabelFinalThresholdRevised() & \"segmentation=3\" & \"spine_label=10\").fetch(\"synapse_id\")\n",
    "print(len(synapse_ids_error_proof_spine))\n",
    "\n"
   ]
  },
  {
   "cell_type": "code",
   "execution_count": 11,
   "metadata": {},
   "outputs": [],
   "source": [
    "# pinky.ExclusionCriteria.insert1(dict(criteria_id=1,criteria_desc=\"postsyn label was error in labeling pipeline\"))"
   ]
  },
  {
   "cell_type": "code",
   "execution_count": 12,
   "metadata": {},
   "outputs": [
    {
     "name": "stdout",
     "output_type": "stream",
     "text": [
      "# Excluded anatomically localized synapse between two Segments\n",
      "-> pinky.Synapse\n",
      "-> pinky.ExclusionCriteria\n",
      "\n"
     ]
    },
    {
     "data": {
      "text/plain": [
       "'# Excluded anatomically localized synapse between two Segments\\n-> pinky.Synapse\\n-> pinky.ExclusionCriteria\\n'"
      ]
     },
     "execution_count": 12,
     "metadata": {},
     "output_type": "execute_result"
    }
   ],
   "source": [
    "pinky.SynapseExclude.describe()"
   ]
  },
  {
   "cell_type": "code",
   "execution_count": 14,
   "metadata": {},
   "outputs": [
    {
     "name": "stdout",
     "output_type": "stream",
     "text": [
      "{'segmentation': 3, 'synapse_id': 60, 'criteria_id': 1}\n"
     ]
    }
   ],
   "source": [
    "#inserting all the error from the proofreading stage 2 into new synapseExclude table\n",
    "from tqdm import tqdm\n",
    "\n",
    "total_dict = []\n",
    "synapse_errors_compartment = [dict(segmentation=3,synapse_id=sg,criteria_id=1) for sg in synapse_ids_error_proof_compartment]\n",
    "len(synapse_errors_compartment)\n",
    "if len(synapse_errors_compartment)>0:\n",
    "    print(synapse_errors_compartment[0])\n",
    "#insert all into segment exclude\n",
    "pinky.SynapseExclude.insert(synapse_errors_compartment,skip_duplicates=True)\n",
    "\n",
    "synapse_errors_spine = [dict(segmentation=3,synapse_id=sg,criteria_id=1) for sg in synapse_ids_error_proof_spine]\n",
    "len(synapse_errors_spine)\n",
    "if len(synapse_errors_spine)>0:\n",
    "    print(synapse_errors_spine[0])\n",
    "#insert all into segment exclude\n",
    "pinky.SynapseExclude.insert(synapse_errors_spine,skip_duplicates=True)\n",
    "\n",
    "\n"
   ]
  },
  {
   "cell_type": "code",
   "execution_count": null,
   "metadata": {},
   "outputs": [],
   "source": [
    "# import collections\n",
    "\n",
    "# final_added_synapses = []\n",
    "\n",
    "# for q in tqdm(original_synapse_exclude):\n",
    "#     if q[\"synapse_id\"] not in synapse_ids_error_proof_original:\n",
    "#         final_added_synapses.append(dict(segmentation=2,synapse_id=q[\"synapse_id\"]))"
   ]
  },
  {
   "cell_type": "code",
   "execution_count": null,
   "metadata": {},
   "outputs": [],
   "source": [
    "# print(len(synapse_ids_error_proof_original)),print(len(final_added_synapses))\n",
    "# print(len(synapse_ids_error_proof_original) + len(final_added_synapses)),print(len(ta3p100.SynapseExclude()))"
   ]
  },
  {
   "cell_type": "code",
   "execution_count": null,
   "metadata": {},
   "outputs": [],
   "source": [
    "# #add the last part of synapses that were not from proofreading to the synapseExclude\n",
    "# ta3p100.SynapseExcludeFinal.insert(final_added_synapses,skip_duplicates=True)"
   ]
  }
 ],
 "metadata": {
  "kernelspec": {
   "display_name": "Python 3",
   "language": "python",
   "name": "python3"
  },
  "language_info": {
   "codemirror_mode": {
    "name": "ipython",
    "version": 3
   },
   "file_extension": ".py",
   "mimetype": "text/x-python",
   "name": "python",
   "nbconvert_exporter": "python",
   "pygments_lexer": "ipython3",
   "version": "3.6.5"
  }
 },
 "nbformat": 4,
 "nbformat_minor": 2
}
