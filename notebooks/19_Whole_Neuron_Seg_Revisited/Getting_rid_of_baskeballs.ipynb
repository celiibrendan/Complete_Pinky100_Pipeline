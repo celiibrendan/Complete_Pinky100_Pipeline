{
 "cells": [
  {
   "cell_type": "code",
   "execution_count": 1,
   "metadata": {},
   "outputs": [],
   "source": [
    "import numpy as np\n",
    "import datajoint as dj"
   ]
  },
  {
   "cell_type": "code",
   "execution_count": 2,
   "metadata": {},
   "outputs": [
    {
     "name": "stdout",
     "output_type": "stream",
     "text": [
      "Connecting celiib@10.28.0.34:3306\n"
     ]
    }
   ],
   "source": [
    "ta3p100 = dj.create_virtual_module(\"ta3p100\",\"microns_ta3p100\")"
   ]
  },
  {
   "cell_type": "code",
   "execution_count": 3,
   "metadata": {},
   "outputs": [],
   "source": [
    "#try to get the basketball cells by finding those whose automatic segmentation has more labels greater than 16\n",
    "segment_ids,triangles_total = ta3p100.Annotation.fetch(\"segment_id\",\"triangles\")"
   ]
  },
  {
   "cell_type": "code",
   "execution_count": 4,
   "metadata": {},
   "outputs": [
    {
     "data": {
      "text/plain": [
       "False"
      ]
     },
     "execution_count": 4,
     "metadata": {},
     "output_type": "execute_result"
    }
   ],
   "source": [
    "True in triangles_total[0] > 16"
   ]
  },
  {
   "cell_type": "code",
   "execution_count": 5,
   "metadata": {},
   "outputs": [
    {
     "name": "stderr",
     "output_type": "stream",
     "text": [
      "322it [00:00, 600.74it/s]"
     ]
    },
    {
     "name": "stdout",
     "output_type": "stream",
     "text": [
      "[648518346341388820, 648518346349386137, 648518346349471156, 648518346349471500, 648518346349471910, 648518346349472574, 648518346349473044, 648518346349473160, 648518346349473583, 648518346349473597, 648518346349473781, 648518346349473804, 648518346349473815, 648518346349473816, 648518346349473819, 648518346349473822, 648518346349473832, 648518346349473833, 648518346349473835, 648518346349473847, 648518346349473848, 648518346349473907, 648518346349474146, 648518346349475035, 648518346349475118, 648518346349475120, 648518346349475132, 648518346349475138, 648518346349475150, 648518346349475425, 648518346349475436, 648518346349475518, 648518346349475522, 648518346349475523, 648518346349475524, 648518346349475525, 648518346349475526, 648518346349475530, 648518346349475531, 648518346349475534, 648518346349475536, 648518346349475540, 648518346349475573, 648518346349476159, 648518346349476961, 648518346349477981, 648518346349478197, 648518346349478330, 648518346349478380, 648518346349478473, 648518346349478700, 648518346349478718, 648518346349478785, 648518346349478860, 648518346349478913, 648518346349479056, 648518346349479094, 648518346349479254, 648518346349479478, 648518346349479706, 648518346349479776, 648518346349479929, 648518346349480499, 648518346349481574, 648518346349482033, 648518346349483228, 648518346349485007, 648518346349485870, 648518346349486885, 648518346349486929, 648518346349487499, 648518346349487734, 648518346349490430, 648518346349490796, 648518346349491045, 648518346349491311, 648518346349491736, 648518346349491811, 648518346349491953, 648518346349492097, 648518346349492197, 648518346349492662, 648518346349493260, 648518346349493487, 648518346349493733, 648518346349493981, 648518346349494004, 648518346349494194, 648518346349494539, 648518346349494577, 648518346349494969, 648518346349495660, 648518346349495846, 648518346349495935, 648518346349495971, 648518346349496058, 648518346349496103, 648518346349496245, 648518346349497094, 648518346349497759, 648518346349498239, 648518346349498286, 648518346349498482, 648518346349498566, 648518346349498632, 648518346349499150, 648518346349499186, 648518346349499624, 648518346349499701, 648518346349499803, 648518346349499824, 648518346349499828, 648518346349499852, 648518346349500120, 648518346349500126, 648518346349500181, 648518346349500277, 648518346349500320, 648518346349500324, 648518346349500431, 648518346349500486, 648518346349500627, 648518346349500742, 648518346349500886, 648518346349500939, 648518346349501175, 648518346349501517, 648518346349501587, 648518346349501625, 648518346349501746, 648518346349501787, 648518346349502049, 648518346349502434, 648518346349503086, 648518346349503140, 648518346349503473, 648518346349503588, 648518346349503591, 648518346349503643, 648518346349503766, 648518346349503767, 648518346349503924, 648518346349504130, 648518346349504273, 648518346349504754, 648518346349505144, 648518346349505512, 648518346349505739, 648518346349505813, 648518346349505911, 648518346349506092, 648518346349506513, 648518346349506748, 648518346349506808, 648518346349506944, 648518346349506952, 648518346349507015, 648518346349507087, 648518346349507175, 648518346349507355, 648518346349507537, 648518346349507658, 648518346349507717, 648518346349507963, 648518346349507984]\n"
     ]
    },
    {
     "name": "stderr",
     "output_type": "stream",
     "text": [
      "\n"
     ]
    }
   ],
   "source": [
    "from collections import Counter\n",
    "from tqdm import tqdm\n",
    "\n",
    "size_threshold = 50\n",
    "\n",
    "possible_basketball = []\n",
    "\n",
    "for id,tri in tqdm(zip(segment_ids,triangles_total)):\n",
    "    \n",
    "    if len(tri) > size_threshold and (True in (tri > 16)):\n",
    "        possible_basketball.append(id)\n",
    "\n",
    "print(possible_basketball)"
   ]
  },
  {
   "cell_type": "code",
   "execution_count": 6,
   "metadata": {},
   "outputs": [
    {
     "name": "stdout",
     "output_type": "stream",
     "text": [
      "165\n"
     ]
    }
   ],
   "source": [
    "print(len(possible_basketball))"
   ]
  },
  {
   "cell_type": "code",
   "execution_count": 7,
   "metadata": {},
   "outputs": [
    {
     "data": {
      "text/plain": [
       "648518346349473044"
      ]
     },
     "execution_count": 7,
     "metadata": {},
     "output_type": "execute_result"
    }
   ],
   "source": [
    "possible_basketball[6]"
   ]
  },
  {
   "cell_type": "code",
   "execution_count": 8,
   "metadata": {},
   "outputs": [],
   "source": [
    "\"\"\"\n",
    "List of the neeurons and their category\n",
    "\n",
    "\"\"\"\n",
    "\n",
    "no_basketball_with_soma = [648518346341388820,\n",
    "                             ]\n",
    "\n",
    "no_basketball_no_soma = [\n",
    "    \n",
    "]\n",
    "\n",
    "basketball_cell = [648518346349471156,\n",
    "                   648518346349471500,\n",
    "                   648518346349471910,\n",
    "                   648518346349472574,\n",
    "                   648518346349473044\n",
    "    \n",
    "]\n",
    "\n",
    "small_chunk_with_soma = [\n",
    "    648518346349386137,\n",
    "]"
   ]
  },
  {
   "cell_type": "code",
   "execution_count": 27,
   "metadata": {},
   "outputs": [],
   "source": [
    "import pathlib\n",
    "def write_Whole_Neuron_Off_file(neuron_ID,vertices=[], triangles=[]):\n",
    "    #primary_key = dict(segmentation=1, segment_id=segment_id, decimation_ratio=0.35)\n",
    "    #vertices, triangles = (mesh_Table_35 & primary_key).fetch1('vertices', 'triangles')\n",
    "    \n",
    "    num_vertices = (len(vertices))\n",
    "    num_faces = len(triangles)\n",
    "    \n",
    "    #get the current file location\n",
    "    \n",
    "    file_loc = pathlib.Path.cwd() / \"temp\"\n",
    "    filename = \"neuron_\" + str(neuron_ID)\n",
    "    path_and_filename = file_loc / filename\n",
    "    \n",
    "    #print(file_loc)\n",
    "    #print(path_and_filename)\n",
    "    \n",
    "    #open the file and start writing to it    \n",
    "    f = open(str(path_and_filename) + \".off\", \"w\")\n",
    "    f.write(\"OFF\\n\")\n",
    "    f.write(str(num_vertices) + \" \" + str(num_faces) + \" 0\\n\" )\n",
    "    \n",
    "    \n",
    "    #iterate through and write all of the vertices in the file\n",
    "    for verts in vertices:\n",
    "        f.write(str(verts[0]) + \" \" + str(verts[1]) + \" \" + str(verts[2])+\"\\n\")\n",
    "    \n",
    "    #print(\"Done writing verts\")\n",
    "        \n",
    "    for faces in triangles:\n",
    "        f.write(\"3 \" + str(faces[0]) + \" \" + str(faces[1]) + \" \" + str(faces[2])+\"\\n\")\n",
    "    \n",
    "    print(\"Done writing OFF file\")\n",
    "    #f.write(\"end\")\n",
    "    \n",
    "    return str(path_and_filename),str(filename),str(file_loc)"
   ]
  },
  {
   "cell_type": "markdown",
   "metadata": {},
   "source": [
    "# Try and see what Pymesh Fix does"
   ]
  },
  {
   "cell_type": "code",
   "execution_count": 51,
   "metadata": {},
   "outputs": [],
   "source": [
    "segment_id=648518346349471500"
   ]
  },
  {
   "cell_type": "code",
   "execution_count": 52,
   "metadata": {},
   "outputs": [],
   "source": [
    "basketball_mesh = (ta3p100.CleansedMesh & dict(segment_id=segment_id)).fetch1()\n",
    "verts = basketball_mesh[\"vertices\"]\n",
    "faces = basketball_mesh[\"triangles\"]"
   ]
  },
  {
   "cell_type": "code",
   "execution_count": 53,
   "metadata": {},
   "outputs": [
    {
     "name": "stdout",
     "output_type": "stream",
     "text": [
      "Done writing OFF file\n"
     ]
    },
    {
     "data": {
      "text/plain": [
       "('/notebooks/19_Whole_Neuron_Seg_Revisited/temp/neuron_648518346349471500_original',\n",
       " 'neuron_648518346349471500_original',\n",
       " '/notebooks/19_Whole_Neuron_Seg_Revisited/temp')"
      ]
     },
     "execution_count": 53,
     "metadata": {},
     "output_type": "execute_result"
    }
   ],
   "source": [
    "write_Whole_Neuron_Off_file(str(segment_id)+ \"_original\",verts,faces)"
   ]
  },
  {
   "cell_type": "code",
   "execution_count": 54,
   "metadata": {},
   "outputs": [
    {
     "name": "stdout",
     "output_type": "stream",
     "text": [
      "Step 2: Pymesh shrinkwrapping: 186.20285940170288\n"
     ]
    }
   ],
   "source": [
    "import pymeshfix\n",
    "import time\n",
    "\n",
    "#print(\"Step 2: Remove all error semgents\")\n",
    "start_time = time.time()\n",
    "#pass the vertices and faces to pymeshfix to become watertight\n",
    "meshfix = pymeshfix.MeshFix(verts,faces)\n",
    "meshfix.repair(verbose=False,joincomp=True,remove_smallest_components=False)\n",
    "print(f\"Step 2: Pymesh shrinkwrapping: {time.time() - start_time}\")\n"
   ]
  },
  {
   "cell_type": "code",
   "execution_count": 55,
   "metadata": {},
   "outputs": [
    {
     "name": "stdout",
     "output_type": "stream",
     "text": [
      "Done writing OFF file\n",
      "Step 3: Writing shrinkwrap off file: 2.1492819786071777\n"
     ]
    }
   ],
   "source": [
    "#print(\"Step 2: Writing Off File\")\n",
    "start_time = time.time()\n",
    "#write the new mesh to off file\n",
    "path_and_filename,filename,file_loc = write_Whole_Neuron_Off_file(str(segment_id),meshfix.v,meshfix.f)\n",
    "print(f\"Step 3: Writing shrinkwrap off file: {time.time() - start_time}\")\n"
   ]
  },
  {
   "cell_type": "code",
   "execution_count": null,
   "metadata": {},
   "outputs": [],
   "source": [
    "import os\n",
    "import contextlib\n",
    "\n",
    "with open(os.devnull, \"w\") as f, contextlib.redirect_stdout(f):\n",
    "    part_2_spines_whole.export(\"./neurons/part_2_spines_whole.off\")\n",
    "    part_3_spines_whole.export(\"./neurons/part_3_spines_whole.off\")\n",
    "    part_4_spines_whole.export(\"./neurons/part_4_spines_whole.off\")\n",
    "    part_1_spines_whole.export(\"./neurons/part_1_spines_whole.off\")"
   ]
  },
  {
   "cell_type": "code",
   "execution_count": null,
   "metadata": {},
   "outputs": [],
   "source": []
  }
 ],
 "metadata": {
  "kernelspec": {
   "display_name": "Python 3",
   "language": "python",
   "name": "python3"
  },
  "language_info": {
   "codemirror_mode": {
    "name": "ipython",
    "version": 3
   },
   "file_extension": ".py",
   "mimetype": "text/x-python",
   "name": "python",
   "nbconvert_exporter": "python",
   "pygments_lexer": "ipython3",
   "version": "3.6.5"
  }
 },
 "nbformat": 4,
 "nbformat_minor": 2
}
