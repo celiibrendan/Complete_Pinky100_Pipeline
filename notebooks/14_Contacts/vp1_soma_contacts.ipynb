{
 "cells": [
  {
   "cell_type": "code",
   "execution_count": 1,
   "metadata": {},
   "outputs": [],
   "source": [
    "import numpy as np\n",
    "import datajoint as dj\n",
    "import time\n",
    "import pymeshfix\n",
    "import os\n",
    "import datetime\n",
    "import calcification_Module as cm\n",
    "\n",
    "#for supressing the output\n",
    "import os, contextlib\n",
    "import pathlib\n",
    "import subprocess\n",
    "\n",
    "#for error counting\n",
    "from collections import Counter\n",
    "\n",
    "#for reading in the new raw_skeleton files\n",
    "import csv\n",
    "\n",
    "from meshparty import trimesh_io\n",
    "\n",
    "#for filtering\n",
    "import math\n",
    "from pykdtree.kdtree import KDTree\n"
   ]
  },
  {
   "cell_type": "code",
   "execution_count": 2,
   "metadata": {},
   "outputs": [
    {
     "name": "stdout",
     "output_type": "stream",
     "text": [
      "Connecting celiib@10.28.0.34:3306\n"
     ]
    }
   ],
   "source": [
    "#setting the address and the username\n",
    "dj.config['database.host'] = '10.28.0.34'\n",
    "dj.config['database.user'] = 'celiib'\n",
    "dj.config['database.password'] = 'newceliipass'\n",
    "dj.config['safemode']=True\n",
    "dj.config[\"display.limit\"] = 20\n",
    "\n",
    "schema = dj.schema('microns_ta3p100')\n",
    "ta3p100 = dj.create_virtual_module('ta3p100', 'microns_ta3p100')\n"
   ]
  },
  {
   "cell_type": "code",
   "execution_count": 3,
   "metadata": {},
   "outputs": [],
   "source": [
    "def filter_edges_by_bounding_box(edges,max_bb_zone,min_bb_zone):\n",
    "    #can just use bounding box function to get rid of any inside edges\n",
    "    filtered_edges = list()\n",
    "\n",
    "    for i,e in enumerate(edges):\n",
    "        #print(e)\n",
    "        if min(e[0][0],e[1][0])>max_bb_zone[0]:\n",
    "            #print(\"minx>maxx\")\n",
    "            continue\n",
    "\n",
    "        if max(e[0][0],e[1][0])<min_bb_zone[0]:\n",
    "            #print(\"maxx<minx\")\n",
    "            continue\n",
    "\n",
    "        if min(e[0][1],e[1][1])>max_bb_zone[1]:\n",
    "            #print(\"miny>maxy\")\n",
    "            continue\n",
    "\n",
    "        if max(e[0][1],e[1][1])<min_bb_zone[1]:\n",
    "            #print(\"maxy<miny\")\n",
    "            continue\n",
    "\n",
    "        if min(e[0][2],e[1][2])>max_bb_zone[2]:\n",
    "            #print(\"minz>maxz\")\n",
    "            continue\n",
    "\n",
    "        if max(e[0][2],e[1][2])<min_bb_zone[2]:\n",
    "            #print(\"maxz<minz\")\n",
    "            continue\n",
    "\n",
    "        filtered_edges.append(e)\n",
    "\n",
    "    return np.array(filtered_edges)"
   ]
  },
  {
   "cell_type": "code",
   "execution_count": 4,
   "metadata": {},
   "outputs": [],
   "source": [
    "def sample_edges(filtered_edges,resolution=100):\n",
    "    \n",
    "    filtered_edges_distance_lin_alg = [np.linalg.norm(a[0]-a[1]) for a in  filtered_edges]\n",
    "    \n",
    "    print(\"filtered_edges.shape = \" + str(np.array(filtered_edges).shape))\n",
    "    \n",
    "    midpoints_edges_total = []\n",
    "    discrete_edges_total = []\n",
    "    for i,(edg,edg_len) in enumerate(zip(filtered_edges,filtered_edges_distance_lin_alg)):\n",
    "        #find the number of segments to divide line into\n",
    "        n_segments = math.ceil(edg_len/resolution)\n",
    "        discrete_points = (np.linspace(edg[0],edg[1],n_segments+1))\n",
    "        \n",
    "        #discrete_edges = np.array((discrete_points[:-1],discrete_points[1:])).T\n",
    "        discrete_edges = np.vstack((discrete_points[:-1],discrete_points[1:])).reshape(n_segments,2,3)\n",
    "        discrete_edges_total.append(discrete_edges)\n",
    "        \n",
    "        midpoints_edges = [(x[0] + x[1]) / 2 for x in discrete_edges]\n",
    "        midpoints_edges_total.append(midpoints_edges)\n",
    "        \n",
    "    \n",
    "    #need to reshape\n",
    "    discrete_edges_total_reshaped = np.vstack(discrete_edges_total)\n",
    "    midpoints_edges_total_reshaped = np.concatenate(midpoints_edges_total)\n",
    "    \n",
    "    return discrete_edges_total_reshaped,midpoints_edges_total_reshaped\n",
    "\n",
    "\n"
   ]
  },
  {
   "cell_type": "code",
   "execution_count": 5,
   "metadata": {},
   "outputs": [],
   "source": [
    "#main function that does work\n",
    "\"\"\" pseudocode steps\n",
    "1) Recieve presyn id and postsyn id\n",
    "2) Retrieve presyn skeleton\n",
    "3) Retrieve postsyn soma bounding box and mesh\n",
    "4) Filter the presyn edges for those that pass through the soma bounding box\n",
    "5) discretize the edges of presyn even more\n",
    "\n",
    "\n",
    "\"\"\"\n",
    "def get_somatic_contacts(presyn_id,postsyn_id,threhsold=1500):\n",
    "\n",
    "    global_start_time = time.time()\n",
    "\n",
    "    #retrieve presyn skeelton\n",
    "    presyn_skeleton = (ta3p100.FilteredSkeleton & dict(segmentation=2,segment_id=presyn_id)).fetch1()\n",
    "\n",
    "    #retrieve postsyn mesh and founding box\n",
    "    postsyn_soma_data = (ta3p100.FilteredSkeletonMinusSoma & dict(segmentation=2,segment_id=postsyn_id)).fetch1()\n",
    "\n",
    "    #get the mesh\n",
    "    soma_vertices = postsyn_soma_data[\"vertices\"]\n",
    "    bounding_corners = postsyn_soma_data[\"soma_bounding_corners\"]\n",
    "\n",
    "    start_time = time.time()\n",
    "    print(\"edges pulled shape = \" + str(presyn_skeleton[\"edges\"].shape))\n",
    "    #get the filtered edges according to bounding box:\n",
    "    filtered_edges_presyn = filter_edges_by_bounding_box(presyn_skeleton[\"edges\"],\n",
    "                                                         bounding_corners[1] + threhsold,\n",
    "                                                         bounding_corners[0] - threhsold)\n",
    "\n",
    "    print(\"extra filter shape = \" + str(filtered_edges_presyn.shape))\n",
    "    print(f\"Step 3: filtering edges = {time.time()-start_time}\")\n",
    "\n",
    "    #descretize the edges of the presyn even more\n",
    "    discrete_edges_total,midpoints_edges_total= sample_edges(filtered_edges_presyn,resolution=50)\n",
    "\n",
    "    # print(discrete_edges_total.shape) \n",
    "    # print(discrete_edges_total)\n",
    "    # print(midpoints_edges_total.shape)\n",
    "    # print(midpoints_edges_total)\n",
    "\n",
    "\n",
    "    # #do KDTree on the midpoints of the new edges to find which ones to keep\n",
    "    kdtree = KDTree(soma_vertices)\n",
    "\n",
    "    distances, nearest_nodes = kdtree.query(midpoints_edges_total)\n",
    "\n",
    "    final_presyn_edges = discrete_edges_total[distances<threhsold]\n",
    "    print(\"final_presyn_edges.shape = \" + str(final_presyn_edges.shape))\n",
    "\n",
    "    #Get the final postsyn edges\n",
    "    \"\"\"\n",
    "    1) Map all of the discrete points to the post-synaptic, using query\n",
    "    2) Construct edge vertices for those\n",
    "    3) keep all those that are within the threshold\n",
    "\n",
    "    \"\"\"\n",
    "\n",
    "\n",
    "    \"\"\" This method is too00000000 slow\n",
    "    final_postsyn_edges = []\n",
    "    for ed in final_presyn_edges:\n",
    "        #print(np.array([ed[0],ed[1]]))\n",
    "        distances, nearest_nodes = kdtree.query(np.array([ed[0],ed[1]]))\n",
    "        final_postsyn_edges.append([nearest_nodes[0],nearest_nodes[1]])\n",
    "\n",
    "    final_postsyn_edges = np.array(final_postsyn_edges)\n",
    "    \"\"\"\n",
    "\n",
    "    distances, nearest_nodes = kdtree.query(final_presyn_edges.reshape(-1,3))\n",
    "    final_postsyn_edges = soma_vertices[nearest_nodes].reshape(-1,2,3)\n",
    "\n",
    "\n",
    "    print(f\"Total time = {time.time()-global_start_time}\")\n"
   ]
  },
  {
   "cell_type": "code",
   "execution_count": 6,
   "metadata": {},
   "outputs": [
    {
     "name": "stdout",
     "output_type": "stream",
     "text": [
      "edges pulled shape = (535, 2, 3)\n",
      "extra filter shape = (121, 2, 3)\n",
      "Step 3: filtering edges = 0.0054569244384765625\n",
      "filtered_edges.shape = (121, 2, 3)\n",
      "final_presyn_edges.shape = (595, 2, 3)\n",
      "Total time = 0.16702055931091309\n"
     ]
    }
   ],
   "source": [
    "presyn_id = 648518346341404853 \n",
    "postsyn_id = 648518346341393609\n",
    "threhsold = 1500\n",
    "get_somatic_contacts(presyn_id,postsyn_id,threhsold)"
   ]
  },
  {
   "cell_type": "code",
   "execution_count": 7,
   "metadata": {},
   "outputs": [],
   "source": [
    "# outfile = str(postsyn_id) + \"_contacts.npz\"\n",
    "# np.savez(outfile,final_presyn_edges= final_presyn_edges, final_postsyn_edges=final_postsyn_edges,\n",
    "#          discrete_edges_total=discrete_edges_total,filtered_edges_presyn=filtered_edges_presyn,pre_filter=presyn_skeleton[\"edges\"])"
   ]
  },
  {
   "cell_type": "code",
   "execution_count": 8,
   "metadata": {},
   "outputs": [],
   "source": [
    "# my_container = np.load(\"648518346341393609_contacts.npz\")\n",
    "# my_container.files\n",
    "# my_container[\"final_presyn_edges\"]"
   ]
  }
 ],
 "metadata": {
  "kernelspec": {
   "display_name": "Python 3",
   "language": "python",
   "name": "python3"
  },
  "language_info": {
   "codemirror_mode": {
    "name": "ipython",
    "version": 3
   },
   "file_extension": ".py",
   "mimetype": "text/x-python",
   "name": "python",
   "nbconvert_exporter": "python",
   "pygments_lexer": "ipython3",
   "version": "3.6.5"
  }
 },
 "nbformat": 4,
 "nbformat_minor": 2
}
