{
 "cells": [
  {
   "cell_type": "code",
   "execution_count": 1,
   "metadata": {},
   "outputs": [
    {
     "name": "stdout",
     "output_type": "stream",
     "text": [
      "Connecting celiib@10.28.0.34:3306\n"
     ]
    }
   ],
   "source": [
    "import datajoint as dj\n",
    "import numpy as np\n",
    "import time\n",
    "import pymeshfix\n",
    "\n",
    "dj.config['database.host'] = '10.28.0.34'\n",
    "dj.config['database.user'] = 'celiib'\n",
    "dj.config['database.password'] = 'newceliipass'\n",
    "dj.config[\"display.limit\"] = 20\n",
    "    \n",
    "#schema = dj.schema('microns_ta3p100')\n",
    "#ta3p100 = dj.create_virtual_module('ta3p100', 'microns_ta3p100')\n",
    "schema = dj.schema(\"microns_pinky\")\n",
    "pinky = dj.create_virtual_module(\"pinky\",\"microns_pinky\")"
   ]
  },
  {
   "cell_type": "code",
   "execution_count": 2,
   "metadata": {},
   "outputs": [],
   "source": [
    "@schema\n",
    "class PymeshfixDecimatedExcitatoryStitchedMesh(dj.Computed):\n",
    "    definition = \"\"\"\n",
    "    -> pinky.Decimation35ExcitatoryStitchedMesh               \n",
    "    ---\n",
    "    n_vertices           : bigint  #total number of vertices after pymeshfix cleaning                     \n",
    "    n_triangles          : bigint  #total number of faces after pymeshfix cleaning                    \n",
    "    vertices             : longblob #vertices after pymeshfix cleaning                  \n",
    "    triangles            : longblob #faces after pymeshfix cleaning  \n",
    "    perc_vertices_remaining  : decimal(6,5) #number of vertices still present after pymeshfix cleaning\n",
    "    perc_triangles_remaining  : decimal(6,5) #number of faces still present after pymeshfix cleaning\n",
    "    \n",
    "    \"\"\"\n",
    "    \n",
    "    #getting the keys from the following three tables\n",
    "    #key_source = ta3p100.Mesh & ta3p100.CurrentSegmentation & ta3p100.AllenSomaClass\n",
    "    \n",
    "    def make(self, key):\n",
    "        start_time = time.time()\n",
    "        \n",
    "        print(\"\\n\\n*****Starting pymeshfix algorithm for \" + str(key[\"segment_id\"]) + \"******\")\n",
    "        \n",
    "        joincomp = True\n",
    "        remove_smallest_components = False\n",
    "        \n",
    "        \n",
    "        #get the vertices \n",
    "        mesh = (pinky.Decimation35ExcitatoryStitchedMesh & key).fetch1()\n",
    "        vertices, triangles = mesh['vertices'], mesh['triangles']\n",
    "        meshfix = pymeshfix.MeshFix(vertices,triangles)\n",
    "        verbose=False\n",
    "        meshfix.repair(verbose,joincomp,remove_smallest_components)\n",
    "        new_verts = meshfix.v\n",
    "        new_faces = meshfix.f\n",
    "\n",
    "        \n",
    "        self.insert1(dict(key,\n",
    "                          n_vertices=len(new_verts),\n",
    "                          n_triangles=len(new_faces),\n",
    "                          vertices=new_verts,\n",
    "                          triangles=new_faces,\n",
    "                         perc_vertices_remaining=len(new_verts)/len(vertices),\n",
    "                         perc_triangles_remaining=len(new_faces)/len(triangles)),skip_duplicates=True)\n",
    "        \n",
    "        \n",
    "        print(f\"Finished pymeshfix algorithm: {time.time() - start_time}\")\n",
    "        \n"
   ]
  },
  {
   "cell_type": "code",
   "execution_count": 3,
   "metadata": {},
   "outputs": [
    {
     "name": "stdout",
     "output_type": "stream",
     "text": [
      "\n",
      "\n",
      "*****Starting pymeshfix algorithm for 648518346349473830******\n",
      "Finished pymeshfix algorithm: 25.089318990707397\n",
      "\n",
      "\n",
      "*****Starting pymeshfix algorithm for 648518346349475138******\n",
      "Finished pymeshfix algorithm: 13.630682229995728\n",
      "\n",
      "\n",
      "*****Starting pymeshfix algorithm for 648518346349475522******\n",
      "Finished pymeshfix algorithm: 43.38956332206726\n",
      "\n",
      "\n",
      "*****Starting pymeshfix algorithm for 648518346349479478******\n",
      "Finished pymeshfix algorithm: 135.86380076408386\n",
      "\n",
      "\n",
      "*****Starting pymeshfix algorithm for 648518346349490614******\n",
      "Finished pymeshfix algorithm: 69.10512900352478\n",
      "\n",
      "\n",
      "*****Starting pymeshfix algorithm for 648518346349493354******\n",
      "Finished pymeshfix algorithm: 128.07219338417053\n",
      "\n",
      "\n",
      "*****Starting pymeshfix algorithm for 648518346349498406******\n",
      "Finished pymeshfix algorithm: 118.34642004966736\n",
      "\n",
      "\n",
      "*****Starting pymeshfix algorithm for 648518346349499828******\n",
      "Finished pymeshfix algorithm: 117.86276602745056\n",
      "\n",
      "\n",
      "*****Starting pymeshfix algorithm for 648518346349500486******\n",
      "Finished pymeshfix algorithm: 212.64567518234253\n",
      "\n",
      "\n",
      "*****Starting pymeshfix algorithm for 648518346349504955******\n",
      "Finished pymeshfix algorithm: 118.47221851348877\n",
      "\n",
      "\n",
      "*****Starting pymeshfix algorithm for 648518346349506617******\n",
      "Finished pymeshfix algorithm: 76.03363108634949\n",
      "\n",
      "\n",
      "*****Starting pymeshfix algorithm for 648518346349507788******\n",
      "Finished pymeshfix algorithm: 128.11292576789856\n",
      "\n",
      "\n",
      "*****Starting pymeshfix algorithm for 648518346349511212******\n",
      "Finished pymeshfix algorithm: 30.364551782608032\n",
      "\n",
      "\n",
      "*****Starting pymeshfix algorithm for 648518346349511920******\n",
      "Finished pymeshfix algorithm: 115.41540765762329\n",
      "1336.188455581665\n"
     ]
    }
   ],
   "source": [
    "start = time.time()\n",
    "PymeshfixDecimatedExcitatoryStitchedMesh.populate(reserve_jobs=True)\n",
    "print(time.time() - start)"
   ]
  },
  {
   "cell_type": "code",
   "execution_count": 4,
   "metadata": {},
   "outputs": [],
   "source": [
    "#(schema.jobs & \"table_name='__pymeshfix_decimated_excitatory_stitched_mesh'\").delete()"
   ]
  },
  {
   "cell_type": "code",
   "execution_count": null,
   "metadata": {},
   "outputs": [],
   "source": []
  }
 ],
 "metadata": {
  "kernelspec": {
   "display_name": "Python 3",
   "language": "python",
   "name": "python3"
  },
  "language_info": {
   "codemirror_mode": {
    "name": "ipython",
    "version": 3
   },
   "file_extension": ".py",
   "mimetype": "text/x-python",
   "name": "python",
   "nbconvert_exporter": "python",
   "pygments_lexer": "ipython3",
   "version": "3.6.5"
  }
 },
 "nbformat": 4,
 "nbformat_minor": 2
}
