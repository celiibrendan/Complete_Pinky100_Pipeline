{
 "cells": [
  {
   "cell_type": "code",
   "execution_count": 1,
   "metadata": {},
   "outputs": [],
   "source": [
    "import datajoint as dj\n",
    "import numpy as np\n",
    "import time\n",
    "from tqdm import tqdm"
   ]
  },
  {
   "cell_type": "code",
   "execution_count": 2,
   "metadata": {},
   "outputs": [
    {
     "name": "stdout",
     "output_type": "stream",
     "text": [
      "Connecting celiib@10.28.0.34:3306\n"
     ]
    }
   ],
   "source": [
    "#setting the address and the username\n",
    "dj.config['database.host'] = '10.28.0.34'\n",
    "dj.config['database.user'] = 'celiib'\n",
    "dj.config['database.password'] = 'newceliipass'\n",
    "dj.config['safemode']=True\n",
    "dj.config[\"display.limit\"] = 20\n",
    "\n",
    "pinky = dj.create_virtual_module('pinky', 'microns_pinky')\n",
    "schema = dj.schema('microns_pinky')"
   ]
  },
  {
   "cell_type": "code",
   "execution_count": 3,
   "metadata": {},
   "outputs": [],
   "source": [
    "#ta3p100.ProofreadLabelOrphan() & \"segment_id=648518346341352006\""
   ]
  },
  {
   "cell_type": "code",
   "execution_count": 4,
   "metadata": {},
   "outputs": [],
   "source": [
    "#ta3p100.CleansedMeshOrphan()"
   ]
  },
  {
   "cell_type": "code",
   "execution_count": null,
   "metadata": {},
   "outputs": [],
   "source": []
  },
  {
   "cell_type": "code",
   "execution_count": 5,
   "metadata": {},
   "outputs": [],
   "source": [
    "@schema\n",
    "class CoarseLabelOrphan(dj.Computed):\n",
    "    definition = \"\"\"\n",
    "    # Vertex labels for pinky.ProofreadLabelOrphan did not correctly match the triangle labels, so these are regenerated from the correct triangle labels.\n",
    "    -> pinky.ProofreadLabelOrphan\n",
    "    ---\n",
    "    vertices  : longblob # Corrected vertex labels\n",
    "    triangles : longblob # Same triangle labels as pinky.ProofreadLabelOrphan\n",
    "    \"\"\"\n",
    "    \n",
    "    key_source = pinky.ProofreadLabelOrphan & 'status=\"complete\"'\n",
    "    \n",
    "    def make(self, key):\n",
    "        start = time.time()\n",
    "        \n",
    "        print(key[\"segment_id\"])\n",
    "        labels = (pinky.ProofreadLabelOrphan & key).fetch1()\n",
    "        corrected_vertex_labels = np.zeros(labels['vertices'].shape, np.uint8)\n",
    "        \n",
    "        mesh = (pinky.Decimation35OrphanStitched & 'decimation_ratio=0.35' & dict(segment_id=key['segment_id'])).fetch1()\n",
    "        mesh_triangles = mesh['triangles']\n",
    "        \n",
    "        vertex_label_dict = dict()\n",
    "        for i, label in enumerate(labels['triangles']):\n",
    "            triangle = mesh_triangles[i]\n",
    "            for node in triangle:\n",
    "                if node in vertex_label_dict:\n",
    "                    if vertex_label_dict[node] < label:\n",
    "                        vertex_label_dict[node] = label\n",
    "                else:\n",
    "                    vertex_label_dict[node] = label\n",
    "                \n",
    "        for node, label in vertex_label_dict.items():\n",
    "            corrected_vertex_labels[node] = label\n",
    "            \n",
    "        self.insert1(dict(key,\n",
    "                          vertices=corrected_vertex_labels,\n",
    "                          triangles=labels['triangles']))\n",
    "        \n",
    "        print(\"Segment {} vertex labels regenerated in: {} seconds.\".format(key['segment_id'], time.time() - start))"
   ]
  },
  {
   "cell_type": "code",
   "execution_count": 6,
   "metadata": {},
   "outputs": [
    {
     "name": "stdout",
     "output_type": "stream",
     "text": [
      "648518346341410176\n",
      "Segment 648518346341410176 vertex labels regenerated in: 0.6848444938659668 seconds.\n",
      "648518346341410817\n",
      "Segment 648518346341410817 vertex labels regenerated in: 0.6636748313903809 seconds.\n",
      "648518346341412024\n",
      "Segment 648518346341412024 vertex labels regenerated in: 0.6371181011199951 seconds.\n",
      "648518346341413929\n",
      "Segment 648518346341413929 vertex labels regenerated in: 0.9099893569946289 seconds.\n",
      "648518346341417088\n",
      "Segment 648518346341417088 vertex labels regenerated in: 0.8257994651794434 seconds.\n",
      "648518346342106194\n",
      "Segment 648518346342106194 vertex labels regenerated in: 0.7220273017883301 seconds.\n",
      "648518346342317129\n",
      "Segment 648518346342317129 vertex labels regenerated in: 0.715773344039917 seconds.\n",
      "648518346342414966\n",
      "Segment 648518346342414966 vertex labels regenerated in: 0.6848366260528564 seconds.\n",
      "648518346342788331\n",
      "Segment 648518346342788331 vertex labels regenerated in: 0.7506706714630127 seconds.\n",
      "648518346342790849\n",
      "Segment 648518346342790849 vertex labels regenerated in: 0.7281827926635742 seconds.\n",
      "648518346342791580\n",
      "Segment 648518346342791580 vertex labels regenerated in: 0.8266053199768066 seconds.\n",
      "648518346342792282\n",
      "Segment 648518346342792282 vertex labels regenerated in: 0.8587644100189209 seconds.\n",
      "648518346342793468\n",
      "Segment 648518346342793468 vertex labels regenerated in: 1.0226271152496338 seconds.\n",
      "648518346342795460\n",
      "Segment 648518346342795460 vertex labels regenerated in: 0.7671737670898438 seconds.\n",
      "648518346342796517\n",
      "Segment 648518346342796517 vertex labels regenerated in: 1.0432438850402832 seconds.\n",
      "648518346342797719\n",
      "Segment 648518346342797719 vertex labels regenerated in: 1.1730406284332275 seconds.\n",
      "648518346342800079\n",
      "Segment 648518346342800079 vertex labels regenerated in: 0.7467238903045654 seconds.\n",
      "648518346342802094\n",
      "Segment 648518346342802094 vertex labels regenerated in: 0.8792393207550049 seconds.\n",
      "648518346342803651\n",
      "Segment 648518346342803651 vertex labels regenerated in: 0.9425597190856934 seconds.\n",
      "648518346342804741\n",
      "Segment 648518346342804741 vertex labels regenerated in: 0.7941136360168457 seconds.\n",
      "648518346342806273\n",
      "Segment 648518346342806273 vertex labels regenerated in: 1.07509446144104 seconds.\n",
      "648518346342807619\n",
      "Segment 648518346342807619 vertex labels regenerated in: 0.9435834884643555 seconds.\n",
      "648518346342808119\n",
      "Segment 648518346342808119 vertex labels regenerated in: 0.9102780818939209 seconds.\n",
      "648518346342915059\n",
      "Segment 648518346342915059 vertex labels regenerated in: 0.9703116416931152 seconds.\n",
      "648518346342918705\n",
      "Segment 648518346342918705 vertex labels regenerated in: 1.194483757019043 seconds.\n",
      "648518346342924630\n",
      "Segment 648518346342924630 vertex labels regenerated in: 0.8463337421417236 seconds.\n",
      "648518346342926794\n",
      "Segment 648518346342926794 vertex labels regenerated in: 0.885840654373169 seconds.\n",
      "648518346343455381\n",
      "Segment 648518346343455381 vertex labels regenerated in: 0.9679553508758545 seconds.\n",
      "648518346343808688\n",
      "Segment 648518346343808688 vertex labels regenerated in: 0.9713640213012695 seconds.\n",
      "648518346344075914\n",
      "Segment 648518346344075914 vertex labels regenerated in: 1.8565900325775146 seconds.\n",
      "648518346344461704\n",
      "Segment 648518346344461704 vertex labels regenerated in: 0.5896170139312744 seconds.\n",
      "648518346344499416\n",
      "Segment 648518346344499416 vertex labels regenerated in: 0.6048920154571533 seconds.\n",
      "648518346344506020\n",
      "Segment 648518346344506020 vertex labels regenerated in: 0.735389232635498 seconds.\n",
      "648518346344518919\n",
      "Segment 648518346344518919 vertex labels regenerated in: 0.9634931087493896 seconds.\n",
      "648518346345768473\n",
      "Segment 648518346345768473 vertex labels regenerated in: 0.6077885627746582 seconds.\n",
      "648518346345883978\n",
      "Segment 648518346345883978 vertex labels regenerated in: 0.81949782371521 seconds.\n",
      "648518346346300404\n",
      "Segment 648518346346300404 vertex labels regenerated in: 0.6183786392211914 seconds.\n",
      "648518346346307118\n",
      "Segment 648518346346307118 vertex labels regenerated in: 0.6883692741394043 seconds.\n",
      "648518346346584676\n",
      "Segment 648518346346584676 vertex labels regenerated in: 0.6633832454681396 seconds.\n",
      "648518346346594840\n",
      "Segment 648518346346594840 vertex labels regenerated in: 0.5752193927764893 seconds.\n",
      "648518346346910642\n",
      "Segment 648518346346910642 vertex labels regenerated in: 0.8620812892913818 seconds.\n",
      "648518346348107496\n",
      "Segment 648518346348107496 vertex labels regenerated in: 0.5043535232543945 seconds.\n",
      "648518346348112202\n",
      "Segment 648518346348112202 vertex labels regenerated in: 0.6241490840911865 seconds.\n",
      "648518346348119340\n",
      "Segment 648518346348119340 vertex labels regenerated in: 0.7388284206390381 seconds.\n",
      "648518346348190705\n",
      "Segment 648518346348190705 vertex labels regenerated in: 1.0725164413452148 seconds.\n",
      "648518346348211022\n",
      "Segment 648518346348211022 vertex labels regenerated in: 0.5530412197113037 seconds.\n",
      "648518346348214137\n",
      "Segment 648518346348214137 vertex labels regenerated in: 0.6830141544342041 seconds.\n",
      "648518346348465196\n",
      "Segment 648518346348465196 vertex labels regenerated in: 0.6224136352539062 seconds.\n",
      "648518346348719136\n",
      "Segment 648518346348719136 vertex labels regenerated in: 0.7964284420013428 seconds.\n",
      "648518346349375068\n",
      "Segment 648518346349375068 vertex labels regenerated in: 0.6534113883972168 seconds.\n",
      "648518346349380492\n",
      "Segment 648518346349380492 vertex labels regenerated in: 0.7735860347747803 seconds.\n",
      "648518346349462805\n",
      "Segment 648518346349462805 vertex labels regenerated in: 0.8421194553375244 seconds.\n",
      "648518346349481653\n",
      "Segment 648518346349481653 vertex labels regenerated in: 1.0096166133880615 seconds.\n",
      "648518346349494801\n",
      "Segment 648518346349494801 vertex labels regenerated in: 1.5849902629852295 seconds.\n",
      "648518346349508673\n",
      "Segment 648518346349508673 vertex labels regenerated in: 0.749680757522583 seconds.\n",
      "648518346349509521\n",
      "Segment 648518346349509521 vertex labels regenerated in: 0.6826002597808838 seconds.\n",
      "648518346349509588\n",
      "Segment 648518346349509588 vertex labels regenerated in: 0.9177370071411133 seconds.\n",
      "55.801844120025635\n"
     ]
    }
   ],
   "source": [
    "start = time.time()\n",
    "CoarseLabelOrphan.populate(reserve_jobs=True)\n",
    "print(time.time() - start)"
   ]
  },
  {
   "cell_type": "code",
   "execution_count": 7,
   "metadata": {},
   "outputs": [],
   "source": [
    "(schema.jobs & \"table_name='__coarse_label_orphan'\").delete()"
   ]
  },
  {
   "cell_type": "code",
   "execution_count": 8,
   "metadata": {},
   "outputs": [
    {
     "ename": "NameError",
     "evalue": "name 'ta3p100' is not defined",
     "output_type": "error",
     "traceback": [
      "\u001b[0;31m---------------------------------------------------------------------------\u001b[0m",
      "\u001b[0;31mNameError\u001b[0m                                 Traceback (most recent call last)",
      "\u001b[0;32m<ipython-input-8-a9fbc87cb26d>\u001b[0m in \u001b[0;36m<module>\u001b[0;34m\u001b[0m\n\u001b[0;32m----> 1\u001b[0;31m \u001b[0mta3p100\u001b[0m\u001b[0;34m.\u001b[0m\u001b[0mCoarseLabelOrphan\u001b[0m\u001b[0;34m(\u001b[0m\u001b[0;34m)\u001b[0m\u001b[0;34m\u001b[0m\u001b[0m\n\u001b[0m",
      "\u001b[0;31mNameError\u001b[0m: name 'ta3p100' is not defined"
     ]
    }
   ],
   "source": [
    "ta3p100.CoarseLabelOrphan()"
   ]
  },
  {
   "cell_type": "code",
   "execution_count": null,
   "metadata": {},
   "outputs": [],
   "source": [
    "ta3p100.SegmentExclude()"
   ]
  },
  {
   "cell_type": "code",
   "execution_count": null,
   "metadata": {},
   "outputs": [],
   "source": []
  }
 ],
 "metadata": {
  "kernelspec": {
   "display_name": "Python 3",
   "language": "python",
   "name": "python3"
  },
  "language_info": {
   "codemirror_mode": {
    "name": "ipython",
    "version": 3
   },
   "file_extension": ".py",
   "mimetype": "text/x-python",
   "name": "python",
   "nbconvert_exporter": "python",
   "pygments_lexer": "ipython3",
   "version": "3.6.5"
  }
 },
 "nbformat": 4,
 "nbformat_minor": 2
}
