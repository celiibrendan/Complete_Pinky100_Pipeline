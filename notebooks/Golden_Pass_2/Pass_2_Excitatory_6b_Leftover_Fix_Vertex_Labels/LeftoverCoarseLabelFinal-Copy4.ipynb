{
 "cells": [
  {
   "cell_type": "code",
   "execution_count": 1,
   "metadata": {},
   "outputs": [],
   "source": [
    "import datajoint as dj\n",
    "import numpy as np\n",
    "import time\n",
    "from tqdm import tqdm"
   ]
  },
  {
   "cell_type": "code",
   "execution_count": 2,
   "metadata": {},
   "outputs": [
    {
     "name": "stdout",
     "output_type": "stream",
     "text": [
      "Connecting celiib@10.28.0.34:3306\n"
     ]
    }
   ],
   "source": [
    "#setting the address and the username\n",
    "dj.config['database.host'] = '10.28.0.34'\n",
    "dj.config['database.user'] = 'celiib'\n",
    "dj.config['database.password'] = 'newceliipass'\n",
    "dj.config['safemode']=True\n",
    "dj.config[\"display.limit\"] = 20\n",
    "\n",
    "pinky = dj.create_virtual_module('pinky', 'microns_pinky')\n",
    "schema = dj.schema('microns_pinky')\n"
   ]
  },
  {
   "cell_type": "code",
   "execution_count": 3,
   "metadata": {},
   "outputs": [],
   "source": [
    "@schema\n",
    "class LeftoverCoarseLabelFinal(dj.Computed):\n",
    "    definition = \"\"\"\n",
    "    # Ensure that Vertex labels for pinky.LeftoverProofreadLabel match the triangle labels, so these are regenerated from the correct triangle labels.\n",
    "    -> pinky.LeftoverProofreadLabel\n",
    "    ---\n",
    "    vertices  : longblob # Corrected vertex labels\n",
    "    triangles : longblob # Same triangle labels as pinky.LeftoverProofreadLabel\n",
    "    \"\"\"\n",
    "    \n",
    "    key_source = pinky.LeftoverProofreadLabel & 'status=\"complete\"'\n",
    "    \n",
    "    def make(self, key):\n",
    "        start = time.time()\n",
    "        \n",
    "        print(key[\"segment_id\"])\n",
    "        labels = (pinky.LeftoverProofreadLabel & key).fetch1()\n",
    "        corrected_vertex_labels = np.zeros(labels['vertices'].shape, np.uint8)\n",
    "        \n",
    "        mesh = (pinky.ExcitatoryLeftoverMeshes & 'decimation_ratio=0.35' & dict(segment_id=key['segment_id'])).fetch1()\n",
    "        mesh_triangles = mesh['triangles']\n",
    "        \n",
    "        vertex_label_dict = dict()\n",
    "        for i, label in enumerate(labels['triangles']):\n",
    "            triangle = mesh_triangles[i]\n",
    "            for node in triangle:\n",
    "                if node in vertex_label_dict:\n",
    "                    if vertex_label_dict[node] < label:\n",
    "                        vertex_label_dict[node] = label\n",
    "                else:\n",
    "                    vertex_label_dict[node] = label\n",
    "                \n",
    "        for node, label in vertex_label_dict.items():\n",
    "            corrected_vertex_labels[node] = label\n",
    "            \n",
    "        self.insert1(dict(key,\n",
    "                          vertices=corrected_vertex_labels,\n",
    "                          triangles=labels['triangles']))\n",
    "        \n",
    "        print(\"Segment {} vertex labels regenerated in: {} seconds.\".format(key['segment_id'], time.time() - start))"
   ]
  },
  {
   "cell_type": "code",
   "execution_count": 4,
   "metadata": {},
   "outputs": [
    {
     "name": "stdout",
     "output_type": "stream",
     "text": [
      "648518346349502049\n",
      "Segment 648518346349502049 vertex labels regenerated in: 0.2048041820526123 seconds.\n",
      "648518346349502920\n",
      "Segment 648518346349502920 vertex labels regenerated in: 0.28079843521118164 seconds.\n",
      "648518346349503086\n",
      "Segment 648518346349503086 vertex labels regenerated in: 0.22464489936828613 seconds.\n",
      "648518346349503453\n",
      "Segment 648518346349503453 vertex labels regenerated in: 0.3115725517272949 seconds.\n",
      "648518346349503643\n",
      "Segment 648518346349503643 vertex labels regenerated in: 0.2004847526550293 seconds.\n",
      "648518346349504065\n",
      "Segment 648518346349504065 vertex labels regenerated in: 0.23406577110290527 seconds.\n",
      "648518346349504324\n",
      "Segment 648518346349504324 vertex labels regenerated in: 0.3227880001068115 seconds.\n",
      "648518346349504868\n",
      "Segment 648518346349504868 vertex labels regenerated in: 0.27727699279785156 seconds.\n",
      "648518346349505250\n",
      "Segment 648518346349505250 vertex labels regenerated in: 0.3200502395629883 seconds.\n",
      "648518346349505640\n",
      "Segment 648518346349505640 vertex labels regenerated in: 0.22588133811950684 seconds.\n",
      "648518346349505813\n",
      "Segment 648518346349505813 vertex labels regenerated in: 0.16364526748657227 seconds.\n",
      "648518346349506008\n",
      "Segment 648518346349506008 vertex labels regenerated in: 0.27091431617736816 seconds.\n",
      "648518346349506425\n",
      "Segment 648518346349506425 vertex labels regenerated in: 0.30443787574768066 seconds.\n",
      "648518346349506748\n",
      "Segment 648518346349506748 vertex labels regenerated in: 0.529249906539917 seconds.\n",
      "648518346349507015\n",
      "Segment 648518346349507015 vertex labels regenerated in: 0.27013587951660156 seconds.\n",
      "648518346349507175\n",
      "Segment 648518346349507175 vertex labels regenerated in: 0.7353403568267822 seconds.\n",
      "648518346349508765\n",
      "Segment 648518346349508765 vertex labels regenerated in: 0.3394138813018799 seconds.\n",
      "648518346349508969\n",
      "Segment 648518346349508969 vertex labels regenerated in: 0.2750833034515381 seconds.\n",
      "648518346349509204\n",
      "Segment 648518346349509204 vertex labels regenerated in: 0.19987773895263672 seconds.\n",
      "648518346349509300\n",
      "Segment 648518346349509300 vertex labels regenerated in: 0.23122334480285645 seconds.\n",
      "648518346349509399\n",
      "Segment 648518346349509399 vertex labels regenerated in: 0.35518479347229004 seconds.\n",
      "648518346349509524\n",
      "Segment 648518346349509524 vertex labels regenerated in: 0.25445032119750977 seconds.\n",
      "648518346349510792\n",
      "Segment 648518346349510792 vertex labels regenerated in: 1.2689495086669922 seconds.\n",
      "648518346349511528\n",
      "Segment 648518346349511528 vertex labels regenerated in: 1.0307426452636719 seconds.\n",
      "648518346349513026\n",
      "Segment 648518346349513026 vertex labels regenerated in: 0.3706347942352295 seconds.\n",
      "648518346349513221\n",
      "Segment 648518346349513221 vertex labels regenerated in: 0.2374889850616455 seconds.\n",
      "648518346349514277\n",
      "Segment 648518346349514277 vertex labels regenerated in: 1.4306471347808838 seconds.\n",
      "13.483803272247314\n"
     ]
    }
   ],
   "source": [
    "start = time.time()\n",
    "LeftoverCoarseLabelFinal.populate(reserve_jobs=True)\n",
    "print(time.time() - start)"
   ]
  },
  {
   "cell_type": "code",
   "execution_count": 5,
   "metadata": {},
   "outputs": [],
   "source": [
    "#(schema.jobs & \"table_name='__coarse_label_final'\").delete()"
   ]
  },
  {
   "cell_type": "code",
   "execution_count": null,
   "metadata": {},
   "outputs": [],
   "source": []
  }
 ],
 "metadata": {
  "kernelspec": {
   "display_name": "Python 3",
   "language": "python",
   "name": "python3"
  },
  "language_info": {
   "codemirror_mode": {
    "name": "ipython",
    "version": 3
   },
   "file_extension": ".py",
   "mimetype": "text/x-python",
   "name": "python",
   "nbconvert_exporter": "python",
   "pygments_lexer": "ipython3",
   "version": "3.6.5"
  }
 },
 "nbformat": 4,
 "nbformat_minor": 2
}
