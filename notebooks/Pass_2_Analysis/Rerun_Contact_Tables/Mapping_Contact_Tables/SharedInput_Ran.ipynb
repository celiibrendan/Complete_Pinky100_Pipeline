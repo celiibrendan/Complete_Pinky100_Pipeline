{
 "cells": [
  {
   "cell_type": "code",
   "execution_count": 1,
   "metadata": {},
   "outputs": [
    {
     "data": {
      "text/plain": [
       "'\\nPurpose of this table:\\n1) For all of the postysn segments WITH A TRACE (including soma and orphan)\\ncomputes the n_shared_segments and the n_shared_synapses as well as the unions\\n\\n'"
      ]
     },
     "execution_count": 1,
     "metadata": {},
     "output_type": "execute_result"
    }
   ],
   "source": [
    "\"\"\"\n",
    "Purpose of this table:\n",
    "1) For all of the postysn segments WITH A TRACE (including soma and orphan)\n",
    "computes the n_shared_segments and the n_shared_synapses as well as the unions\n",
    "\n",
    "\"\"\""
   ]
  },
  {
   "cell_type": "code",
   "execution_count": 2,
   "metadata": {},
   "outputs": [
    {
     "name": "stdout",
     "output_type": "stream",
     "text": [
      "Connecting celiib@10.28.0.34:3306\n"
     ]
    }
   ],
   "source": [
    "import numpy as np\n",
    "import matplotlib.pyplot as plt\n",
    "%matplotlib inline\n",
    "import itertools \n",
    "import pandas as pd\n",
    "from tqdm import tqdm\n",
    "import seaborn as sns\n",
    "from scipy import stats\n",
    "import datajoint as dj\n",
    "from collections import defaultdict\n",
    "import pycircstat as pycs\n",
    "from funconnect import morphology, connectomics, ta3, nda\n",
    "from tqdm import tqdm\n",
    "import scipy.stats as stats\n"
   ]
  },
  {
   "cell_type": "code",
   "execution_count": 3,
   "metadata": {},
   "outputs": [],
   "source": [
    "#setting the address and the username\n",
    "dj.config['database.host'] = '10.28.0.34'\n",
    "dj.config['database.user'] = 'celiib'\n",
    "dj.config['database.password'] = 'newceliipass'\n",
    "dj.config['safemode']=True\n",
    "dj.config[\"display.limit\"] = 20\n",
    "\n",
    "\n",
    "pinky = dj.create_virtual_module('pinky', 'microns_pinky')\n",
    "pinky_nda = dj.create_virtual_module('pinky_nda', 'microns_pinky_nda')\n",
    "pinky_radtune = dj.create_virtual_module('pinky_radtune', 'microns_pinky_radtune')\n",
    "pinky_spattune = dj.create_virtual_module('pinky_spattune', 'microns_pinky_spattune')\n",
    "pinky_fc = dj.create_virtual_module('pinky_fc', 'microns_pinky_fc')\n"
   ]
  },
  {
   "cell_type": "code",
   "execution_count": null,
   "metadata": {},
   "outputs": [],
   "source": [
    "#pinky.SharedInput() #did not exist"
   ]
  },
  {
   "cell_type": "code",
   "execution_count": null,
   "metadata": {},
   "outputs": [],
   "source": [
    "from utils import find_pearson, find_cosine, find_binary_sim\n",
    "\n",
    "schema = dj.schema('microns_pinky_fc', create_tables=True)\n",
    "\n",
    "@schema\n",
    "class SharedInput(dj.Computed):\n",
    "    definition = \"\"\"    \n",
    "    -> pinky.Segment\n",
    "    segment_b           : bigint   # segment id unique within each Segmentation\n",
    "    ---\n",
    "    n_syn_a     : int # number of synapses for cell A\n",
    "    n_syn_b     : int # number of synapses for cell B\n",
    "    n_syn_union : int # number of unique synapses for both\n",
    "    n_syn_shared: int # number of shared synapses\n",
    "    n_seg_a     : int # number of segments for cell A\n",
    "    n_seg_b     : int # number of segments for cell B\n",
    "    n_seg_union : int # number of unique segments for both\n",
    "    n_seg_shared: int # number of shared segments\n",
    "    \"\"\"\n",
    "\n",
    "    key_source = pinky.Segmentation & pinky.CurrentSegmentation\n",
    "\n",
    "    def make(self, key):\n",
    "        #gets all of the segments with a trace entry minus the segmentExclusdes (all the excitatory and orphans)\n",
    "        targets = (pinky.Segment & pinky_nda.Trace & key) - pinky.SegmentExclude \n",
    "        #gets all of the axons and the synapses where these axons are the presyns\n",
    "        axons = pinky.Neurite & 'neurite_type=\"axon\"'\n",
    "        synapse = (pinky.Synapse & axons.proj(presyn='segment_id') & key) - pinky.SynapseExclude\n",
    "        \n",
    "        #get all the combinations of postsyn targets without any repeats\n",
    "        info = targets * targets.proj(segment_b='segment_id') & 'segment_id < segment_b'\n",
    "        \n",
    "        #gets all of the synapses where the \"segment_id\" is the postsyn\n",
    "        A = (synapse & targets.proj(postsyn='segment_id')).proj(\n",
    "            'presyn', syn1='synapse_id', segment_id='postsyn')\n",
    "        \n",
    "        #gets all of the synapses where the \"segment_id\" is the postsyn and name it segment_b\n",
    "        #only difference between this table and the previous one is the names syn2 and segment_b\n",
    "        B = (synapse * dj.U('presyn') & targets.proj(postsyn='segment_id')).proj(\n",
    "            'presyn', syn2='synapse_id', segment_b='postsyn')\n",
    "        \"\"\"\n",
    "        A * B & 'segment_id < segment_b': will do every combination of synapse from that presyn that is on a different segment\n",
    "        Then for each segment pair\n",
    "        n_syn_shared: total number of different synapse combinations from a common presyn for those to pairs\n",
    "        n_seg_shared: number of distinct common presyns\n",
    "\n",
    "        \"\"\"\n",
    "        shared = dj.U('segment_id', 'segment_b').aggr(A * B & 'segment_id < segment_b',\n",
    "                                                      n_syn_shared='count(*)',\n",
    "                                                      n_seg_shared='count(DISTINCT presyn)')\n",
    "        \n",
    "        \n",
    "        #number of synapse from one all axons and distinct presyn axons that attach to it\n",
    "        a = dj.U('segment_id').aggr(A, n_syn_a='count(*)', n_seg_a='count(DISTINCT presyn)') \n",
    "        #number of synapse from one presyn and distinct presyn axons that attach to it (BUT JUST WITH DIFFERENT NAMES)\n",
    "        b = dj.U('segment_b').aggr(B, n_syn_b='count(*)', n_seg_b='count(DISTINCT presyn)')\n",
    "        \n",
    "        \n",
    "        \"\"\"\n",
    "        ****This table restricts only to combinations of postsyns that have common presyn synapsing onto it\n",
    "        1) starts with all info: all the combinations of postsyns without repeats\n",
    "        2) appends on the n_syn_a that 1st segment gets from all axons\n",
    "        3) appends on the n_syn_b that 2nd segment gets from all axons\n",
    "        4) For that combination of segments adds on:\n",
    "            a. total number of different synapse combinations from a common presyn for those to pairs\n",
    "            b. total number of common presyns\n",
    "        5) Then computes the following:\n",
    "            a. n_syn_a + n_syn_b - (sum of all combinations of synapses from common presyns)\n",
    "            --> so this could be negative hypothetically\n",
    "            b. n_seg_a + n_seg_b - (total number of common presyns)\n",
    "            --> aka the union of all presyns going to that pair\n",
    "\n",
    "\n",
    "        \"\"\"\n",
    "        stats = (info * a * b * shared).proj('n_syn_a', 'n_syn_b', 'n_syn_shared',\n",
    "                                             'n_seg_a', 'n_seg_b', 'n_seg_shared',\n",
    "                                             n_syn_union='n_syn_a + n_syn_b - n_syn_shared',\n",
    "                                             n_seg_union='n_seg_a + n_seg_b - n_seg_shared')\n",
    "        \n",
    "        self.insert([dict(key, **k) for k in tqdm(stats.fetch(as_dict=True))],\n",
    "                    ignore_extra_fields=True)\n",
    "        \n",
    "        \"\"\"\n",
    "        For those combinations that don't have common presyns\n",
    "        - just calculates the unions as the individual sums\n",
    "        \n",
    "        \"\"\"\n",
    "        non_shared = ((info - stats) * a * b).proj('n_syn_a', 'n_syn_b',\n",
    "                                                    'n_seg_a', 'n_seg_b',\n",
    "                                                    n_syn_union='n_syn_a + n_syn_b',\n",
    "                                                    n_seg_union='n_seg_a + n_seg_b')\n",
    "        self.insert([dict(key, **k, n_syn_shared=0, n_seg_shared=0) for k in tqdm(non_shared.fetch(as_dict=True))],\n",
    "                    ignore_extra_fields=True)\n"
   ]
  },
  {
   "cell_type": "code",
   "execution_count": null,
   "metadata": {},
   "outputs": [],
   "source": [
    "import time\n",
    "start_time = time.time()\n",
    "SharedInput.populate()\n",
    "print(f\"Total time = \" + str(time.time() - start_time))"
   ]
  },
  {
   "cell_type": "code",
   "execution_count": null,
   "metadata": {},
   "outputs": [],
   "source": [
    "key = pinky.Segmentation & pinky.CurrentSegmentation.fetch1()"
   ]
  },
  {
   "cell_type": "code",
   "execution_count": null,
   "metadata": {},
   "outputs": [],
   "source": [
    "targets = (pinky.Segment & pinky_nda.Trace & key) - pinky.SegmentExclude \n",
    "targets"
   ]
  },
  {
   "cell_type": "code",
   "execution_count": null,
   "metadata": {},
   "outputs": [],
   "source": [
    "(926*926 - 926)/2,len(info)"
   ]
  },
  {
   "cell_type": "code",
   "execution_count": null,
   "metadata": {},
   "outputs": [],
   "source": [
    "axons = pinky.Neurite & 'neurite_type=\"axon\"'\n",
    "synapse = (pinky.Synapse & axons.proj(presyn='segment_id') & key) - pinky.SynapseExclude"
   ]
  },
  {
   "cell_type": "code",
   "execution_count": null,
   "metadata": {},
   "outputs": [],
   "source": [
    "#get all the combinations of postsyn targets without any repeats\n",
    "info = targets * targets.proj(segment_b='segment_id') & 'segment_id < segment_b'\n",
    "\n",
    "A = (synapse & targets.proj(postsyn='segment_id')).proj(\n",
    "    'presyn', syn1='synapse_id', segment_id='postsyn')\n",
    "\n",
    "A"
   ]
  },
  {
   "cell_type": "code",
   "execution_count": null,
   "metadata": {},
   "outputs": [],
   "source": [
    "#gets all of the synapses where the \"segment_id\" is the postsyn but says that segment_b is the postsyn\n",
    "B = (synapse * dj.U('presyn') & targets.proj(postsyn='segment_id')).proj(\n",
    "    'presyn', syn2='synapse_id', segment_b='postsyn')\n",
    "\n",
    "B"
   ]
  },
  {
   "cell_type": "code",
   "execution_count": null,
   "metadata": {},
   "outputs": [],
   "source": [
    "1744058/202500"
   ]
  },
  {
   "cell_type": "code",
   "execution_count": null,
   "metadata": {},
   "outputs": [],
   "source": [
    "A * B"
   ]
  },
  {
   "cell_type": "code",
   "execution_count": null,
   "metadata": {},
   "outputs": [],
   "source": [
    "\"\"\"\n",
    "A * B & 'segment_id < segment_b': will do every combination of synapse from that presyn that is on a different segment\n",
    "Then for each segment pair\n",
    "n_syn_shared: number of different synapse combinations from a common presyn for those to pairs\n",
    "n_seg_shared: number of distinct common presyns\n",
    "\n",
    "\"\"\"\n",
    "shared = dj.U('segment_id', 'segment_b').aggr(A * B & 'segment_id < segment_b',\n",
    "                                                      n_syn_shared='count(*)',\n",
    "                                                      n_seg_shared='count(DISTINCT presyn)')"
   ]
  },
  {
   "cell_type": "code",
   "execution_count": null,
   "metadata": {},
   "outputs": [],
   "source": [
    "A"
   ]
  },
  {
   "cell_type": "code",
   "execution_count": null,
   "metadata": {},
   "outputs": [],
   "source": [
    "#number of synapse from one presyn and distinct presyn axons that attach to it\n",
    "a = dj.U('segment_id').aggr(A, n_syn_a='count(*)', n_seg_a='count(DISTINCT presyn)') \n",
    "#number of synapse from one presyn and distinct presyn axons that attach to it (BUT JUST WITH DIFFERENT NAMES)\n",
    "b = dj.U('segment_b').aggr(B, n_syn_b='count(*)', n_seg_b='count(DISTINCT presyn)')"
   ]
  },
  {
   "cell_type": "code",
   "execution_count": null,
   "metadata": {},
   "outputs": [],
   "source": [
    "a"
   ]
  },
  {
   "cell_type": "code",
   "execution_count": null,
   "metadata": {},
   "outputs": [],
   "source": [
    "b"
   ]
  },
  {
   "cell_type": "code",
   "execution_count": null,
   "metadata": {},
   "outputs": [],
   "source": []
  }
 ],
 "metadata": {
  "kernelspec": {
   "display_name": "Python 3",
   "language": "python",
   "name": "python3"
  },
  "language_info": {
   "codemirror_mode": {
    "name": "ipython",
    "version": 3
   },
   "file_extension": ".py",
   "mimetype": "text/x-python",
   "name": "python",
   "nbconvert_exporter": "python",
   "pygments_lexer": "ipython3",
   "version": "3.6.8"
  }
 },
 "nbformat": 4,
 "nbformat_minor": 4
}
