{
 "cells": [
  {
   "cell_type": "markdown",
   "metadata": {},
   "source": [
    "# Synapse Labeling (with length threshold)"
   ]
  },
  {
   "cell_type": "code",
   "execution_count": 1,
   "metadata": {},
   "outputs": [],
   "source": [
    "import datajoint as dj\n",
    "import numpy as np\n",
    "from scipy.spatial import KDTree\n",
    "import time\n",
    "from tqdm import tqdm\n",
    "import ipyvolume.pylab as p3\n"
   ]
  },
  {
   "cell_type": "code",
   "execution_count": 2,
   "metadata": {},
   "outputs": [
    {
     "name": "stdout",
     "output_type": "stream",
     "text": [
      "Connecting celiib@10.28.0.34:3306\n"
     ]
    }
   ],
   "source": [
    "dj.config['display.limit'] = 20\n",
    "ta3p100 = dj.create_virtual_module('ta3p100', 'microns_ta3p100')"
   ]
  },
  {
   "cell_type": "code",
   "execution_count": 3,
   "metadata": {},
   "outputs": [],
   "source": [
    "schema = dj.schema('microns_ta3p100')\n",
    "\n",
    "@schema\n",
    "class SynapseCompartmentLabelFinalThreshold(dj.Manual):\n",
    "    definition = \"\"\"\n",
    "    -> ta3p100.Synapse\n",
    "    ---\n",
    "    (postsynaptic_label)->ta3p100.LabelKey\n",
    "    \"\"\" # (postsynaptic_label)->ta3p100.LabelKey : tinyint unsigned"
   ]
  },
  {
   "cell_type": "code",
   "execution_count": 4,
   "metadata": {},
   "outputs": [
    {
     "name": "stderr",
     "output_type": "stream",
     "text": [
      "100%|██████████| 322/322 [00:00<00:00, 58592.88it/s]\n",
      "100%|██████████| 322/322 [00:00<00:00, 158386.99it/s]\n",
      "100%|██████████| 322/322 [13:33<00:00,  2.37s/it]\n",
      "100%|██████████| 322/322 [02:10<00:00,  2.54it/s]\n"
     ]
    }
   ],
   "source": [
    "segment_ids = ta3p100.CoarseLabelFinal.fetch('segment_id')\n",
    "mesh_fetch = (ta3p100.CleansedMesh & ta3p100.CompartmentFinal.proj()).fetch()\n",
    "label_fetch = ta3p100.CoarseLabelFinal.fetch()\n",
    "\n",
    "meshes = dict()\n",
    "labels = dict()\n",
    "for segment in tqdm(mesh_fetch):\n",
    "    meshes[segment[1]] = (segment[5], segment[6])\n",
    "    \n",
    "for segment in tqdm(label_fetch):\n",
    "    labels[segment[1]] = (segment[6], segment[7])\n",
    "    \n",
    "kdtrees = dict()\n",
    "for segment_id in tqdm(segment_ids):\n",
    "    kdtrees[segment_id] = KDTree(meshes[segment_id][0])\n",
    "    \n",
    "mesh_synapses = dict()\n",
    "for segment_id in tqdm(segment_ids):\n",
    "    mesh_synapses[segment_id] = np.array((ta3p100.Synapse & ta3p100.CurrentSegmentation\n",
    "#                                          & dict(postsyn=segment_id)).fetch('synapse_id', 'presyn_x', 'presyn_y', 'presyn_z')).T\n",
    "                                           & dict(postsyn=segment_id)).fetch('synapse_id', 'postsyn_x', 'postsyn_y', 'postsyn_z')).T"
   ]
  },
  {
   "cell_type": "code",
   "execution_count": 5,
   "metadata": {},
   "outputs": [
    {
     "data": {
      "text/html": [
       "\n",
       "        \n",
       "        <style type=\"text/css\">\n",
       "            .Relation{\n",
       "                border-collapse:collapse;\n",
       "            }\n",
       "            .Relation th{\n",
       "                background: #A0A0A0; color: #ffffff; padding:4px; border:#f0e0e0 1px solid;\n",
       "                font-weight: normal; font-family: monospace; font-size: 100%;\n",
       "            }\n",
       "            .Relation td{\n",
       "                padding:4px; border:#f0e0e0 1px solid; font-size:100%;\n",
       "            }\n",
       "            .Relation tr:nth-child(odd){\n",
       "                background: #ffffff;\n",
       "            }\n",
       "            .Relation tr:nth-child(even){\n",
       "                background: #f3f1ff;\n",
       "            }\n",
       "            /* Tooltip container */\n",
       "            .djtooltip {\n",
       "            }\n",
       "            /* Tooltip text */\n",
       "            .djtooltip .djtooltiptext {\n",
       "                visibility: hidden;\n",
       "                width: 120px;\n",
       "                background-color: black;\n",
       "                color: #fff;\n",
       "                text-align: center;\n",
       "                padding: 5px 0;\n",
       "                border-radius: 6px;\n",
       "                /* Position the tooltip text - see examples below! */\n",
       "                position: absolute;\n",
       "                z-index: 1;\n",
       "            }\n",
       "            #primary {\n",
       "                font-weight: bold;\n",
       "                color: black;\n",
       "            }\n",
       "\n",
       "            #nonprimary {\n",
       "                font-weight: normal;\n",
       "                color: white;\n",
       "            }\n",
       "\n",
       "            /* Show the tooltip text when you mouse over the tooltip container */\n",
       "            .djtooltip:hover .djtooltiptext {\n",
       "                visibility: visible;\n",
       "            }\n",
       "        </style>\n",
       "        \n",
       "        <b>Excluded anatomically localized synapse between two Segments</b>\n",
       "            <div style=\"max-height:1000px;max-width:1500px;overflow:auto;\">\n",
       "            <table border=\"1\" class=\"Relation\">\n",
       "                <thead> <tr style=\"text-align: right;\"> <th> <div class=\"djtooltip\">\n",
       "                                <p id=\"primary\">segmentation</p>\n",
       "                                <span class=\"djtooltiptext\">segmentation id</span>\n",
       "                            </div></th><th><div class=\"djtooltip\">\n",
       "                                <p id=\"primary\">synapse_id</p>\n",
       "                                <span class=\"djtooltiptext\">synapse index within the segmentation</span>\n",
       "                            </div> </th> </tr> </thead>\n",
       "                <tbody> <tr> <td>2</td>\n",
       "<td>6</td></tr><tr><td>2</td>\n",
       "<td>80</td></tr><tr><td>2</td>\n",
       "<td>162</td></tr><tr><td>2</td>\n",
       "<td>237</td></tr><tr><td>2</td>\n",
       "<td>451</td></tr><tr><td>2</td>\n",
       "<td>473</td></tr><tr><td>2</td>\n",
       "<td>595</td></tr><tr><td>2</td>\n",
       "<td>629</td></tr><tr><td>2</td>\n",
       "<td>638</td></tr><tr><td>2</td>\n",
       "<td>716</td></tr><tr><td>2</td>\n",
       "<td>839</td></tr><tr><td>2</td>\n",
       "<td>854</td></tr><tr><td>2</td>\n",
       "<td>883</td></tr><tr><td>2</td>\n",
       "<td>918</td></tr><tr><td>2</td>\n",
       "<td>983</td></tr><tr><td>2</td>\n",
       "<td>1054</td></tr><tr><td>2</td>\n",
       "<td>1079</td></tr><tr><td>2</td>\n",
       "<td>1102</td></tr><tr><td>2</td>\n",
       "<td>1176</td></tr><tr><td>2</td>\n",
       "<td>1280</td> </tr> </tbody>\n",
       "            </table>\n",
       "            <p>...</p>\n",
       "            <p>72563 tuples</p></div>\n",
       "            "
      ],
      "text/plain": [
       "*segmentation  *synapse_id   \n",
       "+------------+ +------------+\n",
       "2              6             \n",
       "2              80            \n",
       "2              162           \n",
       "2              237           \n",
       "2              451           \n",
       "2              473           \n",
       "2              595           \n",
       "2              629           \n",
       "2              638           \n",
       "2              716           \n",
       "2              839           \n",
       "2              854           \n",
       "2              883           \n",
       "2              918           \n",
       "2              983           \n",
       "2              1054          \n",
       "2              1079          \n",
       "2              1102          \n",
       "2              1176          \n",
       "2              1280          \n",
       "   ...\n",
       " (72563 tuples)"
      ]
     },
     "execution_count": 5,
     "metadata": {},
     "output_type": "execute_result"
    }
   ],
   "source": [
    "ta3p100.SynapseExclude()"
   ]
  },
  {
   "cell_type": "code",
   "execution_count": 6,
   "metadata": {},
   "outputs": [
    {
     "name": "stderr",
     "output_type": "stream",
     "text": [
      "100%|██████████| 322/322 [05:27<00:00,  1.22s/it]\n"
     ]
    }
   ],
   "source": [
    "matched_synapses = dict()\n",
    "synapses_to_exclude = []\n",
    "for segment_id in tqdm(segment_ids):\n",
    "    synapses = mesh_synapses[segment_id]\n",
    "    synapse_ids, postsyn_coords = synapses.T[0], synapses.T[1:].T\n",
    "    kdtree = kdtrees[segment_id]\n",
    "    distances, nearest_nodes = kdtree.query(postsyn_coords * [4, 4, 40])\n",
    "    vertex_labels = labels[segment_id][0]\n",
    "    synapse_labels = dict()\n",
    "    \n",
    "    for synapse_id, nearest_node, distance_node in zip(synapse_ids, nearest_nodes,distances):\n",
    "        if distance_node > 5000:\n",
    "            synapses_to_exclude.append(dict(segmentation=2,synapse_id=synapse_id))\n",
    "        else:\n",
    "            synapse_labels[synapse_id] = vertex_labels[nearest_node]\n",
    "    matched_synapses[segment_id] = synapse_labels"
   ]
  },
  {
   "cell_type": "code",
   "execution_count": 7,
   "metadata": {},
   "outputs": [
    {
     "name": "stdout",
     "output_type": "stream",
     "text": [
      "78345\n"
     ]
    }
   ],
   "source": [
    "print(len(synapses_to_exclude))"
   ]
  },
  {
   "cell_type": "code",
   "execution_count": 17,
   "metadata": {},
   "outputs": [
    {
     "data": {
      "text/html": [
       "\n",
       "        \n",
       "        <style type=\"text/css\">\n",
       "            .Relation{\n",
       "                border-collapse:collapse;\n",
       "            }\n",
       "            .Relation th{\n",
       "                background: #A0A0A0; color: #ffffff; padding:4px; border:#f0e0e0 1px solid;\n",
       "                font-weight: normal; font-family: monospace; font-size: 100%;\n",
       "            }\n",
       "            .Relation td{\n",
       "                padding:4px; border:#f0e0e0 1px solid; font-size:100%;\n",
       "            }\n",
       "            .Relation tr:nth-child(odd){\n",
       "                background: #ffffff;\n",
       "            }\n",
       "            .Relation tr:nth-child(even){\n",
       "                background: #f3f1ff;\n",
       "            }\n",
       "            /* Tooltip container */\n",
       "            .djtooltip {\n",
       "            }\n",
       "            /* Tooltip text */\n",
       "            .djtooltip .djtooltiptext {\n",
       "                visibility: hidden;\n",
       "                width: 120px;\n",
       "                background-color: black;\n",
       "                color: #fff;\n",
       "                text-align: center;\n",
       "                padding: 5px 0;\n",
       "                border-radius: 6px;\n",
       "                /* Position the tooltip text - see examples below! */\n",
       "                position: absolute;\n",
       "                z-index: 1;\n",
       "            }\n",
       "            #primary {\n",
       "                font-weight: bold;\n",
       "                color: black;\n",
       "            }\n",
       "\n",
       "            #nonprimary {\n",
       "                font-weight: normal;\n",
       "                color: white;\n",
       "            }\n",
       "\n",
       "            /* Show the tooltip text when you mouse over the tooltip container */\n",
       "            .djtooltip:hover .djtooltiptext {\n",
       "                visibility: visible;\n",
       "            }\n",
       "        </style>\n",
       "        \n",
       "        <b></b>\n",
       "            <div style=\"max-height:1000px;max-width:1500px;overflow:auto;\">\n",
       "            <table border=\"1\" class=\"Relation\">\n",
       "                <thead> <tr style=\"text-align: right;\"> <th> <div class=\"djtooltip\">\n",
       "                                <p id=\"primary\">segmentation</p>\n",
       "                                <span class=\"djtooltiptext\">segmentation id</span>\n",
       "                            </div></th><th><div class=\"djtooltip\">\n",
       "                                <p id=\"primary\">synapse_id</p>\n",
       "                                <span class=\"djtooltiptext\">synapse index within the segmentation</span>\n",
       "                            </div></th><th><div class=\"djtooltip\">\n",
       "                                <p id=\"nonprimary\">postsynaptic_label</p>\n",
       "                                <span class=\"djtooltiptext\">numeric label of the compartment</span>\n",
       "                            </div> </th> </tr> </thead>\n",
       "                <tbody> <tr> <td>2</td>\n",
       "<td>30</td>\n",
       "<td>2</td></tr><tr><td>2</td>\n",
       "<td>40</td>\n",
       "<td>2</td></tr><tr><td>2</td>\n",
       "<td>252</td>\n",
       "<td>2</td></tr><tr><td>2</td>\n",
       "<td>262</td>\n",
       "<td>2</td></tr><tr><td>2</td>\n",
       "<td>399</td>\n",
       "<td>2</td></tr><tr><td>2</td>\n",
       "<td>404</td>\n",
       "<td>2</td></tr><tr><td>2</td>\n",
       "<td>473</td>\n",
       "<td>2</td></tr><tr><td>2</td>\n",
       "<td>565</td>\n",
       "<td>2</td></tr><tr><td>2</td>\n",
       "<td>588</td>\n",
       "<td>2</td></tr><tr><td>2</td>\n",
       "<td>592</td>\n",
       "<td>2</td></tr><tr><td>2</td>\n",
       "<td>610</td>\n",
       "<td>2</td></tr><tr><td>2</td>\n",
       "<td>614</td>\n",
       "<td>2</td></tr><tr><td>2</td>\n",
       "<td>621</td>\n",
       "<td>2</td></tr><tr><td>2</td>\n",
       "<td>688</td>\n",
       "<td>2</td></tr><tr><td>2</td>\n",
       "<td>812</td>\n",
       "<td>2</td></tr><tr><td>2</td>\n",
       "<td>839</td>\n",
       "<td>2</td></tr><tr><td>2</td>\n",
       "<td>883</td>\n",
       "<td>2</td></tr><tr><td>2</td>\n",
       "<td>900</td>\n",
       "<td>2</td></tr><tr><td>2</td>\n",
       "<td>917</td>\n",
       "<td>2</td></tr><tr><td>2</td>\n",
       "<td>999</td>\n",
       "<td>2</td> </tr> </tbody>\n",
       "            </table>\n",
       "            <p>...</p>\n",
       "            <p>588719 tuples</p></div>\n",
       "            "
      ],
      "text/plain": [
       "*segmentation  *synapse_id    postsynaptic_l\n",
       "+------------+ +------------+ +------------+\n",
       "2              30             2             \n",
       "2              40             2             \n",
       "2              252            2             \n",
       "2              262            2             \n",
       "2              399            2             \n",
       "2              404            2             \n",
       "2              473            2             \n",
       "2              565            2             \n",
       "2              588            2             \n",
       "2              592            2             \n",
       "2              610            2             \n",
       "2              614            2             \n",
       "2              621            2             \n",
       "2              688            2             \n",
       "2              812            2             \n",
       "2              839            2             \n",
       "2              883            2             \n",
       "2              900            2             \n",
       "2              917            2             \n",
       "2              999            2             \n",
       "   ...\n",
       " (588719 tuples)"
      ]
     },
     "execution_count": 17,
     "metadata": {},
     "output_type": "execute_result"
    }
   ],
   "source": [
    "ta3p100.SynapseCompartmentLabelFinalThreshold()"
   ]
  },
  {
   "cell_type": "code",
   "execution_count": 8,
   "metadata": {},
   "outputs": [
    {
     "name": "stderr",
     "output_type": "stream",
     "text": [
      "100%|██████████| 322/322 [00:00<00:00, 813.95it/s]\n"
     ]
    },
    {
     "name": "stdout",
     "output_type": "stream",
     "text": [
      "74.17270565032959\n"
     ]
    }
   ],
   "source": [
    "segmentation = ta3p100.CurrentSegmentation.fetch1('segmentation')\n",
    "all_synapse_labels = list()\n",
    "for labeled_synapses in tqdm(matched_synapses.values()):\n",
    "    segmentation_array = np.array([segmentation] * len(labeled_synapses))\n",
    "    synapse_to_label = np.array(list(labeled_synapses.items())).T\n",
    "    proper_label_array = np.array((segmentation_array, *synapse_to_label)).T\n",
    "    all_synapse_labels.extend(proper_label_array)\n",
    "all_synapse_labels_array = np.array(all_synapse_labels)\n",
    "\n",
    "all_synapse_labels_array.T[2][all_synapse_labels_array.T[2]>12] = 1\n",
    "\n",
    "start = time.time()\n",
    "SynapseCompartmentLabelFinalThreshold.insert(all_synapse_labels_array, skip_duplicates=True)\n",
    "print(time.time() - start)"
   ]
  },
  {
   "cell_type": "markdown",
   "metadata": {},
   "source": [
    "# Spine Synapse Labeler (with length threshold)"
   ]
  },
  {
   "cell_type": "code",
   "execution_count": 9,
   "metadata": {},
   "outputs": [],
   "source": [
    "@schema\n",
    "class SynapseSpineLabelFinalThreshold(dj.Manual):\n",
    "    definition = \"\"\"\n",
    "    # Denotes which synapses are also on Spine Heads, Spines, or Spine Necks\n",
    "    -> ta3p100.SynapseCompartmentLabelFinal\n",
    "    ---\n",
    "    (spine_label)->ta3p100.LabelKey\n",
    "    \"\"\" # (spine_label)->ta3p100.LabelKey : tinyint unsigned"
   ]
  },
  {
   "cell_type": "code",
   "execution_count": 10,
   "metadata": {},
   "outputs": [
    {
     "name": "stderr",
     "output_type": "stream",
     "text": [
      "100%|██████████| 322/322 [00:00<00:00, 468458.51it/s]\n",
      "100%|██████████| 322/322 [00:00<00:00, 525716.58it/s]\n",
      "100%|██████████| 322/322 [13:29<00:00,  2.33s/it]\n",
      "100%|██████████| 322/322 [01:45<00:00,  2.98it/s]\n"
     ]
    }
   ],
   "source": [
    "mesh_fetch = np.array((ta3p100.CleansedMesh & ta3p100.CompartmentFinal.proj()).fetch('segment_id', 'vertices', 'triangles')).T\n",
    "label_fetch = np.array(ta3p100.OverlayedSpineLabelFinal.fetch('segment_id', 'vertices', 'triangles')).T\n",
    "\n",
    "meshes = dict()\n",
    "for segment_id, mesh_vertices, mesh_triangles in tqdm(mesh_fetch):\n",
    "    meshes[segment_id] = (mesh_vertices, mesh_triangles)\n",
    "\n",
    "labels = dict()\n",
    "for segment_id, label_vertices, label_triangles in tqdm(label_fetch):\n",
    "    labels[segment_id] = (label_vertices, label_triangles)\n",
    "    \n",
    "kdtrees = dict()\n",
    "for segment_id in tqdm(segment_ids):\n",
    "    kdtrees[segment_id] = KDTree(meshes[segment_id][0])\n",
    "    \n",
    "mesh_synapses = dict()\n",
    "for segment_id in tqdm(segment_ids):\n",
    "    mesh_synapses[segment_id] = np.array((ta3p100.Synapse & ta3p100.CurrentSegmentation\n",
    "                                          & dict(postsyn=segment_id)).fetch('synapse_id', 'postsyn_x','postsyn_y', 'postsyn_z')).T"
   ]
  },
  {
   "cell_type": "code",
   "execution_count": 11,
   "metadata": {},
   "outputs": [
    {
     "name": "stderr",
     "output_type": "stream",
     "text": [
      "100%|██████████| 322/322 [05:24<00:00,  1.21s/it]\n"
     ]
    }
   ],
   "source": [
    "matched_synapses = dict()\n",
    "synapses_to_exclude_spine = []\n",
    "for segment_id in tqdm(segment_ids):\n",
    "    synapses = mesh_synapses[segment_id]\n",
    "    synapse_ids, postsyn_coords = synapses.T[0], synapses.T[1:].T\n",
    "    kdtree = kdtrees[segment_id]\n",
    "    distances, nearest_nodes = kdtree.query(postsyn_coords * [4, 4, 40])\n",
    "    vertex_labels = labels[segment_id][0]\n",
    "    synapse_labels = dict()\n",
    "    \n",
    "    for synapse_id, nearest_node, distance_node in zip(synapse_ids, nearest_nodes,distances):\n",
    "        if distance_node > 5000:\n",
    "            synapses_to_exclude_spine.append(dict(segmentation=2,synapse_id=synapse_id))\n",
    "        else:\n",
    "            synapse_labels[synapse_id] = vertex_labels[nearest_node]\n",
    "    \n",
    "    matched_synapses[segment_id] = synapse_labels"
   ]
  },
  {
   "cell_type": "code",
   "execution_count": 12,
   "metadata": {},
   "outputs": [
    {
     "name": "stdout",
     "output_type": "stream",
     "text": [
      "78345\n"
     ]
    }
   ],
   "source": [
    "print(len(synapses_to_exclude_spine))"
   ]
  },
  {
   "cell_type": "code",
   "execution_count": 13,
   "metadata": {},
   "outputs": [
    {
     "name": "stderr",
     "output_type": "stream",
     "text": [
      "100%|██████████| 322/322 [00:00<00:00, 781.68it/s]\n"
     ]
    },
    {
     "name": "stdout",
     "output_type": "stream",
     "text": [
      "57.22652316093445\n"
     ]
    }
   ],
   "source": [
    "segmentation = ta3p100.CurrentSegmentation.fetch1('segmentation')\n",
    "all_synapse_labels = list()\n",
    "for labeled_synapses in tqdm(matched_synapses.values()):\n",
    "    segmentation_array = np.array([segmentation] * len(labeled_synapses))\n",
    "    synapse_to_label = np.array(list(labeled_synapses.items())).T\n",
    "    proper_label_array = np.array((segmentation_array, *synapse_to_label)).T\n",
    "    all_synapse_labels.extend(proper_label_array)\n",
    "all_synapse_labels_array = np.array(all_synapse_labels)\n",
    "\n",
    "all_synapse_labels_array.T[2][all_synapse_labels_array.T[2]>15] = 1\n",
    "all_synapse_labels_array = all_synapse_labels_array[all_synapse_labels_array.T[2]<=15]\n",
    "all_synapse_labels_array = all_synapse_labels_array[all_synapse_labels_array.T[2]>12]\n",
    "\n",
    "start = time.time()\n",
    "SynapseSpineLabelFinalThreshold.insert(all_synapse_labels_array, skip_duplicates=True)\n",
    "print(time.time() - start)"
   ]
  },
  {
   "cell_type": "markdown",
   "metadata": {},
   "source": [
    "## Visualization of Labeled Synapses (no labeled Spines yet)"
   ]
  },
  {
   "cell_type": "code",
   "execution_count": 14,
   "metadata": {},
   "outputs": [],
   "source": [
    "# ta3p100.LabelKey()"
   ]
  },
  {
   "cell_type": "code",
   "execution_count": 15,
   "metadata": {},
   "outputs": [],
   "source": [
    "# ta3p100.ProofreadLabel & 'segment_id=648518346341393609'"
   ]
  },
  {
   "cell_type": "code",
   "execution_count": 16,
   "metadata": {},
   "outputs": [],
   "source": [
    "# label_keys = [( 0, 'not_labeled', 'no_color'), ( 1, 'label_removed', 'no_color'),\n",
    "#                ( 2, 'Apical', 'blue'), ( 3, 'Basal', 'yellow'),\n",
    "#                ( 4, 'Oblique', 'green'), ( 5, 'Soma', 'red'),\n",
    "#                ( 6, 'Axon-Soma', 'aqua'), ( 7, 'Axon-Dendr', 'off blue'),\n",
    "#                ( 8, 'Dendrite', 'purple'), ( 9, 'Distal', 'pink'),\n",
    "#                (10, 'ignore Error', 'brown'), (11, 'Unlabelable', 'tan'),\n",
    "#                (12, 'Cilia', 'orange'), (13, 'Spine Head (unsure if correct label)', 'red'),\n",
    "#                (14, 'Spine (unsure if correct label)', 'blue'),\n",
    "#                (15, 'Spine Neck (unsure if correct label)', 'green'),\n",
    "#                (16, 'Bouton (unsure if correct label)', 'ignore')]\n",
    "# segment_id = 648518346341393609\n",
    "# synapse_label_types = np.unique(list(matched_synapses[segment_id].values()))\n",
    "# label_matches = np.array(list(matched_synapses[segment_id].items())).T\n",
    "# synapses_by_compartment = dict()\n",
    "# synapse_centroids_by_compartment = dict()\n",
    "# for synapse_label_type in synapse_label_types:\n",
    "#     synapses_by_compartment[synapse_label_type] = label_matches[0][np.where(label_matches[1]==synapse_label_type)[0]]\n",
    "#     centroids = np.zeros((len(synapses_by_compartment[synapse_label_type]), 3), dtype=np.uint32)\n",
    "#     for i, specific_synapse in enumerate(synapses_by_compartment[synapse_label_type]):\n",
    "#         centroids[i] = mesh_synapses[segment_id].T[1:].T[mesh_synapses[segment_id].T[0]==specific_synapse]\n",
    "#     synapse_centroids_by_compartment[synapse_label_type] = centroids\n",
    "# p3.figure(width=1024, height=1024)\n",
    "# vertices, triangles = meshes[segment_id]\n",
    "# p3.plot_trisurf(*vertices.T/1000, triangles=triangles, color='black')\n",
    "# for label_type, label_name, label_color in label_keys:\n",
    "#     if label_type in synapse_label_types:\n",
    "#         print(\"{} -> {} : {}\".format(label_type, label_name, label_color))\n",
    "#         p3.scatter(*(synapse_centroids_by_compartment[label_type] * [4, 4, 40]).T/1000, color=label_color, marker='sphere', size=0.1)\n",
    "# p3.squarelim()\n",
    "# p3.show()"
   ]
  }
 ],
 "metadata": {
  "kernelspec": {
   "display_name": "Python 3",
   "language": "python",
   "name": "python3"
  },
  "language_info": {
   "codemirror_mode": {
    "name": "ipython",
    "version": 3
   },
   "file_extension": ".py",
   "mimetype": "text/x-python",
   "name": "python",
   "nbconvert_exporter": "python",
   "pygments_lexer": "ipython3",
   "version": "3.6.5"
  }
 },
 "nbformat": 4,
 "nbformat_minor": 2
}
