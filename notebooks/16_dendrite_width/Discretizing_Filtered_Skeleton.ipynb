{
 "cells": [
  {
   "cell_type": "code",
   "execution_count": 1,
   "metadata": {},
   "outputs": [],
   "source": [
    "import numpy as np\n",
    "import datajoint as dj\n",
    "import time\n",
    "import pymeshfix\n",
    "import os\n",
    "import datetime\n",
    "import calcification_Module as cm\n",
    "\n",
    "#for supressing the output\n",
    "import os, contextlib\n",
    "import pathlib\n",
    "import subprocess\n",
    "\n",
    "#for error counting\n",
    "from collections import Counter\n",
    "\n",
    "#for reading in the new raw_skeleton files\n",
    "import csv\n",
    "\n",
    "from meshparty import trimesh_io\n",
    "\n",
    "#for filtering\n",
    "import math\n",
    "from pykdtree.kdtree import KDTree"
   ]
  },
  {
   "cell_type": "code",
   "execution_count": 2,
   "metadata": {},
   "outputs": [
    {
     "name": "stdout",
     "output_type": "stream",
     "text": [
      "Connecting celiib@10.28.0.34:3306\n"
     ]
    }
   ],
   "source": [
    "#setting the address and the username\n",
    "dj.config['database.host'] = '10.28.0.34'\n",
    "dj.config['database.user'] = 'celiib'\n",
    "dj.config['database.password'] = 'newceliipass'\n",
    "dj.config['safemode']=True\n",
    "dj.config[\"display.limit\"] = 20\n",
    "\n",
    "schema = dj.schema('microns_ta3p100')\n",
    "ta3p100 = dj.create_virtual_module('ta3p100', 'microns_ta3p100')\n"
   ]
  },
  {
   "cell_type": "code",
   "execution_count": 3,
   "metadata": {},
   "outputs": [],
   "source": [
    "#function will take in either array of skeletons or single skeleton \n",
    "#returns: Either list of the edges or dictionary of list of the edges\n",
    "def discretize_skeletons(skeletons, maximum_length, skeleton_ids=None):\n",
    "        def discretize_skeleton(full_edges, maximum_length):\n",
    "            p0s = full_edges[:, 0]\n",
    "            p1s = full_edges[:, 1]\n",
    "\n",
    "            diffs = p1s - p0s\n",
    "            distances = np.linalg.norm(diffs, axis=1)\n",
    "            inc_nums = np.ceil(distances / maximum_length).astype(int)\n",
    "            inc_nums[inc_nums<2] = 2\n",
    "            diffs_inc = np.repeat(diffs / inc_nums[:, None], inc_nums, axis=0)\n",
    "\n",
    "            p0s_stack = np.repeat(p0s, inc_nums, axis=0)\n",
    "            max_arange = np.arange(inc_nums.max())\n",
    "            multiplicative_incrementer = np.hstack([max_arange[0:i] for i in inc_nums.tolist()])\n",
    "            evenly_spaced = p0s_stack + (multiplicative_incrementer[:, None] * diffs_inc)\n",
    "\n",
    "            total = 0\n",
    "            incremented_edges = list()\n",
    "            for i, p1 in zip(inc_nums, p1s):\n",
    "                temp_total = total+i\n",
    "                inc_edge = evenly_spaced[total:temp_total]\n",
    "                inc_edge[-1] = p1\n",
    "                incremented_edges.append(inc_edge)\n",
    "                total = temp_total\n",
    "            new_full_edges = np.vstack([np.array((inc_edge[:-1], inc_edge[1:])).transpose(1, 0, 2) for inc_edge in incremented_edges])\n",
    "            return new_full_edges\n",
    "\n",
    "        if skeleton_ids is None:\n",
    "            output = list()\n",
    "            for full_edges in skeletons:\n",
    "                output.append(discretize_skeleton(full_edges, maximum_length))\n",
    "        else:\n",
    "            output = dict()\n",
    "            for seg_id, full_edges in zip(skeleton_ids, skeletons):\n",
    "                output[seg_id] = discretize_skeleton(full_edges, maximum_length)\n",
    "\n",
    "        return output"
   ]
  },
  {
   "cell_type": "code",
   "execution_count": 58,
   "metadata": {},
   "outputs": [
    {
     "data": {
      "text/html": [
       "\n",
       "        \n",
       "        <style type=\"text/css\">\n",
       "            .Relation{\n",
       "                border-collapse:collapse;\n",
       "            }\n",
       "            .Relation th{\n",
       "                background: #A0A0A0; color: #ffffff; padding:4px; border:#f0e0e0 1px solid;\n",
       "                font-weight: normal; font-family: monospace; font-size: 100%;\n",
       "            }\n",
       "            .Relation td{\n",
       "                padding:4px; border:#f0e0e0 1px solid; font-size:100%;\n",
       "            }\n",
       "            .Relation tr:nth-child(odd){\n",
       "                background: #ffffff;\n",
       "            }\n",
       "            .Relation tr:nth-child(even){\n",
       "                background: #f3f1ff;\n",
       "            }\n",
       "            /* Tooltip container */\n",
       "            .djtooltip {\n",
       "            }\n",
       "            /* Tooltip text */\n",
       "            .djtooltip .djtooltiptext {\n",
       "                visibility: hidden;\n",
       "                width: 120px;\n",
       "                background-color: black;\n",
       "                color: #fff;\n",
       "                text-align: center;\n",
       "                padding: 5px 0;\n",
       "                border-radius: 6px;\n",
       "                /* Position the tooltip text - see examples below! */\n",
       "                position: absolute;\n",
       "                z-index: 1;\n",
       "            }\n",
       "            #primary {\n",
       "                font-weight: bold;\n",
       "                color: black;\n",
       "            }\n",
       "\n",
       "            #nonprimary {\n",
       "                font-weight: normal;\n",
       "                color: white;\n",
       "            }\n",
       "\n",
       "            /* Show the tooltip text when you mouse over the tooltip container */\n",
       "            .djtooltip:hover .djtooltiptext {\n",
       "                visibility: visible;\n",
       "            }\n",
       "        </style>\n",
       "        \n",
       "        <b></b>\n",
       "            <div style=\"max-height:1000px;max-width:1500px;overflow:auto;\">\n",
       "            <table border=\"1\" class=\"Relation\">\n",
       "                <thead> <tr style=\"text-align: right;\"> <th> <div class=\"djtooltip\">\n",
       "                                <p id=\"primary\">segmentation</p>\n",
       "                                <span class=\"djtooltiptext\">segmentation id</span>\n",
       "                            </div></th><th><div class=\"djtooltip\">\n",
       "                                <p id=\"primary\">segment_id</p>\n",
       "                                <span class=\"djtooltiptext\">segment id unique within each Segmentation</span>\n",
       "                            </div></th><th><div class=\"djtooltip\">\n",
       "                                <p id=\"primary\">decimation_ratio</p>\n",
       "                                <span class=\"djtooltiptext\"></span>\n",
       "                            </div></th><th><div class=\"djtooltip\">\n",
       "                                <p id=\"primary\">compartment_type</p>\n",
       "                                <span class=\"djtooltiptext\">Basal, Apical, spine head, etc.</span>\n",
       "                            </div></th><th><div class=\"djtooltip\">\n",
       "                                <p id=\"primary\">component_index</p>\n",
       "                                <span class=\"djtooltiptext\">Which sub-compartment of a certain label this is.</span>\n",
       "                            </div></th><th><div class=\"djtooltip\">\n",
       "                                <p id=\"nonprimary\">n_vertex_indices</p>\n",
       "                                <span class=\"djtooltiptext\"></span>\n",
       "                            </div></th><th><div class=\"djtooltip\">\n",
       "                                <p id=\"nonprimary\">n_triangle_indices</p>\n",
       "                                <span class=\"djtooltiptext\"></span>\n",
       "                            </div></th><th><div class=\"djtooltip\">\n",
       "                                <p id=\"nonprimary\">vertex_indices</p>\n",
       "                                <span class=\"djtooltiptext\">preserved indices of each vertex of this sub-compartment</span>\n",
       "                            </div></th><th><div class=\"djtooltip\">\n",
       "                                <p id=\"nonprimary\">triangle_indices</p>\n",
       "                                <span class=\"djtooltiptext\">preserved indices of each triangle of this sub-compartment</span>\n",
       "                            </div> </th> </tr> </thead>\n",
       "                <tbody> <tr> <td>2</td>\n",
       "<td>648518346341366885</td>\n",
       "<td>0.35</td>\n",
       "<td>Apical</td>\n",
       "<td>0</td>\n",
       "<td>160393</td>\n",
       "<td>319781</td>\n",
       "<td>=BLOB=</td>\n",
       "<td>=BLOB=</td></tr><tr><td>2</td>\n",
       "<td>648518346341366885</td>\n",
       "<td>0.35</td>\n",
       "<td>Apical</td>\n",
       "<td>1</td>\n",
       "<td>40</td>\n",
       "<td>73</td>\n",
       "<td>=BLOB=</td>\n",
       "<td>=BLOB=</td></tr><tr><td>2</td>\n",
       "<td>648518346341366885</td>\n",
       "<td>0.35</td>\n",
       "<td>Basal</td>\n",
       "<td>0</td>\n",
       "<td>55172</td>\n",
       "<td>110092</td>\n",
       "<td>=BLOB=</td>\n",
       "<td>=BLOB=</td></tr><tr><td>2</td>\n",
       "<td>648518346341366885</td>\n",
       "<td>0.35</td>\n",
       "<td>Basal</td>\n",
       "<td>1</td>\n",
       "<td>92</td>\n",
       "<td>172</td>\n",
       "<td>=BLOB=</td>\n",
       "<td>=BLOB=</td></tr><tr><td>2</td>\n",
       "<td>648518346341366885</td>\n",
       "<td>0.35</td>\n",
       "<td>Basal</td>\n",
       "<td>2</td>\n",
       "<td>10</td>\n",
       "<td>12</td>\n",
       "<td>=BLOB=</td>\n",
       "<td>=BLOB=</td></tr><tr><td>2</td>\n",
       "<td>648518346341366885</td>\n",
       "<td>0.35</td>\n",
       "<td>Basal</td>\n",
       "<td>3</td>\n",
       "<td>276</td>\n",
       "<td>539</td>\n",
       "<td>=BLOB=</td>\n",
       "<td>=BLOB=</td></tr><tr><td>2</td>\n",
       "<td>648518346341366885</td>\n",
       "<td>0.35</td>\n",
       "<td>Error</td>\n",
       "<td>0</td>\n",
       "<td>9385</td>\n",
       "<td>18694</td>\n",
       "<td>=BLOB=</td>\n",
       "<td>=BLOB=</td></tr><tr><td>2</td>\n",
       "<td>648518346341366885</td>\n",
       "<td>0.35</td>\n",
       "<td>Error</td>\n",
       "<td>1</td>\n",
       "<td>9580</td>\n",
       "<td>19047</td>\n",
       "<td>=BLOB=</td>\n",
       "<td>=BLOB=</td></tr><tr><td>2</td>\n",
       "<td>648518346341366885</td>\n",
       "<td>0.35</td>\n",
       "<td>Error</td>\n",
       "<td>2</td>\n",
       "<td>79</td>\n",
       "<td>151</td>\n",
       "<td>=BLOB=</td>\n",
       "<td>=BLOB=</td></tr><tr><td>2</td>\n",
       "<td>648518346341366885</td>\n",
       "<td>0.35</td>\n",
       "<td>Oblique</td>\n",
       "<td>0</td>\n",
       "<td>90569</td>\n",
       "<td>180622</td>\n",
       "<td>=BLOB=</td>\n",
       "<td>=BLOB=</td></tr><tr><td>2</td>\n",
       "<td>648518346341366885</td>\n",
       "<td>0.35</td>\n",
       "<td>Oblique</td>\n",
       "<td>1</td>\n",
       "<td>495</td>\n",
       "<td>959</td>\n",
       "<td>=BLOB=</td>\n",
       "<td>=BLOB=</td></tr><tr><td>2</td>\n",
       "<td>648518346341366885</td>\n",
       "<td>0.35</td>\n",
       "<td>Soma</td>\n",
       "<td>0</td>\n",
       "<td>9738</td>\n",
       "<td>19377</td>\n",
       "<td>=BLOB=</td>\n",
       "<td>=BLOB=</td></tr><tr><td>2</td>\n",
       "<td>648518346341371119</td>\n",
       "<td>0.35</td>\n",
       "<td>Apical</td>\n",
       "<td>0</td>\n",
       "<td>116871</td>\n",
       "<td>233001</td>\n",
       "<td>=BLOB=</td>\n",
       "<td>=BLOB=</td></tr><tr><td>2</td>\n",
       "<td>648518346341371119</td>\n",
       "<td>0.35</td>\n",
       "<td>Axon-Soma</td>\n",
       "<td>0</td>\n",
       "<td>1590</td>\n",
       "<td>3141</td>\n",
       "<td>=BLOB=</td>\n",
       "<td>=BLOB=</td></tr><tr><td>2</td>\n",
       "<td>648518346341371119</td>\n",
       "<td>0.35</td>\n",
       "<td>Basal</td>\n",
       "<td>0</td>\n",
       "<td>4270</td>\n",
       "<td>8450</td>\n",
       "<td>=BLOB=</td>\n",
       "<td>=BLOB=</td></tr><tr><td>2</td>\n",
       "<td>648518346341371119</td>\n",
       "<td>0.35</td>\n",
       "<td>Basal</td>\n",
       "<td>1</td>\n",
       "<td>505</td>\n",
       "<td>938</td>\n",
       "<td>=BLOB=</td>\n",
       "<td>=BLOB=</td></tr><tr><td>2</td>\n",
       "<td>648518346341371119</td>\n",
       "<td>0.35</td>\n",
       "<td>Basal</td>\n",
       "<td>2</td>\n",
       "<td>22470</td>\n",
       "<td>44805</td>\n",
       "<td>=BLOB=</td>\n",
       "<td>=BLOB=</td></tr><tr><td>2</td>\n",
       "<td>648518346341371119</td>\n",
       "<td>0.35</td>\n",
       "<td>Basal</td>\n",
       "<td>3</td>\n",
       "<td>40401</td>\n",
       "<td>80530</td>\n",
       "<td>=BLOB=</td>\n",
       "<td>=BLOB=</td></tr><tr><td>2</td>\n",
       "<td>648518346341371119</td>\n",
       "<td>0.35</td>\n",
       "<td>Cilia</td>\n",
       "<td>0</td>\n",
       "<td>57</td>\n",
       "<td>107</td>\n",
       "<td>=BLOB=</td>\n",
       "<td>=BLOB=</td></tr><tr><td>2</td>\n",
       "<td>648518346341371119</td>\n",
       "<td>0.35</td>\n",
       "<td>Error</td>\n",
       "<td>0</td>\n",
       "<td>111</td>\n",
       "<td>216</td>\n",
       "<td>=BLOB=</td>\n",
       "<td>=BLOB=</td> </tr> </tbody>\n",
       "            </table>\n",
       "            <p>...</p>\n",
       "            <p>4224 tuples</p></div>\n",
       "            "
      ],
      "text/plain": [
       "*segmentation  *segment_id    *decimation_ra *compartment_t *component_ind n_vertex_indic n_triangle_ind vertex_ind triangle_i\n",
       "+------------+ +------------+ +------------+ +------------+ +------------+ +------------+ +------------+ +--------+ +--------+\n",
       "2              64851834634136 0.35           Apical         0              160393         319781         =BLOB=     =BLOB=    \n",
       "2              64851834634136 0.35           Apical         1              40             73             =BLOB=     =BLOB=    \n",
       "2              64851834634136 0.35           Basal          0              55172          110092         =BLOB=     =BLOB=    \n",
       "2              64851834634136 0.35           Basal          1              92             172            =BLOB=     =BLOB=    \n",
       "2              64851834634136 0.35           Basal          2              10             12             =BLOB=     =BLOB=    \n",
       "2              64851834634136 0.35           Basal          3              276            539            =BLOB=     =BLOB=    \n",
       "2              64851834634136 0.35           Error          0              9385           18694          =BLOB=     =BLOB=    \n",
       "2              64851834634136 0.35           Error          1              9580           19047          =BLOB=     =BLOB=    \n",
       "2              64851834634136 0.35           Error          2              79             151            =BLOB=     =BLOB=    \n",
       "2              64851834634136 0.35           Oblique        0              90569          180622         =BLOB=     =BLOB=    \n",
       "2              64851834634136 0.35           Oblique        1              495            959            =BLOB=     =BLOB=    \n",
       "2              64851834634136 0.35           Soma           0              9738           19377          =BLOB=     =BLOB=    \n",
       "2              64851834634137 0.35           Apical         0              116871         233001         =BLOB=     =BLOB=    \n",
       "2              64851834634137 0.35           Axon-Soma      0              1590           3141           =BLOB=     =BLOB=    \n",
       "2              64851834634137 0.35           Basal          0              4270           8450           =BLOB=     =BLOB=    \n",
       "2              64851834634137 0.35           Basal          1              505            938            =BLOB=     =BLOB=    \n",
       "2              64851834634137 0.35           Basal          2              22470          44805          =BLOB=     =BLOB=    \n",
       "2              64851834634137 0.35           Basal          3              40401          80530          =BLOB=     =BLOB=    \n",
       "2              64851834634137 0.35           Cilia          0              57             107            =BLOB=     =BLOB=    \n",
       "2              64851834634137 0.35           Error          0              111            216            =BLOB=     =BLOB=    \n",
       "   ...\n",
       " (4224 tuples)"
      ]
     },
     "execution_count": 58,
     "metadata": {},
     "output_type": "execute_result"
    }
   ],
   "source": [
    "ta3p100.CompartmentFinal.ComponentFinal()"
   ]
  },
  {
   "cell_type": "code",
   "execution_count": 46,
   "metadata": {},
   "outputs": [
    {
     "name": "stdout",
     "output_type": "stream",
     "text": [
      "(942, 2, 3)\n"
     ]
    },
    {
     "data": {
      "text/plain": [
       "(133013, 2, 3)"
      ]
     },
     "execution_count": 46,
     "metadata": {},
     "output_type": "execute_result"
    }
   ],
   "source": [
    "key=dict(segmentation=2,segment_id=648518346341366885)\n",
    "skeleton_data = (ta3p100.FilteredSkeleton() & key).fetch(as_dict=True)[0]\n",
    "#skeleton_data[\"edges\"][:, 1]\n",
    "print(skeleton_data[\"edges\"].shape)\n",
    "new_skeleton = discretize_skeletons([skeleton_data[\"edges\"]],10)[0]\n",
    "np.array(new_skeleton).shape"
   ]
  },
  {
   "cell_type": "code",
   "execution_count": 54,
   "metadata": {},
   "outputs": [
    {
     "data": {
      "text/plain": [
       "array([[[286573.        , 215431.        ,  77760.8       ]],\n",
       "\n",
       "       [[286563.52941176, 215429.98319328,  77758.0302521 ]],\n",
       "\n",
       "       [[286563.52941176, 215429.98319328,  77758.0302521 ]],\n",
       "\n",
       "       ...,\n",
       "\n",
       "       [[355710.34969325, 155777.84662577,  81067.69509202]],\n",
       "\n",
       "       [[355710.34969325, 155777.84662577,  81067.69509202]],\n",
       "\n",
       "       [[355703.        , 155763.        ,  81056.7       ]]])"
      ]
     },
     "execution_count": 54,
     "metadata": {},
     "output_type": "execute_result"
    }
   ],
   "source": [
    "new_skeleton.reshape(-1,1,3)"
   ]
  },
  {
   "cell_type": "code",
   "execution_count": 57,
   "metadata": {},
   "outputs": [
    {
     "data": {
      "text/plain": [
       "2778.58"
      ]
     },
     "execution_count": 57,
     "metadata": {},
     "output_type": "execute_result"
    }
   ],
   "source": [
    "min(new_skeleton.reshape(-1,1,3)[:,:,0])[0]\n",
    "min(new_skeleton.reshape(-1,1,3)[:,:,1])[0]\n",
    "min(new_skeleton.reshape(-1,1,3)[:,:,2])[0]\n",
    "max(new_skeleton.reshape(-1,1,3)[:,:,0])[0]\n",
    "max(new_skeleton.reshape(-1,1,3)[:,:,1])[0]\n",
    "max(new_skeleton.reshape(-1,1,3)[:,:,2])[0]"
   ]
  },
  {
   "cell_type": "code",
   "execution_count": 22,
   "metadata": {},
   "outputs": [
    {
     "name": "stdout",
     "output_type": "stream",
     "text": [
      "[array([[[286573. , 215431. ,  77760.8],\n",
      "        [285446. , 215310. ,  77431.2]],\n",
      "\n",
      "       [[411610. , 261412. ,  34699.6],\n",
      "        [409782. , 261948. ,  34745.5]],\n",
      "\n",
      "       [[325932. , 196091. ,  75450.6],\n",
      "        [327611. , 196889. ,  77211.1]],\n",
      "\n",
      "       ...,\n",
      "\n",
      "       [[347405. , 240131. ,  75622.4],\n",
      "        [346373. , 240300. ,  75740.1]],\n",
      "\n",
      "       [[315818. , 204320. ,  77069.7],\n",
      "        [316132. , 206387. ,  77509.4]],\n",
      "\n",
      "       [[356302. , 156973. ,  81952.8],\n",
      "        [355703. , 155763. ,  81056.7]]])]\n",
      "(1, 932, 2, 3)\n",
      "(1, 130547, 2, 3)\n"
     ]
    }
   ],
   "source": [
    "#Try an example of discretizing a skeleton\n",
    "ex_skeleton = (ta3p100.FilteredSkeletonMinusSoma & \"segment_id=648518346341366885\").fetch(\"edges\")\n",
    "print(list(ex_skeleton))\n",
    "print(np.array(list(ex_skeleton)).shape)\n",
    "new_discretized_skeleton = discretize_skeletons(ex_skeleton,10)\n",
    "print(np.array(new_discretized_skeleton).shape)"
   ]
  },
  {
   "cell_type": "code",
   "execution_count": 29,
   "metadata": {},
   "outputs": [
    {
     "data": {
      "text/plain": [
       "array([[[286573. , 215431. ,  77760.8]],\n",
       "\n",
       "       [[285446. , 215310. ,  77431.2]],\n",
       "\n",
       "       [[411610. , 261412. ,  34699.6]],\n",
       "\n",
       "       ...,\n",
       "\n",
       "       [[316132. , 206387. ,  77509.4]],\n",
       "\n",
       "       [[356302. , 156973. ,  81952.8]],\n",
       "\n",
       "       [[355703. , 155763. ,  81056.7]]])"
      ]
     },
     "execution_count": 29,
     "metadata": {},
     "output_type": "execute_result"
    }
   ],
   "source": [
    "np.array(ex_skeleton)[0].reshape(-1,1,3)"
   ]
  },
  {
   "cell_type": "code",
   "execution_count": 20,
   "metadata": {},
   "outputs": [
    {
     "data": {
      "text/plain": [
       "list"
      ]
     },
     "execution_count": 20,
     "metadata": {},
     "output_type": "execute_result"
    }
   ],
   "source": [
    "type(new_discretized_skeleton)"
   ]
  },
  {
   "cell_type": "markdown",
   "metadata": {},
   "source": [
    "# Conclusion don't need to discretize before hand and just do in function"
   ]
  },
  {
   "cell_type": "code",
   "execution_count": null,
   "metadata": {},
   "outputs": [],
   "source": []
  }
 ],
 "metadata": {
  "kernelspec": {
   "display_name": "Python 3",
   "language": "python",
   "name": "python3"
  },
  "language_info": {
   "codemirror_mode": {
    "name": "ipython",
    "version": 3
   },
   "file_extension": ".py",
   "mimetype": "text/x-python",
   "name": "python",
   "nbconvert_exporter": "python",
   "pygments_lexer": "ipython3",
   "version": "3.6.5"
  }
 },
 "nbformat": 4,
 "nbformat_minor": 2
}
