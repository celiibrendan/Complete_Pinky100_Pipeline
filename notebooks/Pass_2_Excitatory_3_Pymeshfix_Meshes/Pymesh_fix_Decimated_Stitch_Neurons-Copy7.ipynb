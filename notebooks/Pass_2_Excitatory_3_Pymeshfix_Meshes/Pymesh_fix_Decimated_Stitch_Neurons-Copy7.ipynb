{
 "cells": [
  {
   "cell_type": "code",
   "execution_count": 1,
   "metadata": {},
   "outputs": [
    {
     "name": "stdout",
     "output_type": "stream",
     "text": [
      "Connecting celiib@10.28.0.34:3306\n"
     ]
    }
   ],
   "source": [
    "import datajoint as dj\n",
    "import numpy as np\n",
    "import time\n",
    "import pymeshfix\n",
    "\n",
    "dj.config['database.host'] = '10.28.0.34'\n",
    "dj.config['database.user'] = 'celiib'\n",
    "dj.config['database.password'] = 'newceliipass'\n",
    "dj.config[\"display.limit\"] = 20\n",
    "    \n",
    "#schema = dj.schema('microns_ta3p100')\n",
    "#ta3p100 = dj.create_virtual_module('ta3p100', 'microns_ta3p100')\n",
    "schema = dj.schema(\"microns_pinky\")\n",
    "pinky = dj.create_virtual_module(\"pinky\",\"microns_pinky\")"
   ]
  },
  {
   "cell_type": "code",
   "execution_count": 2,
   "metadata": {},
   "outputs": [],
   "source": [
    "@schema\n",
    "class PymeshfixDecimatedExcitatoryStitchedMesh(dj.Computed):\n",
    "    definition = \"\"\"\n",
    "    -> pinky.Decimation35ExcitatoryStitchedMesh               \n",
    "    ---\n",
    "    n_vertices           : bigint  #total number of vertices after pymeshfix cleaning                     \n",
    "    n_triangles          : bigint  #total number of faces after pymeshfix cleaning                    \n",
    "    vertices             : longblob #vertices after pymeshfix cleaning                  \n",
    "    triangles            : longblob #faces after pymeshfix cleaning  \n",
    "    perc_vertices_remaining  : decimal(6,5) #number of vertices still present after pymeshfix cleaning\n",
    "    perc_triangles_remaining  : decimal(6,5) #number of faces still present after pymeshfix cleaning\n",
    "    \n",
    "    \"\"\"\n",
    "    \n",
    "    #getting the keys from the following three tables\n",
    "    #key_source = ta3p100.Mesh & ta3p100.CurrentSegmentation & ta3p100.AllenSomaClass\n",
    "    \n",
    "    def make(self, key):\n",
    "        start_time = time.time()\n",
    "        \n",
    "        print(\"\\n\\n*****Starting pymeshfix algorithm for \" + str(key[\"segment_id\"]) + \"******\")\n",
    "        \n",
    "        joincomp = True\n",
    "        remove_smallest_components = False\n",
    "        \n",
    "        \n",
    "        #get the vertices \n",
    "        mesh = (pinky.Decimation35ExcitatoryStitchedMesh & key).fetch1()\n",
    "        vertices, triangles = mesh['vertices'], mesh['triangles']\n",
    "        meshfix = pymeshfix.MeshFix(vertices,triangles)\n",
    "        verbose=False\n",
    "        meshfix.repair(verbose,joincomp,remove_smallest_components)\n",
    "        new_verts = meshfix.v\n",
    "        new_faces = meshfix.f\n",
    "\n",
    "        \n",
    "        self.insert1(dict(key,\n",
    "                          n_vertices=len(new_verts),\n",
    "                          n_triangles=len(new_faces),\n",
    "                          vertices=new_verts,\n",
    "                          triangles=new_faces,\n",
    "                         perc_vertices_remaining=len(new_verts)/len(vertices),\n",
    "                         perc_triangles_remaining=len(new_faces)/len(triangles)),skip_duplicates=True)\n",
    "        \n",
    "        \n",
    "        print(f\"Finished pymeshfix algorithm: {time.time() - start_time}\")\n",
    "        \n"
   ]
  },
  {
   "cell_type": "code",
   "execution_count": 3,
   "metadata": {},
   "outputs": [
    {
     "name": "stdout",
     "output_type": "stream",
     "text": [
      "\n",
      "\n",
      "*****Starting pymeshfix algorithm for 648518346349471910******\n",
      "Finished pymeshfix algorithm: 309.8891599178314\n",
      "\n",
      "\n",
      "*****Starting pymeshfix algorithm for 648518346349492197******\n",
      "Finished pymeshfix algorithm: 47.82311248779297\n",
      "\n",
      "\n",
      "*****Starting pymeshfix algorithm for 648518346349494087******\n",
      "Finished pymeshfix algorithm: 98.35929536819458\n",
      "\n",
      "\n",
      "*****Starting pymeshfix algorithm for 648518346349497752******\n",
      "Finished pymeshfix algorithm: 139.13462471961975\n",
      "\n",
      "\n",
      "*****Starting pymeshfix algorithm for 648518346349499896******\n",
      "Finished pymeshfix algorithm: 112.95748519897461\n",
      "\n",
      "\n",
      "*****Starting pymeshfix algorithm for 648518346349500725******\n",
      "Finished pymeshfix algorithm: 276.5790174007416\n",
      "\n",
      "\n",
      "*****Starting pymeshfix algorithm for 648518346349505911******\n",
      "Finished pymeshfix algorithm: 140.82070016860962\n",
      "\n",
      "\n",
      "*****Starting pymeshfix algorithm for 648518346349508765******\n",
      "Finished pymeshfix algorithm: 76.96221828460693\n",
      "\n",
      "\n",
      "*****Starting pymeshfix algorithm for 648518346349509512******\n",
      "Finished pymeshfix algorithm: 44.74509787559509\n",
      "\n",
      "\n",
      "*****Starting pymeshfix algorithm for 648518346349511382******\n",
      "Finished pymeshfix algorithm: 102.74007201194763\n",
      "1354.6151671409607\n"
     ]
    }
   ],
   "source": [
    "start = time.time()\n",
    "PymeshfixDecimatedExcitatoryStitchedMesh.populate(reserve_jobs=True)\n",
    "print(time.time() - start)"
   ]
  },
  {
   "cell_type": "code",
   "execution_count": 4,
   "metadata": {},
   "outputs": [],
   "source": [
    "#(schema.jobs & \"table_name='__pymeshfix_decimated_excitatory_stitched_mesh'\").delete()"
   ]
  },
  {
   "cell_type": "code",
   "execution_count": null,
   "metadata": {},
   "outputs": [],
   "source": []
  }
 ],
 "metadata": {
  "kernelspec": {
   "display_name": "Python 3",
   "language": "python",
   "name": "python3"
  },
  "language_info": {
   "codemirror_mode": {
    "name": "ipython",
    "version": 3
   },
   "file_extension": ".py",
   "mimetype": "text/x-python",
   "name": "python",
   "nbconvert_exporter": "python",
   "pygments_lexer": "ipython3",
   "version": "3.6.5"
  }
 },
 "nbformat": 4,
 "nbformat_minor": 2
}
