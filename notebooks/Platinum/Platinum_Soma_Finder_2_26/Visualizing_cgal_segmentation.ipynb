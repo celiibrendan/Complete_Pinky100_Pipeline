{
 "cells": [
  {
   "cell_type": "code",
   "execution_count": null,
   "metadata": {},
   "outputs": [],
   "source": [
    "\"\"\"\n",
    "Purpose: To visualize the cgal segmentation of a mesh that does not have a valid soma or has too many valid somas\n",
    "\n",
    "Observations: \n",
    "1) Soma finding only goes for mesh piece with highest sdf part:\n",
    "- only uses a size threshold\n",
    "\n",
    "Ideas: \n",
    "1) impose a number of connections list \n",
    "2) Compare to sdf of the mesh that you found and it must be within a certain limit of the size/sdf value\n",
    "3) Create a new function that just gets soma ids\n",
    "\n",
    "\"\"\""
   ]
  },
  {
   "cell_type": "code",
   "execution_count": null,
   "metadata": {},
   "outputs": [],
   "source": [
    "cgal_file_name= \"107816118160698192_fixed-cgal_3_0.20_revised.csv\"\n",
    "file_location = \"temp\"\n",
    "potential_soma_mesh = \"107816118160698192_stitched_axon_no_soma_largest_piece_mls_largest_piece.off\"\n",
    "potential_soma_mesh_location = \"neurons_potential_soma\""
   ]
  },
  {
   "cell_type": "code",
   "execution_count": null,
   "metadata": {},
   "outputs": [],
   "source": [
    "import numpy as np\n",
    "from numpy import genfromtxt\n",
    "my_data = genfromtxt(file_location + \"/\" + cgal_file_name , delimiter=',')"
   ]
  },
  {
   "cell_type": "code",
   "execution_count": null,
   "metadata": {},
   "outputs": [],
   "source": [
    "original_mesh = trimesh.load_mesh(potential_soma_mesh_location + \"/\" + potential_soma_mesh )"
   ]
  },
  {
   "cell_type": "markdown",
   "metadata": {},
   "source": [
    "# Creating the random colors"
   ]
  },
  {
   "cell_type": "code",
   "execution_count": null,
   "metadata": {},
   "outputs": [],
   "source": [
    "import random\n",
    "def random_rgb():\n",
    "    return (random.uniform(0, 1),random.uniform(0, 1),random.uniform(0, 1))\n",
    "\n",
    "from collections import Counter\n",
    "color_mapping = dict()\n",
    "my_counter = Counter(my_data)\n",
    "for key,value in my_counter.items():\n",
    "    color_mapping[key] = random_rgb()\n",
    "\n",
    "color_mapping"
   ]
  },
  {
   "cell_type": "code",
   "execution_count": null,
   "metadata": {},
   "outputs": [],
   "source": []
  },
  {
   "cell_type": "markdown",
   "metadata": {},
   "source": [
    "# Assing the highest index one the correct color"
   ]
  },
  {
   "cell_type": "code",
   "execution_count": null,
   "metadata": {},
   "outputs": [],
   "source": [
    "# Creating example random colors\n",
    "current_color = np.array([[1,0.0,0.0]])\n",
    "test_color_array = np.tile(current_color,(12918, 1))\n",
    "\n",
    "# Creating the actual array of all the colors\n",
    "color_array = np.array([color_mapping[k] for k in my_data])\n",
    "color_array"
   ]
  },
  {
   "cell_type": "code",
   "execution_count": null,
   "metadata": {},
   "outputs": [],
   "source": [
    "import ipyvolume as ipv\n",
    "import numpy as np\n",
    "import trimesh\n",
    "%matplotlib inline\n",
    "ipv.figure()\n",
    "# we draw the tetrahedron\n",
    "original_mesh = trimesh.load_mesh(potential_soma_mesh_location + \"/\" + potential_soma_mesh )\n",
    "\n",
    "\n",
    "\n",
    "mesh = ipv.plot_trisurf(original_mesh.vertices[:,0], \n",
    "                        original_mesh.vertices[:,1],\n",
    "                        original_mesh.vertices[:,2], \n",
    "                        triangles=original_mesh.faces, color=color_array)\n",
    "\n",
    "#mesh.color = [0., 1., 0., 0.5]\n",
    "mesh.material.transparent = True\n",
    "# and also mark the vertices\n",
    "\n",
    "volume_maxs = np.max(original_mesh.vertices,axis=0)\n",
    "volume_mins = np.min(original_mesh.vertices,axis=0)\n",
    "ranges = volume_maxs - volume_mins\n",
    "index = [0,1,2]\n",
    "max_index = np.argmax(ranges)\n",
    "min_limits = [0,0,0]\n",
    "max_limits = [0,0,0]\n",
    "\n",
    "buffer = 10000\n",
    "for i in index:\n",
    "    if i == max_index:\n",
    "        min_limits[i] = volume_mins[i] - buffer\n",
    "        max_limits[i] = volume_maxs[i] + buffer \n",
    "        continue\n",
    "    else:\n",
    "        difference = ranges[max_index] - ranges[i]\n",
    "        min_limits[i] = volume_mins[i] - difference/2  - buffer\n",
    "        max_limits[i] = volume_maxs[i] + difference/2 + buffer\n",
    "\n",
    "#ipv.xyzlim(-2, 2)\n",
    "ipv.xlim(min_limits[0],max_limits[0])\n",
    "ipv.ylim(min_limits[1],max_limits[1])\n",
    "ipv.zlim(min_limits[2],max_limits[2])\n",
    "ipv.show()"
   ]
  }
 ],
 "metadata": {
  "kernelspec": {
   "display_name": "Python 3",
   "language": "python",
   "name": "python3"
  },
  "language_info": {
   "codemirror_mode": {
    "name": "ipython",
    "version": 3
   },
   "file_extension": ".py",
   "mimetype": "text/x-python",
   "name": "python",
   "nbconvert_exporter": "python",
   "pygments_lexer": "ipython3",
   "version": "3.6.8"
  }
 },
 "nbformat": 4,
 "nbformat_minor": 4
}
