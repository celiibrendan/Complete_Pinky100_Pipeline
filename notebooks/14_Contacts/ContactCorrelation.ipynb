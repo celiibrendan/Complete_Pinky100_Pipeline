{
 "cells": [
  {
   "cell_type": "code",
   "execution_count": 1,
   "metadata": {},
   "outputs": [],
   "source": [
    "import datajoint as dj\n",
    "import numpy as np\n",
    "import time"
   ]
  },
  {
   "cell_type": "code",
   "execution_count": 121,
   "metadata": {},
   "outputs": [],
   "source": [
    "ta3p100 = dj.create_virtual_module(\"ta3p100\",\"microns_ta3p100\")\n",
    "schema = dj.schema(\"microns_ta3p100\")\n"
   ]
  },
  {
   "cell_type": "code",
   "execution_count": 125,
   "metadata": {},
   "outputs": [
    {
     "data": {
      "text/plain": [
       "(3144023, 0)"
      ]
     },
     "execution_count": 125,
     "metadata": {},
     "output_type": "execute_result"
    }
   ],
   "source": [
    "len(ta3p100.PairSkeletonDistFiltered()),len(ta3p100.FinalContactTest())\n",
    "\n",
    "\n"
   ]
  },
  {
   "cell_type": "code",
   "execution_count": null,
   "metadata": {},
   "outputs": [],
   "source": [
    "#practice doing correlations\n",
    "\n",
    "#Matrix we will have in the end: n_post_syn by n_post_syn \n",
    "#how do we generate each point in the matrix\n",
    "#    - correlations of 2 n_presyn vectors\n"
   ]
  },
  {
   "cell_type": "code",
   "execution_count": null,
   "metadata": {},
   "outputs": [],
   "source": [
    "a = np.array([[1,3,5,10],[2,4,6,8],[1,3,5,10],[2,4,6,8]])\n",
    "b = np.array([[5,6,7,8],[9,10,11,12],[5,6,7,8],[9,10,11,12]])\n",
    "print(np.corrcoef(a,b))"
   ]
  },
  {
   "cell_type": "code",
   "execution_count": null,
   "metadata": {},
   "outputs": [],
   "source": [
    "\n",
    "a = np.array([[1,3,5,10],[2,4,6,8],[1,3,5,10],[2,4,6,8]])\n",
    "b = np.array([[5,6,7,8],[9,10,11,12],[5,6,7,8],[9,10,11,12]])\n",
    "\n",
    "\n",
    "from scipy.stats import pearsonr\n",
    "x = [1, 2, 3, 4, 5]\n",
    "corr = [2, 4, 6, 8, 10]\n",
    "corr_2 = [3 , 5 ,7, 2, 3]\n",
    "corr_value, p_value = pearsonr(x, corr_2)\n",
    "print(corr_value)"
   ]
  },
  {
   "cell_type": "code",
   "execution_count": null,
   "metadata": {},
   "outputs": [],
   "source": [
    "#Another way using numpy\n",
    "\n",
    "print(np.corrcoef(x, corr_2)[0, 1])\n",
    "np.corrcoef(x, corr_2)"
   ]
  },
  {
   "cell_type": "code",
   "execution_count": null,
   "metadata": {},
   "outputs": [],
   "source": [
    "#CONCLUSION: this is the final way to do the correlations with multiple neurons\n",
    "np.corrcoef(a)"
   ]
  },
  {
   "cell_type": "code",
   "execution_count": null,
   "metadata": {},
   "outputs": [],
   "source": [
    "ta3p100.NeuriteTargetsRevised()"
   ]
  },
  {
   "cell_type": "code",
   "execution_count": 41,
   "metadata": {},
   "outputs": [
    {
     "name": "stdout",
     "output_type": "stream",
     "text": [
      "3.3 µs ± 134 ns per loop (mean ± std. dev. of 7 runs, 100000 loops each)\n"
     ]
    }
   ],
   "source": [
    "presyn = ta3p100.NeuriteTargetsRevised().fetch(\"segment_id\")\n",
    "\n",
    "#presyn.indexof[]\n",
    "\n",
    "search_list = [648518346341351518,648518346341351514]\n",
    "\n",
    "\n",
    "#testing the sorting\n",
    "%timeit np.searchsorted(presyn, search_list)\n",
    "#print([i for i, e in enumerate(haystack) if e in st])\n",
    "#%timeit np.where(presyn in item)"
   ]
  },
  {
   "cell_type": "code",
   "execution_count": 63,
   "metadata": {},
   "outputs": [
    {
     "data": {
      "text/plain": [
       "array([648518346341351467, 648518346341351503, 648518346341351508, ...,\n",
       "       648518346349507986, 648518346349507993, 648518346349507995])"
      ]
     },
     "execution_count": 63,
     "metadata": {},
     "output_type": "execute_result"
    }
   ],
   "source": [
    "presyn"
   ]
  },
  {
   "cell_type": "code",
   "execution_count": 60,
   "metadata": {},
   "outputs": [
    {
     "name": "stdout",
     "output_type": "stream",
     "text": [
      "[  6   5 101   0   0]\n",
      "Total time: 0.0010292530059814453\n",
      "[0, 5, 6, 101]\n",
      "Total time: 0.0390629768371582\n",
      "[26, 47, 50, 679]\n",
      "Total time: 0.04352235794067383\n"
     ]
    },
    {
     "ename": "TypeError",
     "evalue": "'>' not supported between instances of 'list' and 'int'",
     "output_type": "error",
     "traceback": [
      "\u001b[0;31m---------------------------------------------------------------------------\u001b[0m",
      "\u001b[0;31mTypeError\u001b[0m                                 Traceback (most recent call last)",
      "\u001b[0;32m<ipython-input-60-01502f6c587a>\u001b[0m in \u001b[0;36m<module>\u001b[0;34m\u001b[0m\n\u001b[1;32m     20\u001b[0m \u001b[0;34m\u001b[0m\u001b[0m\n\u001b[1;32m     21\u001b[0m \u001b[0mpresyn_set\u001b[0m \u001b[0;34m=\u001b[0m \u001b[0mset\u001b[0m\u001b[0;34m(\u001b[0m\u001b[0mpresyn\u001b[0m\u001b[0;34m)\u001b[0m\u001b[0;34m\u001b[0m\u001b[0m\n\u001b[0;32m---> 22\u001b[0;31m \u001b[0my\u001b[0m \u001b[0;34m=\u001b[0m \u001b[0mnp\u001b[0m\u001b[0;34m.\u001b[0m\u001b[0mwhere\u001b[0m\u001b[0;34m(\u001b[0m\u001b[0msearch_list\u001b[0m \u001b[0;34m>\u001b[0m \u001b[0;36m3\u001b[0m\u001b[0;34m)\u001b[0m\u001b[0;34m\u001b[0m\u001b[0m\n\u001b[0m\u001b[1;32m     23\u001b[0m \u001b[0mprint\u001b[0m\u001b[0;34m(\u001b[0m\u001b[0my\u001b[0m\u001b[0;34m)\u001b[0m\u001b[0;34m\u001b[0m\u001b[0m\n\u001b[1;32m     24\u001b[0m \u001b[0mprint\u001b[0m\u001b[0;34m(\u001b[0m\u001b[0;34mf\"Total time: {time.time()-start_time}\"\u001b[0m\u001b[0;34m)\u001b[0m\u001b[0;34m\u001b[0m\u001b[0m\n",
      "\u001b[0;31mTypeError\u001b[0m: '>' not supported between instances of 'list' and 'int'"
     ]
    }
   ],
   "source": [
    "#####THIS METHOD WON'T TELL YOU IF SOMETHING IS IN THE LIST OR NOT, \n",
    "###JUST TELLS YOU WHAT INDEX IT WILL INSERT it in (so if not in there will just pick closest index)\n",
    "\n",
    "search_list = [648518346341351518,648518346341351514,presyn[101],10,presyn[0]]\n",
    "\n",
    "start_time = time.time()\n",
    "x = np.searchsorted(presyn, search_list)  \n",
    "print(x)\n",
    "print(f\"Total time: {time.time()-start_time}\")\n",
    "\"\"\"gpomg tp use this method because it is only one got working\"\"\"\n",
    "start_time = time.time()\n",
    "y = [i for i,z in enumerate(presyn) if z in search_list]\n",
    "print(y)\n",
    "print(f\"Total time: {time.time()-start_time}\")\n",
    "start_time = time.time()\n",
    "presyn_set = set(presyn)\n",
    "y = [i for i,z in enumerate(presyn_set) if z in search_list]\n",
    "print(y)\n",
    "print(f\"Total time: {time.time()-start_time}\")\n",
    "\n",
    "presyn_set = set(presyn)\n",
    "y = np.where(search_list > 3)\n",
    "print(y)\n",
    "print(f\"Total time: {time.time()-start_time}\")\n",
    "\n",
    "\n",
    "#x_other = np.where((presyn in [search_list[0]]).any())\n",
    "#x_other\n",
    "\n"
   ]
  },
  {
   "cell_type": "code",
   "execution_count": 71,
   "metadata": {},
   "outputs": [
    {
     "data": {
      "text/plain": [
       "True"
      ]
     },
     "execution_count": 71,
     "metadata": {},
     "output_type": "execute_result"
    }
   ],
   "source": [
    "(presyn.any())# in search_list)"
   ]
  },
  {
   "cell_type": "code",
   "execution_count": 66,
   "metadata": {},
   "outputs": [
    {
     "ename": "ValueError",
     "evalue": "The truth value of an array with more than one element is ambiguous. Use a.any() or a.all()",
     "output_type": "error",
     "traceback": [
      "\u001b[0;31m---------------------------------------------------------------------------\u001b[0m",
      "\u001b[0;31mValueError\u001b[0m                                Traceback (most recent call last)",
      "\u001b[0;32m<ipython-input-66-44951c6015be>\u001b[0m in \u001b[0;36m<module>\u001b[0;34m\u001b[0m\n\u001b[1;32m      1\u001b[0m \u001b[0mx\u001b[0m \u001b[0;34m=\u001b[0m \u001b[0mnp\u001b[0m\u001b[0;34m.\u001b[0m\u001b[0marange\u001b[0m\u001b[0;34m(\u001b[0m\u001b[0;36m9.\u001b[0m\u001b[0;34m)\u001b[0m\u001b[0;34m.\u001b[0m\u001b[0mreshape\u001b[0m\u001b[0;34m(\u001b[0m\u001b[0;36m3\u001b[0m\u001b[0;34m,\u001b[0m \u001b[0;36m3\u001b[0m\u001b[0;34m)\u001b[0m\u001b[0;34m\u001b[0m\u001b[0m\n\u001b[0;32m----> 2\u001b[0;31m \u001b[0mpresyn\u001b[0m\u001b[0;34m[\u001b[0m\u001b[0mnp\u001b[0m\u001b[0;34m.\u001b[0m\u001b[0mwhere\u001b[0m\u001b[0;34m(\u001b[0m\u001b[0mpresyn\u001b[0m \u001b[0;32min\u001b[0m \u001b[0msearch_list\u001b[0m\u001b[0;34m)\u001b[0m\u001b[0;34m]\u001b[0m\u001b[0;34m\u001b[0m\u001b[0m\n\u001b[0m",
      "\u001b[0;31mValueError\u001b[0m: The truth value of an array with more than one element is ambiguous. Use a.any() or a.all()"
     ]
    }
   ],
   "source": [
    "x = np.arange(9.).reshape(3, 3)\n",
    "presyn[np.where(presyn in search_list)]\n"
   ]
  },
  {
   "cell_type": "code",
   "execution_count": 57,
   "metadata": {},
   "outputs": [
    {
     "name": "stdout",
     "output_type": "stream",
     "text": [
      "Total time: 0.0001590251922607422\n",
      "Total time: 0.0002727508544921875\n"
     ]
    }
   ],
   "source": [
    "presyn_set = set(presyn)\n",
    "start_time = time.time()\n",
    "presyn[1000] in presyn_set\n",
    "print(f\"Total time: {time.time()-start_time}\")\n",
    "start_time = time.time()\n",
    "presyn[1000] in presyn\n",
    "print(f\"Total time: {time.time()-start_time}\")"
   ]
  },
  {
   "cell_type": "code",
   "execution_count": null,
   "metadata": {},
   "outputs": [],
   "source": [
    "\"\"\"Pseudo code for correlations \n",
    "\n",
    "1) Starting from the Pre-Post table, proj(\n",
    "presyn,\n",
    "postsyn,\n",
    "total_contact_conversion,\n",
    "total_contact_density,\n",
    "mean_volume\n",
    "\n",
    "2) Option A: just do only for common presyn pairs\n",
    "a. Pull down the whole pre-post data table and put into pandas table\n",
    "b. Generate (on datajoint) all of the unique pairs\n",
    "\n",
    "c. For each of the unique pairs: \n",
    "    1) Get the conversion rate and presyns for segment A and B\n",
    "    2) Do an intersection of presyns\n",
    "        - if no intersectionn then save group\n",
    "    3) Get the conversion rates that match the intersected presyns\n",
    "    4) Calculate pearson coefficient\n",
    "    5) Save in dictionary\n",
    "\n",
    "d. Write dictionary to database\n",
    "- Write no overlap to database\n",
    "\n",
    "\n",
    "\n",
    "\"\"\""
   ]
  },
  {
   "cell_type": "code",
   "execution_count": null,
   "metadata": {},
   "outputs": [],
   "source": [
    "np.searchsorted(presyn, 648518346341351518)"
   ]
  },
  {
   "cell_type": "code",
   "execution_count": null,
   "metadata": {},
   "outputs": [],
   "source": [
    "ta3p100.ContactTestSharedContact()"
   ]
  },
  {
   "cell_type": "code",
   "execution_count": 3,
   "metadata": {},
   "outputs": [
    {
     "data": {
      "text/plain": [
       "array([(648518346341352006, 648518346341353019),\n",
       "       (648518346341352223, 648518346341353019),\n",
       "       (648518346341353019, 648518346341353186),\n",
       "       (648518346341352006, 648518346341353186),\n",
       "       (648518346341352223, 648518346341353186),\n",
       "       (648518346341353019, 648518346341353574),\n",
       "       (648518346341353186, 648518346341353574),\n",
       "       (648518346341352006, 648518346341353574),\n",
       "       (648518346341352223, 648518346341353574),\n",
       "       (648518346341352006, 648518346341352223)],\n",
       "      dtype=[('segment_id', '<i8'), ('segment_b', '<i8')])"
      ]
     },
     "execution_count": 3,
     "metadata": {},
     "output_type": "execute_result"
    }
   ],
   "source": [
    "targets = (dj.U(\"postsyn\") & ta3p100.ContactTestSharedContact).proj(segment_id=\"postsyn\") - ta3p100.SegmentExclude\n",
    "info = targets * targets.proj(segment_b='segment_id') & 'segment_id < segment_b'\n",
    "info\n",
    "\n",
    "segment_pairs = info.fetch()\n",
    "segment_pairs"
   ]
  },
  {
   "cell_type": "code",
   "execution_count": null,
   "metadata": {},
   "outputs": [],
   "source": [
    "ta3p100.ContactPrePostTest()"
   ]
  },
  {
   "cell_type": "code",
   "execution_count": 81,
   "metadata": {},
   "outputs": [
    {
     "data": {
      "text/html": [
       "<div>\n",
       "<style scoped>\n",
       "    .dataframe tbody tr th:only-of-type {\n",
       "        vertical-align: middle;\n",
       "    }\n",
       "\n",
       "    .dataframe tbody tr th {\n",
       "        vertical-align: top;\n",
       "    }\n",
       "\n",
       "    .dataframe thead th {\n",
       "        text-align: right;\n",
       "    }\n",
       "</style>\n",
       "<table border=\"1\" class=\"dataframe\">\n",
       "  <thead>\n",
       "    <tr style=\"text-align: right;\">\n",
       "      <th></th>\n",
       "      <th>segmentation</th>\n",
       "      <th>presyn</th>\n",
       "      <th>postsyn</th>\n",
       "      <th>total_contact_conversion</th>\n",
       "      <th>total_contact_density</th>\n",
       "    </tr>\n",
       "  </thead>\n",
       "  <tbody>\n",
       "    <tr>\n",
       "      <th>0</th>\n",
       "      <td>2</td>\n",
       "      <td>648518346341351467</td>\n",
       "      <td>648518346341352006</td>\n",
       "      <td>6.85714</td>\n",
       "      <td>0.154386</td>\n",
       "    </tr>\n",
       "    <tr>\n",
       "      <th>1</th>\n",
       "      <td>2</td>\n",
       "      <td>648518346341351467</td>\n",
       "      <td>648518346341352223</td>\n",
       "      <td>7.50000</td>\n",
       "      <td>0.178105</td>\n",
       "    </tr>\n",
       "    <tr>\n",
       "      <th>2</th>\n",
       "      <td>2</td>\n",
       "      <td>648518346341351467</td>\n",
       "      <td>648518346341353019</td>\n",
       "      <td>2.66667</td>\n",
       "      <td>0.044457</td>\n",
       "    </tr>\n",
       "    <tr>\n",
       "      <th>3</th>\n",
       "      <td>2</td>\n",
       "      <td>648518346341351467</td>\n",
       "      <td>648518346341353186</td>\n",
       "      <td>2.33333</td>\n",
       "      <td>0.042276</td>\n",
       "    </tr>\n",
       "    <tr>\n",
       "      <th>4</th>\n",
       "      <td>2</td>\n",
       "      <td>648518346341351467</td>\n",
       "      <td>648518346341353574</td>\n",
       "      <td>5.50000</td>\n",
       "      <td>0.120932</td>\n",
       "    </tr>\n",
       "    <tr>\n",
       "      <th>5</th>\n",
       "      <td>2</td>\n",
       "      <td>648518346341351503</td>\n",
       "      <td>648518346341352006</td>\n",
       "      <td>5.60000</td>\n",
       "      <td>0.169934</td>\n",
       "    </tr>\n",
       "    <tr>\n",
       "      <th>6</th>\n",
       "      <td>2</td>\n",
       "      <td>648518346341351503</td>\n",
       "      <td>648518346341352223</td>\n",
       "      <td>3.75000</td>\n",
       "      <td>0.133215</td>\n",
       "    </tr>\n",
       "    <tr>\n",
       "      <th>7</th>\n",
       "      <td>2</td>\n",
       "      <td>648518346341351503</td>\n",
       "      <td>648518346341353019</td>\n",
       "      <td>2.00000</td>\n",
       "      <td>0.061719</td>\n",
       "    </tr>\n",
       "    <tr>\n",
       "      <th>8</th>\n",
       "      <td>2</td>\n",
       "      <td>648518346341351503</td>\n",
       "      <td>648518346341353186</td>\n",
       "      <td>3.50000</td>\n",
       "      <td>0.109838</td>\n",
       "    </tr>\n",
       "    <tr>\n",
       "      <th>9</th>\n",
       "      <td>2</td>\n",
       "      <td>648518346341351503</td>\n",
       "      <td>648518346341353574</td>\n",
       "      <td>4.60000</td>\n",
       "      <td>0.128707</td>\n",
       "    </tr>\n",
       "    <tr>\n",
       "      <th>10</th>\n",
       "      <td>2</td>\n",
       "      <td>648518346341351508</td>\n",
       "      <td>648518346341352006</td>\n",
       "      <td>6.00000</td>\n",
       "      <td>0.163517</td>\n",
       "    </tr>\n",
       "    <tr>\n",
       "      <th>11</th>\n",
       "      <td>2</td>\n",
       "      <td>648518346341351508</td>\n",
       "      <td>648518346341352223</td>\n",
       "      <td>7.00000</td>\n",
       "      <td>0.164261</td>\n",
       "    </tr>\n",
       "    <tr>\n",
       "      <th>12</th>\n",
       "      <td>2</td>\n",
       "      <td>648518346341351508</td>\n",
       "      <td>648518346341353019</td>\n",
       "      <td>8.00000</td>\n",
       "      <td>0.094518</td>\n",
       "    </tr>\n",
       "    <tr>\n",
       "      <th>13</th>\n",
       "      <td>2</td>\n",
       "      <td>648518346341351508</td>\n",
       "      <td>648518346341353186</td>\n",
       "      <td>8.00000</td>\n",
       "      <td>0.099925</td>\n",
       "    </tr>\n",
       "    <tr>\n",
       "      <th>14</th>\n",
       "      <td>2</td>\n",
       "      <td>648518346341351508</td>\n",
       "      <td>648518346341353574</td>\n",
       "      <td>7.00000</td>\n",
       "      <td>0.306793</td>\n",
       "    </tr>\n",
       "    <tr>\n",
       "      <th>15</th>\n",
       "      <td>2</td>\n",
       "      <td>648518346341351509</td>\n",
       "      <td>648518346341352006</td>\n",
       "      <td>3.00000</td>\n",
       "      <td>0.088028</td>\n",
       "    </tr>\n",
       "    <tr>\n",
       "      <th>16</th>\n",
       "      <td>2</td>\n",
       "      <td>648518346341351509</td>\n",
       "      <td>648518346341352223</td>\n",
       "      <td>0.00000</td>\n",
       "      <td>0.000000</td>\n",
       "    </tr>\n",
       "    <tr>\n",
       "      <th>17</th>\n",
       "      <td>2</td>\n",
       "      <td>648518346341351509</td>\n",
       "      <td>648518346341353019</td>\n",
       "      <td>10.00000</td>\n",
       "      <td>1.152070</td>\n",
       "    </tr>\n",
       "    <tr>\n",
       "      <th>18</th>\n",
       "      <td>2</td>\n",
       "      <td>648518346341351509</td>\n",
       "      <td>648518346341353186</td>\n",
       "      <td>5.66667</td>\n",
       "      <td>0.088613</td>\n",
       "    </tr>\n",
       "    <tr>\n",
       "      <th>19</th>\n",
       "      <td>2</td>\n",
       "      <td>648518346341351509</td>\n",
       "      <td>648518346341353574</td>\n",
       "      <td>7.50000</td>\n",
       "      <td>0.128474</td>\n",
       "    </tr>\n",
       "    <tr>\n",
       "      <th>20</th>\n",
       "      <td>2</td>\n",
       "      <td>648518346341351512</td>\n",
       "      <td>648518346341352006</td>\n",
       "      <td>4.00000</td>\n",
       "      <td>0.134264</td>\n",
       "    </tr>\n",
       "    <tr>\n",
       "      <th>21</th>\n",
       "      <td>2</td>\n",
       "      <td>648518346341351512</td>\n",
       "      <td>648518346341352223</td>\n",
       "      <td>1.00000</td>\n",
       "      <td>0.014885</td>\n",
       "    </tr>\n",
       "    <tr>\n",
       "      <th>22</th>\n",
       "      <td>2</td>\n",
       "      <td>648518346341351512</td>\n",
       "      <td>648518346341353019</td>\n",
       "      <td>3.00000</td>\n",
       "      <td>0.044790</td>\n",
       "    </tr>\n",
       "    <tr>\n",
       "      <th>23</th>\n",
       "      <td>2</td>\n",
       "      <td>648518346341351512</td>\n",
       "      <td>648518346341353186</td>\n",
       "      <td>9.00000</td>\n",
       "      <td>0.551978</td>\n",
       "    </tr>\n",
       "    <tr>\n",
       "      <th>24</th>\n",
       "      <td>2</td>\n",
       "      <td>648518346341351514</td>\n",
       "      <td>648518346341352006</td>\n",
       "      <td>3.75000</td>\n",
       "      <td>0.051356</td>\n",
       "    </tr>\n",
       "    <tr>\n",
       "      <th>25</th>\n",
       "      <td>2</td>\n",
       "      <td>648518346341351514</td>\n",
       "      <td>648518346341352223</td>\n",
       "      <td>4.00000</td>\n",
       "      <td>0.070291</td>\n",
       "    </tr>\n",
       "    <tr>\n",
       "      <th>26</th>\n",
       "      <td>2</td>\n",
       "      <td>648518346341351514</td>\n",
       "      <td>648518346341353019</td>\n",
       "      <td>7.00000</td>\n",
       "      <td>0.407451</td>\n",
       "    </tr>\n",
       "    <tr>\n",
       "      <th>27</th>\n",
       "      <td>2</td>\n",
       "      <td>648518346341351514</td>\n",
       "      <td>648518346341353186</td>\n",
       "      <td>7.50000</td>\n",
       "      <td>0.133203</td>\n",
       "    </tr>\n",
       "    <tr>\n",
       "      <th>28</th>\n",
       "      <td>2</td>\n",
       "      <td>648518346341351514</td>\n",
       "      <td>648518346341353574</td>\n",
       "      <td>5.00000</td>\n",
       "      <td>0.100321</td>\n",
       "    </tr>\n",
       "    <tr>\n",
       "      <th>29</th>\n",
       "      <td>2</td>\n",
       "      <td>648518346341351518</td>\n",
       "      <td>648518346341352006</td>\n",
       "      <td>0.00000</td>\n",
       "      <td>0.000000</td>\n",
       "    </tr>\n",
       "    <tr>\n",
       "      <th>30</th>\n",
       "      <td>2</td>\n",
       "      <td>648518346341351518</td>\n",
       "      <td>648518346341352223</td>\n",
       "      <td>10.00000</td>\n",
       "      <td>1.117320</td>\n",
       "    </tr>\n",
       "    <tr>\n",
       "      <th>31</th>\n",
       "      <td>2</td>\n",
       "      <td>648518346341351518</td>\n",
       "      <td>648518346341353019</td>\n",
       "      <td>4.33333</td>\n",
       "      <td>0.066101</td>\n",
       "    </tr>\n",
       "    <tr>\n",
       "      <th>32</th>\n",
       "      <td>2</td>\n",
       "      <td>648518346341351518</td>\n",
       "      <td>648518346341353186</td>\n",
       "      <td>10.00000</td>\n",
       "      <td>0.255885</td>\n",
       "    </tr>\n",
       "    <tr>\n",
       "      <th>33</th>\n",
       "      <td>2</td>\n",
       "      <td>648518346341351518</td>\n",
       "      <td>648518346341353574</td>\n",
       "      <td>5.25000</td>\n",
       "      <td>0.112891</td>\n",
       "    </tr>\n",
       "  </tbody>\n",
       "</table>\n",
       "</div>"
      ],
      "text/plain": [
       "    segmentation              presyn             postsyn  \\\n",
       "0              2  648518346341351467  648518346341352006   \n",
       "1              2  648518346341351467  648518346341352223   \n",
       "2              2  648518346341351467  648518346341353019   \n",
       "3              2  648518346341351467  648518346341353186   \n",
       "4              2  648518346341351467  648518346341353574   \n",
       "5              2  648518346341351503  648518346341352006   \n",
       "6              2  648518346341351503  648518346341352223   \n",
       "7              2  648518346341351503  648518346341353019   \n",
       "8              2  648518346341351503  648518346341353186   \n",
       "9              2  648518346341351503  648518346341353574   \n",
       "10             2  648518346341351508  648518346341352006   \n",
       "11             2  648518346341351508  648518346341352223   \n",
       "12             2  648518346341351508  648518346341353019   \n",
       "13             2  648518346341351508  648518346341353186   \n",
       "14             2  648518346341351508  648518346341353574   \n",
       "15             2  648518346341351509  648518346341352006   \n",
       "16             2  648518346341351509  648518346341352223   \n",
       "17             2  648518346341351509  648518346341353019   \n",
       "18             2  648518346341351509  648518346341353186   \n",
       "19             2  648518346341351509  648518346341353574   \n",
       "20             2  648518346341351512  648518346341352006   \n",
       "21             2  648518346341351512  648518346341352223   \n",
       "22             2  648518346341351512  648518346341353019   \n",
       "23             2  648518346341351512  648518346341353186   \n",
       "24             2  648518346341351514  648518346341352006   \n",
       "25             2  648518346341351514  648518346341352223   \n",
       "26             2  648518346341351514  648518346341353019   \n",
       "27             2  648518346341351514  648518346341353186   \n",
       "28             2  648518346341351514  648518346341353574   \n",
       "29             2  648518346341351518  648518346341352006   \n",
       "30             2  648518346341351518  648518346341352223   \n",
       "31             2  648518346341351518  648518346341353019   \n",
       "32             2  648518346341351518  648518346341353186   \n",
       "33             2  648518346341351518  648518346341353574   \n",
       "\n",
       "    total_contact_conversion  total_contact_density  \n",
       "0                    6.85714               0.154386  \n",
       "1                    7.50000               0.178105  \n",
       "2                    2.66667               0.044457  \n",
       "3                    2.33333               0.042276  \n",
       "4                    5.50000               0.120932  \n",
       "5                    5.60000               0.169934  \n",
       "6                    3.75000               0.133215  \n",
       "7                    2.00000               0.061719  \n",
       "8                    3.50000               0.109838  \n",
       "9                    4.60000               0.128707  \n",
       "10                   6.00000               0.163517  \n",
       "11                   7.00000               0.164261  \n",
       "12                   8.00000               0.094518  \n",
       "13                   8.00000               0.099925  \n",
       "14                   7.00000               0.306793  \n",
       "15                   3.00000               0.088028  \n",
       "16                   0.00000               0.000000  \n",
       "17                  10.00000               1.152070  \n",
       "18                   5.66667               0.088613  \n",
       "19                   7.50000               0.128474  \n",
       "20                   4.00000               0.134264  \n",
       "21                   1.00000               0.014885  \n",
       "22                   3.00000               0.044790  \n",
       "23                   9.00000               0.551978  \n",
       "24                   3.75000               0.051356  \n",
       "25                   4.00000               0.070291  \n",
       "26                   7.00000               0.407451  \n",
       "27                   7.50000               0.133203  \n",
       "28                   5.00000               0.100321  \n",
       "29                   0.00000               0.000000  \n",
       "30                  10.00000               1.117320  \n",
       "31                   4.33333               0.066101  \n",
       "32                  10.00000               0.255885  \n",
       "33                   5.25000               0.112891  "
      ]
     },
     "execution_count": 81,
     "metadata": {},
     "output_type": "execute_result"
    }
   ],
   "source": [
    "df"
   ]
  },
  {
   "cell_type": "code",
   "execution_count": 120,
   "metadata": {},
   "outputs": [
    {
     "name": "stdout",
     "output_type": "stream",
     "text": [
      "-0.6026168953755794\n",
      "Total time for correlation = 0.016229867935180664\n"
     ]
    }
   ],
   "source": [
    "#download the projection of the Neurites Table\n",
    "import pandas as pd\n",
    "\n",
    "prepost_data = ta3p100.ContactPrePostTestReal.proj(\"presyn\",\n",
    "                    \"postsyn\",\"total_contact_conversion\",\"total_contact_density\").fetch()\n",
    "\n",
    "df = pd.DataFrame(prepost_data)\n",
    "df\n",
    "#how to restrict a table\n",
    "# df['presyn'] == 648518346341351467\n",
    "#how to do two value restrictions: df[df['first_name'].notnull() & (df['nationality'] == \"USA\")]\n",
    "\n",
    "start_time = time.time()\n",
    "postsyn1 = 648518346341353019\n",
    "postsyn2 = 648518346341352223\n",
    "\n",
    "df_1 = df[df[\"postsyn\"]==postsyn1][:5]\n",
    "df_2 = df[df[\"postsyn\"]==postsyn2][1:]\n",
    "#how you restrict a table by the values in the other table\n",
    "df_1_common = df_1[df_1[\"presyn\"].isin(df_2[\"presyn\"])].sort_values(by=['presyn'])\n",
    "df_2_common = df_2[df_2[\"presyn\"].isin(df_1[\"presyn\"])].sort_values(by=['presyn'])\n",
    "#how to extract the data\n",
    "#postsyns = restr_df[\"presyn\"].to_numpy()\n",
    "df_1_common_conversion = df_1[df_1[\"presyn\"].isin(df_2[\"presyn\"])].sort_values(by=['presyn'])[\"total_contact_conversion\"].to_numpy()\n",
    "df_2_common_conversion = df_2[df_2[\"presyn\"].isin(df_1[\"presyn\"])].sort_values(by=['presyn'])[\"total_contact_conversion\"].to_numpy()\n",
    "\n",
    "#postsyns = restr_df[\"presyn\"].to_numpy()\n",
    "df_1_common_density = df_1[df_1[\"presyn\"].isin(df_2[\"presyn\"])].sort_values(by=['presyn'])[\"total_contact_density\"].to_numpy()\n",
    "df_2_common_density = df_2[df_2[\"presyn\"].isin(df_1[\"presyn\"])].sort_values(by=['presyn'])[\"total_contact_density\"].to_numpy()\n",
    "    \n",
    "#calculate the coefficient\n",
    "from scipy.stats import pearsonr\n",
    "\n",
    "corr_value, p_value = pearsonr(df_1_common_conversion, df_2_common_conversion)\n",
    "corr_value, p_value = pearsonr(df_1_common_density, df_2_common_density)\n",
    "print(corr_value)\n",
    "print(f\"Total time for correlation = {time.time()-start_time}\")"
   ]
  },
  {
   "cell_type": "code",
   "execution_count": null,
   "metadata": {},
   "outputs": [],
   "source": []
  },
  {
   "cell_type": "code",
   "execution_count": null,
   "metadata": {},
   "outputs": [],
   "source": []
  }
 ],
 "metadata": {
  "kernelspec": {
   "display_name": "Python 3",
   "language": "python",
   "name": "python3"
  },
  "language_info": {
   "codemirror_mode": {
    "name": "ipython",
    "version": 3
   },
   "file_extension": ".py",
   "mimetype": "text/x-python",
   "name": "python",
   "nbconvert_exporter": "python",
   "pygments_lexer": "ipython3",
   "version": "3.6.5"
  }
 },
 "nbformat": 4,
 "nbformat_minor": 2
}
