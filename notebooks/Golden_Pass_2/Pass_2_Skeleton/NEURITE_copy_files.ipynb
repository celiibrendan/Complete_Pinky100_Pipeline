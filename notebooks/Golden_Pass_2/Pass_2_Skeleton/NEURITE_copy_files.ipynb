{
 "cells": [
  {
   "cell_type": "code",
   "execution_count": 3,
   "metadata": {},
   "outputs": [],
   "source": [
    "import shutil\n",
    "\n",
    "import os\n",
    "\n",
    "def copy_file_and_create_shell_script(original_file,num_copies):\n",
    "    #create copies folder if not already there\n",
    "#     if not os.path.exists(\"copies\"):\n",
    "#         os.makedirs(\"copies\")\n",
    "    \n",
    "    #create the new files\n",
    "    new_file_names = []\n",
    "    for i in range(0,num_copies):\n",
    "        # Copy the file in same folder with different name\n",
    "        new_name = str(i) + \"_\" + str(original_file)\n",
    "        shutil.copy(original_file, str(new_name))\n",
    "        \n",
    "        new_file_names.append(new_name)\n",
    "\n",
    "    #write the shell script\n",
    "    f = open(\"run_multiple_\" + str(original_file)[:-3] + \".sh\", \"w\")\n",
    "    f.write(\"#!/bin/bash\")\n",
    "    f.write(\"\\n\")\n",
    "    for file_name in new_file_names:\n",
    "        f.write(\"python3 \" + str(file_name) + \" &\")\n",
    "        f.write(\"\\n\")\n",
    "    f.close()"
   ]
  },
  {
   "cell_type": "code",
   "execution_count": 4,
   "metadata": {},
   "outputs": [],
   "source": [
    "copy_file_and_create_shell_script(\"NEURITE_Skeleton.py\",100)"
   ]
  },
  {
   "cell_type": "code",
   "execution_count": null,
   "metadata": {},
   "outputs": [],
   "source": [
    "#how to convert a jupyter notebook to python\n",
    "#jupyter nbconvert --to script NEURITE_Skeleton.ipynb"
   ]
  }
 ],
 "metadata": {
  "kernelspec": {
   "display_name": "Python 3",
   "language": "python",
   "name": "python3"
  },
  "language_info": {
   "codemirror_mode": {
    "name": "ipython",
    "version": 3
   },
   "file_extension": ".py",
   "mimetype": "text/x-python",
   "name": "python",
   "nbconvert_exporter": "python",
   "pygments_lexer": "ipython3",
   "version": "3.6.5"
  }
 },
 "nbformat": 4,
 "nbformat_minor": 2
}
