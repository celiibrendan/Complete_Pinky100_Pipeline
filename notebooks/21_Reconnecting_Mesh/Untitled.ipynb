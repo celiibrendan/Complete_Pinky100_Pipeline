{
 "cells": [
  {
   "cell_type": "code",
   "execution_count": null,
   "metadata": {},
   "outputs": [],
   "source": [
    "\"\"\" Child data \"\"\"\n",
    "child_key #the current child we are processing\n",
    "pair #has the child mesh and the main mesh facet index\n",
    "current_child_facet_faces = child_meshes_facets_test[child_key][0] #all of the child facets \n",
    "current_child_facet_centers = child_meshes_facets_test[child_key][1]\n",
    "child_used_facet_index = pair_test[0]\n",
    "child_used_facet_faces = current_child_facet_faces[child_used_facet_index] #current facet that is being used\n",
    "child_used_facet_centers = current_child_facet_centers[child_used_facet_index] #current facet that is being used\n",
    "\n",
    "\"\"\" Main mesh data \"\"\"\n",
    "main_used_faceet_index = pair[1]\n",
    "\n",
    "main_used_facet_faces = main_mesh_facets_test[main_used_faceet_index]\n",
    "main_used_facet_centers = main_mesh_facets_centers_test[main_used_faceet_index]\n",
    "\n",
    "#checking right now\n",
    "child_used_facet_centers"
   ]
  },
  {
   "cell_type": "code",
   "execution_count": null,
   "metadata": {},
   "outputs": [],
   "source": [
    "#remove certian rows from array\n",
    "current_child_facet_faces_with_deletion = np.delete(current_child_facet_faces,(child_used_facet_index),axis=0)\n",
    "current_child_facet_centers_with_deletion = np.delete(current_child_facet_centers,(child_used_facet_index),axis=0)\n",
    "\n",
    "##### DON'T WANT TO DELETE THE MAIN MESH FACETS JUST YET ####\n",
    "\n",
    "#have to adjust the faces of the child_facets list to account for the faces off set\n",
    "current_child_facet_faces_with_deletion = current_child_facet_faces_with_deletion + original_mesh_faces_len\n",
    "\n",
    "#append this list to the main mesh list\n",
    "main_mesh_facets_test_new = np.concatenate([main_mesh_facets_test,current_child_facet_faces_with_deletion])\n",
    "main_mesh_centers_test_new = np.concatenate([main_mesh_facets_centers_test,current_child_facet_centers_with_deletion])\n",
    "\n",
    "print(len(main_mesh_facets_test) + len(current_child_facet_faces) -1 ,len(main_mesh_facets_test_new))\n",
    "print(len(main_mesh_facets_centers_test) + len(current_child_facet_centers) -1 ,len(main_mesh_centers_test_new))\n",
    "\n",
    "#save off the facets to delete for the main mesh at the end of the loop\n",
    "main_mesh_facet_index_to_delete = []\n",
    "main_mesh_facet_index_to_delete.append(pair[1])\n",
    "main_mesh_facet_index_to_delete.append(0)\n",
    "\n",
    "\n",
    "#at the end of the big loop have to delete the facets used from main mesh\n",
    "#remove certian rows from array\n",
    "main_mesh_facets_test_new_with_deletion = np.delete(main_mesh_facets_test_new,(main_mesh_facet_index_to_delete),axis=0)\n",
    "main_mesh_centers_test_new_with_deletion = np.delete(main_mesh_centers_test_new,(main_mesh_facet_index_to_delete),axis=0)\n",
    "\n",
    "print(len(main_mesh_facets_test_new),len(main_mesh_facets_test_new_with_deletion))\n",
    "print(len(main_mesh_centers_test_new),len(main_mesh_centers_test_new_with_deletion))\n"
   ]
  }
 ],
 "metadata": {
  "kernelspec": {
   "display_name": "Python 3",
   "language": "python",
   "name": "python3"
  },
  "language_info": {
   "codemirror_mode": {
    "name": "ipython",
    "version": 3
   },
   "file_extension": ".py",
   "mimetype": "text/x-python",
   "name": "python",
   "nbconvert_exporter": "python",
   "pygments_lexer": "ipython3",
   "version": "3.6.5"
  }
 },
 "nbformat": 4,
 "nbformat_minor": 2
}
