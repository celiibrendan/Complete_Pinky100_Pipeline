{
 "cells": [
  {
   "cell_type": "code",
   "execution_count": 1,
   "metadata": {},
   "outputs": [],
   "source": [
    "import datajoint as dj\n",
    "import numpy as np\n",
    "import time\n",
    "from tqdm import tqdm"
   ]
  },
  {
   "cell_type": "code",
   "execution_count": 2,
   "metadata": {},
   "outputs": [
    {
     "name": "stdout",
     "output_type": "stream",
     "text": [
      "Connecting celiib@10.28.0.34:3306\n"
     ]
    }
   ],
   "source": [
    "#setting the address and the username\n",
    "dj.config['database.host'] = '10.28.0.34'\n",
    "dj.config['database.user'] = 'celiib'\n",
    "dj.config['database.password'] = 'newceliipass'\n",
    "dj.config['safemode']=True\n",
    "dj.config[\"display.limit\"] = 20\n",
    "\n",
    "ta3p100 = dj.create_virtual_module('ta3p100', 'microns_ta3p100')\n",
    "schema = dj.schema('microns_ta3p100')\n"
   ]
  },
  {
   "cell_type": "code",
   "execution_count": 3,
   "metadata": {},
   "outputs": [],
   "source": [
    "#ta3p100.ProofreadLabelFinal & 'status=\"complete\"'"
   ]
  },
  {
   "cell_type": "code",
   "execution_count": 4,
   "metadata": {},
   "outputs": [],
   "source": [
    "@schema\n",
    "class CoarseLabelFinal(dj.Computed):\n",
    "    definition = \"\"\"\n",
    "    # Vertex labels for ta3p100.ProofreadLabel did not correctly match the triangle labels, so these are regenerated from the correct triangle labels.\n",
    "    -> ta3p100.ProofreadLabelFinal\n",
    "    ---\n",
    "    vertices  : longblob # Corrected vertex labels\n",
    "    triangles : longblob # Same triangle labels as ta3p100.ProofreadLabel\n",
    "    \"\"\"\n",
    "    \n",
    "    key_source = ta3p100.ProofreadLabelFinal & 'status=\"complete\"'\n",
    "    \n",
    "    def make(self, key):\n",
    "        start = time.time()\n",
    "        \n",
    "        print(key[\"segment_id\"])\n",
    "        labels = (ta3p100.ProofreadLabelFinal & key).fetch1()\n",
    "        corrected_vertex_labels = np.zeros(labels['vertices'].shape, np.uint8)\n",
    "        \n",
    "        mesh = (ta3p100.CleansedMesh & 'decimation_ratio=0.35' & dict(segment_id=key['segment_id'])).fetch1()\n",
    "        mesh_triangles = mesh['triangles']\n",
    "        \n",
    "        vertex_label_dict = dict()\n",
    "        for i, label in enumerate(labels['triangles']):\n",
    "            triangle = mesh_triangles[i]\n",
    "            for node in triangle:\n",
    "                if node in vertex_label_dict:\n",
    "                    if vertex_label_dict[node] < label:\n",
    "                        vertex_label_dict[node] = label\n",
    "                else:\n",
    "                    vertex_label_dict[node] = label\n",
    "                \n",
    "        for node, label in vertex_label_dict.items():\n",
    "            corrected_vertex_labels[node] = label\n",
    "            \n",
    "        self.insert1(dict(key,\n",
    "                          vertices=corrected_vertex_labels,\n",
    "                          triangles=labels['triangles']))\n",
    "        \n",
    "        print(\"Segment {} vertex labels regenerated in: {} seconds.\".format(key['segment_id'], time.time() - start))"
   ]
  },
  {
   "cell_type": "code",
   "execution_count": 5,
   "metadata": {},
   "outputs": [
    {
     "name": "stdout",
     "output_type": "stream",
     "text": [
      "648518346349479479\n",
      "Segment 648518346349479479 vertex labels regenerated in: 3.7682394981384277 seconds.\n",
      "648518346349479981\n",
      "Segment 648518346349479981 vertex labels regenerated in: 3.8923935890197754 seconds.\n",
      "648518346349483228\n",
      "Segment 648518346349483228 vertex labels regenerated in: 3.0587964057922363 seconds.\n",
      "648518346349486885\n",
      "Segment 648518346349486885 vertex labels regenerated in: 3.200406312942505 seconds.\n",
      "648518346349490614\n",
      "Segment 648518346349490614 vertex labels regenerated in: 3.073758125305176 seconds.\n",
      "648518346349491311\n",
      "Segment 648518346349491311 vertex labels regenerated in: 3.468548059463501 seconds.\n",
      "648518346349493106\n",
      "Segment 648518346349493106 vertex labels regenerated in: 3.084857940673828 seconds.\n",
      "648518346349493606\n",
      "Segment 648518346349493606 vertex labels regenerated in: 2.1919050216674805 seconds.\n",
      "648518346349493981\n",
      "Segment 648518346349493981 vertex labels regenerated in: 2.9042129516601562 seconds.\n",
      "648518346349495174\n",
      "Segment 648518346349495174 vertex labels regenerated in: 3.756526231765747 seconds.\n",
      "648518346349495846\n",
      "Segment 648518346349495846 vertex labels regenerated in: 2.8118317127227783 seconds.\n",
      "648518346349496245\n",
      "Segment 648518346349496245 vertex labels regenerated in: 3.483165979385376 seconds.\n",
      "648518346349498116\n",
      "Segment 648518346349498116 vertex labels regenerated in: 5.567076206207275 seconds.\n",
      "648518346349499186\n",
      "Segment 648518346349499186 vertex labels regenerated in: 3.4467484951019287 seconds.\n",
      "648518346349499679\n",
      "Segment 648518346349499679 vertex labels regenerated in: 3.418400526046753 seconds.\n",
      "648518346349499773\n",
      "Segment 648518346349499773 vertex labels regenerated in: 4.083624362945557 seconds.\n",
      "648518346349499910\n",
      "Segment 648518346349499910 vertex labels regenerated in: 3.367908477783203 seconds.\n",
      "648518346349500162\n",
      "Segment 648518346349500162 vertex labels regenerated in: 3.36510968208313 seconds.\n",
      "648518346349500440\n",
      "Segment 648518346349500440 vertex labels regenerated in: 3.6031033992767334 seconds.\n",
      "648518346349500742\n",
      "Segment 648518346349500742 vertex labels regenerated in: 2.783719062805176 seconds.\n",
      "648518346349501481\n",
      "Segment 648518346349501481 vertex labels regenerated in: 2.8291280269622803 seconds.\n",
      "648518346349501746\n",
      "Segment 648518346349501746 vertex labels regenerated in: 4.660517692565918 seconds.\n",
      "648518346349503140\n",
      "Segment 648518346349503140 vertex labels regenerated in: 4.607041597366333 seconds.\n",
      "648518346349503717\n",
      "Segment 648518346349503717 vertex labels regenerated in: 4.145671367645264 seconds.\n",
      "648518346349504324\n",
      "Segment 648518346349504324 vertex labels regenerated in: 5.781577825546265 seconds.\n",
      "648518346349505144\n",
      "Segment 648518346349505144 vertex labels regenerated in: 2.408188819885254 seconds.\n",
      "648518346349505696\n",
      "Segment 648518346349505696 vertex labels regenerated in: 4.042397499084473 seconds.\n",
      "648518346349506617\n",
      "Segment 648518346349506617 vertex labels regenerated in: 2.517791748046875 seconds.\n",
      "648518346349506803\n",
      "Segment 648518346349506803 vertex labels regenerated in: 3.3902714252471924 seconds.\n",
      "648518346349507351\n",
      "Segment 648518346349507351 vertex labels regenerated in: 3.497854471206665 seconds.\n",
      "648518346349507963\n",
      "Segment 648518346349507963 vertex labels regenerated in: 3.612748146057129 seconds.\n",
      "112.90529656410217\n"
     ]
    }
   ],
   "source": [
    "start = time.time()\n",
    "CoarseLabelFinal.populate(reserve_jobs=True)\n",
    "print(time.time() - start)"
   ]
  },
  {
   "cell_type": "code",
   "execution_count": 11,
   "metadata": {},
   "outputs": [],
   "source": [
    "#(schema.jobs & \"table_name='__coarse_label_final'\").delete()"
   ]
  },
  {
   "cell_type": "code",
   "execution_count": null,
   "metadata": {},
   "outputs": [],
   "source": []
  }
 ],
 "metadata": {
  "kernelspec": {
   "display_name": "Python 3",
   "language": "python",
   "name": "python3"
  },
  "language_info": {
   "codemirror_mode": {
    "name": "ipython",
    "version": 3
   },
   "file_extension": ".py",
   "mimetype": "text/x-python",
   "name": "python",
   "nbconvert_exporter": "python",
   "pygments_lexer": "ipython3",
   "version": "3.6.5"
  }
 },
 "nbformat": 4,
 "nbformat_minor": 2
}
