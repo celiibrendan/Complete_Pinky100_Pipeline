{
 "cells": [
  {
   "cell_type": "code",
   "execution_count": 1,
   "metadata": {},
   "outputs": [
    {
     "data": {
      "text/plain": [
       "'\\npurpose: To test out the meshlab utils\\n\\n'"
      ]
     },
     "execution_count": 1,
     "metadata": {},
     "output_type": "execute_result"
    }
   ],
   "source": [
    "\"\"\"\n",
    "purpose: To test out the meshlab utils\n",
    "\n",
    "\"\"\""
   ]
  },
  {
   "cell_type": "code",
   "execution_count": 2,
   "metadata": {},
   "outputs": [],
   "source": [
    "import trimesh\n",
    "from meshlab import Poisson"
   ]
  },
  {
   "cell_type": "code",
   "execution_count": 3,
   "metadata": {},
   "outputs": [
    {
     "name": "stdout",
     "output_type": "stream",
     "text": [
      "filter_type = filter\n",
      "filter_type = filter\n",
      "filter_type = xmlfilter\n",
      "filter_type = filter\n"
     ]
    }
   ],
   "source": [
    "my_poisson = Poisson(\"new_folder\")"
   ]
  },
  {
   "cell_type": "code",
   "execution_count": 5,
   "metadata": {},
   "outputs": [
    {
     "name": "stdout",
     "output_type": "stream",
     "text": [
      "IN INPUT FILE VALIDATION LOOP\n",
      "VALIDATION ERROR (sleepin): 'posixpath'\n",
      "IN INPUT FILE VALIDATION LOOP\n",
      "VALIDATION ERROR (sleepin): 'posixpath'\n",
      "IN INPUT FILE VALIDATION LOOP\n",
      "VALIDATION ERROR (sleepin): 'posixpath'\n",
      "IN INPUT FILE VALIDATION LOOP\n",
      "VALIDATION ERROR (sleepin): 'posixpath'\n",
      "IN INPUT FILE VALIDATION LOOP\n",
      "VALIDATION ERROR (sleepin): 'posixpath'\n",
      "IN INPUT FILE VALIDATION LOOP\n",
      "VALIDATION ERROR (sleepin): 'posixpath'\n",
      "IN INPUT FILE VALIDATION LOOP\n",
      "VALIDATION ERROR (sleepin): 'posixpath'\n",
      "IN INPUT FILE VALIDATION LOOP\n",
      "VALIDATION ERROR (sleepin): 'posixpath'\n",
      "IN INPUT FILE VALIDATION LOOP\n",
      "VALIDATION ERROR (sleepin): 'posixpath'\n",
      "IN INPUT FILE VALIDATION LOOP\n",
      "VALIDATION ERROR (sleepin): 'posixpath'\n"
     ]
    },
    {
     "ename": "ValueError",
     "evalue": "MESH VALIDATION TRIES EXCEEDED",
     "output_type": "error",
     "traceback": [
      "\u001b[0;31m---------------------------------------------------------------------------\u001b[0m",
      "\u001b[0;31mValueError\u001b[0m                                Traceback (most recent call last)",
      "\u001b[0;32m<ipython-input-5-77f377bcf9f5>\u001b[0m in \u001b[0;36m<module>\u001b[0;34m\u001b[0m\n\u001b[0;32m----> 1\u001b[0;31m \u001b[0mmy_poisson\u001b[0m\u001b[0;34m(\u001b[0m\u001b[0minput_mesh_path\u001b[0m\u001b[0;34m=\u001b[0m\u001b[0;34m\"neuron_78843505732443400_decimated.off\"\u001b[0m\u001b[0;34m)\u001b[0m\u001b[0;34m\u001b[0m\u001b[0;34m\u001b[0m\u001b[0m\n\u001b[0m",
      "\u001b[0;32m/notebooks3/Users/celii/Documents/Complete_Pinky100_Pipeline/notebooks/Platinum/Platinum_Soma_Finder_vp2/meshlab.py\u001b[0m in \u001b[0;36m__call__\u001b[0;34m(self, vertices, faces, segment_id, return_mesh, input_mesh_path, mesh_filename, printout, delete_temp_files)\u001b[0m\n\u001b[1;32m    521\u001b[0m \u001b[0;34m\u001b[0m\u001b[0m\n\u001b[1;32m    522\u001b[0m             \u001b[0;32mif\u001b[0m \u001b[0;34m(\u001b[0m\u001b[0mi\u001b[0m \u001b[0;34m+\u001b[0m \u001b[0;36m1\u001b[0m\u001b[0;34m)\u001b[0m \u001b[0;34m>=\u001b[0m \u001b[0mtry_counter\u001b[0m\u001b[0;34m:\u001b[0m\u001b[0;34m\u001b[0m\u001b[0;34m\u001b[0m\u001b[0m\n\u001b[0;32m--> 523\u001b[0;31m                 \u001b[0;32mraise\u001b[0m \u001b[0mValueError\u001b[0m\u001b[0;34m(\u001b[0m\u001b[0;34m'MESH VALIDATION TRIES EXCEEDED'\u001b[0m\u001b[0;34m)\u001b[0m\u001b[0;34m\u001b[0m\u001b[0;34m\u001b[0m\u001b[0m\n\u001b[0m\u001b[1;32m    524\u001b[0m \u001b[0;34m\u001b[0m\u001b[0m\n\u001b[1;32m    525\u001b[0m         \u001b[0moutput_obj\u001b[0m \u001b[0;34m=\u001b[0m \u001b[0mself\u001b[0m\u001b[0;34m.\u001b[0m\u001b[0mtemp_folder_obj\u001b[0m \u001b[0;34m/\u001b[0m \u001b[0;34m'{}_poisson{}'\u001b[0m\u001b[0;34m.\u001b[0m\u001b[0mformat\u001b[0m\u001b[0;34m(\u001b[0m\u001b[0minput_obj\u001b[0m\u001b[0;34m.\u001b[0m\u001b[0mstem\u001b[0m\u001b[0;34m,\u001b[0m \u001b[0minput_obj\u001b[0m\u001b[0;34m.\u001b[0m\u001b[0msuffix\u001b[0m\u001b[0;34m)\u001b[0m\u001b[0;34m\u001b[0m\u001b[0;34m\u001b[0m\u001b[0m\n",
      "\u001b[0;31mValueError\u001b[0m: MESH VALIDATION TRIES EXCEEDED"
     ]
    }
   ],
   "source": [
    "my_poisson(input_mesh_path=\"neuron_78843505732443400_decimated.off\")"
   ]
  },
  {
   "cell_type": "code",
   "execution_count": null,
   "metadata": {},
   "outputs": [],
   "source": []
  }
 ],
 "metadata": {
  "kernelspec": {
   "display_name": "Python 3",
   "language": "python",
   "name": "python3"
  },
  "language_info": {
   "codemirror_mode": {
    "name": "ipython",
    "version": 3
   },
   "file_extension": ".py",
   "mimetype": "text/x-python",
   "name": "python",
   "nbconvert_exporter": "python",
   "pygments_lexer": "ipython3",
   "version": "3.6.8"
  }
 },
 "nbformat": 4,
 "nbformat_minor": 4
}
