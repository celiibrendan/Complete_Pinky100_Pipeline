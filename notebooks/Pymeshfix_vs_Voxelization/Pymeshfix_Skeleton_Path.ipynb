{
 "cells": [
  {
   "cell_type": "markdown",
   "metadata": {},
   "source": [
    "# Pymesh --> Skeleton"
   ]
  },
  {
   "cell_type": "code",
   "execution_count": 1,
   "metadata": {},
   "outputs": [],
   "source": [
    "#import modules and set up datajoint"
   ]
  },
  {
   "cell_type": "code",
   "execution_count": 2,
   "metadata": {},
   "outputs": [],
   "source": [
    "import datajoint as dj\n",
    "import numpy as np\n",
    "import calcification_Module as cm\n",
    "import os\n",
    "import pathlib\n",
    "import subprocess\n",
    "import time\n",
    "\n",
    "#for the shrinkwrapping:\n",
    "import pymeshfix\n",
    "\n",
    "#for supressing the output\n",
    "import os, contextlib\n"
   ]
  },
  {
   "cell_type": "code",
   "execution_count": 3,
   "metadata": {},
   "outputs": [
    {
     "name": "stdout",
     "output_type": "stream",
     "text": [
      "Connecting celiib@10.28.0.34:3306\n"
     ]
    }
   ],
   "source": [
    "#connect to the database and pull down Cleansed Mesh ones and generate the resurfacing of these\n",
    "ta3p100 = dj.create_virtual_module(\"ta3p100\",\"microns_ta3p100\")"
   ]
  },
  {
   "cell_type": "code",
   "execution_count": 4,
   "metadata": {},
   "outputs": [],
   "source": [
    "#if temp folder doesn't exist then create it\n",
    "if (os.path.isdir(os.getcwd() + \"/temp\")) == False:\n",
    "    os.mkdir(\"temp\")"
   ]
  },
  {
   "cell_type": "code",
   "execution_count": 5,
   "metadata": {},
   "outputs": [],
   "source": [
    "def skeletonize_Neuron_Meshlabserver(key):\n",
    "    start_time_inner = time.time()\n",
    "    vertices_ar,triangles_ar = (ta3p100.Decimation35 & key).fetch(\"vertices\",\"triangles\")\n",
    "\n",
    "    vertices = vertices_ar[0]\n",
    "    triangles = triangles_ar[0]\n",
    "    print(f\"Import time = {time.time() - start_time_inner}\")\n",
    " \n",
    "\n",
    "\n",
    "    start_time_inner = time.time()\n",
    "    file_loc = pathlib.Path.cwd() / \"temp\"\n",
    "    filename = \"neuron_\" + str(key[\"segment_id\"])\n",
    "    path_and_filename = str(file_loc / filename)\n",
    "    \n",
    "    #run the mesh through Pymesh to make manifold and \n",
    "    meshfix = pymeshfix.MeshFix(vertices,triangles)\n",
    "    meshfix.repair(verbose=False,joincomp=False,remove_smallest_components=False)\n",
    "    #vertices_new = meshfix.v\n",
    "    #faces_new = meshfix.f\n",
    "    #write_Whole_Neuron_Off_file(str(segment_id) + pymesh_type,vertices_new,faces_new)\n",
    "    print(f\"Pymeshfix shrinkwrap took {time.time()-start_time_inner} seconds\")\n",
    "    \n",
    "    \n",
    "    start_time_inner = time.time()\n",
    "    #try the inline printing method:\n",
    "    with open(os.devnull, 'w') as devnull:\n",
    "        with contextlib.redirect_stdout(devnull):\n",
    "            meshfix.export(str(path_and_filename) + \".off\")\n",
    "    print(f\"Writing Off file = {time.time() - start_time_inner}\")\n",
    "    \n",
    "    \n",
    "    #save off the voxelized mesh as .off \n",
    "    #so it can be passed to meshlab server\n",
    "    \n",
    "    \"\"\"  SLOWER THAN THE EXPORT FUNCTION OF THE VOXEL_MESH BY 2 SECONDS\n",
    "    start_time_inner = time.time()\n",
    "    print(\"starting writing neuron to off file\")\n",
    "    paths = write_Whole_Neuron_Off_file(str(key['segment_id'])+\"_vox\",voxel_mesh.vertices,voxel_mesh.faces)\n",
    "    print(\"DONE writing neuron to off file\")\n",
    "    print(f\"Writing Off file time = {time.time() - start_time_inner}\")\n",
    "    \"\"\"\n",
    "    \n",
    "    \"\"\"\n",
    "    start_time_inner = time.time()\n",
    "    input_mesh = path_and_filename + \".off\"\n",
    "    output_mesh = path_and_filename+\"_mls.off\"\n",
    "    meshlab_script = str(file_loc) + \"/\" + \"remeshing_script_vox.mlx\"\n",
    "    #send to meshlabserver\n",
    "    print(\"starting meshlabserver Poisson surface reconstruction\")\n",
    "    subprocess_result = run_meshlab_script(meshlab_script,\n",
    "                      input_mesh,\n",
    "                      output_mesh)\n",
    "    print(\"subprocess_result= \"+ str(subprocess_result))\n",
    "    print(\"DONE meshlabserver Poisson surface reconstruction\")\n",
    "    print(f\"Meshlabserver time = {time.time() - start_time_inner}\")\n",
    "    \"\"\"\n",
    "    \n",
    "    #skeletonize the mesh\n",
    "    start_time_inner = time.time()\n",
    "    print(\"starting creating skeleton\")\n",
    "    calc_return_value = cm.calcification(path_and_filename)\n",
    "    print(\"calc_return_value = \" + str(calc_return_value))\n",
    "    print(\"DONE creating skeleton\")\n",
    "    print(f\"Skeleton time = {time.time() - start_time_inner}\")\n",
    "    \n",
    "    return calc_return_value\n",
    "\n",
    "    "
   ]
  },
  {
   "cell_type": "code",
   "execution_count": 6,
   "metadata": {},
   "outputs": [
    {
     "name": "stdout",
     "output_type": "stream",
     "text": [
      "Import time = 2.5767433643341064\n",
      "Pymeshfix shrinkwrap took 58.28129529953003 seconds\n"
     ]
    },
    {
     "ename": "AttributeError",
     "evalue": "'MeshFix' object has no attribute 'export'",
     "output_type": "error",
     "traceback": [
      "\u001b[0;31m---------------------------------------------------------------------------\u001b[0m",
      "\u001b[0;31mAttributeError\u001b[0m                            Traceback (most recent call last)",
      "\u001b[0;32m<ipython-input-6-54e63be9cea6>\u001b[0m in \u001b[0;36m<module>\u001b[0;34m\u001b[0m\n\u001b[1;32m      4\u001b[0m \u001b[0mstart_time\u001b[0m \u001b[0;34m=\u001b[0m \u001b[0mtime\u001b[0m\u001b[0;34m.\u001b[0m\u001b[0mtime\u001b[0m\u001b[0;34m(\u001b[0m\u001b[0;34m)\u001b[0m\u001b[0;34m\u001b[0m\u001b[0m\n\u001b[1;32m      5\u001b[0m \u001b[0;34m\u001b[0m\u001b[0m\n\u001b[0;32m----> 6\u001b[0;31m \u001b[0mskeletonize_Neuron_Meshlabserver\u001b[0m\u001b[0;34m(\u001b[0m\u001b[0mlabel_key\u001b[0m\u001b[0;34m)\u001b[0m\u001b[0;34m\u001b[0m\u001b[0m\n\u001b[0m\u001b[1;32m      7\u001b[0m \u001b[0;34m\u001b[0m\u001b[0m\n\u001b[1;32m      8\u001b[0m \u001b[0mprint\u001b[0m\u001b[0;34m(\u001b[0m\u001b[0;34mf\"Total time for Meshlabserver = {time.time() - start_time}\"\u001b[0m\u001b[0;34m)\u001b[0m\u001b[0;34m\u001b[0m\u001b[0m\n",
      "\u001b[0;32m<ipython-input-5-e79b7f345874>\u001b[0m in \u001b[0;36mskeletonize_Neuron_Meshlabserver\u001b[0;34m(key)\u001b[0m\n\u001b[1;32m     27\u001b[0m     \u001b[0;32mwith\u001b[0m \u001b[0mopen\u001b[0m\u001b[0;34m(\u001b[0m\u001b[0mos\u001b[0m\u001b[0;34m.\u001b[0m\u001b[0mdevnull\u001b[0m\u001b[0;34m,\u001b[0m \u001b[0;34m'w'\u001b[0m\u001b[0;34m)\u001b[0m \u001b[0;32mas\u001b[0m \u001b[0mdevnull\u001b[0m\u001b[0;34m:\u001b[0m\u001b[0;34m\u001b[0m\u001b[0m\n\u001b[1;32m     28\u001b[0m         \u001b[0;32mwith\u001b[0m \u001b[0mcontextlib\u001b[0m\u001b[0;34m.\u001b[0m\u001b[0mredirect_stdout\u001b[0m\u001b[0;34m(\u001b[0m\u001b[0mdevnull\u001b[0m\u001b[0;34m)\u001b[0m\u001b[0;34m:\u001b[0m\u001b[0;34m\u001b[0m\u001b[0m\n\u001b[0;32m---> 29\u001b[0;31m             \u001b[0mmeshfix\u001b[0m\u001b[0;34m.\u001b[0m\u001b[0mexport\u001b[0m\u001b[0;34m(\u001b[0m\u001b[0mstr\u001b[0m\u001b[0;34m(\u001b[0m\u001b[0mpath_and_filename\u001b[0m\u001b[0;34m)\u001b[0m \u001b[0;34m+\u001b[0m \u001b[0;34m\".off\"\u001b[0m\u001b[0;34m)\u001b[0m\u001b[0;34m\u001b[0m\u001b[0m\n\u001b[0m\u001b[1;32m     30\u001b[0m     \u001b[0mprint\u001b[0m\u001b[0;34m(\u001b[0m\u001b[0;34mf\"Writing Off file = {time.time() - start_time_inner}\"\u001b[0m\u001b[0;34m)\u001b[0m\u001b[0;34m\u001b[0m\u001b[0m\n\u001b[1;32m     31\u001b[0m \u001b[0;34m\u001b[0m\u001b[0m\n",
      "\u001b[0;31mAttributeError\u001b[0m: 'MeshFix' object has no attribute 'export'"
     ]
    }
   ],
   "source": [
    "\n",
    "segment_id = 648518346341366885\n",
    "label_key = dict(segment_id=segment_id)\n",
    "start_time = time.time()\n",
    "\n",
    "skeletonize_Neuron_Meshlabserver(label_key)\n",
    "\n",
    "print(f\"Total time for Meshlabserver = {time.time() - start_time}\")\n"
   ]
  },
  {
   "cell_type": "code",
   "execution_count": null,
   "metadata": {},
   "outputs": [],
   "source": []
  }
 ],
 "metadata": {
  "kernelspec": {
   "display_name": "Python 3",
   "language": "python",
   "name": "python3"
  },
  "language_info": {
   "codemirror_mode": {
    "name": "ipython",
    "version": 3
   },
   "file_extension": ".py",
   "mimetype": "text/x-python",
   "name": "python",
   "nbconvert_exporter": "python",
   "pygments_lexer": "ipython3",
   "version": "3.6.5"
  }
 },
 "nbformat": 4,
 "nbformat_minor": 2
}
