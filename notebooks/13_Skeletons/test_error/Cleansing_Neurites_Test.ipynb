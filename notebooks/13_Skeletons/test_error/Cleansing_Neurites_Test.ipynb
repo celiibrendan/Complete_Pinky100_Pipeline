{
 "cells": [
  {
   "cell_type": "markdown",
   "metadata": {},
   "source": [
    "# Investigating if split portions have to cleansed before skeletonized"
   ]
  },
  {
   "cell_type": "code",
   "execution_count": 59,
   "metadata": {},
   "outputs": [],
   "source": [
    "import datajoint as dj\n",
    "import numpy as np\n",
    "from meshparty import trimesh_io\n",
    "import time\n",
    "from collections import Counter\n",
    "from tqdm import tnrange, tqdm_notebook\n",
    "import pymeshfix\n",
    "\n",
    "import numpy as np\n",
    "import datajoint as dj\n",
    "import time\n",
    "import pymeshfix\n",
    "import os\n",
    "import datetime\n",
    "import calcification_Module as cm\n",
    "\n",
    "#for supressing the output\n",
    "import os, contextlib\n",
    "import pathlib\n",
    "import subprocess"
   ]
  },
  {
   "cell_type": "code",
   "execution_count": 36,
   "metadata": {},
   "outputs": [
    {
     "data": {
      "text/plain": [
       "0"
      ]
     },
     "execution_count": 36,
     "metadata": {},
     "output_type": "execute_result"
    }
   ],
   "source": [
    "len(\"\")"
   ]
  },
  {
   "cell_type": "code",
   "execution_count": 40,
   "metadata": {},
   "outputs": [],
   "source": [
    "#create the output file\n",
    "##write the OFF file for the neuron\n",
    "import pathlib\n",
    "def write_Whole_Neuron_Off_file(neuron_ID,\n",
    "                                vertices=[], \n",
    "                                triangles=[],\n",
    "                                folder=\"pymesh_NEURITES\"):\n",
    "    #primary_key = dict(segmentation=1, segment_id=segment_id, decimation_ratio=0.35)\n",
    "    #vertices, triangles = (mesh_Table_35 & primary_key).fetch1('vertices', 'triangles')\n",
    "    \n",
    "    num_vertices = (len(vertices))\n",
    "    num_faces = len(triangles)\n",
    "    \n",
    "    filename = \"neuron_\" + str(neuron_ID)\n",
    "    #get the current file location\n",
    "    if len(folder) > 0:\n",
    "        file_loc = pathlib.Path.cwd() / folder\n",
    "        path_and_filename = file_loc / filename\n",
    "    else:\n",
    "        path_and_filename = pathlib.Path.cwd() / filename\n",
    "        file_loc = pathlib.Path.cwd()\n",
    "    \n",
    "    #print(file_loc)\n",
    "    #print(path_and_filename)\n",
    "    \n",
    "    #open the file and start writing to it    \n",
    "    f = open(str(path_and_filename) + \".off\", \"w\")\n",
    "    f.write(\"OFF\\n\")\n",
    "    f.write(str(num_vertices) + \" \" + str(num_faces) + \" 0\\n\" )\n",
    "    \n",
    "    \n",
    "    #iterate through and write all of the vertices in the file\n",
    "    for verts in vertices:\n",
    "        f.write(str(verts[0]) + \" \" + str(verts[1]) + \" \" + str(verts[2])+\"\\n\")\n",
    "    \n",
    "    #print(\"Done writing verts\")\n",
    "        \n",
    "    for faces in triangles:\n",
    "        f.write(\"3 \" + str(faces[0]) + \" \" + str(faces[1]) + \" \" + str(faces[2])+\"\\n\")\n",
    "    \n",
    "    print(\"Done writing OFF file\")\n",
    "    #f.write(\"end\")\n",
    "    \n",
    "    return str(path_and_filename),str(filename),str(file_loc)"
   ]
  },
  {
   "cell_type": "code",
   "execution_count": 60,
   "metadata": {},
   "outputs": [],
   "source": [
    "def run_meshlab_script(mlx_script,input_mesh_file,output_mesh_file):\n",
    "    script_command = (\" -i \" + str(input_mesh_file) + \" -o \" + \n",
    "                                    str(output_mesh_file) + \" -s \" + str(mlx_script))\n",
    "    #return script_command\n",
    "    subprocess_result = subprocess.run('xvfb-run -a -s \"-screen 0 800x600x24\" meshlabserver $@ ' + \n",
    "                   script_command,shell=True)\n",
    "    \n",
    "    return subprocess_result"
   ]
  },
  {
   "cell_type": "code",
   "execution_count": 61,
   "metadata": {},
   "outputs": [],
   "source": [
    "def meshlab_fix_manifold(path_and_filename):\n",
    "    \n",
    "    input_mesh = path_and_filename + \".off\"\n",
    "    output_mesh = path_and_filename+\"_mls.off\"\n",
    "    \n",
    "    \n",
    "    meshlab_script = str(pathlib.Path.cwd()) + \"/\" + \"remeshing_remove_non_man_edges.mls\"\n",
    "    \n",
    "    print(\"starting meshlabserver fixing non-manifolds\")\n",
    "    subprocess_result_1 = run_meshlab_script(meshlab_script,\n",
    "                      input_mesh,\n",
    "                      output_mesh)\n",
    "    #print(\"Poisson subprocess_result= \"+ str(subprocess_result_1))\n",
    "    \n",
    "    if str(subprocess_result_1)[-13:] != \"returncode=0)\":\n",
    "        raise Exception('neuron' + str(key[\"segment_id\"]) + \n",
    "                         ' did not fix the manifold edges')\n",
    "    \n",
    "    return output_mesh"
   ]
  },
  {
   "cell_type": "code",
   "execution_count": 32,
   "metadata": {},
   "outputs": [],
   "source": [
    "neuron_id = 648518346349507130\n",
    "key = dict(segmentation=2,segment_id=neuron)\n",
    "\n",
    "ta3p100 = dj.create_virtual_module(\"ta3p100\",\"microns_ta3p100\")"
   ]
  },
  {
   "cell_type": "code",
   "execution_count": 4,
   "metadata": {},
   "outputs": [
    {
     "data": {
      "text/plain": [
       "21"
      ]
     },
     "execution_count": 4,
     "metadata": {},
     "output_type": "execute_result"
    }
   ],
   "source": [
    "mesh_neuron = (ta3p100.Mesh() & key).fetch1()\n",
    "\n",
    "#import the mesh into t trimesh_io object\n",
    "start_time = time.time()\n",
    "mesh = trimesh_io.Mesh(vertices=mesh_neuron[\"vertices\"], faces=mesh_neuron[\"triangles\"])\n",
    "\n",
    "#get the body count\n",
    "mesh.body_count"
   ]
  },
  {
   "cell_type": "code",
   "execution_count": 51,
   "metadata": {},
   "outputs": [
    {
     "name": "stdout",
     "output_type": "stream",
     "text": [
      "21\n",
      "Done writing OFF file\n"
     ]
    },
    {
     "data": {
      "text/plain": [
       "(20684, 3)"
      ]
     },
     "execution_count": 51,
     "metadata": {},
     "output_type": "execute_result"
    }
   ],
   "source": [
    "total_meshes = mesh.split(only_watertight=False)\n",
    "print(len(total_meshes))\n",
    "\n",
    "#export the cleansed mesh\n",
    "write_Whole_Neuron_Off_file(\"split_mesh\",total_meshes[0].vertices,total_meshes[0].faces,folder=\"\")\n",
    "total_meshes[0].faces.shape\n",
    "\n",
    "#get the original otuput\n",
    "write_Whole_Neuron_Off_file(str(neuron_id) + \"_orig\",mesh.vertices,mesh.faces,folder=\"\")"
   ]
  },
  {
   "cell_type": "code",
   "execution_count": 62,
   "metadata": {},
   "outputs": [
    {
     "name": "stdout",
     "output_type": "stream",
     "text": [
      "Step 2: Pymesh shrinkwrapping: 2.908954381942749\n",
      "Done writing OFF file\n",
      "Step 3: Writing shrinkwrap off file: 0.20247530937194824\n",
      "Step 2: Pymesh shrinkwrapping: 0.7408139705657959\n",
      "Done writing OFF file\n",
      "Step 3: Writing shrinkwrap off file: 0.11665463447570801\n"
     ]
    }
   ],
   "source": [
    "#do pymeshfix on both the original and the cleansed one\n",
    "#print(\"Step 2: Remove all error semgents\")\n",
    "\n",
    "\n",
    "\"\"\"##################  FOR ORIGINAL MESH ##################\"\"\"\n",
    "start_time = time.time()\n",
    "#ORIGINAL pass the vertices and faces to pymeshfix to become watertight\n",
    "meshfix_orig = pymeshfix.MeshFix(mesh.vertices,mesh.faces)\n",
    "meshfix_orig.repair(verbose=False,joincomp=True,remove_smallest_components=False)\n",
    "print(f\"Step 2: Pymesh shrinkwrapping: {time.time() - start_time}\")\n",
    "\n",
    "#print(\"Step 2: Writing Off File\")\n",
    "start_time = time.time()\n",
    "#write the new mesh to off file\n",
    "path_and_filename,filename,file_loc = write_Whole_Neuron_Off_file(str(neuron_id) + \"_orig\",\n",
    "                                                                  meshfix_orig.v,\n",
    "                                                                  meshfix_orig.f,\n",
    "                                                                 folder=\"\")\n",
    "print(f\"Step 3: Writing shrinkwrap off file: {time.time() - start_time}\")\n",
    "\n",
    "\n",
    "\n",
    "\"\"\"##################  FOR CLEANSED MESH ##################\"\"\"\n",
    "start_time = time.time()\n",
    "#ORIGINAL pass the vertices and faces to pymeshfix to become watertight\n",
    "meshfix_cleansed = pymeshfix.MeshFix(total_meshes[0].vertices,total_meshes[0].faces)\n",
    "meshfix_cleansed.repair(verbose=False,joincomp=True,remove_smallest_components=False)\n",
    "print(f\"Step 2: Pymesh shrinkwrapping: {time.time() - start_time}\")\n",
    "\n",
    "#print(\"Step 2: Writing Off File\")\n",
    "start_time = time.time()\n",
    "#write the new mesh to off file\n",
    "path_and_filename_cleansed,filename_cleansed,file_loc_cleansed = write_Whole_Neuron_Off_file(\n",
    "                                                                str(neuron_id) + \"_cleansed\",\n",
    "                                                                  meshfix_cleansed.v,\n",
    "                                                                  meshfix_cleansed.f,\n",
    "                                                                 folder=\"\")\n",
    "print(f\"Step 3: Writing shrinkwrap off file: {time.time() - start_time}\")\n",
    "\n"
   ]
  },
  {
   "cell_type": "code",
   "execution_count": 64,
   "metadata": {},
   "outputs": [
    {
     "name": "stdout",
     "output_type": "stream",
     "text": [
      "/notebooks/13_Skeletons/test_error/neuron_648518346349507130_orig\n",
      "/notebooks/13_Skeletons/test_error/neuron_648518346349507130_cleansed\n",
      "starting meshlabserver fixing non-manifolds\n",
      "Step 4: Meshlab fixing non-manifolds: 0.7781343460083008\n",
      "starting meshlabserver fixing non-manifolds\n",
      "Step 4: Meshlab fixing non-manifolds: 0.8029096126556396\n"
     ]
    }
   ],
   "source": [
    "#fix any non-manifold issues:\n",
    "print(path_and_filename)\n",
    "print(path_and_filename_cleansed)\n",
    "\n",
    "#Run the meshlabserver scripts\n",
    "start_time = time.time()\n",
    "output_mesh = meshlab_fix_manifold(path_and_filename)\n",
    "print(f\"Step 4: Meshlab fixing non-manifolds: {time.time() - start_time}\")\n",
    "\n",
    "#Run the meshlabserver scripts\n",
    "start_time = time.time()\n",
    "output_mesh = meshlab_fix_manifold(path_and_filename_cleansed)\n",
    "print(f\"Step 4: Meshlab fixing non-manifolds: {time.time() - start_time}\")"
   ]
  },
  {
   "cell_type": "code",
   "execution_count": 70,
   "metadata": {},
   "outputs": [
    {
     "name": "stdout",
     "output_type": "stream",
     "text": [
      "n_edges = 21\n",
      "percentage = 0.40413943355119825\n",
      "Numpy took 0.0014736652374267578 sec \n",
      "percentage = 0.40413943355119825\n",
      "Counter took 0.01138925552368164 sec \n"
     ]
    }
   ],
   "source": [
    "#how to get the splitting data\n",
    "mesh_neuron = (ta3p100.Mesh() & key).fetch1()\n",
    "\n",
    "#import the mesh into t trimesh_io object\n",
    "start_time = time.time()\n",
    "mesh = trimesh_io.Mesh(vertices=mesh_neuron[\"vertices\"], faces=mesh_neuron[\"triangles\"])\n",
    "\n",
    "count, labels = trimesh_io.trimesh.graph.csgraph.connected_components(\n",
    "    mesh.edges_sparse,\n",
    "    directed=False,\n",
    "    return_labels=True)\n",
    "\n",
    "print(\"n_edges = \" + str(count))\n",
    "\n",
    "#using numpy which is faster!!!\n",
    "start_time = time.time()\n",
    "values = np.array(labels)\n",
    "searchval = 0\n",
    "ii = np.where(values == searchval)[0]\n",
    "print(\"percentage = \" + str(len(ii)/len(labels)))\n",
    "print(f\"Numpy took {time.time()-start_time} sec \")\n",
    "\n",
    "#try using the Counter method\n",
    "start_time = time.time()\n",
    "myCounter = Counter(labels)\n",
    "dict(myCounter)[0]\n",
    "print(\"percentage = \" + str(dict(myCounter)[0]/len(labels)))\n",
    "print(f\"Counter took {time.time()-start_time} sec \")\n",
    "\n",
    "#get the number of labels equal to 0, the largest group"
   ]
  },
  {
   "cell_type": "code",
   "execution_count": null,
   "metadata": {},
   "outputs": [],
   "source": [
    "myCounter = Counter(labels)"
   ]
  },
  {
   "cell_type": "code",
   "execution_count": 23,
   "metadata": {},
   "outputs": [
    {
     "name": "stdout",
     "output_type": "stream",
     "text": [
      "Basic array took 0.0842580795288086 sec \n",
      "Numpy took 0.0008189678192138672 sec \n",
      "<class 'list'>\n"
     ]
    }
   ],
   "source": [
    "\"\"\"Did not end up working where used the labels\"\"\"\n",
    "##trying to use submesh function of trimesh\n",
    "# '''\n",
    "#     def submesh(self, faces_sequence, **kwargs):\n",
    "#         \"\"\"\n",
    "#         Return a subset of the mesh.\n",
    "#         Parameters\n",
    "#         ----------\n",
    "#         faces_sequence : sequence (m,) int\n",
    "#           Face indices of mesh\n",
    "#         only_watertight : bool\n",
    "#           Only return submeshes which are watertight\n",
    "#         append : bool\n",
    "#           Return a single mesh which has the faces appended.\n",
    "#           if this flag is set, only_watertight is ignored\n",
    "#         Returns\n",
    "#         ---------\n",
    "#         if append : trimesh.Trimesh object\n",
    "#         else :      list of trimesh.Trimesh objects\n",
    "#         \"\"\"\n",
    "#         return util.submesh(mesh=self,\n",
    "#                             faces_sequence=faces_sequence,\n",
    "#                             **kwargs)\n",
    "# '''\n",
    "# count, labels = trimesh_io.trimesh.graph.csgraph.connected_components(\n",
    "#     mesh.edges_sparse,\n",
    "#     directed=False,\n",
    "#     return_labels=True)\n",
    "# mesh._cache['vertices_component_label'] = labels\n",
    "# #count\n",
    "# #labels\n",
    "\n",
    "# myCounter = Counter(labels)\n",
    "# myCounter \n",
    "\n",
    "\n",
    "# import time\n",
    "# start_time = time.time()\n",
    "# faces_sequence = [i for i,x in enumerate(labels) if x == 0]\n",
    "# print(f\"Basic array took {time.time()-start_time} sec \")\n",
    "# #print(faces_sequence)\n",
    "\n",
    "# start_time = time.time()\n",
    "# values = np.array(labels)\n",
    "# searchval = 0\n",
    "# ii = np.where(values == searchval)[0]\n",
    "# print(f\"Numpy took {time.time()-start_time} sec \")\n",
    "# print(type(ii.tolist()))\n",
    "# #conclusion: Numpy was a lot faster than manual method\n",
    "\n",
    "# #try to get the submesh\n",
    "# filtered_mesh = mesh.submesh(faces_sequence = [ii.tolist()],append=True)\n",
    "\n",
    "# dir(filtered_mesh)\n",
    "# print(mesh.faces.shape)\n",
    "# print(mesh.vertices.shape)\n",
    "\n",
    "# print(filtered_mesh.faces.shape)\n",
    "# print(filtered_mesh.vertices.shape)\n",
    "\n",
    "\n",
    "# #output the cleansed mesh\n",
    "# write_Whole_Neuron_Off_file(str(neuron_id) + \"_cleansed\",filtered_mesh.vertices,filtered_mesh.faces,folder=\"\")\n"
   ]
  }
 ],
 "metadata": {
  "kernelspec": {
   "display_name": "Python 3",
   "language": "python",
   "name": "python3"
  },
  "language_info": {
   "codemirror_mode": {
    "name": "ipython",
    "version": 3
   },
   "file_extension": ".py",
   "mimetype": "text/x-python",
   "name": "python",
   "nbconvert_exporter": "python",
   "pygments_lexer": "ipython3",
   "version": "3.6.5"
  }
 },
 "nbformat": 4,
 "nbformat_minor": 2
}
