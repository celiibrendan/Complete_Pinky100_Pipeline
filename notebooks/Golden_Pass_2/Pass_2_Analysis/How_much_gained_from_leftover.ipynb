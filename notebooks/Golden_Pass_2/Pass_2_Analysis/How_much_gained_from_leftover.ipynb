{
 "cells": [
  {
   "cell_type": "code",
   "execution_count": null,
   "metadata": {},
   "outputs": [
    {
     "name": "stdout",
     "output_type": "stream",
     "text": [
      "Connecting celiib@10.28.0.34:3306\n"
     ]
    }
   ],
   "source": [
    "import datajoint as dj\n",
    "import numpy as np\n",
    "import time\n",
    "\n",
    "pinky = dj.create_virtual_module(\"pinky\",\"microns_pinky\")"
   ]
  },
  {
   "cell_type": "code",
   "execution_count": null,
   "metadata": {},
   "outputs": [],
   "source": [
    "pinky.LeftoverCompartmentFinal.LeftoverComponentFinal()"
   ]
  },
  {
   "cell_type": "code",
   "execution_count": null,
   "metadata": {},
   "outputs": [],
   "source": [
    "leftover_components = pinky.LeftoverCompartmentFinal.LeftoverComponentFinal() & \"compartment_type != 'Error'\"\n",
    "leftover_components"
   ]
  },
  {
   "cell_type": "code",
   "execution_count": null,
   "metadata": {},
   "outputs": [],
   "source": [
    "regular_components = pinky.CompartmentFinal.ComponentFinal() & \"compartment_type != 'Error'\"\n",
    "regular_components"
   ]
  },
  {
   "cell_type": "code",
   "execution_count": null,
   "metadata": {},
   "outputs": [],
   "source": [
    "leftover_aggr = dj.U('segment_id').aggr(leftover_components, n=\"sum(n_triangle_indices)\")\n",
    "leftover_aggr\n",
    "\n",
    "regular_aggr = dj.U('segment_id').aggr(regular_components, n=\"sum(n_triangle_indices)\")\n",
    "regular_aggr"
   ]
  },
  {
   "cell_type": "code",
   "execution_count": null,
   "metadata": {},
   "outputs": [],
   "source": [
    "leftover_data = leftover_aggr.fetch()\n",
    "regular_data = regular_aggr.fetch()\n",
    "\n",
    "\n",
    "    \n",
    "# total_dict = dict()\n",
    "\n",
    "\n",
    "# regular_dict = dict()"
   ]
  },
  {
   "cell_type": "code",
   "execution_count": null,
   "metadata": {},
   "outputs": [],
   "source": [
    "leftover_dict = dict()\n",
    "for seg,n in leftover_data:\n",
    "    leftover_dict[seg] = int(n)\n",
    "leftover_dict\n",
    "\n",
    "regular_dict = dict()\n",
    "for seg,n in regular_data:\n",
    "    regular_dict[seg] = int(n)\n",
    "regular_dict"
   ]
  },
  {
   "cell_type": "code",
   "execution_count": null,
   "metadata": {},
   "outputs": [],
   "source": [
    "# find the difference\n",
    "differences_data = dict()\n",
    "\n",
    "total_leftover = 0\n",
    "total_regular = 0\n",
    "for reg_key,reg_value in regular_dict.items():\n",
    "    #check if in the leftover keys\n",
    "    if reg_key in leftover_dict.keys():\n",
    "        seg\n",
    "        differences_data[reg_key] = leftover_dict[reg_key]/reg_value\n",
    "        total_leftover += leftover_dict[reg_key]\n",
    "        total_regular += reg_value"
   ]
  },
  {
   "cell_type": "code",
   "execution_count": null,
   "metadata": {},
   "outputs": [],
   "source": [
    "total_leftover_vertices/total_regular_vertices"
   ]
  },
  {
   "cell_type": "code",
   "execution_count": null,
   "metadata": {},
   "outputs": [],
   "source": [
    "differences_data"
   ]
  },
  {
   "cell_type": "code",
   "execution_count": null,
   "metadata": {},
   "outputs": [],
   "source": [
    "import seaborn as sns\n",
    "sns.set()\n",
    "\n",
    "\n",
    "\n",
    "ax = sns.distplot(list(differences_data.values()))\n",
    "ax.set_title('leftover increase vs. n_segments')\n",
    "ax.set_xlabel('percentage increase in vertices')\n",
    "ax.set_ylabel('number of segments')"
   ]
  },
  {
   "cell_type": "code",
   "execution_count": null,
   "metadata": {},
   "outputs": [],
   "source": [
    "np.mean(list(differences_data.values()))"
   ]
  },
  {
   "cell_type": "code",
   "execution_count": null,
   "metadata": {},
   "outputs": [],
   "source": [
    "pinky.Decimation35 & \"segment_id=648518346341353574\""
   ]
  },
  {
   "cell_type": "code",
   "execution_count": null,
   "metadata": {},
   "outputs": [],
   "source": [
    "pinky.CompartmentFinal.ComponentFinal() & \"segment_id=648518346341353574\""
   ]
  },
  {
   "cell_type": "code",
   "execution_count": null,
   "metadata": {},
   "outputs": [],
   "source": [
    "pinky.ComponentLabelFinal() & \"segment_id=648518346341353574\""
   ]
  },
  {
   "cell_type": "code",
   "execution_count": null,
   "metadata": {},
   "outputs": [],
   "source": []
  }
 ],
 "metadata": {
  "kernelspec": {
   "display_name": "Python 3",
   "language": "python",
   "name": "python3"
  },
  "language_info": {
   "codemirror_mode": {
    "name": "ipython",
    "version": 3
   },
   "file_extension": ".py",
   "mimetype": "text/x-python",
   "name": "python",
   "nbconvert_exporter": "python",
   "pygments_lexer": "ipython3",
   "version": "3.6.5"
  }
 },
 "nbformat": 4,
 "nbformat_minor": 2
}
