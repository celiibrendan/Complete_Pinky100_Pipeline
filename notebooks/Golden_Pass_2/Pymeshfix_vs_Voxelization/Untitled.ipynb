{
 "cells": [
  {
   "cell_type": "code",
   "execution_count": 1,
   "metadata": {},
   "outputs": [],
   "source": [
    "import datajoint as dj\n",
    "import numpy as np\n",
    "import pymeshfix"
   ]
  },
  {
   "cell_type": "code",
   "execution_count": 2,
   "metadata": {},
   "outputs": [
    {
     "name": "stdout",
     "output_type": "stream",
     "text": [
      "Connecting celiib@10.28.0.34:3306\n"
     ]
    }
   ],
   "source": [
    "ta3p100 = dj.create_virtual_module(\"ta3p100\",\"microns_ta3p100\")"
   ]
  },
  {
   "cell_type": "code",
   "execution_count": 3,
   "metadata": {},
   "outputs": [],
   "source": [
    "#create the output file\n",
    "##write the OFF file for the neuron\n",
    "import pathlib\n",
    "def write_Whole_Neuron_Off_file(neuron_ID,vertices=[], triangles=[]):\n",
    "    #primary_key = dict(segmentation=1, segment_id=segment_id, decimation_ratio=0.35)\n",
    "    #vertices, triangles = (mesh_Table_35 & primary_key).fetch1('vertices', 'triangles')\n",
    "    \n",
    "    num_vertices = (len(vertices))\n",
    "    num_faces = len(triangles)\n",
    "    \n",
    "    #get the current file location\n",
    "    file_loc = pathlib.Path.cwd() / \"temp\"\n",
    "    filename = \"neuron_\" + str(neuron_ID)\n",
    "    path_and_filename = file_loc / filename\n",
    "    \n",
    "    #print(file_loc)\n",
    "    #print(path_and_filename)\n",
    "    \n",
    "    #open the file and start writing to it    \n",
    "    f = open(str(path_and_filename) + \".off\", \"w\")\n",
    "    f.write(\"OFF\\n\")\n",
    "    f.write(str(num_vertices) + \" \" + str(num_faces) + \" 0\\n\" )\n",
    "    \n",
    "    \n",
    "    #iterate through and write all of the vertices in the file\n",
    "    for verts in vertices:\n",
    "        f.write(str(verts[0]) + \" \" + str(verts[1]) + \" \" + str(verts[2])+\"\\n\")\n",
    "    \n",
    "    #print(\"Done writing verts\")\n",
    "        \n",
    "    for faces in triangles:\n",
    "        f.write(\"3 \" + str(faces[0]) + \" \" + str(faces[1]) + \" \" + str(faces[2])+\"\\n\")\n",
    "    \n",
    "    print(\"Done writing OFF file\")\n",
    "    #f.write(\"end\")\n",
    "    \n",
    "    return str(path_and_filename),str(filename),str(file_loc)"
   ]
  },
  {
   "cell_type": "code",
   "execution_count": 4,
   "metadata": {},
   "outputs": [
    {
     "data": {
      "text/html": [
       "\n",
       "        \n",
       "        <style type=\"text/css\">\n",
       "            .Relation{\n",
       "                border-collapse:collapse;\n",
       "            }\n",
       "            .Relation th{\n",
       "                background: #A0A0A0; color: #ffffff; padding:4px; border:#f0e0e0 1px solid;\n",
       "                font-weight: normal; font-family: monospace; font-size: 100%;\n",
       "            }\n",
       "            .Relation td{\n",
       "                padding:4px; border:#f0e0e0 1px solid; font-size:100%;\n",
       "            }\n",
       "            .Relation tr:nth-child(odd){\n",
       "                background: #ffffff;\n",
       "            }\n",
       "            .Relation tr:nth-child(even){\n",
       "                background: #f3f1ff;\n",
       "            }\n",
       "            /* Tooltip container */\n",
       "            .djtooltip {\n",
       "            }\n",
       "            /* Tooltip text */\n",
       "            .djtooltip .djtooltiptext {\n",
       "                visibility: hidden;\n",
       "                width: 120px;\n",
       "                background-color: black;\n",
       "                color: #fff;\n",
       "                text-align: center;\n",
       "                padding: 5px 0;\n",
       "                border-radius: 6px;\n",
       "                /* Position the tooltip text - see examples below! */\n",
       "                position: absolute;\n",
       "                z-index: 1;\n",
       "            }\n",
       "            #primary {\n",
       "                font-weight: bold;\n",
       "                color: black;\n",
       "            }\n",
       "\n",
       "            #nonprimary {\n",
       "                font-weight: normal;\n",
       "                color: white;\n",
       "            }\n",
       "\n",
       "            /* Show the tooltip text when you mouse over the tooltip container */\n",
       "            .djtooltip:hover .djtooltiptext {\n",
       "                visibility: visible;\n",
       "            }\n",
       "        </style>\n",
       "        \n",
       "        <b>decimated meshes using blender</b>\n",
       "            <div style=\"max-height:1000px;max-width:1500px;overflow:auto;\">\n",
       "            <table border=\"1\" class=\"Relation\">\n",
       "                <thead> <tr style=\"text-align: right;\"> <th> <div class=\"djtooltip\">\n",
       "                                <p id=\"primary\">segmentation</p>\n",
       "                                <span class=\"djtooltiptext\">segmentation id</span>\n",
       "                            </div></th><th><div class=\"djtooltip\">\n",
       "                                <p id=\"primary\">segment_id</p>\n",
       "                                <span class=\"djtooltiptext\">segment id unique within each Segmentation</span>\n",
       "                            </div></th><th><div class=\"djtooltip\">\n",
       "                                <p id=\"primary\">decimation_ratio</p>\n",
       "                                <span class=\"djtooltiptext\"></span>\n",
       "                            </div></th><th><div class=\"djtooltip\">\n",
       "                                <p id=\"nonprimary\">n_vertices</p>\n",
       "                                <span class=\"djtooltiptext\"></span>\n",
       "                            </div></th><th><div class=\"djtooltip\">\n",
       "                                <p id=\"nonprimary\">n_triangles</p>\n",
       "                                <span class=\"djtooltiptext\"></span>\n",
       "                            </div></th><th><div class=\"djtooltip\">\n",
       "                                <p id=\"nonprimary\">vertices</p>\n",
       "                                <span class=\"djtooltiptext\"></span>\n",
       "                            </div></th><th><div class=\"djtooltip\">\n",
       "                                <p id=\"nonprimary\">triangles</p>\n",
       "                                <span class=\"djtooltiptext\"></span>\n",
       "                            </div> </th> </tr> </thead>\n",
       "                <tbody> <tr> <td>2</td>\n",
       "<td>648518346341366885</td>\n",
       "<td>0.35</td>\n",
       "<td>338990</td>\n",
       "<td>673206</td>\n",
       "<td>=BLOB=</td>\n",
       "<td>=BLOB=</td></tr><tr><td>2</td>\n",
       "<td>648518346341371119</td>\n",
       "<td>0.35</td>\n",
       "<td>234848</td>\n",
       "<td>460727</td>\n",
       "<td>=BLOB=</td>\n",
       "<td>=BLOB=</td></tr><tr><td>2</td>\n",
       "<td>648518346341373204</td>\n",
       "<td>0.35</td>\n",
       "<td>2267151</td>\n",
       "<td>4510325</td>\n",
       "<td>=BLOB=</td>\n",
       "<td>=BLOB=</td></tr><tr><td>2</td>\n",
       "<td>648518346341380687</td>\n",
       "<td>0.35</td>\n",
       "<td>533632</td>\n",
       "<td>1063782</td>\n",
       "<td>=BLOB=</td>\n",
       "<td>=BLOB=</td></tr><tr><td>2</td>\n",
       "<td>648518346341382424</td>\n",
       "<td>0.35</td>\n",
       "<td>176358</td>\n",
       "<td>351867</td>\n",
       "<td>=BLOB=</td>\n",
       "<td>=BLOB=</td></tr><tr><td>2</td>\n",
       "<td>648518346341388647</td>\n",
       "<td>0.35</td>\n",
       "<td>2792025</td>\n",
       "<td>5523545</td>\n",
       "<td>=BLOB=</td>\n",
       "<td>=BLOB=</td></tr><tr><td>2</td>\n",
       "<td>648518346341388820</td>\n",
       "<td>0.35</td>\n",
       "<td>185381</td>\n",
       "<td>364564</td>\n",
       "<td>=BLOB=</td>\n",
       "<td>=BLOB=</td> </tr> </tbody>\n",
       "            </table>\n",
       "            <p>...</p>\n",
       "            <p>396 tuples</p></div>\n",
       "            "
      ],
      "text/plain": [
       "*segmentation  *segment_id    *decimation_ra n_vertices     n_triangles    vertices   triangles \n",
       "+------------+ +------------+ +------------+ +------------+ +------------+ +--------+ +--------+\n",
       "2              64851834634136 0.35           338990         673206         =BLOB=     =BLOB=    \n",
       "2              64851834634137 0.35           234848         460727         =BLOB=     =BLOB=    \n",
       "2              64851834634137 0.35           2267151        4510325        =BLOB=     =BLOB=    \n",
       "2              64851834634138 0.35           533632         1063782        =BLOB=     =BLOB=    \n",
       "2              64851834634138 0.35           176358         351867         =BLOB=     =BLOB=    \n",
       "2              64851834634138 0.35           2792025        5523545        =BLOB=     =BLOB=    \n",
       "2              64851834634138 0.35           185381         364564         =BLOB=     =BLOB=    \n",
       "   ...\n",
       " (396 tuples)"
      ]
     },
     "execution_count": 4,
     "metadata": {},
     "output_type": "execute_result"
    }
   ],
   "source": [
    "ta3p100.Decimation35() & \"segmentation=2\""
   ]
  },
  {
   "cell_type": "code",
   "execution_count": 5,
   "metadata": {},
   "outputs": [],
   "source": [
    "segment_id = 648518346349504955"
   ]
  },
  {
   "cell_type": "code",
   "execution_count": 6,
   "metadata": {},
   "outputs": [
    {
     "data": {
      "text/plain": [
       "array([array([[180964.4375   , 244257.578125 ,  50500.890625 ],\n",
       "       [180957.765625 , 244271.671875 ,  50415.3359375],\n",
       "       [181140.953125 , 244111.4375   ,  50475.5234375],\n",
       "       ...,\n",
       "       [464124.4375   , 256514.703125 ,  69246.0703125],\n",
       "       [464071.34375  , 256388.6875   ,  69154.0078125],\n",
       "       [464128.34375  , 256495.421875 ,  69117.625    ]])], dtype=object)"
      ]
     },
     "execution_count": 6,
     "metadata": {},
     "output_type": "execute_result"
    }
   ],
   "source": [
    "new_dict=dict(segmentation=2,segment_id=segment_id)\n",
    "vertices_ar,triangles_ar = (ta3p100.Decimation35 & new_dict).fetch(\"vertices\",\"triangles\")\n",
    "vertices_ar"
   ]
  },
  {
   "cell_type": "code",
   "execution_count": 7,
   "metadata": {},
   "outputs": [
    {
     "name": "stdout",
     "output_type": "stream",
     "text": [
      "[[562316 562273 562187]\n",
      " [562316 562187 562246]\n",
      " [562288 562316 562246]\n",
      " ...\n",
      " [559092 558964 558947]\n",
      " [558914 558807 558843]\n",
      " [558413 558397 558387]]\n"
     ]
    }
   ],
   "source": [
    "vertices = vertices_ar[0]\n",
    "triangles = triangles_ar[0]\n",
    "print(triangles)"
   ]
  },
  {
   "cell_type": "code",
   "execution_count": null,
   "metadata": {},
   "outputs": [],
   "source": [
    "#write the whole mesh original as off file for visualization purposes\n",
    "write_Whole_Neuron_Off_file(str(segment_id)+\"_orig\",vertices,triangles)"
   ]
  },
  {
   "cell_type": "code",
   "execution_count": null,
   "metadata": {},
   "outputs": [],
   "source": [
    "# #PYMESH METHOD FOR GENERATING THE WATER-TIGHT/NON-MANIFOLD MESH\n",
    "# import time\n",
    "# start_time = time.time()\n",
    "# meshfix = pymeshfix.MeshFix(vertices,triangles)\n",
    "# meshfix.repair()\n",
    "# vertices_new = meshfix.v\n",
    "# faces_new = meshfix.f\n",
    "# write_Whole_Neuron_Off_file(str(segment_id) + \"_pymeshfix\",vertices_new,faces_new)\n",
    "# print(f\"Pymeshfix shrinkwrap took {time.time()-start_time} seconds\")"
   ]
  },
  {
   "cell_type": "code",
   "execution_count": null,
   "metadata": {},
   "outputs": [],
   "source": [
    "# #PYMESH METHOD FOR GENERATING THE WATER-TIGHT/NON-MANIFOLD MESH\n",
    "# pymesh_type = \"_pymeshfix_jT_rF\"\n",
    "# joincomp_setting = True\n",
    "# remove_smallest_components_setting = False\n",
    "\n",
    "\n",
    "# import time\n",
    "# start_time = time.time()\n",
    "# meshfix = pymeshfix.MeshFix(vertices,triangles)\n",
    "# meshfix.repair(verbose=False\n",
    "#                ,joincomp=joincomp_setting\n",
    "#                ,remove_smallest_components=remove_smallest_components_setting)\n",
    "# vertices_new = meshfix.v\n",
    "# faces_new = meshfix.f\n",
    "# write_Whole_Neuron_Off_file(str(segment_id) + pymesh_type,vertices_new,faces_new)\n",
    "# print(f\"Pymeshfix {pymesh_type} shrinkwrap took {time.time()-start_time} seconds\")\n"
   ]
  },
  {
   "cell_type": "code",
   "execution_count": null,
   "metadata": {},
   "outputs": [],
   "source": [
    "help(pymeshfix.MeshFix.repair)"
   ]
  },
  {
   "cell_type": "code",
   "execution_count": null,
   "metadata": {},
   "outputs": [],
   "source": [
    "# #creates the skeleton for mesh from pymeshfix\n",
    "# import time\n",
    "# start_time = time.time()\n",
    "# import calcification_Module as cm\n",
    "# cm.calcification(\"temp/neuron_\"+str(segment_id)+pymesh_type)\n",
    "# print(f\"Pymeshfix {pymesh_type} skeletonization took {time.time()-start_time} seconds\")\n",
    "\n"
   ]
  },
  {
   "cell_type": "code",
   "execution_count": null,
   "metadata": {},
   "outputs": [],
   "source": [
    "#PYMESH METHOD FOR GENERATING THE WATER-TIGHT/NON-MANIFOLD MESH\n",
    "pymesh_type = \"_pymeshfix_jT_rT\"\n",
    "joincomp_setting = True\n",
    "remove_smallest_components_setting = True\n",
    "\n",
    "\n",
    "import time\n",
    "start_time = time.time()\n",
    "meshfix = pymeshfix.MeshFix(vertices,triangles)\n",
    "meshfix.repair(verbose=False\n",
    "               ,joincomp=joincomp_setting\n",
    "               ,remove_smallest_components=remove_smallest_components_setting)\n",
    "vertices_new = meshfix.v\n",
    "faces_new = meshfix.f\n",
    "write_Whole_Neuron_Off_file(str(segment_id) + pymesh_type,vertices_new,faces_new)\n",
    "print(f\"Pymeshfix {pymesh_type} shrinkwrap took {time.time()-start_time} seconds\")\n"
   ]
  },
  {
   "cell_type": "code",
   "execution_count": null,
   "metadata": {},
   "outputs": [],
   "source": [
    "#creates the skeleton for mesh from pymeshfix\n",
    "import time\n",
    "start_time = time.time()\n",
    "import calcification_Module as cm\n",
    "cm.calcification(\"temp/neuron_\"+str(segment_id)+pymesh_type)\n",
    "print(f\"Pymeshfix {pymesh_type} skeletonization took {time.time()-start_time} seconds\")\n",
    "\n"
   ]
  },
  {
   "cell_type": "code",
   "execution_count": null,
   "metadata": {},
   "outputs": [],
   "source": [
    "#PYMESH METHOD FOR GENERATING THE WATER-TIGHT/NON-MANIFOLD MESH\n",
    "pymesh_type = \"_pymeshfix_jF_rF\"\n",
    "joincomp_setting = False\n",
    "remove_smallest_components_setting = False\n",
    "\n",
    "\n",
    "import time\n",
    "start_time = time.time()\n",
    "meshfix = pymeshfix.MeshFix(vertices,triangles)\n",
    "meshfix.repair(verbose=False\n",
    "               ,joincomp=joincomp_setting\n",
    "               ,remove_smallest_components=remove_smallest_components_setting)\n",
    "vertices_new = meshfix.v\n",
    "faces_new = meshfix.f\n",
    "write_Whole_Neuron_Off_file(str(segment_id) + pymesh_type,vertices_new,faces_new)\n",
    "print(f\"Pymeshfix {pymesh_type} shrinkwrap took {time.time()-start_time} seconds\")\n"
   ]
  },
  {
   "cell_type": "code",
   "execution_count": null,
   "metadata": {},
   "outputs": [],
   "source": [
    "#creates the skeleton for mesh from pymeshfix\n",
    "import time\n",
    "start_time = time.time()\n",
    "import calcification_Module as cm\n",
    "cm.calcification(\"temp/neuron_\"+str(segment_id)+pymesh_type)\n",
    "print(f\"Pymeshfix {pymesh_type} skeletonization took {time.time()-start_time} seconds\")\n",
    "\n"
   ]
  },
  {
   "cell_type": "code",
   "execution_count": null,
   "metadata": {},
   "outputs": [],
   "source": [
    "#PYMESH METHOD FOR GENERATING THE WATER-TIGHT/NON-MANIFOLD MESH\n",
    "pymesh_type = \"_pymeshfix_jF_rT\"\n",
    "joincomp_setting = False\n",
    "remove_smallest_components_setting = True\n",
    "\n",
    "\n",
    "import time\n",
    "start_time = time.time()\n",
    "meshfix = pymeshfix.MeshFix(vertices,triangles)\n",
    "meshfix.repair(verbose=False\n",
    "               ,joincomp=joincomp_setting\n",
    "               ,remove_smallest_components=remove_smallest_components_setting)\n",
    "vertices_new = meshfix.v\n",
    "faces_new = meshfix.f\n",
    "write_Whole_Neuron_Off_file(str(segment_id) + pymesh_type,vertices_new,faces_new)\n",
    "print(f\"Pymeshfix {pymesh_type} shrinkwrap took {time.time()-start_time} seconds\")\n",
    "\n"
   ]
  },
  {
   "cell_type": "code",
   "execution_count": null,
   "metadata": {},
   "outputs": [],
   "source": [
    "#creates the skeleton for mesh from pymeshfix\n",
    "import time\n",
    "start_time = time.time()\n",
    "import calcification_Module as cm\n",
    "cm.calcification(\"temp/neuron_\"+str(segment_id)+pymesh_type)\n",
    "print(f\"Pymeshfix {pymesh_type} skeletonization took {time.time()-start_time} seconds\")"
   ]
  }
 ],
 "metadata": {
  "kernelspec": {
   "display_name": "Python 3",
   "language": "python",
   "name": "python3"
  },
  "language_info": {
   "codemirror_mode": {
    "name": "ipython",
    "version": 3
   },
   "file_extension": ".py",
   "mimetype": "text/x-python",
   "name": "python",
   "nbconvert_exporter": "python",
   "pygments_lexer": "ipython3",
   "version": "3.6.5"
  }
 },
 "nbformat": 4,
 "nbformat_minor": 2
}
