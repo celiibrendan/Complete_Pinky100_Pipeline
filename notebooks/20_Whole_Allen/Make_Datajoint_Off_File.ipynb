{
 "cells": [
  {
   "cell_type": "code",
   "execution_count": 6,
   "metadata": {},
   "outputs": [],
   "source": [
    "import datajoint as dj\n",
    "import numpy as np\n",
    "import time\n",
    "from tqdm import tqdm\n",
    "import trimesh"
   ]
  },
  {
   "cell_type": "code",
   "execution_count": 7,
   "metadata": {},
   "outputs": [],
   "source": [
    "#setting the address and the username\n",
    "dj.config['database.host'] = '10.28.0.34'\n",
    "dj.config['database.user'] = 'celiib'\n",
    "dj.config['database.password'] = 'newceliipass'\n",
    "dj.config['safemode']=True\n",
    "dj.config[\"display.limit\"] = 20\n",
    "\n",
    "ta3p100 = dj.create_virtual_module('ta3p100', 'microns_ta3p100')\n",
    "schema = dj.schema('microns_ta3p100')\n"
   ]
  },
  {
   "cell_type": "code",
   "execution_count": 8,
   "metadata": {},
   "outputs": [],
   "source": [
    "import pathlib\n",
    "def write_Whole_Neuron_Off_file(neuron_ID,vertices=[], triangles=[]):\n",
    "    #primary_key = dict(segmentation=1, segment_id=segment_id, decimation_ratio=0.35)\n",
    "    #vertices, triangles = (mesh_Table_35 & primary_key).fetch1('vertices', 'triangles')\n",
    "    \n",
    "    num_vertices = (len(vertices))\n",
    "    num_faces = len(triangles)\n",
    "    \n",
    "    #get the current file location\n",
    "    \n",
    "    file_loc = pathlib.Path.cwd() / \"neurons\"\n",
    "    filename = \"neuron_\" + str(neuron_ID)\n",
    "    path_and_filename = file_loc / filename\n",
    "    \n",
    "    #print(file_loc)\n",
    "    #print(path_and_filename)\n",
    "    \n",
    "    #open the file and start writing to it    \n",
    "    f = open(str(path_and_filename) + \".off\", \"w\")\n",
    "    f.write(\"OFF\\n\")\n",
    "    f.write(str(num_vertices) + \" \" + str(num_faces) + \" 0\\n\" )\n",
    "    \n",
    "    \n",
    "    #iterate through and write all of the vertices in the file\n",
    "    for verts in vertices:\n",
    "        f.write(str(verts[0]) + \" \" + str(verts[1]) + \" \" + str(verts[2])+\"\\n\")\n",
    "    \n",
    "    #print(\"Done writing verts\")\n",
    "        \n",
    "    for faces in triangles:\n",
    "        f.write(\"3 \" + str(faces[0]) + \" \" + str(faces[1]) + \" \" + str(faces[2])+\"\\n\")\n",
    "    \n",
    "    print(\"Done writing OFF file\")\n",
    "    #f.write(\"end\")\n",
    "    \n",
    "    return str(path_and_filename),str(filename),str(file_loc)"
   ]
  },
  {
   "cell_type": "code",
   "execution_count": 11,
   "metadata": {},
   "outputs": [],
   "source": [
    "def get_dj_mesh_off(segment_id):\n",
    "    key = dict(segment_id=segment_id)\n",
    "    #key = dict(segment_id=648518346349472574)\n",
    "    print(\"Loading mesh from datajoint- id: \" + str(key[\"segment_id\"]))\n",
    "    segment_id = key[\"segment_id\"]\n",
    "    decimation_ratio = key.pop(\"decimation_ratio\",0.35)\n",
    "    segmentation = key.pop(\"segmentation\",2)\n",
    "\n",
    "    primary_key = dict(segmentation=segmentation,decimation_ratio=decimation_ratio,segment_id=segment_id)\n",
    "    neuron_data = (ta3p100.CleansedMesh & primary_key).fetch1()\n",
    "\n",
    "    print(neuron_data)\n",
    "    vertices = neuron_data['vertices']#.astype(dtype=np.float)\n",
    "    faces = neuron_data['triangles']#.astype(dtype=np.int)\n",
    "    return write_Whole_Neuron_Off_file(segment_id,vertices,faces)\n"
   ]
  },
  {
   "cell_type": "code",
   "execution_count": 12,
   "metadata": {},
   "outputs": [
    {
     "name": "stdout",
     "output_type": "stream",
     "text": [
      "Loading mesh from datajoint- id: 648518346341393609\n",
      "OrderedDict([('segmentation', 2), ('segment_id', 648518346341393609), ('decimation_ratio', Decimal('0.35')), ('n_vertices', 466615), ('n_triangles', 931294), ('vertices', array([[203098.765625  , 201025.015625  ,  11656.66015625],\n",
      "       [203106.015625  , 201024.625     ,  11581.84375   ],\n",
      "       [203141.9375    , 200947.84375   ,  11581.54101562],\n",
      "       ...,\n",
      "       [462651.5625    , 246667.09375   ,  63784.89453125],\n",
      "       [462678.15625   , 246518.0625    ,  63816.5234375 ],\n",
      "       [462718.6875    , 246634.125     ,  63846.13671875]])), ('triangles', array([[197667, 197827, 197212],\n",
      "       [199865, 199228, 200170],\n",
      "       [198980, 199087, 198398],\n",
      "       ...,\n",
      "       [407010, 407536, 406918],\n",
      "       [408254, 408111, 408374],\n",
      "       [408111, 408269, 408374]], dtype=uint32))])\n",
      "Done writing OFF file\n"
     ]
    }
   ],
   "source": [
    "path_and_filename,filename,file_loc = get_dj_mesh_off(648518346341393609)"
   ]
  },
  {
   "cell_type": "code",
   "execution_count": 13,
   "metadata": {},
   "outputs": [
    {
     "name": "stdout",
     "output_type": "stream",
     "text": [
      "Loading mesh from datajoint- id: 648518346342797556\n",
      "OrderedDict([('segmentation', 2), ('segment_id', 648518346342797556), ('decimation_ratio', Decimal('0.35')), ('n_vertices', 318408), ('n_triangles', 635453), ('vertices', array([[335941.65625   , 153582.1875    ,  44294.578125  ],\n",
      "       [335979.9375    , 153832.0625    ,  44157.0625    ],\n",
      "       [335991.59375   , 153702.90625   ,  44192.75      ],\n",
      "       ...,\n",
      "       [475059.625     , 286334.65625   ,  63986.953125  ],\n",
      "       [475103.40625   , 286178.3125    ,  63820.296875  ],\n",
      "       [475099.4375    , 286174.28125   ,  63900.02734375]])), ('triangles', array([[ 94552,  94598,  94644],\n",
      "       [ 94552,  94644,  94412],\n",
      "       [ 94552,  94412,  94413],\n",
      "       ...,\n",
      "       [261011, 261439, 261085],\n",
      "       [262117, 261460, 261320],\n",
      "       [262118, 261700, 261808]], dtype=uint32))])\n",
      "Done writing OFF file\n",
      "Loading mesh from datajoint- id: 648518346342806978\n",
      "OrderedDict([('segmentation', 2), ('segment_id', 648518346342806978), ('decimation_ratio', Decimal('0.35')), ('n_vertices', 249575), ('n_triangles', 498280), ('vertices', array([[304213.53125   , 275479.75      ,  49690.35546875],\n",
      "       [304244.6875    , 275509.        ,  49599.32421875],\n",
      "       [304258.46875   , 276020.71875   ,  49812.9921875 ],\n",
      "       ...,\n",
      "       [475622.9375    , 301297.625     ,  64199.46875   ],\n",
      "       [475699.125     , 301869.59375   ,  63894.69921875],\n",
      "       [475703.34375   , 301860.0625    ,  63821.81640625]])), ('triangles', array([[ 52384,  52301,  52442],\n",
      "       [ 52384,  52442,  52568],\n",
      "       [ 52568,  52807,  52800],\n",
      "       ...,\n",
      "       [161653, 161884, 161965],\n",
      "       [160975, 160848, 161034],\n",
      "       [161883, 161652, 161667]], dtype=uint32))])\n",
      "Done writing OFF file\n",
      "Loading mesh from datajoint- id: 648518346349468264\n",
      "OrderedDict([('segmentation', 2), ('segment_id', 648518346349468264), ('decimation_ratio', Decimal('0.35')), ('n_vertices', 276987), ('n_triangles', 552296), ('vertices', array([[345375.1875    , 158685.59375   ,  22121.77148438],\n",
      "       [345401.9375    , 158601.640625  ,  22133.21289062],\n",
      "       [345433.375     , 158691.75      ,  22042.68554688],\n",
      "       ...,\n",
      "       [475861.8125    , 264887.65625   ,  75172.6640625 ],\n",
      "       [475878.09375   , 273316.71875   ,  78021.84375   ],\n",
      "       [475882.84375   , 273928.53125   ,  78091.25      ]])), ('triangles', array([[265751, 265577, 265709],\n",
      "       [265755, 265751, 265899],\n",
      "       [265755, 265899, 265881],\n",
      "       ...,\n",
      "       [266230, 266119, 266174],\n",
      "       [265991, 265897, 266064],\n",
      "       [265318, 265462, 265538]], dtype=uint32))])\n",
      "Done writing OFF file\n",
      "Loading mesh from datajoint- id: 648518346349471156\n",
      "OrderedDict([('segmentation', 2), ('segment_id', 648518346349471156), ('decimation_ratio', Decimal('0.35')), ('n_vertices', 287278), ('n_triangles', 587270), ('vertices', array([[219080.96875   , 174888.5625    ,  42057.70703125],\n",
      "       [219167.109375  , 174871.9375    ,  42061.109375  ],\n",
      "       [219241.96875   , 175033.46875   ,  42024.93359375],\n",
      "       ...,\n",
      "       [474545.25      , 234328.5       ,  81721.4921875 ],\n",
      "       [474607.625     , 234371.890625  ,  82011.6484375 ],\n",
      "       [474675.15625   , 234316.578125  ,  82003.7890625 ]])), ('triangles', array([[ 56104,  56232,  56302],\n",
      "       [ 56104,  56302,  56185],\n",
      "       [ 56059,  56185,  56052],\n",
      "       ...,\n",
      "       [283390, 283760, 283620],\n",
      "       [282654, 282423, 282465],\n",
      "       [283917, 283760, 283511]], dtype=uint32))])\n",
      "Done writing OFF file\n"
     ]
    }
   ],
   "source": [
    "to_test_segments = [648518346342797556,648518346342806978,648518346349468264,648518346349471156]\n",
    "\n",
    "for seg in to_test_segments:\n",
    "    path_and_filename,filename,file_loc = get_dj_mesh_off(seg)"
   ]
  },
  {
   "cell_type": "code",
   "execution_count": null,
   "metadata": {},
   "outputs": [],
   "source": []
  }
 ],
 "metadata": {
  "kernelspec": {
   "display_name": "Python 3",
   "language": "python",
   "name": "python3"
  },
  "language_info": {
   "codemirror_mode": {
    "name": "ipython",
    "version": 3
   },
   "file_extension": ".py",
   "mimetype": "text/x-python",
   "name": "python",
   "nbconvert_exporter": "python",
   "pygments_lexer": "ipython3",
   "version": "3.6.5"
  }
 },
 "nbformat": 4,
 "nbformat_minor": 2
}
