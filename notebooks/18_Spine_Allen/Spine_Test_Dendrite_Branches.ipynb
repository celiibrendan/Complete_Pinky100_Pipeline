{
 "cells": [
  {
   "cell_type": "code",
   "execution_count": 1,
   "metadata": {},
   "outputs": [],
   "source": [
    "import spine_head_classification_vp1 as class_head"
   ]
  },
  {
   "cell_type": "code",
   "execution_count": 6,
   "metadata": {},
   "outputs": [
    {
     "name": "stdout",
     "output_type": "stream",
     "text": [
      "Starting spine extraction for 648518346342797556shaft_0.off with clusters=12 and smoothness=0.04\n",
      "Step 1: Trimesh mesh build total time ---- 1.67006 seconds\n",
      "\n",
      "Starting CGAL segmentation\n",
      "Step 2: CGAL segmentation total time ---- 67.13523 seconds\n",
      "\n",
      "Starting Spine Extraction\n",
      "\n",
      "backbone Parameters\n",
      "max_backbone_threshold = 200,                             backbone_threshold = 40,                             shared_vert_threshold = 10,                             shared_vert_threshold_new = 5                              backbone_width_threshold = 0.1,                              backbone_neighbor_min = 10\n",
      "\n",
      "stub_threshold = 50\n",
      "getting cgal data--- 1.11548 seconds ---\n",
      "smoothing round 1\n",
      "smoothing round 2\n",
      "smoothing round 3\n",
      "smoothing backbone--- 3.65176 seconds ---\n",
      "removing 73 labels with stub threshold 50\n",
      "---removing stubs: 1.22564 seconds ---\n",
      "Total spine extraction --- 5.99475 seconds ---\n",
      "Step 3: Spine extraction total time ---- 6.67488 seconds\n",
      "\n",
      "Step 3: Starting Spine Classification\n",
      "inside auto_spine_classification\n",
      "About to iterate through labels\n",
      "str(-1 in final_spine_labels) = True\n",
      "done classifying labels: 176.85937523841858\n",
      "Starting Relabeling final faces and vertices\n",
      "Counter(final_spine_labels) = Counter({-1: 90661, -2: 58471, -3: 58362, -4: 17788})\n",
      "Done relabeling final faces: 1.2505223751068115\n",
      "\n",
      "Step 3: Finshed Spine Classification: 178.25536155700684\n",
      "head_counter = 473\n",
      "neck_counter = 473\n",
      "spine_counter = 138\n",
      "stub_counter = 0\n",
      "Total time ---- 253.73758 seconds\n"
     ]
    }
   ],
   "source": [
    "\n",
    "mesh_file_location = \"/notebooks/18_Spine_Allen/dendrite_branches\"\n",
    "\n",
    "clusters = 12\n",
    "smoothness = 0.04\n",
    "\n",
    "file_name = \"648518346342797556shaft_0.off\"\n",
    "return_value = class_head.complete_spine_extraction(mesh_file_location,file_name,\n",
    "                                                clusters=clusters,\n",
    "                                                smoothness=smoothness,\n",
    "                                                shaft_mesh = True)\n",
    "if return_value != None:\n",
    "    part_2_spines,final_faces_labels_list = return_value\n",
    "# file_name = \"neuron-775959265587_part_3.off\"\n",
    "# part_3_spines = complete_spine_extraction(mesh_file_location,file_name,clusters,smoothness)\n",
    "# file_name = \"neuron-775959265587_part_4.off\"\n",
    "# part_4_spines = complete_spine_extraction(mesh_file_location,file_name,clusters,smoothness)\n",
    "# file_name = \"neuron-775959265587-part-1.off\"\n",
    "# part_1_spines = complete_spine_extraction(mesh_file_location,file_name,clusters,smoothness)\n",
    "\n",
    "\n",
    "\n",
    "# myClassifier2 = ClassifyMesh(mesh_file_location,file_name)\n",
    "# myClassifier2.get_spine_classification(labels_file_location,file_name,clusters,smoothness)"
   ]
  },
  {
   "cell_type": "code",
   "execution_count": 7,
   "metadata": {},
   "outputs": [],
   "source": [
    "import csv\n",
    "#export the labels to a file and add the label\n",
    "output_file = file_name[:-4] + \"_final_spines.csv\"\n",
    "\n",
    "with open(mesh_file_location + \"/\" + output_file,\"w\") as csvfile:\n",
    "    csv_writer = csv.writer(csvfile,delimiter=\",\")\n",
    "    for i in final_faces_labels_list:\n",
    "        csv_writer.writerow([int(i)])"
   ]
  },
  {
   "cell_type": "code",
   "execution_count": null,
   "metadata": {},
   "outputs": [],
   "source": [
    "import datajoint as dj\n",
    "ta3p100 = dj.create_virtual_module(\"ta3p100\",\"microns_ta3p100\")\n",
    "ta3p100.LabelKey.fetch()"
   ]
  },
  {
   "cell_type": "code",
   "execution_count": null,
   "metadata": {},
   "outputs": [],
   "source": []
  }
 ],
 "metadata": {
  "kernelspec": {
   "display_name": "Python 3",
   "language": "python",
   "name": "python3"
  },
  "language_info": {
   "codemirror_mode": {
    "name": "ipython",
    "version": 3
   },
   "file_extension": ".py",
   "mimetype": "text/x-python",
   "name": "python",
   "nbconvert_exporter": "python",
   "pygments_lexer": "ipython3",
   "version": "3.6.5"
  }
 },
 "nbformat": 4,
 "nbformat_minor": 2
}
