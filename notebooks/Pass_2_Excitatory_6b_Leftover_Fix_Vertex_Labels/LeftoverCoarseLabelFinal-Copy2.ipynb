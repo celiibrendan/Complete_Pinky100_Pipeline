{
 "cells": [
  {
   "cell_type": "code",
   "execution_count": 1,
   "metadata": {},
   "outputs": [],
   "source": [
    "import datajoint as dj\n",
    "import numpy as np\n",
    "import time\n",
    "from tqdm import tqdm"
   ]
  },
  {
   "cell_type": "code",
   "execution_count": 2,
   "metadata": {},
   "outputs": [
    {
     "name": "stdout",
     "output_type": "stream",
     "text": [
      "Connecting celiib@10.28.0.34:3306\n"
     ]
    }
   ],
   "source": [
    "#setting the address and the username\n",
    "dj.config['database.host'] = '10.28.0.34'\n",
    "dj.config['database.user'] = 'celiib'\n",
    "dj.config['database.password'] = 'newceliipass'\n",
    "dj.config['safemode']=True\n",
    "dj.config[\"display.limit\"] = 20\n",
    "\n",
    "pinky = dj.create_virtual_module('pinky', 'microns_pinky')\n",
    "schema = dj.schema('microns_pinky')\n"
   ]
  },
  {
   "cell_type": "code",
   "execution_count": 3,
   "metadata": {},
   "outputs": [],
   "source": [
    "@schema\n",
    "class LeftoverCoarseLabelFinal(dj.Computed):\n",
    "    definition = \"\"\"\n",
    "    # Ensure that Vertex labels for pinky.LeftoverProofreadLabel match the triangle labels, so these are regenerated from the correct triangle labels.\n",
    "    -> pinky.LeftoverProofreadLabel\n",
    "    ---\n",
    "    vertices  : longblob # Corrected vertex labels\n",
    "    triangles : longblob # Same triangle labels as pinky.LeftoverProofreadLabel\n",
    "    \"\"\"\n",
    "    \n",
    "    key_source = pinky.LeftoverProofreadLabel & 'status=\"complete\"'\n",
    "    \n",
    "    def make(self, key):\n",
    "        start = time.time()\n",
    "        \n",
    "        print(key[\"segment_id\"])\n",
    "        labels = (pinky.LeftoverProofreadLabel & key).fetch1()\n",
    "        corrected_vertex_labels = np.zeros(labels['vertices'].shape, np.uint8)\n",
    "        \n",
    "        mesh = (pinky.ExcitatoryLeftoverMeshes & 'decimation_ratio=0.35' & dict(segment_id=key['segment_id'])).fetch1()\n",
    "        mesh_triangles = mesh['triangles']\n",
    "        \n",
    "        vertex_label_dict = dict()\n",
    "        for i, label in enumerate(labels['triangles']):\n",
    "            triangle = mesh_triangles[i]\n",
    "            for node in triangle:\n",
    "                if node in vertex_label_dict:\n",
    "                    if vertex_label_dict[node] < label:\n",
    "                        vertex_label_dict[node] = label\n",
    "                else:\n",
    "                    vertex_label_dict[node] = label\n",
    "                \n",
    "        for node, label in vertex_label_dict.items():\n",
    "            corrected_vertex_labels[node] = label\n",
    "            \n",
    "        self.insert1(dict(key,\n",
    "                          vertices=corrected_vertex_labels,\n",
    "                          triangles=labels['triangles']))\n",
    "        \n",
    "        print(\"Segment {} vertex labels regenerated in: {} seconds.\".format(key['segment_id'], time.time() - start))"
   ]
  },
  {
   "cell_type": "code",
   "execution_count": 4,
   "metadata": {},
   "outputs": [
    {
     "name": "stdout",
     "output_type": "stream",
     "text": [
      "648518346349498482\n",
      "Segment 648518346349498482 vertex labels regenerated in: 0.34923624992370605 seconds.\n",
      "648518346349498566\n",
      "Segment 648518346349498566 vertex labels regenerated in: 0.2451915740966797 seconds.\n",
      "648518346349498835\n",
      "Segment 648518346349498835 vertex labels regenerated in: 0.4676191806793213 seconds.\n",
      "648518346349499369\n",
      "Segment 648518346349499369 vertex labels regenerated in: 0.26751041412353516 seconds.\n",
      "648518346349499636\n",
      "Segment 648518346349499636 vertex labels regenerated in: 0.2737879753112793 seconds.\n",
      "648518346349499680\n",
      "Segment 648518346349499680 vertex labels regenerated in: 0.2221837043762207 seconds.\n",
      "648518346349499701\n",
      "Segment 648518346349499701 vertex labels regenerated in: 0.24158930778503418 seconds.\n",
      "648518346349499783\n",
      "Segment 648518346349499783 vertex labels regenerated in: 1.3753173351287842 seconds.\n",
      "648518346349500120\n",
      "Segment 648518346349500120 vertex labels regenerated in: 0.6178379058837891 seconds.\n",
      "648518346349500324\n",
      "Segment 648518346349500324 vertex labels regenerated in: 0.3478841781616211 seconds.\n",
      "648518346349500486\n",
      "Segment 648518346349500486 vertex labels regenerated in: 0.27744603157043457 seconds.\n",
      "648518346349500725\n",
      "Segment 648518346349500725 vertex labels regenerated in: 0.29811620712280273 seconds.\n",
      "648518346349500939\n",
      "Segment 648518346349500939 vertex labels regenerated in: 0.2884337902069092 seconds.\n",
      "648518346349501481\n",
      "Segment 648518346349501481 vertex labels regenerated in: 0.30793309211730957 seconds.\n",
      "648518346349501625\n",
      "Segment 648518346349501625 vertex labels regenerated in: 0.322113037109375 seconds.\n",
      "648518346349502434\n",
      "Segment 648518346349502434 vertex labels regenerated in: 0.419893741607666 seconds.\n",
      "648518346349503140\n",
      "Segment 648518346349503140 vertex labels regenerated in: 0.2233121395111084 seconds.\n",
      "648518346349503588\n",
      "Segment 648518346349503588 vertex labels regenerated in: 0.2994058132171631 seconds.\n",
      "648518346349503767\n",
      "Segment 648518346349503767 vertex labels regenerated in: 0.3569350242614746 seconds.\n",
      "648518346349504442\n",
      "Segment 648518346349504442 vertex labels regenerated in: 0.2880425453186035 seconds.\n",
      "648518346349504754\n",
      "Segment 648518346349504754 vertex labels regenerated in: 0.3414022922515869 seconds.\n",
      "648518346349505261\n",
      "Segment 648518346349505261 vertex labels regenerated in: 0.26715517044067383 seconds.\n",
      "648518346349505592\n",
      "Segment 648518346349505592 vertex labels regenerated in: 0.29892659187316895 seconds.\n",
      "648518346349505826\n",
      "Segment 648518346349505826 vertex labels regenerated in: 0.2578773498535156 seconds.\n",
      "648518346349506159\n",
      "Segment 648518346349506159 vertex labels regenerated in: 0.44483184814453125 seconds.\n",
      "648518346349506778\n",
      "Segment 648518346349506778 vertex labels regenerated in: 0.3081626892089844 seconds.\n",
      "648518346349506952\n",
      "Segment 648518346349506952 vertex labels regenerated in: 0.2749321460723877 seconds.\n",
      "648518346349507092\n",
      "Segment 648518346349507092 vertex labels regenerated in: 0.2482588291168213 seconds.\n",
      "648518346349507226\n",
      "Segment 648518346349507226 vertex labels regenerated in: 0.3034024238586426 seconds.\n",
      "648518346349507658\n",
      "Segment 648518346349507658 vertex labels regenerated in: 0.5049314498901367 seconds.\n",
      "648518346349508447\n",
      "Segment 648518346349508447 vertex labels regenerated in: 0.22607970237731934 seconds.\n",
      "648518346349508925\n",
      "Segment 648518346349508925 vertex labels regenerated in: 0.29516053199768066 seconds.\n",
      "648518346349509126\n",
      "Segment 648518346349509126 vertex labels regenerated in: 0.26057863235473633 seconds.\n",
      "648518346349509280\n",
      "Segment 648518346349509280 vertex labels regenerated in: 0.20809245109558105 seconds.\n",
      "648518346349509390\n",
      "Segment 648518346349509390 vertex labels regenerated in: 0.4788072109222412 seconds.\n",
      "648518346349510323\n",
      "Segment 648518346349510323 vertex labels regenerated in: 0.2508554458618164 seconds.\n",
      "648518346349510900\n",
      "Segment 648518346349510900 vertex labels regenerated in: 1.285374402999878 seconds.\n",
      "648518346349511983\n",
      "Segment 648518346349511983 vertex labels regenerated in: 0.3821878433227539 seconds.\n",
      "648518346349512199\n",
      "Segment 648518346349512199 vertex labels regenerated in: 1.0340516567230225 seconds.\n",
      "19.176581382751465\n"
     ]
    }
   ],
   "source": [
    "start = time.time()\n",
    "LeftoverCoarseLabelFinal.populate(reserve_jobs=True)\n",
    "print(time.time() - start)"
   ]
  },
  {
   "cell_type": "code",
   "execution_count": 5,
   "metadata": {},
   "outputs": [],
   "source": [
    "#(schema.jobs & \"table_name='__coarse_label_final'\").delete()"
   ]
  },
  {
   "cell_type": "code",
   "execution_count": null,
   "metadata": {},
   "outputs": [],
   "source": []
  }
 ],
 "metadata": {
  "kernelspec": {
   "display_name": "Python 3",
   "language": "python",
   "name": "python3"
  },
  "language_info": {
   "codemirror_mode": {
    "name": "ipython",
    "version": 3
   },
   "file_extension": ".py",
   "mimetype": "text/x-python",
   "name": "python",
   "nbconvert_exporter": "python",
   "pygments_lexer": "ipython3",
   "version": "3.6.5"
  }
 },
 "nbformat": 4,
 "nbformat_minor": 2
}
