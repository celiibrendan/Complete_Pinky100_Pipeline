{
 "cells": [
  {
   "cell_type": "code",
   "execution_count": 1,
   "metadata": {},
   "outputs": [],
   "source": [
    "import trimesh\n",
    "import numpy as np\n",
    "from collections import Counter\n",
    "import time\n",
    "from tqdm import tqdm"
   ]
  },
  {
   "cell_type": "code",
   "execution_count": 2,
   "metadata": {},
   "outputs": [],
   "source": [
    "new_mesh = trimesh.load_mesh(\"in_out_filtered_mesh.off\")"
   ]
  },
  {
   "cell_type": "code",
   "execution_count": null,
   "metadata": {},
   "outputs": [],
   "source": [
    "faces_in_facet = [1282044,1292797]"
   ]
  },
  {
   "cell_type": "code",
   "execution_count": null,
   "metadata": {},
   "outputs": [],
   "source": [
    "#get the index of the faces in facet\n",
    "for i,facet in enumerate(new_mesh.facets):\n",
    "    facet_list = facet.tolist()\n",
    "    if len(set(facet_list).intersection(set(faces_in_facet))) > 0:\n",
    "        print(f\"facet {i}: {facet_list}\")\n",
    "    \n"
   ]
  },
  {
   "cell_type": "code",
   "execution_count": null,
   "metadata": {},
   "outputs": [],
   "source": [
    "#get the facet area\n",
    "#new_mesh.facets_boundary[114093] #these just return the edges of the boundary\n",
    "to_check = [72280]\n",
    "\n",
    "total_normals = []\n",
    "for group in to_check:\n",
    "    print(\"area = \" + str(new_mesh.facets_area[group]))\n",
    "    print(\"nomral = \" + str(new_mesh.facets_normal[group]))\n",
    "    total_normals.append(new_mesh.facets_normal[group])"
   ]
  },
  {
   "cell_type": "code",
   "execution_count": 3,
   "metadata": {},
   "outputs": [
    {
     "data": {
      "text/plain": [
       "'\\nFacet Strategy:\\n1) Get facet groups\\n2) Use initial size filtering on facets\\n3) For each group still left do expanding algorithm:\\na. For each face in facet:\\n    Get list of all faces and for each face:\\n        check neighbor faces to see if close enough to facet normals\\n            if yes --> add to \"To add list\" and the list to check all of the adjacent faces\\n    reconstruct the group into true facet list\\n\\n4) Compute the sizes of all of the new facets and send through another size filter\\n'"
      ]
     },
     "execution_count": 3,
     "metadata": {},
     "output_type": "execute_result"
    }
   ],
   "source": [
    "\"\"\"\n",
    "Facet Strategy:\n",
    "1) Get facet groups\n",
    "2) Use initial size filtering on facets\n",
    "3) For each group still left do expanding algorithm:\n",
    "a. For each face in facet:\n",
    "    Get list of all faces and for each face:\n",
    "        check neighbor faces to see if close enough to facet normals\n",
    "            if yes --> add to \"To add list\" and the list to check all of the adjacent faces\n",
    "    reconstruct the group into true facet list\n",
    "\n",
    "4) Compute the sizes of all of the new facets and send through another size filter\n",
    "\"\"\""
   ]
  },
  {
   "cell_type": "code",
   "execution_count": 4,
   "metadata": {},
   "outputs": [
    {
     "data": {
      "text/plain": [
       "121529"
      ]
     },
     "execution_count": 4,
     "metadata": {},
     "output_type": "execute_result"
    }
   ],
   "source": [
    "\"\"\"\n",
    "1) Get the original facets group\n",
    "\n",
    "\"\"\"\n",
    "len(new_mesh.facets_area)"
   ]
  },
  {
   "cell_type": "code",
   "execution_count": 5,
   "metadata": {},
   "outputs": [
    {
     "data": {
      "text/plain": [
       "array([array([5, 6, 7]), array([8, 9]), array([  31, 2126,   14]), ...,\n",
       "       array([2187572, 2187503, 2187502]), array([2187557, 2187556]),\n",
       "       array([2187601, 2187602, 2187594, 2187614])], dtype=object)"
      ]
     },
     "execution_count": 5,
     "metadata": {},
     "output_type": "execute_result"
    }
   ],
   "source": [
    "first_pass_size_threshold = 2000\n",
    "\"\"\"\n",
    "#2) Use initial size filtering on facets\n",
    "\"\"\"\n",
    "new_facets = new_mesh.facets[np.where(new_mesh.facets_area > first_pass_size_threshold)[0]]\n",
    "new_facets\n"
   ]
  },
  {
   "cell_type": "code",
   "execution_count": 69,
   "metadata": {},
   "outputs": [],
   "source": [
    "# need a way of finding the neighbors that have to share adjacent faces\n",
    "def create_neighbors_lookup(mesh):\n",
    "    start_time = time.time()\n",
    "    neighbors_lookup = dict([(i,[]) for i in range(0,len(mesh.faces))])\n",
    "    print(f\"Creating empty dictionary : {time.time() - start_time}\")\n",
    "    \n",
    "    start_time = time.time()\n",
    "    for adj in mesh.face_adjacency:\n",
    "        neighbors_lookup[adj[0]].append(adj[1])\n",
    "        neighbors_lookup[adj[1]].append(adj[0])\n",
    "    print(f\"Filling in neighbors lookup : {time.time() - start_time}\")\n",
    "    \n",
    "    return neighbors_lookup\n",
    "    \n",
    "    "
   ]
  },
  {
   "cell_type": "code",
   "execution_count": 73,
   "metadata": {},
   "outputs": [
    {
     "name": "stdout",
     "output_type": "stream",
     "text": [
      "Creating empty dictionary : 6.729601860046387\n",
      "Filling in neighbors lookup : 5.016799688339233\n"
     ]
    }
   ],
   "source": [
    "neighbors_lookup = create_neighbors_lookup(new_mesh)"
   ]
  },
  {
   "cell_type": "code",
   "execution_count": 74,
   "metadata": {},
   "outputs": [],
   "source": [
    "def find_neighbors(current_face):\n",
    "    return neighbors_lookup[current_face]"
   ]
  },
  {
   "cell_type": "code",
   "execution_count": 8,
   "metadata": {},
   "outputs": [],
   "source": [
    "def find_neighbors_non_adjacent(current_face):\n",
    "    #print(\"hellloooo\")\n",
    "    total_list = []\n",
    "    for k in new_mesh.faces[current_face]:\n",
    "        #possible neighbors before filtering\n",
    "        possible_neighbors = verts_to_face[k]\n",
    "        #need to make sure that they at least share an edge\n",
    "        total_list = total_list + verts_to_face[k]\n",
    "    \n",
    "    return list(set(total_list))"
   ]
  },
  {
   "cell_type": "code",
   "execution_count": null,
   "metadata": {},
   "outputs": [],
   "source": [
    "# def find_neighbors_numpy(current_face):\n",
    "#     total_neighbors = np.unique(np.hstack([verts_to_face[k] for k in new_mesh.faces[current_face]]))\n",
    "#     return total_neighbors"
   ]
  },
  {
   "cell_type": "code",
   "execution_count": null,
   "metadata": {},
   "outputs": [],
   "source": [
    "# def find_neighbors_adjacency(current_face):\n",
    "#     neighbors_and_self = np.hstack([new_mesh.face_adjacency[new_mesh.face_adjacency[:,1] == current_face].ravel(),\n",
    "#                                     new_mesh.face_adjacency[new_mesh.face_adjacency[:,0] == current_face].ravel()])\n",
    "#     neighbors = neighbors_and_self[neighbors_and_self != current_face]\n",
    "#     return neighbors"
   ]
  },
  {
   "cell_type": "code",
   "execution_count": null,
   "metadata": {},
   "outputs": [],
   "source": [
    "# #find neighbors using verts_to_face:\n",
    "# example_face = 5\n",
    "# start_time = time.time()\n",
    "# total_neighbors = np.unique(np.hstack([verts_to_face[k] for k in new_mesh.faces[example_face]]))\n",
    "# print(total_neighbors)\n",
    "# print(len(total_neighbors))\n",
    "# print(f\"Total_time:{time.time() - start_time}\")\n",
    "\n",
    "# start_time = time.time()\n",
    "# total_neighbors_adjacency = find_neighbors_adjacency(example_face)\n",
    "# print(total_neighbors_adjacency)\n",
    "# print(f\"Total_time:{time.time() - start_time}\")\n",
    "\n",
    "# #this one appears to be the fastest!! Using just lists\n",
    "# start_time = time.time()\n",
    "# total_neighbors_adjacency = find_neighbors(example_face)\n",
    "# print(total_neighbors_adjacency)\n",
    "# print(len(total_neighbors_adjacency))\n",
    "# print(f\"Total_time:{time.time() - start_time}\")"
   ]
  },
  {
   "cell_type": "code",
   "execution_count": 77,
   "metadata": {},
   "outputs": [],
   "source": [
    "#generate a normals lookup table and see if works faster than regular lookup\n",
    "normal_lookup = {}\n",
    "\n",
    "for i in range(0,len(new_mesh.faces)):\n",
    "    normal_lookup[i] = new_mesh.face_normals[i]"
   ]
  },
  {
   "cell_type": "code",
   "execution_count": 78,
   "metadata": {},
   "outputs": [
    {
     "data": {
      "text/plain": [
       "(2187653, 2187653)"
      ]
     },
     "execution_count": 78,
     "metadata": {},
     "output_type": "execute_result"
    }
   ],
   "source": [
    "len(normal_lookup.keys()),len(new_mesh.faces)"
   ]
  },
  {
   "cell_type": "code",
   "execution_count": 79,
   "metadata": {},
   "outputs": [
    {
     "name": "stderr",
     "output_type": "stream",
     "text": [
      "70406it [00:09, 7567.96it/s]"
     ]
    },
    {
     "name": "stdout",
     "output_type": "stream",
     "text": [
      "Total Facet building time: 9.309107780456543\n"
     ]
    },
    {
     "name": "stderr",
     "output_type": "stream",
     "text": [
      "\n"
     ]
    }
   ],
   "source": [
    "\"\"\"\n",
    "3) For each group still left do expanding algorithm:\n",
    "a. For each face in facet:\n",
    "    Get list of all faces and for each face:\n",
    "        check neighbor faces to see if close enough to facet normals\n",
    "            if yes --> add to \"To add list\" and the list to check all of the adjacent faces\n",
    "    reconstruct the group into true facet list\n",
    "\n",
    "\"\"\"\n",
    "\n",
    "normal_closeness = 0.985\n",
    "\n",
    "global_start_time = time.time()\n",
    "final_facets= [0]*len(new_facets)\n",
    "\n",
    "\n",
    "for i,facet in tqdm(enumerate(new_facets)):\n",
    "#     mini_global_start_time = time.time()\n",
    "#     print(facet)\n",
    "#     print(type(facet))\n",
    "#     start_time = time.time()\n",
    "#     print([find_neighbors(k) for k in facet])\n",
    "    total_neighbors = list(set(np.hstack([find_neighbors(k) for k in facet])).difference(set(facet)))\n",
    "#     print(total_neighbors)\n",
    "#     print(f\"time initial neighbors: {(time.time() - start_time)}\")\n",
    "    neighbors_to_add = []\n",
    "    neighbors_checked = []\n",
    "    #print(total_neighbors)\n",
    "    \n",
    "    #just get the normal from one of the faces already in the facet\n",
    "#     start_time = time.time()\n",
    "    facet_normal = normal_lookup[facet[0]]\n",
    "    \n",
    "#     total_dot_time = 0\n",
    "    while len(total_neighbors) > 0:\n",
    "        current_neighbor = total_neighbors.pop()\n",
    "        neighbors_checked.append(current_neighbor)\n",
    "        \n",
    "#         print(\"--------------\")\n",
    "# #         #check to see if neighbor has same normal face\n",
    "# #         start_dot_time = time.time()\n",
    "# #         dot_result = np.dot(new_mesh.face_normals[current_neighbor],facet_normal) #> normal_closeness\n",
    "# #         print(dot_result)\n",
    "# #         print((time.time() - start_dot_time) * 1000)\n",
    "        \n",
    "#         start_dot_time = time.time()\n",
    "#         print(current_neighbor)\n",
    "#         #a = new_mesh.face_normals[current_neighbor]\n",
    "        \n",
    "#         print((time.time() - start_dot_time) * 1000)\n",
    "#         dot_result = a[0]*facet_normal[0] + a[1]*facet_normal[1] + a[2]*facet_normal[2]  > normal_closeness\n",
    "#         print(dot_result)\n",
    "#         print((time.time() - start_dot_time) * 1000)\n",
    "#         print(\"--------------\")\n",
    "        \n",
    "#         total_dot_time += (time.time() - start_dot_time)*1000\n",
    "        \n",
    "        a = normal_lookup[current_neighbor]\n",
    "        if a[0]*facet_normal[0] + a[1]*facet_normal[1] + a[2]*facet_normal[2]  > normal_closeness:\n",
    "            \n",
    "            neighbors_to_add.append(current_neighbor)\n",
    "            #get the neighbors of this current face\n",
    "            for neigh in find_neighbors(current_neighbor) :\n",
    "                #only add those neighbors that havent already been checked, in original facet group, or already in list to check\n",
    "                if neigh not in neighbors_checked and neigh not in facet and neigh not in total_neighbors:\n",
    "                    total_neighbors.append(neigh)\n",
    "#     print(f\"Total dot time: {total_dot_time}\")\n",
    "#     print(f\"time loop: {(time.time() - start_time)}\")\n",
    "#     print(\"neighbors_to_add = \" + str(neighbors_to_add))\n",
    "#     print(\"neighbors_checked = \" + str(neighbors_checked))\n",
    "#     print(\"adding list = \" + str(list(facet) + neighbors_to_add))\n",
    "#     start_time = time.time()\n",
    "    final_facets[i] = list(facet) + neighbors_to_add\n",
    "#     print(f\"Appending to list: {(time.time() - start_time)}\")\n",
    "    \n",
    "#     print(f\"Total time: {(time.time() - mini_global_start_time)}\")\n",
    "#     print(\"------------------------------------------------------\")\n",
    "\n",
    "\n",
    "print(f\"Total Facet building time: {(time.time() - global_start_time)}\")\n",
    "                          \n"
   ]
  },
  {
   "cell_type": "markdown",
   "metadata": {},
   "source": [
    "# AT THIS POINT THERE may be redundant facets but that is fine (will just need to pick biggest)"
   ]
  },
  {
   "cell_type": "code",
   "execution_count": 80,
   "metadata": {},
   "outputs": [
    {
     "data": {
      "text/plain": [
       "' Conclusion:\\nThey look good so far,\\nnow see if can filter them by size\\n\\n'"
      ]
     },
     "execution_count": 80,
     "metadata": {},
     "output_type": "execute_result"
    }
   ],
   "source": [
    "# download the facets list and see if the process worked:\n",
    "facets_group = np.zeros(len(new_mesh.faces)).astype(int)\n",
    "\n",
    "for i,facet_group in enumerate(final_facets):\n",
    "    for face in facet_group:\n",
    "        facets_group[face] = i + 1 #so that you reserve the label 0 for blenders none\n",
    "\n",
    "np.savez(\"./convex_stats/facets_group_revised.npz\",facets_group=facets_group)\n",
    "\n",
    "\"\"\" Conclusion:\n",
    "They look good so far,\n",
    "now see if can filter them by size\n",
    "\n",
    "\"\"\""
   ]
  },
  {
   "cell_type": "code",
   "execution_count": 36,
   "metadata": {},
   "outputs": [
    {
     "data": {
      "text/plain": [
       "<module 'trimesh.triangles' from '/usr/local/lib/python3.6/dist-packages/trimesh/triangles.py'>"
      ]
     },
     "execution_count": 36,
     "metadata": {},
     "output_type": "execute_result"
    }
   ],
   "source": [
    "trimesh.triangles.area"
   ]
  },
  {
   "cell_type": "code",
   "execution_count": 55,
   "metadata": {},
   "outputs": [
    {
     "name": "stdout",
     "output_type": "stream",
     "text": [
      "[[[372785.9375    194954.53125    36397.2890625]\n",
      "  [372736.        194992.         36400.       ]\n",
      "  [372736.        195008.         36380.       ]]\n",
      "\n",
      " [[372785.9375    194954.53125    36397.2890625]\n",
      "  [372736.        194976.         36420.       ]\n",
      "  [372736.        194992.         36400.       ]]\n",
      "\n",
      " [[372785.9375    194954.53125    36397.2890625]\n",
      "  [372736.        194960.         36440.       ]\n",
      "  [372736.        194976.         36420.       ]]]\n"
     ]
    },
    {
     "data": {
      "text/plain": [
       "2257.1661505635775"
      ]
     },
     "execution_count": 55,
     "metadata": {},
     "output_type": "execute_result"
    }
   ],
   "source": [
    "#Try to find the example\n",
    "ex_face = [5,6,7]\n",
    "area_input = np.array(new_mesh.vertices[new_mesh.faces[ex_face]])\n",
    "#area_sum = trimesh.triangles.area(new_mesh.vertices[new_mesh.faces[ex_face]],sum=True)\n",
    "print(area_input)\n",
    "area_sum = trimesh.triangles.area(area_input,sum=True)\n",
    "area_sum"
   ]
  },
  {
   "cell_type": "code",
   "execution_count": 54,
   "metadata": {},
   "outputs": [
    {
     "data": {
      "text/plain": [
       "array([ 2257.16615056, 12194.3495481 ,  1387.37893616, ...,\n",
       "        4718.94987325,  1839.79514824,  1551.49370693])"
      ]
     },
     "execution_count": 54,
     "metadata": {},
     "output_type": "execute_result"
    }
   ],
   "source": [
    "new_mesh.facets_area"
   ]
  },
  {
   "cell_type": "code",
   "execution_count": null,
   "metadata": {},
   "outputs": [],
   "source": [
    "def tri_area(mesh,face_number):\n",
    "    \n",
    "    "
   ]
  },
  {
   "cell_type": "code",
   "execution_count": 56,
   "metadata": {},
   "outputs": [],
   "source": [
    "final_facets_area = np.zeros(len(final_facets))\n",
    "for i,facet in enumerate(final_facets):\n",
    "    area_input = np.array(new_mesh.vertices[new_mesh.faces[facet]])\n",
    "    final_facets_area[i] = trimesh.triangles.area(area_input,sum=True)"
   ]
  },
  {
   "cell_type": "code",
   "execution_count": 59,
   "metadata": {},
   "outputs": [
    {
     "data": {
      "text/plain": [
       "<matplotlib.axes._subplots.AxesSubplot at 0x7f7e860ed320>"
      ]
     },
     "execution_count": 59,
     "metadata": {},
     "output_type": "execute_result"
    },
    {
     "data": {
      "image/png": "[encoded data removed]",
      "text/plain": [
       "<Figure size 432x288 with 1 Axes>"
      ]
     },
     "metadata": {},
     "output_type": "display_data"
    }
   ],
   "source": [
    "import seaborn as sns\n",
    "sns.set()\n",
    "\n",
    "sns.distplot(final_facets_area)\n"
   ]
  },
  {
   "cell_type": "code",
   "execution_count": 64,
   "metadata": {},
   "outputs": [
    {
     "data": {
      "text/plain": [
       "28545"
      ]
     },
     "execution_count": 64,
     "metadata": {},
     "output_type": "execute_result"
    }
   ],
   "source": [
    "sum(final_facets_area < 10000)"
   ]
  },
  {
   "cell_type": "code",
   "execution_count": 60,
   "metadata": {},
   "outputs": [],
   "source": [
    "#Download the sizes and then can do the filtering on the Blender side\n",
    "\n",
    "facets_group_area = np.zeros(len(new_mesh.faces)).astype(int)\n",
    "\n",
    "for i,facet_group in enumerate(final_facets):\n",
    "    for face in facet_group:\n",
    "        facets_group_area[face] = final_facets_area[i]\n",
    "\n",
    "np.savez(\"./convex_stats/facets_group_area_revised.npz\",facets_group_area=facets_group_area)\n"
   ]
  },
  {
   "cell_type": "markdown",
   "metadata": {},
   "source": [
    "# CAN USE MATCHING NORMALS TO HELP STITCH BACK UP! EVEN OVERLAY WITH HIGH CONVEX BOUNDARIES"
   ]
  },
  {
   "cell_type": "markdown",
   "metadata": {},
   "source": [
    "# Found the dot product wsa taking the longest time (testing how to do it faster)\n",
    "# --> but actually the normal vector lookup of certain faces was taking a while\n",
    "# --> so just had to make my own lookup table"
   ]
  },
  {
   "cell_type": "code",
   "execution_count": null,
   "metadata": {},
   "outputs": [],
   "source": [
    "# np.dot(new_mesh.face_normals[current_neighbor]*facet_normal) --> original way\n",
    "a = new_mesh.face_normals[2]\n",
    "b = new_mesh.face_normals[3]\n",
    "\n",
    "start_time = time.time()\n",
    "a = new_mesh.face_normals[2]\n",
    "b = new_mesh.face_normals[3]\n",
    "print(np.dot(a,b)  )#> normal_closeness)\n",
    "print(f\" time: {(time.time() - start_time)*1000}\")\n",
    "\n",
    "\n",
    "#slightly faster to do it manually ... but doesn't explain time lag in loop\n",
    "start_time = time.time()\n",
    "a = new_mesh.face_normals[2]\n",
    "b = new_mesh.face_normals[3]\n",
    "print(a[0]*b[0] + a[1]*b[1] + a[2]*b[2] )# > normal_closeness)\n",
    "print(f\" time: {(time.time() - start_time)*1000}\")\n"
   ]
  },
  {
   "cell_type": "code",
   "execution_count": null,
   "metadata": {},
   "outputs": [],
   "source": [
    "#     start_time = time.time()\n",
    "#     total_neighbors = list(set(np.hstack([find_neighbors(k) for k in facet])).difference(set(facet)))\n",
    "#     print(f\"total time {time.time() - start_time}\")\n",
    "    \n",
    "#     start_time = time.time()\n",
    "    total_neighbors = []\n",
    "    for k in facet:\n",
    "        total_neighbors + find_neighbors(k)\n",
    "    total_neighbors = list(set(total_neighbors).difference(set(facet)))\n",
    "    print(f\"total time {time.time() - start_time}\")"
   ]
  },
  {
   "cell_type": "code",
   "execution_count": null,
   "metadata": {},
   "outputs": [],
   "source": [
    "x = np.array([4,5,6])\n",
    "list(np.unique(np.hstack([x,[4,56,7]])))"
   ]
  },
  {
   "cell_type": "code",
   "execution_count": null,
   "metadata": {},
   "outputs": [],
   "source": [
    "total_neighbors.pop()"
   ]
  },
  {
   "cell_type": "code",
   "execution_count": null,
   "metadata": {},
   "outputs": [],
   "source": [
    "total_neighbors"
   ]
  },
  {
   "cell_type": "code",
   "execution_count": null,
   "metadata": {},
   "outputs": [],
   "source": [
    "len(new_mesh.face_normals),len(new_mesh.faces)"
   ]
  },
  {
   "cell_type": "code",
   "execution_count": null,
   "metadata": {},
   "outputs": [],
   "source": []
  }
 ],
 "metadata": {
  "kernelspec": {
   "display_name": "Python 3",
   "language": "python",
   "name": "python3"
  },
  "language_info": {
   "codemirror_mode": {
    "name": "ipython",
    "version": 3
   },
   "file_extension": ".py",
   "mimetype": "text/x-python",
   "name": "python",
   "nbconvert_exporter": "python",
   "pygments_lexer": "ipython3",
   "version": "3.6.5"
  }
 },
 "nbformat": 4,
 "nbformat_minor": 2
}
