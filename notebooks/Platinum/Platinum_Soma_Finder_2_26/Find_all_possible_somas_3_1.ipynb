{
 "cells": [
  {
   "cell_type": "code",
   "execution_count": null,
   "metadata": {},
   "outputs": [],
   "source": [
    "\"\"\"\n",
    "Purpose: Algorithm that will find all of the possible somas in a mesh:\n",
    "\n",
    "Things to consider:\n",
    "1) soma inside same Poisson\n",
    "2) soma outside of the same Poisson\n",
    "\n",
    "\n",
    "\n",
    "Pseudocode:\n",
    "1) Do the whole proces one time through\n",
    "2) Check that the a soma exists\n",
    "3) Remove the soma from the mesh\n",
    "4) Run the soma algorithm on all the submeshes (recursively?)\n",
    "\n",
    "\n",
    "Current whole process: \n",
    "1) Get the largest piece\n",
    "2) Run poisson surface reconstruction\n",
    "3) Run the segmentation algorithm that gives the soma indexes\n",
    "    (gets the highest soma index and return \n",
    "    \n",
    "    \n",
    "Things to check: \n",
    "1) That soma exists (that there are labels)\n",
    "2) That the soma has a high enough sdf part\n",
    "3) \n",
    "\n",
    "\"\"\""
   ]
  },
  {
   "cell_type": "code",
   "execution_count": null,
   "metadata": {},
   "outputs": [],
   "source": [
    "# practicing with one neuron"
   ]
  },
  {
   "cell_type": "code",
   "execution_count": 1,
   "metadata": {},
   "outputs": [
    {
     "name": "stdout",
     "output_type": "stream",
     "text": [
      "Working on 81498689075439039_multiple_somas.off\n"
     ]
    }
   ],
   "source": [
    "import cgal_Segmentation_Module as csm\n",
    "from whole_neuron_classifier_datajoint_adapted import extract_branches_whole_neuron\n",
    "import time\n",
    "import trimesh\n",
    "import numpy as np\n",
    "import datajoint as dj\n",
    "\n",
    "import os\n",
    "# total_test_meshes = [\n",
    "# '103178515351946567_stitched.off',\n",
    "# '104726695973782750_stitched.off',\n",
    "# '106626583548494129_stitched.off',\n",
    "# '107816118160698192_stitched.off',\n",
    "# '110778132960975016_stitched.off',\n",
    "# '96631955273149705_stitched.off',\n",
    "# '81498689075439039_multiple_somas.off']\n",
    "\n",
    "# output_file = total_test_meshes[0]\n",
    "# folder_name = \"test_neurons/\" \n",
    "\n",
    "total_test_meshes = [\n",
    "'81498689075439039_multiple_somas.off']\n",
    "\n",
    "output_file = total_test_meshes[0]\n",
    "folder_name = \"neurons_potential_soma/\" \n",
    "\n",
    "output_mesh_name = folder_name + output_file\n",
    "print(f\"Working on {output_file}\")\n",
    "\n",
    "indices = [i for i, a in enumerate(output_file) if a == \"_\"]\n",
    "indices\n",
    "seg_id_stripped = output_file[:indices[0]]\n",
    "n = dict(segment_id=int(seg_id_stripped))\n"
   ]
  },
  {
   "cell_type": "code",
   "execution_count": 2,
   "metadata": {},
   "outputs": [],
   "source": [
    "def run_meshlab_script(mlx_script,input_mesh_file,output_mesh_file):\n",
    "    script_command = (\" -i \" + str(input_mesh_file) + \" -o \" + \n",
    "                                    str(output_mesh_file) + \" -s \" + str(mlx_script))\n",
    "    #return script_command\n",
    "    command_to_run = 'xvfb-run -a -s \"-screen 0 800x600x24\" meshlabserver $@ ' + script_command\n",
    "    #command_to_run = 'meshlabserver ' + script_command\n",
    "    \n",
    "    print(command_to_run)\n",
    "    subprocess_result = subprocess.run(command_to_run,shell=True)\n",
    "    \n",
    "    return subprocess_result"
   ]
  },
  {
   "cell_type": "code",
   "execution_count": null,
   "metadata": {},
   "outputs": [],
   "source": [
    "segment_id = int(n[\"segment_id\"])\n",
    "faces = np.array(largest_mesh.faces)\n",
    "verts = np.array(largest_mesh.vertices)\n",
    "#run the whole algorithm on the neuron to test\n",
    "verts_labels, faces_labels = extract_branches_whole_neuron(import_Off_Flag=False,segment_id=segment_id,vertices=verts,\n",
    "                     triangles=faces,pymeshfix_Flag=False,\n",
    "                     import_CGAL_Flag=False,\n",
    "                     return_Only_Labels=True,\n",
    "                     clusters=3,\n",
    "                     smoothness=0.2)"
   ]
  }
 ],
 "metadata": {
  "kernelspec": {
   "display_name": "Python 3",
   "language": "python",
   "name": "python3"
  },
  "language_info": {
   "codemirror_mode": {
    "name": "ipython",
    "version": 3
   },
   "file_extension": ".py",
   "mimetype": "text/x-python",
   "name": "python",
   "nbconvert_exporter": "python",
   "pygments_lexer": "ipython3",
   "version": "3.6.8"
  }
 },
 "nbformat": 4,
 "nbformat_minor": 4
}
