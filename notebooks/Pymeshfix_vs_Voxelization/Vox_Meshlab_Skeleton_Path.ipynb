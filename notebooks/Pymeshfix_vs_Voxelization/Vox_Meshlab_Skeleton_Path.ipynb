{
 "cells": [
  {
   "cell_type": "markdown",
   "metadata": {},
   "source": [
    "# Voxelization-->Meshlabserver--> Skeleton"
   ]
  },
  {
   "cell_type": "code",
   "execution_count": 1,
   "metadata": {},
   "outputs": [],
   "source": [
    "#import modules and set up datajoint"
   ]
  },
  {
   "cell_type": "code",
   "execution_count": 2,
   "metadata": {},
   "outputs": [],
   "source": [
    "import datajoint as dj\n",
    "import numpy as np\n",
    "import calcification_Module as cm\n",
    "import os\n",
    "import pathlib\n",
    "import subprocess\n",
    "import time\n",
    "\n",
    "#for the voxelization:\n",
    "from meshparty import trimesh_io\n",
    "\n",
    "#for supressing the output\n",
    "import os, contextlib"
   ]
  },
  {
   "cell_type": "code",
   "execution_count": 3,
   "metadata": {},
   "outputs": [
    {
     "name": "stdout",
     "output_type": "stream",
     "text": [
      "Connecting celiib@10.28.0.34:3306\n"
     ]
    }
   ],
   "source": [
    "#connect to the database and pull down Cleansed Mesh ones and generate the resurfacing of these\n",
    "ta3p100 = dj.create_virtual_module(\"ta3p100\",\"microns_ta3p100\")"
   ]
  },
  {
   "cell_type": "code",
   "execution_count": 4,
   "metadata": {},
   "outputs": [],
   "source": [
    "def run_meshlab_script(mlx_script,input_mesh_file,output_mesh_file):\n",
    "    script_command = (\" -i \" + str(input_mesh_file) + \" -o \" + \n",
    "                                    str(output_mesh_file) + \" -s \" + str(mlx_script))\n",
    "    #return script_command\n",
    "    subprocess_result = subprocess.run('xvfb-run -a -s \"-screen 0 800x600x24\" meshlabserver $@ ' + \n",
    "                   script_command,shell=True)\n",
    "    \n",
    "    return subprocess_result"
   ]
  },
  {
   "cell_type": "code",
   "execution_count": 5,
   "metadata": {},
   "outputs": [],
   "source": [
    "#if temp folder doesn't exist then create it\n",
    "if (os.path.isdir(os.getcwd() + \"/temp\")) == False:\n",
    "    os.mkdir(\"temp\")"
   ]
  },
  {
   "cell_type": "code",
   "execution_count": 6,
   "metadata": {},
   "outputs": [],
   "source": [
    "def skeletonize_Neuron_Meshlabserver(key):\n",
    "    start_time_inner = time.time()\n",
    "    vertices_ar,triangles_ar = (ta3p100.Decimation35 & key).fetch(\"vertices\",\"triangles\")\n",
    "\n",
    "    vertices = vertices_ar[0]\n",
    "    triangles = triangles_ar[0]\n",
    "    print(f\"Import time = {time.time() - start_time_inner}\")\n",
    "    \n",
    "    #voxelize the mesh\n",
    "    start_time_inner = time.time()\n",
    "    print(\"starting voxelization\")\n",
    "    mesh = trimesh_io.Mesh(vertices=vertices, faces=triangles)\n",
    "    voxels = mesh.voxelized(500)\n",
    "    voxel_mesh = voxels.as_boxes()\n",
    "    print(\"DONE voxelization\")\n",
    "    print(f\"Voxelization time = {time.time() - start_time_inner}\")\n",
    "    \n",
    "    #check that there is a temporary file to store it\n",
    "    \n",
    "    start_time_inner = time.time()\n",
    "    \n",
    "    file_loc = pathlib.Path.cwd() / \"temp\"\n",
    "    filename = \"neuron_\" + str(key[\"segment_id\"])\n",
    "    path_and_filename = str(file_loc / filename)\n",
    "    \n",
    "    \n",
    "    #try the inline printing method:\n",
    "    with open(os.devnull, 'w') as devnull:\n",
    "        with contextlib.redirect_stdout(devnull):\n",
    "            voxel_mesh.export(str(path_and_filename) + \".off\")\n",
    "    print(f\"Writing Off file VOXEL time = {time.time() - start_time_inner}\")\n",
    "    \n",
    "    \n",
    "    #save off the voxelized mesh as .off \n",
    "    #so it can be passed to meshlab server\n",
    "    \n",
    "    \"\"\"  SLOWER THAN THE EXPORT FUNCTION OF THE VOXEL_MESH BY 2 SECONDS\n",
    "    start_time_inner = time.time()\n",
    "    print(\"starting writing neuron to off file\")\n",
    "    paths = write_Whole_Neuron_Off_file(str(key['segment_id'])+\"_vox\",voxel_mesh.vertices,voxel_mesh.faces)\n",
    "    print(\"DONE writing neuron to off file\")\n",
    "    print(f\"Writing Off file time = {time.time() - start_time_inner}\")\n",
    "    \"\"\"\n",
    "    \n",
    "    start_time_inner = time.time()\n",
    "    input_mesh = path_and_filename + \".off\"\n",
    "    midoutput_mesh = path_and_filename + \"_mid.off\"\n",
    "    output_mesh = path_and_filename+\"_mls.off\"\n",
    "    \n",
    "    meshlab_script = str(file_loc) + \"/\" + \"remeshing_script_vox.mlx\"\n",
    "    meshlab_script_rem_dupl = str(file_loc) + \"/\" + \"remeshing_script_vox_rem_dupl.mlx\"\n",
    "    #send to meshlabserver\n",
    "    print(\"starting meshlabserver Poisson surface reconstruction\")\n",
    "    subprocess_result = run_meshlab_script(meshlab_script,\n",
    "                      input_mesh,\n",
    "                      midoutput_mesh)\n",
    "    print(\"subprocess_result= \"+ str(subprocess_result))\n",
    "    \n",
    "    #do another call to remove the final duplicate vertices\n",
    "    print(\"starting meshlabserver Poisson surface reconstruction\")\n",
    "    subprocess_result = run_meshlab_script(meshlab_script_rem_dupl,\n",
    "                      midoutput_mesh,\n",
    "                      output_mesh)\n",
    "    print(\"subprocess_result= \"+ str(subprocess_result))\n",
    "    \n",
    "    print(\"DONE meshlabserver Poisson surface reconstruction\")\n",
    "    print(f\"Meshlabserver time = {time.time() - start_time_inner}\")\n",
    "    \n",
    "    #skeletonize the mesh\n",
    "    start_time_inner = time.time()\n",
    "    print(\"starting creating skeleton\")\n",
    "    calc_return_value = cm.calcification(output_mesh[:-4])\n",
    "    print(\"calc_return_value = \" + str(calc_return_value))\n",
    "    print(\"DONE creating skeleton\")\n",
    "    print(f\"Skeleton time = {time.time() - start_time_inner}\")\n",
    "    \n",
    "    return calc_return_value\n",
    "\n",
    "    "
   ]
  },
  {
   "cell_type": "code",
   "execution_count": 7,
   "metadata": {},
   "outputs": [
    {
     "name": "stdout",
     "output_type": "stream",
     "text": [
      "Import time = 2.5806891918182373\n",
      "starting voxelization\n",
      "DONE voxelization\n",
      "Voxelization time = 3.44388484954834\n",
      "Writing Off file VOXEL time = 1.4593627452850342\n",
      "starting meshlabserver Poisson surface reconstruction\n",
      "subprocess_result= CompletedProcess(args='xvfb-run -a -s \"-screen 0 800x600x24\" meshlabserver $@  -i /notebooks/Pymeshfix_vs_Voxelization/temp/neuron_648518346341366885.off -o /notebooks/Pymeshfix_vs_Voxelization/temp/neuron_648518346341366885_mls.off -s /notebooks/Pymeshfix_vs_Voxelization/temp/remeshing_script_vox.mlx', returncode=0)\n",
      "DONE meshlabserver Poisson surface reconstruction\n",
      "Meshlabserver time = 11.937600135803223\n",
      "starting creating skeleton\n",
      "calc_return_value = 0\n",
      "DONE creating skeleton\n",
      "Skeleton time = 3.5491020679473877\n",
      "Total time for Meshlabserver = 22.974225997924805\n"
     ]
    }
   ],
   "source": [
    "\n",
    "segment_id = 648518346341366885\n",
    "label_key = dict(segment_id=segment_id)\n",
    "start_time = time.time()\n",
    "\n",
    "skeletonize_Neuron_Meshlabserver(label_key)\n",
    "\n",
    "print(f\"Total time for Meshlabserver = {time.time() - start_time}\")\n"
   ]
  },
  {
   "cell_type": "code",
   "execution_count": null,
   "metadata": {},
   "outputs": [],
   "source": [
    "\"\"\"\n",
    "Advantages:\n",
    "1) Speed\n",
    "2) Voxelization may take care of wierd input mesh\n",
    "\n",
    "Disadvantages:\n",
    "1) Possible disconnected points (coudl be elimintated with size of voxels)\n",
    "-- use c method for voxel (trimesh) --> voxel_mesh\n",
    "\n",
    "\n",
    "\n",
    "\"\"\""
   ]
  }
 ],
 "metadata": {
  "kernelspec": {
   "display_name": "Python 3",
   "language": "python",
   "name": "python3"
  },
  "language_info": {
   "codemirror_mode": {
    "name": "ipython",
    "version": 3
   },
   "file_extension": ".py",
   "mimetype": "text/x-python",
   "name": "python",
   "nbconvert_exporter": "python",
   "pygments_lexer": "ipython3",
   "version": "3.6.5"
  }
 },
 "nbformat": 4,
 "nbformat_minor": 2
}
