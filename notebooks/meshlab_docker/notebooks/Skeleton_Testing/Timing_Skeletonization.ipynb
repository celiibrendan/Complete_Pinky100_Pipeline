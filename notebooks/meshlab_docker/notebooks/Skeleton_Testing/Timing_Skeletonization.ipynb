{
 "cells": [
  {
   "cell_type": "code",
   "execution_count": null,
   "metadata": {},
   "outputs": [],
   "source": [
    "import cgal_Segmentation_Module as csm"
   ]
  },
  {
   "cell_type": "code",
   "execution_count": null,
   "metadata": {},
   "outputs": [],
   "source": [
    "import subprocess #subprocess.check_output(['ls','-l'])\n",
    "#all that is technically needed... \n",
    "print subprocess.check_output(['ls','-l'])"
   ]
  }
 ],
 "metadata": {
  "kernelspec": {
   "display_name": "Python 3",
   "language": "python",
   "name": "python3"
  },
  "language_info": {
   "name": ""
  }
 },
 "nbformat": 4,
 "nbformat_minor": 2
}
