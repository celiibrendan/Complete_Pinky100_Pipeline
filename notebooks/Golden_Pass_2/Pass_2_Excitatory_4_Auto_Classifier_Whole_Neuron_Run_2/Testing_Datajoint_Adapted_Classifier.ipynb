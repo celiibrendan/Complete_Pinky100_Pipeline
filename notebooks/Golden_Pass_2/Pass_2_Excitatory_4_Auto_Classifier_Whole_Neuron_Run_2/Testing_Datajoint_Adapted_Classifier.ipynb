{
 "cells": [
  {
   "cell_type": "code",
   "execution_count": 1,
   "metadata": {},
   "outputs": [],
   "source": [
    "from whole_neuron_classifier_datajoint_adapted import extract_branches_whole_neuron\n",
    "import datajoint as dj\n",
    "import numpy as np\n",
    "import datajoint as dj\n",
    "import trimesh\n",
    "import time"
   ]
  },
  {
   "cell_type": "code",
   "execution_count": 2,
   "metadata": {},
   "outputs": [
    {
     "name": "stdout",
     "output_type": "stream",
     "text": [
      "Connecting celiib@10.28.0.34:3306\n"
     ]
    }
   ],
   "source": [
    "dj.config['database.host'] = '10.28.0.34'\n",
    "dj.config['database.user'] = 'celiib'\n",
    "dj.config['database.password'] = 'newceliipass'\n",
    "    \n",
    "#schema = dj.schema('microns_ta3p100')\n",
    "#ta3p100 = dj.create_virtual_module('ta3p100', 'microns_ta3p100')\n",
    "schema = dj.schema(\"microns_pinky\")\n",
    "pinky = dj.create_virtual_module(\"pinky\",\"microns_pinky\")\n"
   ]
  },
  {
   "cell_type": "code",
   "execution_count": 3,
   "metadata": {},
   "outputs": [
    {
     "name": "stdout",
     "output_type": "stream",
     "text": [
      "done\n"
     ]
    }
   ],
   "source": [
    "\"\"\" \n",
    "Base definition: \n",
    "def extract_branches_whole_neuron(import_Off_Flag,\n",
    "                              **kwargs):\n",
    "\n",
    "\n",
    "All options for functions \n",
    "\n",
    "    global_start = time.time()\n",
    "   \n",
    "    # Step 0: Where to import from\n",
    "    \n",
    "    if import_Off_Flag == True:\n",
    "        #if loading from an off file\n",
    "        mesh_file_location = kwargs.pop('mesh_file_location', \"\")\n",
    "        file_name = kwargs.pop('file_name', \"\")\n",
    "    else:\n",
    "        #if loading from datajoint\n",
    "        vertices = kwargs.pop('vertices', -1)\n",
    "        triangles = kwargs.pop('triangles', -1)\n",
    "        segment_id = kwargs.pop(\"segment_id\",-1)\n",
    "        \n",
    "    #Step 1: Mesh importing and Pymeshfix parameters\n",
    "    pymeshfix_Flag = kwargs.pop('pymeshfix_Flag', True)\n",
    "    \n",
    "    joincomp = kwargs.pop('joincomp', False)\n",
    "    remove_smallest_components = kwargs.pop('remove_smallest_components', True)\n",
    "    \n",
    "    #Step 2: CGAL segmentation parameters\n",
    "    \n",
    "    import_CGAL_Flag = kwargs.pop('import_CGAL_Flag', False)\n",
    "    import_CGAL_paths = kwargs.pop('import_CGAL_paths', [[\"\"],[\"\"]])\n",
    "    \n",
    "    clusters = kwargs.pop('clusters', 4)\n",
    "    smoothness = kwargs.pop('smoothness', 0.30)\n",
    "    \n",
    "    #step 3: Soma identification parameters\n",
    "    size_multiplier = kwargs.pop('size_multiplier', 1)\n",
    "    soma_size_threshold = kwargs.pop(\"soma_size_threshold\",3000)\n",
    "    \n",
    "    #step 4: finding soma extensions parameters\n",
    "    soma_cap_min_width= kwargs.pop('soma_cap_min_width', 0.23) \n",
    "    soma_cap_max_faces= kwargs.pop('soma_cap_max_faces', 6000) \n",
    "    soma_cap_max_n_connections= kwargs.pop('soma_cap_max_n_connections', 6) \n",
    "    large_extension_size = kwargs.pop('large_extension_size', 1500) \n",
    "    large_extension_convex_max= kwargs.pop('soma_cap_conex_threshold', 3) \n",
    "    \n",
    "    \n",
    "    \n",
    "    #Step 5: Apical Identifying Parameters\n",
    "    apical_mesh_threshold= kwargs.pop('apical_mesh_threshold', 2000)\n",
    "    apical_height_threshold= kwargs.pop('apical_height_threshold', 5000) \n",
    "    apical_sdf_threshold = kwargs.pop('apical_sdf_threshold', 0.09)\n",
    "    \n",
    "    #Step 6: Classifying Entire Mesh parameters\n",
    "    classifier_cilia_threshold=kwargs.pop('classifier_cilia_threshold', 1000) #maximum size of cilia\n",
    "    classifier_stub_threshold=kwargs.pop('classifier_stub_threshold', 200) # minimum size of appndage of soma to not be considered stub and merged with the soma\n",
    "    classifier_non_dendrite_convex_threshold = kwargs.pop('classifier_non_dendrite_convex_threshold', 27.5) #must be above this value to be axon, cilia or error\n",
    "    classifier_axon_std_dev_threshold = kwargs.pop('classifier_axon_std_dev_threshold', 69) #standard deviation of convex measurements for which axon branches are under this threshold\n",
    "    classifier_stub_threshold_apical = kwargs.pop('classifier_stub_threshold_apical', 700) #the minimum size threshold for apical appendage not to be merged with apical\n",
    "    \n",
    "    #Step 9: Output Configuration Parameters\n",
    "    return_Only_Labels = kwargs.pop(\"return_Only_Labels\",False)\n",
    "    \n",
    "    return_cilia=kwargs.pop('return_cilia', False)\n",
    "    return_soma=kwargs.pop('return_soma', False)\n",
    "    return_axon=kwargs.pop('return_axon', False)\n",
    "    return_error=kwargs.pop('return_error', False)\n",
    "    return_size_threshold=kwargs.pop('return_size_threshold', 200)\n",
    "    \n",
    "    clean_temp_files=kwargs.pop('clean_temp_files', True)\n",
    "    \n",
    "    \n",
    "\n",
    "\n",
    "\"\"\"\n",
    "print(\"done\")"
   ]
  },
  {
   "cell_type": "code",
   "execution_count": null,
   "metadata": {},
   "outputs": [],
   "source": [
    "segment_id = 648518346349495660\n",
    "\n",
    "#get the vertices and faces from datajoint\n",
    "# get the newly stitched mesh\n",
    "# get the original mesh\n",
    "\n",
    "key = dict(segmentation=3,segment_id = segment_id)\n",
    "verts,faces = (pinky.PymeshfixDecimatedExcitatoryStitchedMesh() & key).fetch1(\"vertices\",\"triangles\")\n",
    "\n",
    "\n"
   ]
  },
  {
   "cell_type": "code",
   "execution_count": null,
   "metadata": {},
   "outputs": [],
   "source": [
    "#run the whole algorithm on the neuron to test\n",
    "verts_labels, faces_labels = extract_branches_whole_neuron(import_Off_Flag=False,segment_id=segment_id,vertices=verts,\n",
    "                             triangles=faces,pymeshfix_Flag=False,\n",
    "                             import_CGAL_Flag=False,\n",
    "                             return_Only_Labels=True,\n",
    "                              clusters=3,\n",
    "                                smoothness=0.20)\n",
    "\n",
    "\n"
   ]
  },
  {
   "cell_type": "code",
   "execution_count": null,
   "metadata": {},
   "outputs": [],
   "source": [
    "#save the labels\n",
    "# file_location = \"/Users/brendancelii/Google Drive/Xaq Lab/Datajoint Project/2_Stitching_Meshes/test_meshes/\"\n",
    "#     labels_file = \"child_mesh_faces.npz\"\n",
    "#     child_faces = np.load(file_location + labels_file)\n",
    "#     labels_list = child_faces[\"faces_list\"]\n",
    "    \n",
    "np.savez(\"./test_labels/\" + str(segment_id) + \"_test_labels.npz\",faces_list=faces_labels)\n",
    "\n",
    "\n"
   ]
  },
  {
   "cell_type": "code",
   "execution_count": null,
   "metadata": {},
   "outputs": [],
   "source": [
    "# #read in the labels \n",
    "\n",
    "# import csv\n",
    "\n",
    "# triangles_labels=[]\n",
    "# labels_file = \"./temp/648518346349482020_fixed-cgal_4_0.30_revised.csv\"\n",
    "# with open(labels_file) as csvfile:\n",
    "#     for i,row in enumerate(csv.reader(csvfile)):\n",
    "#         triangles_labels.append(int(row[0]))\n",
    "\n",
    "# print(triangles_labels)"
   ]
  },
  {
   "cell_type": "code",
   "execution_count": null,
   "metadata": {},
   "outputs": [],
   "source": []
  }
 ],
 "metadata": {
  "kernelspec": {
   "display_name": "Python 3",
   "language": "python",
   "name": "python3"
  },
  "language_info": {
   "codemirror_mode": {
    "name": "ipython",
    "version": 3
   },
   "file_extension": ".py",
   "mimetype": "text/x-python",
   "name": "python",
   "nbconvert_exporter": "python",
   "pygments_lexer": "ipython3",
   "version": "3.6.5"
  }
 },
 "nbformat": 4,
 "nbformat_minor": 2
}
