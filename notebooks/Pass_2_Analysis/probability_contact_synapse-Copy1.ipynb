{
 "cells": [
  {
   "cell_type": "code",
   "execution_count": 1,
   "metadata": {},
   "outputs": [
    {
     "name": "stdout",
     "output_type": "stream",
     "text": [
      "Connecting celiib@10.28.0.34:3306\n"
     ]
    }
   ],
   "source": [
    "import numpy as np\n",
    "import datajoint as dj\n",
    "import trimesh\n",
    "from collections import Counter\n",
    "pinky = dj.create_virtual_module(\"pinky\",\"microns_pinky\")\n",
    "pinky_fc = dj.create_virtual_module(\"pinky_fc|\",\"microns_pinky_fc\")\n",
    "schema = dj.schema(\"microns_pinky\")"
   ]
  },
  {
   "cell_type": "code",
   "execution_count": 2,
   "metadata": {},
   "outputs": [],
   "source": [
    "postsyn_length,n_synapses= pinky.SkeletonContact.fetch(\"postsyn_length\",\"n_synapses\")"
   ]
  },
  {
   "cell_type": "code",
   "execution_count": 3,
   "metadata": {},
   "outputs": [
    {
     "data": {
      "text/plain": [
       "array([3445.86, 5333.98, 9471.47, ..., 7684.1 , 7553.76, 7176.47])"
      ]
     },
     "execution_count": 3,
     "metadata": {},
     "output_type": "execute_result"
    }
   ],
   "source": [
    "postsyn_length"
   ]
  },
  {
   "cell_type": "code",
   "execution_count": 4,
   "metadata": {},
   "outputs": [
    {
     "data": {
      "text/plain": [
       "6801.689445098966"
      ]
     },
     "execution_count": 4,
     "metadata": {},
     "output_type": "execute_result"
    }
   ],
   "source": [
    "np.mean(postsyn_length)"
   ]
  },
  {
   "cell_type": "code",
   "execution_count": 7,
   "metadata": {},
   "outputs": [],
   "source": [
    "import seaborn as sns\n",
    "sns.set()"
   ]
  },
  {
   "cell_type": "code",
   "execution_count": 8,
   "metadata": {},
   "outputs": [
    {
     "data": {
      "text/plain": [
       "<matplotlib.axes._subplots.AxesSubplot at 0x7f24211e6ef0>"
      ]
     },
     "execution_count": 8,
     "metadata": {},
     "output_type": "execute_result"
    },
    {
     "data": {
      "image/png": "[encoded data removed]",
      "text/plain": [
       "<Figure size 432x288 with 1 Axes>"
      ]
     },
     "metadata": {},
     "output_type": "display_data"
    }
   ],
   "source": [
    "sns.distplot(postsyn_length)"
   ]
  },
  {
   "cell_type": "code",
   "execution_count": 5,
   "metadata": {},
   "outputs": [],
   "source": [
    "\n",
    "binary_synapses = (n_synapses>0).astype(\"int\")\n",
    "#binary_synapses = n_synapses\n",
    "more_one_synapse = n_synapses[n_synapses>0]\n",
    "binary_synapses = more_one_synapse"
   ]
  },
  {
   "cell_type": "code",
   "execution_count": 6,
   "metadata": {},
   "outputs": [
    {
     "data": {
      "text/plain": [
       "(325508, 325508)"
      ]
     },
     "execution_count": 6,
     "metadata": {},
     "output_type": "execute_result"
    }
   ],
   "source": [
    "postsyn_length = postsyn_length[n_synapses>0]\n",
    "len(postsyn_length),len(binary_synapses)"
   ]
  },
  {
   "cell_type": "code",
   "execution_count": 7,
   "metadata": {},
   "outputs": [
    {
     "data": {
      "text/plain": [
       "144366.0"
      ]
     },
     "execution_count": 7,
     "metadata": {},
     "output_type": "execute_result"
    }
   ],
   "source": [
    "np.min(postsyn_length)\n",
    "np.max(postsyn_length)"
   ]
  },
  {
   "cell_type": "code",
   "execution_count": 8,
   "metadata": {},
   "outputs": [
    {
     "data": {
      "text/plain": [
       "array([4.11543000e+01, 7.63725144e+03, 1.52333486e+04, 2.28294457e+04,\n",
       "       3.04255429e+04, 3.80216400e+04, 4.56177372e+04, 5.32138343e+04,\n",
       "       6.08099314e+04, 6.84060286e+04, 7.60021257e+04, 8.35982229e+04,\n",
       "       9.11943200e+04, 9.87904171e+04, 1.06386514e+05, 1.13982611e+05,\n",
       "       1.21578709e+05, 1.29174806e+05, 1.36770903e+05, 1.44367000e+05])"
      ]
     },
     "execution_count": 8,
     "metadata": {},
     "output_type": "execute_result"
    }
   ],
   "source": [
    "bins = np.linspace(np.min(postsyn_length),np.max(postsyn_length)+1,20)\n",
    "bins"
   ]
  },
  {
   "cell_type": "code",
   "execution_count": 9,
   "metadata": {},
   "outputs": [
    {
     "data": {
      "text/plain": [
       "144366.0"
      ]
     },
     "execution_count": 9,
     "metadata": {},
     "output_type": "execute_result"
    }
   ],
   "source": [
    "np.max(postsyn_length)"
   ]
  },
  {
   "cell_type": "code",
   "execution_count": 10,
   "metadata": {},
   "outputs": [],
   "source": [
    "equal_depth_bin = []\n",
    "for i in range(0,20):\n",
    "    equal_depth_bin.append(np.percentile(postsyn_length,i/20*100))\n",
    "equal_depth_bin.append(np.max(postsyn_length)+1)\n",
    "bins = equal_depth_bin"
   ]
  },
  {
   "cell_type": "code",
   "execution_count": 11,
   "metadata": {},
   "outputs": [],
   "source": [
    "inds = np.digitize(postsyn_length, bins)\n",
    "inds_counter = Counter(inds)"
   ]
  },
  {
   "cell_type": "code",
   "execution_count": 12,
   "metadata": {},
   "outputs": [],
   "source": [
    "ind_list = list(inds_counter.keys())"
   ]
  },
  {
   "cell_type": "code",
   "execution_count": 13,
   "metadata": {},
   "outputs": [],
   "source": [
    "probability_synapse = dict()\n",
    "probability_length = dict()\n",
    "indicies_list = []\n",
    "for i in range(1,20):\n",
    "    indicies_list.append(i)\n",
    "    #get the number of segments in that length\n",
    "    number_of_segments = inds_counter[i]\n",
    "    number_of_binary_synapses = np.sum(binary_synapses[inds == i])\n",
    "    probability_synapse[i] = number_of_binary_synapses/number_of_segments\n",
    "    probability_length[i] = number_of_segments\n"
   ]
  },
  {
   "cell_type": "code",
   "execution_count": 14,
   "metadata": {},
   "outputs": [
    {
     "data": {
      "text/plain": [
       "{1: 1.0195379700172031,\n",
       " 2: 1.0288786482334868,\n",
       " 3: 1.0313344802162694,\n",
       " 4: 1.0352073732718894,\n",
       " 5: 1.0337962394002704,\n",
       " 6: 1.0355102291577072,\n",
       " 7: 1.0332411674347157,\n",
       " 8: 1.0353917050691244,\n",
       " 9: 1.0410420250675843,\n",
       " 10: 1.0455913978494624,\n",
       " 11: 1.05247311827957,\n",
       " 12: 1.060702875399361,\n",
       " 13: 1.06624062922453,\n",
       " 14: 1.0765591397849463,\n",
       " 15: 1.0847822080235916,\n",
       " 16: 1.098869362172791,\n",
       " 17: 1.1137257311378717,\n",
       " 18: 1.1406365200294912,\n",
       " 19: 1.178678955453149}"
      ]
     },
     "execution_count": 14,
     "metadata": {},
     "output_type": "execute_result"
    }
   ],
   "source": [
    "probability_synapse"
   ]
  },
  {
   "cell_type": "code",
   "execution_count": 15,
   "metadata": {},
   "outputs": [],
   "source": [
    "indicies_list\n",
    "keys_prob = probability_synapse.keys()\n",
    "values_prob = probability_synapse.values()\n"
   ]
  },
  {
   "cell_type": "code",
   "execution_count": 17,
   "metadata": {},
   "outputs": [],
   "source": [
    "indicies_list\n",
    "import matplotlib.pyplot as plt"
   ]
  },
  {
   "cell_type": "code",
   "execution_count": 22,
   "metadata": {},
   "outputs": [
    {
     "data": {
      "text/plain": [
       "Text(0.5, 0, 'Postysyn Length Bin')"
      ]
     },
     "execution_count": 22,
     "metadata": {},
     "output_type": "execute_result"
    },
    {
     "data": {
      "image/png": "[encoded data removed]",
      "text/plain": [
       "<Figure size 432x288 with 1 Axes>"
      ]
     },
     "metadata": {
      "needs_background": "light"
     },
     "output_type": "display_data"
    }
   ],
   "source": [
    "\n",
    "plt.scatter(keys_prob,values_prob)\n",
    "plt.title(\"Average Number of Synapse Probability (for neurons with >=1 synapses) \\n vs. Postsyn Contact Length Bin\")\n",
    "plt.ylabel(\"Average Probability\")\n",
    "plt.xlabel(\"Postysyn Length Bin\")"
   ]
  },
  {
   "cell_type": "code",
   "execution_count": 49,
   "metadata": {},
   "outputs": [],
   "source": [
    "indicies_list\n",
    "keys_prob = probability_length.keys()\n",
    "values_prob = probability_length.values()\n"
   ]
  },
  {
   "cell_type": "code",
   "execution_count": 52,
   "metadata": {},
   "outputs": [
    {
     "data": {
      "text/plain": [
       "dict_values([4483818, 921861, 132743, 30165, 8188, 2458, 840, 295, 131, 52, 22, 11, 8, 4, 0, 2, 1, 0, 1])"
      ]
     },
     "execution_count": 52,
     "metadata": {},
     "output_type": "execute_result"
    }
   ],
   "source": [
    "values_prob\n"
   ]
  },
  {
   "cell_type": "code",
   "execution_count": 71,
   "metadata": {},
   "outputs": [
    {
     "data": {
      "text/html": [
       "\n",
       "        \n",
       "        <style type=\"text/css\">\n",
       "            .Relation{\n",
       "                border-collapse:collapse;\n",
       "            }\n",
       "            .Relation th{\n",
       "                background: #A0A0A0; color: #ffffff; padding:4px; border:#f0e0e0 1px solid;\n",
       "                font-weight: normal; font-family: monospace; font-size: 100%;\n",
       "            }\n",
       "            .Relation td{\n",
       "                padding:4px; border:#f0e0e0 1px solid; font-size:100%;\n",
       "            }\n",
       "            .Relation tr:nth-child(odd){\n",
       "                background: #ffffff;\n",
       "            }\n",
       "            .Relation tr:nth-child(even){\n",
       "                background: #f3f1ff;\n",
       "            }\n",
       "            /* Tooltip container */\n",
       "            .djtooltip {\n",
       "            }\n",
       "            /* Tooltip text */\n",
       "            .djtooltip .djtooltiptext {\n",
       "                visibility: hidden;\n",
       "                width: 120px;\n",
       "                background-color: black;\n",
       "                color: #fff;\n",
       "                text-align: center;\n",
       "                padding: 5px 0;\n",
       "                border-radius: 6px;\n",
       "                /* Position the tooltip text - see examples below! */\n",
       "                position: absolute;\n",
       "                z-index: 1;\n",
       "            }\n",
       "            #primary {\n",
       "                font-weight: bold;\n",
       "                color: black;\n",
       "            }\n",
       "\n",
       "            #nonprimary {\n",
       "                font-weight: normal;\n",
       "                color: white;\n",
       "            }\n",
       "\n",
       "            /* Show the tooltip text when you mouse over the tooltip container */\n",
       "            .djtooltip:hover .djtooltiptext {\n",
       "                visibility: visible;\n",
       "            }\n",
       "        </style>\n",
       "        \n",
       "        <b></b>\n",
       "            <div style=\"max-height:1000px;max-width:1500px;overflow:auto;\">\n",
       "            <table border=\"1\" class=\"Relation\">\n",
       "                <thead> <tr style=\"text-align: right;\"> <th> <div class=\"djtooltip\">\n",
       "                                <p id=\"primary\">segmentation</p>\n",
       "                                <span class=\"djtooltiptext\">segmentation id</span>\n",
       "                            </div></th><th><div class=\"djtooltip\">\n",
       "                                <p id=\"primary\">contact_id</p>\n",
       "                                <span class=\"djtooltiptext\"></span>\n",
       "                            </div></th><th><div class=\"djtooltip\">\n",
       "                                <p id=\"nonprimary\">presyn</p>\n",
       "                                <span class=\"djtooltiptext\">segment id unique within each Segmentation</span>\n",
       "                            </div></th><th><div class=\"djtooltip\">\n",
       "                                <p id=\"nonprimary\">postsyn</p>\n",
       "                                <span class=\"djtooltiptext\">segment id unique within each Segmentation</span>\n",
       "                            </div></th><th><div class=\"djtooltip\">\n",
       "                                <p id=\"nonprimary\">contact_x</p>\n",
       "                                <span class=\"djtooltiptext\"></span>\n",
       "                            </div></th><th><div class=\"djtooltip\">\n",
       "                                <p id=\"nonprimary\">contact_y</p>\n",
       "                                <span class=\"djtooltiptext\"></span>\n",
       "                            </div></th><th><div class=\"djtooltip\">\n",
       "                                <p id=\"nonprimary\">contact_z</p>\n",
       "                                <span class=\"djtooltiptext\"></span>\n",
       "                            </div></th><th><div class=\"djtooltip\">\n",
       "                                <p id=\"nonprimary\">presyn_length</p>\n",
       "                                <span class=\"djtooltiptext\"></span>\n",
       "                            </div></th><th><div class=\"djtooltip\">\n",
       "                                <p id=\"nonprimary\">postsyn_length</p>\n",
       "                                <span class=\"djtooltiptext\"></span>\n",
       "                            </div></th><th><div class=\"djtooltip\">\n",
       "                                <p id=\"nonprimary\">n_synapses</p>\n",
       "                                <span class=\"djtooltiptext\"></span>\n",
       "                            </div></th><th><div class=\"djtooltip\">\n",
       "                                <p id=\"nonprimary\">synapse_sizes_mean</p>\n",
       "                                <span class=\"djtooltiptext\"></span>\n",
       "                            </div></th><th><div class=\"djtooltip\">\n",
       "                                <p id=\"nonprimary\">majority_label</p>\n",
       "                                <span class=\"djtooltiptext\"></span>\n",
       "                            </div></th><th><div class=\"djtooltip\">\n",
       "                                <p id=\"nonprimary\">majority_label_ratio</p>\n",
       "                                <span class=\"djtooltiptext\"></span>\n",
       "                            </div> </th> </tr> </thead>\n",
       "                <tbody> <tr> <td>3</td>\n",
       "<td>0</td>\n",
       "<td>648518346341351467</td>\n",
       "<td>648518346341376363</td>\n",
       "<td>213252</td>\n",
       "<td>259562</td>\n",
       "<td>52565</td>\n",
       "<td>3962.03</td>\n",
       "<td>3445.86</td>\n",
       "<td>0</td>\n",
       "<td>0.0</td>\n",
       "<td>8</td>\n",
       "<td>1.0</td></tr><tr><td>3</td>\n",
       "<td>1</td>\n",
       "<td>648518346341351467</td>\n",
       "<td>648518346341382069</td>\n",
       "<td>230254</td>\n",
       "<td>192358</td>\n",
       "<td>48611</td>\n",
       "<td>1786.24</td>\n",
       "<td>5333.98</td>\n",
       "<td>0</td>\n",
       "<td>0.0</td>\n",
       "<td>8</td>\n",
       "<td>1.0</td></tr><tr><td>3</td>\n",
       "<td>2</td>\n",
       "<td>648518346341351467</td>\n",
       "<td>648518346341382445</td>\n",
       "<td>207389</td>\n",
       "<td>223918</td>\n",
       "<td>58435</td>\n",
       "<td>10160.4</td>\n",
       "<td>9471.47</td>\n",
       "<td>0</td>\n",
       "<td>0.0</td>\n",
       "<td>8</td>\n",
       "<td>1.0</td></tr><tr><td>3</td>\n",
       "<td>3</td>\n",
       "<td>648518346341351467</td>\n",
       "<td>648518346341382445</td>\n",
       "<td>209425</td>\n",
       "<td>235416</td>\n",
       "<td>63081</td>\n",
       "<td>1440.43</td>\n",
       "<td>1911.07</td>\n",
       "<td>0</td>\n",
       "<td>0.0</td>\n",
       "<td>8</td>\n",
       "<td>1.0</td></tr><tr><td>3</td>\n",
       "<td>4</td>\n",
       "<td>648518346341351467</td>\n",
       "<td>648518346341382445</td>\n",
       "<td>211683</td>\n",
       "<td>245770</td>\n",
       "<td>66945</td>\n",
       "<td>22180.2</td>\n",
       "<td>19708.8</td>\n",
       "<td>0</td>\n",
       "<td>0.0</td>\n",
       "<td>8</td>\n",
       "<td>1.0</td></tr><tr><td>3</td>\n",
       "<td>5</td>\n",
       "<td>648518346341351467</td>\n",
       "<td>648518346341385331</td>\n",
       "<td>225607</td>\n",
       "<td>267972</td>\n",
       "<td>76022</td>\n",
       "<td>6403.25</td>\n",
       "<td>6135.18</td>\n",
       "<td>0</td>\n",
       "<td>0.0</td>\n",
       "<td>8</td>\n",
       "<td>1.0</td></tr><tr><td>3</td>\n",
       "<td>6</td>\n",
       "<td>648518346341351467</td>\n",
       "<td>648518346341401564</td>\n",
       "<td>228597</td>\n",
       "<td>194911</td>\n",
       "<td>53377</td>\n",
       "<td>2715.79</td>\n",
       "<td>2920.31</td>\n",
       "<td>0</td>\n",
       "<td>0.0</td>\n",
       "<td>8</td>\n",
       "<td>1.0</td></tr><tr><td>3</td>\n",
       "<td>7</td>\n",
       "<td>648518346341351467</td>\n",
       "<td>648518346341411405</td>\n",
       "<td>226404</td>\n",
       "<td>201911</td>\n",
       "<td>61696</td>\n",
       "<td>3026.8</td>\n",
       "<td>6586.38</td>\n",
       "<td>1</td>\n",
       "<td>1507.0</td>\n",
       "<td>8</td>\n",
       "<td>1.0</td></tr><tr><td>3</td>\n",
       "<td>8</td>\n",
       "<td>648518346341351467</td>\n",
       "<td>648518346344420099</td>\n",
       "<td>225592</td>\n",
       "<td>197864</td>\n",
       "<td>60522</td>\n",
       "<td>9282.62</td>\n",
       "<td>7208.36</td>\n",
       "<td>0</td>\n",
       "<td>0.0</td>\n",
       "<td>8</td>\n",
       "<td>1.0</td></tr><tr><td>3</td>\n",
       "<td>9</td>\n",
       "<td>648518346341351467</td>\n",
       "<td>648518346344465416</td>\n",
       "<td>201048</td>\n",
       "<td>214398</td>\n",
       "<td>69602</td>\n",
       "<td>4269.58</td>\n",
       "<td>4297.66</td>\n",
       "<td>0</td>\n",
       "<td>0.0</td>\n",
       "<td>8</td>\n",
       "<td>1.0</td></tr><tr><td>3</td>\n",
       "<td>10</td>\n",
       "<td>648518346341351467</td>\n",
       "<td>648518346344515629</td>\n",
       "<td>226403</td>\n",
       "<td>197281</td>\n",
       "<td>60219</td>\n",
       "<td>6893.57</td>\n",
       "<td>6287.72</td>\n",
       "<td>0</td>\n",
       "<td>0.0</td>\n",
       "<td>8</td>\n",
       "<td>1.0</td></tr><tr><td>3</td>\n",
       "<td>11</td>\n",
       "<td>648518346341351467</td>\n",
       "<td>648518346349471562</td>\n",
       "<td>230049</td>\n",
       "<td>275275</td>\n",
       "<td>78075</td>\n",
       "<td>22848.5</td>\n",
       "<td>25734.3</td>\n",
       "<td>0</td>\n",
       "<td>0.0</td>\n",
       "<td>6</td>\n",
       "<td>1.0</td> </tr> </tbody>\n",
       "            </table>\n",
       "            <p>...</p>\n",
       "            <p>Total: 5580600</p></div>\n",
       "            "
      ],
      "text/plain": [
       "*segmentation  *contact_id    presyn         postsyn        contact_x     contact_y     contact_z     presyn_length  postsyn_length n_synapses     synapse_sizes_ majority_label majority_label\n",
       "+------------+ +------------+ +------------+ +------------+ +-----------+ +-----------+ +-----------+ +------------+ +------------+ +------------+ +------------+ +------------+ +------------+\n",
       "3              0              64851834634135 64851834634137 213252        259562        52565         3962.03        3445.86        0              0.0            8              1.0           \n",
       "3              1              64851834634135 64851834634138 230254        192358        48611         1786.24        5333.98        0              0.0            8              1.0           \n",
       "3              2              64851834634135 64851834634138 207389        223918        58435         10160.4        9471.47        0              0.0            8              1.0           \n",
       "3              3              64851834634135 64851834634138 209425        235416        63081         1440.43        1911.07        0              0.0            8              1.0           \n",
       "3              4              64851834634135 64851834634138 211683        245770        66945         22180.2        19708.8        0              0.0            8              1.0           \n",
       "3              5              64851834634135 64851834634138 225607        267972        76022         6403.25        6135.18        0              0.0            8              1.0           \n",
       "3              6              64851834634135 64851834634140 228597        194911        53377         2715.79        2920.31        0              0.0            8              1.0           \n",
       "3              7              64851834634135 64851834634141 226404        201911        61696         3026.8         6586.38        1              1507.0         8              1.0           \n",
       "3              8              64851834634135 64851834634442 225592        197864        60522         9282.62        7208.36        0              0.0            8              1.0           \n",
       "3              9              64851834634135 64851834634446 201048        214398        69602         4269.58        4297.66        0              0.0            8              1.0           \n",
       "3              10             64851834634135 64851834634451 226403        197281        60219         6893.57        6287.72        0              0.0            8              1.0           \n",
       "3              11             64851834634135 64851834634947 230049        275275        78075         22848.5        25734.3        0              0.0            6              1.0           \n",
       "   ...\n",
       " (Total: 5580600)"
      ]
     },
     "execution_count": 71,
     "metadata": {},
     "output_type": "execute_result"
    }
   ],
   "source": [
    "# doing synapse density\n",
    "pinky.SkeletonContact()"
   ]
  },
  {
   "cell_type": "code",
   "execution_count": null,
   "metadata": {},
   "outputs": [],
   "source": []
  }
 ],
 "metadata": {
  "kernelspec": {
   "display_name": "Python 3",
   "language": "python",
   "name": "python3"
  },
  "language_info": {
   "codemirror_mode": {
    "name": "ipython",
    "version": 3
   },
   "file_extension": ".py",
   "mimetype": "text/x-python",
   "name": "python",
   "nbconvert_exporter": "python",
   "pygments_lexer": "ipython3",
   "version": "3.6.8"
  }
 },
 "nbformat": 4,
 "nbformat_minor": 4
}
