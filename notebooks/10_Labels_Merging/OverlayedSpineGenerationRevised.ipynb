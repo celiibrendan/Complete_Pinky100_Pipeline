{
 "cells": [
  {
   "cell_type": "code",
   "execution_count": null,
   "metadata": {},
   "outputs": [],
   "source": [
    "\"\"\"\n",
    "Fixing the error where didn't import the Dendrites for Spine Overlaying with this table\n",
    "Was missing from the list so added it and reran so there will be spine data for dendrites\n",
    "\n",
    "\n",
    "\"\"\""
   ]
  },
  {
   "cell_type": "code",
   "execution_count": 1,
   "metadata": {},
   "outputs": [],
   "source": [
    "import datajoint as dj\n",
    "import numpy as np\n",
    "import time"
   ]
  },
  {
   "cell_type": "code",
   "execution_count": 2,
   "metadata": {},
   "outputs": [
    {
     "name": "stdout",
     "output_type": "stream",
     "text": [
      "Connecting celiib@10.28.0.34:3306\n"
     ]
    }
   ],
   "source": [
    "schema = dj.schema('microns_ta3p100')\n",
    "ta3p100 = dj.create_virtual_module('ta3p100', 'microns_ta3p100')"
   ]
  },
  {
   "cell_type": "code",
   "execution_count": 4,
   "metadata": {},
   "outputs": [
    {
     "data": {
      "text/html": [
       "\n",
       "        \n",
       "        <style type=\"text/css\">\n",
       "            .Relation{\n",
       "                border-collapse:collapse;\n",
       "            }\n",
       "            .Relation th{\n",
       "                background: #A0A0A0; color: #ffffff; padding:4px; border:#f0e0e0 1px solid;\n",
       "                font-weight: normal; font-family: monospace; font-size: 100%;\n",
       "            }\n",
       "            .Relation td{\n",
       "                padding:4px; border:#f0e0e0 1px solid; font-size:100%;\n",
       "            }\n",
       "            .Relation tr:nth-child(odd){\n",
       "                background: #ffffff;\n",
       "            }\n",
       "            .Relation tr:nth-child(even){\n",
       "                background: #f3f1ff;\n",
       "            }\n",
       "            /* Tooltip container */\n",
       "            .djtooltip {\n",
       "            }\n",
       "            /* Tooltip text */\n",
       "            .djtooltip .djtooltiptext {\n",
       "                visibility: hidden;\n",
       "                width: 120px;\n",
       "                background-color: black;\n",
       "                color: #fff;\n",
       "                text-align: center;\n",
       "                padding: 5px 0;\n",
       "                border-radius: 6px;\n",
       "                /* Position the tooltip text - see examples below! */\n",
       "                position: absolute;\n",
       "                z-index: 1;\n",
       "            }\n",
       "            #primary {\n",
       "                font-weight: bold;\n",
       "                color: black;\n",
       "            }\n",
       "\n",
       "            #nonprimary {\n",
       "                font-weight: normal;\n",
       "                color: white;\n",
       "            }\n",
       "\n",
       "            /* Show the tooltip text when you mouse over the tooltip container */\n",
       "            .djtooltip:hover .djtooltiptext {\n",
       "                visibility: visible;\n",
       "            }\n",
       "        </style>\n",
       "        \n",
       "        <b></b>\n",
       "            <div style=\"max-height:1000px;max-width:1500px;overflow:auto;\">\n",
       "            <table border=\"1\" class=\"Relation\">\n",
       "                <thead> <tr style=\"text-align: right;\"> <th> <div class=\"djtooltip\">\n",
       "                                <p id=\"primary\">segmentation</p>\n",
       "                                <span class=\"djtooltiptext\">segmentation id</span>\n",
       "                            </div></th><th><div class=\"djtooltip\">\n",
       "                                <p id=\"primary\">segment_id</p>\n",
       "                                <span class=\"djtooltiptext\">segment id unique within each Segmentation</span>\n",
       "                            </div></th><th><div class=\"djtooltip\">\n",
       "                                <p id=\"primary\">decimation_ratio</p>\n",
       "                                <span class=\"djtooltiptext\"></span>\n",
       "                            </div></th><th><div class=\"djtooltip\">\n",
       "                                <p id=\"primary\">compartment_type</p>\n",
       "                                <span class=\"djtooltiptext\">Basal, Apical, spine head, etc.</span>\n",
       "                            </div></th><th><div class=\"djtooltip\">\n",
       "                                <p id=\"primary\">component_index</p>\n",
       "                                <span class=\"djtooltiptext\">Which sub-compartment of a certain label this is.</span>\n",
       "                            </div></th><th><div class=\"djtooltip\">\n",
       "                                <p id=\"nonprimary\">n_vertex_indices</p>\n",
       "                                <span class=\"djtooltiptext\"></span>\n",
       "                            </div></th><th><div class=\"djtooltip\">\n",
       "                                <p id=\"nonprimary\">n_triangle_indices</p>\n",
       "                                <span class=\"djtooltiptext\"></span>\n",
       "                            </div></th><th><div class=\"djtooltip\">\n",
       "                                <p id=\"nonprimary\">vertex_indices</p>\n",
       "                                <span class=\"djtooltiptext\">preserved indices of each vertex of this sub-compartment</span>\n",
       "                            </div></th><th><div class=\"djtooltip\">\n",
       "                                <p id=\"nonprimary\">triangle_indices</p>\n",
       "                                <span class=\"djtooltiptext\">preserved indices of each triangle of this sub-compartment</span>\n",
       "                            </div> </th> </tr> </thead>\n",
       "                <tbody> <tr> <td>2</td>\n",
       "<td>648518346341366885</td>\n",
       "<td>0.35</td>\n",
       "<td>Apical</td>\n",
       "<td>0</td>\n",
       "<td>160393</td>\n",
       "<td>319781</td>\n",
       "<td>=BLOB=</td>\n",
       "<td>=BLOB=</td></tr><tr><td>2</td>\n",
       "<td>648518346341366885</td>\n",
       "<td>0.35</td>\n",
       "<td>Apical</td>\n",
       "<td>1</td>\n",
       "<td>40</td>\n",
       "<td>73</td>\n",
       "<td>=BLOB=</td>\n",
       "<td>=BLOB=</td></tr><tr><td>2</td>\n",
       "<td>648518346341366885</td>\n",
       "<td>0.35</td>\n",
       "<td>Basal</td>\n",
       "<td>0</td>\n",
       "<td>55172</td>\n",
       "<td>110092</td>\n",
       "<td>=BLOB=</td>\n",
       "<td>=BLOB=</td></tr><tr><td>2</td>\n",
       "<td>648518346341366885</td>\n",
       "<td>0.35</td>\n",
       "<td>Basal</td>\n",
       "<td>1</td>\n",
       "<td>92</td>\n",
       "<td>172</td>\n",
       "<td>=BLOB=</td>\n",
       "<td>=BLOB=</td></tr><tr><td>2</td>\n",
       "<td>648518346341366885</td>\n",
       "<td>0.35</td>\n",
       "<td>Basal</td>\n",
       "<td>2</td>\n",
       "<td>10</td>\n",
       "<td>12</td>\n",
       "<td>=BLOB=</td>\n",
       "<td>=BLOB=</td></tr><tr><td>2</td>\n",
       "<td>648518346341366885</td>\n",
       "<td>0.35</td>\n",
       "<td>Basal</td>\n",
       "<td>3</td>\n",
       "<td>276</td>\n",
       "<td>539</td>\n",
       "<td>=BLOB=</td>\n",
       "<td>=BLOB=</td></tr><tr><td>2</td>\n",
       "<td>648518346341366885</td>\n",
       "<td>0.35</td>\n",
       "<td>Error</td>\n",
       "<td>0</td>\n",
       "<td>9385</td>\n",
       "<td>18694</td>\n",
       "<td>=BLOB=</td>\n",
       "<td>=BLOB=</td> </tr> </tbody>\n",
       "            </table>\n",
       "            <p>...</p>\n",
       "            <p>4224 tuples</p></div>\n",
       "            "
      ],
      "text/plain": [
       "*segmentation  *segment_id    *decimation_ra *compartment_t *component_ind n_vertex_indic n_triangle_ind vertex_ind triangle_i\n",
       "+------------+ +------------+ +------------+ +------------+ +------------+ +------------+ +------------+ +--------+ +--------+\n",
       "2              64851834634136 0.35           Apical         0              160393         319781         =BLOB=     =BLOB=    \n",
       "2              64851834634136 0.35           Apical         1              40             73             =BLOB=     =BLOB=    \n",
       "2              64851834634136 0.35           Basal          0              55172          110092         =BLOB=     =BLOB=    \n",
       "2              64851834634136 0.35           Basal          1              92             172            =BLOB=     =BLOB=    \n",
       "2              64851834634136 0.35           Basal          2              10             12             =BLOB=     =BLOB=    \n",
       "2              64851834634136 0.35           Basal          3              276            539            =BLOB=     =BLOB=    \n",
       "2              64851834634136 0.35           Error          0              9385           18694          =BLOB=     =BLOB=    \n",
       "   ...\n",
       " (4224 tuples)"
      ]
     },
     "execution_count": 4,
     "metadata": {},
     "output_type": "execute_result"
    }
   ],
   "source": [
    "ta3p100.CompartmentFinal.ComponentFinal()"
   ]
  },
  {
   "cell_type": "code",
   "execution_count": 3,
   "metadata": {
    "collapsed": true
   },
   "outputs": [],
   "source": [
    "#dj.ERD(ta3p100)"
   ]
  },
  {
   "cell_type": "code",
   "execution_count": 4,
   "metadata": {},
   "outputs": [],
   "source": [
    "@schema\n",
    "class OverlayedSpineLabelFinalRevised(dj.Computed):\n",
    "    definition = \"\"\"\n",
    "    # Segment labels with Spine labels overlayed (replacing) normal component labels.\n",
    "    -> ta3p100.CompartmentFinal\n",
    "    ---\n",
    "    vertices             : longblob                     \n",
    "    triangles            : longblob  \n",
    "    \"\"\""
   ]
  },
  {
   "cell_type": "code",
   "execution_count": 5,
   "metadata": {},
   "outputs": [],
   "source": [
    "dj.config['display.limit'] = 15"
   ]
  },
  {
   "cell_type": "code",
   "execution_count": 6,
   "metadata": {},
   "outputs": [
    {
     "name": "stdout",
     "output_type": "stream",
     "text": [
      "# Segment labels with Spine labels overlayed (replacing) normal component labels.\n",
      "-> ta3p100.CompartmentFinal\n",
      "---\n",
      "vertices             : longblob                     \n",
      "triangles            : longblob                     \n",
      "\n"
     ]
    }
   ],
   "source": [
    "#####Need to rerun after 2/20/18 when caught error#####\n",
    "@schema\n",
    "class OverlayedSpineLabelFinalRevised(dj.Computed):\n",
    "    definition = ta3p100.OverlayedSpineLabelFinal.describe()\n",
    "    \n",
    "    def make(self, key):\n",
    "#         print(key['segment_id'])\n",
    "#         start = time.time()\n",
    "        \n",
    "        corrected_labels = (ta3p100.CoarseLabelFinal & key).fetch1()\n",
    "        \n",
    "        compartment_key = dict(segmentation=key['segmentation'], segment_id=key['segment_id'], decimation_ratio=0.35)\n",
    "        components = (ta3p100.CompartmentFinal.ComponentFinal & compartment_key\n",
    "                      & [dict(compartment_type=compartment) for compartment in [\"Apical\", \"Oblique\", \"Basal\",\"Dendrite\"]]).fetch()\n",
    "        \n",
    "        non_existence_count = 0\n",
    "        component_spine_match = []\n",
    "        for component in components:\n",
    "            component_key = dict(compartment_key, compartment_type=component[3], component_index=component[4])\n",
    "            try:\n",
    "                component_labels = (ta3p100.ComponentLabelFinal & component_key).fetch()\n",
    "                #will get the number of heads \n",
    "                n_heads = list(zip(*component_labels))[12]\n",
    "#                 min_n_heads = np.min(n_heads)\n",
    "#                 index_supposed_best_fit = np.where(n_heads==min_n_heads)[0][0]#[-1]\n",
    "#                 component_spine_match.append((component, list(component_labels[index_supposed_best_fit])[8:12]))\n",
    "                component_spine_match.append((component, list(component_labels[0])[8:12]))\n",
    "            except:\n",
    "                non_existence_count += 1\n",
    "                pass\n",
    "#         print(f\"{non_existence_count} components did not have spine data.\")\n",
    "        for match in component_spine_match:\n",
    "            if not np.array_equal(list(match[0])[5:7], list(match[1])[:2]):\n",
    "                print(\"Ruh-roh the sizes of the component and component_label array don't match.\")\n",
    "        \n",
    "        corrected_vertex_labels = corrected_labels['vertices']\n",
    "        corrected_triangle_labels = corrected_labels['triangles']\n",
    "\n",
    "        new_complete_vertex_labels = corrected_vertex_labels.copy()\n",
    "        for match in component_spine_match:\n",
    "            vertex_indices = match[0][7]\n",
    "            spine_vertex_labels = match[1][2].astype(np.uint8)\n",
    "            overlayed_vertex_labels = np.array([corrected_vertex_labels[vertex_indices], spine_vertex_labels]).max(axis=0)\n",
    "            new_complete_vertex_labels[vertex_indices] = overlayed_vertex_labels\n",
    "\n",
    "        new_complete_triangle_labels = corrected_triangle_labels.copy()\n",
    "        for match in component_spine_match:\n",
    "            triangle_indices = match[0][8]\n",
    "            spine_triangle_labels = match[1][3].astype(np.uint8)\n",
    "            overlayed_triangle_labels = np.array([corrected_triangle_labels[triangle_indices], spine_triangle_labels]).max(axis=0)\n",
    "            new_complete_triangle_labels[triangle_indices] = overlayed_triangle_labels\n",
    "        \n",
    "        self.insert1(dict(key,\n",
    "                          vertices=new_complete_vertex_labels,\n",
    "                          triangles=new_complete_triangle_labels))\n",
    "        \n",
    "#         print(time.time() - start, \"\\n\")"
   ]
  },
  {
   "cell_type": "code",
   "execution_count": 7,
   "metadata": {},
   "outputs": [
    {
     "name": "stdout",
     "output_type": "stream",
     "text": [
      "154.78738808631897\n"
     ]
    }
   ],
   "source": [
    "start = time.time()\n",
    "OverlayedSpineLabelFinalRevised.populate()\n",
    "print(time.time() - start)"
   ]
  },
  {
   "cell_type": "code",
   "execution_count": null,
   "metadata": {},
   "outputs": [],
   "source": [
    "ta3p100.OverlayedSpineLabelFinal()"
   ]
  }
 ],
 "metadata": {
  "kernelspec": {
   "display_name": "Python 3",
   "language": "python",
   "name": "python3"
  },
  "language_info": {
   "codemirror_mode": {
    "name": "ipython",
    "version": 3
   },
   "file_extension": ".py",
   "mimetype": "text/x-python",
   "name": "python",
   "nbconvert_exporter": "python",
   "pygments_lexer": "ipython3",
   "version": "3.6.5"
  }
 },
 "nbformat": 4,
 "nbformat_minor": 2
}
