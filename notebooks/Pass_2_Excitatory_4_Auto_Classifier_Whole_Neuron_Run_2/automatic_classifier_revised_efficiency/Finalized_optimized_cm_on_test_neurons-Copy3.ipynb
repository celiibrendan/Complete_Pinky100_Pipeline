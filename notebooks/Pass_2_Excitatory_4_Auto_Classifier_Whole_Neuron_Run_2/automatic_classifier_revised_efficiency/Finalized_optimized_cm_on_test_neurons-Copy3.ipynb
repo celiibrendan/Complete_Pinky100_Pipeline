{
 "cells": [
  {
   "cell_type": "code",
   "execution_count": 1,
   "metadata": {},
   "outputs": [
    {
     "data": {
      "text/plain": [
       "'\\nPurpose:\\nNow that have fully optimmized classifier, want to run it on test neurons to make sure runs all the way through\\non a couple before I deploy it to Kubernetes\\n'"
      ]
     },
     "execution_count": 1,
     "metadata": {},
     "output_type": "execute_result"
    }
   ],
   "source": [
    "\"\"\"\n",
    "Purpose:\n",
    "Now that have fully optimmized classifier, want to run it on test neurons to make sure runs all the way through\n",
    "on a couple before I deploy it to Kubernetes\n",
    "\"\"\""
   ]
  },
  {
   "cell_type": "markdown",
   "metadata": {},
   "source": [
    "# Generating the Labels for each of the test neurons"
   ]
  },
  {
   "cell_type": "code",
   "execution_count": 2,
   "metadata": {},
   "outputs": [],
   "source": [
    "from OPTIMIZED_whole_neuron_classifier_datajoint_adapted import extract_branches_whole_neuron as op_extract\n",
    "from whole_neuron_classifier_datajoint_adapted import extract_branches_whole_neuron as unop_extract\n",
    "import datajoint as dj\n",
    "import numpy as np\n",
    "import datajoint as dj\n",
    "import trimesh\n",
    "import time\n",
    "\n",
    "dj.config[\"database.host\"] = \"10.28.0.34\"\n",
    "dj.config[\"database.user\"] = \"celiib\"\n",
    "dj.config[\"database.password\"] = \"newceliipass\"\n",
    "dj.config[\"safemode\"] = True\n",
    "dj.config[\"display.limit\"] = 20"
   ]
  },
  {
   "cell_type": "code",
   "execution_count": 3,
   "metadata": {},
   "outputs": [
    {
     "name": "stdout",
     "output_type": "stream",
     "text": [
      "Connecting celiib@10.28.0.34:3306\n"
     ]
    }
   ],
   "source": [
    "pinky = dj.create_virtual_module(\"pinky\",\"microns_pinky\")\n",
    "schema = dj.schema(\"microns_pinky\")"
   ]
  },
  {
   "cell_type": "code",
   "execution_count": 4,
   "metadata": {},
   "outputs": [],
   "source": [
    "key = dict(segmentation=3,segment_id=648518346349471910)\n",
    "#key = dict(segmentation=3,segment_id=648518346349475536)\n",
    "\n",
    "\n",
    "missing_apical_ids = [648518346349478700,648518346349485870]\n",
    "not_missing_apicals = [648518346349473813,648518346349475510,648518346349473597] #but both have apicals\n",
    "total_ids_to_test = missing_apical_ids + not_missing_apicals"
   ]
  },
  {
   "cell_type": "code",
   "execution_count": 5,
   "metadata": {},
   "outputs": [],
   "source": [
    "#make the current key to use\n",
    "index = 3\n",
    "key = dict(segmentation=3,segment_id=total_ids_to_test[index])"
   ]
  },
  {
   "cell_type": "code",
   "execution_count": null,
   "metadata": {},
   "outputs": [],
   "source": [
    "\"\"\" Do the labels from theh older version \"\"\"\n",
    "start_time = time.time()\n",
    "\n",
    "print(\"\\n\\n*****Starting Auto Labeling for \" + str(key[\"segment_id\"]) + \"******\")\n",
    "\n",
    "segment_id = key[\"segment_id\"]\n",
    "\n",
    "#get the vertices and faces from datajoint\n",
    "# get the newly stitched mesh\n",
    "# get the original mesh\n",
    "\n",
    "\n",
    "verts,faces = (pinky.PymeshfixDecimatedExcitatoryStitchedMesh() & key).fetch1(\"vertices\",\"triangles\")\n",
    "\n",
    "cgal_location = \"/notebooks/Pass_2_Excitatory_4_Auto_Classifier_Whole_Neuron_Run_2/automatic_classifier_revised_efficiency/temp/\"\n",
    "cgal_file_sdf = str(key[\"segment_id\"]) + \"_fixed-cgal_3_0.20_sdf.csv\"\n",
    "cgal_file_seg = str(key[\"segment_id\"]) + \"_fixed-cgal_3_0.20.csv\"\n",
    "\n",
    "#run the whole algorithm on the neuron to test\n",
    "verts_labels, faces_labels = unop_extract(import_Off_Flag=False,segment_id=segment_id,vertices=verts,\n",
    "                     triangles=faces,pymeshfix_Flag=False,\n",
    "                     import_CGAL_Flag=True,\n",
    "                     import_CGAL_paths = [cgal_location + cgal_file_seg,\n",
    "                                         cgal_location + cgal_file_sdf],\n",
    "                     return_Only_Labels=True,\n",
    "                     clusters=3,\n",
    "                     smoothness=0.2)\n",
    "\n",
    "print(f\"Finished Auto Labeling: {time.time() - start_time}\")\n"
   ]
  },
  {
   "cell_type": "code",
   "execution_count": null,
   "metadata": {},
   "outputs": [],
   "source": [
    "# import importlib\n",
    "# from OPTIMIZED_whole_neuron_classifier_datajoint_adapted import extract_branches_whole_neuron as op_extract\n",
    "# importlib.reload(op_extract)\n"
   ]
  },
  {
   "cell_type": "code",
   "execution_count": 6,
   "metadata": {},
   "outputs": [
    {
     "name": "stdout",
     "output_type": "stream",
     "text": [
      "\n",
      "\n",
      "*****Starting Auto Labeling for 648518346349475510******\n",
      "1) Starting: Mesh importing and Pymesh fix\n",
      "loading mesh from vertices and triangles array\n",
      "1) Finished: Mesh importing and Pymesh fix: 0.03482389450073242\n",
      "2) Staring: Generating CGAL segmentation for neuron\n",
      "2) Finished: Generating CGAL segmentation for neuron: 7.029646873474121\n",
      "3) Staring: Generating Graph Structure and Identifying Soma\n",
      "soma_index = 2\n",
      "3) Finished: Generating Graph Structure and Identifying Soma: 0.19711828231811523\n",
      "5) Staring: Finding Apical Index\n",
      "Soma Index = 2\n",
      "Soma Connections = [1, 5, 4, 10, 9, 11, 6, 7, 16, 0, 28, 18, 23, 33, 20, 19, 31, 17, 27, 37, 30]\n",
      "soma_80_percent = 290843.46875\n",
      "possible_Axons_filter_1 = [6, 30, 20, 33, 31]\n",
      "size_threshold_filter = [6]\n",
      "height_threshold_filter = [6]\n",
      "sdf_threshold_filter = [6, 30, 33, 31]\n",
      "possible_Axons_filter_2 = [6]\n",
      "possible_Apical = 6\n",
      "5) Finished: Finding Apical Index: 0.35918641090393066\n",
      "6) Staring: Classifying Entire Neuron\n",
      "0 = stub soma\n",
      "Neighbor = 1\n",
      "mean_convex == 30.31328032636684\n",
      "std_dev_conves == 183.52127800872012\n",
      "1 = axon\n",
      "Neighbor = 4\n",
      "mean_convex == 13.244788922122092\n",
      "std_dev_conves == 89.7244878116106\n",
      "Neighbor = 5\n",
      "mean_convex == 11.828206679172613\n",
      "std_dev_conves == 71.51273169432493\n",
      "Neighbor = 7\n",
      "mean_convex == 12.97830881913541\n",
      "std_dev_conves == 74.05136270440494\n",
      "Neighbor = 9\n",
      "mean_convex == 19.922051480828927\n",
      "std_dev_conves == 141.46098124972508\n",
      "10 = stub soma\n",
      "11 = stub soma\n",
      "Neighbor = 16\n",
      "mean_convex == 12.704541068069718\n",
      "std_dev_conves == 69.11701008327098\n",
      "17 = stub soma\n",
      "18 = stub soma\n",
      "19 = stub soma\n",
      "20 = stub soma\n",
      "Neighbor = 23\n",
      "mean_convex == 32.106397160337494\n",
      "std_dev_conves == 65.1202757250381\n",
      "23 = cilia\n",
      "27 = stub soma\n",
      "28 = stub soma\n",
      "30 = stub soma\n",
      "31 = stub soma\n",
      "33 = stub soma\n",
      "37 = stub soma\n",
      "top_box = 160000\n",
      "14 = stub apical\n",
      "15 = stub apical\n",
      "21 = stub apical\n",
      "24 = stub apical\n",
      "34 = stub apical\n",
      "35 = stub apical\n",
      "36 = stub apical\n",
      "oblique_cutoff = 195000\n",
      "Total Labels found = {'basal', 'apical', 'soma', 'oblique', 'axon', 'cilia'}\n",
      "6) Finished: Classifying Entire Neuron: 0.4495422840118408\n",
      "7) Staring: Transfering Segmentation Labels to Face Labels\n",
      "7) Finished: Transfering Segmentation Labels to Face Labels: 0.29371166229248047\n",
      "8) Staring: Generating final Vertex and Face Labels\n",
      "8) Finished: Generating final Vertex and Face Labels: 5.081200122833252\n",
      "Finished Auto Labeling: 13.711754083633423\n"
     ]
    }
   ],
   "source": [
    "\"\"\" Do the labels from theh older version \"\"\"\n",
    "start_time = time.time()\n",
    "\n",
    "print(\"\\n\\n*****Starting Auto Labeling for \" + str(key[\"segment_id\"]) + \"******\")\n",
    "\n",
    "segment_id = key[\"segment_id\"]\n",
    "\n",
    "#get the vertices and faces from datajoint\n",
    "# get the newly stitched mesh\n",
    "# get the original mesh\n",
    "\n",
    "\n",
    "verts,faces = (pinky.PymeshfixDecimatedExcitatoryStitchedMesh() & key).fetch1(\"vertices\",\"triangles\")\n",
    "\n",
    "cgal_location = \"/notebooks/Pass_2_Excitatory_4_Auto_Classifier_Whole_Neuron_Run_2/automatic_classifier_revised_efficiency/temp/\"\n",
    "cgal_file_sdf = str(key[\"segment_id\"]) + \"_fixed-cgal_3_0.20_sdf.csv\"\n",
    "cgal_file_seg = str(key[\"segment_id\"]) + \"_fixed-cgal_3_0.20.csv\"\n",
    "\n",
    "#run the whole algorithm on the neuron to test\n",
    "verts_labels_opt, faces_labels_opt = op_extract(import_Off_Flag=False,segment_id=segment_id,vertices=verts,\n",
    "                     triangles=faces,pymeshfix_Flag=False,\n",
    "                     import_CGAL_Flag=True,\n",
    "                     import_CGAL_paths = [cgal_location + cgal_file_seg,\n",
    "                                         cgal_location + cgal_file_sdf],\n",
    "                     return_Only_Labels=True,\n",
    "                     clusters=3,\n",
    "                     smoothness=0.2,\n",
    "                     classifier_stub_threshold_apical=1500)\n",
    "\n",
    "print(f\"Finished Auto Labeling: {time.time() - start_time}\")\n"
   ]
  },
  {
   "cell_type": "markdown",
   "metadata": {},
   "source": [
    "# COMPUTING THE CONFUSION MATRIX FOR BOTH OF THE OPTIONS"
   ]
  },
  {
   "cell_type": "code",
   "execution_count": null,
   "metadata": {},
   "outputs": [],
   "source": [
    "actual_labels = (pinky.ProofreadLabel & key).fetch1(\"triangles\")"
   ]
  },
  {
   "cell_type": "code",
   "execution_count": null,
   "metadata": {},
   "outputs": [],
   "source": [
    "#make sure they are all the same size\n",
    "print(len(faces_labels),len(faces_labels_opt),len(actual_labels))"
   ]
  },
  {
   "cell_type": "code",
   "execution_count": null,
   "metadata": {},
   "outputs": [],
   "source": [
    "import celii_confusion_plotting as cp"
   ]
  },
  {
   "cell_type": "code",
   "execution_count": null,
   "metadata": {},
   "outputs": [],
   "source": [
    "Label_key_data = pinky.LabelKey.fetch(as_dict=True)\n",
    "kept_data = Label_key_data[2:9] + Label_key_data[10:13]\n",
    "kept_data\n",
    "\n",
    "classes = [k[\"description\"] for k in kept_data]\n",
    "cm_labels = [k[\"numeric\"] for k in kept_data]\n",
    "classes.append(\"unknown\")\n",
    "cm_labels.append(13)"
   ]
  },
  {
   "cell_type": "code",
   "execution_count": null,
   "metadata": {},
   "outputs": [],
   "source": [
    "cm_labels"
   ]
  },
  {
   "cell_type": "code",
   "execution_count": null,
   "metadata": {},
   "outputs": [],
   "source": [
    "cp.plot_confusion_matrix_from_raw_data(y_true=actual_labels,\n",
    "                                       y_pred=faces_labels_opt,\n",
    "                                       classes=classes,\n",
    "                                       cm_labels=cm_labels)"
   ]
  },
  {
   "cell_type": "code",
   "execution_count": null,
   "metadata": {},
   "outputs": [],
   "source": [
    "#how to print out the actual labels\n",
    "#export the labels\n",
    "labels_opt = faces_labels_opt.astype(\"int\")\n",
    "np.savetxt(\"temp/\" + str(key[\"segment_id\"]) + '_optimized_output_labels.csv', labels_opt, fmt='%d', delimiter='\\n')"
   ]
  },
  {
   "cell_type": "code",
   "execution_count": null,
   "metadata": {},
   "outputs": [],
   "source": [
    "#change all of the labels that are above allowed value to unknown\n",
    "faces_labels[faces_labels>=13] = 13\n",
    "\n",
    "from collections import Counter\n",
    "Counter(faces_labels)"
   ]
  },
  {
   "cell_type": "code",
   "execution_count": null,
   "metadata": {},
   "outputs": [],
   "source": [
    "#change all of the labels that are above allowed value to unknown\n",
    "faces_labels[faces_labels>=13] = 13\n",
    "\n",
    "cp.plot_confusion_matrix_from_raw_data(y_true=actual_labels,\n",
    "                                       y_pred=faces_labels,\n",
    "                                       classes=classes,\n",
    "                                       cm_labels=cm_labels)"
   ]
  },
  {
   "cell_type": "code",
   "execution_count": null,
   "metadata": {},
   "outputs": [],
   "source": [
    "#how to print out the actual labels\n",
    "#export the labels\n",
    "labels = faces_labels.astype(\"int\")\n",
    "np.savetxt(\"temp/\" + str(key[\"segment_id\"]) + 'NOT_optimized_output_labels.csv', labels, fmt='%d', delimiter='\\n')"
   ]
  },
  {
   "cell_type": "code",
   "execution_count": null,
   "metadata": {},
   "outputs": [],
   "source": []
  }
 ],
 "metadata": {
  "kernelspec": {
   "display_name": "Python 3",
   "language": "python",
   "name": "python3"
  },
  "language_info": {
   "codemirror_mode": {
    "name": "ipython",
    "version": 3
   },
   "file_extension": ".py",
   "mimetype": "text/x-python",
   "name": "python",
   "nbconvert_exporter": "python",
   "pygments_lexer": "ipython3",
   "version": "3.6.8"
  }
 },
 "nbformat": 4,
 "nbformat_minor": 4
}
