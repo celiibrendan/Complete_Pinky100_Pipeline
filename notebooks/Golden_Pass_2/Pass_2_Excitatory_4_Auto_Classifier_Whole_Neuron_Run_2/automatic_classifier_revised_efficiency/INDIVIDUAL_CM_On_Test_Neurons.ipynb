{
 "cells": [
  {
   "cell_type": "code",
   "execution_count": 1,
   "metadata": {},
   "outputs": [
    {
     "data": {
      "text/plain": [
       "'\\nPurpose: To test computing of the confusion matrix for the following:\\n1) On all of the previously automatically labeled data compared to the proofread version\\n\\n2) Efficiency of one older auatomatically labeled neuron in comparison to the newer automated version\\n\\n'"
      ]
     },
     "execution_count": 1,
     "metadata": {},
     "output_type": "execute_result"
    }
   ],
   "source": [
    "\"\"\"\n",
    "Purpose: To test computing of the confusion matrix for the following:\n",
    "1) On all of the previously automatically labeled data compared to the proofread version\n",
    "\n",
    "2) Efficiency of one older auatomatically labeled neuron in comparison to the newer automated version\n",
    "\n",
    "\"\"\"\n",
    "\n"
   ]
  },
  {
   "cell_type": "code",
   "execution_count": 2,
   "metadata": {},
   "outputs": [],
   "source": [
    "import celii_confusion_plotting as cp"
   ]
  },
  {
   "cell_type": "markdown",
   "metadata": {},
   "source": [
    "# Generating the Labels for each of the test neurons"
   ]
  },
  {
   "cell_type": "code",
   "execution_count": 3,
   "metadata": {},
   "outputs": [],
   "source": [
    "from OPTIMIZED_whole_neuron_classifier_datajoint_adapted import extract_branches_whole_neuron as op_extract\n",
    "from whole_neuron_classifier_datajoint_adapted import extract_branches_whole_neuron as unop_extract\n",
    "import datajoint as dj\n",
    "import numpy as np\n",
    "import datajoint as dj\n",
    "import trimesh\n",
    "import time\n",
    "\n",
    "dj.config[\"database.host\"] = \"10.28.0.34\"\n",
    "dj.config[\"database.user\"] = \"celiib\"\n",
    "dj.config[\"database.password\"] = \"newceliipass\"\n",
    "dj.config[\"safemode\"] = True\n",
    "dj.config[\"display.limit\"] = 20"
   ]
  },
  {
   "cell_type": "code",
   "execution_count": 4,
   "metadata": {},
   "outputs": [
    {
     "name": "stdout",
     "output_type": "stream",
     "text": [
      "Connecting celiib@10.28.0.34:3306\n"
     ]
    }
   ],
   "source": [
    "pinky = dj.create_virtual_module(\"pinky\",\"microns_pinky\")\n",
    "schema = dj.schema(\"microns_pinky\")"
   ]
  },
  {
   "cell_type": "code",
   "execution_count": 5,
   "metadata": {},
   "outputs": [],
   "source": [
    "key = dict(segmentation=3,segment_id=648518346349471910)"
   ]
  },
  {
   "cell_type": "code",
   "execution_count": 30,
   "metadata": {},
   "outputs": [],
   "source": [
    "key = dict(segmentation=3,segment_id=648518346349471910)\n",
    "#key = dict(segmentation=3,segment_id=648518346349475536)"
   ]
  },
  {
   "cell_type": "code",
   "execution_count": 7,
   "metadata": {},
   "outputs": [
    {
     "name": "stdout",
     "output_type": "stream",
     "text": [
      "\n",
      "\n",
      "*****Starting Auto Labeling for 648518346349471910******\n",
      "1) Starting: Mesh importing and Pymesh fix\n",
      "loading mesh from vertices and triangles array\n",
      "1) Finished: Mesh importing and Pymesh fix: 0.27881622314453125\n",
      "2) Staring: Generating CGAL segmentation for neuron\n",
      "2) Finished: Generating CGAL segmentation for neuron: 55.4955837726593\n",
      "3) Staring: Generating Graph Structure and Identifying Soma\n",
      "soma_index = 0\n",
      "3) Finished: Generating Graph Structure and Identifying Soma: 1.4791319370269775\n",
      "5) Staring: Finding Apical Index\n",
      "Soma Index = 0\n",
      "Soma Connections = [133, 49, 112, 240, 130, 25, 33, 14, 5, 21, 26, 24, 139, 7, 53, 40, 113, 167, 201, 134]\n",
      "soma_80_percent = 202908.340625\n",
      "Debugging the axon filter\n",
      "[(133, 202365.28125), (49, 216520.34375), (112, 199124.46875), (240, 200865.484375), (130, 202071.296875), (25, 222924.40625), (33, 224779.671875), (14, 218674.203125), (5, 231824.125), (21, 232195.578125), (26, 198520.734375), (24, 200045.6875), (139, 205107.015625), (7, 207411.484375), (53, 213818.6875), (40, 233412.609375), (113, 201246.546875), (167, 200661.0), (201, 201260.6875), (134, 201519.53125)]\n",
      "possible_Axons_filter_1 = [133, 112, 240, 130, 26, 24, 113, 167, 201, 134]\n",
      "possible_Axons_filter_2 = []\n",
      "possible_Apical = None\n",
      "5) Finished: Finding Apical Index: 0.49640750885009766\n",
      "6) Staring: Classifying Entire Neuron\n",
      "21 = axon\n",
      "112 = stub soma\n",
      "113 = stub soma\n",
      "133 = cilia\n",
      "134 = stub soma\n",
      "139 = stub soma\n",
      "167 = stub soma\n",
      "201 = stub soma\n",
      "240 = stub soma\n",
      "Total Labels found = {'axon', 'unsure', 'cilia', 'soma'}\n",
      "6) Finished: Classifying Entire Neuron: 5.84762716293335\n",
      "7) Staring: Transfering Segmentation Labels to Face Labels\n",
      "7) Finished: Transfering Segmentation Labels to Face Labels: 3.7359514236450195\n",
      "8) Staring: Generating final Vertex and Face Labels\n",
      "8) Finished: Generating final Vertex and Face Labels: 41.98402547836304\n",
      "Finished Auto Labeling: 111.14963984489441\n"
     ]
    }
   ],
   "source": [
    "\"\"\" Do the labels from theh older version \"\"\"\n",
    "start_time = time.time()\n",
    "\n",
    "print(\"\\n\\n*****Starting Auto Labeling for \" + str(key[\"segment_id\"]) + \"******\")\n",
    "\n",
    "segment_id = key[\"segment_id\"]\n",
    "\n",
    "#get the vertices and faces from datajoint\n",
    "# get the newly stitched mesh\n",
    "# get the original mesh\n",
    "\n",
    "\n",
    "verts,faces = (pinky.PymeshfixDecimatedExcitatoryStitchedMesh() & key).fetch1(\"vertices\",\"triangles\")\n",
    "\n",
    "cgal_location = \"/notebooks/Pass_2_Excitatory_4_Auto_Classifier_Whole_Neuron_Run_2/automatic_classifier_revised_efficiency/temp/\"\n",
    "cgal_file_sdf = \"648518346349471910_fixed-cgal_3_0.20_sdf.csv\"\n",
    "cgal_file_seg = \"648518346349471910_fixed-cgal_3_0.20.csv\"\n",
    "\n",
    "#run the whole algorithm on the neuron to test\n",
    "verts_labels, faces_labels = unop_extract(import_Off_Flag=False,segment_id=segment_id,vertices=verts,\n",
    "                     triangles=faces,pymeshfix_Flag=False,\n",
    "                     import_CGAL_Flag=True,\n",
    "                     import_CGAL_paths = [cgal_location + cgal_file_seg,\n",
    "                                         cgal_location + cgal_file_sdf],\n",
    "                     return_Only_Labels=True,\n",
    "                     clusters=3,\n",
    "                     smoothness=0.2)\n",
    "\n",
    "print(f\"Finished Auto Labeling: {time.time() - start_time}\")\n"
   ]
  },
  {
   "cell_type": "code",
   "execution_count": 8,
   "metadata": {},
   "outputs": [
    {
     "name": "stdout",
     "output_type": "stream",
     "text": [
      "\n",
      "\n",
      "*****Starting Auto Labeling for 648518346349471910******\n",
      "1) Starting: Mesh importing and Pymesh fix\n",
      "loading mesh from vertices and triangles array\n",
      "1) Finished: Mesh importing and Pymesh fix: 0.20518970489501953\n",
      "2) Staring: Generating CGAL segmentation for neuron\n",
      "2) Finished: Generating CGAL segmentation for neuron: 59.99108934402466\n",
      "3) Staring: Generating Graph Structure and Identifying Soma\n",
      "soma_index = 0\n",
      "3) Finished: Generating Graph Structure and Identifying Soma: 1.4590811729431152\n",
      "5) Staring: Finding Apical Index\n",
      "Soma Index = 0\n",
      "Soma Connections = [133, 49, 112, 240, 130, 25, 33, 14, 5, 21, 26, 24, 139, 7, 53, 40, 113, 167, 201, 134]\n",
      "soma_80_percent = 200871.95625\n",
      "possible_Axons_filter_1 = [112, 130, 24, 26, 240, 167]\n",
      "size_threshold_filter = [24, 26]\n",
      "height_threshold_filter = [24, 26]\n",
      "sdf_threshold_filter = [112, 130, 24, 26, 167]\n",
      "possible_Axons_filter_2 = [24, 26]\n",
      "possible_Apical = 24\n",
      "5) Finished: Finding Apical Index: 2.871255397796631\n",
      "6) Staring: Classifying Entire Neuron\n",
      "21 = axon\n",
      "112 = stub soma\n",
      "113 = stub soma\n",
      "133 = cilia\n",
      "134 = stub soma\n",
      "139 = stub soma\n",
      "167 = stub soma\n",
      "201 = stub soma\n",
      "240 = stub soma\n",
      "10 = stub apical\n",
      "30 = stub apical\n",
      "41 = stub apical\n",
      "46 = stub apical\n",
      "51 = stub apical\n",
      "56 = stub apical\n",
      "63 = stub apical\n",
      "66 = stub apical\n",
      "71 = stub apical\n",
      "72 = stub apical\n",
      "74 = stub apical\n",
      "78 = stub apical\n",
      "81 = stub apical\n",
      "83 = stub apical\n",
      "104 = stub apical\n",
      "105 = stub apical\n",
      "114 = stub apical\n",
      "115 = stub apical\n",
      "131 = stub apical\n",
      "140 = stub apical\n",
      "141 = stub apical\n",
      "142 = stub apical\n",
      "143 = stub apical\n",
      "144 = stub apical\n",
      "147 = stub apical\n",
      "148 = stub apical\n",
      "161 = stub apical\n",
      "162 = stub apical\n",
      "163 = stub apical\n",
      "164 = stub apical\n",
      "169 = stub apical\n",
      "170 = stub apical\n",
      "191 = stub apical\n",
      "192 = stub apical\n",
      "193 = stub apical\n",
      "194 = stub apical\n",
      "195 = stub apical\n",
      "196 = stub apical\n",
      "203 = stub apical\n",
      "204 = stub apical\n",
      "205 = stub apical\n",
      "206 = stub apical\n",
      "207 = stub apical\n",
      "220 = stub apical\n",
      "227 = stub apical\n",
      "234 = stub apical\n",
      "237 = stub apical\n",
      "238 = stub apical\n",
      "248 = stub apical\n",
      "249 = stub apical\n",
      "250 = stub apical\n",
      "251 = stub apical\n",
      "252 = stub apical\n",
      "253 = stub apical\n",
      "261 = stub apical\n",
      "271 = stub apical\n",
      "272 = stub apical\n",
      "290 = stub apical\n",
      "295 = stub apical\n",
      "309 = stub apical\n",
      "311 = stub apical\n",
      "312 = stub apical\n",
      "313 = stub apical\n",
      "314 = stub apical\n",
      "315 = stub apical\n",
      "316 = stub apical\n",
      "318 = stub apical\n",
      "328 = stub apical\n",
      "339 = stub apical\n",
      "340 = stub apical\n",
      "341 = stub apical\n",
      "342 = stub apical\n",
      "343 = stub apical\n",
      "344 = stub apical\n",
      "345 = stub apical\n",
      "346 = stub apical\n",
      "347 = stub apical\n",
      "348 = stub apical\n",
      "349 = stub apical\n",
      "352 = stub apical\n",
      "353 = stub apical\n",
      "354 = stub apical\n",
      "Total Labels found = {'apical', 'basal', 'oblique', 'axon', 'cilia', 'soma'}\n",
      "6) Finished: Classifying Entire Neuron: 6.912353515625\n",
      "7) Staring: Transfering Segmentation Labels to Face Labels\n",
      "7) Finished: Transfering Segmentation Labels to Face Labels: 2.350855588912964\n",
      "8) Staring: Generating final Vertex and Face Labels\n",
      "8) Finished: Generating final Vertex and Face Labels: 41.18722605705261\n",
      "Finished Auto Labeling: 116.71088767051697\n"
     ]
    }
   ],
   "source": [
    "\"\"\" Do the labels from theh older version \"\"\"\n",
    "start_time = time.time()\n",
    "\n",
    "print(\"\\n\\n*****Starting Auto Labeling for \" + str(key[\"segment_id\"]) + \"******\")\n",
    "\n",
    "segment_id = key[\"segment_id\"]\n",
    "\n",
    "#get the vertices and faces from datajoint\n",
    "# get the newly stitched mesh\n",
    "# get the original mesh\n",
    "\n",
    "\n",
    "verts,faces = (pinky.PymeshfixDecimatedExcitatoryStitchedMesh() & key).fetch1(\"vertices\",\"triangles\")\n",
    "\n",
    "cgal_location = \"/notebooks/Pass_2_Excitatory_4_Auto_Classifier_Whole_Neuron_Run_2/automatic_classifier_revised_efficiency/temp/\"\n",
    "cgal_file_sdf = \"648518346349471910_fixed-cgal_3_0.20_sdf.csv\"\n",
    "cgal_file_seg = \"648518346349471910_fixed-cgal_3_0.20.csv\"\n",
    "\n",
    "#run the whole algorithm on the neuron to test\n",
    "verts_labels_opt, faces_labels_opt = op_extract(import_Off_Flag=False,segment_id=segment_id,vertices=verts,\n",
    "                     triangles=faces,pymeshfix_Flag=False,\n",
    "                     import_CGAL_Flag=True,\n",
    "                     import_CGAL_paths = [cgal_location + cgal_file_seg,\n",
    "                                         cgal_location + cgal_file_sdf],\n",
    "                     return_Only_Labels=True,\n",
    "                     clusters=3,\n",
    "                     smoothness=0.2)\n",
    "\n",
    "print(f\"Finished Auto Labeling: {time.time() - start_time}\")\n"
   ]
  },
  {
   "cell_type": "markdown",
   "metadata": {},
   "source": [
    "# COMPUTING THE CONFUSION MATRIX FOR BOTH OF THE OPTIONS"
   ]
  },
  {
   "cell_type": "code",
   "execution_count": 9,
   "metadata": {},
   "outputs": [],
   "source": [
    "actual_labels = (pinky.ProofreadLabel & key).fetch1(\"triangles\")"
   ]
  },
  {
   "cell_type": "code",
   "execution_count": 10,
   "metadata": {},
   "outputs": [
    {
     "name": "stdout",
     "output_type": "stream",
     "text": [
      "1320374 1320374 1320374\n"
     ]
    }
   ],
   "source": [
    "#make sure they are all the same size\n",
    "print(len(faces_labels),len(faces_labels_opt),len(actual_labels))"
   ]
  },
  {
   "cell_type": "code",
   "execution_count": 12,
   "metadata": {},
   "outputs": [
    {
     "name": "stdout",
     "output_type": "stream",
     "text": [
      "Help on function plot_confusion_matrix_from_raw_data in module celii_confusion_plotting:\n",
      "\n",
      "plot_confusion_matrix_from_raw_data(y_true, y_pred, classes, cm_labels=[], normalize=True, title=None, cmap=<matplotlib.colors.LinearSegmentedColormap object at 0x7f2a251fd400>)\n",
      "    This function prints and plots the confusion matrix.\n",
      "    Normalization can be applied by setting `normalize=True`.\n",
      "    \n",
      "    Example: \n",
      "    y_true = [0, 0, 1, 1, 2, 0, 1]\n",
      "    y_pred = [0, 1, 0, 1, 2, 2, 1]\n",
      "    \n",
      "    classes = np.array([\"Apical\",\"Basal\",\"Oblique\"])\n",
      "    plot_confusion_matrix_from_raw_data(y_true,y_pred,normalize=True,classes=classes,\n",
      "                         title=\"Brendan's Confusion\")\n",
      "    done\n",
      "\n"
     ]
    }
   ],
   "source": [
    "import celii_confusion_plotting as cp\n",
    "import importlib\n",
    "importlib.reload(cp)\n",
    "help(cp.plot_confusion_matrix_from_raw_data)"
   ]
  },
  {
   "cell_type": "code",
   "execution_count": 21,
   "metadata": {},
   "outputs": [],
   "source": [
    "Label_key_data = pinky.LabelKey.fetch(as_dict=True)\n",
    "kept_data = Label_key_data[2:9] + Label_key_data[10:13]\n",
    "kept_data\n",
    "\n",
    "classes = [k[\"description\"] for k in kept_data]\n",
    "cm_labels = [k[\"numeric\"] for k in kept_data]\n",
    "classes.append(\"unknown\")\n",
    "cm_labels.append(13)"
   ]
  },
  {
   "cell_type": "code",
   "execution_count": 22,
   "metadata": {},
   "outputs": [
    {
     "data": {
      "text/plain": [
       "[2, 3, 4, 5, 6, 7, 8, 10, 11, 12, 13]"
      ]
     },
     "execution_count": 22,
     "metadata": {},
     "output_type": "execute_result"
    }
   ],
   "source": [
    "cm_labels"
   ]
  },
  {
   "cell_type": "code",
   "execution_count": 23,
   "metadata": {},
   "outputs": [
    {
     "name": "stderr",
     "output_type": "stream",
     "text": [
      "/notebooks/Pass_2_Excitatory_4_Auto_Classifier_Whole_Neuron_Run_2/automatic_classifier_revised_efficiency/celii_confusion_plotting.py:44: RuntimeWarning: invalid value encountered in true_divide\n",
      "  cm = cm.astype('float') / cm.sum(axis=1)[:, np.newaxis]\n"
     ]
    },
    {
     "name": "stdout",
     "output_type": "stream",
     "text": [
      "Normalized confusion matrix\n"
     ]
    },
    {
     "data": {
      "text/plain": [
       "<matplotlib.axes._subplots.AxesSubplot at 0x7f29c6ae65c0>"
      ]
     },
     "execution_count": 23,
     "metadata": {},
     "output_type": "execute_result"
    },
    {
     "data": {
      "image/png": "[encoded data removed]",
      "text/plain": [
       "<Figure size 1440x864 with 2 Axes>"
      ]
     },
     "metadata": {
      "needs_background": "light"
     },
     "output_type": "display_data"
    }
   ],
   "source": [
    "cp.plot_confusion_matrix_from_raw_data(y_true=actual_labels,\n",
    "                                       y_pred=faces_labels_opt,\n",
    "                                       classes=classes,\n",
    "                                       cm_labels=cm_labels)"
   ]
  },
  {
   "cell_type": "code",
   "execution_count": 28,
   "metadata": {},
   "outputs": [],
   "source": [
    "#how to print out the actual labels\n",
    "#export the labels\n",
    "labels_opt = faces_labels_opt.astype(\"int\")\n",
    "np.savetxt(\"temp/\" + str(key[\"segment_id\"]) + '_optimized_output_labels.csv', labels_opt, fmt='%d', delimiter='\\n')"
   ]
  },
  {
   "cell_type": "code",
   "execution_count": 25,
   "metadata": {},
   "outputs": [
    {
     "data": {
      "text/plain": [
       "Counter({5.0: 75616, 13.0: 1238835, 6.0: 5442, 12.0: 481})"
      ]
     },
     "execution_count": 25,
     "metadata": {},
     "output_type": "execute_result"
    }
   ],
   "source": [
    "#change all of the labels that are above allowed value to unknown\n",
    "faces_labels[faces_labels>=13] = 13\n",
    "\n",
    "from collections import Counter\n",
    "Counter(faces_labels)"
   ]
  },
  {
   "cell_type": "code",
   "execution_count": 26,
   "metadata": {},
   "outputs": [
    {
     "name": "stdout",
     "output_type": "stream",
     "text": [
      "Normalized confusion matrix\n"
     ]
    },
    {
     "data": {
      "text/plain": [
       "<matplotlib.axes._subplots.AxesSubplot at 0x7f29a85f7a58>"
      ]
     },
     "execution_count": 26,
     "metadata": {},
     "output_type": "execute_result"
    },
    {
     "data": {
      "image/png": "[encoded data removed]",
      "text/plain": [
       "<Figure size 1440x864 with 2 Axes>"
      ]
     },
     "metadata": {
      "needs_background": "light"
     },
     "output_type": "display_data"
    }
   ],
   "source": [
    "#change all of the labels that are above allowed value to unknown\n",
    "faces_labels[faces_labels>=13] = 13\n",
    "\n",
    "cp.plot_confusion_matrix_from_raw_data(y_true=actual_labels,\n",
    "                                       y_pred=faces_labels,\n",
    "                                       classes=classes,\n",
    "                                       cm_labels=cm_labels)"
   ]
  },
  {
   "cell_type": "code",
   "execution_count": 29,
   "metadata": {},
   "outputs": [],
   "source": [
    "#how to print out the actual labels\n",
    "#export the labels\n",
    "labels = faces_labels.astype(\"int\")\n",
    "np.savetxt(\"temp/\" + str(key[\"segment_id\"]) + 'NOT_optimized_output_labels.csv', labels, fmt='%d', delimiter='\\n')"
   ]
  },
  {
   "cell_type": "code",
   "execution_count": null,
   "metadata": {},
   "outputs": [],
   "source": []
  }
 ],
 "metadata": {
  "kernelspec": {
   "display_name": "Python 3",
   "language": "python",
   "name": "python3"
  },
  "language_info": {
   "codemirror_mode": {
    "name": "ipython",
    "version": 3
   },
   "file_extension": ".py",
   "mimetype": "text/x-python",
   "name": "python",
   "nbconvert_exporter": "python",
   "pygments_lexer": "ipython3",
   "version": "3.6.8"
  }
 },
 "nbformat": 4,
 "nbformat_minor": 4
}
