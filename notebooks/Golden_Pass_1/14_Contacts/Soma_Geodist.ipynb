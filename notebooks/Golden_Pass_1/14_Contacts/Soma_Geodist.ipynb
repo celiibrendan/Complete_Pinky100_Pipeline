{
 "cells": [
  {
   "cell_type": "code",
   "execution_count": 6,
   "metadata": {},
   "outputs": [],
   "source": [
    "import gdist\n",
    "from meshparty import trimesh_io"
   ]
  },
  {
   "cell_type": "code",
   "execution_count": 2,
   "metadata": {},
   "outputs": [
    {
     "data": {
      "text/plain": [
       "['__builtins__',\n",
       " '__doc__',\n",
       " '__file__',\n",
       " '__loader__',\n",
       " '__name__',\n",
       " '__package__',\n",
       " '__spec__',\n",
       " '__test__',\n",
       " 'compute_gdist',\n",
       " 'local_gdist_matrix',\n",
       " 'numpy',\n",
       " 'scipy']"
      ]
     },
     "execution_count": 2,
     "metadata": {},
     "output_type": "execute_result"
    }
   ],
   "source": [
    "dir(gdist)"
   ]
  },
  {
   "cell_type": "code",
   "execution_count": 4,
   "metadata": {},
   "outputs": [
    {
     "name": "stdout",
     "output_type": "stream",
     "text": [
      "Help on built-in function compute_gdist in module gdist:\n",
      "\n",
      "compute_gdist(...)\n",
      "    This is the wrapper function for computing geodesic distance between a set \n",
      "    of sources and targets on a mesh surface. This function accepts five \n",
      "    arguments:\n",
      "        ``vertices``: defines x,y,z coordinates of the mesh's vertices.\n",
      "        ``triangles``: defines faces of the mesh as index triplets into vertices.\n",
      "        ``source_indices``: Index of the source on the mesh.\n",
      "        ``target_indices``: Index of the targets on the mesh.\n",
      "        ``max_distance``: \n",
      "    and returns a numpy.ndarray((len(target_indices), ), dtype=numpy.float64) \n",
      "    specifying the shortest distance to the target vertices from the nearest \n",
      "    source vertex on the mesh. If no target_indices are provided, all vertices \n",
      "    of the mesh are considered as targets, however, in this case, specifying \n",
      "    max_distance will limit the targets to those vertices within max_distance of\n",
      "    a source.\n",
      "    \n",
      "    NOTE: This is the function to use when specifying localised stimuli and\n",
      "    parameter variations. For efficiently using the whole mesh as sources, such\n",
      "    as is required to represent local connectivity within the cortex, see the \n",
      "    local_gdist_matrix() function.\n",
      "    \n",
      "    Basic usage then looks like::\n",
      "        >>> import numpy\n",
      "        >>> temp = numpy.loadtxt(\"flat_triangular_mesh.txt\", skiprows=1)\n",
      "        >>> vertices = temp[0:121].astype(numpy.float64)\n",
      "        >>> triangles = temp[121:321].astype(numpy.int32)\n",
      "        >>> src = numpy.array([1], dtype=numpy.int32)\n",
      "        >>> trg = numpy.array([2], dtype=numpy.int32)\n",
      "        >>> import gdist\n",
      "        >>> gdist.compute_gdist(vertices, triangles, source_indices = src, target_indices = trg)\n",
      "         array([ 0.2])\n",
      "\n"
     ]
    }
   ],
   "source": [
    "help(gdist.compute_gdist)"
   ]
  },
  {
   "cell_type": "code",
   "execution_count": 33,
   "metadata": {},
   "outputs": [
    {
     "name": "stdout",
     "output_type": "stream",
     "text": [
      "Help on function load_mesh in module trimesh.constants:\n",
      "\n",
      "load_mesh(*args, **kwargs)\n",
      "    Load a mesh file into a Trimesh object\n",
      "    \n",
      "    Parameters\n",
      "    -----------\n",
      "    file_obj : str or file object\n",
      "      File name or file with mesh data\n",
      "    file_type : str or None\n",
      "      Which file type, e.g. 'stl'\n",
      "    kwargs : dict\n",
      "      Passed to Trimesh constructor\n",
      "    \n",
      "    Returns\n",
      "    ----------\n",
      "    mesh : trimesh.Trimesh or trimesh.Scene\n",
      "      Loaded geometry data\n",
      "\n"
     ]
    }
   ],
   "source": [
    "dir(trimesh_io.trimesh.load_mesh)\n",
    "help(trimesh_io.trimesh.load_mesh)"
   ]
  },
  {
   "cell_type": "code",
   "execution_count": 35,
   "metadata": {},
   "outputs": [],
   "source": [
    "mesh = trimesh_io.trimesh.load_mesh(file_obj=\"scaled_clean.off\",file_type=\"off\")"
   ]
  },
  {
   "cell_type": "code",
   "execution_count": 48,
   "metadata": {},
   "outputs": [
    {
     "data": {
      "text/plain": [
       "TrackedArray([[355687.86152617, 186147.57560177,  11177.87865536],\n",
       "              [353948.5314709 , 198247.77058017,  33980.29091918],\n",
       "              [331642.35256989, 189326.24571134,   7656.95272915],\n",
       "              [329903.02251462, 201426.44068974,  30459.36499297],\n",
       "              [359307.97140907, 203587.34592889,   2199.5278982 ],\n",
       "              [357568.6413538 , 215687.54090729,  25001.94016202],\n",
       "              [335262.46245279, 206766.01603846,  -1321.398028  ],\n",
       "              [333523.13239752, 218866.21101685,  21481.01423581]])"
      ]
     },
     "execution_count": 48,
     "metadata": {},
     "output_type": "execute_result"
    }
   ],
   "source": [
    "dir(mesh.bounding_primitive)\n",
    "#mesh.bounding_primitive.export(\"bbox.off\",\"off\") //prints out the bounding box\n",
    "#mesh.bounding_primitive.faces\n",
    "#mesh.bounding_primitive.edges\n",
    "mesh.bounding_primitive.vertices\n",
    "\n",
    "#one side of the face:\n",
    "#[1, 3, 0],[4, 1, 0]"
   ]
  },
  {
   "cell_type": "code",
   "execution_count": 50,
   "metadata": {},
   "outputs": [
    {
     "data": {
      "text/plain": [
       "['__abstractmethods__',\n",
       " '__add__',\n",
       " '__class__',\n",
       " '__delattr__',\n",
       " '__dict__',\n",
       " '__dir__',\n",
       " '__doc__',\n",
       " '__eq__',\n",
       " '__format__',\n",
       " '__ge__',\n",
       " '__getattribute__',\n",
       " '__gt__',\n",
       " '__hash__',\n",
       " '__init__',\n",
       " '__init_subclass__',\n",
       " '__le__',\n",
       " '__lt__',\n",
       " '__module__',\n",
       " '__ne__',\n",
       " '__new__',\n",
       " '__reduce__',\n",
       " '__reduce_ex__',\n",
       " '__repr__',\n",
       " '__setattr__',\n",
       " '__sizeof__',\n",
       " '__str__',\n",
       " '__subclasshook__',\n",
       " '__weakref__',\n",
       " '_abc_cache',\n",
       " '_abc_negative_cache',\n",
       " '_abc_negative_cache_version',\n",
       " '_abc_registry',\n",
       " '_cache',\n",
       " '_center_mass',\n",
       " '_create_mesh',\n",
       " '_data',\n",
       " '_density',\n",
       " '_kwargs',\n",
       " '_validate',\n",
       " '_visual',\n",
       " 'apply_obb',\n",
       " 'apply_scale',\n",
       " 'apply_transform',\n",
       " 'apply_translation',\n",
       " 'area',\n",
       " 'area_faces',\n",
       " 'body_count',\n",
       " 'bounding_box',\n",
       " 'bounding_box_oriented',\n",
       " 'bounding_cylinder',\n",
       " 'bounding_primitive',\n",
       " 'bounding_sphere',\n",
       " 'bounds',\n",
       " 'center_mass',\n",
       " 'centroid',\n",
       " 'compute_stable_poses',\n",
       " 'contains',\n",
       " 'convert_units',\n",
       " 'convex_decomposition',\n",
       " 'convex_hull',\n",
       " 'copy',\n",
       " 'crc',\n",
       " 'density',\n",
       " 'difference',\n",
       " 'edges',\n",
       " 'edges_face',\n",
       " 'edges_sorted',\n",
       " 'edges_sparse',\n",
       " 'edges_unique',\n",
       " 'edges_unique_inverse',\n",
       " 'edges_unique_length',\n",
       " 'euler_number',\n",
       " 'eval_cached',\n",
       " 'export',\n",
       " 'extents',\n",
       " 'face_adjacency',\n",
       " 'face_adjacency_angles',\n",
       " 'face_adjacency_convex',\n",
       " 'face_adjacency_edges',\n",
       " 'face_adjacency_projections',\n",
       " 'face_adjacency_radius',\n",
       " 'face_adjacency_span',\n",
       " 'face_adjacency_tree',\n",
       " 'face_adjacency_unshared',\n",
       " 'face_angles',\n",
       " 'face_angles_sparse',\n",
       " 'face_normals',\n",
       " 'faces',\n",
       " 'faces_sparse',\n",
       " 'faces_unique_edges',\n",
       " 'facets',\n",
       " 'facets_area',\n",
       " 'facets_boundary',\n",
       " 'facets_normal',\n",
       " 'facets_on_hull',\n",
       " 'facets_origin',\n",
       " 'fill_holes',\n",
       " 'fix_normals',\n",
       " 'identifier',\n",
       " 'identifier_md5',\n",
       " 'intersection',\n",
       " 'invert',\n",
       " 'is_convex',\n",
       " 'is_empty',\n",
       " 'is_oriented',\n",
       " 'is_volume',\n",
       " 'is_watertight',\n",
       " 'is_winding_consistent',\n",
       " 'kdtree',\n",
       " 'mass',\n",
       " 'mass_properties',\n",
       " 'md5',\n",
       " 'merge_vertices',\n",
       " 'metadata',\n",
       " 'moment_inertia',\n",
       " 'nearest',\n",
       " 'outline',\n",
       " 'permutate',\n",
       " 'primitive',\n",
       " 'principal_inertia_components',\n",
       " 'principal_inertia_transform',\n",
       " 'principal_inertia_vectors',\n",
       " 'process',\n",
       " 'ray',\n",
       " 'register',\n",
       " 'remove_degenerate_faces',\n",
       " 'remove_duplicate_faces',\n",
       " 'remove_infinite_values',\n",
       " 'remove_unreferenced_vertices',\n",
       " 'rezero',\n",
       " 'sample',\n",
       " 'sample_grid',\n",
       " 'sample_volume',\n",
       " 'scale',\n",
       " 'scene',\n",
       " 'section',\n",
       " 'section_multiplane',\n",
       " 'show',\n",
       " 'slice_plane',\n",
       " 'smoothed',\n",
       " 'split',\n",
       " 'subdivide',\n",
       " 'submesh',\n",
       " 'symmetry',\n",
       " 'symmetry_axis',\n",
       " 'symmetry_section',\n",
       " 'to_dict',\n",
       " 'to_mesh',\n",
       " 'triangles',\n",
       " 'triangles_center',\n",
       " 'triangles_cross',\n",
       " 'triangles_tree',\n",
       " 'union',\n",
       " 'units',\n",
       " 'unmerge_vertices',\n",
       " 'update_faces',\n",
       " 'update_vertices',\n",
       " 'vertex_adjacency_graph',\n",
       " 'vertex_defects',\n",
       " 'vertex_neighbors',\n",
       " 'vertex_normals',\n",
       " 'vertices',\n",
       " 'visual',\n",
       " 'volume',\n",
       " 'voxelized']"
      ]
     },
     "execution_count": 50,
     "metadata": {},
     "output_type": "execute_result"
    }
   ],
   "source": [
    "dir(mesh.bounding_box)"
   ]
  },
  {
   "cell_type": "code",
   "execution_count": 52,
   "metadata": {},
   "outputs": [
    {
     "name": "stdout",
     "output_type": "stream",
     "text": [
      "<class 'numpy.float64'>\n",
      "<class 'numpy.int32'>\n",
      "<class 'numpy.int32'>\n",
      "<class 'numpy.int32'>\n",
      "CPU times: user 5.07 s, sys: 136 ms, total: 5.2 s\n",
      "Wall time: 5.35 s\n"
     ]
    }
   ],
   "source": [
    "##result of gdist this should be between dijkstras and 3D distance\n",
    "\n",
    "import numpy\n",
    "#temp = numpy.loadtxt(\"flat_triangular_mesh.txt\", skiprows=1)\n",
    "#vertices = temp[0:121].astype(numpy.float64)\n",
    "#triangles = temp[121:321].astype(numpy.int32)\n",
    "\n",
    "mesh = trimesh_io.read_mesh(\"scaled_clean.obj\")\n",
    "vertices = mesh[0].astype(numpy.float64)\n",
    "triangles = mesh[1].astype(numpy.int32)\n",
    "\n",
    "#index of the source\n",
    "src = numpy.array([1], dtype=numpy.int32)\n",
    "#index of the target\n",
    "trg = numpy.array([100], dtype=numpy.int32)\n",
    "\n",
    "print(type(vertices[1][0]))\n",
    "print(type(triangles[1][0]))\n",
    "print(type(src[0]))\n",
    "print(type(trg[0]))\n",
    "\n",
    "\n",
    "#array([ 0.2])"
   ]
  },
  {
   "cell_type": "code",
   "execution_count": 53,
   "metadata": {},
   "outputs": [
    {
     "name": "stdout",
     "output_type": "stream",
     "text": [
      "CPU times: user 5.36 s, sys: 160 ms, total: 5.52 s\n",
      "Wall time: 5.55 s\n"
     ]
    }
   ],
   "source": [
    "%time myArray = gdist.compute_gdist(vertices, triangles, source_indices = src, target_indices = trg)"
   ]
  },
  {
   "cell_type": "code",
   "execution_count": 25,
   "metadata": {},
   "outputs": [
    {
     "data": {
      "text/plain": [
       "array([2445.6989367])"
      ]
     },
     "execution_count": 25,
     "metadata": {},
     "output_type": "execute_result"
    }
   ],
   "source": [
    "myArray"
   ]
  },
  {
   "cell_type": "code",
   "execution_count": 28,
   "metadata": {},
   "outputs": [],
   "source": [
    "import math\n",
    "import numpy as np\n",
    "from collections import Counter\n",
    "\n",
    "def calculate_distance(p1,p2):\n",
    "    distance = math.sqrt((p1[0]-p2[0])**2 + (p1[1]-p2[1])**2 + (p1[2]-p2[2])**2)\n",
    "    return distance"
   ]
  },
  {
   "cell_type": "code",
   "execution_count": 29,
   "metadata": {},
   "outputs": [
    {
     "name": "stdout",
     "output_type": "stream",
     "text": [
      "2419.1169583603905\n"
     ]
    }
   ],
   "source": [
    "#get 3D distance\n",
    "src = 1\n",
    "target = 100\n",
    "src_vert = vertices[src]\n",
    "target_vert = vertices[target]\n",
    "\n",
    "print(calculate_distance(src_vert,target_vert))\n",
    "#checks out and is always longer than gdist"
   ]
  },
  {
   "cell_type": "code",
   "execution_count": null,
   "metadata": {},
   "outputs": [],
   "source": [
    "#find the dijkstra's path"
   ]
  },
  {
   "cell_type": "code",
   "execution_count": 16,
   "metadata": {},
   "outputs": [
    {
     "name": "stdout",
     "output_type": "stream",
     "text": [
      "[[    1     7     0]\n",
      " [    3     8     2]\n",
      " [    9     7     1]\n",
      " ...\n",
      " [85502 85538 85532]\n",
      " [85532 85538 85401]\n",
      " [85401 85538 85395]]\n"
     ]
    }
   ],
   "source": [
    "print(mesh[1])"
   ]
  },
  {
   "cell_type": "code",
   "execution_count": null,
   "metadata": {},
   "outputs": [],
   "source": [
    "#test absolute distance "
   ]
  },
  {
   "cell_type": "code",
   "execution_count": null,
   "metadata": {},
   "outputs": [],
   "source": []
  }
 ],
 "metadata": {
  "kernelspec": {
   "display_name": "Python 3",
   "language": "python",
   "name": "python3"
  },
  "language_info": {
   "codemirror_mode": {
    "name": "ipython",
    "version": 3
   },
   "file_extension": ".py",
   "mimetype": "text/x-python",
   "name": "python",
   "nbconvert_exporter": "python",
   "pygments_lexer": "ipython3",
   "version": "3.6.5"
  }
 },
 "nbformat": 4,
 "nbformat_minor": 2
}
