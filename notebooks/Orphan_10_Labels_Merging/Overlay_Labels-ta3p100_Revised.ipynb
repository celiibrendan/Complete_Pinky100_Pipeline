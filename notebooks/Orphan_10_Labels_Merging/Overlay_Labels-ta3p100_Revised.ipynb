{
 "cells": [
  {
   "cell_type": "code",
   "execution_count": null,
   "metadata": {},
   "outputs": [],
   "source": [
    "\"\"\"\n",
    "Fixing the error where didn't import the Dendrites for Spine Overlaying with this table\n",
    "Was missing from the list so added it and reran so there will be spine data for dendrites\n",
    "\n",
    "\n",
    "\"\"\""
   ]
  },
  {
   "cell_type": "code",
   "execution_count": 1,
   "metadata": {},
   "outputs": [],
   "source": [
    "import datajoint as dj\n",
    "import numpy as np\n",
    "import time"
   ]
  },
  {
   "cell_type": "code",
   "execution_count": 2,
   "metadata": {},
   "outputs": [
    {
     "name": "stdout",
     "output_type": "stream",
     "text": [
      "Connecting celiib@10.28.0.34:3306\n"
     ]
    }
   ],
   "source": [
    "schema = dj.schema('microns_ta3p100')\n",
    "ta3p100 = dj.create_virtual_module('ta3p100', 'microns_ta3p100')"
   ]
  },
  {
   "cell_type": "code",
   "execution_count": null,
   "metadata": {
    "collapsed": true
   },
   "outputs": [],
   "source": [
    "dj.ERD(ta3p100)"
   ]
  },
  {
   "cell_type": "code",
   "execution_count": 3,
   "metadata": {},
   "outputs": [],
   "source": [
    "@schema\n",
    "class OverlayedSpineLabelOrphanRevised(dj.Computed):\n",
    "    definition = \"\"\"\n",
    "    # Segment labels with Spine labels overlayed (replacing) normal component labels.\n",
    "    -> ta3p100.CompartmentOrphan\n",
    "    ---\n",
    "    vertices             : longblob                     \n",
    "    triangles            : longblob  \n",
    "    \"\"\""
   ]
  },
  {
   "cell_type": "code",
   "execution_count": 4,
   "metadata": {},
   "outputs": [],
   "source": [
    "dj.config['display.limit'] = 15"
   ]
  },
  {
   "cell_type": "code",
   "execution_count": 5,
   "metadata": {},
   "outputs": [
    {
     "name": "stdout",
     "output_type": "stream",
     "text": [
      "# Segment labels with Spine labels overlayed (replacing) normal component labels.\n",
      "-> ta3p100.CompartmentOrphan\n",
      "---\n",
      "vertices             : longblob                     \n",
      "triangles            : longblob                     \n",
      "\n"
     ]
    }
   ],
   "source": [
    "#####Need to rerun after 2/20/18 when caught error#####\n",
    "@schema\n",
    "class OverlayedSpineLabelOrphanRevised(dj.Computed):\n",
    "    definition = ta3p100.OverlayedSpineLabelOrphan.describe()\n",
    "    \n",
    "    def make(self, key):\n",
    "#         print(key['segment_id'])\n",
    "#         start = time.time()\n",
    "        \n",
    "        corrected_labels = (ta3p100.CoarseLabelOrphan & key).fetch1()\n",
    "        \n",
    "        compartment_key = dict(segmentation=key['segmentation'], segment_id=key['segment_id'], decimation_ratio=0.35)\n",
    "        components = (ta3p100.CompartmentOrphan.ComponentOrphan & compartment_key\n",
    "                      & [dict(compartment_type=compartment) for compartment in [\"Apical\", \"Oblique\", \"Basal\", \"Dendrite\"]]).fetch()\n",
    "        \n",
    "        non_existence_count = 0\n",
    "        component_spine_match = []\n",
    "        for component in components:\n",
    "            component_key = dict(compartment_key, compartment_type=component[3], component_index=component[4])\n",
    "            try:\n",
    "                component_labels = (ta3p100.ComponentLabelOrphan & component_key).fetch()\n",
    "                n_heads = list(zip(*component_labels))[12]\n",
    "#                 min_n_heads = np.min(n_heads)\n",
    "#                 index_supposed_best_fit = np.where(n_heads==min_n_heads)[0][0]#[-1]\n",
    "#                 component_spine_match.append((component, list(component_labels[index_supposed_best_fit])[8:12]))\n",
    "                component_spine_match.append((component, list(component_labels[0])[8:12]))\n",
    "            except:\n",
    "                non_existence_count += 1\n",
    "                pass\n",
    "#         print(f\"{non_existence_count} components did not have spine data.\")\n",
    "        for match in component_spine_match:\n",
    "            if not np.array_equal(list(match[0])[5:7], list(match[1])[:2]):\n",
    "                print(\"Ruh-roh the sizes of the component and component_label array don't match.\")\n",
    "        \n",
    "        corrected_vertex_labels = corrected_labels['vertices']\n",
    "        corrected_triangle_labels = corrected_labels['triangles']\n",
    "\n",
    "        new_complete_vertex_labels = corrected_vertex_labels.copy()\n",
    "        for match in component_spine_match:\n",
    "            vertex_indices = match[0][7]\n",
    "            spine_vertex_labels = match[1][2].astype(np.uint8)\n",
    "            overlayed_vertex_labels = np.array([corrected_vertex_labels[vertex_indices], spine_vertex_labels]).max(axis=0)\n",
    "            new_complete_vertex_labels[vertex_indices] = overlayed_vertex_labels\n",
    "\n",
    "        new_complete_triangle_labels = corrected_triangle_labels.copy()\n",
    "        for match in component_spine_match:\n",
    "            triangle_indices = match[0][8]\n",
    "            spine_triangle_labels = match[1][3].astype(np.uint8)\n",
    "            overlayed_triangle_labels = np.array([corrected_triangle_labels[triangle_indices], spine_triangle_labels]).max(axis=0)\n",
    "            new_complete_triangle_labels[triangle_indices] = overlayed_triangle_labels\n",
    "        \n",
    "        self.insert1(dict(key,\n",
    "                          vertices=new_complete_vertex_labels,\n",
    "                          triangles=new_complete_triangle_labels))\n",
    "        \n",
    "#         print(time.time() - start, \"\\n\")"
   ]
  },
  {
   "cell_type": "code",
   "execution_count": 6,
   "metadata": {},
   "outputs": [
    {
     "name": "stdout",
     "output_type": "stream",
     "text": [
      "55.97365927696228\n"
     ]
    }
   ],
   "source": [
    "start = time.time()\n",
    "OverlayedSpineLabelOrphanRevised.populate()\n",
    "print(time.time() - start)"
   ]
  },
  {
   "cell_type": "code",
   "execution_count": null,
   "metadata": {},
   "outputs": [],
   "source": []
  }
 ],
 "metadata": {
  "kernelspec": {
   "display_name": "Python 3",
   "language": "python",
   "name": "python3"
  },
  "language_info": {
   "codemirror_mode": {
    "name": "ipython",
    "version": 3
   },
   "file_extension": ".py",
   "mimetype": "text/x-python",
   "name": "python",
   "nbconvert_exporter": "python",
   "pygments_lexer": "ipython3",
   "version": "3.6.5"
  }
 },
 "nbformat": 4,
 "nbformat_minor": 2
}
