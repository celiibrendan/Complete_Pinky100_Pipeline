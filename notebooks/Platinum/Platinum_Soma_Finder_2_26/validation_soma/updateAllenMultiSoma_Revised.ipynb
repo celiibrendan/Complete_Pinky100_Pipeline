{
 "cells": [
  {
   "cell_type": "code",
   "execution_count": 2,
   "metadata": {},
   "outputs": [
    {
     "name": "stdout",
     "output_type": "stream",
     "text": [
      "Connecting celiib@10.28.0.34:3306\n"
     ]
    }
   ],
   "source": [
    "#from minnie65 import m65, ingest, plotting\n",
    "#from minnie65.utils.em_2p import func, utils\n",
    "import datajoint as dj\n",
    "import numpy as np\n",
    "m65 = dj.create_virtual_module('m65', 'microns_minnie65_01')\n",
    "\n"
   ]
  },
  {
   "cell_type": "code",
   "execution_count": 3,
   "metadata": {},
   "outputs": [],
   "source": [
    "from ipywidgets import widgets, HBox, VBox, Label\n",
    "from IPython.display import HTML, display, clear_output\n",
    "import urllib\n",
    "import json\n",
    "import re"
   ]
  },
  {
   "cell_type": "code",
   "execution_count": 4,
   "metadata": {},
   "outputs": [],
   "source": [
    "def html_to_json(url_string, return_parsed_url=False, fragment_prefix='!'):\n",
    "    # Parse neuromancer url to logically separate the json state dict from the rest of it.\n",
    "    full_url_parsed = urllib.parse.urlparse(url_string)\n",
    "    # Decode percent-encoding in url, and skip \"!\" from beginning of string.\n",
    "    decoded_fragment = urllib.parse.unquote(full_url_parsed.fragment)\n",
    "    if decoded_fragment.startswith(fragment_prefix):\n",
    "        decoded_fragment = decoded_fragment[1:]\n",
    "    # Load the json state dict string into a python dictionary.\n",
    "    json_state_dict = json.loads(decoded_fragment)\n",
    "\n",
    "    if return_parsed_url:\n",
    "        return json_state_dict, full_url_parsed\n",
    "    else:\n",
    "        return json_state_dict\n",
    "\n",
    "\n",
    "def add_segments(provided_link, segments, seg_name='seg', overwrite=True, color=None):\n",
    "    json_data, parsed_url = html_to_json(provided_link, return_parsed_url=True)\n",
    "    seg_strings = []\n",
    "    for seg in segments:\n",
    "        seg_strings.append(seg.astype(np.str))\n",
    "    segmentation_layer = list(filter(lambda d: np.logical_and(d['type'] == 'segmentation', d['name'] == seg_name), json_data['layers']))\n",
    "    if len(segmentation_layer) == 0:\n",
    "        print('segmentation layer does not exist... creating it')\n",
    "        json_data['layers'].append({\n",
    "        \"source\": \"precomputed://gs://microns-seunglab/minnie65/seg_minnie65_0\",\n",
    "        \"type\": \"segmentation\",\n",
    "        \"colorSeed\": 2940450712,\n",
    "        \"segments\": [],\n",
    "        \"skeletonRendering\": {\n",
    "        \"mode2d\": \"lines_and_points\",\n",
    "        \"mode3d\": \"lines\"\n",
    "          },\n",
    "       \"name\": f\"{seg_name}\"\n",
    "        })\n",
    "        segmentation_layer = list(filter(lambda d: np.logical_and(d['type'] == 'segmentation', d['name'] == seg_name), json_data['layers']))\n",
    "    if re.search('segments',json.dumps(json_data)) is None:\n",
    "        segmentation_layer[0].update({'segments':[]})\n",
    "    if overwrite:\n",
    "        segmentation_layer[0]['segments'] = seg_strings\n",
    "    else:\n",
    "        segmentation_layer[0]['segments'].extend(seg_strings)\n",
    "    if color is not None:\n",
    "        if re.search('segmentColors',json.dumps(json_data)) is None:\n",
    "            segmentation_layer[0].update({'segmentColors':{}})\n",
    "        color_dict = {}\n",
    "        for seg in segments:\n",
    "            color_dict.update({str(seg):color})\n",
    "        segmentation_layer[0]['segmentColors'] = color_dict\n",
    "            \n",
    "    return urllib.parse.urlunparse([parsed_url.scheme, parsed_url.netloc, parsed_url.path, parsed_url.params, parsed_url.query, '!'+ urllib.parse.quote(json.dumps(json_data))])"
   ]
  },
  {
   "cell_type": "code",
   "execution_count": 5,
   "metadata": {},
   "outputs": [],
   "source": [
    "@m65.schema\n",
    "class AllenMultiSomas(dj.Manual):\n",
    "    definition = \"\"\"\n",
    "    # Segment IDs of core segments with multiple somas identified by the Allen Institute.\n",
    "    segment_id           : bigint unsigned              # segment id unique within each Segmentation, should be mirrored in Segment table.\n",
    "    ---\n",
    "    status=NULL : int unsigned                          # verification status (NULL=not checked, 0=ignore, 1=partial, 2=complete)\n",
    "    \"\"\"\n",
    "\n",
    "    class Centroids(dj.Part):\n",
    "        definition = \"\"\"\n",
    "        # Manually added centroids for AllenMultiSoma table\n",
    "        -> AllenMultiSomas\n",
    "        soma_id    : smallint unsigned              # soma id of a subsegment\n",
    "        ---\n",
    "        centroid_x  : int unsigned                        # x coordinate of centroid in EM voxels\n",
    "        centroid_y  : int unsigned                        # y coordinate of centroid in EM voxels\n",
    "        centroid_z  : int unsigned                        # z coordinate of centroid in EM voxels\n",
    "        \"\"\""
   ]
  },
  {
   "cell_type": "code",
   "execution_count": 50,
   "metadata": {},
   "outputs": [],
   "source": [
    "def updateAllenMultiSomaCentroid(provided_link, random=False):\n",
    "    if random:\n",
    "        unchecked = (AllenMultiSomas() & 'status is NULL').fetch('segment_id')\n",
    "        seg_id = np.random.permutation(unchecked)[0]\n",
    "            \n",
    "    # fields\n",
    "        segment_field = widgets.Text(str(seg_id), continuous_update=True)\n",
    "    else:\n",
    "        segment_field = widgets.Text('Enter Segment ID here', continuous_update=True)\n",
    "    centroid_field = widgets.Text('Enter EM Centroid here', continuous_update=True)\n",
    "    \n",
    "    # buttons\n",
    "    ng_button = widgets.Button(description=\"Print NG Link\")    \n",
    "    def on_ng_button_clicked(ng_button):\n",
    "        with_seg = add_segments(provided_link, np.array([eval(segment_field.value)]), 'seg')\n",
    "        display(HTML(f'<a href=\"{with_seg}\">Neuroglancer link for seg: {segment_field.value}</a>'))\n",
    "        print(HTML(f'<a href=\"{with_seg}\">Neuroglancer link for seg: {segment_field.value}</a>'))\n",
    "        \n",
    "    \n",
    "    insert_button = widgets.Button(description=\"Insert\")\n",
    "    def on_insert_button_clicked(insert_button):\n",
    "        cen_x, cen_y, cen_z = np.array(eval(centroid_field.value))\n",
    "        n_soma = len(AllenMultiSomas.Centroids & f'segment_id={eval(segment_field.value)}')\n",
    "        AllenMultiSomas.Centroids.insert1([eval(segment_field.value), n_soma+1, cen_x, cen_y, cen_z], allow_direct_insert=True)\n",
    "        (AllenMultiSomas & f'segment_id = {eval(segment_field.value)}')._update('status', 1)\n",
    "        print(f'Successful Centroid Insert: seg_id: {eval(segment_field.value)}, soma_id: {n_soma+1}, centroid: {cen_x, cen_y, cen_z}, status=1 (Partial)')\n",
    "#         print(f'Successful Update: seg_id: {eval(segment_field.value)}, status=1 (Partial)')\n",
    "    \n",
    "    null_button = widgets.Button(description='NULL')\n",
    "    def on_null_button_clicked(null_button):\n",
    "        (AllenMultiSomas & f'segment_id = {eval(segment_field.value)}')._update('status', np.nan)\n",
    "        print(f'Successful Update: seg_id: {eval(segment_field.value)}, status=NULL (not checked)')\n",
    "    \n",
    "    ignore_button = widgets.Button(description='Ignore')\n",
    "    def on_ignore_button_clicked(ignore_button):\n",
    "        (AllenMultiSomas & f'segment_id = {eval(segment_field.value)}')._update('status', 0)\n",
    "        print(f'Successful Update: seg_id: {eval(segment_field.value)}, status=0 (Ignore)')\n",
    "        \n",
    "    ignore_button_3 = widgets.Button(description='Somas_Merged')\n",
    "    def on_ignore_button_3_clicked(ignore_button_3):\n",
    "        (AllenMultiSomas & f'segment_id = {eval(segment_field.value)}')._update('status', 3)\n",
    "        print(f'Successful Update: seg_id: {eval(segment_field.value)}, status=3 (Somas_Merged)')\n",
    "    \n",
    "    ignore_button_4 = widgets.Button(description='Glia_Merged')\n",
    "    def on_ignore_button_4_clicked(ignore_button_4):\n",
    "        (AllenMultiSomas & f'segment_id = {eval(segment_field.value)}')._update('status', 4)\n",
    "        print(f'Successful Update: seg_id: {eval(segment_field.value)}, status=4 (Glia_Merged)')\n",
    "        \n",
    "    ignore_button_5 = widgets.Button(description='Glia_Merged_onto_Soma')\n",
    "    def on_ignore_button_5_clicked(ignore_button_5):\n",
    "        (AllenMultiSomas & f'segment_id = {eval(segment_field.value)}')._update('status', 5)\n",
    "        print(f'Successful Update: seg_id: {eval(segment_field.value)}, status=5 (Glia_Merged_onto_Soma)')\n",
    "        \n",
    "        \n",
    "    partial_button = widgets.Button(description=\"Partial\")\n",
    "    def on_partial_button_clicked(partial_button):\n",
    "        (AllenMultiSomas & f'segment_id = {eval(segment_field.value)}')._update('status', 1)\n",
    "        print(f'Successful Update: seg_id: {eval(segment_field.value)}, status=1 (Partial)')\n",
    "    \n",
    "    \n",
    "    complete_button = widgets.Button(description=\"Complete_2\")\n",
    "    def on_complete_button_clicked(complete_button):\n",
    "        (AllenMultiSomas & f'segment_id = {eval(segment_field.value)}')._update('status', 2)\n",
    "        print(f'Successful Update: seg_id: {eval(segment_field.value)}, status=2 (Complete)')\n",
    "        \n",
    "    complete_button_1 = widgets.Button(description=\"Complete (1)\")\n",
    "    def on_complete_button_1_clicked(complete_button_1):\n",
    "        (AllenMultiSomas & f'segment_id = {eval(segment_field.value)}')._update('status', 6)\n",
    "        print(f'Successful Update: seg_id: {eval(segment_field.value)}, status=6 (Complete_1)')\n",
    "    \n",
    "    # display\n",
    "    display(HBox([Label(value = r'$\\Large \\text{Update Segment ID:} $'), segment_field, ng_button]))\n",
    "    display(HBox([Label(value = r'$\\Large \\text{Update Centroid:}$'), centroid_field, insert_button]))\n",
    "    display(HBox([Label(value = r'$\\Large \\text{Update Status:}$'), null_button, ignore_button,\n",
    "                          ignore_button_3,ignore_button_4,ignore_button_5,\n",
    "                          partial_button, complete_button,complete_button_1]))\n",
    "    \n",
    "#     plot preview (too slow right now, might be better with higher decimation like 0.05)\n",
    "#     mesh = (m65.Decimation() & f'segment_id={seg_id}').fetch1('mesh')\n",
    "#     @plotting.config_dark\n",
    "#     def plot_mesh(mesh):\n",
    "#         plotting.add_mesh(mesh.vertices[:,[0,2,1]], mesh.faces, color='green') #need to fix the orientation still\n",
    "#     plot_mesh(mesh)\n",
    "    \n",
    "    ng_button.on_click(on_ng_button_clicked)\n",
    "    insert_button.on_click(on_insert_button_clicked)\n",
    "    null_button.on_click(on_null_button_clicked)\n",
    "    ignore_button.on_click(on_ignore_button_clicked)\n",
    "    ignore_button_3.on_click(on_ignore_button_3_clicked)\n",
    "    ignore_button_4.on_click(on_ignore_button_4_clicked)\n",
    "    ignore_button_5.on_click(on_ignore_button_5_clicked)\n",
    "    partial_button.on_click(on_partial_button_clicked)\n",
    "    complete_button.on_click(on_complete_button_clicked)\n",
    "    complete_button_1.on_click(on_complete_button_1_clicked)"
   ]
  },
  {
   "cell_type": "code",
   "execution_count": 51,
   "metadata": {},
   "outputs": [],
   "source": [
    "provided_link = 'https://neuromancer-seung-import.appspot.com/#!%7B%22layers%22:%5B%7B%22source%22:%22precomputed://gs://microns-seunglab/minnie_v4/alignment/fine/sergiy_multimodel_v1/vector_fixer30_faster_v01/image_stitch_multi_block_v1%22%2C%22type%22:%22image%22%2C%22blend%22:%22default%22%2C%22shaderControls%22:%7B%7D%2C%22name%22:%22image%22%7D%2C%7B%22source%22:%22precomputed://gs://microns-seunglab/minnie65/single_sections%22%2C%22type%22:%22image%22%2C%22blend%22:%22default%22%2C%22shaderControls%22:%7B%7D%2C%22name%22:%22mip1%22%2C%22visible%22:false%7D%2C%7B%22source%22:%22precomputed://gs://microns-seunglab/minnie65/seg_minnie65_0%22%2C%22type%22:%22segmentation%22%2C%22skeletonRendering%22:%7B%22mode2d%22:%22lines_and_points%22%2C%22mode3d%22:%22lines%22%7D%2C%22name%22:%22seg%22%7D%5D%2C%22navigation%22:%7B%22pose%22:%7B%22position%22:%7B%22voxelSize%22:%5B4%2C4%2C40%5D%2C%22voxelCoordinates%22:%5B251075.296875%2C232138.1875%2C20365.94921875%5D%7D%2C%22orientation%22:%5B0%2C-0.7071067690849304%2C0%2C0.7071067690849304%5D%7D%2C%22zoomFactor%22:55.353050124031554%7D%2C%22perspectiveZoom%22:23722.467126512438%2C%22showSlices%22:false%2C%22gpuMemoryLimit%22:2500000000%2C%22systemMemoryLimit%22:2500000000%2C%22selectedLayer%22:%7B%22layer%22:%22seg%22%2C%22visible%22:true%7D%2C%22layout%22:%7B%22type%22:%224panel%22%2C%22orthographicProjection%22:true%7D%7D'"
   ]
  },
  {
   "cell_type": "code",
   "execution_count": 55,
   "metadata": {},
   "outputs": [
    {
     "data": {
      "application/vnd.jupyter.widget-view+json": {
       "model_id": "d7a80a2782fd41b0b7e8747483ffe7c7",
       "version_major": 2,
       "version_minor": 0
      },
      "text/plain": [
       "HBox(children=(Label(value='$\\\\Large \\\\text{Update Segment ID:} $'), Text(value='92345990027434104'), Button(d…"
      ]
     },
     "metadata": {},
     "output_type": "display_data"
    },
    {
     "data": {
      "application/vnd.jupyter.widget-view+json": {
       "model_id": "5b318f78d4dc4e8a863e3ec0b40a9250",
       "version_major": 2,
       "version_minor": 0
      },
      "text/plain": [
       "HBox(children=(Label(value='$\\\\Large \\\\text{Update Centroid:}$'), Text(value='Enter EM Centroid here'), Button…"
      ]
     },
     "metadata": {},
     "output_type": "display_data"
    },
    {
     "data": {
      "application/vnd.jupyter.widget-view+json": {
       "model_id": "8763bf2fe1fb4d9185041256ec5b17e8",
       "version_major": 2,
       "version_minor": 0
      },
      "text/plain": [
       "HBox(children=(Label(value='$\\\\Large \\\\text{Update Status:}$'), Button(description='NULL', style=ButtonStyle()…"
      ]
     },
     "metadata": {},
     "output_type": "display_data"
    }
   ],
   "source": [
    "updateAllenMultiSomaCentroid(provided_link, random=True)"
   ]
  },
  {
   "cell_type": "code",
   "execution_count": null,
   "metadata": {},
   "outputs": [],
   "source": [
    "\"\"\"\n",
    "Shift drag to get to center\n",
    "spacebar to get the soma center\n",
    "Click copy position to clipboard in the top right\n",
    "Paste in update centroid\n",
    "Hit partial\n",
    "\"\"\""
   ]
  },
  {
   "cell_type": "code",
   "execution_count": 56,
   "metadata": {},
   "outputs": [
    {
     "data": {
      "text/html": [
       "\n",
       "        \n",
       "        <style type=\"text/css\">\n",
       "            .Relation{\n",
       "                border-collapse:collapse;\n",
       "            }\n",
       "            .Relation th{\n",
       "                background: #A0A0A0; color: #ffffff; padding:4px; border:#f0e0e0 1px solid;\n",
       "                font-weight: normal; font-family: monospace; font-size: 100%;\n",
       "            }\n",
       "            .Relation td{\n",
       "                padding:4px; border:#f0e0e0 1px solid; font-size:100%;\n",
       "            }\n",
       "            .Relation tr:nth-child(odd){\n",
       "                background: #ffffff;\n",
       "            }\n",
       "            .Relation tr:nth-child(even){\n",
       "                background: #f3f1ff;\n",
       "            }\n",
       "            /* Tooltip container */\n",
       "            .djtooltip {\n",
       "            }\n",
       "            /* Tooltip text */\n",
       "            .djtooltip .djtooltiptext {\n",
       "                visibility: hidden;\n",
       "                width: 120px;\n",
       "                background-color: black;\n",
       "                color: #fff;\n",
       "                text-align: center;\n",
       "                padding: 5px 0;\n",
       "                border-radius: 6px;\n",
       "                /* Position the tooltip text - see examples below! */\n",
       "                position: absolute;\n",
       "                z-index: 1;\n",
       "            }\n",
       "            #primary {\n",
       "                font-weight: bold;\n",
       "                color: black;\n",
       "            }\n",
       "\n",
       "            #nonprimary {\n",
       "                font-weight: normal;\n",
       "                color: white;\n",
       "            }\n",
       "\n",
       "            /* Show the tooltip text when you mouse over the tooltip container */\n",
       "            .djtooltip:hover .djtooltiptext {\n",
       "                visibility: visible;\n",
       "            }\n",
       "        </style>\n",
       "        \n",
       "        <b>Segment IDs of core segments with multiple somas identified by the Allen Institute.</b>\n",
       "            <div style=\"max-height:1000px;max-width:1500px;overflow:auto;\">\n",
       "            <table border=\"1\" class=\"Relation\">\n",
       "                <thead> <tr style=\"text-align: right;\"> <th> <div class=\"djtooltip\">\n",
       "                                <p id=\"primary\">segment_id</p>\n",
       "                                <span class=\"djtooltiptext\">segment id unique within each Segmentation, should be mirrored in Segment table.</span>\n",
       "                            </div></th><th><div class=\"djtooltip\">\n",
       "                                <p id=\"nonprimary\">status</p>\n",
       "                                <span class=\"djtooltiptext\">verification status (NULL=not checked, 0=ignore, 1=partial, 2=complete)</span>\n",
       "                            </div> </th> </tr> </thead>\n",
       "                <tbody> <tr> <td>92345990027434104</td>\n",
       "<td>2</td> </tr> </tbody>\n",
       "            </table>\n",
       "            \n",
       "            <p>Total: 1</p></div>\n",
       "            "
      ],
      "text/plain": [
       "*segment_id    status    \n",
       "+------------+ +--------+\n",
       "92345990027434 2         \n",
       " (Total: 1)"
      ]
     },
     "execution_count": 56,
     "metadata": {},
     "output_type": "execute_result"
    }
   ],
   "source": [
    "current_seg_id = 92345990027434104\n",
    "m65.AllenMultiSomas & dict(segment_id=current_seg_id)"
   ]
  },
  {
   "cell_type": "code",
   "execution_count": 57,
   "metadata": {},
   "outputs": [
    {
     "data": {
      "text/html": [
       "\n",
       "        \n",
       "        <style type=\"text/css\">\n",
       "            .Relation{\n",
       "                border-collapse:collapse;\n",
       "            }\n",
       "            .Relation th{\n",
       "                background: #A0A0A0; color: #ffffff; padding:4px; border:#f0e0e0 1px solid;\n",
       "                font-weight: normal; font-family: monospace; font-size: 100%;\n",
       "            }\n",
       "            .Relation td{\n",
       "                padding:4px; border:#f0e0e0 1px solid; font-size:100%;\n",
       "            }\n",
       "            .Relation tr:nth-child(odd){\n",
       "                background: #ffffff;\n",
       "            }\n",
       "            .Relation tr:nth-child(even){\n",
       "                background: #f3f1ff;\n",
       "            }\n",
       "            /* Tooltip container */\n",
       "            .djtooltip {\n",
       "            }\n",
       "            /* Tooltip text */\n",
       "            .djtooltip .djtooltiptext {\n",
       "                visibility: hidden;\n",
       "                width: 120px;\n",
       "                background-color: black;\n",
       "                color: #fff;\n",
       "                text-align: center;\n",
       "                padding: 5px 0;\n",
       "                border-radius: 6px;\n",
       "                /* Position the tooltip text - see examples below! */\n",
       "                position: absolute;\n",
       "                z-index: 1;\n",
       "            }\n",
       "            #primary {\n",
       "                font-weight: bold;\n",
       "                color: black;\n",
       "            }\n",
       "\n",
       "            #nonprimary {\n",
       "                font-weight: normal;\n",
       "                color: white;\n",
       "            }\n",
       "\n",
       "            /* Show the tooltip text when you mouse over the tooltip container */\n",
       "            .djtooltip:hover .djtooltiptext {\n",
       "                visibility: visible;\n",
       "            }\n",
       "        </style>\n",
       "        \n",
       "        <b>Manually added centroids for AllenMultiSoma table</b>\n",
       "            <div style=\"max-height:1000px;max-width:1500px;overflow:auto;\">\n",
       "            <table border=\"1\" class=\"Relation\">\n",
       "                <thead> <tr style=\"text-align: right;\"> <th> <div class=\"djtooltip\">\n",
       "                                <p id=\"primary\">segment_id</p>\n",
       "                                <span class=\"djtooltiptext\">segment id unique within each Segmentation, should be mirrored in Segment table.</span>\n",
       "                            </div></th><th><div class=\"djtooltip\">\n",
       "                                <p id=\"primary\">soma_id</p>\n",
       "                                <span class=\"djtooltiptext\">soma id of a subsegment</span>\n",
       "                            </div></th><th><div class=\"djtooltip\">\n",
       "                                <p id=\"nonprimary\">centroid_x</p>\n",
       "                                <span class=\"djtooltiptext\">x coordinate of centroid in EM voxels</span>\n",
       "                            </div></th><th><div class=\"djtooltip\">\n",
       "                                <p id=\"nonprimary\">centroid_y</p>\n",
       "                                <span class=\"djtooltiptext\">y coordinate of centroid in EM voxels</span>\n",
       "                            </div></th><th><div class=\"djtooltip\">\n",
       "                                <p id=\"nonprimary\">centroid_z</p>\n",
       "                                <span class=\"djtooltiptext\">z coordinate of centroid in EM voxels</span>\n",
       "                            </div> </th> </tr> </thead>\n",
       "                <tbody> <tr> <td>92345990027434104</td>\n",
       "<td>1</td>\n",
       "<td>211786</td>\n",
       "<td>252549</td>\n",
       "<td>25004</td></tr><tr><td>92345990027434104</td>\n",
       "<td>2</td>\n",
       "<td>212979</td>\n",
       "<td>282832</td>\n",
       "<td>24652</td></tr><tr><td>92345990027434104</td>\n",
       "<td>3</td>\n",
       "<td>240359</td>\n",
       "<td>280983</td>\n",
       "<td>24745</td></tr><tr><td>92345990027434104</td>\n",
       "<td>4</td>\n",
       "<td>237516</td>\n",
       "<td>252794</td>\n",
       "<td>23318</td> </tr> </tbody>\n",
       "            </table>\n",
       "            \n",
       "            <p>Total: 4</p></div>\n",
       "            "
      ],
      "text/plain": [
       "*segment_id    *soma_id    centroid_x     centroid_y     centroid_z    \n",
       "+------------+ +---------+ +------------+ +------------+ +------------+\n",
       "92345990027434 1           211786         252549         25004         \n",
       "92345990027434 2           212979         282832         24652         \n",
       "92345990027434 3           240359         280983         24745         \n",
       "92345990027434 4           237516         252794         23318         \n",
       " (Total: 4)"
      ]
     },
     "execution_count": 57,
     "metadata": {},
     "output_type": "execute_result"
    }
   ],
   "source": [
    "m65.AllenMultiSomas.Centroids()  & dict(segment_id=current_seg_id) #& \"status=2\""
   ]
  },
  {
   "cell_type": "code",
   "execution_count": 20,
   "metadata": {},
   "outputs": [
    {
     "name": "stdout",
     "output_type": "stream",
     "text": [
      "# Segment IDs of core segments with multiple somas identified by the Allen Institute.\n",
      "segment_id           : bigint unsigned              # segment id unique within each Segmentation, should be mirrored in Segment table.\n",
      "---\n",
      "status=null          : int unsigned                 # verification status (NULL=not checked, 0=ignore, 1=partial, 2=complete)\n",
      "\n"
     ]
    },
    {
     "data": {
      "text/plain": [
       "'# Segment IDs of core segments with multiple somas identified by the Allen Institute.\\nsegment_id           : bigint unsigned              # segment id unique within each Segmentation, should be mirrored in Segment table.\\n---\\nstatus=null          : int unsigned                 # verification status (NULL=not checked, 0=ignore, 1=partial, 2=complete)\\n'"
      ]
     },
     "execution_count": 20,
     "metadata": {},
     "output_type": "execute_result"
    }
   ],
   "source": [
    "m65.AllenMultiSomas.describe()"
   ]
  },
  {
   "cell_type": "code",
   "execution_count": null,
   "metadata": {},
   "outputs": [],
   "source": [
    "\"\"\"\n",
    "Different classes you would want to have:\n",
    "3: somas_merged\n",
    "4: glia_merged\n",
    "5: glia_merged_onto_soma\n",
    "\n",
    "\"\"\""
   ]
  }
 ],
 "metadata": {
  "kernelspec": {
   "display_name": "Python 3",
   "language": "python",
   "name": "python3"
  },
  "language_info": {
   "codemirror_mode": {
    "name": "ipython",
    "version": 3
   },
   "file_extension": ".py",
   "mimetype": "text/x-python",
   "name": "python",
   "nbconvert_exporter": "python",
   "pygments_lexer": "ipython3",
   "version": "3.6.8"
  }
 },
 "nbformat": 4,
 "nbformat_minor": 4
}
