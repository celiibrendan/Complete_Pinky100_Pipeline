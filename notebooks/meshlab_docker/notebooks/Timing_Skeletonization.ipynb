{
 "cells": [
  {
   "cell_type": "code",
   "execution_count": null,
   "metadata": {},
   "outputs": [],
   "source": [
    "import datajoint as dj\n",
    "import numpy as np"
   ]
  },
  {
   "cell_type": "code",
   "execution_count": null,
   "metadata": {},
   "outputs": [],
   "source": [
    "import calcification_Module as cm"
   ]
  },
  {
   "cell_type": "code",
   "execution_count": null,
   "metadata": {},
   "outputs": [],
   "source": [
    "import os\n",
    "import pathlib\n",
    "\n",
    "##write the OFF file for the neuron\n",
    "def write_Whole_Neuron_Off_file(neuron_ID,vertices=[], triangles=[]):\n",
    "    #primary_key = dict(segmentation=1, segment_id=segment_id, decimation_ratio=0.35)\n",
    "    #vertices, triangles = (mesh_Table_35 & primary_key).fetch1('vertices', 'triangles')\n",
    "    \n",
    "    num_vertices = (len(vertices))\n",
    "    num_faces = len(triangles)\n",
    "    \n",
    "    #get the current file location\n",
    "    file_loc = pathlib.Path.cwd() / \"temp\"\n",
    "    filename = \"neuron_\" + str(neuron_ID)\n",
    "    path_and_filename = file_loc / filename\n",
    "    \n",
    "    #print(file_loc)\n",
    "    #print(path_and_filename)\n",
    "    \n",
    "    #open the file and start writing to it    \n",
    "    f = open(str(path_and_filename) + \".off\", \"w\")\n",
    "    f.write(\"OFF\\n\")\n",
    "    f.write(str(num_vertices) + \" \" + str(num_faces) + \" 0\\n\" )\n",
    "    \n",
    "    \n",
    "    #iterate through and write all of the vertices in the file\n",
    "    for verts in vertices:\n",
    "        f.write(str(verts[0]) + \" \" + str(verts[1]) + \" \" + str(verts[2])+\"\\n\")\n",
    "    \n",
    "    #print(\"Done writing verts\")\n",
    "        \n",
    "    for faces in triangles:\n",
    "        f.write(\"3 \" + str(faces[0]) + \" \" + str(faces[1]) + \" \" + str(faces[2])+\"\\n\")\n",
    "    \n",
    "    print(\"Done writing OFF file\")\n",
    "    #f.write(\"end\")\n",
    "    \n",
    "    return str(path_and_filename),str(filename),str(file_loc)"
   ]
  },
  {
   "cell_type": "code",
   "execution_count": null,
   "metadata": {},
   "outputs": [],
   "source": [
    "#connect to the database and pull down Cleansed Mesh ones and generate the resurfacing of these\n",
    "ta3p100 = dj.create_virtual_module(\"ta3p100\",\"microns_ta3p100\")"
   ]
  },
  {
   "cell_type": "code",
   "execution_count": null,
   "metadata": {},
   "outputs": [],
   "source": [
    "ta3p100.CleansedMesh()"
   ]
  },
  {
   "cell_type": "code",
   "execution_count": null,
   "metadata": {},
   "outputs": [],
   "source": [
    "segment_id = 648518346342806978\n",
    "label_key = dict(segment_id=segment_id)\n",
    "vertices,triangles = (ta3p100.CleansedMesh & label_key).fetch1(\"vertices\",\"triangles\")\n"
   ]
  },
  {
   "cell_type": "code",
   "execution_count": null,
   "metadata": {},
   "outputs": [],
   "source": [
    "#generate the off file for this\n",
    "file_name_path,file_name,file_loc = write_Whole_Neuron_Off_file(segment_id,vertices.tolist(),triangles.tolist())"
   ]
  },
  {
   "cell_type": "code",
   "execution_count": null,
   "metadata": {},
   "outputs": [],
   "source": [
    "#generate the Poisson surface reconstruction (need to run script )\n",
    "#### THIS WILL HAVE TO BE A MANUAL STEP UNTIL I FIX IT\n",
    "import os\n",
    "import subprocess\n",
    "os.system(\"./setup_meshlabserver.sh\")\n",
    "\n",
    "#execfile\n"
   ]
  },
  {
   "cell_type": "code",
   "execution_count": null,
   "metadata": {},
   "outputs": [],
   "source": [
    "def make_executable(path):\n",
    "    mode = os.stat(path).st_mode\n",
    "    mode |= (mode & 0o444) >> 2    # copy R bits to X\n",
    "    os.chmod(path, mode)"
   ]
  },
  {
   "cell_type": "code",
   "execution_count": null,
   "metadata": {},
   "outputs": [],
   "source": [
    "#try running a meshlabserver command write here\n",
    "new_string = (\"meshlabserver -i ./temp/neuron_\" + str(segment_id) +\n",
    "           \".off -o ./temp/neuron_\" + str(segment_id) + \"_new.off \" + \n",
    "           \"-s remeshing_script_5.mlx\")\n",
    "#os.system(new_string)\n",
    "#print(new_string)\n",
    "\n",
    "\n",
    "\n",
    "\n"
   ]
  },
  {
   "cell_type": "code",
   "execution_count": null,
   "metadata": {},
   "outputs": [],
   "source": [
    "commands_to_run = ['function meshlabserver() { xvfb-run -a -s \"-screen 0 800x600x24\" meshlabserver $@; }',\n",
    "                  'export -f meshlabserver']\n",
    "\n",
    "path = 'neuron-' + str(segment_id) + '.sh'\n",
    "with open(path, 'w+') as f:           # umask in effect when file is created\n",
    "    f.write('#!/bin/bash\\n')\n",
    "    f.write('echo \"hello world\"\\n')\n",
    "    f.write(commands_to_run[0]+\"\\n\")\n",
    "    f.write(commands_to_run[1]+\"\\n\")\n",
    "    f.write(new_string)\n",
    "\n",
    "make_executable(path)\n",
    "os.system(\"./\"+path)"
   ]
  },
  {
   "cell_type": "code",
   "execution_count": null,
   "metadata": {},
   "outputs": [],
   "source": [
    "#run the skeletonization module:\n",
    "import calcification_Module as cm\n",
    "dir(cm)\n",
    "\n",
    "import time\n",
    "\n",
    "import os\n",
    "from pathlib import Path\n",
    "filename = \"Voxelized_Mesh_Resurfaced\"\n",
    "total_path = os.getcwd() + \"/\" + filename\n"
   ]
  },
  {
   "cell_type": "code",
   "execution_count": null,
   "metadata": {},
   "outputs": [],
   "source": [
    "start_time = time.time()\n",
    "return_value = cm.calcification(total_path)\n",
    "print(return_value)\n",
    "end_time = time.time()\n",
    "print(f\"End time = {time.time()-start_time}\")"
   ]
  },
  {
   "cell_type": "code",
   "execution_count": null,
   "metadata": {},
   "outputs": [],
   "source": []
  }
 ],
 "metadata": {
  "kernelspec": {
   "display_name": "Python 3",
   "language": "python",
   "name": "python3"
  },
  "language_info": {
   "codemirror_mode": {
    "name": "ipython",
    "version": 3
   },
   "file_extension": ".py",
   "mimetype": "text/x-python",
   "name": "python",
   "nbconvert_exporter": "python",
   "pygments_lexer": "ipython3",
   "version": "3.6.5"
  }
 },
 "nbformat": 4,
 "nbformat_minor": 2
}
