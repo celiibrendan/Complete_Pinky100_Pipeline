{
 "cells": [
  {
   "cell_type": "code",
   "execution_count": 1,
   "metadata": {},
   "outputs": [
    {
     "data": {
      "text/plain": [
       "'\\nTo make the tables and methods for the platinum blender tool that is designed to: \\n1) Import the main neuron and all of its connected parts\\n2) Import the synapses associated with all of those pieces\\n- label the synapses as those in synapse exclude or not\\n3) Captur the label labels and write them to the Proofreading table\\n4) Translate the labels to the synapses\\n\\n'"
      ]
     },
     "execution_count": 1,
     "metadata": {},
     "output_type": "execute_result"
    }
   ],
   "source": [
    "\"\"\"\n",
    "To make the tables and methods for the platinum blender tool that is designed to: \n",
    "1) Import the main neuron and all of its connected parts\n",
    "2) Import the synapses associated with all of those pieces\n",
    "- label the synapses as those in synapse exclude or not\n",
    "3) Captur the label labels and write them to the Proofreading table\n",
    "4) Translate the labels to the synapses\n",
    "\n",
    "\"\"\""
   ]
  },
  {
   "cell_type": "code",
   "execution_count": 7,
   "metadata": {},
   "outputs": [],
   "source": [
    "import datajoint as dj\n",
    "import numpy as np"
   ]
  },
  {
   "cell_type": "code",
   "execution_count": 8,
   "metadata": {},
   "outputs": [
    {
     "data": {
      "text/plain": [
       "array([[  4,   8, 120],\n",
       "       [ 12,  16, 200]])"
      ]
     },
     "execution_count": 8,
     "metadata": {},
     "output_type": "execute_result"
    }
   ],
   "source": [
    "x = np.array([[1,2,3],[3,4,5]])\n",
    "y = x*[4, 4, 40]\n",
    "y"
   ]
  },
  {
   "cell_type": "code",
   "execution_count": 9,
   "metadata": {},
   "outputs": [
    {
     "name": "stderr",
     "output_type": "stream",
     "text": [
      "/usr/local/lib/python3.6/dist-packages/datajoint/connection.py:215: UserWarning: MySQL server has gone away. Reconnecting to the server.\n",
      "  warnings.warn(\"MySQL server has gone away. Reconnecting to the server.\")\n"
     ]
    }
   ],
   "source": [
    "pinky = dj.create_virtual_module(\"pinky\",\"microns_pinky\")\n"
   ]
  },
  {
   "cell_type": "code",
   "execution_count": null,
   "metadata": {},
   "outputs": [],
   "source": [
    "pinky.ProofreadLabelOrphan()"
   ]
  },
  {
   "cell_type": "markdown",
   "metadata": {},
   "source": [
    "# How to interface with the tables that has platinum data nad connectivity"
   ]
  },
  {
   "cell_type": "code",
   "execution_count": 10,
   "metadata": {},
   "outputs": [],
   "source": [
    "m65 = dj.create_virtual_module('m65', 'microns_minnie65_01')\n",
    "schema = dj.schema(\"microns_minnie65_01\")"
   ]
  },
  {
   "cell_type": "code",
   "execution_count": 11,
   "metadata": {},
   "outputs": [
    {
     "data": {
      "text/html": [
       "\n",
       "        \n",
       "        <style type=\"text/css\">\n",
       "            .Relation{\n",
       "                border-collapse:collapse;\n",
       "            }\n",
       "            .Relation th{\n",
       "                background: #A0A0A0; color: #ffffff; padding:4px; border:#f0e0e0 1px solid;\n",
       "                font-weight: normal; font-family: monospace; font-size: 100%;\n",
       "            }\n",
       "            .Relation td{\n",
       "                padding:4px; border:#f0e0e0 1px solid; font-size:100%;\n",
       "            }\n",
       "            .Relation tr:nth-child(odd){\n",
       "                background: #ffffff;\n",
       "            }\n",
       "            .Relation tr:nth-child(even){\n",
       "                background: #f3f1ff;\n",
       "            }\n",
       "            /* Tooltip container */\n",
       "            .djtooltip {\n",
       "            }\n",
       "            /* Tooltip text */\n",
       "            .djtooltip .djtooltiptext {\n",
       "                visibility: hidden;\n",
       "                width: 120px;\n",
       "                background-color: black;\n",
       "                color: #fff;\n",
       "                text-align: center;\n",
       "                padding: 5px 0;\n",
       "                border-radius: 6px;\n",
       "                /* Position the tooltip text - see examples below! */\n",
       "                position: absolute;\n",
       "                z-index: 1;\n",
       "            }\n",
       "            #primary {\n",
       "                font-weight: bold;\n",
       "                color: black;\n",
       "            }\n",
       "\n",
       "            #nonprimary {\n",
       "                font-weight: normal;\n",
       "                color: white;\n",
       "            }\n",
       "\n",
       "            /* Show the tooltip text when you mouse over the tooltip container */\n",
       "            .djtooltip:hover .djtooltiptext {\n",
       "                visibility: visible;\n",
       "            }\n",
       "        </style>\n",
       "        \n",
       "        <b></b>\n",
       "            <div style=\"max-height:1000px;max-width:1500px;overflow:auto;\">\n",
       "            <table border=\"1\" class=\"Relation\">\n",
       "                <thead> <tr style=\"text-align: right;\"> <th> <div class=\"djtooltip\">\n",
       "                                <p id=\"primary\">segment_id</p>\n",
       "                                <span class=\"djtooltiptext\">segment id unique within each Segmentation, should be mirrored in Segment table.</span>\n",
       "                            </div></th><th><div class=\"djtooltip\">\n",
       "                                <p id=\"primary\">version</p>\n",
       "                                <span class=\"djtooltiptext\">version of proofreading for the neuron</span>\n",
       "                            </div></th><th><div class=\"djtooltip\">\n",
       "                                <p id=\"primary\">decimation_ratio</p>\n",
       "                                <span class=\"djtooltiptext\">percentage that the faces are decimated</span>\n",
       "                            </div></th><th><div class=\"djtooltip\">\n",
       "                                <p id=\"primary\">author_original</p>\n",
       "                                <span class=\"djtooltiptext\">name of last editor</span>\n",
       "                            </div></th><th><div class=\"djtooltip\">\n",
       "                                <p id=\"primary\">author_proofreader</p>\n",
       "                                <span class=\"djtooltiptext\">name of last editor</span>\n",
       "                            </div></th><th><div class=\"djtooltip\">\n",
       "                                <p id=\"primary\">date_time</p>\n",
       "                                <span class=\"djtooltiptext\">the last time it was edited</span>\n",
       "                            </div></th><th><div class=\"djtooltip\">\n",
       "                                <p id=\"nonprimary\">vertices</p>\n",
       "                                <span class=\"djtooltiptext\">label data for the vertices</span>\n",
       "                            </div></th><th><div class=\"djtooltip\">\n",
       "                                <p id=\"nonprimary\">triangles</p>\n",
       "                                <span class=\"djtooltiptext\">label data for the faces</span>\n",
       "                            </div></th><th><div class=\"djtooltip\">\n",
       "                                <p id=\"nonprimary\">edges</p>\n",
       "                                <span class=\"djtooltiptext\">label data for the edges</span>\n",
       "                            </div></th><th><div class=\"djtooltip\">\n",
       "                                <p id=\"nonprimary\">status</p>\n",
       "                                <span class=\"djtooltiptext\">the index of the status descriptor that can be references by the StatusKey</span>\n",
       "                            </div> </th> </tr> </thead>\n",
       "                <tbody> <tr> <td>96631955273149705</td>\n",
       "<td>0</td>\n",
       "<td>1.00</td>\n",
       "<td>computer_Auto</td>\n",
       "<td>bcelii</td>\n",
       "<td>2019-11-07 19:04:40</td>\n",
       "<td>=BLOB=</td>\n",
       "<td>=BLOB=</td>\n",
       "<td>=BLOB=</td>\n",
       "<td>complete</td></tr><tr><td>107816118160698192</td>\n",
       "<td>0</td>\n",
       "<td>1.00</td>\n",
       "<td>computer_Auto</td>\n",
       "<td>bcelii</td>\n",
       "<td>2019-11-07 19:04:47</td>\n",
       "<td>=BLOB=</td>\n",
       "<td>=BLOB=</td>\n",
       "<td>=BLOB=</td>\n",
       "<td>complete</td> </tr> </tbody>\n",
       "            </table>\n",
       "            \n",
       "            <p>Total: 2</p></div>\n",
       "            "
      ],
      "text/plain": [
       "*segment_id    *version    *decimation_ra *author_origin *author_proofr *date_time     vertices   triangles  edges      status      \n",
       "+------------+ +---------+ +------------+ +------------+ +------------+ +------------+ +--------+ +--------+ +--------+ +----------+\n",
       "96631955273149 0           1.00           computer_Auto  bcelii         2019-11-07 19: =BLOB=     =BLOB=     =BLOB=     complete    \n",
       "10781611816069 0           1.00           computer_Auto  bcelii         2019-11-07 19: =BLOB=     =BLOB=     =BLOB=     complete    \n",
       " (Total: 2)"
      ]
     },
     "execution_count": 11,
     "metadata": {},
     "output_type": "execute_result"
    }
   ],
   "source": [
    "m65.WholeAutoAnnotationsLabelClusters3()"
   ]
  },
  {
   "cell_type": "code",
   "execution_count": null,
   "metadata": {},
   "outputs": [],
   "source": [
    "m65.FromNeuromancer()"
   ]
  },
  {
   "cell_type": "code",
   "execution_count": null,
   "metadata": {},
   "outputs": [],
   "source": [
    "m65.Synapse()"
   ]
  },
  {
   "cell_type": "code",
   "execution_count": null,
   "metadata": {},
   "outputs": [],
   "source": [
    "m65.FromNeuromancer.Subsegment()\n",
    "96631955273149705"
   ]
  },
  {
   "cell_type": "markdown",
   "metadata": {},
   "source": [
    "# Concatenating the Mesh: "
   ]
  },
  {
   "cell_type": "code",
   "execution_count": 7,
   "metadata": {},
   "outputs": [
    {
     "data": {
      "text/html": [
       "\n",
       "        \n",
       "        <style type=\"text/css\">\n",
       "            .Relation{\n",
       "                border-collapse:collapse;\n",
       "            }\n",
       "            .Relation th{\n",
       "                background: #A0A0A0; color: #ffffff; padding:4px; border:#f0e0e0 1px solid;\n",
       "                font-weight: normal; font-family: monospace; font-size: 100%;\n",
       "            }\n",
       "            .Relation td{\n",
       "                padding:4px; border:#f0e0e0 1px solid; font-size:100%;\n",
       "            }\n",
       "            .Relation tr:nth-child(odd){\n",
       "                background: #ffffff;\n",
       "            }\n",
       "            .Relation tr:nth-child(even){\n",
       "                background: #f3f1ff;\n",
       "            }\n",
       "            /* Tooltip container */\n",
       "            .djtooltip {\n",
       "            }\n",
       "            /* Tooltip text */\n",
       "            .djtooltip .djtooltiptext {\n",
       "                visibility: hidden;\n",
       "                width: 120px;\n",
       "                background-color: black;\n",
       "                color: #fff;\n",
       "                text-align: center;\n",
       "                padding: 5px 0;\n",
       "                border-radius: 6px;\n",
       "                /* Position the tooltip text - see examples below! */\n",
       "                position: absolute;\n",
       "                z-index: 1;\n",
       "            }\n",
       "            #primary {\n",
       "                font-weight: bold;\n",
       "                color: black;\n",
       "            }\n",
       "\n",
       "            #nonprimary {\n",
       "                font-weight: normal;\n",
       "                color: white;\n",
       "            }\n",
       "\n",
       "            /* Show the tooltip text when you mouse over the tooltip container */\n",
       "            .djtooltip:hover .djtooltiptext {\n",
       "                visibility: visible;\n",
       "            }\n",
       "        </style>\n",
       "        \n",
       "        <b>Segment IDs of core segments matched with their traced out fragments from Baylor proofreaders.</b>\n",
       "            <div style=\"max-height:1000px;max-width:1500px;overflow:auto;\">\n",
       "            <table border=\"1\" class=\"Relation\">\n",
       "                <thead> <tr style=\"text-align: right;\"> <th> <div class=\"djtooltip\">\n",
       "                                <p id=\"primary\">segment_id</p>\n",
       "                                <span class=\"djtooltiptext\">segment id unique within each Segmentation, should be mirrored in Segment table.</span>\n",
       "                            </div></th><th><div class=\"djtooltip\">\n",
       "                                <p id=\"primary\">version</p>\n",
       "                                <span class=\"djtooltiptext\">version of proofreading for the neuron</span>\n",
       "                            </div></th><th><div class=\"djtooltip\">\n",
       "                                <p id=\"nonprimary\">neuron_name</p>\n",
       "                                <span class=\"djtooltiptext\">Name of the neuron as it appears in the Neuromancer-Ingest website.</span>\n",
       "                            </div></th><th><div class=\"djtooltip\">\n",
       "                                <p id=\"nonprimary\">n_vertices</p>\n",
       "                                <span class=\"djtooltiptext\"></span>\n",
       "                            </div></th><th><div class=\"djtooltip\">\n",
       "                                <p id=\"nonprimary\">n_faces</p>\n",
       "                                <span class=\"djtooltiptext\"></span>\n",
       "                            </div></th><th><div class=\"djtooltip\">\n",
       "                                <p id=\"nonprimary\">vertices</p>\n",
       "                                <span class=\"djtooltiptext\"></span>\n",
       "                            </div></th><th><div class=\"djtooltip\">\n",
       "                                <p id=\"nonprimary\">faces</p>\n",
       "                                <span class=\"djtooltiptext\"></span>\n",
       "                            </div> </th> </tr> </thead>\n",
       "                <tbody> <tr> <td>96631955273149705</td>\n",
       "<td>0</td>\n",
       "<td>RONNY</td>\n",
       "<td>1659719</td>\n",
       "<td>3161800</td>\n",
       "<td>=BLOB=</td>\n",
       "<td>=BLOB=</td></tr><tr><td>107816118160698192</td>\n",
       "<td>0</td>\n",
       "<td>CHARMAINE</td>\n",
       "<td>937779</td>\n",
       "<td>1791632</td>\n",
       "<td>=BLOB=</td>\n",
       "<td>=BLOB=</td> </tr> </tbody>\n",
       "            </table>\n",
       "            \n",
       "            <p>Total: 2</p></div>\n",
       "            "
      ],
      "text/plain": [
       "*segment_id    *version    neuron_name    n_vertices     n_faces     vertices   faces     \n",
       "+------------+ +---------+ +------------+ +------------+ +---------+ +--------+ +--------+\n",
       "96631955273149 0           RONNY          1659719        3161800     =BLOB=     =BLOB=    \n",
       "10781611816069 0           CHARMAINE      937779         1791632     =BLOB=     =BLOB=    \n",
       " (Total: 2)"
      ]
     },
     "execution_count": 7,
     "metadata": {},
     "output_type": "execute_result"
    }
   ],
   "source": [
    "m65.FromNeuromancer()"
   ]
  },
  {
   "cell_type": "code",
   "execution_count": 5,
   "metadata": {},
   "outputs": [],
   "source": [
    "#have to adjust the coordinates by * [4, 4, 40])\n",
    "# practice on getting all of the synapses associated with a main segment and \n",
    "neurons_data = m65.FromNeuromancer.fetch(as_dict=True)"
   ]
  },
  {
   "cell_type": "code",
   "execution_count": 8,
   "metadata": {},
   "outputs": [
    {
     "name": "stdout",
     "output_type": "stream",
     "text": [
      "---Main Neuron ---\n",
      "96631955273149705\n",
      "1659719\n",
      "[[ 848887.5     776986.25   1032329.625 ]\n",
      " [ 848993.      776912.875  1032339.8125]\n",
      " [ 848950.625   777083.0625 1032342.    ]\n",
      " ...\n",
      " [1083392.      758736.     1069720.    ]\n",
      " [1083392.      758160.     1070520.    ]\n",
      " [1083392.      758144.     1070540.    ]]\n",
      "[[      0       2       1]\n",
      " [      0       1       3]\n",
      " [      4       6       5]\n",
      " ...\n",
      " [1656311 1655595 1657388]\n",
      " [1657331 1655945 1657332]\n",
      " [1658685 1657387 1658709]]\n",
      "---Main Neuron ---\n",
      "107816118160698192\n",
      "937779\n",
      "[[1219061.75     459752.59375  865277.5    ]\n",
      " [1218984.5      459845.03125  865190.25   ]\n",
      " [1219070.       459819.375    865243.25   ]\n",
      " ...\n",
      " [1360432.       734720.       787360.     ]\n",
      " [1360528.       734784.       787360.     ]\n",
      " [1360640.       734832.       787360.     ]]\n",
      "[[     0      2      1]\n",
      " [     0      1      3]\n",
      " [     0      3      4]\n",
      " ...\n",
      " [937729 937765 937778]\n",
      " [937729 937778 937758]\n",
      " [937712 937711 937767]]\n"
     ]
    }
   ],
   "source": [
    "for n in neurons_data:\n",
    "    print(\"---Main Neuron ---\")\n",
    "    print(n[\"segment_id\"])\n",
    "    print(n[\"n_vertices\"])\n",
    "    print(n[\"vertices\"])\n",
    "    print(n[\"faces\"])\n",
    "    \n",
    "    #get all of the segments and their data\n",
    "    lookup_key = dict(segment_id=n[\"segment_id\"],version = n[\"version\"])\n",
    "    subsegments = (m65.FromNeuromancer.Subsegment & lookup_key).fetch(as_dict=True)\n",
    "    \n",
    "    subsegment_dicts = dict([(k[\"subsegment_id\"],dict(vertices=k[\"vertices\"],faces=k[\"faces\"])) for k in subsegments])\n",
    "    \n",
    "    subsegment_ordered_list = np.sort(np.array(list(subsegment_dicts.keys())))\n",
    "    subsegments_vertices = [subsegment_dicts[k][\"vertices\"] for k in subsegment_ordered_list]\n",
    "    subsegments_faces = [subsegment_dicts[k][\"faces\"] for k in subsegment_ordered_list]\n",
    "    \n",
    "    for sub in subsegments:\n",
    "        pass\n",
    "#         print(f\"------sub_segment = {sub['subsegment_id']}-------\")\n",
    "#         print(sub[\"n_vertices\"])\n",
    "#         print(sub[\"vertices\"])\n",
    "#         print(sub[\"faces\"])"
   ]
  },
  {
   "cell_type": "code",
   "execution_count": null,
   "metadata": {},
   "outputs": [],
   "source": [
    "import numpy as np\n",
    "print((len(n[\"vertices\"]),len(sub[\"vertices\"]),len(n[\"vertices\"])+len(sub[\"vertices\"])))\n",
    "new_verts = np.vstack([n[\"vertices\"],sub[\"vertices\"]])\n",
    "print(len(new_verts))\n",
    "new_verts"
   ]
  },
  {
   "cell_type": "code",
   "execution_count": 9,
   "metadata": {},
   "outputs": [],
   "source": [
    "#combine all the meshes into one mesh\n",
    "def add_mesh_piece(main_mesh_vertices,main_mesh_faces,sub_mesh_vertices,sub_mesh_faces):\n",
    "    \"\"\"\n",
    "    Purpose: Takes in a large mesh piece and an array of other meshes and \n",
    "    returns a large mesh with all meshes appended\n",
    "    \n",
    "    Parameters:\n",
    "    main_mesh_vertices (np.array) : np array store the vertices as rows and the elements as the coordinates\n",
    "    main_mesh_faces (np.array) : np array store the faces as rows and the elements as the referenced vertices\n",
    "    sub_mesh_vertices(list of np.arrays) : list of np arrays with the vertices arrays for all subsegments to be added\n",
    "    sub_mesh_faces(list of np.arrays) : list of np arrays with the faces arrays for all subsegments to be added\n",
    "    \n",
    "    Returns:\n",
    "    mesh_vertices (np.array) : np array store the vertices as rows and the elements as the coordinates for NEW CONCATENATED MESH\n",
    "    mesh_faces (np.array) : np array store the faces as rows and the elements as the referenced vertices for NEW CONCATENATED MESH\n",
    "    \n",
    "    \n",
    "    Pseudocode: \n",
    "    - Checks: \n",
    "    a. Make sure there sub_mesh arrays are greater than 0 and of the same length\n",
    "\n",
    "    1) Count the number of vertices and faces in the main mesh\n",
    "    2) Iterate through the submesh vertices and faces. In loop:\n",
    "    a. Count the number of vertices in the submesh and concate the vertices arrays to the main mesh array\n",
    "    b. Add the vertices_count and add that to every number in the faces array\n",
    "    c. Concatenate the submesh faces onto the larger mesh face\n",
    "    d. Save this new vertices and faces as the main_mesh verts and faces\n",
    "    e. Print out how many new vertices and faces added\n",
    "    3) Print out number of segments added, total faces/vertices for new mesh\n",
    "    4) Return the main mesh vertices and faces\n",
    "    \n",
    "    \"\"\"\n",
    "    #a. Make sure there sub_mesh arrays are greater than 0 and of the same length\n",
    "    if len(sub_mesh_vertices) <= 0:\n",
    "        print(\"There were no vertices in submesh to add, returning main mesh\")\n",
    "        return main_mesh_vertices, main_mesh_faces\n",
    "    if len(sub_mesh_faces) <= 0:\n",
    "        print(\"There were no face in submesh to add, returning main mesh\")\n",
    "        return main_mesh_vertices, main_mesh_faces\n",
    "    if len(sub_mesh_faces) != len(sub_mesh_vertices):\n",
    "        raise Exception(\"The sub_mesh_faces and sub_mesh_vertices length did not match\")\n",
    "        \n",
    "    \n",
    "    #1) Count the number of vertices and faces in the main mesh\n",
    "    n_main_vertices = len(main_mesh_vertices)\n",
    "    n_main_faces = len(main_mesh_faces)\n",
    "    \n",
    "    \n",
    "    #2) Iterate through the submesh vertices and faces. In loop:\n",
    "    for i,(sub_verts, sub_faces) in enumerate(zip(sub_mesh_vertices,sub_mesh_faces)):\n",
    "        #a. Count the number of vertices in the submesh and concate the vertices arrays to the main mesh array\n",
    "        n_sub_verts = len(sub_verts)\n",
    "        n_sub_faces = len(sub_faces)\n",
    "        \n",
    "        main_mesh_vertices = np.vstack([main_mesh_vertices,sub_verts])\n",
    "\n",
    "        \n",
    "        #b. Add the vertices_count of main to every number in the faces array\n",
    "        sub_faces = sub_faces + n_main_vertices\n",
    "        \n",
    "        #c. Concatenate the submesh faces onto the larger mesh face\n",
    "        main_mesh_faces = np.vstack([main_mesh_faces,sub_faces])\n",
    "        \n",
    "        #d. Save this new vertices and faces as the main_mesh verts and faces (DONE)\n",
    "        \n",
    "        #e. Print out how many new vertices and faces added\n",
    "        #print(f\"Added subsegment {i} with {n_sub_verts} vertices and {n_sub_faces} faces\")\n",
    "        \n",
    "        n_main_vertices = len(main_mesh_vertices)\n",
    "        n_main_faces = len(main_mesh_faces)\n",
    "    \n",
    "    #3) Print out number of segments added, total faces/vertices for new mesh  \n",
    "    print(f\"Added {len(sub_mesh_vertices)} subsegements \\n  --> final mesh: {len(main_mesh_vertices)} vertices and {len(main_mesh_faces)} faces\")\n",
    "        \n",
    "    return main_mesh_vertices,main_mesh_faces "
   ]
  },
  {
   "cell_type": "code",
   "execution_count": null,
   "metadata": {},
   "outputs": [],
   "source": [
    "new_mesh_vertices, new_mesh_faces = add_mesh_piece(main_mesh_vertices=n[\"vertices\"],\n",
    "                   main_mesh_faces=n[\"faces\"],\n",
    "                   sub_mesh_vertices = subsegments_vertices,\n",
    "                   sub_mesh_faces=subsegments_faces)"
   ]
  },
  {
   "cell_type": "code",
   "execution_count": null,
   "metadata": {},
   "outputs": [],
   "source": [
    "# test the mesh concatenator\n",
    "import trimesh\n",
    "original_main = trimesh.Trimesh(vertices=n[\"vertices\"],faces=n[\"faces\"])\n",
    "\n",
    "new_mesh = trimesh.Trimesh(vertices=new_mesh_vertices,faces=new_mesh_faces)\n",
    "new_mesh.show()"
   ]
  },
  {
   "cell_type": "code",
   "execution_count": null,
   "metadata": {},
   "outputs": [],
   "source": [
    "original_main = trimesh.Trimesh(vertices=n[\"vertices\"],faces=n[\"faces\"])\n",
    "#original_main.show()"
   ]
  },
  {
   "cell_type": "code",
   "execution_count": null,
   "metadata": {},
   "outputs": [],
   "source": [
    "new_mesh.export(\"extended_mesh.off\")"
   ]
  },
  {
   "cell_type": "markdown",
   "metadata": {},
   "source": [
    "# Dealing with Synapses"
   ]
  },
  {
   "cell_type": "code",
   "execution_count": null,
   "metadata": {},
   "outputs": [],
   "source": [
    "\"\"\"\n",
    "Find the synapses associated with the neuron main part and all it's pieces\n",
    "Pseudocode: \n",
    "1) Get all of the main segment and subsegments ids\n",
    "2) Restrict the synapse table to all where those are the presyn or postsyn\n",
    "3) Pull down the synapse id, and the locations\n",
    "4) Go to the synapse exclude and restruct by the synape ids\n",
    "5) Pull down any id's that are there\n",
    "\n",
    "End result: Have list of ids and their coordinate plus list of which ones are in synapse Exclude\n",
    "\"\"\""
   ]
  },
  {
   "cell_type": "code",
   "execution_count": null,
   "metadata": {},
   "outputs": [],
   "source": [
    "#making the table for the Exclusion Criteria\n",
    "@schema\n",
    "class ExclusionCriteria(dj.Manual):\n",
    "    definition=\"\"\"\n",
    "    criteria_id          : int unsigned                 # key by which to lookup the exclusion criteria description\n",
    "    ---\n",
    "    criteria_desc        : varchar(64)                  # criteria by which this segment was excluded (preferred to add name of excluder as well)\n",
    "    \"\"\"\n",
    "    \n",
    "#ExclusionCriteria.insert1(dict(criteria_id=0,criteria_desc=\"Blender Error Labeling\"))"
   ]
  },
  {
   "cell_type": "code",
   "execution_count": 18,
   "metadata": {},
   "outputs": [
    {
     "data": {
      "text/html": [
       "\n",
       "        \n",
       "        <style type=\"text/css\">\n",
       "            .Relation{\n",
       "                border-collapse:collapse;\n",
       "            }\n",
       "            .Relation th{\n",
       "                background: #A0A0A0; color: #ffffff; padding:4px; border:#f0e0e0 1px solid;\n",
       "                font-weight: normal; font-family: monospace; font-size: 100%;\n",
       "            }\n",
       "            .Relation td{\n",
       "                padding:4px; border:#f0e0e0 1px solid; font-size:100%;\n",
       "            }\n",
       "            .Relation tr:nth-child(odd){\n",
       "                background: #ffffff;\n",
       "            }\n",
       "            .Relation tr:nth-child(even){\n",
       "                background: #f3f1ff;\n",
       "            }\n",
       "            /* Tooltip container */\n",
       "            .djtooltip {\n",
       "            }\n",
       "            /* Tooltip text */\n",
       "            .djtooltip .djtooltiptext {\n",
       "                visibility: hidden;\n",
       "                width: 120px;\n",
       "                background-color: black;\n",
       "                color: #fff;\n",
       "                text-align: center;\n",
       "                padding: 5px 0;\n",
       "                border-radius: 6px;\n",
       "                /* Position the tooltip text - see examples below! */\n",
       "                position: absolute;\n",
       "                z-index: 1;\n",
       "            }\n",
       "            #primary {\n",
       "                font-weight: bold;\n",
       "                color: black;\n",
       "            }\n",
       "\n",
       "            #nonprimary {\n",
       "                font-weight: normal;\n",
       "                color: white;\n",
       "            }\n",
       "\n",
       "            /* Show the tooltip text when you mouse over the tooltip container */\n",
       "            .djtooltip:hover .djtooltiptext {\n",
       "                visibility: visible;\n",
       "            }\n",
       "        </style>\n",
       "        \n",
       "        <b></b>\n",
       "            <div style=\"max-height:1000px;max-width:1500px;overflow:auto;\">\n",
       "            <table border=\"1\" class=\"Relation\">\n",
       "                <thead> <tr style=\"text-align: right;\"> <th> <div class=\"djtooltip\">\n",
       "                                <p id=\"primary\">criteria_id</p>\n",
       "                                <span class=\"djtooltiptext\">key by which to lookup the exclusion criteria description</span>\n",
       "                            </div></th><th><div class=\"djtooltip\">\n",
       "                                <p id=\"nonprimary\">criteria_desc</p>\n",
       "                                <span class=\"djtooltiptext\">criteria by which this segment was excluded (preferred to add name of excluder as well)</span>\n",
       "                            </div> </th> </tr> </thead>\n",
       "                <tbody> <tr> <td>0</td>\n",
       "<td>Blender Error Labeling</td></tr><tr><td>1</td>\n",
       "<td>Celii test</td> </tr> </tbody>\n",
       "            </table>\n",
       "            \n",
       "            <p>Total: 2</p></div>\n",
       "            "
      ],
      "text/plain": [
       "*criteria_id   criteria_desc \n",
       "+------------+ +------------+\n",
       "0              Blender Error \n",
       "1              Celii test    \n",
       " (Total: 2)"
      ]
     },
     "execution_count": 18,
     "metadata": {},
     "output_type": "execute_result"
    }
   ],
   "source": [
    "m65.ExclusionCriteria()"
   ]
  },
  {
   "cell_type": "code",
   "execution_count": 23,
   "metadata": {},
   "outputs": [
    {
     "name": "stdout",
     "output_type": "stream",
     "text": [
      "`microns_minnie65_01`.`synapse_exclude` (0 tuples)\n"
     ]
    },
    {
     "name": "stdin",
     "output_type": "stream",
     "text": [
      "Proceed? [yes, No]:  yes\n"
     ]
    },
    {
     "name": "stdout",
     "output_type": "stream",
     "text": [
      "Tables dropped.  Restart kernel.\n"
     ]
    }
   ],
   "source": [
    "m65.SynapseExclude.drop()"
   ]
  },
  {
   "cell_type": "code",
   "execution_count": 24,
   "metadata": {},
   "outputs": [
    {
     "data": {
      "text/html": [
       "\n",
       "        \n",
       "        <style type=\"text/css\">\n",
       "            .Relation{\n",
       "                border-collapse:collapse;\n",
       "            }\n",
       "            .Relation th{\n",
       "                background: #A0A0A0; color: #ffffff; padding:4px; border:#f0e0e0 1px solid;\n",
       "                font-weight: normal; font-family: monospace; font-size: 100%;\n",
       "            }\n",
       "            .Relation td{\n",
       "                padding:4px; border:#f0e0e0 1px solid; font-size:100%;\n",
       "            }\n",
       "            .Relation tr:nth-child(odd){\n",
       "                background: #ffffff;\n",
       "            }\n",
       "            .Relation tr:nth-child(even){\n",
       "                background: #f3f1ff;\n",
       "            }\n",
       "            /* Tooltip container */\n",
       "            .djtooltip {\n",
       "            }\n",
       "            /* Tooltip text */\n",
       "            .djtooltip .djtooltiptext {\n",
       "                visibility: hidden;\n",
       "                width: 120px;\n",
       "                background-color: black;\n",
       "                color: #fff;\n",
       "                text-align: center;\n",
       "                padding: 5px 0;\n",
       "                border-radius: 6px;\n",
       "                /* Position the tooltip text - see examples below! */\n",
       "                position: absolute;\n",
       "                z-index: 1;\n",
       "            }\n",
       "            #primary {\n",
       "                font-weight: bold;\n",
       "                color: black;\n",
       "            }\n",
       "\n",
       "            #nonprimary {\n",
       "                font-weight: normal;\n",
       "                color: white;\n",
       "            }\n",
       "\n",
       "            /* Show the tooltip text when you mouse over the tooltip container */\n",
       "            .djtooltip:hover .djtooltiptext {\n",
       "                visibility: visible;\n",
       "            }\n",
       "        </style>\n",
       "        \n",
       "        <b></b>\n",
       "            <div style=\"max-height:1000px;max-width:1500px;overflow:auto;\">\n",
       "            <table border=\"1\" class=\"Relation\">\n",
       "                <thead> <tr style=\"text-align: right;\"> <th> <div class=\"djtooltip\">\n",
       "                                <p id=\"primary\">synapse_id</p>\n",
       "                                <span class=\"djtooltiptext\">synapse index within the segmentation</span>\n",
       "                            </div></th><th><div class=\"djtooltip\">\n",
       "                                <p id=\"primary\">version</p>\n",
       "                                <span class=\"djtooltiptext\">version of proofreading for the neuron</span>\n",
       "                            </div></th><th><div class=\"djtooltip\">\n",
       "                                <p id=\"primary\">criteria_id</p>\n",
       "                                <span class=\"djtooltiptext\">key by which to lookup the exclusion criteria description</span>\n",
       "                            </div></th><th><div class=\"djtooltip\">\n",
       "                                <p id=\"nonprimary\">presyn</p>\n",
       "                                <span class=\"djtooltiptext\">segment id unique within each Segmentation</span>\n",
       "                            </div></th><th><div class=\"djtooltip\">\n",
       "                                <p id=\"nonprimary\">postsyn</p>\n",
       "                                <span class=\"djtooltiptext\">segment id unique within each Segmentation</span>\n",
       "                            </div> </th> </tr> </thead>\n",
       "                <tbody> <tr>  </tr> </tbody>\n",
       "            </table>\n",
       "            \n",
       "            <p>Total: 0</p></div>\n",
       "            "
      ],
      "text/plain": [
       "*synapse_id    *version    *criteria_id   presyn     postsyn    \n",
       "+------------+ +---------+ +------------+ +--------+ +---------+\n",
       "\n",
       " (Total: 0)"
      ]
     },
     "execution_count": 24,
     "metadata": {},
     "output_type": "execute_result"
    }
   ],
   "source": [
    "#making the table for the SynapseExclude\n",
    "@schema\n",
    "class SynapseExclude(dj.Manual):\n",
    "    definition=\"\"\"\n",
    "    -> m65.Synapse\n",
    "    version              : tinyint unsigned             # version of proofreading for the neuron\n",
    "    -> m65.ExclusionCriteria\n",
    "    ---\n",
    "    -> m65.Segment.proj(presyn=\"segment_id\")\n",
    "    -> m65.Segment.proj(postsyn=\"segment_id\")\n",
    "    \"\"\"\n",
    "SynapseExclude()\n",
    "#ExclusionCriteria.insert1(dict(criteria_id=0,criteria_desc=\"Blender Error Labeling\"))"
   ]
  },
  {
   "cell_type": "code",
   "execution_count": null,
   "metadata": {},
   "outputs": [],
   "source": [
    "#### just filling synapse exclude and exclusion criteria with some dummy values for testing\n",
    "# m65.ExclusionCriteria.insert1([1,\"Celii test\"])\n",
    "m65.ExclusionCriteria()\n",
    "\n",
    "example_dict_1 = dict(synapse_id=317393639,version=1,criteria_id=0,presyn=92622516933251392,postsyn=96631955273149705)\n",
    "example_dict_2 = dict(synapse_id=317448087,version=1,criteria_id=0,presyn=91777679686517288,postsyn=96631955273149705)\n",
    "m65.SynapseExclude.insert([example_dict_1,example_dict_2])"
   ]
  },
  {
   "cell_type": "code",
   "execution_count": 8,
   "metadata": {},
   "outputs": [
    {
     "data": {
      "text/plain": [
       "array([317393639, 317448087])"
      ]
     },
     "execution_count": 8,
     "metadata": {},
     "output_type": "execute_result"
    }
   ],
   "source": [
    "main_neuron_id = 96631955273149705\n",
    "#1) Get all the subsegments associated with main neuron\n",
    "main_neuron_dj = dj.U(\"seg_id\") & (m65.FromNeuromancer.Subsegment.proj(seg_id=\"segment_id\") & \"seg_id=\" + str(main_neuron_id))\n",
    "subseg_dj= dj.U(\"seg_id\") & (m65.FromNeuromancer.Subsegment.proj(seg_id=\"subsegment_id\") & \"segment_id=\" + str(main_neuron_id))\n",
    "total_neurons = (main_neuron_dj + subseg_dj)\n",
    "\n",
    "#Restrict Synapse Table by that list\n",
    "presyn_list = m65.Synapse & total_neurons.proj(presyn=\"seg_id\")\n",
    "postsyn_list = m65.Synapse & total_neurons.proj(postsyn=\"seg_id\")\n",
    "total_synapse_ids =postsyn_list.proj() + presyn_list.proj()\n",
    "synapse_data = m65.Synapse & total_synapse_ids\n",
    "synapse_data_fetched = synapse_data.fetch(as_dict=True)\n",
    "\n",
    "synapses_already_excluded = (synapse_data & m65.SynapseExclude.proj()).fetch(\"synapse_id\")\n",
    "synapses_already_excluded"
   ]
  },
  {
   "cell_type": "code",
   "execution_count": 14,
   "metadata": {},
   "outputs": [
    {
     "data": {
      "text/plain": [
       "824.0"
      ]
     },
     "execution_count": 14,
     "metadata": {},
     "output_type": "execute_result"
    }
   ],
   "source": [
    "len(synapse_data_fetched)/2"
   ]
  },
  {
   "cell_type": "code",
   "execution_count": 18,
   "metadata": {},
   "outputs": [
    {
     "data": {
      "text/plain": [
       "OrderedDict([('synapse_id', 317393639),\n",
       "             ('presyn', 92622516933251392),\n",
       "             ('postsyn', 96631955273149705),\n",
       "             ('centroid_x', 210902),\n",
       "             ('centroid_y', 213514),\n",
       "             ('centroid_z', 22807),\n",
       "             ('size', 704)])"
      ]
     },
     "execution_count": 18,
     "metadata": {},
     "output_type": "execute_result"
    }
   ],
   "source": [
    "half_synapse_data[0]"
   ]
  },
  {
   "cell_type": "code",
   "execution_count": 24,
   "metadata": {},
   "outputs": [],
   "source": [
    "half_synapse_data = synapse_data_fetched[:int(len(synapse_data_fetched)/2)]\n",
    "synapse_to_exclude = [dict(synapse_id=k[\"synapse_id\"],version=0,criteria_id=1,presyn=k[\"presyn\"],postsyn=k[\"postsyn\"]) for k in half_synapse_data]"
   ]
  },
  {
   "cell_type": "code",
   "execution_count": 26,
   "metadata": {},
   "outputs": [],
   "source": [
    "m65.SynapseExclude.insert(synapse_to_exclude)"
   ]
  },
  {
   "cell_type": "code",
   "execution_count": 27,
   "metadata": {},
   "outputs": [
    {
     "data": {
      "text/html": [
       "\n",
       "        \n",
       "        <style type=\"text/css\">\n",
       "            .Relation{\n",
       "                border-collapse:collapse;\n",
       "            }\n",
       "            .Relation th{\n",
       "                background: #A0A0A0; color: #ffffff; padding:4px; border:#f0e0e0 1px solid;\n",
       "                font-weight: normal; font-family: monospace; font-size: 100%;\n",
       "            }\n",
       "            .Relation td{\n",
       "                padding:4px; border:#f0e0e0 1px solid; font-size:100%;\n",
       "            }\n",
       "            .Relation tr:nth-child(odd){\n",
       "                background: #ffffff;\n",
       "            }\n",
       "            .Relation tr:nth-child(even){\n",
       "                background: #f3f1ff;\n",
       "            }\n",
       "            /* Tooltip container */\n",
       "            .djtooltip {\n",
       "            }\n",
       "            /* Tooltip text */\n",
       "            .djtooltip .djtooltiptext {\n",
       "                visibility: hidden;\n",
       "                width: 120px;\n",
       "                background-color: black;\n",
       "                color: #fff;\n",
       "                text-align: center;\n",
       "                padding: 5px 0;\n",
       "                border-radius: 6px;\n",
       "                /* Position the tooltip text - see examples below! */\n",
       "                position: absolute;\n",
       "                z-index: 1;\n",
       "            }\n",
       "            #primary {\n",
       "                font-weight: bold;\n",
       "                color: black;\n",
       "            }\n",
       "\n",
       "            #nonprimary {\n",
       "                font-weight: normal;\n",
       "                color: white;\n",
       "            }\n",
       "\n",
       "            /* Show the tooltip text when you mouse over the tooltip container */\n",
       "            .djtooltip:hover .djtooltiptext {\n",
       "                visibility: visible;\n",
       "            }\n",
       "        </style>\n",
       "        \n",
       "        <b></b>\n",
       "            <div style=\"max-height:1000px;max-width:1500px;overflow:auto;\">\n",
       "            <table border=\"1\" class=\"Relation\">\n",
       "                <thead> <tr style=\"text-align: right;\"> <th> <div class=\"djtooltip\">\n",
       "                                <p id=\"primary\">synapse_id</p>\n",
       "                                <span class=\"djtooltiptext\">synapse index within the segmentation</span>\n",
       "                            </div></th><th><div class=\"djtooltip\">\n",
       "                                <p id=\"primary\">version</p>\n",
       "                                <span class=\"djtooltiptext\">version of proofreading for the neuron</span>\n",
       "                            </div></th><th><div class=\"djtooltip\">\n",
       "                                <p id=\"primary\">criteria_id</p>\n",
       "                                <span class=\"djtooltiptext\">key by which to lookup the exclusion criteria description</span>\n",
       "                            </div></th><th><div class=\"djtooltip\">\n",
       "                                <p id=\"nonprimary\">presyn</p>\n",
       "                                <span class=\"djtooltiptext\">segment id unique within each Segmentation</span>\n",
       "                            </div></th><th><div class=\"djtooltip\">\n",
       "                                <p id=\"nonprimary\">postsyn</p>\n",
       "                                <span class=\"djtooltiptext\">segment id unique within each Segmentation</span>\n",
       "                            </div> </th> </tr> </thead>\n",
       "                <tbody> <tr> <td>317393639</td>\n",
       "<td>0</td>\n",
       "<td>1</td>\n",
       "<td>92622516933251392</td>\n",
       "<td>96631955273149705</td></tr><tr><td>317448087</td>\n",
       "<td>0</td>\n",
       "<td>1</td>\n",
       "<td>91777679686517288</td>\n",
       "<td>96631955273149705</td></tr><tr><td>318086051</td>\n",
       "<td>0</td>\n",
       "<td>1</td>\n",
       "<td>92481160969984222</td>\n",
       "<td>96631955273149705</td></tr><tr><td>318748884</td>\n",
       "<td>0</td>\n",
       "<td>1</td>\n",
       "<td>96000491598978753</td>\n",
       "<td>96631955273149705</td></tr><tr><td>318750436</td>\n",
       "<td>0</td>\n",
       "<td>1</td>\n",
       "<td>96140404386728637</td>\n",
       "<td>96631955273149705</td></tr><tr><td>318750734</td>\n",
       "<td>0</td>\n",
       "<td>1</td>\n",
       "<td>96070035642567029</td>\n",
       "<td>96631955273149705</td></tr><tr><td>319360255</td>\n",
       "<td>0</td>\n",
       "<td>1</td>\n",
       "<td>96492385546494957</td>\n",
       "<td>96631955273149705</td></tr><tr><td>320289505</td>\n",
       "<td>0</td>\n",
       "<td>1</td>\n",
       "<td>95576286202087391</td>\n",
       "<td>96631955273149705</td></tr><tr><td>320291110</td>\n",
       "<td>0</td>\n",
       "<td>1</td>\n",
       "<td>96772279975167152</td>\n",
       "<td>96631955273149705</td></tr><tr><td>320291360</td>\n",
       "<td>0</td>\n",
       "<td>1</td>\n",
       "<td>96349655193160583</td>\n",
       "<td>96631955273149705</td></tr><tr><td>320293397</td>\n",
       "<td>0</td>\n",
       "<td>1</td>\n",
       "<td>96138480241268402</td>\n",
       "<td>96631955273149705</td></tr><tr><td>320295108</td>\n",
       "<td>0</td>\n",
       "<td>1</td>\n",
       "<td>97967380327909397</td>\n",
       "<td>96631955273149705</td> </tr> </tbody>\n",
       "            </table>\n",
       "            <p>...</p>\n",
       "            <p>Total: 824</p></div>\n",
       "            "
      ],
      "text/plain": [
       "*synapse_id    *version    *criteria_id   presyn         postsyn       \n",
       "+------------+ +---------+ +------------+ +------------+ +------------+\n",
       "317393639      0           1              92622516933251 96631955273149\n",
       "317448087      0           1              91777679686517 96631955273149\n",
       "318086051      0           1              92481160969984 96631955273149\n",
       "318748884      0           1              96000491598978 96631955273149\n",
       "318750436      0           1              96140404386728 96631955273149\n",
       "318750734      0           1              96070035642567 96631955273149\n",
       "319360255      0           1              96492385546494 96631955273149\n",
       "320289505      0           1              95576286202087 96631955273149\n",
       "320291110      0           1              96772279975167 96631955273149\n",
       "320291360      0           1              96349655193160 96631955273149\n",
       "320293397      0           1              96138480241268 96631955273149\n",
       "320295108      0           1              97967380327909 96631955273149\n",
       "   ...\n",
       " (Total: 824)"
      ]
     },
     "execution_count": 27,
     "metadata": {},
     "output_type": "execute_result"
    }
   ],
   "source": [
    "m65.SynapseExclude()"
   ]
  },
  {
   "cell_type": "code",
   "execution_count": null,
   "metadata": {},
   "outputs": [],
   "source": [
    "m65.FromNeuromancer.Subsegment()"
   ]
  },
  {
   "cell_type": "code",
   "execution_count": null,
   "metadata": {},
   "outputs": [],
   "source": [
    "m65.FromNeuromancer.Subsegment() & \"subsegment_id=93608573174803949 OR n_vertices=32\""
   ]
  },
  {
   "cell_type": "code",
   "execution_count": null,
   "metadata": {},
   "outputs": [],
   "source": [
    "# How to get list of everything\n",
    "#main_neuron_dj = dj.U(\"seg_id\") & (m65.FromNeuromancer.Subsegment.proj(seg_id=\"segment_id\") & \"seg_id=\" + str(main_neuron_id))\n",
    "#subseg_dj= dj.U(\"seg_id\") & (m65.FromNeuromancer.Subsegment.proj(seg_id=\"subsegment_id\") & \"segment_id=\" + str(main_neuron_id))\n",
    "#main_neuron_dj + subseg_dj"
   ]
  },
  {
   "cell_type": "code",
   "execution_count": null,
   "metadata": {},
   "outputs": [],
   "source": [
    "# ----------------How to create a new object and color it in blender ------------ #\n",
    "\n",
    "# mymesh = bpy.data.meshes.new(\"neuron-\"+ID)\n",
    "# mymesh.from_pydata(verts, [], faces)\n",
    "# mymesh.update(calc_edges=True)\n",
    "# mymesh.calc_normals()\n",
    "# #print(objects_Matching_filename)\n",
    "# object = bpy.data.objects.new(\"neuron-\"+ID, mymesh)\n",
    "# #object.location = bpy.context.scene.cursor_location\n",
    "# object.location = Vector((0,0,0))\n",
    "# bpy.context.scene.objects.link(object)\n",
    "\n",
    "\n",
    "# object.lock_location[0] = True\n",
    "# object.lock_location[1] = True\n",
    "# object.lock_location[2] = True\n",
    "# object.lock_scale[0] = True\n",
    "# object.lock_scale[1] = True\n",
    "# object.lock_scale[2] = True\n",
    "\n",
    "# #rotate the z direction by 90 degrees so point correct way\n",
    "\n",
    "# #object.rotation_euler[2] = 1.5708\n",
    "\n",
    "\n",
    "# object.rotation_euler[0] = 4.7124\n",
    "# object.rotation_euler[1] = 0\n",
    "# object.rotation_euler[2] = 0\n",
    "\n",
    "\n",
    "\n",
    "\n",
    "# object.lock_rotation[0] = True\n",
    "# object.lock_rotation[1] = True\n",
    "# object.lock_rotation[2] = True\n",
    "\n",
    "# #run the setup color command\n",
    "# #bpy.ops.object.select_all(action='TOGGLE')\n",
    "# create_local_colors(object)\n",
    "\n",
    "\n",
    "# #then how to label the synapses: \n",
    "# #print(len(active_edges_raw))\n",
    "        \n",
    "# faces_raw = object.data.polygons\n",
    "# for i,k in enumerate(faces_raw):\n",
    "#     k.material_index = int(triangles_labels[i])\n",
    "\n",
    "\n",
    "\n"
   ]
  },
  {
   "cell_type": "code",
   "execution_count": null,
   "metadata": {},
   "outputs": [],
   "source": [
    "\"\"\"\n",
    "Brainstorming how to make the synapse sphere: Best strategy is just to make the boxes\n",
    "\n",
    "Prebuilt function\n",
    "1) Box maker: \n",
    "- input: takes in box center and the side length\n",
    "- returns: vertices and faces for a box mesh with that center and side length\n",
    "\n",
    "Pseudocode: \n",
    "1)Iterate through all synapses:\n",
    "- send the center to the box maker function and save in list\n",
    "- if in the synapse exclude table then save the face numbers in a list \n",
    "(accounting for where all the face numbers will be once concatenated)\n",
    "2) Use the mesh concatenation to put all the faces together\n",
    "3) Send to blender as the mesh and use the face number of the synapse exclude to color brown\n",
    "\n",
    "\"\"\""
   ]
  },
  {
   "cell_type": "code",
   "execution_count": null,
   "metadata": {},
   "outputs": [],
   "source": []
  },
  {
   "cell_type": "code",
   "execution_count": null,
   "metadata": {},
   "outputs": [],
   "source": []
  },
  {
   "cell_type": "code",
   "execution_count": null,
   "metadata": {},
   "outputs": [],
   "source": [
    "box_mesh.export(\"box_synapses.off\")\n",
    "print(\"ok\")"
   ]
  },
  {
   "cell_type": "code",
   "execution_count": null,
   "metadata": {},
   "outputs": [],
   "source": [
    "# total synapse function\n",
    "\n",
    "\"\"\"\n",
    "Practice going and getting all synapse for that main mesh and all subsegments (with their stats)\n",
    "\"\"\"\n",
    "import numpy as np\n",
    "\n",
    "def get_synapses_with_exclude_list(main_neuron_id):\n",
    "    #main_neuron_id=96631955273149705\n",
    "    \"\"\"\n",
    "    Purpose: getting all synapse for that main mesh and all subsegments (with their stats)\n",
    "\n",
    "    Pseudocode: \n",
    "    1) Get all the subsegments associated with main neuron\n",
    "    2) Restrict Synapse Table by that list\n",
    "    3) Pull down the synapse id's, coordinates\n",
    "    4) Use synapse mini table to restrict the synapse exclude and pull down all id's in there\n",
    "    5) return the synapse ids with their coordinates in dictionary form and a list of those syanses in synapse exclud\n",
    "    \n",
    "    How to use the function:\n",
    "    synapse_data_fetched,synapses_already_excluded = get_synapses_with_exclude_list(96631955273149705)\n",
    "    print(\"Number of synapses founded = \" + str(len(synapse_data_fetched)))\n",
    "    print(\"synapses_already_excluded = \" + str(synapses_already_excluded))\n",
    "    \"\"\"\n",
    "\n",
    "    #1) Get all the subsegments associated with main neuron\n",
    "    main_neuron_dj = dj.U(\"seg_id\") & (m65.FromNeuromancer.Subsegment.proj(seg_id=\"segment_id\") & \"seg_id=\" + str(main_neuron_id))\n",
    "    subseg_dj= dj.U(\"seg_id\") & (m65.FromNeuromancer.Subsegment.proj(seg_id=\"subsegment_id\") & \"segment_id=\" + str(main_neuron_id))\n",
    "    total_neurons = (main_neuron_dj + subseg_dj)\n",
    "\n",
    "    #Restrict Synapse Table by that list\n",
    "    presyn_list = m65.Synapse & total_neurons.proj(presyn=\"seg_id\")\n",
    "    postsyn_list = m65.Synapse & total_neurons.proj(postsyn=\"seg_id\")\n",
    "    total_synapse_ids =postsyn_list.proj() + presyn_list.proj()\n",
    "    synapse_data = m65.Synapse & total_synapse_ids\n",
    "    synapse_data_fetched = synapse_data.fetch(as_dict=True)\n",
    "\n",
    "    synapses_already_excluded = (synapse_data & m65.SynapseExclude.proj()).fetch(\"synapse_id\")\n",
    "    synapses_already_excluded\n",
    "    \n",
    "    return synapse_data_fetched,synapses_already_excluded\n",
    "\n",
    "# box maker function\n",
    "def create_synapse_box(center,side_length):\n",
    "    \"\"\"\n",
    "    Purpose: Will create the mesh variables of vertices and faces\n",
    "    for a box with a specified center and side length\n",
    "    \n",
    "    Parameters:\n",
    "    center (tuple/np.array) : list of the x,y,z coordinates of the box\n",
    "    side_length(float)      : the length that the sides need to be of box\n",
    "    \n",
    "    Returns: \n",
    "    mesh_vertices (np.array) : np array store the vertices as rows and the elements as the coordinates for the box\n",
    "    mesh_faces (np.array) : np array store the faces as rows and the elements as the referenced vertices for the box\n",
    "    \n",
    "    How to use function: \n",
    "    create_synapse_box((2,2,2),2.5)\n",
    "    \"\"\"\n",
    "    \n",
    "    unit_box_vertices = np.array([\n",
    "        [0,0,0],\n",
    "        [1,0,0],\n",
    "        [1,1,0],\n",
    "        [0,1,0],\n",
    "        [0,0,1],\n",
    "        [1,0,1],\n",
    "        [1,1,1],\n",
    "        [0,1,1],\n",
    "    ])\n",
    "\n",
    "    unit_box_faces = np.array([\n",
    "        [0,4,5],\n",
    "        [0,5,1],\n",
    "        [1,5,6],\n",
    "        [1,6,2],\n",
    "        [2,6,7],\n",
    "        [2,7,3],\n",
    "        [3,7,4],\n",
    "        [3,4,0],\n",
    "        [5,4,7],\n",
    "        [6,5,7],\n",
    "        [1,2,0],\n",
    "        [3,0,2]\n",
    "\n",
    "        ])\n",
    "\n",
    "    #Now need to shift it down to center\n",
    "    unit_box_vertices = unit_box_vertices - 0.5\n",
    "    \n",
    "    unit_box_vertices = unit_box_vertices*side_length\n",
    "    unit_box_vertices = unit_box_vertices + np.array(center)\n",
    "    \n",
    "    return unit_box_vertices,unit_box_faces\n",
    "\n",
    "\n",
    "\n",
    "\n",
    "def get_synapse_mesh_and_errored_faces(primary_key,return_faces_to_color=True):\n",
    "    synapse_data_fetched,synapses_already_excluded = get_synapses_with_exclude_list(primary_key[\"segment_id\"])\n",
    "    \n",
    "    # 1)Iterate through all synapses:\n",
    "    # - send the center to the box maker function and save in list\n",
    "    # - if in the synapse exclude table then save the face numbers in a list \n",
    "\n",
    "    face_count = 0\n",
    "    faces_to_color = []\n",
    "    synapse_vertices = []\n",
    "    synapse_faces = []\n",
    "\n",
    "    for i,syn in enumerate(synapse_data_fetched):\n",
    "    #     if i < 5:\n",
    "    #         print(syn[\"synapse_id\"])\n",
    "        center = (syn[\"centroid_x\"],syn[\"centroid_y\"],syn[\"centroid_z\"])\n",
    "        center = center*np.array([4, 4, 40])\n",
    "        side_length = 300\n",
    "        unit_box_vertices,unit_box_faces = create_synapse_box(center,side_length)\n",
    "        #add them to the list\n",
    "        synapse_vertices.append(unit_box_vertices)\n",
    "        synapse_faces.append(unit_box_faces)\n",
    "\n",
    "        #check if synapse in already excluded list\n",
    "        syn_id = syn[\"synapse_id\"]\n",
    "        if syn_id in synapses_already_excluded:\n",
    "            #added the faces to color list\n",
    "            #print(i)\n",
    "            faces_to_exclude = list(range(face_count,face_count + len(unit_box_faces)))\n",
    "            #print(faces_to_exclude)\n",
    "            faces_to_color = faces_to_color + faces_to_exclude\n",
    "\n",
    "        face_count += len(unit_box_faces)\n",
    "\n",
    "    print(faces_to_color)\n",
    "    # 2) Use the mesh concatenation to put all the faces together\n",
    "    box_mesh_verts, box_mesh_faces = add_mesh_piece(synapse_vertices[0],synapse_faces[0],synapse_vertices[1:],synapse_faces[1:])\n",
    "    \n",
    "    return box_mesh_verts,box_mesh_faces,faces_to_color\n",
    "\n",
    "current_decimation = 1.0\n",
    "current_version = 0\n",
    "ID = 96631955273149705\n",
    "primary_key = dict(version=current_version,decimation_ratio=current_decimation,segment_id=int(ID)) \n",
    "box_mesh_verts,box_mesh_faces,faces_to_color = get_synapse_mesh_and_errored_faces(primary_key)\n",
    "\n",
    "\n",
    "box_mesh = trimesh.Trimesh(vertices=box_mesh_verts,faces=box_mesh_faces)\n",
    "box_mesh.show()"
   ]
  },
  {
   "cell_type": "markdown",
   "metadata": {},
   "source": [
    "# Set up the Proofread Table that autopopulates from the large segments table"
   ]
  },
  {
   "cell_type": "code",
   "execution_count": null,
   "metadata": {},
   "outputs": [],
   "source": [
    "labels_Table = pinky.WholeAutoAnnotationsLabelClusters3()\n",
    "proof_Table = pinky.ProofreadLabel()"
   ]
  },
  {
   "cell_type": "code",
   "execution_count": null,
   "metadata": {},
   "outputs": [],
   "source": [
    "proof_Table.describe()\n",
    "print(\"\")"
   ]
  },
  {
   "cell_type": "code",
   "execution_count": null,
   "metadata": {},
   "outputs": [],
   "source": [
    "proof_Table.describe()"
   ]
  },
  {
   "cell_type": "code",
   "execution_count": null,
   "metadata": {},
   "outputs": [],
   "source": [
    "labels_Table"
   ]
  },
  {
   "cell_type": "code",
   "execution_count": null,
   "metadata": {},
   "outputs": [],
   "source": [
    "pinky.Decimation35.describe()"
   ]
  },
  {
   "cell_type": "code",
   "execution_count": null,
   "metadata": {},
   "outputs": [],
   "source": [
    "(pinky.WholeAutoAnnotationsLabelClusters3 & \"segment_id=648518346341371119\").fetch1()"
   ]
  },
  {
   "cell_type": "code",
   "execution_count": null,
   "metadata": {},
   "outputs": [],
   "source": [
    "np.array([])"
   ]
  },
  {
   "cell_type": "code",
   "execution_count": null,
   "metadata": {},
   "outputs": [],
   "source": [
    "m65.FromNeuromancer()"
   ]
  },
  {
   "cell_type": "code",
   "execution_count": null,
   "metadata": {},
   "outputs": [],
   "source": [
    "pinky.ProofreadLabel.describe()"
   ]
  },
  {
   "cell_type": "code",
   "execution_count": 11,
   "metadata": {},
   "outputs": [
    {
     "name": "stdout",
     "output_type": "stream",
     "text": [
      "About to delete:\n",
      "`microns_minnie65_01`.`__whole_auto_annotations_label_clusters3`: 1 items\n"
     ]
    },
    {
     "name": "stdin",
     "output_type": "stream",
     "text": [
      "Proceed? [yes, No]:  yes\n"
     ]
    },
    {
     "name": "stdout",
     "output_type": "stream",
     "text": [
      "Committed.\n"
     ]
    }
   ],
   "source": [
    "m65.WholeAutoAnnotationsLabelClusters3.delete()"
   ]
  },
  {
   "cell_type": "code",
   "execution_count": 12,
   "metadata": {},
   "outputs": [
    {
     "data": {
      "text/html": [
       "\n",
       "        \n",
       "        <style type=\"text/css\">\n",
       "            .Relation{\n",
       "                border-collapse:collapse;\n",
       "            }\n",
       "            .Relation th{\n",
       "                background: #A0A0A0; color: #ffffff; padding:4px; border:#f0e0e0 1px solid;\n",
       "                font-weight: normal; font-family: monospace; font-size: 100%;\n",
       "            }\n",
       "            .Relation td{\n",
       "                padding:4px; border:#f0e0e0 1px solid; font-size:100%;\n",
       "            }\n",
       "            .Relation tr:nth-child(odd){\n",
       "                background: #ffffff;\n",
       "            }\n",
       "            .Relation tr:nth-child(even){\n",
       "                background: #f3f1ff;\n",
       "            }\n",
       "            /* Tooltip container */\n",
       "            .djtooltip {\n",
       "            }\n",
       "            /* Tooltip text */\n",
       "            .djtooltip .djtooltiptext {\n",
       "                visibility: hidden;\n",
       "                width: 120px;\n",
       "                background-color: black;\n",
       "                color: #fff;\n",
       "                text-align: center;\n",
       "                padding: 5px 0;\n",
       "                border-radius: 6px;\n",
       "                /* Position the tooltip text - see examples below! */\n",
       "                position: absolute;\n",
       "                z-index: 1;\n",
       "            }\n",
       "            #primary {\n",
       "                font-weight: bold;\n",
       "                color: black;\n",
       "            }\n",
       "\n",
       "            #nonprimary {\n",
       "                font-weight: normal;\n",
       "                color: white;\n",
       "            }\n",
       "\n",
       "            /* Show the tooltip text when you mouse over the tooltip container */\n",
       "            .djtooltip:hover .djtooltiptext {\n",
       "                visibility: visible;\n",
       "            }\n",
       "        </style>\n",
       "        \n",
       "        <b>Segment IDs of core segments matched with their traced out fragments from Baylor proofreaders.</b>\n",
       "            <div style=\"max-height:1000px;max-width:1500px;overflow:auto;\">\n",
       "            <table border=\"1\" class=\"Relation\">\n",
       "                <thead> <tr style=\"text-align: right;\"> <th> <div class=\"djtooltip\">\n",
       "                                <p id=\"primary\">segment_id</p>\n",
       "                                <span class=\"djtooltiptext\">segment id unique within each Segmentation, should be mirrored in Segment table.</span>\n",
       "                            </div></th><th><div class=\"djtooltip\">\n",
       "                                <p id=\"primary\">version</p>\n",
       "                                <span class=\"djtooltiptext\">version of proofreading for the neuron</span>\n",
       "                            </div></th><th><div class=\"djtooltip\">\n",
       "                                <p id=\"nonprimary\">neuron_name</p>\n",
       "                                <span class=\"djtooltiptext\">Name of the neuron as it appears in the Neuromancer-Ingest website.</span>\n",
       "                            </div></th><th><div class=\"djtooltip\">\n",
       "                                <p id=\"nonprimary\">n_vertices</p>\n",
       "                                <span class=\"djtooltiptext\"></span>\n",
       "                            </div></th><th><div class=\"djtooltip\">\n",
       "                                <p id=\"nonprimary\">n_faces</p>\n",
       "                                <span class=\"djtooltiptext\"></span>\n",
       "                            </div></th><th><div class=\"djtooltip\">\n",
       "                                <p id=\"nonprimary\">vertices</p>\n",
       "                                <span class=\"djtooltiptext\"></span>\n",
       "                            </div></th><th><div class=\"djtooltip\">\n",
       "                                <p id=\"nonprimary\">faces</p>\n",
       "                                <span class=\"djtooltiptext\"></span>\n",
       "                            </div> </th> </tr> </thead>\n",
       "                <tbody> <tr> <td>96631955273149705</td>\n",
       "<td>0</td>\n",
       "<td>RONNY</td>\n",
       "<td>1659719</td>\n",
       "<td>3161800</td>\n",
       "<td>=BLOB=</td>\n",
       "<td>=BLOB=</td></tr><tr><td>106626583548494129</td>\n",
       "<td>0</td>\n",
       "<td>WILSON</td>\n",
       "<td>2938478</td>\n",
       "<td>5601980</td>\n",
       "<td>=BLOB=</td>\n",
       "<td>=BLOB=</td></tr><tr><td>106626583548494129</td>\n",
       "<td>1</td>\n",
       "<td>WILSON</td>\n",
       "<td>2938478</td>\n",
       "<td>5601980</td>\n",
       "<td>=BLOB=</td>\n",
       "<td>=BLOB=</td></tr><tr><td>107816118160698192</td>\n",
       "<td>0</td>\n",
       "<td>CHARMAINE</td>\n",
       "<td>937779</td>\n",
       "<td>1791632</td>\n",
       "<td>=BLOB=</td>\n",
       "<td>=BLOB=</td> </tr> </tbody>\n",
       "            </table>\n",
       "            \n",
       "            <p>Total: 4</p></div>\n",
       "            "
      ],
      "text/plain": [
       "*segment_id    *version    neuron_name    n_vertices     n_faces     vertices   faces     \n",
       "+------------+ +---------+ +------------+ +------------+ +---------+ +--------+ +--------+\n",
       "96631955273149 0           RONNY          1659719        3161800     =BLOB=     =BLOB=    \n",
       "10662658354849 0           WILSON         2938478        5601980     =BLOB=     =BLOB=    \n",
       "10662658354849 1           WILSON         2938478        5601980     =BLOB=     =BLOB=    \n",
       "10781611816069 0           CHARMAINE      937779         1791632     =BLOB=     =BLOB=    \n",
       " (Total: 4)"
      ]
     },
     "execution_count": 12,
     "metadata": {},
     "output_type": "execute_result"
    }
   ],
   "source": [
    "m65.FromNeuromancer()"
   ]
  },
  {
   "cell_type": "code",
   "execution_count": 21,
   "metadata": {},
   "outputs": [
    {
     "data": {
      "text/plain": [
       "(3633537, 6951402)"
      ]
     },
     "execution_count": 21,
     "metadata": {},
     "output_type": "execute_result"
    }
   ],
   "source": [
    "verts,tri_labels = (m65.WholeAutoAnnotationsLabelClusters3 & \"segment_id=106626583548494129\" & \"version=1\").fetch1(\"vertices\",\"triangles\")\n",
    "len(verts),len(tri_labels)"
   ]
  },
  {
   "cell_type": "code",
   "execution_count": 14,
   "metadata": {},
   "outputs": [],
   "source": [
    "import datetime\n",
    "\n",
    "#combine all the meshes into one mesh\n",
    "def add_mesh_piece(main_mesh_vertices,main_mesh_faces,sub_mesh_vertices,sub_mesh_faces):\n",
    "    \"\"\"\n",
    "    Purpose: Takes in a large mesh piece and an array of other meshes and \n",
    "    returns a large mesh with all meshes appended\n",
    "    \n",
    "    Parameters:\n",
    "    main_mesh_vertices (np.array) : np array store the vertices as rows and the elements as the coordinates\n",
    "    main_mesh_faces (np.array) : np array store the faces as rows and the elements as the referenced vertices\n",
    "    sub_mesh_vertices(list of np.arrays) : list of np arrays with the vertices arrays for all subsegments to be added\n",
    "    sub_mesh_faces(list of np.arrays) : list of np arrays with the faces arrays for all subsegments to be added\n",
    "    \n",
    "    Returns:\n",
    "    mesh_vertices (np.array) : np array store the vertices as rows and the elements as the coordinates for NEW CONCATENATED MESH\n",
    "    mesh_faces (np.array) : np array store the faces as rows and the elements as the referenced vertices for NEW CONCATENATED MESH\n",
    "    \n",
    "    \n",
    "    Pseudocode: \n",
    "    - Checks: \n",
    "    a. Make sure there sub_mesh arrays are greater than 0 and of the same length\n",
    "\n",
    "    1) Count the number of vertices and faces in the main mesh\n",
    "    2) Iterate through the submesh vertices and faces. In loop:\n",
    "    a. Count the number of vertices in the submesh and concate the vertices arrays to the main mesh array\n",
    "    b. Add the vertices_count and add that to every number in the faces array\n",
    "    c. Concatenate the submesh faces onto the larger mesh face\n",
    "    d. Save this new vertices and faces as the main_mesh verts and faces\n",
    "    e. Print out how many new vertices and faces added\n",
    "    3) Print out number of segments added, total faces/vertices for new mesh\n",
    "    4) Return the main mesh vertices and faces\n",
    "    \n",
    "    \"\"\"\n",
    "    #a. Make sure there sub_mesh arrays are greater than 0 and of the same length\n",
    "    if len(sub_mesh_vertices) <= 0:\n",
    "        print(\"There were no vertices in submesh to add, returning main mesh\")\n",
    "        return main_mesh_vertices, main_mesh_faces\n",
    "    if len(sub_mesh_faces) <= 0:\n",
    "        print(\"There were no face in submesh to add, returning main mesh\")\n",
    "        return main_mesh_vertices, main_mesh_faces\n",
    "    if len(sub_mesh_faces) != len(sub_mesh_vertices):\n",
    "        raise Exception(\"The sub_mesh_faces and sub_mesh_vertices length did not match\")\n",
    "        \n",
    "    \n",
    "    #1) Count the number of vertices and faces in the main mesh\n",
    "    n_main_vertices = len(main_mesh_vertices)\n",
    "    n_main_faces = len(main_mesh_faces)\n",
    "    \n",
    "    \n",
    "    #2) Iterate through the submesh vertices and faces. In loop:\n",
    "    for i,(sub_verts, sub_faces) in enumerate(zip(sub_mesh_vertices,sub_mesh_faces)):\n",
    "        #a. Count the number of vertices in the submesh and concate the vertices arrays to the main mesh array\n",
    "        n_sub_verts = len(sub_verts)\n",
    "        n_sub_faces = len(sub_faces)\n",
    "        \n",
    "        main_mesh_vertices = np.vstack([main_mesh_vertices,sub_verts])\n",
    "\n",
    "        \n",
    "        #b. Add the vertices_count of main to every number in the faces array\n",
    "        sub_faces = sub_faces + n_main_vertices\n",
    "        \n",
    "        #c. Concatenate the submesh faces onto the larger mesh face\n",
    "        main_mesh_faces = np.vstack([main_mesh_faces,sub_faces])\n",
    "        \n",
    "        #d. Save this new vertices and faces as the main_mesh verts and faces (DONE)\n",
    "        \n",
    "        #e. Print out how many new vertices and faces added\n",
    "        #print(f\"Added subsegment {i} with {n_sub_verts} vertices and {n_sub_faces} faces\")\n",
    "        \n",
    "        n_main_vertices = len(main_mesh_vertices)\n",
    "        n_main_faces = len(main_mesh_faces)\n",
    "    \n",
    "    #3) Print out number of segments added, total faces/vertices for new mesh  \n",
    "    print(f\"Added {len(sub_mesh_vertices)} subsegements \\n  --> final mesh: {len(main_mesh_vertices)} vertices and {len(main_mesh_faces)} faces\")\n",
    "        \n",
    "    return main_mesh_vertices,main_mesh_faces \n",
    "\n",
    "@schema\n",
    "class WholeAutoAnnotationsLabelClusters3(dj.Computed):\n",
    "    definition=\"\"\"\n",
    "    -> m65.FromNeuromancer\n",
    "    decimation_ratio     : decimal(3,2)                 # percentage that the faces are decimated\n",
    "    author_original      : varchar(20)                  # name of last editor\n",
    "    author_proofreader   : varchar(20)                  # name of last editor\n",
    "    date_time=CURRENT_TIMESTAMP : timestamp                    # the last time it was edited\n",
    "    ---\n",
    "    vertices             : longblob                     # label data for the vertices\n",
    "    triangles            : longblob                     # label data for the faces\n",
    "    edges                : longblob                     # label data for the edges\n",
    "    status               : varchar(16)                  # the index of the status descriptor that can be references by the StatusKey\n",
    "    \"\"\"\n",
    "    \n",
    "    def make(self,key):\n",
    "        \"\"\"\n",
    "        Pseudocode: \n",
    "        1) Download the main mesh and all its subsegments and Concatenate the meshes according to the correct order\n",
    "        3) Create blank labels for the size of the vertices, triangles and edges and make parameters:\n",
    "        a. decimation = 1\n",
    "        author_original = computer_Auto\n",
    "        author_proofreader = bcelii\n",
    "        date_time = current time\n",
    "        status = complete\n",
    "        4) Insert the key into the table\n",
    "        \"\"\"\n",
    "        \n",
    "        #1) Download the main mesh and all its subsegments and Concatenate the meshes according to the correct order\n",
    "        n = (m65.FromNeuromancer & key).fetch1()\n",
    "        \n",
    "        print(\"---Main Neuron ---\")\n",
    "        print(n[\"segment_id\"])\n",
    "        print(n[\"n_vertices\"])\n",
    "        print(n[\"vertices\"])\n",
    "        print(n[\"faces\"])\n",
    "\n",
    "        #get all of the segments and their data\n",
    "        lookup_key = dict(segment_id=n[\"segment_id\"],version = n[\"version\"])\n",
    "        subsegments = (m65.FromNeuromancer.Subsegment & lookup_key).fetch(as_dict=True)\n",
    "\n",
    "        subsegment_dicts = dict([(k[\"subsegment_id\"],dict(vertices=k[\"vertices\"],faces=k[\"faces\"])) for k in subsegments])\n",
    "\n",
    "        subsegment_ordered_list = np.sort(np.array(list(subsegment_dicts.keys())))\n",
    "        subsegments_vertices = [subsegment_dicts[k][\"vertices\"] for k in subsegment_ordered_list]\n",
    "        subsegments_faces = [subsegment_dicts[k][\"faces\"] for k in subsegment_ordered_list]\n",
    "        \n",
    "        \n",
    "        new_mesh_vertices, new_mesh_faces = add_mesh_piece(main_mesh_vertices=n[\"vertices\"],\n",
    "                   main_mesh_faces=n[\"faces\"],\n",
    "                   sub_mesh_vertices = subsegments_vertices,\n",
    "                   sub_mesh_faces=subsegments_faces)\n",
    "        \n",
    "        #3) Create blank labels for the size of the vertices, triangles and edges\n",
    "        \n",
    "        insert_key = dict(key)\n",
    "        insert_key[\"vertices\"] = np.zeros(len(new_mesh_vertices))\n",
    "        insert_key[\"edges\"] = np.array([])\n",
    "        insert_key[\"triangles\"] = np.zeros(len(new_mesh_faces))\n",
    "        insert_key[\"decimation_ratio\"] = 1.0\n",
    "        insert_key[\"author_original\"] = \"computer_Auto\"\n",
    "        insert_key[\"author_proofreader\"] = \"bcelii\"\n",
    "        insert_key[\"status\"] = \"complete\"\n",
    "        insert_key[\"date_time\"] = date_time = str(datetime.datetime.now())[0:19]\n",
    "        \n",
    "        #4) Insert the key into the table\n",
    "        self.insert1(insert_key,skip_duplicates=True)\n",
    "        "
   ]
  },
  {
   "cell_type": "code",
   "execution_count": 17,
   "metadata": {},
   "outputs": [
    {
     "data": {
      "text/html": [
       "\n",
       "        \n",
       "        <style type=\"text/css\">\n",
       "            .Relation{\n",
       "                border-collapse:collapse;\n",
       "            }\n",
       "            .Relation th{\n",
       "                background: #A0A0A0; color: #ffffff; padding:4px; border:#f0e0e0 1px solid;\n",
       "                font-weight: normal; font-family: monospace; font-size: 100%;\n",
       "            }\n",
       "            .Relation td{\n",
       "                padding:4px; border:#f0e0e0 1px solid; font-size:100%;\n",
       "            }\n",
       "            .Relation tr:nth-child(odd){\n",
       "                background: #ffffff;\n",
       "            }\n",
       "            .Relation tr:nth-child(even){\n",
       "                background: #f3f1ff;\n",
       "            }\n",
       "            /* Tooltip container */\n",
       "            .djtooltip {\n",
       "            }\n",
       "            /* Tooltip text */\n",
       "            .djtooltip .djtooltiptext {\n",
       "                visibility: hidden;\n",
       "                width: 120px;\n",
       "                background-color: black;\n",
       "                color: #fff;\n",
       "                text-align: center;\n",
       "                padding: 5px 0;\n",
       "                border-radius: 6px;\n",
       "                /* Position the tooltip text - see examples below! */\n",
       "                position: absolute;\n",
       "                z-index: 1;\n",
       "            }\n",
       "            #primary {\n",
       "                font-weight: bold;\n",
       "                color: black;\n",
       "            }\n",
       "\n",
       "            #nonprimary {\n",
       "                font-weight: normal;\n",
       "                color: white;\n",
       "            }\n",
       "\n",
       "            /* Show the tooltip text when you mouse over the tooltip container */\n",
       "            .djtooltip:hover .djtooltiptext {\n",
       "                visibility: visible;\n",
       "            }\n",
       "        </style>\n",
       "        \n",
       "        <b></b>\n",
       "            <div style=\"max-height:1000px;max-width:1500px;overflow:auto;\">\n",
       "            <table border=\"1\" class=\"Relation\">\n",
       "                <thead> <tr style=\"text-align: right;\"> <th> <div class=\"djtooltip\">\n",
       "                                <p id=\"primary\">segment_id</p>\n",
       "                                <span class=\"djtooltiptext\">segment id unique within each Segmentation, should be mirrored in Segment table.</span>\n",
       "                            </div></th><th><div class=\"djtooltip\">\n",
       "                                <p id=\"primary\">version</p>\n",
       "                                <span class=\"djtooltiptext\">version of proofreading for the neuron</span>\n",
       "                            </div></th><th><div class=\"djtooltip\">\n",
       "                                <p id=\"primary\">decimation_ratio</p>\n",
       "                                <span class=\"djtooltiptext\">percentage that the faces are decimated</span>\n",
       "                            </div></th><th><div class=\"djtooltip\">\n",
       "                                <p id=\"primary\">author_original</p>\n",
       "                                <span class=\"djtooltiptext\">name of last editor</span>\n",
       "                            </div></th><th><div class=\"djtooltip\">\n",
       "                                <p id=\"primary\">author_proofreader</p>\n",
       "                                <span class=\"djtooltiptext\">name of last editor</span>\n",
       "                            </div></th><th><div class=\"djtooltip\">\n",
       "                                <p id=\"primary\">date_time</p>\n",
       "                                <span class=\"djtooltiptext\">the last time it was edited</span>\n",
       "                            </div></th><th><div class=\"djtooltip\">\n",
       "                                <p id=\"nonprimary\">vertices</p>\n",
       "                                <span class=\"djtooltiptext\">label data for the vertices</span>\n",
       "                            </div></th><th><div class=\"djtooltip\">\n",
       "                                <p id=\"nonprimary\">triangles</p>\n",
       "                                <span class=\"djtooltiptext\">label data for the faces</span>\n",
       "                            </div></th><th><div class=\"djtooltip\">\n",
       "                                <p id=\"nonprimary\">edges</p>\n",
       "                                <span class=\"djtooltiptext\">label data for the edges</span>\n",
       "                            </div></th><th><div class=\"djtooltip\">\n",
       "                                <p id=\"nonprimary\">status</p>\n",
       "                                <span class=\"djtooltiptext\">the index of the status descriptor that can be references by the StatusKey</span>\n",
       "                            </div> </th> </tr> </thead>\n",
       "                <tbody> <tr> <td>96631955273149705</td>\n",
       "<td>0</td>\n",
       "<td>1.00</td>\n",
       "<td>computer_Auto</td>\n",
       "<td>bcelii</td>\n",
       "<td>2019-11-07 19:04:40</td>\n",
       "<td>=BLOB=</td>\n",
       "<td>=BLOB=</td>\n",
       "<td>=BLOB=</td>\n",
       "<td>complete</td></tr><tr><td>106626583548494129</td>\n",
       "<td>0</td>\n",
       "<td>1.00</td>\n",
       "<td>computer_Auto</td>\n",
       "<td>bcelii</td>\n",
       "<td>2019-11-16 03:25:14</td>\n",
       "<td>=BLOB=</td>\n",
       "<td>=BLOB=</td>\n",
       "<td>=BLOB=</td>\n",
       "<td>complete</td></tr><tr><td>106626583548494129</td>\n",
       "<td>1</td>\n",
       "<td>1.00</td>\n",
       "<td>computer_Auto</td>\n",
       "<td>bcelii</td>\n",
       "<td>2019-11-16 03:25:31</td>\n",
       "<td>=BLOB=</td>\n",
       "<td>=BLOB=</td>\n",
       "<td>=BLOB=</td>\n",
       "<td>complete</td></tr><tr><td>107816118160698192</td>\n",
       "<td>0</td>\n",
       "<td>1.00</td>\n",
       "<td>computer_Auto</td>\n",
       "<td>bcelii</td>\n",
       "<td>2019-11-07 19:04:47</td>\n",
       "<td>=BLOB=</td>\n",
       "<td>=BLOB=</td>\n",
       "<td>=BLOB=</td>\n",
       "<td>complete</td> </tr> </tbody>\n",
       "            </table>\n",
       "            \n",
       "            <p>Total: 4</p></div>\n",
       "            "
      ],
      "text/plain": [
       "*segment_id    *version    *decimation_ra *author_origin *author_proofr *date_time     vertices   triangles  edges      status      \n",
       "+------------+ +---------+ +------------+ +------------+ +------------+ +------------+ +--------+ +--------+ +--------+ +----------+\n",
       "96631955273149 0           1.00           computer_Auto  bcelii         2019-11-07 19: =BLOB=     =BLOB=     =BLOB=     complete    \n",
       "10662658354849 0           1.00           computer_Auto  bcelii         2019-11-16 03: =BLOB=     =BLOB=     =BLOB=     complete    \n",
       "10662658354849 1           1.00           computer_Auto  bcelii         2019-11-16 03: =BLOB=     =BLOB=     =BLOB=     complete    \n",
       "10781611816069 0           1.00           computer_Auto  bcelii         2019-11-07 19: =BLOB=     =BLOB=     =BLOB=     complete    \n",
       " (Total: 4)"
      ]
     },
     "execution_count": 17,
     "metadata": {},
     "output_type": "execute_result"
    }
   ],
   "source": [
    "m65.WholeAutoAnnotationsLabelClusters3()"
   ]
  },
  {
   "cell_type": "code",
   "execution_count": 16,
   "metadata": {},
   "outputs": [
    {
     "name": "stdout",
     "output_type": "stream",
     "text": [
      "---Main Neuron ---\n",
      "106626583548494129\n",
      "2938478\n",
      "[[1079400.5      469942.59375  689338.4375 ]\n",
      " [1079360.       469888.       689340.     ]\n",
      " [1079287.75     469859.25     689376.25   ]\n",
      " ...\n",
      " [1436672.       926848.       751820.     ]\n",
      " [1436672.       926464.       751620.     ]\n",
      " [1436672.       926736.       751560.     ]]\n",
      "[[      0       2       1]\n",
      " [      0       1       3]\n",
      " [      0       3       4]\n",
      " ...\n",
      " [2938327 2938477 2938326]\n",
      " [2938230 2938477 2938327]\n",
      " [2938230 2938468 2938477]]\n",
      "Added 69 subsegements \n",
      "  --> final mesh: 3595489 vertices and 6878350 faces\n",
      "---Main Neuron ---\n",
      "106626583548494129\n",
      "2938478\n",
      "[[1079400.5      469942.59375  689338.4375 ]\n",
      " [1079360.       469888.       689340.     ]\n",
      " [1079287.75     469859.25     689376.25   ]\n",
      " ...\n",
      " [1436672.       926848.       751820.     ]\n",
      " [1436672.       926464.       751620.     ]\n",
      " [1436672.       926736.       751560.     ]]\n",
      "[[      0       2       1]\n",
      " [      0       1       3]\n",
      " [      0       3       4]\n",
      " ...\n",
      " [2938327 2938477 2938326]\n",
      " [2938230 2938477 2938327]\n",
      " [2938230 2938468 2938477]]\n",
      "Added 100 subsegements \n",
      "  --> final mesh: 3633537 vertices and 6951402 faces\n",
      "Total time for WholeAutoAnnotationsLabelClusters3 populate = 34.965224742889404\n"
     ]
    }
   ],
   "source": [
    "#(schema.jobs & \"table_name='__whole_auto_annotations_label_clusters3'\")#.delete()\n",
    "dj.config[\"enable_python_native_blobs\"] = True\n",
    "\n",
    "import time\n",
    "start_time = time.time()\n",
    "WholeAutoAnnotationsLabelClusters3.populate(reserve_jobs=True)\n",
    "print(f\"Total time for WholeAutoAnnotationsLabelClusters3 populate = {time.time() - start_time}\")"
   ]
  },
  {
   "cell_type": "code",
   "execution_count": 15,
   "metadata": {},
   "outputs": [
    {
     "name": "stdout",
     "output_type": "stream",
     "text": [
      "About to delete:\n",
      "`microns_minnie65_01`.`proofread_label`: 2 items\n"
     ]
    },
    {
     "name": "stdin",
     "output_type": "stream",
     "text": [
      "Proceed? [yes, No]:  yes\n"
     ]
    },
    {
     "name": "stdout",
     "output_type": "stream",
     "text": [
      "Committed.\n"
     ]
    }
   ],
   "source": [
    "m65.ProofreadLabel.delete()"
   ]
  },
  {
   "cell_type": "code",
   "execution_count": 26,
   "metadata": {},
   "outputs": [
    {
     "name": "stdout",
     "output_type": "stream",
     "text": [
      "About to delete:\n",
      "`microns_minnie65_01`.`proofread_label`: 2 items\n"
     ]
    },
    {
     "name": "stdin",
     "output_type": "stream",
     "text": [
      "Proceed? [yes, No]:  yes\n"
     ]
    },
    {
     "name": "stdout",
     "output_type": "stream",
     "text": [
      "Committed.\n"
     ]
    }
   ],
   "source": [
    "ProofreadLabel.delete()"
   ]
  },
  {
   "cell_type": "code",
   "execution_count": 16,
   "metadata": {},
   "outputs": [],
   "source": [
    "@schema\n",
    "class ProofreadLabel(dj.Manual):\n",
    "    definition=\"\"\"\n",
    "    -> m65.FromNeuromancer\n",
    "    decimation_ratio     : decimal(3,2)                 # percentage that the faces are decimated\n",
    "    author_original      : varchar(20)                  # name of last editor\n",
    "    author_proofreader   : varchar(20)                  # name of last editor\n",
    "    date_time=CURRENT_TIMESTAMP : timestamp                    # the last time it was edited\n",
    "    ---\n",
    "    vertices             : longblob                     # label data for the vertices\n",
    "    triangles            : longblob                     # label data for the faces\n",
    "    edges                : longblob                     # label data for the edges\n",
    "    status               : varchar(16)                  # the index of the status descriptor that can be references by the StatusKey\n",
    "    \"\"\""
   ]
  },
  {
   "cell_type": "code",
   "execution_count": null,
   "metadata": {},
   "outputs": [],
   "source": [
    "#create the authors table\n",
    "pinky.Authors()"
   ]
  },
  {
   "cell_type": "code",
   "execution_count": null,
   "metadata": {},
   "outputs": [],
   "source": [
    "pinky.Authors.describe()\n",
    "print(\"hello\")\n",
    "\n",
    "@schema\n",
    "class Authors(dj.Manual):\n",
    "    definition=\"\"\"\n",
    "    # maps numeric labels to descriptive labels\n",
    "    username             : varchar(20)                  # username the person pcisk\n",
    "    ---\n",
    "    real_name            : varchar(40)                  # the real name of that corresponds to the username\n",
    "    \"\"\"\n",
    "    \n",
    "Authors.insert([dict(username=\"celiib\",real_name=\"Brendan Celii\"),dict(username=\"spapadop\",real_name=\"stelios papadopoulos\")])"
   ]
  },
  {
   "cell_type": "code",
   "execution_count": null,
   "metadata": {},
   "outputs": [],
   "source": [
    "# creat the new LabelKey\n",
    "total_Label_data = pinky.LabelKey.fetch()\n",
    "\n",
    "@schema\n",
    "class LabelKey(dj.Manual):\n",
    "    definition=\"\"\"\n",
    "    # maps numeric labels to descriptive and color labels\n",
    "    numeric              : tinyint unsigned             # numeric label of the compartment\n",
    "    ---\n",
    "    description          : varchar(16)                  # descriptive name of the label\n",
    "    color                : varchar(16)                  # representative color of the compartment\n",
    "    blender_colors       : tinyblob                     # color RGB values to be used in blender\n",
    "    \"\"\"\n",
    "    \n",
    "LabelKey.insert(total_Label_data)"
   ]
  },
  {
   "cell_type": "code",
   "execution_count": null,
   "metadata": {},
   "outputs": [],
   "source": [
    "#need a table where can store the final meshes\n"
   ]
  },
  {
   "cell_type": "code",
   "execution_count": null,
   "metadata": {},
   "outputs": [],
   "source": [
    "#thing have to change for blender\n",
    "\"\"\"\n",
    "segmentation --> version\n",
    "number 3 of segmentation to 0 (or current version)\n",
    "\n",
    "Have function for going and getting the mesh and mesh number instead of Pymeshfix table\n",
    "\"\"\""
   ]
  },
  {
   "cell_type": "code",
   "execution_count": null,
   "metadata": {},
   "outputs": [],
   "source": [
    "def fetch_stitched_mesh(key,return_list=True):\n",
    "\n",
    "    #1) Download the main mesh and all its subsegments and Concatenate the meshes according to the correct order\n",
    "    n = (m65.FromNeuromancer & key).fetch1()\n",
    "\n",
    "    print(\"---Main Neuron ---\")\n",
    "    print(n[\"segment_id\"])\n",
    "    print(n[\"n_vertices\"])\n",
    "    print(n[\"vertices\"])\n",
    "    print(n[\"faces\"])\n",
    "\n",
    "    #get all of the segments and their data\n",
    "    lookup_key = dict(segment_id=n[\"segment_id\"],version = n[\"version\"])\n",
    "    subsegments = (m65.FromNeuromancer.Subsegment & lookup_key).fetch(as_dict=True)\n",
    "\n",
    "    subsegment_dicts = dict([(k[\"subsegment_id\"],dict(vertices=k[\"vertices\"],faces=k[\"faces\"])) for k in subsegments])\n",
    "\n",
    "    subsegment_ordered_list = np.sort(np.array(list(subsegment_dicts.keys())))\n",
    "    subsegments_vertices = [subsegment_dicts[k][\"vertices\"] for k in subsegment_ordered_list]\n",
    "    subsegments_faces = [subsegment_dicts[k][\"faces\"] for k in subsegment_ordered_list]\n",
    "\n",
    "\n",
    "    new_mesh_vertices, new_mesh_faces = add_mesh_piece(main_mesh_vertices=n[\"vertices\"],\n",
    "       main_mesh_faces=n[\"faces\"],\n",
    "       sub_mesh_vertices = subsegments_vertices,\n",
    "       sub_mesh_faces=subsegments_faces)\n",
    "    if return_list == False:\n",
    "        return new_mesh_vertices.astype(dtype=np.int32),new_mesh_faces.astype(dtype=np.int32)\n",
    "    else:\n",
    "        return new_mesh_vertices.astype(dtype=np.int32).tolist(),new_mesh_faces.astype(dtype=np.int32).tolist()\n",
    "\n",
    "def fetch_stitched_mesh_statistics(key):\n",
    "\n",
    "    #1) Download the main mesh and all its subsegments and Concatenate the meshes according to the correct order\n",
    "    main_n_vertices,main_n_faces = (m65.FromNeuromancer & key).fetch1(\"n_vertices\",\"n_faces\")\n",
    "\n",
    "    #get all of the segments and their data\n",
    "    lookup_key = key\n",
    "    subsegments_verts,subsegments_faces = (m65.FromNeuromancer.Subsegment & lookup_key).fetch(\"n_vertices\",\"n_faces\")\n",
    "    \n",
    "    \n",
    "    \n",
    "    return np.sum(subsegments_verts) + main_n_vertices,np.sum(subsegments_faces) + main_n_faces"
   ]
  },
  {
   "cell_type": "code",
   "execution_count": null,
   "metadata": {},
   "outputs": [],
   "source": [
    "lookup_key = dict(segment_id=96631955273149705,version=0)\n",
    "fetch_stitched_mesh(lookup_key)\n",
    "print(fetch_stitched_mesh_statistics(lookup_key))"
   ]
  },
  {
   "cell_type": "code",
   "execution_count": null,
   "metadata": {},
   "outputs": [],
   "source": [
    "m65.FromNeuromancer()"
   ]
  },
  {
   "cell_type": "code",
   "execution_count": null,
   "metadata": {},
   "outputs": [],
   "source": [
    "m65.FromNeuromancer.Subsegment()"
   ]
  },
  {
   "cell_type": "code",
   "execution_count": null,
   "metadata": {},
   "outputs": [],
   "source": [
    "m65.ProofreadLabel()"
   ]
  },
  {
   "cell_type": "code",
   "execution_count": null,
   "metadata": {},
   "outputs": [],
   "source": []
  }
 ],
 "metadata": {
  "kernelspec": {
   "display_name": "Python 3",
   "language": "python",
   "name": "python3"
  },
  "language_info": {
   "codemirror_mode": {
    "name": "ipython",
    "version": 3
   },
   "file_extension": ".py",
   "mimetype": "text/x-python",
   "name": "python",
   "nbconvert_exporter": "python",
   "pygments_lexer": "ipython3",
   "version": "3.6.8"
  }
 },
 "nbformat": 4,
 "nbformat_minor": 4
}
