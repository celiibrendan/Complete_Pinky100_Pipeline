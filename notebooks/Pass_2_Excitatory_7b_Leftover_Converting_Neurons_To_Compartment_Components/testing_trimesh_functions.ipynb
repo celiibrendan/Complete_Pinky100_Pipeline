{
 "cells": [
  {
   "cell_type": "code",
   "execution_count": 1,
   "metadata": {},
   "outputs": [],
   "source": [
    "import trimesh\n",
    "import datajoint as dj\n",
    "import numpy as np\n",
    "import time"
   ]
  },
  {
   "cell_type": "code",
   "execution_count": null,
   "metadata": {},
   "outputs": [],
   "source": [
    "pinky = dj.create_virtual_module(\"pinky\",\"microns_pinky\")\n",
    "schema = dj.schema(\"microns_pinky\")"
   ]
  },
  {
   "cell_type": "code",
   "execution_count": null,
   "metadata": {},
   "outputs": [],
   "source": [
    "key = dict(segment_id=648518346349496405,segmentation=3)\n",
    "\n",
    "#get the full mesh\n",
    "verts,faces = (pinky.ExcitatoryLeftoverMeshes & key).fetch1(\"vertices\",\"triangles\")\n",
    "\n",
    "#get the labels\n",
    "verts_labels,faces_labels = (pinky.LeftoverCoarseLabelFinal & key).fetch1(\"vertices\",\"triangles\")\n",
    "verts_labels\n",
    "\n",
    "#get the number of unique labels:\n",
    "unique_labels = np.unique(verts_labels)\n",
    "print(unique_labels)\n",
    "\n",
    "#create the Trimesh of the whole mesh\n",
    "total_mesh = trimesh.Trimesh(verts,faces,process=False)\n",
    "\n"
   ]
  },
  {
   "cell_type": "code",
   "execution_count": null,
   "metadata": {},
   "outputs": [],
   "source": [
    "#what do we want in order to get original vertices and triangles:\n",
    "\"\"\"\n",
    "Want to know the mapping of the submeshes vertices and faces\n",
    "back to the indicies of the original\n",
    "\n",
    "For submesh:\n",
    "traingles = from the initial face label indices\n",
    "vertices = find from the faces\n",
    "\n",
    "For the split method:\n",
    "Use the faces from the connected components\n",
    "\n",
    "components = connected_components(edges=adjacency,\n",
    "                                  nodes=np.arange(len(mesh.faces)),\n",
    "                                  min_len=min_len,\n",
    "                                  engine=engine)\n",
    "meshes = mesh.submesh(components,\n",
    "                      only_watertight=only_watertight)\n",
    "return meshes\n",
    "\n",
    "\n",
    "\n",
    "\"\"\""
   ]
  },
  {
   "cell_type": "code",
   "execution_count": null,
   "metadata": {},
   "outputs": [],
   "source": [
    "celii_submesh(original_vertices,original_faces,faces_sequence)\n",
    "# avoid nuking the cache on the original mesh\n",
    "original_faces = mesh.faces.view(np.ndarray)\n",
    "original_vertices = mesh.vertices.view(np.ndarray)\n",
    "\n",
    "faces = []\n",
    "vertices = []\n",
    "normals = []\n",
    "visuals = []\n",
    "\n",
    "# for reindexing faces\n",
    "mask = np.arange(len(original_vertices))\n",
    "\n",
    "for faces_index in faces_sequence:\n",
    "    # sanitize indices in case they are coming in as a set or tuple\n",
    "    faces_index = np.asanyarray(faces_index, dtype=np.int64)\n",
    "    if len(faces_index) == 0:\n",
    "        continue\n",
    "    faces_current = original_faces[faces_index]\n",
    "    unique = np.unique(faces_current.reshape(-1))\n",
    "\n",
    "    # redefine face indices from zero\n",
    "    mask[unique] = np.arange(len(unique))\n",
    "    normals.append(mesh.face_normals[faces_index])\n",
    "    faces.append(mask[faces_current])\n",
    "    vertices.append(original_vertices[unique])\n",
    "    visuals.append(mesh.visual.face_subset(faces_index))"
   ]
  },
  {
   "cell_type": "code",
   "execution_count": null,
   "metadata": {},
   "outputs": [],
   "source": [
    "def split(mesh,\n",
    "          only_watertight=True,\n",
    "          adjacency=None,\n",
    "          engine=None):\n",
    "    \"\"\"\n",
    "    Split a mesh into multiple meshes from face connectivity.\n",
    "    If only_watertight is true, it will only return watertight meshes\n",
    "    and will attempt single triangle/quad repairs.\n",
    "    Parameters\n",
    "    ----------\n",
    "    mesh: Trimesh\n",
    "    only_watertight: if True, only return watertight components\n",
    "    adjacency: (n,2) list of face adjacency to override using the plain\n",
    "               adjacency calculated automatically.\n",
    "    engine: str, which engine to use. ('networkx', 'scipy', or 'graphtool')\n",
    "    Returns\n",
    "    ----------\n",
    "    meshes: list of Trimesh objects\n",
    "    \"\"\"\n",
    "\n",
    "    if adjacency is None:\n",
    "        adjacency = mesh.face_adjacency\n",
    "\n",
    "    # if only watertight the shortest thing we can split has 3 triangles\n",
    "    if only_watertight:\n",
    "        min_len = 3\n",
    "    else:\n",
    "        min_len = 1\n",
    "\n",
    "    components = connected_components(edges=adjacency,\n",
    "                                      nodes=np.arange(len(mesh.faces)),\n",
    "                                      min_len=min_len,\n",
    "                                      engine=engine)"
   ]
  }
 ],
 "metadata": {
  "kernelspec": {
   "display_name": "Python 3",
   "language": "python",
   "name": "python3"
  },
  "language_info": {
   "codemirror_mode": {
    "name": "ipython",
    "version": 3
   },
   "file_extension": ".py",
   "mimetype": "text/x-python",
   "name": "python",
   "nbconvert_exporter": "python",
   "pygments_lexer": "ipython3",
   "version": "3.6.5"
  }
 },
 "nbformat": 4,
 "nbformat_minor": 2
}
