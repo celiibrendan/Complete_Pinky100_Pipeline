{
 "cells": [
  {
   "cell_type": "code",
   "execution_count": 3,
   "metadata": {},
   "outputs": [],
   "source": [
    "import nipype.interfaces.meshfix as mf\n",
    "fix = mf.MeshFix()\n"
   ]
  },
  {
   "cell_type": "code",
   "execution_count": 7,
   "metadata": {},
   "outputs": [
    {
     "ename": "OSError",
     "evalue": "No command \"meshfix\" found on host a457fbcc08fc. Please check that the corresponding package is installed.",
     "output_type": "error",
     "traceback": [
      "\u001b[0;31m---------------------------------------------------------------------------\u001b[0m",
      "\u001b[0;31mOSError\u001b[0m                                   Traceback (most recent call last)",
      "\u001b[0;32m<ipython-input-7-05d099bb9910>\u001b[0m in \u001b[0;36m<module>\u001b[0;34m\u001b[0m\n\u001b[1;32m      1\u001b[0m \u001b[0mfix\u001b[0m\u001b[0;34m.\u001b[0m\u001b[0minputs\u001b[0m\u001b[0;34m.\u001b[0m\u001b[0min_file1\u001b[0m \u001b[0;34m=\u001b[0m \u001b[0;34m'Skeletonization/neuron_648518346341366885.off'\u001b[0m\u001b[0;34m\u001b[0m\u001b[0m\n\u001b[0;32m----> 2\u001b[0;31m \u001b[0mfix\u001b[0m\u001b[0;34m.\u001b[0m\u001b[0mrun\u001b[0m\u001b[0;34m(\u001b[0m\u001b[0;34m)\u001b[0m\u001b[0;34m\u001b[0m\u001b[0m\n\u001b[0m",
      "\u001b[0;32m/usr/local/lib/python3.6/dist-packages/nipype/interfaces/base/core.py\u001b[0m in \u001b[0;36mrun\u001b[0;34m(self, cwd, ignore_exception, **inputs)\u001b[0m\n\u001b[1;32m    373\u001b[0m         \u001b[0;32mtry\u001b[0m\u001b[0;34m:\u001b[0m\u001b[0;34m\u001b[0m\u001b[0m\n\u001b[1;32m    374\u001b[0m             \u001b[0mruntime\u001b[0m \u001b[0;34m=\u001b[0m \u001b[0mself\u001b[0m\u001b[0;34m.\u001b[0m\u001b[0m_pre_run_hook\u001b[0m\u001b[0;34m(\u001b[0m\u001b[0mruntime\u001b[0m\u001b[0;34m)\u001b[0m\u001b[0;34m\u001b[0m\u001b[0m\n\u001b[0;32m--> 375\u001b[0;31m             \u001b[0mruntime\u001b[0m \u001b[0;34m=\u001b[0m \u001b[0mself\u001b[0m\u001b[0;34m.\u001b[0m\u001b[0m_run_interface\u001b[0m\u001b[0;34m(\u001b[0m\u001b[0mruntime\u001b[0m\u001b[0;34m)\u001b[0m\u001b[0;34m\u001b[0m\u001b[0m\n\u001b[0m\u001b[1;32m    376\u001b[0m             \u001b[0mruntime\u001b[0m \u001b[0;34m=\u001b[0m \u001b[0mself\u001b[0m\u001b[0;34m.\u001b[0m\u001b[0m_post_run_hook\u001b[0m\u001b[0;34m(\u001b[0m\u001b[0mruntime\u001b[0m\u001b[0;34m)\u001b[0m\u001b[0;34m\u001b[0m\u001b[0m\n\u001b[1;32m    377\u001b[0m             \u001b[0moutputs\u001b[0m \u001b[0;34m=\u001b[0m \u001b[0mself\u001b[0m\u001b[0;34m.\u001b[0m\u001b[0maggregate_outputs\u001b[0m\u001b[0;34m(\u001b[0m\u001b[0mruntime\u001b[0m\u001b[0;34m)\u001b[0m\u001b[0;34m\u001b[0m\u001b[0m\n",
      "\u001b[0;32m/usr/local/lib/python3.6/dist-packages/nipype/interfaces/base/core.py\u001b[0m in \u001b[0;36m_run_interface\u001b[0;34m(self, runtime, correct_return_codes)\u001b[0m\n\u001b[1;32m    747\u001b[0m                 \u001b[0;34m'No command \"%s\" found on host %s. Please check that the '\u001b[0m\u001b[0;34m\u001b[0m\u001b[0m\n\u001b[1;32m    748\u001b[0m                 'corresponding package is installed.' % (executable_name,\n\u001b[0;32m--> 749\u001b[0;31m                                                          runtime.hostname))\n\u001b[0m\u001b[1;32m    750\u001b[0m \u001b[0;34m\u001b[0m\u001b[0m\n\u001b[1;32m    751\u001b[0m         \u001b[0mruntime\u001b[0m\u001b[0;34m.\u001b[0m\u001b[0mcommand_path\u001b[0m \u001b[0;34m=\u001b[0m \u001b[0mcmd_path\u001b[0m\u001b[0;34m\u001b[0m\u001b[0m\n",
      "\u001b[0;31mOSError\u001b[0m: No command \"meshfix\" found on host a457fbcc08fc. Please check that the corresponding package is installed."
     ]
    }
   ],
   "source": [
    "fix.inputs.in_file1 = 'Skeletonization/neuron_648518346341366885.off'\n",
    "fix.run() "
   ]
  },
  {
   "cell_type": "code",
   "execution_count": 5,
   "metadata": {},
   "outputs": [
    {
     "data": {
      "text/plain": [
       "['__class__',\n",
       " '__delattr__',\n",
       " '__dict__',\n",
       " '__dir__',\n",
       " '__doc__',\n",
       " '__eq__',\n",
       " '__format__',\n",
       " '__ge__',\n",
       " '__getattribute__',\n",
       " '__gt__',\n",
       " '__hash__',\n",
       " '__init__',\n",
       " '__init_subclass__',\n",
       " '__le__',\n",
       " '__lt__',\n",
       " '__module__',\n",
       " '__ne__',\n",
       " '__new__',\n",
       " '__reduce__',\n",
       " '__reduce_ex__',\n",
       " '__repr__',\n",
       " '__setattr__',\n",
       " '__sizeof__',\n",
       " '__str__',\n",
       " '__subclasshook__',\n",
       " '__weakref__',\n",
       " '_additional_metadata',\n",
       " '_always_run',\n",
       " '_can_resume',\n",
       " '_check_mandatory_inputs',\n",
       " '_check_requires',\n",
       " '_check_version_requirements',\n",
       " '_check_xor',\n",
       " '_cmd',\n",
       " '_cmd_prefix',\n",
       " '_duecredit_cite',\n",
       " '_environ',\n",
       " '_filename_from_source',\n",
       " '_format_arg',\n",
       " '_gen_filename',\n",
       " '_gen_outfilename',\n",
       " '_get_environ',\n",
       " '_get_filecopy_info',\n",
       " '_ldd',\n",
       " '_list_outputs',\n",
       " '_outputs',\n",
       " '_overload_extension',\n",
       " '_parse_inputs',\n",
       " '_post_run_hook',\n",
       " '_pre_run_hook',\n",
       " '_redirect_x',\n",
       " '_run_interface',\n",
       " '_terminal_output',\n",
       " '_version',\n",
       " 'aggregate_outputs',\n",
       " 'always_run',\n",
       " 'can_resume',\n",
       " 'cmd',\n",
       " 'cmdline',\n",
       " 'help',\n",
       " 'ignore_exception',\n",
       " 'input_spec',\n",
       " 'inputs',\n",
       " 'load_inputs_from_json',\n",
       " 'output_spec',\n",
       " 'raise_exception',\n",
       " 'references_',\n",
       " 'resource_monitor',\n",
       " 'run',\n",
       " 'save_inputs_to_json',\n",
       " 'set_default_terminal_output',\n",
       " 'terminal_output',\n",
       " 'version',\n",
       " 'version_from_command']"
      ]
     },
     "execution_count": 5,
     "metadata": {},
     "output_type": "execute_result"
    }
   ],
   "source": [
    "dir(fix)"
   ]
  },
  {
   "cell_type": "code",
   "execution_count": 6,
   "metadata": {},
   "outputs": [
    {
     "name": "stdout",
     "output_type": "stream",
     "text": [
      "Help on method run in module nipype.interfaces.base.core:\n",
      "\n",
      "run(cwd=None, ignore_exception=None, **inputs) method of nipype.interfaces.meshfix.MeshFix instance\n",
      "    Execute this interface.\n",
      "    \n",
      "    This interface will not raise an exception if runtime.returncode is\n",
      "    non-zero.\n",
      "    \n",
      "    Parameters\n",
      "    ----------\n",
      "    \n",
      "    cwd : specify a folder where the interface should be run\n",
      "    inputs : allows the interface settings to be updated\n",
      "    \n",
      "    Returns\n",
      "    -------\n",
      "    results :  an InterfaceResult object containing a copy of the instance\n",
      "    that was executed, provenance information and, if successful, results\n",
      "\n"
     ]
    }
   ],
   "source": [
    "help(fix.run)"
   ]
  },
  {
   "cell_type": "code",
   "execution_count": null,
   "metadata": {},
   "outputs": [],
   "source": []
  }
 ],
 "metadata": {
  "kernelspec": {
   "display_name": "Python 3",
   "language": "python",
   "name": "python3"
  },
  "language_info": {
   "codemirror_mode": {
    "name": "ipython",
    "version": 3
   },
   "file_extension": ".py",
   "mimetype": "text/x-python",
   "name": "python",
   "nbconvert_exporter": "python",
   "pygments_lexer": "ipython3",
   "version": "3.6.5"
  }
 },
 "nbformat": 4,
 "nbformat_minor": 2
}
