{
 "cells": [
  {
   "cell_type": "code",
   "execution_count": 1,
   "metadata": {},
   "outputs": [],
   "source": [
    "import datajoint as dj\n",
    "import numpy as np\n",
    "import time\n",
    "from tqdm import tqdm"
   ]
  },
  {
   "cell_type": "code",
   "execution_count": 2,
   "metadata": {},
   "outputs": [
    {
     "name": "stdout",
     "output_type": "stream",
     "text": [
      "Connecting celiib@10.28.0.34:3306\n"
     ]
    }
   ],
   "source": [
    "#setting the address and the username\n",
    "dj.config['database.host'] = '10.28.0.34'\n",
    "dj.config['database.user'] = 'celiib'\n",
    "dj.config['database.password'] = 'newceliipass'\n",
    "dj.config['safemode']=True\n",
    "dj.config[\"display.limit\"] = 20\n",
    "\n",
    "ta3p100 = dj.create_virtual_module('ta3p100', 'microns_ta3p100')\n",
    "schema = dj.schema('microns_ta3p100')\n"
   ]
  },
  {
   "cell_type": "code",
   "execution_count": 3,
   "metadata": {},
   "outputs": [],
   "source": [
    "#ta3p100.ProofreadLabelFinal & 'status=\"complete\"'"
   ]
  },
  {
   "cell_type": "code",
   "execution_count": 4,
   "metadata": {},
   "outputs": [],
   "source": [
    "@schema\n",
    "class CoarseLabelFinal(dj.Computed):\n",
    "    definition = \"\"\"\n",
    "    # Vertex labels for ta3p100.ProofreadLabel did not correctly match the triangle labels, so these are regenerated from the correct triangle labels.\n",
    "    -> ta3p100.ProofreadLabelFinal\n",
    "    ---\n",
    "    vertices  : longblob # Corrected vertex labels\n",
    "    triangles : longblob # Same triangle labels as ta3p100.ProofreadLabel\n",
    "    \"\"\"\n",
    "    \n",
    "    key_source = ta3p100.ProofreadLabelFinal & 'status=\"complete\"'\n",
    "    \n",
    "    def make(self, key):\n",
    "        start = time.time()\n",
    "        \n",
    "        print(key[\"segment_id\"])\n",
    "        labels = (ta3p100.ProofreadLabelFinal & key).fetch1()\n",
    "        corrected_vertex_labels = np.zeros(labels['vertices'].shape, np.uint8)\n",
    "        \n",
    "        mesh = (ta3p100.CleansedMesh & 'decimation_ratio=0.35' & dict(segment_id=key['segment_id'])).fetch1()\n",
    "        mesh_triangles = mesh['triangles']\n",
    "        \n",
    "        vertex_label_dict = dict()\n",
    "        for i, label in enumerate(labels['triangles']):\n",
    "            triangle = mesh_triangles[i]\n",
    "            for node in triangle:\n",
    "                if node in vertex_label_dict:\n",
    "                    if vertex_label_dict[node] < label:\n",
    "                        vertex_label_dict[node] = label\n",
    "                else:\n",
    "                    vertex_label_dict[node] = label\n",
    "                \n",
    "        for node, label in vertex_label_dict.items():\n",
    "            corrected_vertex_labels[node] = label\n",
    "            \n",
    "        self.insert1(dict(key,\n",
    "                          vertices=corrected_vertex_labels,\n",
    "                          triangles=labels['triangles']))\n",
    "        \n",
    "        print(\"Segment {} vertex labels regenerated in: {} seconds.\".format(key['segment_id'], time.time() - start))"
   ]
  },
  {
   "cell_type": "code",
   "execution_count": 5,
   "metadata": {},
   "outputs": [
    {
     "name": "stdout",
     "output_type": "stream",
     "text": [
      "648518346349475522\n",
      "Segment 648518346349475522 vertex labels regenerated in: 2.5998361110687256 seconds.\n",
      "648518346349475524\n",
      "Segment 648518346349475524 vertex labels regenerated in: 3.9512948989868164 seconds.\n",
      "648518346349475530\n",
      "Segment 648518346349475530 vertex labels regenerated in: 2.7428386211395264 seconds.\n",
      "648518346349475573\n",
      "Segment 648518346349475573 vertex labels regenerated in: 2.312443971633911 seconds.\n",
      "648518346349477981\n",
      "Segment 648518346349477981 vertex labels regenerated in: 3.5848429203033447 seconds.\n",
      "648518346349478248\n",
      "Segment 648518346349478248 vertex labels regenerated in: 4.5051610469818115 seconds.\n",
      "648518346349478830\n",
      "Segment 648518346349478830 vertex labels regenerated in: 3.6021976470947266 seconds.\n",
      "648518346349479254\n",
      "Segment 648518346349479254 vertex labels regenerated in: 4.543766260147095 seconds.\n",
      "648518346349480499\n",
      "Segment 648518346349480499 vertex labels regenerated in: 3.9675769805908203 seconds.\n",
      "648518346349483956\n",
      "Segment 648518346349483956 vertex labels regenerated in: 4.867859363555908 seconds.\n",
      "648518346349490430\n",
      "Segment 648518346349490430 vertex labels regenerated in: 2.603040933609009 seconds.\n",
      "648518346349490796\n",
      "Segment 648518346349490796 vertex labels regenerated in: 4.247253179550171 seconds.\n",
      "648518346349492197\n",
      "Segment 648518346349492197 vertex labels regenerated in: 3.8520662784576416 seconds.\n",
      "648518346349493653\n",
      "Segment 648518346349493653 vertex labels regenerated in: 4.611698150634766 seconds.\n",
      "648518346349494539\n",
      "Segment 648518346349494539 vertex labels regenerated in: 3.12808895111084 seconds.\n",
      "648518346349495452\n",
      "Segment 648518346349495452 vertex labels regenerated in: 4.082432985305786 seconds.\n",
      "648518346349496278\n",
      "Segment 648518346349496278 vertex labels regenerated in: 4.2015769481658936 seconds.\n",
      "648518346349498239\n",
      "Segment 648518346349498239 vertex labels regenerated in: 4.637710332870483 seconds.\n",
      "648518346349499297\n",
      "Segment 648518346349499297 vertex labels regenerated in: 4.07739520072937 seconds.\n",
      "648518346349499680\n",
      "Segment 648518346349499680 vertex labels regenerated in: 4.274952411651611 seconds.\n",
      "648518346349499851\n",
      "Segment 648518346349499851 vertex labels regenerated in: 4.259514331817627 seconds.\n",
      "648518346349500126\n",
      "Segment 648518346349500126 vertex labels regenerated in: 4.432108640670776 seconds.\n",
      "648518346349500324\n",
      "Segment 648518346349500324 vertex labels regenerated in: 4.624104022979736 seconds.\n",
      "648518346349500886\n",
      "Segment 648518346349500886 vertex labels regenerated in: 2.3291311264038086 seconds.\n",
      "648518346349501517\n",
      "Segment 648518346349501517 vertex labels regenerated in: 3.1376399993896484 seconds.\n",
      "648518346349501787\n",
      "Segment 648518346349501787 vertex labels regenerated in: 4.059990406036377 seconds.\n",
      "648518346349503086\n",
      "Segment 648518346349503086 vertex labels regenerated in: 3.476656913757324 seconds.\n",
      "648518346349503591\n",
      "Segment 648518346349503591 vertex labels regenerated in: 4.316166162490845 seconds.\n",
      "648518346349504065\n",
      "Segment 648518346349504065 vertex labels regenerated in: 4.469280242919922 seconds.\n",
      "648518346349504826\n",
      "Segment 648518346349504826 vertex labels regenerated in: 3.8596503734588623 seconds.\n",
      "648518346349505512\n",
      "Segment 648518346349505512 vertex labels regenerated in: 3.400974988937378 seconds.\n",
      "648518346349506008\n",
      "Segment 648518346349506008 vertex labels regenerated in: 3.5475847721099854 seconds.\n",
      "648518346349506778\n",
      "Segment 648518346349506778 vertex labels regenerated in: 3.7883448600769043 seconds.\n",
      "648518346349507175\n",
      "Segment 648518346349507175 vertex labels regenerated in: 2.4517319202423096 seconds.\n",
      "648518346349507658\n",
      "Segment 648518346349507658 vertex labels regenerated in: 2.3635501861572266 seconds.\n",
      "134.89321517944336\n"
     ]
    }
   ],
   "source": [
    "start = time.time()\n",
    "CoarseLabelFinal.populate(reserve_jobs=True)\n",
    "print(time.time() - start)"
   ]
  },
  {
   "cell_type": "code",
   "execution_count": 11,
   "metadata": {},
   "outputs": [],
   "source": [
    "#(schema.jobs & \"table_name='__coarse_label_final'\").delete()"
   ]
  },
  {
   "cell_type": "code",
   "execution_count": null,
   "metadata": {},
   "outputs": [],
   "source": []
  }
 ],
 "metadata": {
  "kernelspec": {
   "display_name": "Python 3",
   "language": "python",
   "name": "python3"
  },
  "language_info": {
   "codemirror_mode": {
    "name": "ipython",
    "version": 3
   },
   "file_extension": ".py",
   "mimetype": "text/x-python",
   "name": "python",
   "nbconvert_exporter": "python",
   "pygments_lexer": "ipython3",
   "version": "3.6.5"
  }
 },
 "nbformat": 4,
 "nbformat_minor": 2
}
