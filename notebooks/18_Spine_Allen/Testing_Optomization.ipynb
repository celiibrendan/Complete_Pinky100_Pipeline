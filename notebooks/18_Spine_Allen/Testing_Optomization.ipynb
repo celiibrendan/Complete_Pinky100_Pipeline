{
 "cells": [
  {
   "cell_type": "code",
   "execution_count": 162,
   "metadata": {},
   "outputs": [],
   "source": [
    "import numpy as np\n",
    "import trimesh\n",
    "from pathlib import Path\n",
    "import csv\n",
    "from collections import Counter\n",
    "import time\n",
    "from timeit import timeit"
   ]
  },
  {
   "cell_type": "code",
   "execution_count": 56,
   "metadata": {},
   "outputs": [],
   "source": [
    "file_name = \"neuron-775959265587_part_2\"\n",
    "mesh_file_location = \"/notebooks/18_Spine_Allen/neurons\"\n",
    "labels_file_location = \"/notebooks/18_Spine_Allen/cgal\"\n",
    "\n",
    "clusters = \"12\"\n",
    "smoothness = \"0.04\"\n",
    "\n",
    "labels_file = str(Path(labels_file_location) / Path(file_name + \"-cgal_\" + str(clusters) + \"_\" + str(smoothness) + \".csv\" ))  \n",
    "sdf_file = str(Path(labels_file_location) / Path(file_name + \"-cgal_\" + str(clusters) + \"_\" + str(smoothness) + \"_sdf.csv\" ))  \n"
   ]
  },
  {
   "cell_type": "code",
   "execution_count": 31,
   "metadata": {},
   "outputs": [
    {
     "name": "stdout",
     "output_type": "stream",
     "text": [
      "inside labels file\n"
     ]
    }
   ],
   "source": [
    "#using insert function instead of append\n",
    "labels_list = []\n",
    "with open(labels_file) as csvfile:\n",
    "    print(\"inside labels file\")\n",
    "\n",
    "    for i,row in enumerate(csv.reader(csvfile)):\n",
    "        labels_list.append(int(row[0]))"
   ]
  },
  {
   "cell_type": "code",
   "execution_count": 32,
   "metadata": {},
   "outputs": [
    {
     "data": {
      "text/plain": [
       "1814"
      ]
     },
     "execution_count": 32,
     "metadata": {},
     "output_type": "execute_result"
    }
   ],
   "source": [
    "myCounter = Counter(labels_list)\n",
    "key_list = list(myCounter.keys())\n",
    "key_list_np = np.array(key_list)\n",
    "np.max(key_list_np)"
   ]
  },
  {
   "cell_type": "code",
   "execution_count": 61,
   "metadata": {},
   "outputs": [],
   "source": [
    "sdf_labels = np.zeros(len(labels_list)).astype(\"float\")\n",
    "segmentation_length = len(list(myCounter.keys()))\n",
    "with open(sdf_file) as csvfile:\n",
    "\n",
    "    for i,row in enumerate(csv.reader(csvfile)):\n",
    "        sdf_labels[i] = float(row[0])\n",
    "\n",
    "\n",
    "sdf_temp_dict = {}\n",
    "for i in range(0,segmentation_length):\n",
    "    sdf_temp_dict[i] = []\n",
    "\n",
    "#print(\"sdf_temp_dict = \" + str(sdf_temp_dict))\n",
    "#print(\"sdf_labels = \" + str(sdf_labels))\n",
    "#iterate through the labels_list\n",
    "for i,label in enumerate(labels_list):\n",
    "    sdf_temp_dict[label].append(sdf_labels[i])\n",
    "#print(sdf_temp_dict)\n",
    "\n",
    "#now calculate the stats on the sdf values for each label\n",
    "sdf_final_dict = {}\n",
    "\n",
    "for dict_key,value in sdf_temp_dict.items():\n",
    "\n",
    "    #just want to store the median\n",
    "    sdf_final_dict[dict_key] = np.median(value)\n",
    "\n"
   ]
  },
  {
   "cell_type": "code",
   "execution_count": 27,
   "metadata": {},
   "outputs": [
    {
     "data": {
      "text/plain": [
       "1815"
      ]
     },
     "execution_count": 27,
     "metadata": {},
     "output_type": "execute_result"
    }
   ],
   "source": [
    "unique_key_list_np = np.unique(key_list_np)\n",
    "unique_key_list_np.size"
   ]
  },
  {
   "cell_type": "code",
   "execution_count": 43,
   "metadata": {},
   "outputs": [],
   "source": [
    "my_array = np.asarray([list(myCounter.keys()),list(myCounter.values())])"
   ]
  },
  {
   "cell_type": "code",
   "execution_count": 83,
   "metadata": {},
   "outputs": [],
   "source": [
    "max_backbone_threshold  = 200 \n",
    "backbone_threshold = 40\n",
    "backbone_width_threshold = 0.1"
   ]
  },
  {
   "cell_type": "code",
   "execution_count": 53,
   "metadata": {},
   "outputs": [
    {
     "name": "stdout",
     "output_type": "stream",
     "text": [
      "Total time = 0.001603841781616211\n",
      "Total time = 0.0007765293121337891\n"
     ]
    }
   ],
   "source": [
    "start_time = time.time()\n",
    "backbone_labels_np = np.array(list(myCounter.keys()))[np.where(np.array(list(myCounter.values())) > max_backbone_threshold)]\n",
    "print(f\"Total time = {time.time() - start_time}\")\n",
    "\n",
    "\n",
    "spine_labels = []\n",
    "backbone_labels = []\n",
    "\n",
    "#put groups that have number of faces > max_backbone_threshold into backbone list\n",
    "start_time = time.time()\n",
    "for label,times in myCounter.items():\n",
    "    if(times >= max_backbone_threshold):\n",
    "        #print(str(label) + \":\" + str(times))\n",
    "        backbone_labels.append(label)   \n",
    "        \n",
    "print(f\"Total time = {time.time() - start_time}\")\n",
    "\n",
    "\n",
    "\n",
    "\n"
   ]
  },
  {
   "cell_type": "code",
   "execution_count": 110,
   "metadata": {},
   "outputs": [
    {
     "name": "stdout",
     "output_type": "stream",
     "text": [
      "Total time = 0.006491184234619141\n"
     ]
    }
   ],
   "source": [
    "\n",
    "start_time = time.time()\n",
    "total_items = np.array(sorted(myCounter.items()))\n",
    "keys = total_items[:,0]\n",
    "values = total_items[:,1]\n",
    "big_threshold = values >= max_backbone_threshold\n",
    "\n",
    "small_threshold = values > backbone_threshold \n",
    "sdf_threshold = np.array(list(sdf_final_dict.values())) >= backbone_width_threshold\n",
    "total_list = np.logical_or(big_threshold,np.logical_and(small_threshold,sdf_threshold))\n",
    "backbone_labels_new = keys[total_list]\n",
    "\n",
    "print(f\"Total time = {time.time() - start_time}\")\n",
    "\n",
    "#print(f\"Total time = {time.time() - start_time}\")\n"
   ]
  },
  {
   "cell_type": "code",
   "execution_count": 111,
   "metadata": {},
   "outputs": [
    {
     "name": "stdout",
     "output_type": "stream",
     "text": [
      "Initial backbone list append took: 0.018411874771118164 seconds\n"
     ]
    }
   ],
   "source": [
    "spine_labels = []\n",
    "backbone_labels = []\n",
    "\n",
    "#faster this way than with numpy way\n",
    "\n",
    "#put groups that have number of faces > max_backbone_threshold into backbone list\n",
    "start_time = time.time()\n",
    "for label,times in myCounter.items():\n",
    "    if(times >= max_backbone_threshold):\n",
    "        #print(str(label) + \":\" + str(times))\n",
    "        backbone_labels.append(label)   \n",
    "\n",
    "#put groups that have median sdf value > backbone_width_threshold AND greater than backbone_threshold into backbone list\n",
    "for label in myCounter.keys():\n",
    "    if( sdf_final_dict[label] >= backbone_width_threshold):\n",
    "        #print(str(label) + \":\" + str(times))\n",
    "        if(myCounter[label] > backbone_threshold) and (label not in backbone_labels):\n",
    "            backbone_labels.append(label) \n",
    "\n",
    "print(f\"Initial backbone list append took: {time.time() - start_time} seconds\")\n"
   ]
  },
  {
   "cell_type": "code",
   "execution_count": 112,
   "metadata": {},
   "outputs": [
    {
     "name": "stdout",
     "output_type": "stream",
     "text": [
      "873 873\n"
     ]
    },
    {
     "data": {
      "text/plain": [
       "[]"
      ]
     },
     "execution_count": 112,
     "metadata": {},
     "output_type": "execute_result"
    }
   ],
   "source": [
    "print(len(backbone_labels_new),len(np.array(backbone_labels)))\n",
    "np.array_equal(backbone_labels_new,np.array(backbone_labels))\n",
    "counter = []\n",
    "for x in backbone_labels:\n",
    "    if not np.isin(x,backbone_labels_new):\n",
    "        counter.append(x)\n",
    "counter"
   ]
  },
  {
   "cell_type": "code",
   "execution_count": 104,
   "metadata": {},
   "outputs": [
    {
     "data": {
      "text/plain": [
       "200"
      ]
     },
     "execution_count": 104,
     "metadata": {},
     "output_type": "execute_result"
    }
   ],
   "source": [
    "myCounter[16]"
   ]
  },
  {
   "cell_type": "code",
   "execution_count": 102,
   "metadata": {},
   "outputs": [
    {
     "data": {
      "text/plain": [
       "False"
      ]
     },
     "execution_count": 102,
     "metadata": {},
     "output_type": "execute_result"
    }
   ],
   "source": [
    "#total_list = np.logical_or(big_threshold,np.logical_and(small_threshold,sdf_threshold))\n",
    "sdf_threshold[16]"
   ]
  },
  {
   "cell_type": "code",
   "execution_count": 91,
   "metadata": {},
   "outputs": [
    {
     "data": {
      "text/plain": [
       "10387"
      ]
     },
     "execution_count": 91,
     "metadata": {},
     "output_type": "execute_result"
    }
   ],
   "source": [
    "myCounter[1814]"
   ]
  },
  {
   "cell_type": "code",
   "execution_count": 76,
   "metadata": {},
   "outputs": [],
   "source": [
    "#keys  = np.array(sorted(myCounter.items()))[:,0]\n"
   ]
  },
  {
   "cell_type": "code",
   "execution_count": 69,
   "metadata": {},
   "outputs": [
    {
     "data": {
      "text/plain": [
       "array([False, False, False, ...,  True,  True,  True])"
      ]
     },
     "execution_count": 69,
     "metadata": {},
     "output_type": "execute_result"
    }
   ],
   "source": [
    "np.array(list(myCounter.values())) > backbone_threshold np.array(list(sdf_final_dict.values())) > width_threshold"
   ]
  },
  {
   "cell_type": "code",
   "execution_count": 79,
   "metadata": {},
   "outputs": [
    {
     "ename": "AttributeError",
     "evalue": "'dict_values' object has no attribute 'tolist'",
     "output_type": "error",
     "traceback": [
      "\u001b[0;31m---------------------------------------------------------------------------\u001b[0m",
      "\u001b[0;31mAttributeError\u001b[0m                            Traceback (most recent call last)",
      "\u001b[0;32m<ipython-input-79-922cc4368a19>\u001b[0m in \u001b[0;36m<module>\u001b[0;34m\u001b[0m\n\u001b[0;32m----> 1\u001b[0;31m \u001b[0msdf_final_dict\u001b[0m\u001b[0;34m.\u001b[0m\u001b[0mvalues\u001b[0m\u001b[0;34m(\u001b[0m\u001b[0;34m)\u001b[0m\u001b[0;34m.\u001b[0m\u001b[0mtolist\u001b[0m\u001b[0;34m(\u001b[0m\u001b[0;34m)\u001b[0m\u001b[0;34m\u001b[0m\u001b[0m\n\u001b[0m",
      "\u001b[0;31mAttributeError\u001b[0m: 'dict_values' object has no attribute 'tolist'"
     ]
    }
   ],
   "source": []
  },
  {
   "cell_type": "code",
   "execution_count": 77,
   "metadata": {},
   "outputs": [
    {
     "ename": "TypeError",
     "evalue": "'>' not supported between instances of 'dict_values' and 'float'",
     "output_type": "error",
     "traceback": [
      "\u001b[0;31m---------------------------------------------------------------------------\u001b[0m",
      "\u001b[0;31mTypeError\u001b[0m                                 Traceback (most recent call last)",
      "\u001b[0;32m<ipython-input-77-eb1a85511b93>\u001b[0m in \u001b[0;36m<module>\u001b[0;34m\u001b[0m\n\u001b[0;32m----> 1\u001b[0;31m \u001b[0mnp\u001b[0m\u001b[0;34m.\u001b[0m\u001b[0marray\u001b[0m\u001b[0;34m(\u001b[0m\u001b[0msdf_final_dict\u001b[0m\u001b[0;34m.\u001b[0m\u001b[0mvalues\u001b[0m\u001b[0;34m(\u001b[0m\u001b[0;34m)\u001b[0m\u001b[0;34m)\u001b[0m \u001b[0;34m>\u001b[0m \u001b[0mwidth_threshold\u001b[0m\u001b[0;34m\u001b[0m\u001b[0m\n\u001b[0m",
      "\u001b[0;31mTypeError\u001b[0m: '>' not supported between instances of 'dict_values' and 'float'"
     ]
    }
   ],
   "source": [
    "np.array(sdf_final_dict.values()) > width_threshold"
   ]
  },
  {
   "cell_type": "markdown",
   "metadata": {},
   "source": [
    "# OPTOMIZING FIND NEIGHBORS"
   ]
  },
  {
   "cell_type": "code",
   "execution_count": 160,
   "metadata": {},
   "outputs": [],
   "source": [
    "full_path = str(Path(mesh_file_location) / Path(file_name))\n",
    "mesh = trimesh.load_mesh(full_path + \".off\")\n",
    "current_label = 17"
   ]
  },
  {
   "cell_type": "code",
   "execution_count": 174,
   "metadata": {},
   "outputs": [],
   "source": [
    "labels_list = np.array(labels_list)"
   ]
  },
  {
   "cell_type": "code",
   "execution_count": 181,
   "metadata": {},
   "outputs": [
    {
     "data": {
      "text/plain": [
       "array([     0,      1,      2, ..., 238331, 238332, 238333])"
      ]
     },
     "execution_count": 181,
     "metadata": {},
     "output_type": "execute_result"
    }
   ],
   "source": [
    "length = len(mesh.faces)\n",
    "\n",
    "#indexes = np.array([x for x in range(0,len(mesh.faces))])\n",
    "indexes = np.linspace(0,length,length + 1).astype(int)\n",
    "np.arange(length)"
   ]
  },
  {
   "cell_type": "code",
   "execution_count": 184,
   "metadata": {},
   "outputs": [
    {
     "name": "stdout",
     "output_type": "stream",
     "text": [
      "Total time: 2.17437744140625 seconds\n",
      "Total time: 4.546165466308594 seconds\n"
     ]
    }
   ],
   "source": [
    "start_time = time.time()\n",
    "row1 = mesh.face_adjacency[:,0]\n",
    "row2 = mesh.face_adjacency[:,1]\n",
    "\n",
    "#indexes = np.array([x for x in range(0,len(mesh.faces))])\n",
    "#indexes = np.linspace(0,length,length + 1)\n",
    "indexes = np.arange(len(mesh.faces))\n",
    "print(f\"Total time: {(time.time() - start_time)*2000} seconds\")\n",
    "\n",
    "indexes_mask = labels_list == current_label\n",
    "print(f\"Total time: {(time.time() - start_time)*2000} seconds\")\n"
   ]
  },
  {
   "cell_type": "code",
   "execution_count": 185,
   "metadata": {},
   "outputs": [
    {
     "name": "stdout",
     "output_type": "stream",
     "text": [
      "Total time: 1.0957717895507812 seconds\n",
      "Total time: 312.61253356933594 seconds\n"
     ]
    }
   ],
   "source": [
    "start_time = time.time()\n",
    "faces_indeces = indexes[indexes_mask]\n",
    "print(f\"Total time: {(time.time() - start_time)*2000} seconds\")\n",
    "row_1_members = np.isin(row1,faces_indeces)\n",
    "row_2_members = np.isin(row2,faces_indeces)\n",
    "print(f\"Total time: {(time.time() - start_time)*2000} seconds\")"
   ]
  },
  {
   "cell_type": "code",
   "execution_count": null,
   "metadata": {},
   "outputs": [],
   "source": [
    "#one adjacency search\n"
   ]
  },
  {
   "cell_type": "code",
   "execution_count": 143,
   "metadata": {},
   "outputs": [
    {
     "name": "stdout",
     "output_type": "stream",
     "text": [
      "255\n",
      "255\n"
     ]
    }
   ],
   "source": [
    "print(sum(row_1_members))\n",
    "print(sum(row_2_members))"
   ]
  },
  {
   "cell_type": "code",
   "execution_count": 186,
   "metadata": {},
   "outputs": [
    {
     "name": "stdout",
     "output_type": "stream",
     "text": [
      "Total time: 7.380962371826172 seconds\n",
      "Total time: 7.992267608642578 seconds\n"
     ]
    },
    {
     "data": {
      "text/plain": [
       "[255]"
      ]
     },
     "execution_count": 186,
     "metadata": {},
     "output_type": "execute_result"
    }
   ],
   "source": [
    "start_time = time.time()\n",
    "mask = np.logical_xor(row_1_members,row_2_members)\n",
    "neighbor_faces = mesh.face_adjacency[mask,:]\n",
    "neighbor_faces_labels = labels_list_array[neighbor_faces.ravel()]\n",
    "neighbors_dict = dict(Counter(neighbor_faces_labels[neighbor_faces_labels != 17]))\n",
    "print(f\"Total time: {(time.time() - start_time)*2000} seconds\")\n",
    "neighbors = list(neighbors_dict.keys())\n",
    "print(f\"Total time: {(time.time() - start_time)*2000} seconds\")\n",
    "neighbors"
   ]
  },
  {
   "cell_type": "code",
   "execution_count": 149,
   "metadata": {},
   "outputs": [
    {
     "data": {
      "text/plain": [
       "array([255,  17, 255,  17,  17, 255,  17, 255,  17, 255, 255,  17])"
      ]
     },
     "execution_count": 149,
     "metadata": {},
     "output_type": "execute_result"
    }
   ],
   "source": [
    "labels_list_array[mesh.face_adjacency[mask,:].ravel()]"
   ]
  },
  {
   "cell_type": "code",
   "execution_count": 168,
   "metadata": {},
   "outputs": [
    {
     "name": "stdout",
     "output_type": "stream",
     "text": [
      "Total time: 83.29391479492188 seconds\n"
     ]
    }
   ],
   "source": [
    "start_time = time.time()\n",
    "Counter(labels_list)[current_label]\n",
    "print(f\"Total time: {(time.time() - start_time)*2000} seconds\")"
   ]
  },
  {
   "cell_type": "code",
   "execution_count": 194,
   "metadata": {},
   "outputs": [],
   "source": [
    "x = np.array([[1,3],[4,5]])\n",
    "a,b = x.T"
   ]
  },
  {
   "cell_type": "code",
   "execution_count": 213,
   "metadata": {},
   "outputs": [
    {
     "name": "stdout",
     "output_type": "stream",
     "text": [
      "Total time: 1117.1150207519531 seconds\n",
      "Total time: 24.948596954345703 seconds\n",
      "234909 1810\n"
     ]
    }
   ],
   "source": [
    "backbone_labels = list(labels_list)\n",
    "#print(type(backbone_labels))\n",
    "\n",
    "to_remove = list(labels_list)[:100]\n",
    "#print(to_remove)\n",
    "\n",
    "start_time = time.time()\n",
    "final_backbones = [bkbone for bkbone in backbone_labels if bkbone not in to_remove]\n",
    "print(f\"Total time: {(time.time() - start_time)*2000} seconds\")\n",
    "\n",
    "start_time = time.time()\n",
    "final_backbones_set = list(set(backbone_labels).difference(set(to_remove)))\n",
    "print(f\"Total time: {(time.time() - start_time)*2000} seconds\")\n",
    "\n",
    "print(len(final_backbones),len(final_backbones_set))"
   ]
  },
  {
   "cell_type": "code",
   "execution_count": 205,
   "metadata": {},
   "outputs": [
    {
     "data": {
      "text/plain": [
       "array([1777, 1777, 1777, ..., 1525, 1525, 1525])"
      ]
     },
     "execution_count": 205,
     "metadata": {},
     "output_type": "execute_result"
    }
   ],
   "source": [
    "labels_list"
   ]
  },
  {
   "cell_type": "code",
   "execution_count": 214,
   "metadata": {},
   "outputs": [],
   "source": [
    "x = set()"
   ]
  },
  {
   "cell_type": "code",
   "execution_count": 227,
   "metadata": {},
   "outputs": [],
   "source": [
    "x.add(1)\n",
    "x.add(3)\n",
    "x.add(5)"
   ]
  },
  {
   "cell_type": "code",
   "execution_count": 228,
   "metadata": {},
   "outputs": [
    {
     "data": {
      "text/plain": [
       "3"
      ]
     },
     "execution_count": 228,
     "metadata": {},
     "output_type": "execute_result"
    }
   ],
   "source": [
    "len(x)"
   ]
  },
  {
   "cell_type": "code",
   "execution_count": 223,
   "metadata": {},
   "outputs": [
    {
     "data": {
      "text/plain": [
       "True"
      ]
     },
     "execution_count": 223,
     "metadata": {},
     "output_type": "execute_result"
    }
   ],
   "source": [
    "1 in x"
   ]
  },
  {
   "cell_type": "code",
   "execution_count": 226,
   "metadata": {},
   "outputs": [
    {
     "data": {
      "text/plain": [
       "1"
      ]
     },
     "execution_count": 226,
     "metadata": {},
     "output_type": "execute_result"
    }
   ],
   "source": [
    "x.pop()"
   ]
  },
  {
   "cell_type": "code",
   "execution_count": 229,
   "metadata": {},
   "outputs": [
    {
     "ename": "AttributeError",
     "evalue": "'set' object has no attribute 'append'",
     "output_type": "error",
     "traceback": [
      "\u001b[0;31m---------------------------------------------------------------------------\u001b[0m",
      "\u001b[0;31mAttributeError\u001b[0m                            Traceback (most recent call last)",
      "\u001b[0;32m<ipython-input-229-0c12a360abca>\u001b[0m in \u001b[0;36m<module>\u001b[0;34m\u001b[0m\n\u001b[0;32m----> 1\u001b[0;31m \u001b[0mx\u001b[0m\u001b[0;34m.\u001b[0m\u001b[0mappend\u001b[0m\u001b[0;34m(\u001b[0m\u001b[0mset\u001b[0m\u001b[0;34m(\u001b[0m\u001b[0;36m6\u001b[0m\u001b[0;34m,\u001b[0m\u001b[0;36m7\u001b[0m\u001b[0;34m,\u001b[0m\u001b[0;36m9\u001b[0m\u001b[0;34m)\u001b[0m\u001b[0;34m)\u001b[0m\u001b[0;34m\u001b[0m\u001b[0m\n\u001b[0m",
      "\u001b[0;31mAttributeError\u001b[0m: 'set' object has no attribute 'append'"
     ]
    }
   ],
   "source": [
    "x.append(set(6,7,9))"
   ]
  },
  {
   "cell_type": "code",
   "execution_count": 242,
   "metadata": {},
   "outputs": [],
   "source": [
    "y = {6,7,9}"
   ]
  },
  {
   "cell_type": "code",
   "execution_count": 243,
   "metadata": {},
   "outputs": [],
   "source": [
    "x.update(set({6,7,9}))"
   ]
  },
  {
   "cell_type": "code",
   "execution_count": 244,
   "metadata": {},
   "outputs": [
    {
     "data": {
      "text/plain": [
       "{1, 3, 5, 6, 7, 9}"
      ]
     },
     "execution_count": 244,
     "metadata": {},
     "output_type": "execute_result"
    }
   ],
   "source": [
    "x"
   ]
  },
  {
   "cell_type": "code",
   "execution_count": 245,
   "metadata": {},
   "outputs": [
    {
     "data": {
      "text/plain": [
       "{1, 3, 5}"
      ]
     },
     "execution_count": 245,
     "metadata": {},
     "output_type": "execute_result"
    }
   ],
   "source": [
    "x.difference(y)"
   ]
  },
  {
   "cell_type": "code",
   "execution_count": 236,
   "metadata": {},
   "outputs": [
    {
     "data": {
      "text/plain": [
       "set"
      ]
     },
     "execution_count": 236,
     "metadata": {},
     "output_type": "execute_result"
    }
   ],
   "source": [
    "type(set())"
   ]
  },
  {
   "cell_type": "code",
   "execution_count": 241,
   "metadata": {},
   "outputs": [
    {
     "ename": "TypeError",
     "evalue": "'NoneType' object is not iterable",
     "output_type": "error",
     "traceback": [
      "\u001b[0;31m---------------------------------------------------------------------------\u001b[0m",
      "\u001b[0;31mTypeError\u001b[0m                                 Traceback (most recent call last)",
      "\u001b[0;32m<ipython-input-241-ad76adb93934>\u001b[0m in \u001b[0;36m<module>\u001b[0;34m\u001b[0m\n\u001b[0;32m----> 1\u001b[0;31m \u001b[0;32mfor\u001b[0m \u001b[0mx\u001b[0m \u001b[0;32min\u001b[0m \u001b[0;32mNone\u001b[0m\u001b[0;34m:\u001b[0m\u001b[0;34m\u001b[0m\u001b[0m\n\u001b[0m\u001b[1;32m      2\u001b[0m     \u001b[0mprint\u001b[0m\u001b[0;34m(\u001b[0m\u001b[0;34m\"hello\"\u001b[0m\u001b[0;34m)\u001b[0m\u001b[0;34m\u001b[0m\u001b[0m\n",
      "\u001b[0;31mTypeError\u001b[0m: 'NoneType' object is not iterable"
     ]
    }
   ],
   "source": [
    "for x in None:\n",
    "    print(\"hello\")"
   ]
  },
  {
   "cell_type": "code",
   "execution_count": 239,
   "metadata": {},
   "outputs": [
    {
     "name": "stdout",
     "output_type": "stream",
     "text": [
      "hello\n"
     ]
    }
   ],
   "source": [
    "if None not in set():\n",
    "    print(\"hello\")"
   ]
  },
  {
   "cell_type": "code",
   "execution_count": 246,
   "metadata": {},
   "outputs": [],
   "source": [
    "new_backbone_labels = [0, 1, 2, 3, 4, 7, 8, 9, 10, 11, 12, 13, 14, 15, 16, 17, 18, 19, 20, 21, 26, 27, 28, 29, 30, 31, 32, 33, 36, 38, 39, 40, 41, 42, 43, 45, 48, 51, 52, 53, 55, 68, 70, 84, 85, 86, 87, 89, 90, 91, 94, 95, 96, 98, 99, 100, 104, 107, 108, 109, 110, 113, 122, 128, 131, 133, 134, 135, 138, 139, 140, 142, 144, 145, 147, 155, 159, 168, 170, 172, 173, 174, 175, 176, 177, 178, 179, 180, 181, 182, 183, 184, 185, 186, 187, 188, 192, 193, 195, 196, 198, 199, 200, 201, 203, 204, 205, 206, 207, 208, 209, 210, 211, 212, 213, 216, 217, 218, 219, 220, 223, 224, 225, 226, 228, 229, 231, 235, 265, 268, 270, 272, 273, 277, 278, 279, 280, 281, 283, 284, 286, 287, 288, 289, 290, 291, 292, 293, 294, 295, 298, 299, 300, 301, 303, 304, 305, 306, 307, 308, 309, 310, 311, 312, 313, 316, 317, 318, 319, 322, 323, 324, 327, 328, 330, 332, 336, 339, 340, 343, 344, 346, 347, 348, 349, 350, 351, 352, 353, 355, 356, 357, 358, 359, 360, 361, 363, 367, 368, 369, 371, 374, 376, 377, 379, 380, 382, 383, 384, 389, 396, 401, 404, 405, 406, 407, 408, 409, 410, 411, 412, 413, 414, 415, 416, 417, 419, 420, 423, 425, 427, 428, 429, 431, 433, 434, 435, 436, 437, 438, 439, 440, 441, 442, 445, 448, 449, 450, 454, 456, 465, 466, 467, 468, 469, 470, 471, 472, 473, 474, 476, 477, 478, 479, 480, 481, 483, 484, 485, 486, 489, 490, 493, 495, 496, 499, 500, 501, 502, 505, 507, 508, 509, 513, 518, 522, 523, 525, 529, 533, 539, 548, 565, 567, 568, 569, 570, 571, 572, 573, 574, 575, 576, 577, 579, 580, 581, 582, 585, 586, 588, 589, 591, 592, 593, 598, 599, 600, 601, 602, 604, 605, 606, 608, 609, 611, 613, 617, 618, 619, 620, 621, 622, 623, 624, 625, 626, 627, 628, 629, 634, 635, 636, 637, 638, 639, 640, 641, 642, 644, 645, 650, 651, 658, 660, 661, 663, 668, 669, 670, 671, 672, 675, 677, 678, 679, 680, 681, 682, 683, 684, 686, 688, 690, 691, 693, 696, 699, 700, 702, 703, 704, 705, 707, 708, 709, 710, 711, 712, 713, 715, 716, 717, 718, 720, 721, 723, 724, 725, 726, 727, 728, 729, 735, 737, 738, 741, 742, 744, 747, 748, 760, 761, 763, 764, 768, 771, 772, 773, 774, 775, 776, 777, 778, 779, 780, 781, 782, 783, 785, 791, 792, 793, 794, 795, 796, 798, 800, 801, 803, 804, 806, 810, 815, 819, 824, 825, 827, 828, 829, 830, 832, 833, 834, 835, 836, 837, 839, 841, 844, 847, 850, 852, 854, 857, 858, 859, 860, 863, 872, 874, 875, 882, 902, 903, 904, 905, 906, 907, 908, 909, 911, 912, 914, 915, 916, 917, 918, 920, 922, 923, 926, 927, 928, 929, 931, 932, 933, 936, 941, 946, 948, 949, 951, 953, 954, 955, 957, 958, 959, 962, 963, 965, 967, 969, 970, 975, 978, 1000, 1001, 1002, 1003, 1004, 1005, 1006, 1007, 1008, 1009, 1010, 1011, 1014, 1017, 1020, 1024, 1025, 1026, 1027, 1031, 1032, 1034, 1040, 1043, 1044, 1053, 1061, 1077, 1078, 1079, 1080, 1081, 1082, 1083, 1084, 1087, 1088, 1089, 1090, 1091, 1092, 1093, 1094, 1095, 1096, 1097, 1100, 1102, 1103, 1104, 1105, 1106, 1107, 1113, 1121, 1122, 1123, 1124, 1125, 1126, 1127, 1128, 1129, 1130, 1131, 1132, 1134, 1135, 1136, 1138, 1139, 1140, 1142, 1143, 1145, 1148, 1149, 1150, 1151, 1152, 1153, 1154, 1155, 1157, 1158, 1160, 1162, 1163, 1164, 1165, 1167, 1171, 1172, 1173, 1174, 1177, 1181, 1182, 1184, 1186, 1187, 1188, 1190, 1191, 1192, 1193, 1195, 1196, 1197, 1198, 1199, 1200, 1202, 1205, 1206, 1208, 1209, 1212, 1214, 1215, 1218, 1226, 1227, 1229, 1237, 1239, 1242, 1243, 1245, 1256, 1264, 1273, 1276, 1285, 1288, 1289, 1290, 1292, 1294, 1295, 1297, 1298, 1299, 1301, 1302, 1307, 1312, 1314, 1319, 1331, 1333, 1334, 1335, 1336, 1337, 1339, 1340, 1341, 1342, 1343, 1345, 1347, 1348, 1349, 1350, 1351, 1352, 1353, 1354, 1355, 1356, 1358, 1363, 1364, 1367, 1368, 1370, 1371, 1374, 1376, 1378, 1380, 1385, 1390, 1391, 1393, 1398, 1405, 1413, 1417, 1421, 1429, 1431, 1432, 1435, 1436, 1438, 1439, 1440, 1441, 1442, 1445, 1450, 1458, 1459, 1462, 1463, 1464, 1465, 1467, 1471, 1481, 1482, 1486, 1487, 1491, 1492, 1500, 1503, 1506, 1507, 1530, 1531, 1532, 1534, 1535, 1539, 1541, 1542, 1545, 1546, 1548, 1551, 1554, 1560, 1567, 1569, 1570, 1572, 1575, 1576, 1577, 1578, 1579, 1581, 1582, 1585, 1586, 1589, 1591, 1605, 1606, 1619, 1620, 1621, 1626, 1630, 1631, 1632, 1633, 1634, 1635, 1636, 1637, 1638, 1639, 1641, 1644, 1645, 1646, 1647, 1648, 1649, 1651, 1653, 1655, 1671, 1673, 1686, 1687, 1688, 1689, 1690, 1691, 1692, 1693, 1694, 1695, 1696, 1699, 1700, 1701, 1702, 1705, 1706, 1709, 1711, 1713, 1714, 1715, 1723, 1724, 1725, 1726, 1727, 1728, 1729, 1730, 1731, 1732, 1733, 1734, 1735, 1736, 1737, 1741, 1743, 1744, 1745, 1748, 1749, 1753, 1757, 1758, 1759, 1760, 1761, 1762, 1763, 1764, 1766, 1767, 1768, 1770, 1771, 1772, 1778, 1780, 1781, 1782, 1783, 1784, 1785, 1786, 1788, 1789, 1790, 1791, 1793, 1795, 1799, 1800, 1801, 1802, 1806]"
   ]
  },
  {
   "cell_type": "code",
   "execution_count": 253,
   "metadata": {},
   "outputs": [
    {
     "data": {
      "text/plain": [
       "[1, 4, 5, 6, 5, 7, 9]"
      ]
     },
     "execution_count": 253,
     "metadata": {},
     "output_type": "execute_result"
    }
   ],
   "source": [
    "a = [1,4,5,6]\n",
    "a + [5,7,9]"
   ]
  },
  {
   "cell_type": "code",
   "execution_count": 254,
   "metadata": {},
   "outputs": [
    {
     "data": {
      "text/plain": [
       "[1, 4, 5, 6]"
      ]
     },
     "execution_count": 254,
     "metadata": {},
     "output_type": "execute_result"
    }
   ],
   "source": [
    "a"
   ]
  },
  {
   "cell_type": "code",
   "execution_count": null,
   "metadata": {},
   "outputs": [],
   "source": []
  }
 ],
 "metadata": {
  "kernelspec": {
   "display_name": "Python 3",
   "language": "python",
   "name": "python3"
  },
  "language_info": {
   "codemirror_mode": {
    "name": "ipython",
    "version": 3
   },
   "file_extension": ".py",
   "mimetype": "text/x-python",
   "name": "python",
   "nbconvert_exporter": "python",
   "pygments_lexer": "ipython3",
   "version": "3.6.5"
  }
 },
 "nbformat": 4,
 "nbformat_minor": 2
}
