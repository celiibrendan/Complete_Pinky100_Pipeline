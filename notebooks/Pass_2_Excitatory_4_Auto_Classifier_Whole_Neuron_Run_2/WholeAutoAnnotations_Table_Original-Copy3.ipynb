{
 "cells": [
  {
   "cell_type": "code",
   "execution_count": 1,
   "metadata": {},
   "outputs": [],
   "source": [
    "from whole_neuron_classifier_datajoint_adapted import extract_branches_whole_neuron\n",
    "import datajoint as dj\n",
    "import numpy as np\n",
    "import datajoint as dj\n",
    "import trimesh\n",
    "import time"
   ]
  },
  {
   "cell_type": "code",
   "execution_count": 2,
   "metadata": {},
   "outputs": [
    {
     "name": "stdout",
     "output_type": "stream",
     "text": [
      "Connecting celiib@10.28.0.34:3306\n"
     ]
    }
   ],
   "source": [
    "dj.config['database.host'] = '10.28.0.34'\n",
    "dj.config['database.user'] = 'celiib'\n",
    "dj.config['database.password'] = 'newceliipass'\n",
    "dj.config[\"display.limit\"] = 20\n",
    "    \n",
    "#schema = dj.schema('microns_ta3p100')\n",
    "#ta3p100 = dj.create_virtual_module('ta3p100', 'microns_ta3p100')\n",
    "schema = dj.schema(\"microns_pinky\")\n",
    "pinky = dj.create_virtual_module(\"pinky\",\"microns_pinky\")\n"
   ]
  },
  {
   "cell_type": "code",
   "execution_count": 3,
   "metadata": {},
   "outputs": [],
   "source": [
    "@schema\n",
    "class WholeAutoAnnotations(dj.Computed):\n",
    "    definition = \"\"\"\n",
    "    # creates the labels for the mesh table\n",
    "    -> pinky.PymeshfixDecimatedExcitatoryStitchedMesh\n",
    "    ---\n",
    "    vertices   : longblob     # label data for the vertices\n",
    "    triangles  : longblob     # label data for the faces\n",
    "    \"\"\"\n",
    "    \n",
    "    def make(self, key):\n",
    "        start_time = time.time()\n",
    "        \n",
    "        print(\"\\n\\n*****Starting Auto Labeling for \" + str(key[\"segment_id\"]) + \"******\")\n",
    "        \n",
    "        segment_id = key[\"segment_id\"]\n",
    "\n",
    "        #get the vertices and faces from datajoint\n",
    "        # get the newly stitched mesh\n",
    "        # get the original mesh\n",
    "\n",
    "        \n",
    "        verts,faces = (pinky.PymeshfixDecimatedExcitatoryStitchedMesh() & key).fetch1(\"vertices\",\"triangles\")\n",
    "\n",
    "\n",
    "        #run the whole algorithm on the neuron to test\n",
    "        verts_labels, faces_labels = extract_branches_whole_neuron(import_Off_Flag=False,segment_id=segment_id,vertices=verts,\n",
    "                             triangles=faces,pymeshfix_Flag=False,\n",
    "                             import_CGAL_Flag=False,\n",
    "                             return_Only_Labels=True)\n",
    "        \n",
    "        #insert the key\n",
    "        self.insert1(dict(key,\n",
    "                  vertices=verts_labels,\n",
    "                  triangles=faces_labels),skip_duplicates=True)\n",
    "\n",
    "\n",
    "        \n",
    "        print(f\"Finished Auto Labeling: {time.time() - start_time}\")\n",
    "        "
   ]
  },
  {
   "cell_type": "code",
   "execution_count": 4,
   "metadata": {},
   "outputs": [
    {
     "name": "stdout",
     "output_type": "stream",
     "text": [
      "\n",
      "\n",
      "*****Starting Auto Labeling for 648518346349499581******\n",
      "1) Starting: Mesh importing and Pymesh fix\n",
      "loading mesh from vertices and triangles array\n",
      "1) Finished: Mesh importing and Pymesh fix: 0.12050414085388184\n",
      "2) Staring: Generating CGAL segmentation for neuron\n",
      "Done writing OFF file\n",
      "\n",
      "Starting CGAL segmentation\n",
      "Right before cgal segmentation, clusters = 4, smoothness = 0.3\n",
      "1\n",
      "Finished CGAL segmentation algorithm: 1303.6469259262085\n",
      "2) Finished: Generating CGAL segmentation for neuron: 1330.0935409069061\n",
      "3) Staring: Generating Graph Structure and Identifying Soma\n",
      "soma_index = 26\n",
      "3) Finished: Generating Graph Structure and Identifying Soma: 0.3038623332977295\n",
      "4) Staring: Finding Soma Extensions\n",
      "Found 11 soma caps and replacing labels: [128, 61, 159, 41, 109, 212, 78, 82, 112, 83, 45]\n",
      "done replacing soma cap labels : 13.590903282165527\n",
      "4) Finished: Finding Soma Extensions: 14.169824123382568\n",
      "5) Staring: Finding Apical Index\n",
      "Soma Index = 26\n",
      "Soma Connections = [39, 40, 28, 5, 13, 66]\n",
      "soma_80_percent = 216855.090625\n",
      "Debugging the axon filter\n",
      "[(39, 248862.421875), (40, 236917.28125), (28, 238516.203125), (5, 220985.59375), (13, 233876.90625), (66, 218814.828125)]\n",
      "possible_Axons_filter_1 = []\n",
      "possible_Axons_filter_2 = []\n",
      "possible_Apical = None\n",
      "5) Finished: Finding Apical Index: 0.06061124801635742\n",
      "6) Staring: Classifying Entire Neuron\n",
      "Total Labels found = {'soma', 'unsure'}\n",
      "6) Finished: Classifying Entire Neuron: 2.504058837890625\n",
      "7) Staring: Transfering Segmentation Labels to Face Labels\n",
      "7) Finished: Transfering Segmentation Labels to Face Labels: 1.121563196182251\n",
      "8) Staring: Generating final Vertex and Face Labels\n",
      "8) Finished: Generating final Vertex and Face Labels: 14.721232414245605\n",
      "Finished Auto Labeling: 1364.4074041843414\n",
      "1364.7147288322449\n"
     ]
    }
   ],
   "source": [
    "start = time.time()\n",
    "WholeAutoAnnotations.populate(reserve_jobs=True)\n",
    "print(time.time() - start)"
   ]
  },
  {
   "cell_type": "code",
   "execution_count": 5,
   "metadata": {},
   "outputs": [],
   "source": [
    "#(schema.jobs & \"table_name='__whole_auto_annotations'\").delete()"
   ]
  },
  {
   "cell_type": "code",
   "execution_count": null,
   "metadata": {},
   "outputs": [],
   "source": []
  }
 ],
 "metadata": {
  "kernelspec": {
   "display_name": "Python 3",
   "language": "python",
   "name": "python3"
  },
  "language_info": {
   "codemirror_mode": {
    "name": "ipython",
    "version": 3
   },
   "file_extension": ".py",
   "mimetype": "text/x-python",
   "name": "python",
   "nbconvert_exporter": "python",
   "pygments_lexer": "ipython3",
   "version": "3.6.8"
  }
 },
 "nbformat": 4,
 "nbformat_minor": 4
}
