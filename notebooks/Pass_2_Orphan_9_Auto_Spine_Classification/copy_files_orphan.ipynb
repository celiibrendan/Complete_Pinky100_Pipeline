{
 "cells": [
  {
   "cell_type": "code",
   "execution_count": 2,
   "metadata": {},
   "outputs": [],
   "source": [
    "import datajoint as dj\n",
    "import numpy as np\n",
    "\n",
    "dj.config['display.limit'] = 30\n",
    "\n",
    "pinky = dj.create_virtual_module(\"pinky\",\"microns_pinky\")\n",
    "schema = dj.schema(\"microns_pinky\")"
   ]
  },
  {
   "cell_type": "code",
   "execution_count": 3,
   "metadata": {},
   "outputs": [],
   "source": [
    "import shutil\n",
    "\n",
    "import os\n",
    "\n",
    "def copy_file_and_create_shell_script(original_file,num_copies):\n",
    "    #create copies folder if not already there\n",
    "    if not os.path.exists(\"copies\"):\n",
    "        os.makedirs(\"copies\")\n",
    "    \n",
    "    #create the new files\n",
    "    new_file_names = []\n",
    "    for i in range(0,num_copies):\n",
    "        # Copy the file in same folder with different name\n",
    "        new_name = str(i) + \"_\" + str(original_file)\n",
    "        shutil.copy(original_file,\"copies/\" + str(new_name))\n",
    "        \n",
    "        new_file_names.append(new_name)\n",
    "\n",
    "    #write the shell script\n",
    "    f = open(\"copies/run_multiple_\" + str(original_file) + \".sh\", \"w\")\n",
    "    f.write(\"#!/bin/bash\")\n",
    "    f.write(\"\\n\")\n",
    "    for file_name in new_file_names:\n",
    "        f.write(\"python3 \" + str(file_name) + \" &\")\n",
    "        f.write(\"\\n\")\n",
    "    f.close()"
   ]
  },
  {
   "cell_type": "code",
   "execution_count": 4,
   "metadata": {},
   "outputs": [],
   "source": [
    "copy_file_and_create_shell_script(\"Extraction_and_Classification_Spine_Table_Orphan_With_Stats_REVISED.py\",120)"
   ]
  },
  {
   "cell_type": "code",
   "execution_count": 6,
   "metadata": {},
   "outputs": [],
   "source": [
    "#how to convert a jupyter notebook to python\n",
    "#jupyter nbconvert --to script my_notebook.ipynb"
   ]
  },
  {
   "cell_type": "code",
   "execution_count": 7,
   "metadata": {},
   "outputs": [],
   "source": [
    "#schema.jobs"
   ]
  },
  {
   "cell_type": "code",
   "execution_count": 8,
   "metadata": {},
   "outputs": [],
   "source": [
    "#(schema.jobs & \"table_name='__component_label_final_with_stats'\").delete()"
   ]
  },
  {
   "cell_type": "code",
   "execution_count": null,
   "metadata": {},
   "outputs": [],
   "source": []
  }
 ],
 "metadata": {
  "kernelspec": {
   "display_name": "Python 3",
   "language": "python",
   "name": "python3"
  },
  "language_info": {
   "codemirror_mode": {
    "name": "ipython",
    "version": 3
   },
   "file_extension": ".py",
   "mimetype": "text/x-python",
   "name": "python",
   "nbconvert_exporter": "python",
   "pygments_lexer": "ipython3",
   "version": "3.6.5"
  }
 },
 "nbformat": 4,
 "nbformat_minor": 2
}
