{
 "cells": [
  {
   "cell_type": "code",
   "execution_count": 1,
   "metadata": {},
   "outputs": [],
   "source": [
    "import datajoint as dj\n",
    "import numpy as np\n",
    "\n",
    "dj.config[\"display.limit\"] = 20"
   ]
  },
  {
   "cell_type": "code",
   "execution_count": 2,
   "metadata": {},
   "outputs": [
    {
     "name": "stdout",
     "output_type": "stream",
     "text": [
      "Connecting celiib@10.28.0.34:3306\n"
     ]
    }
   ],
   "source": [
    "schema = dj.schema(\"microns_ta3p100\")"
   ]
  },
  {
   "cell_type": "code",
   "execution_count": 10,
   "metadata": {},
   "outputs": [],
   "source": [
    "ta3p100 = dj.create_virtual_module(\"ta3p100\",\"microns_ta3p100\")"
   ]
  },
  {
   "cell_type": "code",
   "execution_count": 9,
   "metadata": {},
   "outputs": [],
   "source": [
    "@schema\n",
    "class SynapseExcludeFinal(dj.Manual):\n",
    "    definition=\"\"\"\n",
    "    -> ta3p100.Synapse\n",
    "    \"\"\""
   ]
  },
  {
   "cell_type": "code",
   "execution_count": 16,
   "metadata": {},
   "outputs": [
    {
     "name": "stdout",
     "output_type": "stream",
     "text": [
      "3724\n",
      "10424\n"
     ]
    }
   ],
   "source": [
    "#things need to include in new Synapse Exclude\n",
    "\"\"\"\n",
    "1) Those with ErrorLabel of SynapseCompartmentLabelFinal\n",
    "2) The old SynapseExclude synapse which aren't form the earlier SynapseCompartLabel error labels migration\n",
    "\n",
    "\"\"\"\n",
    "\n",
    "#1) get the synapses with Error label for both the original proofreading session and the new proofreading session\n",
    "synapse_ids_error_proof_original = (ta3p100.SynapseCompartmentLabel() & \"segmentation=2\" & \"postsynaptic_label=10\").fetch(\"synapse_id\")\n",
    "print(len(synapse_ids_error_proof_original))\n",
    "synapse_ids_error_proof_new = (ta3p100.SynapseCompartmentLabelFinal() & \"segmentation=2\" & \"postsynaptic_label=10\").fetch(\"synapse_id\")\n",
    "print(len(synapse_ids_error_proof_new))"
   ]
  },
  {
   "cell_type": "code",
   "execution_count": 22,
   "metadata": {},
   "outputs": [
    {
     "name": "stdout",
     "output_type": "stream",
     "text": [
      "{'segmentation': 2, 'synapse_id': 742}\n"
     ]
    }
   ],
   "source": [
    "#inserting all the error from the proofreading stage 2 into new synapseExclude table\n",
    "from tqdm import tqdm\n",
    "\n",
    "total_dict = []\n",
    "synapse_dicts = [dict(segmentation=2,synapse_id=sg) for sg in synapse_ids_error_proof_new]\n",
    "len(synapse_dicts)\n",
    "print(synapse_dicts[0])\n",
    "\n",
    "#insert all into segment exclude\n",
    "ta3p100.SynapseExcludeFinal().insert(synapse_dicts,skip_duplicates=True)"
   ]
  },
  {
   "cell_type": "code",
   "execution_count": 28,
   "metadata": {},
   "outputs": [
    {
     "name": "stderr",
     "output_type": "stream",
     "text": [
      "100%|██████████| 72563/72563 [00:01<00:00, 59066.24it/s]\n"
     ]
    }
   ],
   "source": [
    "import collections\n",
    "\n",
    "final_added_synapses = []\n",
    "\n",
    "for q in tqdm(original_synapse_exclude):\n",
    "    if q[\"synapse_id\"] not in synapse_ids_error_proof_original:\n",
    "        final_added_synapses.append(dict(segmentation=2,synapse_id=q[\"synapse_id\"]))"
   ]
  },
  {
   "cell_type": "code",
   "execution_count": 32,
   "metadata": {},
   "outputs": [
    {
     "name": "stdout",
     "output_type": "stream",
     "text": [
      "3724\n",
      "68839\n",
      "72563\n",
      "72563\n"
     ]
    },
    {
     "data": {
      "text/plain": [
       "(None, None)"
      ]
     },
     "execution_count": 32,
     "metadata": {},
     "output_type": "execute_result"
    }
   ],
   "source": [
    "print(len(synapse_ids_error_proof_original)),print(len(final_added_synapses))\n",
    "print(len(synapse_ids_error_proof_original) + len(final_added_synapses)),print(len(ta3p100.SynapseExclude()))"
   ]
  },
  {
   "cell_type": "code",
   "execution_count": 35,
   "metadata": {},
   "outputs": [],
   "source": [
    "#add the last part of synapses that were not from proofreading to the synapseExclude\n",
    "ta3p100.SynapseExcludeFinal.insert(final_added_synapses,skip_duplicates=True)"
   ]
  }
 ],
 "metadata": {
  "kernelspec": {
   "display_name": "Python 3",
   "language": "python",
   "name": "python3"
  },
  "language_info": {
   "codemirror_mode": {
    "name": "ipython",
    "version": 3
   },
   "file_extension": ".py",
   "mimetype": "text/x-python",
   "name": "python",
   "nbconvert_exporter": "python",
   "pygments_lexer": "ipython3",
   "version": "3.6.5"
  }
 },
 "nbformat": 4,
 "nbformat_minor": 2
}
