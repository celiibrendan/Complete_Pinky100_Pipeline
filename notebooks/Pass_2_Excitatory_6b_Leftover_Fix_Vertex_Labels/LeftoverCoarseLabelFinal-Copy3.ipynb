{
 "cells": [
  {
   "cell_type": "code",
   "execution_count": 1,
   "metadata": {},
   "outputs": [],
   "source": [
    "import datajoint as dj\n",
    "import numpy as np\n",
    "import time\n",
    "from tqdm import tqdm"
   ]
  },
  {
   "cell_type": "code",
   "execution_count": 2,
   "metadata": {},
   "outputs": [
    {
     "name": "stdout",
     "output_type": "stream",
     "text": [
      "Connecting celiib@10.28.0.34:3306\n"
     ]
    }
   ],
   "source": [
    "#setting the address and the username\n",
    "dj.config['database.host'] = '10.28.0.34'\n",
    "dj.config['database.user'] = 'celiib'\n",
    "dj.config['database.password'] = 'newceliipass'\n",
    "dj.config['safemode']=True\n",
    "dj.config[\"display.limit\"] = 20\n",
    "\n",
    "pinky = dj.create_virtual_module('pinky', 'microns_pinky')\n",
    "schema = dj.schema('microns_pinky')\n"
   ]
  },
  {
   "cell_type": "code",
   "execution_count": 3,
   "metadata": {},
   "outputs": [],
   "source": [
    "@schema\n",
    "class LeftoverCoarseLabelFinal(dj.Computed):\n",
    "    definition = \"\"\"\n",
    "    # Ensure that Vertex labels for pinky.LeftoverProofreadLabel match the triangle labels, so these are regenerated from the correct triangle labels.\n",
    "    -> pinky.LeftoverProofreadLabel\n",
    "    ---\n",
    "    vertices  : longblob # Corrected vertex labels\n",
    "    triangles : longblob # Same triangle labels as pinky.LeftoverProofreadLabel\n",
    "    \"\"\"\n",
    "    \n",
    "    key_source = pinky.LeftoverProofreadLabel & 'status=\"complete\"'\n",
    "    \n",
    "    def make(self, key):\n",
    "        start = time.time()\n",
    "        \n",
    "        print(key[\"segment_id\"])\n",
    "        labels = (pinky.LeftoverProofreadLabel & key).fetch1()\n",
    "        corrected_vertex_labels = np.zeros(labels['vertices'].shape, np.uint8)\n",
    "        \n",
    "        mesh = (pinky.ExcitatoryLeftoverMeshes & 'decimation_ratio=0.35' & dict(segment_id=key['segment_id'])).fetch1()\n",
    "        mesh_triangles = mesh['triangles']\n",
    "        \n",
    "        vertex_label_dict = dict()\n",
    "        for i, label in enumerate(labels['triangles']):\n",
    "            triangle = mesh_triangles[i]\n",
    "            for node in triangle:\n",
    "                if node in vertex_label_dict:\n",
    "                    if vertex_label_dict[node] < label:\n",
    "                        vertex_label_dict[node] = label\n",
    "                else:\n",
    "                    vertex_label_dict[node] = label\n",
    "                \n",
    "        for node, label in vertex_label_dict.items():\n",
    "            corrected_vertex_labels[node] = label\n",
    "            \n",
    "        self.insert1(dict(key,\n",
    "                          vertices=corrected_vertex_labels,\n",
    "                          triangles=labels['triangles']))\n",
    "        \n",
    "        print(\"Segment {} vertex labels regenerated in: {} seconds.\".format(key['segment_id'], time.time() - start))"
   ]
  },
  {
   "cell_type": "code",
   "execution_count": 4,
   "metadata": {},
   "outputs": [
    {
     "name": "stdout",
     "output_type": "stream",
     "text": [
      "648518346349500049\n",
      "Segment 648518346349500049 vertex labels regenerated in: 0.2960648536682129 seconds.\n",
      "648518346349500139\n",
      "Segment 648518346349500139 vertex labels regenerated in: 0.27749061584472656 seconds.\n",
      "648518346349500162\n",
      "Segment 648518346349500162 vertex labels regenerated in: 0.2881183624267578 seconds.\n",
      "648518346349500440\n",
      "Segment 648518346349500440 vertex labels regenerated in: 0.31190943717956543 seconds.\n",
      "648518346349500657\n",
      "Segment 648518346349500657 vertex labels regenerated in: 0.33080053329467773 seconds.\n",
      "648518346349500886\n",
      "Segment 648518346349500886 vertex labels regenerated in: 0.2610037326812744 seconds.\n",
      "648518346349501216\n",
      "Segment 648518346349501216 vertex labels regenerated in: 0.3052222728729248 seconds.\n",
      "648518346349501597\n",
      "Segment 648518346349501597 vertex labels regenerated in: 0.2705991268157959 seconds.\n",
      "648518346349501787\n",
      "Segment 648518346349501787 vertex labels regenerated in: 0.7156996726989746 seconds.\n",
      "648518346349503591\n",
      "Segment 648518346349503591 vertex labels regenerated in: 0.2479383945465088 seconds.\n",
      "648518346349503924\n",
      "Segment 648518346349503924 vertex labels regenerated in: 0.3876500129699707 seconds.\n",
      "648518346349504565\n",
      "Segment 648518346349504565 vertex labels regenerated in: 0.37782979011535645 seconds.\n",
      "648518346349504955\n",
      "Segment 648518346349504955 vertex labels regenerated in: 0.31183695793151855 seconds.\n",
      "648518346349505450\n",
      "Segment 648518346349505450 vertex labels regenerated in: 0.3204343318939209 seconds.\n",
      "648518346349505696\n",
      "Segment 648518346349505696 vertex labels regenerated in: 0.315310001373291 seconds.\n",
      "648518346349505911\n",
      "Segment 648518346349505911 vertex labels regenerated in: 0.38137197494506836 seconds.\n",
      "648518346349506684\n",
      "Segment 648518346349506684 vertex labels regenerated in: 0.388291597366333 seconds.\n",
      "648518346349506808\n",
      "Segment 648518346349506808 vertex labels regenerated in: 0.5965228080749512 seconds.\n",
      "648518346349507537\n",
      "Segment 648518346349507537 vertex labels regenerated in: 0.47721076011657715 seconds.\n",
      "648518346349508390\n",
      "Segment 648518346349508390 vertex labels regenerated in: 0.467130184173584 seconds.\n",
      "648518346349509112\n",
      "Segment 648518346349509112 vertex labels regenerated in: 0.38964295387268066 seconds.\n",
      "648518346349509347\n",
      "Segment 648518346349509347 vertex labels regenerated in: 0.32652807235717773 seconds.\n",
      "648518346349509487\n",
      "Segment 648518346349509487 vertex labels regenerated in: 0.27602243423461914 seconds.\n",
      "648518346349509523\n",
      "Segment 648518346349509523 vertex labels regenerated in: 0.3600461483001709 seconds.\n",
      "648518346349510951\n",
      "Segment 648518346349510951 vertex labels regenerated in: 0.5691304206848145 seconds.\n",
      "648518346349511480\n",
      "Segment 648518346349511480 vertex labels regenerated in: 0.7408335208892822 seconds.\n",
      "648518346349511823\n",
      "Segment 648518346349511823 vertex labels regenerated in: 0.9145426750183105 seconds.\n",
      "648518346349512870\n",
      "Segment 648518346349512870 vertex labels regenerated in: 0.5415709018707275 seconds.\n",
      "648518346349513410\n",
      "Segment 648518346349513410 vertex labels regenerated in: 0.8346676826477051 seconds.\n",
      "15.755218029022217\n"
     ]
    }
   ],
   "source": [
    "start = time.time()\n",
    "LeftoverCoarseLabelFinal.populate(reserve_jobs=True)\n",
    "print(time.time() - start)"
   ]
  },
  {
   "cell_type": "code",
   "execution_count": 5,
   "metadata": {},
   "outputs": [],
   "source": [
    "#(schema.jobs & \"table_name='__coarse_label_final'\").delete()"
   ]
  },
  {
   "cell_type": "code",
   "execution_count": null,
   "metadata": {},
   "outputs": [],
   "source": []
  }
 ],
 "metadata": {
  "kernelspec": {
   "display_name": "Python 3",
   "language": "python",
   "name": "python3"
  },
  "language_info": {
   "codemirror_mode": {
    "name": "ipython",
    "version": 3
   },
   "file_extension": ".py",
   "mimetype": "text/x-python",
   "name": "python",
   "nbconvert_exporter": "python",
   "pygments_lexer": "ipython3",
   "version": "3.6.5"
  }
 },
 "nbformat": 4,
 "nbformat_minor": 2
}
