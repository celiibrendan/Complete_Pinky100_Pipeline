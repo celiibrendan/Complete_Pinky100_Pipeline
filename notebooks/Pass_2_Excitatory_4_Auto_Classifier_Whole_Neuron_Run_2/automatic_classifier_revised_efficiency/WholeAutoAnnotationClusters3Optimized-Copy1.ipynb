{
 "cells": [
  {
   "cell_type": "code",
   "execution_count": null,
   "metadata": {},
   "outputs": [],
   "source": [
    "from OPTIMIZED_whole_neuron_classifier_datajoint_adapted import extract_branches_whole_neuron\n",
    "import datajoint as dj\n",
    "import numpy as np\n",
    "import datajoint as dj\n",
    "import trimesh\n",
    "import time\n",
    "\n",
    "import numpy as np\n",
    "import matplotlib.pyplot as plt\n",
    "from sklearn.metrics import confusion_matrix\n",
    "\n",
    "from sklearn.utils.multiclass import unique_labels\n"
   ]
  },
  {
   "cell_type": "code",
   "execution_count": null,
   "metadata": {},
   "outputs": [],
   "source": [
    "dj.config['database.host'] = '10.28.0.34'\n",
    "dj.config['database.user'] = 'celiib'\n",
    "dj.config['database.password'] = 'newceliipass'\n",
    "dj.config[\"display.limit\"] = 20\n",
    "    \n",
    "#schema = dj.schema('microns_ta3p100')\n",
    "#ta3p100 = dj.create_virtual_module('ta3p100', 'microns_ta3p100')\n",
    "schema = dj.schema(\"microns_pinky\")\n",
    "pinky = dj.create_virtual_module(\"pinky\",\"microns_pinky\")\n"
   ]
  },
  {
   "cell_type": "code",
   "execution_count": null,
   "metadata": {},
   "outputs": [],
   "source": [
    "#pinky.WholeAutoAnnotationsClusters3Optimized.drop()"
   ]
  },
  {
   "cell_type": "code",
   "execution_count": null,
   "metadata": {},
   "outputs": [],
   "source": [
    "pinky.PymeshfixDecimatedExcitatoryStitchedMesh()"
   ]
  },
  {
   "cell_type": "code",
   "execution_count": null,
   "metadata": {},
   "outputs": [],
   "source": [
    "@schema\n",
    "class WholeAutoAnnotationsClusters3Optimized(dj.Computed):\n",
    "    definition = \"\"\"\n",
    "    # creates the labels for the mesh table\n",
    "    -> pinky.PymeshfixDecimatedExcitatoryStitchedMesh\n",
    "    ---\n",
    "    vertices   : longblob     # label data for the vertices\n",
    "    triangles  : longblob     # label data for the faces\n",
    "    apical_perc : decimal(3,2) #proportion of true apicals correctly classified\n",
    "    basal_perc : decimal(3,2) #proportion of true basal correctly classified\n",
    "    oblique_perc : decimal(3,2) #proportion of true oblique correctly classified\n",
    "    soma_perc : decimal(3,2) #proportion of true soma correctly classified\n",
    "    axon_soma_perc : decimal(3,2) #proportion of true axon somas correctly classified\n",
    "    axon_dendrite_perc : decimal(3,2) #proportion of true axon dendrite correctly classified\n",
    "    dendrite_perc : decimal(3,2) #proportion of true dendrite correctly classified\n",
    "    error_perc : decimal(3,2) #proportion of true error correctly classified\n",
    "    unlabelable_perc : decimal(3,2) #proportion of true unlabelable correctly classified\n",
    "    cilia_perc : decimal(3,2) #proportion of true cilia correctly classified\n",
    "    unknown_perc: decimal(3,2) #proportion of true unknown correctly classified\n",
    "    confusion_matrix : longblob #the confusion matrix for the classifier\n",
    "    \"\"\"\n",
    "    #key_source = pinky.PymeshfixDecimatedExcitatoryStitchedMesh & [dict(segment_id=k) for k in [648518346349478700,648518346349485870,648518346349473813,648518346349475510,648518346349473597]]\n",
    "    \n",
    "    def make(self, key):\n",
    "        start_time = time.time()\n",
    "        \n",
    "        print(\"\\n\\n*****Starting Auto Labeling for \" + str(key[\"segment_id\"]) + \"******\")\n",
    "        \n",
    "        segment_id = key[\"segment_id\"]\n",
    "\n",
    "        #get the vertices and faces from datajoint\n",
    "        # get the newly stitched mesh\n",
    "        # get the original mesh\n",
    "\n",
    "        \n",
    "        verts,faces = (pinky.PymeshfixDecimatedExcitatoryStitchedMesh() & key).fetch1(\"vertices\",\"triangles\")\n",
    "\n",
    "#         cgal_location = \"/notebooks/Pass_2_Excitatory_4_Auto_Classifier_Whole_Neuron_Run_2/automatic_classifier_revised_efficiency/temp/\"\n",
    "#         cgal_file_sdf = str(key[\"segment_id\"]) + \"_fixed-cgal_3_0.20_sdf.csv\"\n",
    "#         cgal_file_seg = str(key[\"segment_id\"]) + \"_fixed-cgal_3_0.20.csv\"\n",
    "\n",
    "\n",
    "        #run the whole algorithm on the neuron to test\n",
    "        verts_labels, faces_labels = extract_branches_whole_neuron(import_Off_Flag=False,segment_id=segment_id,vertices=verts,\n",
    "                             triangles=faces,pymeshfix_Flag=False,\n",
    "                             import_CGAL_Flag=False,\n",
    "                             #import_CGAL_paths = [cgal_location + cgal_file_seg,\n",
    "                             #                    cgal_location + cgal_file_sdf],\n",
    "                             return_Only_Labels=True,\n",
    "                             clusters=3,\n",
    "                             smoothness=0.2)\n",
    "        \n",
    "        \n",
    "        #calculate the confusion matrix of this classification ---------------------------\n",
    "        \n",
    "        actual_labels = (pinky.ProofreadLabel & key).fetch1(\"triangles\")\n",
    "        \n",
    "        Label_key_data = pinky.LabelKey.fetch(as_dict=True)\n",
    "        kept_data = Label_key_data[2:9] + Label_key_data[10:13]\n",
    "\n",
    "        classes = [k[\"description\"] for k in kept_data]\n",
    "        cm_labels = [k[\"numeric\"] for k in kept_data]\n",
    "        classes.append(\"unknown\")\n",
    "        cm_labels.append(13)\n",
    "        \n",
    "        #compute normalized confusion matrix\n",
    "        cm = confusion_matrix(actual_labels, faces_labels,labels=cm_labels)\n",
    "        cm = cm.astype('float') / cm.sum(axis=1)[:, np.newaxis]\n",
    "    \n",
    "        \n",
    "        # --------------------------------------------------------------------------------\n",
    "        \n",
    "        #create a dictionary that has all of the classification accuracies and the confusion matrix\n",
    "        apical_perc = cm[0,0]\n",
    "        basal_perc = cm[1,1]\n",
    "        oblique_perc = cm[2,2]\n",
    "        soma_perc = cm[3,3]\n",
    "        axon_soma_perc = cm[4,4]\n",
    "        axon_dendrite_perc = cm[5,5]\n",
    "        dendrite_perc = cm[6,6]\n",
    "        error_perc = cm[7,7]\n",
    "        unlabelable_perc = cm[8,8]\n",
    "        cilia_perc = cm[9,9]\n",
    "        unknown_perc = cm[10,10]\n",
    "        \n",
    "        \n",
    "        \n",
    "        new_key = dict(\n",
    "                  apical_perc=apical_perc,\n",
    "                  basal_perc=basal_perc,\n",
    "                  oblique_perc=oblique_perc,\n",
    "                  soma_perc=soma_perc,\n",
    "                  axon_soma_perc=axon_soma_perc,\n",
    "                  axon_dendrite_perc=axon_dendrite_perc,\n",
    "                  dendrite_perc=dendrite_perc,\n",
    "                  error_perc=error_perc,\n",
    "                  unlabelable_perc=unlabelable_perc,\n",
    "                  cilia_perc=cilia_perc,\n",
    "                  unknown_perc=unknown_perc)\n",
    "        \n",
    "        for k,i in new_key.items():\n",
    "            if np.isnan(i):\n",
    "                new_key[k] = -1\n",
    "\n",
    "        new_key.update(key)\n",
    "        \n",
    "        new_key[\"confusion_matrix\"] = cm\n",
    "        new_key[\"vertices\"]=verts_labels,\n",
    "        new_key[\"triangles\"]=faces_labels\n",
    "        \n",
    "        #insert the key\n",
    "        self.insert1(new_key,skip_duplicates=True)\n",
    "\n",
    "\n",
    "        \n",
    "        print(f\"Finished Auto Labeling: {time.time() - start_time}\")\n",
    "        "
   ]
  },
  {
   "cell_type": "code",
   "execution_count": null,
   "metadata": {},
   "outputs": [],
   "source": [
    "#(schema.jobs & \"table_name='__whole_auto_annotations_clusters3_optimized'\").delete()"
   ]
  },
  {
   "cell_type": "code",
   "execution_count": null,
   "metadata": {},
   "outputs": [],
   "source": [
    "start = time.time()\n",
    "WholeAutoAnnotationsClusters3Optimized.populate(reserve_jobs=True)\n",
    "print(time.time() - start)"
   ]
  },
  {
   "cell_type": "code",
   "execution_count": null,
   "metadata": {},
   "outputs": [],
   "source": [
    "#(schema.jobs & \"table_name='__whole_auto_annotations_clusters3'\").delete()"
   ]
  },
  {
   "cell_type": "code",
   "execution_count": null,
   "metadata": {},
   "outputs": [],
   "source": [
    "#schema.jobs"
   ]
  },
  {
   "cell_type": "code",
   "execution_count": null,
   "metadata": {},
   "outputs": [],
   "source": [
    "WholeAutoAnnotationsClusters3Optimized()"
   ]
  },
  {
   "cell_type": "code",
   "execution_count": null,
   "metadata": {},
   "outputs": [],
   "source": []
  }
 ],
 "metadata": {
  "kernelspec": {
   "display_name": "Python 3",
   "language": "python",
   "name": "python3"
  },
  "language_info": {
   "codemirror_mode": {
    "name": "ipython",
    "version": 3
   },
   "file_extension": ".py",
   "mimetype": "text/x-python",
   "name": "python",
   "nbconvert_exporter": "python",
   "pygments_lexer": "ipython3",
   "version": "3.6.8"
  }
 },
 "nbformat": 4,
 "nbformat_minor": 4
}
