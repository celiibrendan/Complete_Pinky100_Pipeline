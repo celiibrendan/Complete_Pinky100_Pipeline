{
 "cells": [
  {
   "cell_type": "code",
   "execution_count": 1,
   "metadata": {},
   "outputs": [],
   "source": [
    "#From the following library: https://github.com/3DLIRIOUS/MeshLabXML"
   ]
  },
  {
   "cell_type": "code",
   "execution_count": 2,
   "metadata": {},
   "outputs": [],
   "source": [
    "path_to_meshlab = \"/Applications/meshlab.app/Contents/MacOS\""
   ]
  },
  {
   "cell_type": "code",
   "execution_count": 3,
   "metadata": {},
   "outputs": [],
   "source": [
    "import os\n",
    "\n",
    "meshlabserver_path = path_to_meshlab\n",
    "os.environ['PATH'] = meshlabserver_path + os.pathsep + os.environ['PATH']"
   ]
  },
  {
   "cell_type": "code",
   "execution_count": null,
   "metadata": {},
   "outputs": [
    {
     "name": "stdout",
     "output_type": "stream",
     "text": [
      "meshlabserver cmd = meshlabserver -i \"/Users/brendancelii/Google Drive/Xaq Lab/Pinky_100_Final/notebooks/Skeletonization/tmp1rsros4u.xyz\" -o \"orange_cube.ply\" -m vc vn wt -s \"/var/folders/k5/vh82c4sn2s5g7g8f3w3r2sym0000gn/T/tmp2w5t7u2e.mlx\"\n",
      "***START OF MESHLAB STDOUT & STDERR***\n",
      "\n",
      "Houston, we have a problem. \n",
      "MeshLab did not finish successfully. Review the log file and the input file(s) to see what went wrong.\n",
      "MeshLab command: \"meshlabserver -i \"/Users/brendancelii/Google Drive/Xaq Lab/Pinky_100_Final/notebooks/Skeletonization/tmp1rsros4u.xyz\" -o \"orange_cube.ply\" -m vc vn wt -s \"/var/folders/k5/vh82c4sn2s5g7g8f3w3r2sym0000gn/T/tmp2w5t7u2e.mlx\"\"\n",
      "Where do we go from here?\n",
      " r  - retry running MeshLab (probably after you've fixed any problems with the input files)\n",
      " c  - continue on with the script (probably after you've manually re-run and generated the desired output file(s)\n",
      " x  - exit, keeping the TEMP3D files and log\n",
      " xd - exit, deleting the TEMP3D files and log\n"
     ]
    }
   ],
   "source": [
    "import meshlabxml as mlx\n",
    "\n",
    "orange_cube = mlx.FilterScript(file_out='orange_cube.ply', ml_version='2016.12')\n",
    "mlx.create.cube(orange_cube, size=[3.0, 4.0, 5.0], center=True, color='orange')\n",
    "mlx.transform.rotate(orange_cube, axis='x', angle=45)\n",
    "mlx.transform.rotate(orange_cube, axis='y', angle=45)\n",
    "mlx.transform.translate(orange_cube, value=[0, 5.0, 0])\n",
    "orange_cube.run_script()"
   ]
  },
  {
   "cell_type": "code",
   "execution_count": null,
   "metadata": {},
   "outputs": [],
   "source": []
  }
 ],
 "metadata": {
  "kernelspec": {
   "display_name": "Python 3.7",
   "language": "python",
   "name": "myenv"
  },
  "language_info": {
   "codemirror_mode": {
    "name": "ipython",
    "version": 3
   },
   "file_extension": ".py",
   "mimetype": "text/x-python",
   "name": "python",
   "nbconvert_exporter": "python",
   "pygments_lexer": "ipython3",
   "version": "3.7.0"
  }
 },
 "nbformat": 4,
 "nbformat_minor": 2
}
