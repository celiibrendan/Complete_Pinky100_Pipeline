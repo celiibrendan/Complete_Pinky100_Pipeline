{
 "cells": [
  {
   "cell_type": "code",
   "execution_count": null,
   "metadata": {},
   "outputs": [],
   "source": [
    "\"\"\"\n",
    "Things that could happen to segments: \n",
    "a) could be maintained\n",
    "b) added\n",
    "c) subtracted\n",
    "\n",
    "Pseudocode:\n",
    "1) Get the latest version of that neuron\n",
    "2) If that version is not already in the table for editing:\n",
    "a. Pull the previous version's annotations --> if none then just make those labels blank\n",
    "b. If have previous versions: \n",
    "    i. Get the old mesh and labels\n",
    "    ii. Get subset of the new mesh that are inside of the labels for the old mesh (base_layer_mesh)\n",
    "    iii. Map the labels onto the base_layer_mesh using KDTree\n",
    "    vi. Add on the segments not added yet and add blank labels for those\n",
    "3) Write the new labels and mesh to the annotations table\n",
    "\n",
    "**Things need to make sure of**\n",
    "Always pulls the newest version of the neuron to edit\n",
    "\n",
    "\"\"\""
   ]
  }
 ],
 "metadata": {
  "kernelspec": {
   "display_name": "Python 3",
   "language": "python",
   "name": "python3"
  },
  "language_info": {
   "codemirror_mode": {
    "name": "ipython",
    "version": 3
   },
   "file_extension": ".py",
   "mimetype": "text/x-python",
   "name": "python",
   "nbconvert_exporter": "python",
   "pygments_lexer": "ipython3",
   "version": "3.6.8"
  }
 },
 "nbformat": 4,
 "nbformat_minor": 4
}
