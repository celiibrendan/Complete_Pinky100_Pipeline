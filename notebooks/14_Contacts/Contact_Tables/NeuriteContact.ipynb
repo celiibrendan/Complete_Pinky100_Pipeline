{
 "cells": [
  {
   "cell_type": "code",
   "execution_count": 1,
   "metadata": {},
   "outputs": [
    {
     "data": {
      "text/plain": [
       "'\\nGoal of this table:\\nFor each presyn:\\n\\nWants for each of the major categories: [total, apical, basal, \\noblique, soma, axon, dendrite]\\n\\nWants stats on the major categories: \\n[n_contacts, contact_proportion, contact_length, \\nproportion_contact_length, contact_conversion,contact_density]\\n\\nWhat neuriteTargets has:\\nAll major compartments,\\nsynapse num, proportion  \\nand spine proportions\\n\\n'"
      ]
     },
     "execution_count": 1,
     "metadata": {},
     "output_type": "execute_result"
    }
   ],
   "source": [
    "\"\"\"\n",
    "Goal of this table:\n",
    "For each presyn:\n",
    "\n",
    "Wants for each of the major categories: [total, apical, basal, \n",
    "oblique, soma, axon, dendrite]\n",
    "\n",
    "Wants stats on the major categories: \n",
    "[n_contacts, contact_proportion, contact_length, \n",
    "proportion_contact_length, contact_conversion,contact_density]\n",
    "\n",
    "What neuriteTargets has:\n",
    "All major compartments,\n",
    "synapse num, proportion  \n",
    "and spine proportions\n",
    "\n",
    "\"\"\""
   ]
  },
  {
   "cell_type": "code",
   "execution_count": 2,
   "metadata": {},
   "outputs": [],
   "source": [
    "import datajoint as dj\n",
    "import numpy as np\n",
    "import time"
   ]
  },
  {
   "cell_type": "code",
   "execution_count": 3,
   "metadata": {},
   "outputs": [
    {
     "name": "stdout",
     "output_type": "stream",
     "text": [
      "Connecting celiib@10.28.0.34:3306\n"
     ]
    }
   ],
   "source": [
    "ta3p100 = dj.create_virtual_module(\"ta3p100\",\"microns_ta3p100\")\n",
    "schema = dj.schema(\"microns_ta3p100\")"
   ]
  },
  {
   "cell_type": "markdown",
   "metadata": {},
   "source": [
    "# AUTOMATICALLY CREATING THE TABLE"
   ]
  },
  {
   "cell_type": "code",
   "execution_count": null,
   "metadata": {},
   "outputs": [],
   "source": [
    "compartment_type = {\n",
    "\"apical\":2,\n",
    "\"basal\":3,\n",
    "\"oblique\":4,\n",
    "\"soma\":5,\n",
    "\"axon\":7,\n",
    "\"dendrites\":8\n",
    "}\n",
    "#ones not doing:   \"total\":, \"axon\":\n",
    "\n",
    "\n",
    "# apical_n_contacts= \"sum(compartment_label=2)\",\n",
    "# apical_contact_prop = \"sum(compartment_label=2)/count(*)\",\n",
    "# apical_contact_length = \"sum( contact_postsyn_length * (compartment_label=2))\",\n",
    "# apical_contact_length_prop = \"if(sum(compartment_label=2)=0,null,sum( contact_postsyn_length * (compartment_label=2))/sum(contact_postsyn_length))\",\n",
    "# apical_contact_conversion= \"if(sum(compartment_label=2)=0,null,sum( n_synapses * (compartment_label=2))/sum(compartment_label=2))\",\n",
    "# apical_contact_density= \"if(sum( contact_postsyn_length * (compartment_label=2))=0,null,sum( n_synapses * (compartment_label=2))/sum( contact_postsyn_length * (compartment_label=2)))\",\n",
    "\n",
    "\n",
    "data_type = {\n",
    "    \"n_contacts\":[\"bigint unsigned\",\"number of contacts\",\"sum(majority_label=\",\")\"],\n",
    "    \"n_contacts_prop\":[\"float\",\"proportion of number of contacts\",\"sum(majority_label=\",\")/count(*)\"],\n",
    "    \"postsyn_length\":[\"bigint unsigned\",\"total postsynaptic contact length\",\"sum( postsyn_length * (majority_label=\",\"))\"],\n",
    "    \"postsyn_length_prop\":[\"float\",\"total postsynaptic contact length\",\n",
    "                           \"if(sum(majority_label=\",\")=0,0,\",\"sum( postsyn_length * (majority_label=\",\"))/sum(postsyn_length))\"],\n",
    "    \"contact_conversion\":[\"float\",\"synapse to contact ratio\",\"if(sum(majority_label=\",\")=0,null,\",\"sum( n_synapses * (majority_label=\",\"))\"\n",
    "                          ,\"/sum(majority_label=\",\"))\"],\n",
    "    \"contact_density\":[\"float\",\"synapse to contact length ratio\",\"if(sum( postsyn_length * (majority_label=\",\"))=0,null,\"\n",
    "                       ,\"sum( n_synapses * (majority_label=\",\"))/\",\n",
    "                      \"sum( postsyn_length * (majority_label=\",\")))\"],\n",
    "    \"n_synapses\":[\"bigint unsigned\",\"total number of synapses for neurite\",\n",
    "                 \"sum(n_synapses * (majority_label=\",\"))\"],\n",
    "     \"synapse_sizes_mean\":[\"float\",\"average synaptic size\",\"if(sum(n_synapses * (majority_label=\",\"))=0,0,\",\"sum((n_synapses * (majority_label=\",\"))\",\"*synapse_sizes_mean*(majority_label=\",\"))\",\n",
    "                                          \"/sum(n_synapses * (majority_label=\",\")))\"]\n",
    "}\n",
    "\n",
    "\n",
    "# synapses = sum(n_synapses)\n",
    "# contacts = count(*)\n",
    "# contact_conversion = sum(n_synapses)/count(*)\n",
    "# contact_density = sum(n_synapses)/sum(post_syn length)\n",
    "    \n",
    "    #genereate the table header\n",
    "\n",
    "extra_headers = [\"total\"]\n",
    "for c in extra_headers + list(compartment_type.keys()) :\n",
    "    for keys,values in data_type.items():\n",
    "        if values[0] != \"float\":\n",
    "            print(str(c) + \"_\" + str(keys) + \"   :\" + str(values[0]) + \" #\" + str(c) + \" \" + str(values[1]))\n",
    "        else:\n",
    "            print(str(c) + \"_\" + str(keys) + \"=null   :\" + str(values[0]) + \" #\" + str(c) + \" \" + str(values[1]))\n",
    "        \n",
    "print(\"\\n\\n\")\n",
    "\n",
    "\n",
    "\n",
    "for keys_comp,values_comp in compartment_type.items():\n",
    "    print(\"\")\n",
    "    for keys_data,values_data in data_type.items():\n",
    "        base_string = str(keys_comp) + \"_\" + str(keys_data) + \"= \" \n",
    "        \n",
    "        start_counter = 2\n",
    "        rounds = (len(values_data)-2)/2\n",
    "        base_string += '\"'\n",
    "        for i in range(0,int(rounds)):\n",
    "            if keys_comp != \"axon\":\n",
    "                base_string += values_data[start_counter] + str(values_comp) + values_data[start_counter + 1]\n",
    "            else:\n",
    "                base_string += values_data[start_counter] + \"6 OR majority_label=7\" + values_data[start_counter + 1]\n",
    "            \n",
    "            start_counter +=2\n",
    "        base_string += '\",'\n",
    "        print(base_string)"
   ]
  },
  {
   "cell_type": "code",
   "execution_count": 6,
   "metadata": {},
   "outputs": [
    {
     "name": "stdout",
     "output_type": "stream",
     "text": [
      "`microns_ta3p100`.`__neurite_contact2` (32221 tuples)\n"
     ]
    },
    {
     "name": "stdin",
     "output_type": "stream",
     "text": [
      "Proceed? [yes, No]:  yes\n"
     ]
    },
    {
     "name": "stdout",
     "output_type": "stream",
     "text": [
      "Tables dropped.  Restart kernel.\n"
     ]
    }
   ],
   "source": [
    "ta3p100.NeuriteContact2.drop()"
   ]
  },
  {
   "cell_type": "code",
   "execution_count": 7,
   "metadata": {},
   "outputs": [],
   "source": [
    "labels_to_keep = [2,3,4,5,6,7,8]\n",
    "\n",
    "@schema\n",
    "class NeuriteContact(dj.Computed):\n",
    "    definition=\"\"\"\n",
    "    -> ta3p100.Segment\n",
    "        ---\n",
    "    total_n_contacts   :bigint unsigned #total number of contacts\n",
    "    total_postsyn_length   :bigint unsigned #total total postsynaptic contact length\n",
    "    total_contact_conversion=null   :float #total synapse to contact ratio\n",
    "    total_contact_density=null   :float #total synapse to contact length ratio\n",
    "    total_n_synapses   :bigint unsigned #total total number of synapses for neurite\n",
    "    total_synapse_sizes_mean=null   :float #total average synaptic size\n",
    "    apical_n_contacts   :bigint unsigned #apical number of contacts\n",
    "    apical_n_contacts_prop=null   :float #apical proportion of number of contacts\n",
    "    apical_postsyn_length   :bigint unsigned #apical total postsynaptic contact length\n",
    "    apical_postsyn_length_prop=null   :float #apical total postsynaptic contact length\n",
    "    apical_contact_conversion=null   :float #apical synapse to contact ratio\n",
    "    apical_contact_density=null   :float #apical synapse to contact length ratio\n",
    "    apical_n_synapses   :bigint unsigned #apical total number of synapses for neurite\n",
    "    apical_synapse_sizes_mean=null   :float #apical average synaptic size\n",
    "    basal_n_contacts   :bigint unsigned #basal number of contacts\n",
    "    basal_n_contacts_prop=null   :float #basal proportion of number of contacts\n",
    "    basal_postsyn_length   :bigint unsigned #basal total postsynaptic contact length\n",
    "    basal_postsyn_length_prop=null   :float #basal total postsynaptic contact length\n",
    "    basal_contact_conversion=null   :float #basal synapse to contact ratio\n",
    "    basal_contact_density=null   :float #basal synapse to contact length ratio\n",
    "    basal_n_synapses   :bigint unsigned #basal total number of synapses for neurite\n",
    "    basal_synapse_sizes_mean=null   :float #basal average synaptic size\n",
    "    oblique_n_contacts   :bigint unsigned #oblique number of contacts\n",
    "    oblique_n_contacts_prop=null   :float #oblique proportion of number of contacts\n",
    "    oblique_postsyn_length   :bigint unsigned #oblique total postsynaptic contact length\n",
    "    oblique_postsyn_length_prop=null   :float #oblique total postsynaptic contact length\n",
    "    oblique_contact_conversion=null   :float #oblique synapse to contact ratio\n",
    "    oblique_contact_density=null   :float #oblique synapse to contact length ratio\n",
    "    oblique_n_synapses   :bigint unsigned #oblique total number of synapses for neurite\n",
    "    oblique_synapse_sizes_mean=null   :float #oblique average synaptic size\n",
    "    soma_n_contacts   :bigint unsigned #soma number of contacts\n",
    "    soma_n_contacts_prop=null   :float #soma proportion of number of contacts\n",
    "    soma_postsyn_length   :bigint unsigned #soma total postsynaptic contact length\n",
    "    soma_postsyn_length_prop=null   :float #soma total postsynaptic contact length\n",
    "    soma_contact_conversion=null   :float #soma synapse to contact ratio\n",
    "    soma_contact_density=null   :float #soma synapse to contact length ratio\n",
    "    soma_n_synapses   :bigint unsigned #soma total number of synapses for neurite\n",
    "    soma_synapse_sizes_mean=null   :float #soma average synaptic size\n",
    "    axon_n_contacts   :bigint unsigned #axon number of contacts\n",
    "    axon_n_contacts_prop=null   :float #axon proportion of number of contacts\n",
    "    axon_postsyn_length   :bigint unsigned #axon total postsynaptic contact length\n",
    "    axon_postsyn_length_prop=null   :float #axon total postsynaptic contact length\n",
    "    axon_contact_conversion=null   :float #axon synapse to contact ratio\n",
    "    axon_contact_density=null   :float #axon synapse to contact length ratio\n",
    "    axon_n_synapses   :bigint unsigned #axon total number of synapses for neurite\n",
    "    axon_synapse_sizes_mean=null   :float #axon average synaptic size\n",
    "    dendrites_n_contacts   :bigint unsigned #dendrites number of contacts\n",
    "    dendrites_n_contacts_prop=null   :float #dendrites proportion of number of contacts\n",
    "    dendrites_postsyn_length   :bigint unsigned #dendrites total postsynaptic contact length\n",
    "    dendrites_postsyn_length_prop=null   :float #dendrites total postsynaptic contact length\n",
    "    dendrites_contact_conversion=null   :float #dendrites synapse to contact ratio\n",
    "    dendrites_contact_density=null   :float #dendrites synapse to contact length ratio\n",
    "    dendrites_n_synapses   :bigint unsigned #dendrites total number of synapses for neurite\n",
    "    dendrites_synapse_sizes_mean=null   :float #dendrites average synaptic size\n",
    "\n",
    "    \"\"\"\n",
    "    \n",
    "    key_source = ta3p100.Segmentation & ta3p100.CurrentSegmentation\n",
    "    \n",
    "    \n",
    "    def make(self,key):\n",
    "\n",
    "        contact_pre_post = dj.U(\"segmentation\",\"segment_id\").aggr(\n",
    "            ta3p100.Contact.proj(\"postsyn\",\"postsyn_length\",\"n_synapses\",\"majority_label\",\"synapse_sizes_mean\",segment_id=\"presyn\")\n",
    "            & [dict(majority_label=x) for x in labels_to_keep],\n",
    "\n",
    "            \n",
    "            total_n_contacts= \"count(*)\",\n",
    "            total_postsyn_length= \"sum(postsyn_length)\",\n",
    "            total_contact_conversion= \"sum( n_synapses )/count(*)\",\n",
    "            total_contact_density= \"sum( n_synapses )/sum(postsyn_length)\",\n",
    "            total_n_synapses= \"sum(n_synapses)\",\n",
    "            total_synapse_sizes_mean= \"if(sum(n_synapses)=0,0,sum(n_synapses*synapse_sizes_mean)/sum(n_synapses))\",\n",
    "\n",
    "\n",
    "            apical_n_contacts= \"sum(majority_label=2)\",\n",
    "            apical_n_contacts_prop= \"sum(majority_label=2)/count(*)\",\n",
    "            apical_postsyn_length= \"sum( postsyn_length * (majority_label=2))\",\n",
    "            apical_postsyn_length_prop= \"if(sum(majority_label=2)=0,0,sum( postsyn_length * (majority_label=2))/sum(postsyn_length))\",\n",
    "            apical_contact_conversion= \"if(sum(majority_label=2)=0,null,sum( n_synapses * (majority_label=2))/sum(majority_label=2))\",\n",
    "            apical_contact_density= \"if(sum( postsyn_length * (majority_label=2))=0,null,sum( n_synapses * (majority_label=2))/sum( postsyn_length * (majority_label=2)))\",\n",
    "            apical_n_synapses= \"sum(n_synapses * (majority_label=2))\",\n",
    "            apical_synapse_sizes_mean= \"if(sum(n_synapses * (majority_label=2))=0,0,sum((n_synapses * (majority_label=2))*synapse_sizes_mean*(majority_label=2))/sum(n_synapses * (majority_label=2)))\",\n",
    "\n",
    "            basal_n_contacts= \"sum(majority_label=3)\",\n",
    "            basal_n_contacts_prop= \"sum(majority_label=3)/count(*)\",\n",
    "            basal_postsyn_length= \"sum( postsyn_length * (majority_label=3))\",\n",
    "            basal_postsyn_length_prop= \"if(sum(majority_label=3)=0,0,sum( postsyn_length * (majority_label=3))/sum(postsyn_length))\",\n",
    "            basal_contact_conversion= \"if(sum(majority_label=3)=0,null,sum( n_synapses * (majority_label=3))/sum(majority_label=3))\",\n",
    "            basal_contact_density= \"if(sum( postsyn_length * (majority_label=3))=0,null,sum( n_synapses * (majority_label=3))/sum( postsyn_length * (majority_label=3)))\",\n",
    "            basal_n_synapses= \"sum(n_synapses * (majority_label=3))\",\n",
    "            basal_synapse_sizes_mean= \"if(sum(n_synapses * (majority_label=3))=0,0,sum((n_synapses * (majority_label=3))*synapse_sizes_mean*(majority_label=3))/sum(n_synapses * (majority_label=3)))\",\n",
    "\n",
    "            oblique_n_contacts= \"sum(majority_label=4)\",\n",
    "            oblique_n_contacts_prop= \"sum(majority_label=4)/count(*)\",\n",
    "            oblique_postsyn_length= \"sum( postsyn_length * (majority_label=4))\",\n",
    "            oblique_postsyn_length_prop= \"if(sum(majority_label=4)=0,0,sum( postsyn_length * (majority_label=4))/sum(postsyn_length))\",\n",
    "            oblique_contact_conversion= \"if(sum(majority_label=4)=0,null,sum( n_synapses * (majority_label=4))/sum(majority_label=4))\",\n",
    "            oblique_contact_density= \"if(sum( postsyn_length * (majority_label=4))=0,null,sum( n_synapses * (majority_label=4))/sum( postsyn_length * (majority_label=4)))\",\n",
    "            oblique_n_synapses= \"sum(n_synapses * (majority_label=4))\",\n",
    "            oblique_synapse_sizes_mean= \"if(sum(n_synapses * (majority_label=4))=0,0,sum((n_synapses * (majority_label=4))*synapse_sizes_mean*(majority_label=4))/sum(n_synapses * (majority_label=4)))\",\n",
    "\n",
    "            soma_n_contacts= \"sum(majority_label=5)\",\n",
    "            soma_n_contacts_prop= \"sum(majority_label=5)/count(*)\",\n",
    "            soma_postsyn_length= \"sum( postsyn_length * (majority_label=5))\",\n",
    "            soma_postsyn_length_prop= \"if(sum(majority_label=5)=0,0,sum( postsyn_length * (majority_label=5))/sum(postsyn_length))\",\n",
    "            soma_contact_conversion= \"if(sum(majority_label=5)=0,null,sum( n_synapses * (majority_label=5))/sum(majority_label=5))\",\n",
    "            soma_contact_density= \"if(sum( postsyn_length * (majority_label=5))=0,null,sum( n_synapses * (majority_label=5))/sum( postsyn_length * (majority_label=5)))\",\n",
    "            soma_n_synapses= \"sum(n_synapses * (majority_label=5))\",\n",
    "            soma_synapse_sizes_mean= \"if(sum(n_synapses * (majority_label=5))=0,0,sum((n_synapses * (majority_label=5))*synapse_sizes_mean*(majority_label=5))/sum(n_synapses * (majority_label=5)))\",\n",
    "\n",
    "            axon_n_contacts= \"sum(majority_label=6 OR majority_label=7)\",\n",
    "            axon_n_contacts_prop= \"sum(majority_label=6 OR majority_label=7)/count(*)\",\n",
    "            axon_postsyn_length= \"sum( postsyn_length * (majority_label=6 OR majority_label=7))\",\n",
    "            axon_postsyn_length_prop= \"if(sum(majority_label=6 OR majority_label=7)=0,0,sum( postsyn_length * (majority_label=6 OR majority_label=7))/sum(postsyn_length))\",\n",
    "            axon_contact_conversion= \"if(sum(majority_label=6 OR majority_label=7)=0,null,sum( n_synapses * (majority_label=6 OR majority_label=7))/sum(majority_label=6 OR majority_label=7))\",\n",
    "            axon_contact_density= \"if(sum( postsyn_length * (majority_label=6 OR majority_label=7))=0,null,sum( n_synapses * (majority_label=6 OR majority_label=7))/sum( postsyn_length * (majority_label=6 OR majority_label=7)))\",\n",
    "            axon_n_synapses= \"sum(n_synapses * (majority_label=6 OR majority_label=7))\",\n",
    "            axon_synapse_sizes_mean= \"if(sum(n_synapses * (majority_label=6 OR majority_label=7))=0,0,sum((n_synapses * (majority_label=6 OR majority_label=7))*synapse_sizes_mean*(majority_label=6 OR majority_label=7))/sum(n_synapses * (majority_label=6 OR majority_label=7)))\",\n",
    "\n",
    "            dendrites_n_contacts= \"sum(majority_label=8)\",\n",
    "            dendrites_n_contacts_prop= \"sum(majority_label=8)/count(*)\",\n",
    "            dendrites_postsyn_length= \"sum( postsyn_length * (majority_label=8))\",\n",
    "            dendrites_postsyn_length_prop= \"if(sum(majority_label=8)=0,0,sum( postsyn_length * (majority_label=8))/sum(postsyn_length))\",\n",
    "            dendrites_contact_conversion= \"if(sum(majority_label=8)=0,null,sum( n_synapses * (majority_label=8))/sum(majority_label=8))\",\n",
    "            dendrites_contact_density= \"if(sum( postsyn_length * (majority_label=8))=0,null,sum( n_synapses * (majority_label=8))/sum( postsyn_length * (majority_label=8)))\",\n",
    "            dendrites_n_synapses= \"sum(n_synapses * (majority_label=8))\",\n",
    "            dendrites_synapse_sizes_mean= \"if(sum(n_synapses * (majority_label=8))=0,0,sum((n_synapses * (majority_label=8))*synapse_sizes_mean*(majority_label=8))/sum(n_synapses * (majority_label=8)))\",    \n",
    "        )\n",
    "        \n",
    "        #print(contact_pre_post)\n",
    "        self.insert(contact_pre_post,skip_duplicates=True)\n",
    "            \n",
    "            \n",
    "            "
   ]
  },
  {
   "cell_type": "code",
   "execution_count": 8,
   "metadata": {},
   "outputs": [
    {
     "name": "stdout",
     "output_type": "stream",
     "text": [
      "Total time: 146.53036785125732\n"
     ]
    }
   ],
   "source": [
    "start_time = time.time()\n",
    "NeuriteContact.populate()\n",
    "print(f\"Total time: {time.time()-start_time}\")\n"
   ]
  },
  {
   "cell_type": "code",
   "execution_count": null,
   "metadata": {},
   "outputs": [],
   "source": []
  }
 ],
 "metadata": {
  "kernelspec": {
   "display_name": "Python 3",
   "language": "python",
   "name": "python3"
  },
  "language_info": {
   "codemirror_mode": {
    "name": "ipython",
    "version": 3
   },
   "file_extension": ".py",
   "mimetype": "text/x-python",
   "name": "python",
   "nbconvert_exporter": "python",
   "pygments_lexer": "ipython3",
   "version": "3.6.5"
  }
 },
 "nbformat": 4,
 "nbformat_minor": 2
}
